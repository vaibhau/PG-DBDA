{
  "nbformat": 4,
  "nbformat_minor": 0,
  "metadata": {
    "colab": {
      "provenance": []
    },
    "kernelspec": {
      "name": "python3",
      "display_name": "Python 3"
    },
    "language_info": {
      "name": "python"
    }
  },
  "cells": [
    {
      "cell_type": "code",
      "execution_count": null,
      "metadata": {
        "colab": {
          "base_uri": "https://localhost:8080/"
        },
        "id": "hxq_OzxZuBkl",
        "outputId": "1d534dc2-3b2f-49b1-97e4-fad825d7dfe1"
      },
      "outputs": [
        {
          "output_type": "stream",
          "name": "stdout",
          "text": [
            "*****\n",
            "*****\n",
            "*****\n",
            "*****\n",
            "*****\n"
          ]
        }
      ],
      "source": [
        "for i in range(5):\n",
        "  for j in range(5):\n",
        "    print('*', end=\"\")\n",
        "  print()"
      ]
    },
    {
      "cell_type": "code",
      "source": [
        "for i in range(5):\n",
        "  for j in range(i+1):\n",
        "    print('*', end=\"\")\n",
        "  print()"
      ],
      "metadata": {
        "colab": {
          "base_uri": "https://localhost:8080/"
        },
        "id": "spEbu5StuSnU",
        "outputId": "a58af875-5b4c-48c4-f977-5c57e7e5bf9a"
      },
      "execution_count": null,
      "outputs": [
        {
          "output_type": "stream",
          "name": "stdout",
          "text": [
            "*\n",
            "**\n",
            "***\n",
            "****\n",
            "*****\n"
          ]
        }
      ]
    },
    {
      "cell_type": "code",
      "source": [
        "for i in range(5,0,-1):\n",
        "  for j in range(i-1):\n",
        "    print('*',end=\"\")\n",
        "  print()"
      ],
      "metadata": {
        "id": "hc1n3rB9u1Y-",
        "colab": {
          "base_uri": "https://localhost:8080/"
        },
        "outputId": "dbe9c50d-f2ad-4a9e-bcb1-a020e226d394"
      },
      "execution_count": null,
      "outputs": [
        {
          "output_type": "stream",
          "name": "stdout",
          "text": [
            "****\n",
            "***\n",
            "**\n",
            "*\n",
            "\n"
          ]
        }
      ]
    },
    {
      "cell_type": "code",
      "source": [
        "a,b,c = 1,1,1\n",
        "print(\"Pattern 1 -->\")\n",
        "for i in range(5):\n",
        "  for j in range(5):\n",
        "    print(a, end=\" \")\n",
        "    a+=1\n",
        "  print()\n",
        "print()\n",
        "\n",
        "print(\"Pattern 2 -->\")\n",
        "for i in range(5):\n",
        "  for j in range(i+1):\n",
        "    print(b, end=\" \")\n",
        "    b+=1\n",
        "  print()\n",
        "print()\n",
        "\n",
        "print(\"Pattern 3 -->\")\n",
        "for i in range(5,0,-1):\n",
        "  for j in range(i-1):\n",
        "    print(c, end=\" \")\n",
        "    c+=1\n",
        "  print()"
      ],
      "metadata": {
        "id": "TQDtUpM6xdHD",
        "colab": {
          "base_uri": "https://localhost:8080/"
        },
        "outputId": "1414b1f0-94d6-4e46-91bd-c55bae1a9eee"
      },
      "execution_count": null,
      "outputs": [
        {
          "output_type": "stream",
          "name": "stdout",
          "text": [
            "Pattern 1 -->\n",
            "1 2 3 4 5 \n",
            "6 7 8 9 10 \n",
            "11 12 13 14 15 \n",
            "16 17 18 19 20 \n",
            "21 22 23 24 25 \n",
            "\n",
            "Pattern 2 -->\n",
            "1 \n",
            "2 3 \n",
            "4 5 6 \n",
            "7 8 9 10 \n",
            "11 12 13 14 15 \n",
            "\n",
            "Pattern 3 -->\n",
            "1 2 3 4 \n",
            "5 6 7 \n",
            "8 9 \n",
            "10 \n",
            "\n"
          ]
        }
      ]
    },
    {
      "cell_type": "code",
      "source": [
        "n=6\n",
        "for i in range(6,0,-1):\n",
        "  for s in range(n-i,0,-1):\n",
        "    print(end=\" \")\n",
        "  for j in range(i-1):\n",
        "    print('*', end=\" \")\n",
        "  print()"
      ],
      "metadata": {
        "colab": {
          "base_uri": "https://localhost:8080/"
        },
        "id": "-ZWj2D0_2Nbe",
        "outputId": "f7a99ee5-8200-4320-b0fd-dc77d1f972fb"
      },
      "execution_count": null,
      "outputs": [
        {
          "output_type": "stream",
          "name": "stdout",
          "text": [
            "* * * * * \n",
            " * * * * \n",
            "  * * * \n",
            "   * * \n",
            "    * \n",
            "     \n"
          ]
        }
      ]
    },
    {
      "cell_type": "code",
      "source": [
        "n=6\n",
        "k=2*n-2\n",
        "for i in range(0,5):\n",
        "  for s in range(0,k):\n",
        "    print(end=\" \")\n",
        "  k=k-2\n",
        "  for j in range(i+1):\n",
        "    print('*', end=\" \")\n",
        "  print()"
      ],
      "metadata": {
        "id": "9-UDDU0do-WL",
        "colab": {
          "base_uri": "https://localhost:8080/"
        },
        "outputId": "0a398754-ce94-4ec0-acf3-b252973e186f"
      },
      "execution_count": null,
      "outputs": [
        {
          "output_type": "stream",
          "name": "stdout",
          "text": [
            "          * \n",
            "        * * \n",
            "      * * * \n",
            "    * * * * \n",
            "  * * * * * \n"
          ]
        }
      ]
    },
    {
      "cell_type": "code",
      "source": [],
      "metadata": {
        "id": "HzDimL3CydWh"
      },
      "execution_count": null,
      "outputs": []
    }
  ]
}