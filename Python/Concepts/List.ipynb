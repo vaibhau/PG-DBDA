{
  "nbformat": 4,
  "nbformat_minor": 0,
  "metadata": {
    "colab": {
      "provenance": []
    },
    "kernelspec": {
      "name": "python3",
      "display_name": "Python 3"
    },
    "language_info": {
      "name": "python"
    }
  },
  "cells": [
    {
      "cell_type": "markdown",
      "source": [
        "# List\n",
        "\n",
        "- Lists are used to store multple items in a single variable.\n",
        "- Lists are one of 4 built-in data types in python used to store collection of data, the other 3 are Tuple, Set, Dictionary.\n",
        "- Lists are created using square brackets '[]'.\n"
      ],
      "metadata": {
        "id": "Z0FTkk9kOByv"
      }
    },
    {
      "cell_type": "code",
      "source": [
        "thislist = ['mumbai','pune','satara']\n",
        "print(thislist)"
      ],
      "metadata": {
        "colab": {
          "base_uri": "https://localhost:8080/",
          "height": 0
        },
        "id": "jq91vtf3OBRC",
        "outputId": "52fc8c4b-a780-48dd-d502-07e230186c0a"
      },
      "execution_count": 1,
      "outputs": [
        {
          "output_type": "stream",
          "name": "stdout",
          "text": [
            "['mumbai', 'pune', 'satara']\n"
          ]
        }
      ]
    },
    {
      "cell_type": "markdown",
      "source": [
        "## List Items\n",
        "\n",
        "- List items are **ordered**, **changeable**, and **allow duplicate values**.\n",
        "- List items are **indexed**, the first item has index [0], the second item has index [1] etc."
      ],
      "metadata": {
        "id": "pVU0DtEcPi48"
      }
    },
    {
      "cell_type": "markdown",
      "source": [
        "## Ordered\n",
        "\n",
        "- When we say that lists are **ordered**, it means that the items have a defined order, and that **order will not change**.\n",
        "- If you add new items to a list, the new items will be placed at the end of the list."
      ],
      "metadata": {
        "id": "H250LbcGP2JR"
      }
    },
    {
      "cell_type": "markdown",
      "source": [
        "## Changeable\n",
        "\n",
        "- The list is changeable, means that we can change, add, and remove items in a list after it has been created."
      ],
      "metadata": {
        "id": "jFM4fy_tQWvM"
      }
    },
    {
      "cell_type": "markdown",
      "source": [
        "## Allow Duplicates\n",
        "- Since lists are indexed, lists can have items with the same value."
      ],
      "metadata": {
        "id": "xVSp2PYbQhrP"
      }
    },
    {
      "cell_type": "markdown",
      "source": [
        "## List Length\n",
        "\n",
        "- len() function is used to get the lenth of the list."
      ],
      "metadata": {
        "id": "OZ-J6zRZQz4M"
      }
    },
    {
      "cell_type": "code",
      "execution_count": 2,
      "metadata": {
        "colab": {
          "base_uri": "https://localhost:8080/",
          "height": 0
        },
        "id": "XBv2CJMSN4xd",
        "outputId": "604078d9-cc71-4a43-cdcb-478a0a8ab965"
      },
      "outputs": [
        {
          "output_type": "execute_result",
          "data": {
            "text/plain": [
              "3"
            ]
          },
          "metadata": {},
          "execution_count": 2
        }
      ],
      "source": [
        "len(thislist)"
      ]
    },
    {
      "cell_type": "markdown",
      "source": [
        "## List Items\n",
        "\n",
        "- List items can be of any data types.\n",
        "- List can contain values with different data type."
      ],
      "metadata": {
        "id": "Vx2KZJM8RNFf"
      }
    },
    {
      "cell_type": "code",
      "source": [
        "new_list = ['mumbai',400064,True]\n",
        "print(new_list)"
      ],
      "metadata": {
        "colab": {
          "base_uri": "https://localhost:8080/",
          "height": 0
        },
        "id": "ibfdupEmRJqo",
        "outputId": "e993c4b6-7636-4725-9c45-f61c21fb5303"
      },
      "execution_count": 3,
      "outputs": [
        {
          "output_type": "stream",
          "name": "stdout",
          "text": [
            "['mumbai', 400064, True]\n"
          ]
        }
      ]
    },
    {
      "cell_type": "markdown",
      "source": [
        "## type()\n",
        "\n",
        "- From Python's perspective, lists are defined as objects with the data type '**list**'."
      ],
      "metadata": {
        "id": "3HmEp5tLSAZX"
      }
    },
    {
      "cell_type": "code",
      "source": [
        "print(type(thislist))"
      ],
      "metadata": {
        "colab": {
          "base_uri": "https://localhost:8080/",
          "height": 0
        },
        "id": "bECxLr3WRj2M",
        "outputId": "14b388af-9092-46b3-a21d-48f2b6510c71"
      },
      "execution_count": 4,
      "outputs": [
        {
          "output_type": "stream",
          "name": "stdout",
          "text": [
            "<class 'list'>\n"
          ]
        }
      ]
    },
    {
      "cell_type": "markdown",
      "source": [
        "## The list() Constructor\n",
        "\n",
        "- It is also possible to use list() constructor when we are creating a new list.\n",
        "- **NOTE** - 2 times rounded brackets are required, because we can pass only 1 argument."
      ],
      "metadata": {
        "id": "Gm2RhhE0Sm6A"
      }
    },
    {
      "cell_type": "code",
      "source": [
        "new_list = list((1,2,3,4,5,True,False,\"mumbai\",\"pune\"))\n",
        "print(new_list)"
      ],
      "metadata": {
        "colab": {
          "base_uri": "https://localhost:8080/",
          "height": 0
        },
        "id": "mHhfP9o5SM3H",
        "outputId": "337de508-3f6a-4457-e02d-6b48f457354a"
      },
      "execution_count": 6,
      "outputs": [
        {
          "output_type": "stream",
          "name": "stdout",
          "text": [
            "[1, 2, 3, 4, 5, True, False, 'mumbai', 'pune']\n"
          ]
        }
      ]
    },
    {
      "cell_type": "markdown",
      "source": [
        "# List Methods"
      ],
      "metadata": {
        "id": "XncZYvj_jzVQ"
      }
    },
    {
      "cell_type": "markdown",
      "source": [
        "## 1. append()\n",
        "\n",
        "- Adds an element at the end of the list.\n",
        "- Need to pass only one element at the time of execution."
      ],
      "metadata": {
        "id": "bGciTedTkBEJ"
      }
    },
    {
      "cell_type": "code",
      "source": [
        "colors = ['orange','black','green']\n",
        "colors.append('pink')\n",
        "colors"
      ],
      "metadata": {
        "id": "Ei1IphJYV4fG",
        "colab": {
          "base_uri": "https://localhost:8080/",
          "height": 0
        },
        "outputId": "9017901a-9f90-4625-952c-4a4971a59baa"
      },
      "execution_count": 7,
      "outputs": [
        {
          "output_type": "execute_result",
          "data": {
            "text/plain": [
              "['orange', 'black', 'green', 'pink']"
            ]
          },
          "metadata": {},
          "execution_count": 7
        }
      ]
    },
    {
      "cell_type": "code",
      "source": [
        "l1 = ['blue','yellow','brown']\n",
        "colors.append(l1)\n",
        "colors"
      ],
      "metadata": {
        "colab": {
          "base_uri": "https://localhost:8080/",
          "height": 0
        },
        "id": "18ZT_UTjkhVi",
        "outputId": "efe616b6-8146-4a3e-922e-3ac862b0cdf3"
      },
      "execution_count": 8,
      "outputs": [
        {
          "output_type": "execute_result",
          "data": {
            "text/plain": [
              "['orange', 'black', 'green', 'pink', ['blue', 'yellow', 'brown']]"
            ]
          },
          "metadata": {},
          "execution_count": 8
        }
      ]
    },
    {
      "cell_type": "markdown",
      "source": [
        "## 2. copy()\n",
        "\n",
        "- It will copy a particular list."
      ],
      "metadata": {
        "id": "1cadeRzHk0Jd"
      }
    },
    {
      "cell_type": "code",
      "source": [
        "colors2 = colors.copy()\n",
        "colors2"
      ],
      "metadata": {
        "colab": {
          "base_uri": "https://localhost:8080/",
          "height": 0
        },
        "id": "gKGyleoRktkn",
        "outputId": "17925553-46e0-4434-b66f-63f8bb63eb11"
      },
      "execution_count": 16,
      "outputs": [
        {
          "output_type": "execute_result",
          "data": {
            "text/plain": [
              "['orange', 'black', 'green', 'pink', ['blue', 'yellow', 'brown']]"
            ]
          },
          "metadata": {},
          "execution_count": 16
        }
      ]
    },
    {
      "cell_type": "markdown",
      "source": [
        "## 3. count()\n",
        "\n",
        "- It will return the count of the specified element."
      ],
      "metadata": {
        "id": "RDfDCk-ElWBr"
      }
    },
    {
      "cell_type": "code",
      "source": [
        "list1 = [1,2,3,4,5,6,7,8,9,9,0,9,8,9,8,7,5,4,4,3,2]"
      ],
      "metadata": {
        "id": "Aa1_xZrElPgE"
      },
      "execution_count": 27,
      "outputs": []
    },
    {
      "cell_type": "code",
      "source": [
        "list1.count(9)"
      ],
      "metadata": {
        "colab": {
          "base_uri": "https://localhost:8080/",
          "height": 0
        },
        "id": "GwNVdW_Il5Fx",
        "outputId": "699b97a2-56a6-4894-a174-af2e0c342181"
      },
      "execution_count": 28,
      "outputs": [
        {
          "output_type": "execute_result",
          "data": {
            "text/plain": [
              "4"
            ]
          },
          "metadata": {},
          "execution_count": 28
        }
      ]
    },
    {
      "cell_type": "markdown",
      "source": [
        "## 4. extend()\n",
        "\n",
        "- It will add specified list to the end of the current list."
      ],
      "metadata": {
        "id": "y2zDVu-6nOCI"
      }
    },
    {
      "cell_type": "code",
      "source": [
        "list1.extend(colors)\n",
        "print(list1)"
      ],
      "metadata": {
        "colab": {
          "base_uri": "https://localhost:8080/",
          "height": 0
        },
        "id": "2FdG4BpHl7xh",
        "outputId": "9589e997-a413-4ffe-bd3a-f093bed19800"
      },
      "execution_count": 30,
      "outputs": [
        {
          "output_type": "stream",
          "name": "stdout",
          "text": [
            "[1, 2, 3, 4, 5, 6, 7, 8, 9, 9, 0, 9, 8, 9, 8, 7, 5, 4, 4, 3, 2, 'orange', 'black', 'green', 'pink', ['blue', 'yellow', 'brown'], 'orange', 'black', 'green', 'pink', ['blue', 'yellow', 'brown']]\n"
          ]
        }
      ]
    },
    {
      "cell_type": "markdown",
      "source": [
        "## 5. index()\n",
        "\n",
        "- It will return the index of the first occurance of the specified element."
      ],
      "metadata": {
        "id": "JEixKuK5ppbr"
      }
    },
    {
      "cell_type": "code",
      "source": [
        "list1.index(9)"
      ],
      "metadata": {
        "colab": {
          "base_uri": "https://localhost:8080/",
          "height": 0
        },
        "id": "2G8NpTfZoezZ",
        "outputId": "720f3190-d41f-42f4-fcae-b9451937d3d1"
      },
      "execution_count": 31,
      "outputs": [
        {
          "output_type": "execute_result",
          "data": {
            "text/plain": [
              "8"
            ]
          },
          "metadata": {},
          "execution_count": 31
        }
      ]
    },
    {
      "cell_type": "markdown",
      "source": [
        "## 6. insert()\n",
        "\n",
        "- It will insert the specified value at the specified position as you want."
      ],
      "metadata": {
        "id": "IEmimGwHq0Cl"
      }
    },
    {
      "cell_type": "code",
      "source": [
        "colors.insert(1,'silver')\n",
        "colors"
      ],
      "metadata": {
        "colab": {
          "base_uri": "https://localhost:8080/",
          "height": 0
        },
        "id": "GAbDSoqMqb4B",
        "outputId": "17432904-1e14-4744-ebe7-ec392a4f9934"
      },
      "execution_count": 32,
      "outputs": [
        {
          "output_type": "execute_result",
          "data": {
            "text/plain": [
              "['orange', 'silver', 'black', 'green', 'pink', ['blue', 'yellow', 'brown']]"
            ]
          },
          "metadata": {},
          "execution_count": 32
        }
      ]
    },
    {
      "cell_type": "markdown",
      "source": [
        "## 7. pop()\n",
        "\n",
        "- It will remove the element from the specified position.\n",
        "- Default value is -1, which returns the last element."
      ],
      "metadata": {
        "id": "5q1LCRS2rB68"
      }
    },
    {
      "cell_type": "code",
      "source": [
        "colors.pop()\n",
        "colors"
      ],
      "metadata": {
        "colab": {
          "base_uri": "https://localhost:8080/",
          "height": 0
        },
        "id": "Gdcz9dx2q8HC",
        "outputId": "9a7ddfba-37b0-4bf3-b21b-9a181509a564"
      },
      "execution_count": 33,
      "outputs": [
        {
          "output_type": "execute_result",
          "data": {
            "text/plain": [
              "['orange', 'silver', 'black', 'green', 'pink']"
            ]
          },
          "metadata": {},
          "execution_count": 33
        }
      ]
    },
    {
      "cell_type": "code",
      "source": [
        "colors.pop(1)\n",
        "colors"
      ],
      "metadata": {
        "colab": {
          "base_uri": "https://localhost:8080/",
          "height": 0
        },
        "id": "3NxVePhJrdVc",
        "outputId": "21a7325e-b6fe-466c-dc80-c92cb97762a2"
      },
      "execution_count": 34,
      "outputs": [
        {
          "output_type": "execute_result",
          "data": {
            "text/plain": [
              "['orange', 'black', 'green', 'pink']"
            ]
          },
          "metadata": {},
          "execution_count": 34
        }
      ]
    },
    {
      "cell_type": "markdown",
      "source": [
        "## 8. remove()\n",
        "\n",
        "- It will remove the first occurance of the element with the specified value."
      ],
      "metadata": {
        "id": "XX4FQngyrnZE"
      }
    },
    {
      "cell_type": "code",
      "source": [
        "list1.remove(9)\n",
        "list1"
      ],
      "metadata": {
        "colab": {
          "base_uri": "https://localhost:8080/",
          "height": 0
        },
        "id": "7P1ivsZurgTj",
        "outputId": "c29c4c1e-91ac-465f-b041-eb82f4de1787"
      },
      "execution_count": 36,
      "outputs": [
        {
          "output_type": "execute_result",
          "data": {
            "text/plain": [
              "[1,\n",
              " 2,\n",
              " 3,\n",
              " 4,\n",
              " 5,\n",
              " 6,\n",
              " 7,\n",
              " 8,\n",
              " 9,\n",
              " 0,\n",
              " 9,\n",
              " 8,\n",
              " 9,\n",
              " 8,\n",
              " 7,\n",
              " 5,\n",
              " 4,\n",
              " 4,\n",
              " 3,\n",
              " 2,\n",
              " 'orange',\n",
              " 'black',\n",
              " 'green',\n",
              " 'pink',\n",
              " ['blue', 'yellow', 'brown'],\n",
              " 'orange',\n",
              " 'black',\n",
              " 'green',\n",
              " 'pink',\n",
              " ['blue', 'yellow', 'brown']]"
            ]
          },
          "metadata": {},
          "execution_count": 36
        }
      ]
    },
    {
      "cell_type": "markdown",
      "source": [
        "## 9. reverse()\n",
        "\n",
        "- It will reverse the order of the list.\n"
      ],
      "metadata": {
        "id": "GeRS3lTjsmiP"
      }
    },
    {
      "cell_type": "code",
      "source": [
        "colors.reverse()\n",
        "colors"
      ],
      "metadata": {
        "colab": {
          "base_uri": "https://localhost:8080/",
          "height": 0
        },
        "id": "-SGOxowwsPoU",
        "outputId": "4644c2cd-2a99-44ca-e066-bc536a7bc2b1"
      },
      "execution_count": 37,
      "outputs": [
        {
          "output_type": "execute_result",
          "data": {
            "text/plain": [
              "['pink', 'green', 'black', 'orange']"
            ]
          },
          "metadata": {},
          "execution_count": 37
        }
      ]
    },
    {
      "cell_type": "markdown",
      "source": [
        "## reversed()\n",
        "\n",
        "- It will reverse a iterator object."
      ],
      "metadata": {
        "id": "fFDwVdW9v-hL"
      }
    },
    {
      "cell_type": "code",
      "source": [
        "reverse_colors = reversed(colors)\n",
        "for i in reverse_colors:\n",
        "  print(i)"
      ],
      "metadata": {
        "colab": {
          "base_uri": "https://localhost:8080/",
          "height": 0
        },
        "id": "R_Zvo-u5wC8W",
        "outputId": "17e307b6-3422-4d79-998e-56d547d060f7"
      },
      "execution_count": 40,
      "outputs": [
        {
          "output_type": "stream",
          "name": "stdout",
          "text": [
            "black\n",
            "green\n",
            "orange\n",
            "pink\n"
          ]
        }
      ]
    },
    {
      "cell_type": "markdown",
      "source": [
        "## 10. sort()\n",
        "\n",
        "- It will sort the list in ascending order.\n",
        "- To store in descending order --> reverse = True.\n",
        "- Bydefault is reverse = False.\n"
      ],
      "metadata": {
        "id": "Dsvllyzot_rW"
      }
    },
    {
      "cell_type": "code",
      "source": [
        "colors.sort()\n",
        "colors"
      ],
      "metadata": {
        "colab": {
          "base_uri": "https://localhost:8080/",
          "height": 0
        },
        "id": "3ffqdZC0tE0V",
        "outputId": "894a40f5-2f3c-4bce-a424-e64241265424"
      },
      "execution_count": 38,
      "outputs": [
        {
          "output_type": "execute_result",
          "data": {
            "text/plain": [
              "['black', 'green', 'orange', 'pink']"
            ]
          },
          "metadata": {},
          "execution_count": 38
        }
      ]
    },
    {
      "cell_type": "code",
      "source": [
        "colors.sort(reverse=True)\n",
        "colors"
      ],
      "metadata": {
        "colab": {
          "base_uri": "https://localhost:8080/",
          "height": 0
        },
        "id": "lFxG27fXvU4s",
        "outputId": "ff82fa65-39f3-4e7a-8201-5a807c28b01d"
      },
      "execution_count": 39,
      "outputs": [
        {
          "output_type": "execute_result",
          "data": {
            "text/plain": [
              "['pink', 'orange', 'green', 'black']"
            ]
          },
          "metadata": {},
          "execution_count": 39
        }
      ]
    },
    {
      "cell_type": "markdown",
      "source": [
        "## 11. clear()\n",
        "\n",
        "- It will remove all the elements from the list."
      ],
      "metadata": {
        "id": "L1Ep1FJ9wxz8"
      }
    },
    {
      "cell_type": "code",
      "source": [
        "colors.clear()\n",
        "colors"
      ],
      "metadata": {
        "colab": {
          "base_uri": "https://localhost:8080/",
          "height": 0
        },
        "id": "cDeTBwNbvaFN",
        "outputId": "3bc550fe-3937-4433-f144-f37a6029c3b4"
      },
      "execution_count": 42,
      "outputs": [
        {
          "output_type": "execute_result",
          "data": {
            "text/plain": [
              "[]"
            ]
          },
          "metadata": {},
          "execution_count": 42
        }
      ]
    },
    {
      "cell_type": "code",
      "source": [],
      "metadata": {
        "id": "M1_Aw4cixCSo"
      },
      "execution_count": null,
      "outputs": []
    }
  ]
}