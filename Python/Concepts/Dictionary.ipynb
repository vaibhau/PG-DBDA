{
  "nbformat": 4,
  "nbformat_minor": 0,
  "metadata": {
    "colab": {
      "provenance": []
    },
    "kernelspec": {
      "name": "python3",
      "display_name": "Python 3"
    },
    "language_info": {
      "name": "python"
    }
  },
  "cells": [
    {
      "cell_type": "markdown",
      "source": [
        "# Dictionary\n",
        "\n",
        "- Dictionaries are used to store values in key-value pairs.\n",
        "- A dictionary is a collection which is **ordered**, **changeable** and **do not allow duplicates**.\n",
        "- dictionaries are written with curly brackets and have keys and values."
      ],
      "metadata": {
        "id": "AFwOwBG1TrW_"
      }
    },
    {
      "cell_type": "code",
      "execution_count": null,
      "metadata": {
        "id": "AIqFgkiOQyKt"
      },
      "outputs": [],
      "source": [
        "dictionary = {\"name\":\"vaibhav\",\n",
        "            \"location\":\"mumbai\",\n",
        "              \"yop\":2022}"
      ]
    },
    {
      "cell_type": "markdown",
      "source": [
        "## Dictionary Items\n",
        "\n",
        "- Dictionary items are ordered, changeable and does not allow duplicates.\n",
        "- Dictioanry items are presented in key-value pairs and can be reffered by using key name."
      ],
      "metadata": {
        "id": "8fvP_JLlB3b8"
      }
    },
    {
      "cell_type": "markdown",
      "source": [
        "## Ordered or Unordered\n",
        "\n",
        "- When we say that dictionaries are ordered, it means that the items have a defined order, and that order will not change.\n",
        "\n",
        "- Unordered means that the items does not have a defined order, you cannot refer to an item by using an index."
      ],
      "metadata": {
        "id": "Z7tRk1l6CvgX"
      }
    },
    {
      "cell_type": "markdown",
      "source": [
        "## Changeable\n",
        "\n",
        "- Dictionaries are changeable, means that we can change, add or remove items after the dictionary has been created."
      ],
      "metadata": {
        "id": "Docdqln0C-vO"
      }
    },
    {
      "cell_type": "markdown",
      "source": [
        "## Duplicates Not Allowed\n",
        "\n",
        "- Dictionaries can not have more than one item with the same key."
      ],
      "metadata": {
        "id": "U_i---8LDdQw"
      }
    },
    {
      "cell_type": "markdown",
      "source": [
        "## Dictionary Length\n",
        "\n",
        "- len() function is used to print the length of the dictionary."
      ],
      "metadata": {
        "id": "iP1IfwV0FE_I"
      }
    },
    {
      "cell_type": "code",
      "source": [
        "len(dictionary)"
      ],
      "metadata": {
        "colab": {
          "base_uri": "https://localhost:8080/"
        },
        "id": "Km9ht9TAMLNQ",
        "outputId": "463b62c1-2ec1-4491-f419-18c4ebfabe50"
      },
      "execution_count": 102,
      "outputs": [
        {
          "output_type": "execute_result",
          "data": {
            "text/plain": [
              "4"
            ]
          },
          "metadata": {},
          "execution_count": 102
        }
      ]
    },
    {
      "cell_type": "markdown",
      "source": [
        "## Dictionary Items - data types\n",
        "\n",
        "- The values in dictionary items can be of any data type."
      ],
      "metadata": {
        "id": "uHj5UGCyMP40"
      }
    },
    {
      "cell_type": "code",
      "source": [
        "thisdict = {\n",
        "  \"brand\": \"Ford\",\n",
        "  \"electric\": False,\n",
        "  \"year\": 1964,\n",
        "  \"colors\": [\"red\", \"white\", \"blue\"]\n",
        "}\n",
        "print(thisdict)"
      ],
      "metadata": {
        "colab": {
          "base_uri": "https://localhost:8080/"
        },
        "id": "v78QgA--MibH",
        "outputId": "f61b9376-1f3c-49dd-c6b4-b7f2c90346ef"
      },
      "execution_count": 104,
      "outputs": [
        {
          "output_type": "stream",
          "name": "stdout",
          "text": [
            "{'brand': 'Ford', 'electric': False, 'year': 1964, 'colors': ['red', 'white', 'blue']}\n"
          ]
        }
      ]
    },
    {
      "cell_type": "markdown",
      "source": [
        "# Dictionary Methods"
      ],
      "metadata": {
        "id": "d0e4MuPYMzqA"
      }
    },
    {
      "cell_type": "markdown",
      "source": [
        "## copy()\n",
        "\n",
        "- It will make copy of a particular directory.\n",
        "\n",
        "### syntax\n",
        "\n",
        "new_dictionary = dictionary.copy()"
      ],
      "metadata": {
        "id": "FoqgdL31SJbf"
      }
    },
    {
      "cell_type": "code",
      "source": [
        "copied_dict = dictionary.copy()\n",
        "copied_dict"
      ],
      "metadata": {
        "colab": {
          "base_uri": "https://localhost:8080/"
        },
        "id": "6Lg1WsjYRr7O",
        "outputId": "54983e6e-0bf3-4579-b840-78560b06b32a"
      },
      "execution_count": null,
      "outputs": [
        {
          "output_type": "execute_result",
          "data": {
            "text/plain": [
              "{'name': 'vaibhav', 'location': 'mumbai', 'yop': 2022}"
            ]
          },
          "metadata": {},
          "execution_count": 85
        }
      ]
    },
    {
      "cell_type": "markdown",
      "source": [
        "## fromkeys()\n",
        "\n",
        "- This method creates a dictionary with specified keys and values.\n",
        "\n",
        "### syntax\n",
        "\n",
        "- dictionary.fromkeys(key,value)"
      ],
      "metadata": {
        "id": "OP0lu44PTNIw"
      }
    },
    {
      "cell_type": "code",
      "source": [
        "dictionary2 = {}\n",
        "key = ('A','B','C')\n",
        "value = 10\n",
        "dictionary2.fromkeys(key,value)"
      ],
      "metadata": {
        "colab": {
          "base_uri": "https://localhost:8080/"
        },
        "id": "wQfn75x0SFqZ",
        "outputId": "8e6f64d8-edd4-4508-951a-4d5c5481c6a7"
      },
      "execution_count": null,
      "outputs": [
        {
          "output_type": "execute_result",
          "data": {
            "text/plain": [
              "{'A': 10, 'B': 10, 'C': 10}"
            ]
          },
          "metadata": {},
          "execution_count": 86
        }
      ]
    },
    {
      "cell_type": "markdown",
      "source": [
        "## get()\n",
        "\n",
        "- This method will return values of specified key from a dictionary.\n",
        "- You need to pass at least one 'key' as an argument else it will create error.\n",
        "\n",
        "### syntax\n",
        "\n",
        "- dictionary.get('key')"
      ],
      "metadata": {
        "id": "xBoZMxEiUG2c"
      }
    },
    {
      "cell_type": "code",
      "source": [
        "dictionary.get(\"location\")"
      ],
      "metadata": {
        "colab": {
          "base_uri": "https://localhost:8080/",
          "height": 35
        },
        "id": "6amQDKxjSmuG",
        "outputId": "71f128f1-0d6b-494f-d9f2-29286d08707a"
      },
      "execution_count": null,
      "outputs": [
        {
          "output_type": "execute_result",
          "data": {
            "text/plain": [
              "'mumbai'"
            ],
            "application/vnd.google.colaboratory.intrinsic+json": {
              "type": "string"
            }
          },
          "metadata": {},
          "execution_count": 87
        }
      ]
    },
    {
      "cell_type": "markdown",
      "source": [
        "## items()\n",
        "\n",
        "- This command will return a list containing tuple with each key-value pair.\n",
        "\n",
        "### syntax\n",
        "\n",
        "- dictionary.items()"
      ],
      "metadata": {
        "id": "mZ8uTIpEUpnn"
      }
    },
    {
      "cell_type": "code",
      "source": [
        "dictionary.items()"
      ],
      "metadata": {
        "colab": {
          "base_uri": "https://localhost:8080/"
        },
        "id": "8uh1MqrxS2-L",
        "outputId": "167e1ee6-2be0-4dde-e765-899ad40f97e5"
      },
      "execution_count": null,
      "outputs": [
        {
          "output_type": "execute_result",
          "data": {
            "text/plain": [
              "dict_items([('name', 'vaibhav'), ('location', 'mumbai'), ('yop', 2022)])"
            ]
          },
          "metadata": {},
          "execution_count": 88
        }
      ]
    },
    {
      "cell_type": "markdown",
      "source": [
        "## keys()\n",
        "\n",
        "- It will return a list of keys from the specified dictionary.\n",
        "\n",
        "### syntax\n",
        "\n",
        "- dictionary.keys()"
      ],
      "metadata": {
        "id": "dPJhEwfdVNOI"
      }
    },
    {
      "cell_type": "code",
      "source": [
        "dictionary.keys()"
      ],
      "metadata": {
        "colab": {
          "base_uri": "https://localhost:8080/"
        },
        "id": "Fb3wpb67Ugkd",
        "outputId": "f482b27a-a6c9-4de0-9d35-a040c96b409d"
      },
      "execution_count": null,
      "outputs": [
        {
          "output_type": "execute_result",
          "data": {
            "text/plain": [
              "dict_keys(['name', 'location', 'yop'])"
            ]
          },
          "metadata": {},
          "execution_count": 89
        }
      ]
    },
    {
      "cell_type": "markdown",
      "source": [
        "## values()\n",
        "\n",
        "- It will return a list of values from the specified dictionary.\n",
        "\n",
        "### syntax\n",
        "\n",
        "- dictionary.values()"
      ],
      "metadata": {
        "id": "h_BbXfp3VdkK"
      }
    },
    {
      "cell_type": "code",
      "source": [
        "dictionary.values()"
      ],
      "metadata": {
        "colab": {
          "base_uri": "https://localhost:8080/"
        },
        "id": "fTr569S2VH9Y",
        "outputId": "c46c36fa-c840-4ce2-9de3-9f1508e50fd7"
      },
      "execution_count": null,
      "outputs": [
        {
          "output_type": "execute_result",
          "data": {
            "text/plain": [
              "dict_values(['vaibhav', 'mumbai', 2022])"
            ]
          },
          "metadata": {},
          "execution_count": 90
        }
      ]
    },
    {
      "cell_type": "markdown",
      "source": [
        "## update()\n",
        "\n",
        "- This command is used to update the dictionaries with specified key-value pair.\n",
        "\n",
        "### syntax\n",
        "\n",
        "- dictionary.update({'new_key':'value'})"
      ],
      "metadata": {
        "id": "p97hXQ24WyLK"
      }
    },
    {
      "cell_type": "code",
      "source": [
        "dictionary.update({'year':2001})"
      ],
      "metadata": {
        "id": "2Qr48PWQVLUE"
      },
      "execution_count": null,
      "outputs": []
    },
    {
      "cell_type": "code",
      "source": [
        "dictionary"
      ],
      "metadata": {
        "colab": {
          "base_uri": "https://localhost:8080/"
        },
        "id": "Be1m1CX0WsqO",
        "outputId": "cf3f7f40-75d6-44cd-a698-981745106cf0"
      },
      "execution_count": null,
      "outputs": [
        {
          "output_type": "execute_result",
          "data": {
            "text/plain": [
              "{'name': 'vaibhav', 'location': 'mumbai', 'yop': 2022, 'year': 2001}"
            ]
          },
          "metadata": {},
          "execution_count": 92
        }
      ]
    },
    {
      "cell_type": "markdown",
      "source": [
        "## pop()\n",
        "\n",
        "- It will remove the element(key-value) with the specified key.\n",
        "- You need to paas **at least one key** as an argument.\n",
        "\n",
        "### syntax\n",
        "\n",
        "- dictionary.pop('key')"
      ],
      "metadata": {
        "id": "2l5KUCOIXdDw"
      }
    },
    {
      "cell_type": "code",
      "source": [
        "copied_dict.pop('yop')"
      ],
      "metadata": {
        "colab": {
          "base_uri": "https://localhost:8080/"
        },
        "id": "HJ8xSwOZWvAc",
        "outputId": "1157e3bf-82a5-4d9f-9a97-9441e0f1d627"
      },
      "execution_count": null,
      "outputs": [
        {
          "output_type": "execute_result",
          "data": {
            "text/plain": [
              "2022"
            ]
          },
          "metadata": {},
          "execution_count": 93
        }
      ]
    },
    {
      "cell_type": "code",
      "source": [
        "copied_dict"
      ],
      "metadata": {
        "colab": {
          "base_uri": "https://localhost:8080/"
        },
        "id": "0sN95tZ9XXrD",
        "outputId": "254841b7-8472-4661-b160-ef325835d476"
      },
      "execution_count": null,
      "outputs": [
        {
          "output_type": "execute_result",
          "data": {
            "text/plain": [
              "{'name': 'vaibhav', 'location': 'mumbai'}"
            ]
          },
          "metadata": {},
          "execution_count": 94
        }
      ]
    },
    {
      "cell_type": "markdown",
      "source": [
        "## popitem()\n",
        "\n",
        "- It will removes the last inserted key-value pair from the specified dictionary.\n",
        "\n",
        "### syntax\n",
        "\n",
        "- dictionary.popitem()"
      ],
      "metadata": {
        "id": "YTYUp_Q5X-bO"
      }
    },
    {
      "cell_type": "code",
      "source": [
        "copied_dict.popitem()"
      ],
      "metadata": {
        "colab": {
          "base_uri": "https://localhost:8080/"
        },
        "id": "v9tKFRlhXaw3",
        "outputId": "e7c09c7d-75ed-47b2-ddef-652e39438b3d"
      },
      "execution_count": null,
      "outputs": [
        {
          "output_type": "execute_result",
          "data": {
            "text/plain": [
              "('location', 'mumbai')"
            ]
          },
          "metadata": {},
          "execution_count": 95
        }
      ]
    },
    {
      "cell_type": "code",
      "source": [
        "copied_dict"
      ],
      "metadata": {
        "colab": {
          "base_uri": "https://localhost:8080/"
        },
        "id": "H7HEJ0UqXxmq",
        "outputId": "fb0a5998-5671-4848-cb30-9c55de873ba5"
      },
      "execution_count": null,
      "outputs": [
        {
          "output_type": "execute_result",
          "data": {
            "text/plain": [
              "{'name': 'vaibhav'}"
            ]
          },
          "metadata": {},
          "execution_count": 96
        }
      ]
    },
    {
      "cell_type": "markdown",
      "source": [
        "## setdefault()\n",
        "\n",
        "- It will return the value of the specified key.\n",
        "- If the key is not exist, insert the key with the specified value.\n",
        "### syntax\n",
        "\n",
        "- dictionary.setdefault('key')\n",
        "- dictionary.setdefault('key','value')"
      ],
      "metadata": {
        "id": "N1cm4qJF4fDO"
      }
    },
    {
      "cell_type": "code",
      "source": [
        "copied_dict.setdefault('name')"
      ],
      "metadata": {
        "colab": {
          "base_uri": "https://localhost:8080/",
          "height": 35
        },
        "id": "a0K4YAfNX0cq",
        "outputId": "c8ef2fa7-2ddc-404f-aea2-f5ef831f7e82"
      },
      "execution_count": null,
      "outputs": [
        {
          "output_type": "execute_result",
          "data": {
            "text/plain": [
              "'vaibhav'"
            ],
            "application/vnd.google.colaboratory.intrinsic+json": {
              "type": "string"
            }
          },
          "metadata": {},
          "execution_count": 97
        }
      ]
    },
    {
      "cell_type": "code",
      "source": [
        "copied_dict.setdefault(\"course\",\"PG-DBDA\")"
      ],
      "metadata": {
        "colab": {
          "base_uri": "https://localhost:8080/",
          "height": 35
        },
        "id": "O0FbbEWH3k9n",
        "outputId": "97bd2c13-09e6-4535-ad76-aee7d900bfda"
      },
      "execution_count": null,
      "outputs": [
        {
          "output_type": "execute_result",
          "data": {
            "text/plain": [
              "'PG-DBDA'"
            ],
            "application/vnd.google.colaboratory.intrinsic+json": {
              "type": "string"
            }
          },
          "metadata": {},
          "execution_count": 98
        }
      ]
    },
    {
      "cell_type": "code",
      "source": [
        "copied_dict"
      ],
      "metadata": {
        "colab": {
          "base_uri": "https://localhost:8080/"
        },
        "id": "KEF9sHs14DjP",
        "outputId": "5d24f6f9-9e5e-4153-8a39-c4cab1a185ec"
      },
      "execution_count": null,
      "outputs": [
        {
          "output_type": "execute_result",
          "data": {
            "text/plain": [
              "{'name': 'vaibhav', 'course': 'PG-DBDA'}"
            ]
          },
          "metadata": {},
          "execution_count": 99
        }
      ]
    },
    {
      "cell_type": "markdown",
      "source": [
        "## clear()\n",
        "\n",
        "- It will remove all the elements from the dictionary, including keys and values.\n",
        "\n",
        "### syntax\n",
        "\n",
        "- dictionary.clear()"
      ],
      "metadata": {
        "id": "6-l57j68_aBT"
      }
    },
    {
      "cell_type": "code",
      "source": [
        "copied_dict.clear()"
      ],
      "metadata": {
        "id": "fuYPOkiK4YQk"
      },
      "execution_count": null,
      "outputs": []
    },
    {
      "cell_type": "code",
      "source": [
        "copied_dict"
      ],
      "metadata": {
        "colab": {
          "base_uri": "https://localhost:8080/"
        },
        "id": "c2QI7aBd_U3K",
        "outputId": "3fa7a36b-b471-4cf0-dc86-f6ab00136a01"
      },
      "execution_count": null,
      "outputs": [
        {
          "output_type": "execute_result",
          "data": {
            "text/plain": [
              "{}"
            ]
          },
          "metadata": {},
          "execution_count": 101
        }
      ]
    }
  ]
}