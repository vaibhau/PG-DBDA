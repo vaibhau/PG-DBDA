{
  "nbformat": 4,
  "nbformat_minor": 0,
  "metadata": {
    "colab": {
      "provenance": []
    },
    "kernelspec": {
      "name": "python3",
      "display_name": "Python 3"
    },
    "language_info": {
      "name": "python"
    }
  },
  "cells": [
    {
      "cell_type": "markdown",
      "source": [
        "# Dictionary Creation"
      ],
      "metadata": {
        "id": "34XoqPegqXY0"
      }
    },
    {
      "cell_type": "code",
      "execution_count": 1,
      "metadata": {
        "colab": {
          "base_uri": "https://localhost:8080/"
        },
        "id": "lgQ4lVG3ogOE",
        "outputId": "f4f77ed9-aae1-4546-865d-db17f0d81bf3"
      },
      "outputs": [
        {
          "output_type": "execute_result",
          "data": {
            "text/plain": [
              "{'name': 'vaibhav', 'age': '22', 'address': 'mumbai'}"
            ]
          },
          "metadata": {},
          "execution_count": 1
        }
      ],
      "source": [
        "my_dict = {'name':\"vaibhav\",'age':'22','address':'mumbai'}\n",
        "my_dict"
      ]
    },
    {
      "cell_type": "markdown",
      "source": [
        "# get() method"
      ],
      "metadata": {
        "id": "nkX_86vkqcfo"
      }
    },
    {
      "cell_type": "code",
      "source": [
        "print(my_dict.get('name'))\n",
        "print(my_dict.get('location'))"
      ],
      "metadata": {
        "colab": {
          "base_uri": "https://localhost:8080/"
        },
        "id": "MgBQZNl7o56E",
        "outputId": "8338ba50-d6b8-4ef6-d383-f3af2e17f80e"
      },
      "execution_count": 2,
      "outputs": [
        {
          "output_type": "stream",
          "name": "stdout",
          "text": [
            "vaibhav\n",
            "None\n"
          ]
        }
      ]
    },
    {
      "cell_type": "markdown",
      "source": [
        "# items() method"
      ],
      "metadata": {
        "id": "SANDxIcpqgTa"
      }
    },
    {
      "cell_type": "code",
      "source": [
        "print(my_dict.items())"
      ],
      "metadata": {
        "colab": {
          "base_uri": "https://localhost:8080/"
        },
        "id": "vkbhgHREpMVK",
        "outputId": "c98462ec-09ee-433d-d6f4-3f8bd8e6f15c"
      },
      "execution_count": 3,
      "outputs": [
        {
          "output_type": "stream",
          "name": "stdout",
          "text": [
            "dict_items([('name', 'vaibhav'), ('age', '22'), ('address', 'mumbai')])\n"
          ]
        }
      ]
    },
    {
      "cell_type": "code",
      "source": [
        "print(list(my_dict.items())[2][0])\n",
        "print(list(my_dict.items())[2][1])"
      ],
      "metadata": {
        "colab": {
          "base_uri": "https://localhost:8080/"
        },
        "id": "PmTaouxjphrG",
        "outputId": "aa0f3335-f96f-40af-f5f9-601dc523714f"
      },
      "execution_count": 4,
      "outputs": [
        {
          "output_type": "stream",
          "name": "stdout",
          "text": [
            "address\n",
            "mumbai\n"
          ]
        }
      ]
    },
    {
      "cell_type": "markdown",
      "source": [
        "# keys() method"
      ],
      "metadata": {
        "id": "nSE2EyFaqk1T"
      }
    },
    {
      "cell_type": "code",
      "source": [
        "print(my_dict.keys())"
      ],
      "metadata": {
        "colab": {
          "base_uri": "https://localhost:8080/"
        },
        "id": "G3Yif4h9qQ0S",
        "outputId": "72801fb9-5ce0-4b93-cde8-7ac561d6ff61"
      },
      "execution_count": 5,
      "outputs": [
        {
          "output_type": "stream",
          "name": "stdout",
          "text": [
            "dict_keys(['name', 'age', 'address'])\n"
          ]
        }
      ]
    },
    {
      "cell_type": "code",
      "source": [
        "print(list(my_dict.keys()))"
      ],
      "metadata": {
        "colab": {
          "base_uri": "https://localhost:8080/"
        },
        "id": "4wHiFfJZqsjl",
        "outputId": "512726b0-81fc-4833-81a7-c13065859670"
      },
      "execution_count": 6,
      "outputs": [
        {
          "output_type": "stream",
          "name": "stdout",
          "text": [
            "['name', 'age', 'address']\n"
          ]
        }
      ]
    },
    {
      "cell_type": "markdown",
      "source": [
        "# values() method"
      ],
      "metadata": {
        "id": "E9Dm117sq3Yx"
      }
    },
    {
      "cell_type": "code",
      "source": [
        "print(my_dict.values())"
      ],
      "metadata": {
        "colab": {
          "base_uri": "https://localhost:8080/"
        },
        "id": "juB39D10qzCa",
        "outputId": "4dcd8d93-1ed2-4ae6-f3d6-76e1fc7ee085"
      },
      "execution_count": 7,
      "outputs": [
        {
          "output_type": "stream",
          "name": "stdout",
          "text": [
            "dict_values(['vaibhav', '22', 'mumbai'])\n"
          ]
        }
      ]
    },
    {
      "cell_type": "code",
      "source": [
        "print(list(my_dict.values()))"
      ],
      "metadata": {
        "colab": {
          "base_uri": "https://localhost:8080/"
        },
        "id": "75iBS2GerBPi",
        "outputId": "aeda264c-a5bf-486e-b94c-b37563198a47"
      },
      "execution_count": 8,
      "outputs": [
        {
          "output_type": "stream",
          "name": "stdout",
          "text": [
            "['vaibhav', '22', 'mumbai']\n"
          ]
        }
      ]
    },
    {
      "cell_type": "markdown",
      "source": [
        "# update() method"
      ],
      "metadata": {
        "id": "FlY_XV85HONr"
      }
    },
    {
      "cell_type": "code",
      "source": [
        "my_dict2 = {'name':'VK','age':'23','address':'Pune','location':'Mumbai'}"
      ],
      "metadata": {
        "id": "ck_JnsBFrIhL"
      },
      "execution_count": 9,
      "outputs": []
    },
    {
      "cell_type": "code",
      "source": [
        "my_dict.update(my_dict2)\n",
        "my_dict"
      ],
      "metadata": {
        "colab": {
          "base_uri": "https://localhost:8080/"
        },
        "id": "ymXKVKK7rfJy",
        "outputId": "e7f3e80c-1e61-4b28-daf3-9f07266228f6"
      },
      "execution_count": 10,
      "outputs": [
        {
          "output_type": "execute_result",
          "data": {
            "text/plain": [
              "{'name': 'VK', 'age': '23', 'address': 'Pune', 'location': 'Mumbai'}"
            ]
          },
          "metadata": {},
          "execution_count": 10
        }
      ]
    },
    {
      "cell_type": "markdown",
      "source": [
        "# pop() method"
      ],
      "metadata": {
        "id": "9Ue7dygUHiEu"
      }
    },
    {
      "cell_type": "code",
      "source": [
        "my_dict.pop('age')"
      ],
      "metadata": {
        "colab": {
          "base_uri": "https://localhost:8080/",
          "height": 35
        },
        "id": "Pcv2Z_j6rl3f",
        "outputId": "ddcea078-856b-4b33-80ac-b9d6d8e810b2"
      },
      "execution_count": 11,
      "outputs": [
        {
          "output_type": "execute_result",
          "data": {
            "text/plain": [
              "'23'"
            ],
            "application/vnd.google.colaboratory.intrinsic+json": {
              "type": "string"
            }
          },
          "metadata": {},
          "execution_count": 11
        }
      ]
    },
    {
      "cell_type": "code",
      "source": [
        "my_dict"
      ],
      "metadata": {
        "colab": {
          "base_uri": "https://localhost:8080/"
        },
        "id": "NmB68pIqsR7Z",
        "outputId": "f215ddef-b527-4b58-eaf1-afa5fe164506"
      },
      "execution_count": 12,
      "outputs": [
        {
          "output_type": "execute_result",
          "data": {
            "text/plain": [
              "{'name': 'VK', 'address': 'Pune', 'location': 'Mumbai'}"
            ]
          },
          "metadata": {},
          "execution_count": 12
        }
      ]
    },
    {
      "cell_type": "markdown",
      "source": [
        "# popitem() method"
      ],
      "metadata": {
        "id": "WG0FzuTAHqZX"
      }
    },
    {
      "cell_type": "code",
      "source": [
        "my_dict.popitem()\n",
        "my_dict"
      ],
      "metadata": {
        "colab": {
          "base_uri": "https://localhost:8080/"
        },
        "id": "6MN_wL96sfH1",
        "outputId": "6432750b-de32-444e-f419-a71b44a7e693"
      },
      "execution_count": 13,
      "outputs": [
        {
          "output_type": "execute_result",
          "data": {
            "text/plain": [
              "{'name': 'VK', 'address': 'Pune'}"
            ]
          },
          "metadata": {},
          "execution_count": 13
        }
      ]
    },
    {
      "cell_type": "markdown",
      "source": [
        "# setdefault() method"
      ],
      "metadata": {
        "id": "2xXrgRpfIrJh"
      }
    },
    {
      "cell_type": "code",
      "source": [
        "my_dict.setdefault('course','PG-DBDA')\n",
        "my_dict"
      ],
      "metadata": {
        "colab": {
          "base_uri": "https://localhost:8080/"
        },
        "id": "lagcTwUrIIfb",
        "outputId": "0a5b2852-0c62-4e8b-a9e3-63c2f7c11b3a"
      },
      "execution_count": 15,
      "outputs": [
        {
          "output_type": "execute_result",
          "data": {
            "text/plain": [
              "{'name': 'VK', 'address': 'Pune', 'course': 'PG-DBDA'}"
            ]
          },
          "metadata": {},
          "execution_count": 15
        }
      ]
    },
    {
      "cell_type": "markdown",
      "source": [
        "# clear() method"
      ],
      "metadata": {
        "id": "y3NHVJCyIzs6"
      }
    },
    {
      "cell_type": "code",
      "source": [
        "my_dict.clear()"
      ],
      "metadata": {
        "id": "P0ooBqPXIll2"
      },
      "execution_count": 16,
      "outputs": []
    },
    {
      "cell_type": "code",
      "source": [
        "my_dict"
      ],
      "metadata": {
        "colab": {
          "base_uri": "https://localhost:8080/"
        },
        "id": "AwczjOLEI4B-",
        "outputId": "73a0e140-c847-4b5a-843b-2252f882a41a"
      },
      "execution_count": 17,
      "outputs": [
        {
          "output_type": "execute_result",
          "data": {
            "text/plain": [
              "{}"
            ]
          },
          "metadata": {},
          "execution_count": 17
        }
      ]
    },
    {
      "cell_type": "code",
      "source": [],
      "metadata": {
        "id": "g5Kj1i7WI5zI"
      },
      "execution_count": null,
      "outputs": []
    }
  ]
}