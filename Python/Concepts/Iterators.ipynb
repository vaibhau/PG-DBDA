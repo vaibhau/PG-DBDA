{
  "nbformat": 4,
  "nbformat_minor": 0,
  "metadata": {
    "colab": {
      "provenance": []
    },
    "kernelspec": {
      "name": "python3",
      "display_name": "Python 3"
    },
    "language_info": {
      "name": "python"
    }
  },
  "cells": [
    {
      "cell_type": "markdown",
      "source": [
        "# Iterators\n",
        "\n",
        "- An iterator is an object that can be iterated upon, meaning that you can traverse through all the values.\n",
        "\n",
        "- Technically, in Python, an iterator is an object which implements the iterator protocol, which consist of the methods __iter__() and __next__()"
      ],
      "metadata": {
        "id": "BlVoPTU1WOnC"
      }
    },
    {
      "cell_type": "code",
      "execution_count": 1,
      "metadata": {
        "colab": {
          "base_uri": "https://localhost:8080/"
        },
        "id": "cCvFAbDKWImY",
        "outputId": "67d20857-79c5-4a8a-8357-e2e63bfa635e"
      },
      "outputs": [
        {
          "output_type": "stream",
          "name": "stdout",
          "text": [
            "0\n"
          ]
        }
      ],
      "source": [
        "mylist = [0,1,2,3,4,5,6,7,8,9]\n",
        "\n",
        "iter = iter(mylist)\n",
        "print(next(iter))"
      ]
    },
    {
      "cell_type": "code",
      "source": [
        "print(next(iter))"
      ],
      "metadata": {
        "colab": {
          "base_uri": "https://localhost:8080/"
        },
        "id": "NrJBDYkvWpUq",
        "outputId": "48078f0b-6339-487c-f6e8-003d370f20b7"
      },
      "execution_count": 2,
      "outputs": [
        {
          "output_type": "stream",
          "name": "stdout",
          "text": [
            "1\n"
          ]
        }
      ]
    },
    {
      "cell_type": "code",
      "source": [
        "print(next(iter))"
      ],
      "metadata": {
        "colab": {
          "base_uri": "https://localhost:8080/"
        },
        "id": "mdHqFgdGYU8h",
        "outputId": "2ecff17b-cdee-4f9e-fe07-679c15380873"
      },
      "execution_count": 7,
      "outputs": [
        {
          "output_type": "stream",
          "name": "stdout",
          "text": [
            "2\n"
          ]
        }
      ]
    },
    {
      "cell_type": "code",
      "source": [
        "print(next(iter))"
      ],
      "metadata": {
        "colab": {
          "base_uri": "https://localhost:8080/"
        },
        "id": "3_yKmUnEYU5D",
        "outputId": "f74d6b12-f088-4f48-dde6-368c5214a412"
      },
      "execution_count": 8,
      "outputs": [
        {
          "output_type": "stream",
          "name": "stdout",
          "text": [
            "3\n"
          ]
        }
      ]
    },
    {
      "cell_type": "code",
      "source": [
        "print(next(iter))"
      ],
      "metadata": {
        "colab": {
          "base_uri": "https://localhost:8080/"
        },
        "id": "HuF4ADwGYU2c",
        "outputId": "214b2fc8-b01b-439e-f5b0-1b9c07f35894"
      },
      "execution_count": 9,
      "outputs": [
        {
          "output_type": "stream",
          "name": "stdout",
          "text": [
            "4\n"
          ]
        }
      ]
    },
    {
      "cell_type": "code",
      "source": [],
      "metadata": {
        "id": "N7jP_Z8DXizG"
      },
      "execution_count": null,
      "outputs": []
    }
  ]
}