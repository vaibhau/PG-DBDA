{
  "nbformat": 4,
  "nbformat_minor": 0,
  "metadata": {
    "colab": {
      "provenance": []
    },
    "kernelspec": {
      "name": "python3",
      "display_name": "Python 3"
    },
    "language_info": {
      "name": "python"
    }
  },
  "cells": [
    {
      "cell_type": "markdown",
      "source": [
        "# Generators\n",
        "\n",
        "- A generator function in Python is defined like a normal function, but whenever it needs to generate a value, it does so with the yield keyword rather than return. If the body of a def contains yield, the function automatically becomes a Python generator function."
      ],
      "metadata": {
        "id": "V4NEA-__ay9O"
      }
    },
    {
      "cell_type": "code",
      "execution_count": 7,
      "metadata": {
        "colab": {
          "base_uri": "https://localhost:8080/"
        },
        "id": "K40lGCKYal3o",
        "outputId": "ab234b77-a80e-4f46-8480-80a1768971d6"
      },
      "outputs": [
        {
          "output_type": "stream",
          "name": "stdout",
          "text": [
            "1\n",
            "2\n",
            "hello\n"
          ]
        }
      ],
      "source": [
        "def my_generator():\n",
        "  yield 1\n",
        "  yield 2\n",
        "  yield \"hello\"\n",
        "\n",
        "for i in my_generator():\n",
        "  print(i)"
      ]
    },
    {
      "cell_type": "markdown",
      "source": [
        "# Generator Object\n",
        "\n",
        "- Python Generator functions return a generator object that is iterable, i.e., can be used as an Iterator. Generator objects are used either by calling the next method of the generator object or using the generator object in a “for in” loop."
      ],
      "metadata": {
        "id": "OSjdvDSMdQWm"
      }
    },
    {
      "cell_type": "code",
      "source": [
        "def generators():\n",
        "  yield \"hello vaibhav\"\n",
        "  yield 400064\n",
        "\n",
        "obj = generators()\n",
        "\n",
        "print(next(obj))\n",
        "print(next(obj))"
      ],
      "metadata": {
        "colab": {
          "base_uri": "https://localhost:8080/"
        },
        "id": "K-kJWGHpcAwQ",
        "outputId": "7395944d-0b44-4768-d916-cbb7c78e5183"
      },
      "execution_count": 8,
      "outputs": [
        {
          "output_type": "stream",
          "name": "stdout",
          "text": [
            "hello vaibhav\n",
            "400064\n"
          ]
        }
      ]
    },
    {
      "cell_type": "code",
      "source": [],
      "metadata": {
        "id": "tXMI98IndomM"
      },
      "execution_count": null,
      "outputs": []
    }
  ]
}