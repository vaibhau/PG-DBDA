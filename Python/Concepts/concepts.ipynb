{
  "nbformat": 4,
  "nbformat_minor": 0,
  "metadata": {
    "colab": {
      "provenance": []
    },
    "kernelspec": {
      "name": "python3",
      "display_name": "Python 3"
    },
    "language_info": {
      "name": "python"
    }
  },
  "cells": [
    {
      "cell_type": "code",
      "execution_count": null,
      "metadata": {
        "colab": {
          "base_uri": "https://localhost:8080/"
        },
        "id": "vk1b-GwG6xTU",
        "outputId": "d4578a6a-62dc-44e1-e035-8b3345d16065"
      },
      "outputs": [
        {
          "output_type": "stream",
          "name": "stdout",
          "text": [
            "hello this is vaibhav khandekar\n"
          ]
        }
      ],
      "source": [
        "def function():\n",
        "  print(\"hello this is vaibhav khandekar\")\n",
        "\n",
        "function()"
      ]
    },
    {
      "cell_type": "code",
      "source": [
        "def max(n1,n2):\n",
        "  if n1>n2:\n",
        "    print(n1,\"is a max\")\n",
        "  else:\n",
        "    print(n2,\"is a max\")"
      ],
      "metadata": {
        "id": "oT0_pnCw75pa"
      },
      "execution_count": null,
      "outputs": []
    },
    {
      "cell_type": "code",
      "source": [
        "max(1,4)"
      ],
      "metadata": {
        "colab": {
          "base_uri": "https://localhost:8080/"
        },
        "id": "biL6awqe8UAk",
        "outputId": "5a1e0796-e6d5-40f5-f069-17b8fc475b31"
      },
      "execution_count": null,
      "outputs": [
        {
          "output_type": "stream",
          "name": "stdout",
          "text": [
            "4 is a max\n"
          ]
        }
      ]
    },
    {
      "cell_type": "code",
      "source": [
        "max(6.9,4.5)"
      ],
      "metadata": {
        "colab": {
          "base_uri": "https://localhost:8080/"
        },
        "id": "tCaFSNsA8bBU",
        "outputId": "ac4c3526-3578-467d-a168-6a44d1d97901"
      },
      "execution_count": null,
      "outputs": [
        {
          "output_type": "stream",
          "name": "stdout",
          "text": [
            "6.9 is a max\n"
          ]
        }
      ]
    },
    {
      "cell_type": "code",
      "source": [
        "def func():\n",
        "  return \"goodbye\""
      ],
      "metadata": {
        "id": "t0z-vDXW8yxn"
      },
      "execution_count": null,
      "outputs": []
    },
    {
      "cell_type": "code",
      "source": [
        "func()"
      ],
      "metadata": {
        "colab": {
          "base_uri": "https://localhost:8080/",
          "height": 35
        },
        "id": "G0YPgSeHUN0N",
        "outputId": "7af34e6d-0615-4848-8bd0-55ee0bfad553"
      },
      "execution_count": null,
      "outputs": [
        {
          "output_type": "execute_result",
          "data": {
            "text/plain": [
              "'goodbye'"
            ],
            "application/vnd.google.colaboratory.intrinsic+json": {
              "type": "string"
            }
          },
          "metadata": {},
          "execution_count": 2
        }
      ]
    },
    {
      "cell_type": "code",
      "source": [
        "l1 = [1,2,3,4,5,6,7]\n",
        "iter = l1.__iter__()"
      ],
      "metadata": {
        "id": "im3YzNc6UPK2"
      },
      "execution_count": null,
      "outputs": []
    },
    {
      "cell_type": "code",
      "source": [
        "for i in l1:\n",
        "  print(iter.__next__())"
      ],
      "metadata": {
        "colab": {
          "base_uri": "https://localhost:8080/"
        },
        "id": "wHxk2pKWUs-p",
        "outputId": "3a8f04e0-1672-4e1d-df8d-782166d41921"
      },
      "execution_count": null,
      "outputs": [
        {
          "output_type": "stream",
          "name": "stdout",
          "text": [
            "1\n",
            "2\n",
            "3\n",
            "4\n",
            "5\n",
            "6\n",
            "7\n"
          ]
        }
      ]
    },
    {
      "cell_type": "code",
      "source": [
        "def strfunc():\n",
        "  s1 = \"this is first string function\"\n",
        "  yield s1\n",
        "  s2 = \"this is second string function\"\n",
        "  yield s2"
      ],
      "metadata": {
        "id": "OukQAv2KUuRD"
      },
      "execution_count": null,
      "outputs": []
    },
    {
      "cell_type": "code",
      "source": [
        "a = strfunc()\n",
        "print(next(a))"
      ],
      "metadata": {
        "colab": {
          "base_uri": "https://localhost:8080/"
        },
        "id": "pM1vlQ4CZ0rc",
        "outputId": "0b4a2680-9f13-4463-c0c2-4cd107bd000e"
      },
      "execution_count": null,
      "outputs": [
        {
          "output_type": "stream",
          "name": "stdout",
          "text": [
            "this is first string function\n"
          ]
        }
      ]
    },
    {
      "cell_type": "code",
      "source": [
        "print(next(a))"
      ],
      "metadata": {
        "colab": {
          "base_uri": "https://localhost:8080/"
        },
        "id": "pqjOwFIsZ8kc",
        "outputId": "e04b0a27-e005-4713-913a-48bec1ffc6f7"
      },
      "execution_count": null,
      "outputs": [
        {
          "output_type": "stream",
          "name": "stdout",
          "text": [
            "this is second string function\n"
          ]
        }
      ]
    },
    {
      "cell_type": "code",
      "source": [
        "add = lambda a,b:a+b"
      ],
      "metadata": {
        "id": "vjUT6xiYaa0b"
      },
      "execution_count": null,
      "outputs": []
    },
    {
      "cell_type": "code",
      "source": [
        "add(10,15)"
      ],
      "metadata": {
        "colab": {
          "base_uri": "https://localhost:8080/"
        },
        "id": "ldGzZ4xrbthm",
        "outputId": "dd3f4b08-036b-4819-c0dc-f2692cffa058"
      },
      "execution_count": null,
      "outputs": [
        {
          "output_type": "execute_result",
          "data": {
            "text/plain": [
              "25"
            ]
          },
          "metadata": {},
          "execution_count": 33
        }
      ]
    },
    {
      "cell_type": "markdown",
      "source": [
        "# Decorators"
      ],
      "metadata": {
        "id": "ClPOrRmSdhhc"
      }
    },
    {
      "cell_type": "code",
      "source": [
        "def fun():\n",
        "  def fun1():\n",
        "    print(\"This is first child function\")\n",
        "  def fun2():\n",
        "    print(\"This is second child function\")\n",
        "  fun1()\n",
        "  fun2()\n",
        "fun()"
      ],
      "metadata": {
        "colab": {
          "base_uri": "https://localhost:8080/"
        },
        "id": "5sHhilOUb3mI",
        "outputId": "317b98d4-c08e-4e27-e23a-d857e45aab07"
      },
      "execution_count": null,
      "outputs": [
        {
          "output_type": "stream",
          "name": "stdout",
          "text": [
            "This is first child function\n",
            "This is second child function\n"
          ]
        }
      ]
    },
    {
      "cell_type": "markdown",
      "source": [],
      "metadata": {
        "id": "kmaSzTUKStP0"
      }
    },
    {
      "cell_type": "code",
      "source": [
        "s1 = \"this is a sample string\"\n",
        "s1.upper()"
      ],
      "metadata": {
        "colab": {
          "base_uri": "https://localhost:8080/",
          "height": 35
        },
        "id": "Jb789AmBS0fH",
        "outputId": "169e735b-8acf-4a37-d7f1-19b660b013a1"
      },
      "execution_count": null,
      "outputs": [
        {
          "output_type": "execute_result",
          "data": {
            "text/plain": [
              "'THIS IS A SAMPLE STRING'"
            ],
            "application/vnd.google.colaboratory.intrinsic+json": {
              "type": "string"
            }
          },
          "metadata": {},
          "execution_count": 3
        }
      ]
    },
    {
      "cell_type": "code",
      "source": [
        "s1.title()"
      ],
      "metadata": {
        "colab": {
          "base_uri": "https://localhost:8080/",
          "height": 35
        },
        "id": "SvvajEXPS3kh",
        "outputId": "5ae52a2b-9fb5-4655-b9cf-f69fdb05d97c"
      },
      "execution_count": null,
      "outputs": [
        {
          "output_type": "execute_result",
          "data": {
            "text/plain": [
              "'This Is A Sample String'"
            ],
            "application/vnd.google.colaboratory.intrinsic+json": {
              "type": "string"
            }
          },
          "metadata": {},
          "execution_count": 4
        }
      ]
    },
    {
      "cell_type": "code",
      "source": [
        "s1.find('p')"
      ],
      "metadata": {
        "colab": {
          "base_uri": "https://localhost:8080/"
        },
        "id": "VugIVJSiS7a-",
        "outputId": "08788879-21fb-429d-e972-c6081ec585d5"
      },
      "execution_count": null,
      "outputs": [
        {
          "output_type": "execute_result",
          "data": {
            "text/plain": [
              "13"
            ]
          },
          "metadata": {},
          "execution_count": 5
        }
      ]
    },
    {
      "cell_type": "code",
      "source": [
        "def simple_generator(n):\n",
        "    for i in range(n):\n",
        "        yield i\n",
        "\n",
        "# Create a generator object\n",
        "gen = simple_generator(5)\n",
        "\n",
        "# Iterate over the values generated by the generator\n",
        "for value in gen:\n",
        "    print(value)\n"
      ],
      "metadata": {
        "colab": {
          "base_uri": "https://localhost:8080/"
        },
        "id": "9Vsuy2KiTCW6",
        "outputId": "95ca9bcb-9270-4700-aae9-91a8be2592f5"
      },
      "execution_count": null,
      "outputs": [
        {
          "output_type": "stream",
          "name": "stdout",
          "text": [
            "0\n",
            "1\n",
            "2\n",
            "3\n",
            "4\n"
          ]
        }
      ]
    },
    {
      "cell_type": "code",
      "source": [
        "def my_decorator(func):\n",
        "    def wrapper():\n",
        "        print(\"Something is happening before the function is called.\")\n",
        "        func()\n",
        "        print(\"Something is happening after the function is called.\")\n",
        "    return wrapper\n",
        "\n",
        "@my_decorator\n",
        "def say_hello():\n",
        "    print(\"Hello!\")\n",
        "\n",
        "say_hello()\n"
      ],
      "metadata": {
        "colab": {
          "base_uri": "https://localhost:8080/"
        },
        "id": "G3wXa9TCgaRZ",
        "outputId": "eaab9523-37d3-4cf2-faf8-9404d5798f83"
      },
      "execution_count": null,
      "outputs": [
        {
          "output_type": "stream",
          "name": "stdout",
          "text": [
            "Something is happening before the function is called.\n",
            "Hello!\n",
            "Something is happening after the function is called.\n"
          ]
        }
      ]
    },
    {
      "cell_type": "code",
      "source": [
        "try:\n",
        "  n1 = int(input(\"enter number1 = \"))\n",
        "  n2 = int(input(\"enter number2 = \"))\n",
        "  n3 = n1/n2\n",
        "except Exception:\n",
        "  print(\"error occured\")\n",
        "else:\n",
        "  print(\"number3 = \",n3)\n",
        "finally:\n",
        "  print(\"execution completed\")"
      ],
      "metadata": {
        "colab": {
          "base_uri": "https://localhost:8080/"
        },
        "id": "5sHo1vw6irTh",
        "outputId": "28bd47a2-e5ad-4a3f-99aa-7a698aa0e923"
      },
      "execution_count": null,
      "outputs": [
        {
          "output_type": "stream",
          "name": "stdout",
          "text": [
            "enter number1 = 21\n",
            "enter number2 = 0\n",
            "error occured\n",
            "execution completed\n"
          ]
        }
      ]
    },
    {
      "cell_type": "code",
      "source": [
        "try:\n",
        "  n1 = int(input(\"enter number1 = \"))\n",
        "  n2 = int(input(\"enter number2 = \"))\n",
        "  n3 = n1/n2\n",
        "except Exception as arg:\n",
        "  print(\"error occured\",arg)\n",
        "else:\n",
        "  print(\"number3 = \",n3)\n",
        "finally:\n",
        "  print(\"execution completed\")"
      ],
      "metadata": {
        "colab": {
          "base_uri": "https://localhost:8080/"
        },
        "id": "YShJ44wSnuj1",
        "outputId": "e43af907-3167-402c-8d9c-ce0ba09304e7"
      },
      "execution_count": null,
      "outputs": [
        {
          "output_type": "stream",
          "name": "stdout",
          "text": [
            "enter number1 = 18\n",
            "enter number2 = 0\n",
            "error occured division by zero\n",
            "execution completed\n"
          ]
        }
      ]
    },
    {
      "cell_type": "code",
      "source": [
        "class Rectangle:\n",
        "  def __init__(self,l,w):\n",
        "    self.l = l\n",
        "    self.w = w\n",
        "  def area(self):\n",
        "    print(\"area of rectangle =\",self.l*self.w)\n",
        "  def perimeter(self):\n",
        "    print(\"perimeter of rectangle =\",2*(self.l+self.w))\n",
        "  def issquare(self):\n",
        "    if self.l == self.w:\n",
        "      r = True\n",
        "      print(r)\n",
        "    else:\n",
        "      r=False\n",
        "      print(r)"
      ],
      "metadata": {
        "id": "hfhqA85ZoFQg"
      },
      "execution_count": null,
      "outputs": []
    },
    {
      "cell_type": "code",
      "source": [
        "l = float(input(\"enter length = \"))\n",
        "w = float(input(\"enter width = \"))\n",
        "i = Rectangle(l,w)\n",
        "i.area()\n",
        "i.perimeter()\n",
        "i.issquare()"
      ],
      "metadata": {
        "colab": {
          "base_uri": "https://localhost:8080/"
        },
        "id": "ozuzvoWfpru4",
        "outputId": "b613bed9-6692-4454-e8ba-2d7eb8b7be70"
      },
      "execution_count": null,
      "outputs": [
        {
          "output_type": "stream",
          "name": "stdout",
          "text": [
            "enter length = 12\n",
            "enter width = 10\n",
            "area of rectangle = 120.0\n",
            "perimeter of rectangle = 44.0\n",
            "False\n"
          ]
        }
      ]
    },
    {
      "cell_type": "markdown",
      "source": [
        "## Reverse Number"
      ],
      "metadata": {
        "id": "RElrFOTps1IO"
      }
    },
    {
      "cell_type": "code",
      "source": [
        "r = 0\n",
        "n = int(input(\"enter any integer = \"))\n",
        "t = n\n",
        "while (n!=0):\n",
        "  d = n % 10\n",
        "  r = (r*10) + d\n",
        "  n //= 10\n",
        "\n",
        "print(r,\"is a reverse number of input number\",t)"
      ],
      "metadata": {
        "colab": {
          "base_uri": "https://localhost:8080/"
        },
        "id": "D4BBAhfKqLB8",
        "outputId": "3c22bc42-e58f-4998-c375-3881151e0b4a"
      },
      "execution_count": null,
      "outputs": [
        {
          "output_type": "stream",
          "name": "stdout",
          "text": [
            "enter any integer = 124\n",
            "421 is a reverse number of input number 124\n"
          ]
        }
      ]
    },
    {
      "cell_type": "markdown",
      "source": [
        "## ArmStrong Number"
      ],
      "metadata": {
        "id": "8ax_BTFSCDBa"
      }
    },
    {
      "cell_type": "code",
      "source": [
        "s = 0\n",
        "n = int(input(\"enter any number = \"))\n",
        "c = len(str(n))\n",
        "t = n\n",
        "while n > 0:\n",
        "  r = n%10\n",
        "  s += r**c\n",
        "  n //= 10\n",
        "\n",
        "if (s==t):\n",
        "  print(t,\"is a armstrong number\")\n",
        "else:\n",
        "  print(t,\"is not a armstrong number\")"
      ],
      "metadata": {
        "colab": {
          "base_uri": "https://localhost:8080/"
        },
        "id": "4UUMgJi7tskp",
        "outputId": "956485ab-3b5f-439b-a41f-cf3e5f37d76b"
      },
      "execution_count": null,
      "outputs": [
        {
          "output_type": "stream",
          "name": "stdout",
          "text": [
            "enter any number = 407\n",
            "407 is a armstrong number\n"
          ]
        }
      ]
    },
    {
      "cell_type": "code",
      "source": [
        "s = 0\n",
        "n = int(input(\"enter any number = \"))\n",
        "t = n\n",
        "while n>0:\n",
        "  r = n%10\n",
        "  s += r*r*r\n",
        "  n //= 10\n",
        "\n",
        "if(t==s):\n",
        "  print(t,\"is a armstrong number\")\n",
        "else:\n",
        "  print(t,\"is not a armstrong number\")"
      ],
      "metadata": {
        "colab": {
          "base_uri": "https://localhost:8080/"
        },
        "id": "5U_yuxOFCsB_",
        "outputId": "13810ed1-d9b7-4249-a583-7bc83eaa02d9"
      },
      "execution_count": null,
      "outputs": [
        {
          "output_type": "stream",
          "name": "stdout",
          "text": [
            "enter any number = 370\n",
            "370 is a armstrong number\n"
          ]
        }
      ]
    },
    {
      "cell_type": "code",
      "source": [
        "s = 0\n",
        "n = int(input(\"enter any number = \"))\n",
        "t = n\n",
        "while n>0:\n",
        "  r = n%10\n",
        "  s += r*r*r*r\n",
        "  n //= 10\n",
        "\n",
        "if(t==s):\n",
        "  print(t,\"is a armstrong number\")\n",
        "else:\n",
        "  print(t,\"is not a armstrong number\")"
      ],
      "metadata": {
        "colab": {
          "base_uri": "https://localhost:8080/"
        },
        "id": "Zs-M0mETDuNh",
        "outputId": "2cdbe944-a9e1-40bb-f25a-1b29c3811bab"
      },
      "execution_count": null,
      "outputs": [
        {
          "output_type": "stream",
          "name": "stdout",
          "text": [
            "enter any number = 9474\n",
            "9474 is a armstrong number\n"
          ]
        }
      ]
    },
    {
      "cell_type": "markdown",
      "source": [
        "## Palindrome Number"
      ],
      "metadata": {
        "id": "iLYDzsSPEvIo"
      }
    },
    {
      "cell_type": "code",
      "source": [
        "s=0\n",
        "r=0\n",
        "n = int(input(\"enter any integer = \"))\n",
        "t = n\n",
        "while n>0:\n",
        "  d = n%10\n",
        "  r = (r*10) + d\n",
        "  n //=10\n",
        "\n",
        "if (r==t):\n",
        "  print(r,\"is a palindrome number\")\n",
        "else:\n",
        "  print(r,\"is not a palindrome number\")"
      ],
      "metadata": {
        "colab": {
          "base_uri": "https://localhost:8080/"
        },
        "id": "KsqSWwWjENLg",
        "outputId": "90fd9c26-15dd-4190-882a-4d05d32ef689"
      },
      "execution_count": null,
      "outputs": [
        {
          "output_type": "stream",
          "name": "stdout",
          "text": [
            "enter any integer = 121\n",
            "121 is a palindrome number\n"
          ]
        }
      ]
    },
    {
      "cell_type": "code",
      "source": [
        "n = int(input(\"enter number = \"))\n",
        "flag = False\n",
        "if n == 1:\n",
        "  print(n,\"is not a prime number\")\n",
        "elif n > 1:\n",
        "  for i in range(2,n):\n",
        "    if (n%i == 0):\n",
        "      flag=True\n",
        "      break\n",
        "  if (flag == True):\n",
        "    print(n,\"is not a prime number\")\n",
        "  else:\n",
        "    print(n,\"is a prime number\")"
      ],
      "metadata": {
        "id": "rXykR_JyHGqy",
        "colab": {
          "base_uri": "https://localhost:8080/"
        },
        "outputId": "3d3aafcb-cafd-4f52-8066-8846aba81971"
      },
      "execution_count": null,
      "outputs": [
        {
          "output_type": "stream",
          "name": "stdout",
          "text": [
            "enter number = 5\n",
            "5 is a prime number\n"
          ]
        }
      ]
    },
    {
      "cell_type": "code",
      "source": [
        "n1 = 1233334\n",
        "n2 = 1334\n",
        "\n",
        "s1 = str(n1)\n",
        "s2 = str(n2)\n",
        "\n",
        "l1 = []\n",
        "l2 = []\n",
        "\n",
        "for i in range(len(s1)):\n",
        "  if s1[i] == s1[i+1] == s1[i+2]:\n",
        "    l1.append(s1[i])\n",
        "    break\n",
        "\n",
        "for j in range(len(s2)):\n",
        "  if s2[j] == s2[j+1]:\n",
        "    l2.append(s2[j])\n",
        "    break\n",
        "\n",
        "n3 = int(\"\".join(l1))\n",
        "n4 = int(\"\".join(l2))\n",
        "if n3==n4:\n",
        "  print(\"True\")\n",
        "else:\n",
        "  print(\"False\")"
      ],
      "metadata": {
        "colab": {
          "base_uri": "https://localhost:8080/"
        },
        "id": "W9t1qPUrrELw",
        "outputId": "3ef21729-c1ef-4482-8bb2-4fd4d4f45e37"
      },
      "execution_count": null,
      "outputs": [
        {
          "output_type": "stream",
          "name": "stdout",
          "text": [
            "True\n"
          ]
        }
      ]
    },
    {
      "cell_type": "code",
      "source": [
        "def PrimeList(n):\n",
        "    primeNumbers =[]\n",
        "    for num in range(1,10**4):\n",
        "        prime = True\n",
        "        for i in range(2,num):\n",
        "            if (num%i==0):\n",
        "                prime = False\n",
        "        if (prime == True):\n",
        "            primeNumbers.append(num)\n",
        "    print(primeNumbers[n])\n",
        "\n",
        "PrimeList(25)"
      ],
      "metadata": {
        "colab": {
          "base_uri": "https://localhost:8080/"
        },
        "id": "wAM6-hfOEp-8",
        "outputId": "7237d372-1a83-4698-85af-a30cf44b2b34"
      },
      "execution_count": null,
      "outputs": [
        {
          "output_type": "stream",
          "name": "stdout",
          "text": [
            "97\n"
          ]
        }
      ]
    },
    {
      "cell_type": "code",
      "source": [],
      "metadata": {
        "id": "YuX6eY_aKWZA"
      },
      "execution_count": null,
      "outputs": []
    }
  ]
}