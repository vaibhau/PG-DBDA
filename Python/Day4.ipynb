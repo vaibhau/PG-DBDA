{
 "cells": [
  {
   "cell_type": "code",
   "execution_count": 1,
   "id": "5949c292",
   "metadata": {},
   "outputs": [
    {
     "name": "stdout",
     "output_type": "stream",
     "text": [
      "enter range = 5\n",
      "[2, 3, 4, 5, 1]\n",
      "[3, 4, 5, 1, 2]\n",
      "[4, 5, 1, 2, 3]\n",
      "[5, 1, 2, 3, 4]\n",
      "[1, 2, 3, 4, 5]\n"
     ]
    }
   ],
   "source": [
    "l = [1,2,3,4,5]\n",
    "n = int(input(\"enter range = \"))\n",
    "while n > 0:\n",
    "    t=l.pop(0)\n",
    "    l.append(t)\n",
    "    print(l)\n",
    "    n-=1"
   ]
  },
  {
   "cell_type": "code",
   "execution_count": 8,
   "id": "eb00dcf4",
   "metadata": {},
   "outputs": [
    {
     "name": "stdout",
     "output_type": "stream",
     "text": [
      "enter range = 5\n",
      "[5, 1, 2, 3, 4]\n",
      "[4, 5, 1, 2, 3]\n",
      "[3, 4, 5, 1, 2]\n",
      "[2, 3, 4, 5, 1]\n",
      "[1, 2, 3, 4, 5]\n"
     ]
    }
   ],
   "source": [
    "l = [1,2,3,4,5]\n",
    "n = int(input(\"enter range = \"))\n",
    "while n > 0:\n",
    "    t=l.pop(-1)\n",
    "    l.insert(0,t)\n",
    "    print(l)\n",
    "    n-=1"
   ]
  },
  {
   "cell_type": "code",
   "execution_count": 2,
   "id": "5ff2be4b",
   "metadata": {},
   "outputs": [
    {
     "name": "stdout",
     "output_type": "stream",
     "text": [
      "10  20  30  \n",
      "40  50  \n",
      "60  70  80  90  100  \n"
     ]
    }
   ],
   "source": [
    "list2d = [[10,20,30],[40,50],[60,70,80,90,100]]\n",
    "for i in range(len(list2d)):\n",
    "    for j in range(len(list2d[i])):\n",
    "        print(list2d[i][j],' ',end='')\n",
    "    print()"
   ]
  },
  {
   "cell_type": "markdown",
   "id": "caac6ee0",
   "metadata": {},
   "source": [
    "accept input number from user till the user enters blank and find sum of all elements of list"
   ]
  },
  {
   "cell_type": "code",
   "execution_count": 4,
   "id": "4bdef732",
   "metadata": {},
   "outputs": [
    {
     "name": "stdout",
     "output_type": "stream",
     "text": [
      "enter number = 1\n",
      "enter number = 1\n",
      "enter number = 2\n",
      "enter number = 3\n",
      "enter number = 4\n",
      "enter number = \n",
      "['1', '1', '2', '3', '4']\n",
      "the sum is 11\n"
     ]
    }
   ],
   "source": [
    "l=[]\n",
    "s=0\n",
    "while True:\n",
    "    n=input(\"enter number = \")\n",
    "    if n=='':\n",
    "        break\n",
    "    else:\n",
    "        l.append(n)\n",
    "print(l)\n",
    "for i in l:\n",
    "    s=s+int(i)\n",
    "print(\"the sum is\",s)"
   ]
  },
  {
   "cell_type": "code",
   "execution_count": 6,
   "id": "a52f46d8",
   "metadata": {},
   "outputs": [
    {
     "name": "stdout",
     "output_type": "stream",
     "text": [
      "enter number = 1\n",
      "enter number = 1\n",
      "enter number = 2\n",
      "enter number = \n",
      "[1, 1, 2]\n",
      "sum= 4\n"
     ]
    }
   ],
   "source": [
    "#method 2\n",
    "l=[]\n",
    "while True:\n",
    "    n=input('enter number = ')\n",
    "    if n=='':\n",
    "        break\n",
    "    else:\n",
    "        l.append(int(n))\n",
    "print(l)\n",
    "print('sum=',sum(l))"
   ]
  },
  {
   "cell_type": "markdown",
   "id": "27f0eaa0",
   "metadata": {},
   "source": [
    "accept input number from user till the user enters blank and find sum of all ele of list print ele of list lesser than avg of list"
   ]
  },
  {
   "cell_type": "code",
   "execution_count": 11,
   "id": "44b9af18",
   "metadata": {},
   "outputs": [
    {
     "name": "stdout",
     "output_type": "stream",
     "text": [
      "enter number = 1\n",
      "enter number = 2\n",
      "enter number = 3\n",
      "enter number = 4\n",
      "enter number = 5\n",
      "enter number = 6\n",
      "enter number = 7\n",
      "enter number = \n",
      "[1, 2, 3, 4, 5, 6, 7]\n",
      "sum =  28\n",
      "1\n",
      "2\n",
      "3\n"
     ]
    }
   ],
   "source": [
    "l=[]\n",
    "while True:\n",
    "    n=input(\"enter number = \")\n",
    "    if n=='':\n",
    "        break\n",
    "    else:\n",
    "        l.append(int(n))\n",
    "print(l)\n",
    "print('sum = ',sum(l))\n",
    "avg=sum(l)/len(l)\n",
    "for i in l:\n",
    "    if i<avg:\n",
    "        print(i)"
   ]
  },
  {
   "cell_type": "markdown",
   "id": "9e89a4fe",
   "metadata": {},
   "source": [
    "accept input number from user till the user enters blank and find sum of all ele of list\n",
    "print ele of list lesser than avg of list\n",
    "print all elements lesser than avg of all in sorted order"
   ]
  },
  {
   "cell_type": "code",
   "execution_count": 5,
   "id": "285d3848",
   "metadata": {},
   "outputs": [
    {
     "name": "stdout",
     "output_type": "stream",
     "text": [
      "enter number = 9\n",
      "enter number = 7\n",
      "enter number = 5\n",
      "enter number = 3\n",
      "enter number = 4\n",
      "enter number = 2\n",
      "enter number = 6\n",
      "enter number = 8\n",
      "enter number = \n",
      "sum =  44\n",
      "[2, 3, 4, 5]\n"
     ]
    }
   ],
   "source": [
    "l=[]\n",
    "new=[]\n",
    "while True:\n",
    "    n=input(\"enter number = \")\n",
    "    if n=='':\n",
    "        break\n",
    "    else:\n",
    "        l.append(int(n))\n",
    "print('sum = ',sum(l))\n",
    "avg=sum(l)/len(l)\n",
    "for i in l:\n",
    "    if i<avg:\n",
    "        new.append(i)\n",
    "new.sort()\n",
    "print(new)"
   ]
  },
  {
   "cell_type": "markdown",
   "id": "d44c5ba6",
   "metadata": {},
   "source": [
    "accept input number from user till the user enters blank \n",
    "print second largest and second smallest"
   ]
  },
  {
   "cell_type": "code",
   "execution_count": 2,
   "id": "845fd2ec",
   "metadata": {},
   "outputs": [
    {
     "name": "stdout",
     "output_type": "stream",
     "text": [
      "enter number = 3\n",
      "enter number = 5\n",
      "enter number = 8\n",
      "enter number = 2\n",
      "enter number = 9\n",
      "enter number = \n",
      "second largest =  8\n",
      "second smallest =  3\n"
     ]
    }
   ],
   "source": [
    "l=[]\n",
    "while True:\n",
    "    n=input('enter number = ')\n",
    "    if n=='':\n",
    "        break\n",
    "    else:\n",
    "        l.append(int(n))\n",
    "l.sort()\n",
    "print('second largest = ',l[-2])\n",
    "print('second smallest = ',l[1])"
   ]
  },
  {
   "cell_type": "markdown",
   "id": "35870a57",
   "metadata": {},
   "source": [
    "[1,2,3,4,5]\n",
    "rotate content for n time given by user"
   ]
  },
  {
   "cell_type": "code",
   "execution_count": 3,
   "id": "82f2ec06",
   "metadata": {},
   "outputs": [
    {
     "name": "stdout",
     "output_type": "stream",
     "text": [
      "enter number of range = 6\n",
      "[2, 3, 4, 5, 1]\n",
      "[3, 4, 5, 1, 2]\n",
      "[4, 5, 1, 2, 3]\n",
      "[5, 1, 2, 3, 4]\n",
      "[1, 2, 3, 4, 5]\n",
      "[2, 3, 4, 5, 1]\n"
     ]
    },
    {
     "data": {
      "text/plain": [
       "[2, 3, 4, 5, 1]"
      ]
     },
     "execution_count": 3,
     "metadata": {},
     "output_type": "execute_result"
    }
   ],
   "source": [
    "l=[1,2,3,4,5]\n",
    "n=int(input('enter number of range = '))\n",
    "while n>0:\n",
    "    t=l.pop(0)\n",
    "    l.append(t)\n",
    "    print(l)\n",
    "    n-=1\n",
    "l"
   ]
  },
  {
   "cell_type": "code",
   "execution_count": 3,
   "id": "6cc7955d",
   "metadata": {},
   "outputs": [
    {
     "data": {
      "text/plain": [
       "4"
      ]
     },
     "execution_count": 3,
     "metadata": {},
     "output_type": "execute_result"
    }
   ],
   "source": [
    "l2=[1,2,3,4,1,2,3,6,3,2,1]\n",
    "l2.index(1,2)"
   ]
  },
  {
   "cell_type": "code",
   "execution_count": 4,
   "id": "fe020b05",
   "metadata": {},
   "outputs": [
    {
     "data": {
      "text/plain": [
       "3"
      ]
     },
     "execution_count": 4,
     "metadata": {},
     "output_type": "execute_result"
    }
   ],
   "source": [
    "l2.count(1)"
   ]
  },
  {
   "cell_type": "code",
   "execution_count": 6,
   "id": "805252f4",
   "metadata": {},
   "outputs": [
    {
     "name": "stdout",
     "output_type": "stream",
     "text": [
      "[1, 1, 1, 2, 2, 2, 3, 3, 3, 4, 6]\n"
     ]
    }
   ],
   "source": [
    "print(sorted(l2))"
   ]
  },
  {
   "cell_type": "code",
   "execution_count": 7,
   "id": "5a6b11bf",
   "metadata": {},
   "outputs": [
    {
     "data": {
      "text/plain": [
       "[1, 2, 3, 4, 1, 2, 3, 6, 3, 2, 1]"
      ]
     },
     "execution_count": 7,
     "metadata": {},
     "output_type": "execute_result"
    }
   ],
   "source": [
    "l2"
   ]
  },
  {
   "cell_type": "code",
   "execution_count": 8,
   "id": "6c1a463d",
   "metadata": {},
   "outputs": [],
   "source": [
    "l2.reverse()"
   ]
  },
  {
   "cell_type": "code",
   "execution_count": 9,
   "id": "6ce7b4a9",
   "metadata": {},
   "outputs": [
    {
     "data": {
      "text/plain": [
       "[1, 2, 3, 6, 3, 2, 1, 4, 3, 2, 1]"
      ]
     },
     "execution_count": 9,
     "metadata": {},
     "output_type": "execute_result"
    }
   ],
   "source": [
    "l2"
   ]
  },
  {
   "cell_type": "code",
   "execution_count": 10,
   "id": "2d49bc53",
   "metadata": {},
   "outputs": [],
   "source": [
    "l2.sort(reverse=True)"
   ]
  },
  {
   "cell_type": "code",
   "execution_count": 11,
   "id": "24ff247a",
   "metadata": {},
   "outputs": [
    {
     "data": {
      "text/plain": [
       "[6, 4, 3, 3, 3, 2, 2, 2, 1, 1, 1]"
      ]
     },
     "execution_count": 11,
     "metadata": {},
     "output_type": "execute_result"
    }
   ],
   "source": [
    "l2"
   ]
  },
  {
   "cell_type": "code",
   "execution_count": 12,
   "id": "e4538463",
   "metadata": {},
   "outputs": [],
   "source": [
    "l2.sort()"
   ]
  },
  {
   "cell_type": "code",
   "execution_count": 16,
   "id": "12fd4acf",
   "metadata": {
    "scrolled": true
   },
   "outputs": [
    {
     "name": "stdout",
     "output_type": "stream",
     "text": [
      "[1, 2, 3, 4, 5]\n",
      "enter n number of rotations = 5\n",
      "[5, 1, 2, 3, 4]\n",
      "[4, 5, 1, 2, 3]\n",
      "[3, 4, 5, 1, 2]\n",
      "[2, 3, 4, 5, 1]\n",
      "[1, 2, 3, 4, 5]\n"
     ]
    }
   ],
   "source": [
    "l3=[1,2,3,4,5]\n",
    "print(l3)\n",
    "n=int(input('enter n number of rotations = '))\n",
    "while n>0:\n",
    "    t=l3.pop()\n",
    "    l3.insert(0,t)\n",
    "    print(l3)\n",
    "    n-=1"
   ]
  },
  {
   "cell_type": "markdown",
   "id": "a474189c",
   "metadata": {},
   "source": []
  },
  {
   "cell_type": "code",
   "execution_count": null,
   "id": "68904965",
   "metadata": {},
   "outputs": [],
   "source": []
  }
 ],
 "metadata": {
  "kernelspec": {
   "display_name": "Python 3 (ipykernel)",
   "language": "python",
   "name": "python3"
  },
  "language_info": {
   "codemirror_mode": {
    "name": "ipython",
    "version": 3
   },
   "file_extension": ".py",
   "mimetype": "text/x-python",
   "name": "python",
   "nbconvert_exporter": "python",
   "pygments_lexer": "ipython3",
   "version": "3.11.2"
  }
 },
 "nbformat": 4,
 "nbformat_minor": 5
}
