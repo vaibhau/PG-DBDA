{
 "cells": [
  {
   "cell_type": "markdown",
   "id": "4a86eaa9",
   "metadata": {},
   "source": [
    "# data visualization\n",
    "\n"
   ]
  },
  {
   "cell_type": "markdown",
   "id": "cb083a27",
   "metadata": {},
   "source": [
    "# plot graph by using data frame\n",
    "\n",
    "for plotting we will use matplotlib\n",
    "import matplotlib.pyplot as plt\n",
    "\n",
    "1. for plotting a graph, we need to first set x and y value and pass it to plt.plot(x,y)\n",
    "2. inorder to set label and title.\n",
    "\n",
    "plotting a graph from data frame, we need pandas and matplotlib both.\n",
    "we need to provide columns from data frame to graph plot.\n"
   ]
  },
  {
   "cell_type": "markdown",
   "id": "44235cc9",
   "metadata": {},
   "source": [
    "# numpy\n",
    "\n",
    "numpy is specially use for matrix manupulation"
   ]
  },
  {
   "cell_type": "code",
   "execution_count": 1,
   "id": "a9201e55",
   "metadata": {},
   "outputs": [],
   "source": [
    "import numpy as np"
   ]
  },
  {
   "cell_type": "code",
   "execution_count": 2,
   "id": "194a15b6",
   "metadata": {},
   "outputs": [],
   "source": [
    "m=np.array([[10,20,30,40],[12,23,34,45]])"
   ]
  },
  {
   "cell_type": "code",
   "execution_count": 3,
   "id": "f78667db",
   "metadata": {},
   "outputs": [
    {
     "name": "stdout",
     "output_type": "stream",
     "text": [
      "[[10 20 30 40]\n",
      " [12 23 34 45]]\n"
     ]
    }
   ],
   "source": [
    "print(m)"
   ]
  },
  {
   "cell_type": "code",
   "execution_count": 4,
   "id": "c13de5a9",
   "metadata": {},
   "outputs": [
    {
     "data": {
      "text/plain": [
       "(2, 4)"
      ]
     },
     "execution_count": 4,
     "metadata": {},
     "output_type": "execute_result"
    }
   ],
   "source": [
    "m.shape #only if square or rectangle matrix or only number of rows"
   ]
  },
  {
   "cell_type": "code",
   "execution_count": 5,
   "id": "5427c076",
   "metadata": {},
   "outputs": [],
   "source": [
    "m=np.array([[10,20,30,40],[12,23,34,45]])"
   ]
  },
  {
   "cell_type": "markdown",
   "id": "363a512b",
   "metadata": {},
   "source": [
    "if it is taken as one dimension like [10,20,30,40,50,60], then it gives 'n'(6)"
   ]
  },
  {
   "cell_type": "code",
   "execution_count": 9,
   "id": "1ca77d44",
   "metadata": {},
   "outputs": [
    {
     "data": {
      "text/plain": [
       "2"
      ]
     },
     "execution_count": 9,
     "metadata": {},
     "output_type": "execute_result"
    }
   ],
   "source": [
    "m.ndim #- return dimension of given array.\n",
    "#if sqaure or rectangular 1d,2d,3d else only 1d.\n",
    "\n",
    "m.size\n",
    "\n",
    "#if square or rectangular m.size returns number of elements otherwise returns number of rows"
   ]
  },
  {
   "cell_type": "code",
   "execution_count": 10,
   "id": "29e6030c",
   "metadata": {},
   "outputs": [
    {
     "name": "stdout",
     "output_type": "stream",
     "text": [
      "8\n"
     ]
    }
   ],
   "source": [
    "print(m.size)"
   ]
  },
  {
   "cell_type": "code",
   "execution_count": 11,
   "id": "92af9b58",
   "metadata": {},
   "outputs": [
    {
     "data": {
      "text/plain": [
       "30"
      ]
     },
     "execution_count": 11,
     "metadata": {},
     "output_type": "execute_result"
    }
   ],
   "source": [
    "m[0][2]"
   ]
  },
  {
   "cell_type": "code",
   "execution_count": 12,
   "id": "3812d23f",
   "metadata": {},
   "outputs": [],
   "source": [
    "m=np.array([[11,22,33,44],[55,66,77,88],[99,111,222,333]])"
   ]
  },
  {
   "cell_type": "code",
   "execution_count": 13,
   "id": "d4c42331",
   "metadata": {},
   "outputs": [
    {
     "data": {
      "text/plain": [
       "12"
      ]
     },
     "execution_count": 13,
     "metadata": {},
     "output_type": "execute_result"
    }
   ],
   "source": [
    "m.size"
   ]
  },
  {
   "cell_type": "code",
   "execution_count": 14,
   "id": "46062865",
   "metadata": {},
   "outputs": [
    {
     "data": {
      "text/plain": [
       "2"
      ]
     },
     "execution_count": 14,
     "metadata": {},
     "output_type": "execute_result"
    }
   ],
   "source": [
    "m.ndim"
   ]
  },
  {
   "cell_type": "code",
   "execution_count": 15,
   "id": "104e7a41",
   "metadata": {},
   "outputs": [
    {
     "data": {
      "text/plain": [
       "(3, 4)"
      ]
     },
     "execution_count": 15,
     "metadata": {},
     "output_type": "execute_result"
    }
   ],
   "source": [
    "m.shape"
   ]
  },
  {
   "cell_type": "code",
   "execution_count": 16,
   "id": "ee0d3b50",
   "metadata": {},
   "outputs": [
    {
     "name": "stdout",
     "output_type": "stream",
     "text": [
      "[[ 11  22  33  44]\n",
      " [ 55  66  77  88]\n",
      " [ 99 111 222 333]]\n"
     ]
    }
   ],
   "source": [
    "print(m)"
   ]
  },
  {
   "cell_type": "markdown",
   "id": "a743b540",
   "metadata": {},
   "source": [
    "bydefult len returns number of rows, when given with row index will return number of column."
   ]
  },
  {
   "cell_type": "code",
   "execution_count": 22,
   "id": "31e50394",
   "metadata": {},
   "outputs": [
    {
     "name": "stdout",
     "output_type": "stream",
     "text": [
      "11\n",
      "22\n",
      "33\n",
      "44\n",
      "55\n",
      "66\n",
      "77\n",
      "88\n",
      "99\n",
      "111\n",
      "222\n",
      "333\n"
     ]
    }
   ],
   "source": [
    "for i in m:\n",
    "    for j in i:\n",
    "        print(j)"
   ]
  },
  {
   "cell_type": "code",
   "execution_count": 23,
   "id": "3a3f62a4",
   "metadata": {},
   "outputs": [
    {
     "name": "stdout",
     "output_type": "stream",
     "text": [
      "11\n",
      "22\n",
      "33\n",
      "44\n",
      "55\n",
      "66\n",
      "77\n",
      "88\n",
      "99\n",
      "111\n",
      "222\n",
      "333\n"
     ]
    }
   ],
   "source": [
    "for i in np.nditer(m[::]): #this method is used to slicing.\n",
    "    print(i) "
   ]
  },
  {
   "cell_type": "code",
   "execution_count": 28,
   "id": "774fe269",
   "metadata": {},
   "outputs": [
    {
     "name": "stdout",
     "output_type": "stream",
     "text": [
      "[ 1 11 21 31 41 51 61 71 81 91]\n"
     ]
    }
   ],
   "source": [
    "n=np.arange(1,100,10)\n",
    "print(n)"
   ]
  },
  {
   "cell_type": "code",
   "execution_count": 29,
   "id": "414482ab",
   "metadata": {},
   "outputs": [
    {
     "data": {
      "text/plain": [
       "array([[ 11,  22,  33,  44],\n",
       "       [ 55,  66,  77,  88],\n",
       "       [ 99, 111, 222, 333]])"
      ]
     },
     "execution_count": 29,
     "metadata": {},
     "output_type": "execute_result"
    }
   ],
   "source": [
    "m.reshape(3,4)"
   ]
  },
  {
   "cell_type": "code",
   "execution_count": 37,
   "id": "deacb41e",
   "metadata": {},
   "outputs": [
    {
     "name": "stdout",
     "output_type": "stream",
     "text": [
      "[[ 1  3  5  7]\n",
      " [ 9 11 13 15]\n",
      " [17 19 21 23]]\n"
     ]
    }
   ],
   "source": [
    "#arange(start,end,step)\n",
    "a=np.arange(1,24,2)\n",
    "print(a.reshape(3,4))"
   ]
  },
  {
   "cell_type": "code",
   "execution_count": 39,
   "id": "2a3e40c4",
   "metadata": {},
   "outputs": [
    {
     "ename": "TypeError",
     "evalue": "'c' is an invalid keyword argument for print()",
     "output_type": "error",
     "traceback": [
      "\u001b[1;31m---------------------------------------------------------------------------\u001b[0m",
      "\u001b[1;31mTypeError\u001b[0m                                 Traceback (most recent call last)",
      "Cell \u001b[1;32mIn[39], line 1\u001b[0m\n\u001b[1;32m----> 1\u001b[0m \u001b[38;5;28;43mprint\u001b[39;49m\u001b[43m(\u001b[49m\u001b[43mc\u001b[49m\u001b[38;5;241;43m=\u001b[39;49m\u001b[43mnp\u001b[49m\u001b[38;5;241;43m.\u001b[39;49m\u001b[43marange\u001b[49m\u001b[43m(\u001b[49m\u001b[38;5;241;43m1\u001b[39;49m\u001b[43m,\u001b[49m\u001b[38;5;241;43m24\u001b[39;49m\u001b[43m,\u001b[49m\u001b[38;5;241;43m2\u001b[39;49m\u001b[43m)\u001b[49m\u001b[38;5;241;43m.\u001b[39;49m\u001b[43mreshape\u001b[49m\u001b[43m(\u001b[49m\u001b[38;5;241;43m3\u001b[39;49m\u001b[43m,\u001b[49m\u001b[38;5;241;43m4\u001b[39;49m\u001b[43m)\u001b[49m\u001b[43m)\u001b[49m\n",
      "\u001b[1;31mTypeError\u001b[0m: 'c' is an invalid keyword argument for print()"
     ]
    }
   ],
   "source": [
    "print(c=np.arange(1,24,2).reshape(3,4))"
   ]
  },
  {
   "cell_type": "code",
   "execution_count": 41,
   "id": "2c13503f",
   "metadata": {},
   "outputs": [
    {
     "name": "stdout",
     "output_type": "stream",
     "text": [
      "[ 1.          4.66666667  8.33333333 12.        ]\n"
     ]
    }
   ],
   "source": [
    "m=np.linspace(1,12,4)\n",
    "print(m)"
   ]
  },
  {
   "cell_type": "code",
   "execution_count": null,
   "id": "e10e885a",
   "metadata": {},
   "outputs": [],
   "source": []
  },
  {
   "cell_type": "markdown",
   "id": "e3e126f2",
   "metadata": {},
   "source": [
    "# randomization\n",
    "\n",
    "to use random one must import random class by,\n",
    "from numpy import random.\n",
    "\n",
    "class is used for generating, int and fractional random numbers has 3 basic formats\n",
    "for integer -> random.randint(n) - it will generate random number from 1-n\n"
   ]
  },
  {
   "cell_type": "code",
   "execution_count": 12,
   "id": "6afcfec7",
   "metadata": {},
   "outputs": [],
   "source": [
    "from numpy import random"
   ]
  },
  {
   "cell_type": "code",
   "execution_count": 13,
   "id": "e8e57448",
   "metadata": {},
   "outputs": [
    {
     "name": "stdout",
     "output_type": "stream",
     "text": [
      "55\n"
     ]
    }
   ],
   "source": [
    "print(random.randint(100))"
   ]
  },
  {
   "cell_type": "code",
   "execution_count": 14,
   "id": "7cefa6f1",
   "metadata": {},
   "outputs": [
    {
     "name": "stdout",
     "output_type": "stream",
     "text": [
      "[[59 11 91 27 53 84]\n",
      " [67 28 85  6 37 68]\n",
      " [98  0  3 23  4 84]\n",
      " [13 58 18 41 24 91]\n",
      " [ 9 45 27 85 84 53]\n",
      " [94 11 77  8 37 92]]\n"
     ]
    }
   ],
   "source": [
    "print(random.randint(100,size=(6,6))) #used to get random integers within limit as mentioned in size"
   ]
  },
  {
   "cell_type": "code",
   "execution_count": 17,
   "id": "161b38d6",
   "metadata": {},
   "outputs": [
    {
     "data": {
      "text/plain": [
       "'b'"
      ]
     },
     "execution_count": 17,
     "metadata": {},
     "output_type": "execute_result"
    }
   ],
   "source": [
    "random.choice([\"a\",\"b\",\"c\",\"d\",\"e\"])#used to get random choice"
   ]
  },
  {
   "cell_type": "code",
   "execution_count": 19,
   "id": "fc03ccbd",
   "metadata": {},
   "outputs": [
    {
     "data": {
      "text/plain": [
       "'c'"
      ]
     },
     "execution_count": 19,
     "metadata": {},
     "output_type": "execute_result"
    }
   ],
   "source": [
    "random.choice([\"a\",\"b\",\"c\",\"d\",\"e\"])#used to get random choice as mentioned in size"
   ]
  },
  {
   "cell_type": "code",
   "execution_count": 57,
   "id": "90a7009a",
   "metadata": {},
   "outputs": [
    {
     "ename": "SyntaxError",
     "evalue": "invalid syntax (2066193352.py, line 1)",
     "output_type": "error",
     "traceback": [
      "\u001b[1;36m  Cell \u001b[1;32mIn[57], line 1\u001b[1;36m\u001b[0m\n\u001b[1;33m    1. int, fractional\u001b[0m\n\u001b[1;37m       ^\u001b[0m\n\u001b[1;31mSyntaxError\u001b[0m\u001b[1;31m:\u001b[0m invalid syntax\n"
     ]
    }
   ],
   "source": [
    "1. int, fractional"
   ]
  },
  {
   "cell_type": "code",
   "execution_count": 58,
   "id": "bb427c61",
   "metadata": {},
   "outputs": [
    {
     "name": "stdout",
     "output_type": "stream",
     "text": [
      "[[44 46 11 45  9]\n",
      " [41 47 21 41 24]\n",
      " [40 40 40  3 47]\n",
      " [20 32  5 37 27]\n",
      " [23 26 25  6 29]]\n"
     ]
    }
   ],
   "source": [
    "print(random.randint(50,size=(5,5)))"
   ]
  },
  {
   "cell_type": "code",
   "execution_count": 61,
   "id": "6bce09a2",
   "metadata": {},
   "outputs": [
    {
     "name": "stdout",
     "output_type": "stream",
     "text": [
      "[[19 36 18  4  1]\n",
      " [10  0 21 14 17]\n",
      " [11  5 26 25 11]\n",
      " [26  0  0  1 38]\n",
      " [ 4 16 46 18  3]]\n"
     ]
    }
   ],
   "source": [
    "a=np.random.randint(50,size=(5,5))\n",
    "print(a)"
   ]
  },
  {
   "cell_type": "markdown",
   "id": "2c8ff951",
   "metadata": {},
   "source": [
    "np.sort()-> it will sort content row wise\n"
   ]
  },
  {
   "cell_type": "code",
   "execution_count": 62,
   "id": "c9130d42",
   "metadata": {},
   "outputs": [
    {
     "data": {
      "text/plain": [
       "array([[ 1,  4, 18, 19, 36],\n",
       "       [ 0, 10, 14, 17, 21],\n",
       "       [ 5, 11, 11, 25, 26],\n",
       "       [ 0,  0,  1, 26, 38],\n",
       "       [ 3,  4, 16, 18, 46]])"
      ]
     },
     "execution_count": 62,
     "metadata": {},
     "output_type": "execute_result"
    }
   ],
   "source": [
    "np.sort(a)"
   ]
  },
  {
   "cell_type": "code",
   "execution_count": 63,
   "id": "6186bc87",
   "metadata": {},
   "outputs": [
    {
     "data": {
      "text/plain": [
       "array([[ 4,  0,  0,  1,  1],\n",
       "       [10,  0, 18,  4,  3],\n",
       "       [11,  5, 21, 14, 11],\n",
       "       [19, 16, 26, 18, 17],\n",
       "       [26, 36, 46, 25, 38]])"
      ]
     },
     "execution_count": 63,
     "metadata": {},
     "output_type": "execute_result"
    }
   ],
   "source": [
    "np.sort(a,axis=0)"
   ]
  },
  {
   "cell_type": "code",
   "execution_count": 66,
   "id": "6efed504",
   "metadata": {},
   "outputs": [
    {
     "name": "stdout",
     "output_type": "stream",
     "text": [
      "(array([0, 3, 4], dtype=int64), array([1, 4, 2], dtype=int64))\n"
     ]
    }
   ],
   "source": [
    "v=np.where(a>=30)\n",
    "print(v)"
   ]
  },
  {
   "cell_type": "code",
   "execution_count": 77,
   "id": "c103f28e",
   "metadata": {},
   "outputs": [
    {
     "name": "stdout",
     "output_type": "stream",
     "text": [
      "(array([0, 0, 0, 1, 1, 1, 1, 2, 2, 2, 2, 3, 3, 4, 4, 4], dtype=int64), array([0, 1, 2, 0, 2, 3, 4, 0, 2, 3, 4, 0, 4, 1, 2, 3], dtype=int64))\n"
     ]
    }
   ],
   "source": [
    "x=np.where(a>=10)\n",
    "print(x)#list of x,y indexes that satisfies condition"
   ]
  },
  {
   "cell_type": "code",
   "execution_count": 78,
   "id": "2b6bc2c7",
   "metadata": {},
   "outputs": [
    {
     "name": "stdout",
     "output_type": "stream",
     "text": [
      "[19 36 18 10 21 14 17 11 26 25 11 26 38 16 46 18]\n"
     ]
    }
   ],
   "source": [
    "print(a[x])"
   ]
  },
  {
   "cell_type": "code",
   "execution_count": null,
   "id": "03c136e3",
   "metadata": {},
   "outputs": [],
   "source": []
  }
 ],
 "metadata": {
  "kernelspec": {
   "display_name": "Python 3 (ipykernel)",
   "language": "python",
   "name": "python3"
  },
  "language_info": {
   "codemirror_mode": {
    "name": "ipython",
    "version": 3
   },
   "file_extension": ".py",
   "mimetype": "text/x-python",
   "name": "python",
   "nbconvert_exporter": "python",
   "pygments_lexer": "ipython3",
   "version": "3.11.2"
  }
 },
 "nbformat": 4,
 "nbformat_minor": 5
}
