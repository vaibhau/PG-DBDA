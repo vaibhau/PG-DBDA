{
 "cells": [
  {
   "cell_type": "markdown",
   "id": "bebb0546",
   "metadata": {},
   "source": [
    "# Tuples"
   ]
  },
  {
   "cell_type": "code",
   "execution_count": 8,
   "id": "9e70fb15",
   "metadata": {},
   "outputs": [
    {
     "name": "stdout",
     "output_type": "stream",
     "text": [
      "(10, 20, 30) <class 'tuple'> 2664152338880\n"
     ]
    }
   ],
   "source": [
    "t=(10,20,30)\n",
    "#tuple is static data type.\n",
    "#we cannot modify tuple, but we can over-write in tuple.\n",
    "#there are only 2 methods that can be used with tuple.\n",
    "print(t,type(t),id(t))"
   ]
  },
  {
   "cell_type": "code",
   "execution_count": 9,
   "id": "cf51b861",
   "metadata": {},
   "outputs": [
    {
     "name": "stdout",
     "output_type": "stream",
     "text": [
      "(40, 50, 60) <class 'tuple'> 2664152400768\n"
     ]
    }
   ],
   "source": [
    "t=(40,50,60)\n",
    "print(t,type(t),id(t))"
   ]
  },
  {
   "cell_type": "markdown",
   "id": "c552c0ec",
   "metadata": {},
   "source": [
    "a list within a tuple is still dynamic"
   ]
  },
  {
   "cell_type": "code",
   "execution_count": 12,
   "id": "090eca7a",
   "metadata": {},
   "outputs": [
    {
     "data": {
      "text/plain": [
       "(10, 20, [11, 22, 33])"
      ]
     },
     "execution_count": 12,
     "metadata": {},
     "output_type": "execute_result"
    }
   ],
   "source": [
    "t=(10,20,[11,22,33])\n",
    "t"
   ]
  },
  {
   "cell_type": "code",
   "execution_count": 13,
   "id": "2181a3d3",
   "metadata": {},
   "outputs": [
    {
     "data": {
      "text/plain": [
       "(10, 20, [11, 22, 33, 44])"
      ]
     },
     "execution_count": 13,
     "metadata": {},
     "output_type": "execute_result"
    }
   ],
   "source": [
    "#you can add element in list which is inside the tuple\n",
    "t[2].append(44)\n",
    "t"
   ]
  },
  {
   "cell_type": "code",
   "execution_count": 15,
   "id": "3ba71328",
   "metadata": {},
   "outputs": [
    {
     "data": {
      "text/plain": [
       "(10, 20, [11, 22, 33, 44, [55, 66, 77, 88], [55, 66, 77, 88]])"
      ]
     },
     "execution_count": 15,
     "metadata": {},
     "output_type": "execute_result"
    }
   ],
   "source": [
    "t[2].append([55,66,77,88])\n",
    "t"
   ]
  },
  {
   "cell_type": "code",
   "execution_count": 17,
   "id": "ac5c6487",
   "metadata": {},
   "outputs": [
    {
     "data": {
      "text/plain": [
       "88"
      ]
     },
     "execution_count": 17,
     "metadata": {},
     "output_type": "execute_result"
    }
   ],
   "source": [
    "#accessing last element of sublist >> list >> tuple\n",
    "t[2][-1][-1]"
   ]
  },
  {
   "cell_type": "markdown",
   "id": "86093c29",
   "metadata": {},
   "source": [
    "in interview, there are 2-3 question on indexing "
   ]
  },
  {
   "cell_type": "markdown",
   "id": "cdda6a2f",
   "metadata": {},
   "source": [
    "# Sets"
   ]
  },
  {
   "cell_type": "code",
   "execution_count": 20,
   "id": "8a2db05a",
   "metadata": {},
   "outputs": [
    {
     "name": "stdout",
     "output_type": "stream",
     "text": [
      "{33, 22, 55, 11, 44}\n"
     ]
    },
    {
     "data": {
      "text/plain": [
       "{11, 22, 33, 44, 55}"
      ]
     },
     "execution_count": 20,
     "metadata": {},
     "output_type": "execute_result"
    }
   ],
   "source": [
    "s={11,22,33,44,55}\n",
    "print(s) #because set\n",
    "s #it will print in sorted order"
   ]
  },
  {
   "cell_type": "markdown",
   "id": "7d338ee7",
   "metadata": {},
   "source": [
    "set taget uniqeness, custom index, heteroginity and dynamic behaviour.\n",
    "set is not indexable.\n",
    "\n",
    "1. union - (or),(|)\n",
    "2. itersection - (and),(&)\n",
    "3. symmetric difference - (^)\n",
    "4. difference - (-)"
   ]
  },
  {
   "cell_type": "code",
   "execution_count": 21,
   "id": "14f5859f",
   "metadata": {},
   "outputs": [
    {
     "name": "stdout",
     "output_type": "stream",
     "text": [
      "{1, 2, 3, 4, 5, 6}\n",
      "{3, 4}\n",
      "{1, 2, 5, 6}\n",
      "{1, 2}\n"
     ]
    }
   ],
   "source": [
    "a={1,2,3,4}\n",
    "b={3,4,5,6}\n",
    "print(a|b)\n",
    "print(a&b)\n",
    "print(a^b)\n",
    "print(a-b)"
   ]
  },
  {
   "cell_type": "code",
   "execution_count": 24,
   "id": "2421a243",
   "metadata": {},
   "outputs": [],
   "source": [
    "emp={1,2,3,4,5,6,7,8,9}\n",
    "drama={2,4,6,7}\n",
    "sing={1,3,6,8}\n",
    "sport={1,3,6,8}"
   ]
  },
  {
   "cell_type": "code",
   "execution_count": 25,
   "id": "d7281a18",
   "metadata": {},
   "outputs": [
    {
     "data": {
      "text/plain": [
       "{6}"
      ]
     },
     "execution_count": 25,
     "metadata": {},
     "output_type": "execute_result"
    }
   ],
   "source": [
    "drama&sing&sport"
   ]
  },
  {
   "cell_type": "code",
   "execution_count": 26,
   "id": "bca91f3a",
   "metadata": {},
   "outputs": [
    {
     "data": {
      "text/plain": [
       "{5, 9}"
      ]
     },
     "execution_count": 26,
     "metadata": {},
     "output_type": "execute_result"
    }
   ],
   "source": [
    "emp-drama-sing-sport"
   ]
  },
  {
   "cell_type": "code",
   "execution_count": 27,
   "id": "90964fe8",
   "metadata": {},
   "outputs": [
    {
     "data": {
      "text/plain": [
       "{1, 2, 3, 4, 6, 7, 8}"
      ]
     },
     "execution_count": 27,
     "metadata": {},
     "output_type": "execute_result"
    }
   ],
   "source": [
    "drama|sing|sport"
   ]
  },
  {
   "cell_type": "markdown",
   "id": "acb8520b",
   "metadata": {},
   "source": [
    "1. add(data) - add one item to the set\n",
    "2. update(set) - add set\n",
    "3. remove(data) - removes data\n",
    "4. discard(data) - remove data without error, element is there or not it does not gives error"
   ]
  },
  {
   "cell_type": "code",
   "execution_count": 31,
   "id": "bcbb730f",
   "metadata": {},
   "outputs": [
    {
     "name": "stdout",
     "output_type": "stream",
     "text": [
      "<class 'set'>\n"
     ]
    }
   ],
   "source": [
    "s=set()\n",
    "print(type(s))"
   ]
  },
  {
   "cell_type": "code",
   "execution_count": 34,
   "id": "3463fda2",
   "metadata": {},
   "outputs": [
    {
     "data": {
      "text/plain": [
       "{1}"
      ]
     },
     "execution_count": 34,
     "metadata": {},
     "output_type": "execute_result"
    }
   ],
   "source": [
    "s.add(1)\n",
    "s"
   ]
  },
  {
   "cell_type": "code",
   "execution_count": 36,
   "id": "d4773622",
   "metadata": {},
   "outputs": [
    {
     "data": {
      "text/plain": [
       "{1, 2, 3, 4, 5, 6}"
      ]
     },
     "execution_count": 36,
     "metadata": {},
     "output_type": "execute_result"
    }
   ],
   "source": [
    "s1={2,3,4,5,6}\n",
    "s.update(s1)\n",
    "s"
   ]
  },
  {
   "cell_type": "code",
   "execution_count": 37,
   "id": "4d38d93f",
   "metadata": {},
   "outputs": [
    {
     "data": {
      "text/plain": [
       "{1, 2, 3, 5, 6}"
      ]
     },
     "execution_count": 37,
     "metadata": {},
     "output_type": "execute_result"
    }
   ],
   "source": [
    "s.remove(4)\n",
    "s"
   ]
  },
  {
   "cell_type": "code",
   "execution_count": 38,
   "id": "450297dd",
   "metadata": {},
   "outputs": [
    {
     "data": {
      "text/plain": [
       "{1, 2, 3, 5, 6}"
      ]
     },
     "execution_count": 38,
     "metadata": {},
     "output_type": "execute_result"
    }
   ],
   "source": [
    "s.discard(4)\n",
    "s"
   ]
  },
  {
   "cell_type": "markdown",
   "id": "29a48571",
   "metadata": {},
   "source": [
    "s.pop() - it will deletes first element (starting element) from the set"
   ]
  },
  {
   "cell_type": "code",
   "execution_count": 44,
   "id": "4037e917",
   "metadata": {},
   "outputs": [
    {
     "name": "stdout",
     "output_type": "stream",
     "text": [
      "enter number = 22\n",
      "enter number = 77\n",
      "enter number = 11\n",
      "enter number = 55\n",
      "enter number = 99\n",
      "enter number = \n",
      "unique data = \n",
      "11\n",
      "22\n",
      "55\n",
      "77\n",
      "99\n",
      "1\n",
      "1\n",
      "1\n",
      "1\n",
      "1\n"
     ]
    }
   ],
   "source": [
    "#list all elements in sorted manner with their count\n",
    "l=[]\n",
    "while True:\n",
    "    n=input('enter number = ')\n",
    "    if n=='':\n",
    "        break\n",
    "    else:\n",
    "        l.append(int(n))\n",
    "print('unique data = ')\n",
    "for i in sorted(set(l)):\n",
    "    print(i)\n",
    "for j in set(l):\n",
    "    print(l.count(j))"
   ]
  },
  {
   "cell_type": "code",
   "execution_count": 45,
   "id": "900d0121",
   "metadata": {},
   "outputs": [
    {
     "name": "stdout",
     "output_type": "stream",
     "text": [
      "enter number = 22\n",
      "enter number = 11\n",
      "enter number = 77\n",
      "enter number = 66\n",
      "enter number = 55\n",
      "enter number = 22\n",
      "enter number = 11\n",
      "enter number = 88\n",
      "enter number = 99\n",
      "enter number = 66\n",
      "enter number = 77\n",
      "enter number = 55\n",
      "enter number = 44\n",
      "enter number = \n",
      "unique data = \n",
      "11 frequency =  2\n",
      "22 frequency =  2\n",
      "44 frequency =  1\n",
      "55 frequency =  2\n",
      "66 frequency =  2\n",
      "77 frequency =  2\n",
      "88 frequency =  1\n",
      "99 frequency =  1\n"
     ]
    }
   ],
   "source": [
    "#method 2\n",
    "#list all elements in sorted manner with their count\n",
    "l=[]\n",
    "while True:\n",
    "    n=input('enter number = ')\n",
    "    if n=='':\n",
    "        break\n",
    "    else:\n",
    "        l.append(int(n))\n",
    "print('unique data = ')\n",
    "for i in sorted(set(l)):\n",
    "    print(i,'frequency = ',l.count(i))"
   ]
  },
  {
   "cell_type": "code",
   "execution_count": 51,
   "id": "97622365",
   "metadata": {},
   "outputs": [
    {
     "name": "stdout",
     "output_type": "stream",
     "text": [
      "enter number = 11\n",
      "enter number = 22\n",
      "enter number = 33\n",
      "enter number = 44\n",
      "enter number = 55\n",
      "enter number = 66\n",
      "enter number = 11\n",
      "enter number = 22\n",
      "enter number = 33\n",
      "enter number = 44\n",
      "enter number = 55\n",
      "enter number = 66\n",
      "enter number = \n",
      "unique data = \n",
      "11 frequency =  2\n",
      "22 frequency =  2\n",
      "33 frequency =  2\n",
      "44 frequency =  2\n",
      "55 frequency =  2\n",
      "66 frequency =  2\n"
     ]
    }
   ],
   "source": [
    "#method 2\n",
    "#list all elements in sorted manner with their count\n",
    "l=[]\n",
    "while True:\n",
    "    n=input('enter number = ')\n",
    "    if n=='':\n",
    "        break\n",
    "    else:\n",
    "        l.append(int(n))\n",
    "print('unique data = ')\n",
    "for i in sorted(set(l)):\n",
    "    print(i,'frequency = ',l.count(i))"
   ]
  },
  {
   "cell_type": "code",
   "execution_count": 53,
   "id": "0d37dbf9",
   "metadata": {},
   "outputs": [
    {
     "name": "stdout",
     "output_type": "stream",
     "text": [
      "enter number = 11\n",
      "enter number = 22\n",
      "enter number = 33\n",
      "enter number = 44\n",
      "enter number = 22\n",
      "enter number = 11\n",
      "enter number = 33\n",
      "enter number = \n",
      "unique data = \n",
      "11 frequency =  2\n",
      "22 frequency =  2\n",
      "33 frequency =  2\n",
      "44 frequency =  1\n",
      "2\n"
     ]
    }
   ],
   "source": [
    "l=[]\n",
    "max=0\n",
    "while True:\n",
    "    n=input('enter number = ')\n",
    "    if n=='':\n",
    "        break\n",
    "    else:\n",
    "        l.append(int(n))\n",
    "print('unique data = ')\n",
    "for i in sorted(set(l)):\n",
    "    print(i,'frequency = ',l.count(i))\n",
    "for i in sorted(set(l)):   \n",
    "    if l.count(i)>max:\n",
    "        max=l.count(i)\n",
    "print(max)"
   ]
  },
  {
   "cell_type": "markdown",
   "id": "6f0ac4bc",
   "metadata": {},
   "source": [
    "# Dictionary"
   ]
  },
  {
   "cell_type": "markdown",
   "id": "20d07daf",
   "metadata": {},
   "source": [
    "dict{key:value}\n",
    "    {id : data}\n",
    "key is unique, data may be / may not be unique "
   ]
  },
  {
   "cell_type": "code",
   "execution_count": null,
   "id": "081cf2ee",
   "metadata": {},
   "outputs": [],
   "source": [
    "d={1:'one',2:'two',3:'three',4:'four',5:'five'}"
   ]
  },
  {
   "cell_type": "code",
   "execution_count": 54,
   "id": "cce2c4dc",
   "metadata": {},
   "outputs": [
    {
     "ename": "SyntaxError",
     "evalue": "invalid syntax (2772060798.py, line 1)",
     "output_type": "error",
     "traceback": [
      "\u001b[1;36m  Cell \u001b[1;32mIn[54], line 1\u001b[1;36m\u001b[0m\n\u001b[1;33m    if you used old key with new data it will update data.\u001b[0m\n\u001b[1;37m           ^\u001b[0m\n\u001b[1;31mSyntaxError\u001b[0m\u001b[1;31m:\u001b[0m invalid syntax\n"
     ]
    }
   ],
   "source": [
    "if you used old key with new data it will update data."
   ]
  },
  {
   "cell_type": "code",
   "execution_count": 58,
   "id": "0544b678",
   "metadata": {},
   "outputs": [
    {
     "name": "stdout",
     "output_type": "stream",
     "text": [
      "enter number = 1234\n",
      "one two three four "
     ]
    }
   ],
   "source": [
    "dir={1:'one',2:'two',3:'three',4:'four',5:'five',6:'six',7:'seven',8:'eight',9:'nine'}\n",
    "n=int(input('enter number = '))\n",
    "rev=0\n",
    "while n>0:\n",
    "    d=n%10\n",
    "    n=n//10\n",
    "    rev=rev*10+d\n",
    "while rev>0:\n",
    "    d=rev%10\n",
    "    rev=rev//10\n",
    "    print(dir[d],end=' ')"
   ]
  },
  {
   "cell_type": "markdown",
   "id": "7da5d674",
   "metadata": {},
   "source": [
    "Q. take a number and print only unique digits only in soreted manner in words \n",
    "input - 361421288\n",
    "output - one two three four six eight"
   ]
  },
  {
   "cell_type": "code",
   "execution_count": 72,
   "id": "283acda1",
   "metadata": {},
   "outputs": [
    {
     "name": "stdout",
     "output_type": "stream",
     "text": [
      "enter number = 123423\n",
      "one two three four "
     ]
    }
   ],
   "source": [
    "dir={1:'one',2:'two',3:'three',4:'four',5:'five',6:'six',7:'seven',8:'eight',9:'nine'}\n",
    "s=set()\n",
    "n=int(input('enter number = '))\n",
    "while n>0:\n",
    "    d=n%10\n",
    "    n=n//10\n",
    "    s.add(d)\n",
    "while rev>0:\n",
    "    d=rev%10\n",
    "    rev=rev//10\n",
    "for i in sorted(s):\n",
    "    print(dir[i],end=' ')"
   ]
  },
  {
   "cell_type": "markdown",
   "id": "2ff96eaa",
   "metadata": {},
   "source": [
    "if dictionary iterated, bydefault keys will printed"
   ]
  },
  {
   "cell_type": "code",
   "execution_count": 74,
   "id": "17e2443c",
   "metadata": {},
   "outputs": [
    {
     "ename": "SyntaxError",
     "evalue": "invalid syntax (2273151001.py, line 1)",
     "output_type": "error",
     "traceback": [
      "\u001b[1;36m  Cell \u001b[1;32mIn[74], line 1\u001b[1;36m\u001b[0m\n\u001b[1;33m    .values -\u001b[0m\n\u001b[1;37m    ^\u001b[0m\n\u001b[1;31mSyntaxError\u001b[0m\u001b[1;31m:\u001b[0m invalid syntax\n"
     ]
    }
   ],
   "source": [
    ".values - \n",
    ".items - "
   ]
  },
  {
   "cell_type": "markdown",
   "id": "38c2cd68",
   "metadata": {},
   "source": [
    "print all keys, values, both keys & values."
   ]
  },
  {
   "cell_type": "markdown",
   "id": "21bcd579",
   "metadata": {},
   "source": [
    "# Strings"
   ]
  },
  {
   "cell_type": "markdown",
   "id": "c23d6623",
   "metadata": {},
   "source": [
    "1. string remains immutable in python.\n",
    "2. There are 4 methods to create string\n",
    "\n",
    "a. s1 = 'string'\n",
    "b. s2 = \"string\"\n",
    "c. s3 = \"\"\"string\"\"\"\n",
    "d. s4 = '''string'''\n",
    "\n",
    "+ -> (+) operator is used to concat two strings\n",
    "\n"
   ]
  },
  {
   "cell_type": "code",
   "execution_count": 1,
   "id": "9c9a82ef",
   "metadata": {},
   "outputs": [
    {
     "name": "stdout",
     "output_type": "stream",
     "text": [
      "x \n",
      "x x \n",
      "x x x \n",
      "x x x x \n",
      "x x x x x \n"
     ]
    }
   ],
   "source": [
    "for i in range(1,6,1):\n",
    "    print(\"x \"*i)"
   ]
  },
  {
   "cell_type": "code",
   "execution_count": 79,
   "id": "1f8841ed",
   "metadata": {},
   "outputs": [
    {
     "name": "stdout",
     "output_type": "stream",
     "text": [
      "x\n",
      "xxx\n",
      "xxxxx\n",
      "xxxxxxx\n",
      "xxxxxxxxx\n"
     ]
    }
   ],
   "source": [
    "for i in range(1,10,2):\n",
    "    print(\"x\"*i)"
   ]
  },
  {
   "cell_type": "code",
   "execution_count": 85,
   "id": "a7036507",
   "metadata": {},
   "outputs": [
    {
     "name": "stdout",
     "output_type": "stream",
     "text": [
      "  xxxxx\n",
      "   xxxx\n",
      "    xxx\n",
      "     xx\n",
      "      x\n"
     ]
    }
   ],
   "source": [
    "for i in range(5,0,-1):\n",
    "    print(' '*(6-i),'x'*i)"
   ]
  },
  {
   "cell_type": "code",
   "execution_count": 90,
   "id": "84742f71",
   "metadata": {},
   "outputs": [
    {
     "name": "stdout",
     "output_type": "stream",
     "text": [
      "      x \n",
      "     x x \n",
      "    x x x \n",
      "   x x x x \n"
     ]
    }
   ],
   "source": [
    "for i in range(1,5,1):\n",
    "    print(\" \"*(6-i),\"x \"*i)"
   ]
  },
  {
   "cell_type": "code",
   "execution_count": 91,
   "id": "acfc0092",
   "metadata": {},
   "outputs": [
    {
     "name": "stdout",
     "output_type": "stream",
     "text": [
      "  x x x x x \n",
      "   x x x x \n",
      "    x x x \n",
      "     x x \n",
      "      x \n"
     ]
    }
   ],
   "source": [
    "for i in range(5,0,-1):\n",
    "    print(' '*(6-i),'x '*i)"
   ]
  },
  {
   "cell_type": "code",
   "execution_count": 92,
   "id": "503edeb4",
   "metadata": {},
   "outputs": [
    {
     "name": "stdout",
     "output_type": "stream",
     "text": [
      "def\n",
      "\n"
     ]
    }
   ],
   "source": [
    "s='abcdefghijk'\n",
    "print(s[3:6])\n",
    "print(s[:3])\n",
    "print(s[4:])\n",
    "print(s[::-1])\n",
    "print(s[])"
   ]
  },
  {
   "cell_type": "code",
   "execution_count": 96,
   "id": "8e14797d",
   "metadata": {},
   "outputs": [
    {
     "name": "stdout",
     "output_type": "stream",
     "text": [
      "enter any word = hello\n",
      "h\n",
      "he\n",
      "hel\n",
      "hell\n",
      "hello\n"
     ]
    }
   ],
   "source": [
    "str=input(\"enter any word = \")\n",
    "for i in range(1,len(str)+1):\n",
    "    print(str[:i])"
   ]
  },
  {
   "cell_type": "code",
   "execution_count": 98,
   "id": "009ab4d3",
   "metadata": {},
   "outputs": [
    {
     "name": "stdout",
     "output_type": "stream",
     "text": [
      "enter any word = hello\n",
      "     h\n",
      "    he\n",
      "   hel\n",
      "  hell\n",
      " hello\n"
     ]
    }
   ],
   "source": [
    "str=input(\"enter any word = \")\n",
    "for i in range(1,len(str)+1):\n",
    "    print(' '*(len(str)-i),str[:i])"
   ]
  },
  {
   "cell_type": "markdown",
   "id": "9aa26502",
   "metadata": {},
   "source": [
    "check a word is palindrome or not"
   ]
  },
  {
   "cell_type": "code",
   "execution_count": 103,
   "id": "65dc28fe",
   "metadata": {},
   "outputs": [
    {
     "name": "stdout",
     "output_type": "stream",
     "text": [
      "enter word = hello\n",
      "its not\n"
     ]
    }
   ],
   "source": [
    "str1=input('enter word = ')\n",
    "str2=str1[::-1]\n",
    "if str1==str2:\n",
    "    print('its palindrome')\n",
    "else:\n",
    "    print('its not')"
   ]
  },
  {
   "cell_type": "code",
   "execution_count": null,
   "id": "a2363ff3",
   "metadata": {},
   "outputs": [],
   "source": [
    "in / not in - to check substring available or not"
   ]
  },
  {
   "cell_type": "markdown",
   "id": "b1d24e18",
   "metadata": {},
   "source": [
    "when string is given to set, it is broken in character sequence, unique, custom order."
   ]
  },
  {
   "cell_type": "code",
   "execution_count": 105,
   "id": "d2ad17d9",
   "metadata": {},
   "outputs": [],
   "source": [
    "str='python'\n",
    "s=set(str)"
   ]
  },
  {
   "cell_type": "code",
   "execution_count": 112,
   "id": "b4cc3781",
   "metadata": {},
   "outputs": [
    {
     "name": "stdout",
     "output_type": "stream",
     "text": [
      "enter any string = hello\n",
      "2\n"
     ]
    }
   ],
   "source": [
    "#number of vowels in given string\n",
    "#method 1\n",
    "count=0\n",
    "str=input(\"enter any string = \")\n",
    "for i in str:\n",
    "    if i in 'aeiou':\n",
    "        count+=1\n",
    "print(count)"
   ]
  },
  {
   "cell_type": "code",
   "execution_count": 113,
   "id": "ee65669b",
   "metadata": {},
   "outputs": [
    {
     "name": "stdout",
     "output_type": "stream",
     "text": [
      "enter any string = hello\n",
      "2\n"
     ]
    }
   ],
   "source": [
    "#method 2\n",
    "count=0\n",
    "str=input(\"enter any string = \")\n",
    "for i in str:\n",
    "    if i=='a' or i=='e' or i=='i' or i=='o' or i=='u':\n",
    "        count+=1\n",
    "print(count)"
   ]
  },
  {
   "cell_type": "markdown",
   "id": "f877c0b7",
   "metadata": {},
   "source": [
    "what is difference between capitalize() and title()\n",
    "capitalize() - capitalizes first letter of string\n",
    "title() - captalizes first letter of every word of string"
   ]
  },
  {
   "cell_type": "code",
   "execution_count": 116,
   "id": "3aa20698",
   "metadata": {},
   "outputs": [
    {
     "data": {
      "text/plain": [
       "'ThIS iS a tESt For Us'"
      ]
     },
     "execution_count": 116,
     "metadata": {},
     "output_type": "execute_result"
    }
   ],
   "source": [
    "s = 'tHis Is A TesT fOR uS'\n",
    "s.swapcase()"
   ]
  },
  {
   "cell_type": "code",
   "execution_count": 117,
   "id": "5fc547bb",
   "metadata": {},
   "outputs": [
    {
     "data": {
      "text/plain": [
       "'THIS IS A TEST FOR US'"
      ]
     },
     "execution_count": 117,
     "metadata": {},
     "output_type": "execute_result"
    }
   ],
   "source": [
    "s.upper()"
   ]
  },
  {
   "cell_type": "code",
   "execution_count": 118,
   "id": "f1546aff",
   "metadata": {},
   "outputs": [
    {
     "data": {
      "text/plain": [
       "'This Is A Test For Us'"
      ]
     },
     "execution_count": 118,
     "metadata": {},
     "output_type": "execute_result"
    }
   ],
   "source": [
    "s.title()"
   ]
  },
  {
   "cell_type": "code",
   "execution_count": 119,
   "id": "ac15c3ba",
   "metadata": {},
   "outputs": [
    {
     "data": {
      "text/plain": [
       "'This is a test for us'"
      ]
     },
     "execution_count": 119,
     "metadata": {},
     "output_type": "execute_result"
    }
   ],
   "source": [
    "s.capitalize()"
   ]
  },
  {
   "cell_type": "code",
   "execution_count": 120,
   "id": "5fe1cc7d",
   "metadata": {},
   "outputs": [
    {
     "data": {
      "text/plain": [
       "3"
      ]
     },
     "execution_count": 120,
     "metadata": {},
     "output_type": "execute_result"
    }
   ],
   "source": [
    "s.count('s')"
   ]
  },
  {
   "cell_type": "markdown",
   "id": "dc91d365",
   "metadata": {},
   "source": [
    "find - goes from start to end\n",
    "\n",
    "rfind - goes from end to start(positive index)"
   ]
  },
  {
   "cell_type": "code",
   "execution_count": 123,
   "id": "73d21562",
   "metadata": {},
   "outputs": [
    {
     "data": {
      "text/plain": [
       "3"
      ]
     },
     "execution_count": 123,
     "metadata": {},
     "output_type": "execute_result"
    }
   ],
   "source": [
    "s.find('s')"
   ]
  },
  {
   "cell_type": "code",
   "execution_count": 124,
   "id": "3a29c0bb",
   "metadata": {},
   "outputs": [
    {
     "data": {
      "text/plain": [
       "12"
      ]
     },
     "execution_count": 124,
     "metadata": {},
     "output_type": "execute_result"
    }
   ],
   "source": [
    "s.rfind('s')"
   ]
  },
  {
   "cell_type": "code",
   "execution_count": 127,
   "id": "4cdd4ef1",
   "metadata": {},
   "outputs": [
    {
     "data": {
      "text/plain": [
       "'****tHis Is A TesT fOR uS*****'"
      ]
     },
     "execution_count": 127,
     "metadata": {},
     "output_type": "execute_result"
    }
   ],
   "source": [
    "s.center(30,'*')"
   ]
  },
  {
   "cell_type": "code",
   "execution_count": 128,
   "id": "db510525",
   "metadata": {},
   "outputs": [
    {
     "data": {
      "text/plain": [
       "'lets play volleyball'"
      ]
     },
     "execution_count": 128,
     "metadata": {},
     "output_type": "execute_result"
    }
   ],
   "source": [
    "s='lets play football'\n",
    "s.replace('football','volleyball')"
   ]
  },
  {
   "cell_type": "code",
   "execution_count": 131,
   "id": "25dbb01c",
   "metadata": {},
   "outputs": [
    {
     "data": {
      "text/plain": [
       "'thwas was done by me'"
      ]
     },
     "execution_count": 131,
     "metadata": {},
     "output_type": "execute_result"
    }
   ],
   "source": [
    "s='this is done by me'\n",
    "s.replace('is','was')"
   ]
  },
  {
   "cell_type": "code",
   "execution_count": 132,
   "id": "60a52fc0",
   "metadata": {},
   "outputs": [
    {
     "data": {
      "text/plain": [
       "'this was done by me'"
      ]
     },
     "execution_count": 132,
     "metadata": {},
     "output_type": "execute_result"
    }
   ],
   "source": [
    "s='this is done by me'\n",
    "s.replace(' is',' was')"
   ]
  },
  {
   "cell_type": "code",
   "execution_count": 133,
   "id": "18181d1a",
   "metadata": {},
   "outputs": [
    {
     "ename": "NameError",
     "evalue": "name 'split' is not defined",
     "output_type": "error",
     "traceback": [
      "\u001b[1;31m---------------------------------------------------------------------------\u001b[0m",
      "\u001b[1;31mNameError\u001b[0m                                 Traceback (most recent call last)",
      "Cell \u001b[1;32mIn[133], line 1\u001b[0m\n\u001b[1;32m----> 1\u001b[0m \u001b[43msplit\u001b[49m()\n",
      "\u001b[1;31mNameError\u001b[0m: name 'split' is not defined"
     ]
    }
   ],
   "source": [
    "split() = it will split string into list"
   ]
  },
  {
   "cell_type": "code",
   "execution_count": 135,
   "id": "bce990be",
   "metadata": {},
   "outputs": [
    {
     "name": "stdout",
     "output_type": "stream",
     "text": [
      "39\n"
     ]
    }
   ],
   "source": [
    "str = \"    this   is   a    test    line      \"\n",
    "l = str.split()\n",
    "print(len(str))"
   ]
  },
  {
   "cell_type": "code",
   "execution_count": 139,
   "id": "10b49bd6",
   "metadata": {},
   "outputs": [
    {
     "data": {
      "text/plain": [
       "['1', '12', '123', '1234']"
      ]
     },
     "execution_count": 139,
     "metadata": {},
     "output_type": "execute_result"
    }
   ],
   "source": [
    "str = \"1,12,123,1234\"\n",
    "l=str.split(',')\n",
    "l"
   ]
  },
  {
   "cell_type": "code",
   "execution_count": 138,
   "id": "4b4664d0",
   "metadata": {},
   "outputs": [
    {
     "name": "stdout",
     "output_type": "stream",
     "text": [
      "39\n",
      "count =  5\n"
     ]
    }
   ],
   "source": [
    "str = \"    this   is   a    test    line      \"\n",
    "count=0\n",
    "l = str.split()\n",
    "print(len(str))\n",
    "for i in l:\n",
    "    count+=1\n",
    "print(\"count = \",count)"
   ]
  },
  {
   "cell_type": "code",
   "execution_count": 140,
   "id": "181a1654",
   "metadata": {},
   "outputs": [
    {
     "name": "stdout",
     "output_type": "stream",
     "text": [
      "enter string = hello guys myself vk\n",
      "words are =  4\n"
     ]
    }
   ],
   "source": [
    "#method 2\n",
    "print(\"words are = \",len((input(\"enter string = \")).split()))"
   ]
  },
  {
   "cell_type": "code",
   "execution_count": 144,
   "id": "ae8d13f5",
   "metadata": {},
   "outputs": [
    {
     "name": "stdout",
     "output_type": "stream",
     "text": [
      "enter string = hello guys\n",
      "vowels =  3\n"
     ]
    }
   ],
   "source": [
    "str=input(\"enter string = \")\n",
    "count=str.count('a')+str.count('e')+str.count('i')+str.count('o')+str.count('u')\n",
    "print('vowels = ',count)"
   ]
  },
  {
   "cell_type": "code",
   "execution_count": 152,
   "id": "5841ff1b",
   "metadata": {
    "scrolled": true
   },
   "outputs": [
    {
     "name": "stdout",
     "output_type": "stream",
     "text": [
      "['evening', 'good', 'guys', 'hello']\n",
      " evening good guys hello\n"
     ]
    }
   ],
   "source": [
    "line = \"hello guys good evening\"\n",
    "rline=''\n",
    "l=line.split()\n",
    "l=l[::-1]\n",
    "print(l)\n",
    "for i in l:\n",
    "    rline=rline+\" \"+i\n",
    "print(rline)"
   ]
  },
  {
   "cell_type": "code",
   "execution_count": 154,
   "id": "2a0c1bbb",
   "metadata": {},
   "outputs": [
    {
     "name": "stdout",
     "output_type": "stream",
     "text": [
      "enter string = prasad sid vaibhav\n",
      "['prasad', 'sid', 'vaibhav']\n"
     ]
    }
   ],
   "source": [
    "str=input(\"enter string = \")\n",
    "spl=str.split()\n",
    "print(sorted(spl))"
   ]
  },
  {
   "cell_type": "markdown",
   "id": "b6e21388",
   "metadata": {},
   "source": [
    "Q. frequency of each word in a line of string"
   ]
  },
  {
   "cell_type": "code",
   "execution_count": null,
   "id": "6a4e596b",
   "metadata": {},
   "outputs": [],
   "source": [
    "str=input(\"enter string = \")\n",
    "wlist=str.split()\n",
    "ulist=set(wlist)\n",
    "for i in ulist(str.count())"
   ]
  },
  {
   "cell_type": "markdown",
   "id": "7375442c",
   "metadata": {},
   "source": [
    "always try to search word in a list and not in a normal string.\n",
    "As normal string will trap substring also."
   ]
  },
  {
   "cell_type": "code",
   "execution_count": null,
   "id": "7cbbf04e",
   "metadata": {},
   "outputs": [],
   "source": [
    "str=input(\"enter string = \")\n",
    "wlist=str.split()\n",
    "print(\"word list = \",wlist)\n",
    "for i in range(len(wlist)):\n",
    "    print(\"at position = \",i,\":\",wlist[i])\n",
    "    for j in range(i,len):\n",
    "        if wlist[i]==wlist[j]:\n",
    "            wlist.pop(j)\n",
    "            "
   ]
  },
  {
   "cell_type": "code",
   "execution_count": 2,
   "id": "019622ad",
   "metadata": {},
   "outputs": [
    {
     "name": "stdout",
     "output_type": "stream",
     "text": [
      "enter string = hello is it is it bye\n",
      "hello added\n",
      "is added\n",
      "it added\n",
      "is rejected\n",
      "it rejected\n",
      "bye added\n",
      "['hello', 'is', 'it', 'bye']\n"
     ]
    }
   ],
   "source": [
    "str1=input(\"enter string = \")\n",
    "wlist=str1.split()\n",
    "l=[]\n",
    "for i in wlist:\n",
    "    if i not in l:\n",
    "        l.append(i)\n",
    "        print(i,'added')\n",
    "    else:\n",
    "        print(i,'rejected')\n",
    "print(l)"
   ]
  },
  {
   "cell_type": "code",
   "execution_count": 5,
   "id": "95cdebcb",
   "metadata": {},
   "outputs": [
    {
     "name": "stdout",
     "output_type": "stream",
     "text": [
      "enter string = is is it hello hii hello hii bye\n",
      "is added\n",
      "is rejected\n",
      "it added\n",
      "hello added\n",
      "hii added\n",
      "hello rejected\n",
      "hii rejected\n",
      "bye added\n",
      "['is', 'it', 'hello', 'hii', 'bye']\n",
      " is it hello hii bye\n"
     ]
    }
   ],
   "source": [
    "str1=input(\"enter string = \")\n",
    "wlist=str1.split()\n",
    "l=[]\n",
    "rline=''\n",
    "for i in wlist:\n",
    "    if i not in l:\n",
    "        l.append(i)\n",
    "        print(i,'added')\n",
    "    else:\n",
    "        print(i,'rejected')\n",
    "print(l)\n",
    "for i in l:\n",
    "    rline=rline+\" \"+i\n",
    "print(rline)"
   ]
  },
  {
   "cell_type": "markdown",
   "id": "4aa14282",
   "metadata": {},
   "source": [
    "abcd\n",
    "bcda\n",
    "cdab\n",
    "dadc\n",
    "abcd"
   ]
  },
  {
   "cell_type": "code",
   "execution_count": 12,
   "id": "c7ba61c3",
   "metadata": {},
   "outputs": [
    {
     "ename": "SyntaxError",
     "evalue": "expected ':' (569842242.py, line 5)",
     "output_type": "error",
     "traceback": [
      "\u001b[1;36m  Cell \u001b[1;32mIn[12], line 5\u001b[1;36m\u001b[0m\n\u001b[1;33m    for i in range(0,len())\u001b[0m\n\u001b[1;37m                           ^\u001b[0m\n\u001b[1;31mSyntaxError\u001b[0m\u001b[1;31m:\u001b[0m expected ':'\n"
     ]
    }
   ],
   "source": [
    "str=input(\"enter word = \")\n",
    "l=[]\n",
    "for i in str:\n",
    "    l.append(i)\n",
    "for i in range(0,len(str)):\n",
    "    "
   ]
  },
  {
   "cell_type": "code",
   "execution_count": null,
   "id": "f39e6d2c",
   "metadata": {},
   "outputs": [],
   "source": [
    "print a-z alphabets with ascii value\n",
    "ord() - return ascii value\n",
    "chr() - convert ascii to char"
   ]
  },
  {
   "cell_type": "code",
   "execution_count": 16,
   "id": "ec1e2213",
   "metadata": {},
   "outputs": [
    {
     "name": "stdout",
     "output_type": "stream",
     "text": [
      "a : 97\n",
      "b : 98\n",
      "c : 99\n",
      "d : 100\n",
      "e : 101\n",
      "f : 102\n",
      "g : 103\n",
      "h : 104\n",
      "i : 105\n",
      "j : 106\n",
      "k : 107\n",
      "l : 108\n",
      "m : 109\n",
      "n : 110\n",
      "o : 111\n",
      "p : 112\n",
      "q : 113\n",
      "r : 114\n",
      "s : 115\n",
      "t : 116\n",
      "u : 117\n",
      "v : 118\n",
      "w : 119\n",
      "x : 120\n",
      "y : 121\n",
      "z : 122\n"
     ]
    }
   ],
   "source": [
    "for i in range(97,(97+26)):\n",
    "    print(chr(i),\":\",i)"
   ]
  },
  {
   "cell_type": "code",
   "execution_count": 1,
   "id": "6a16e371",
   "metadata": {},
   "outputs": [
    {
     "name": "stdout",
     "output_type": "stream",
     "text": [
      "enter start = d\n",
      "enter end = j\n",
      "100 : d\n",
      "101 : e\n",
      "102 : f\n",
      "103 : g\n",
      "104 : h\n",
      "105 : i\n"
     ]
    }
   ],
   "source": [
    "s=input(\"enter start = \")\n",
    "e=input(\"enter end = \")\n",
    "for i in range(ord(s),ord(e)):\n",
    "    print(i,\":\",chr(i))"
   ]
  },
  {
   "cell_type": "markdown",
   "id": "8ec41bd6",
   "metadata": {},
   "source": [
    "combine two lines to make third line"
   ]
  },
  {
   "cell_type": "code",
   "execution_count": 1,
   "id": "6760c90d",
   "metadata": {},
   "outputs": [
    {
     "name": "stdout",
     "output_type": "stream",
     "text": [
      "enter string 1 = hello guys good morning\n",
      "enter string 2 = welcome to cdac mumbai\n",
      "['hello', 'guys', 'good', 'morning']\n",
      "['welcome', 'to', 'cdac', 'mumbai']\n",
      " hello welcome guys to good cdac morning mumbai\n"
     ]
    }
   ],
   "source": [
    "str1=input(\"enter string 1 = \")\n",
    "str2=input(\"enter string 2 = \")\n",
    "l1=str1.split()\n",
    "l2=str2.split()\n",
    "l3=''\n",
    "print(l1)\n",
    "print(l2)\n",
    "i=0\n",
    "j=0\n",
    "while i<len(l1) or j<len(l2):\n",
    "    if i<len(l1):\n",
    "        l3=l3+\" \"+l1[i]\n",
    "        i+=1\n",
    "    if j<len(l2):\n",
    "        l3=l3+\" \"+l2[j]\n",
    "        j+=1\n",
    "print(l3)"
   ]
  },
  {
   "cell_type": "markdown",
   "id": "ab42cd54",
   "metadata": {},
   "source": [
    "combine two lists to make a dictionary"
   ]
  },
  {
   "cell_type": "code",
   "execution_count": 2,
   "id": "de18d204",
   "metadata": {},
   "outputs": [
    {
     "name": "stdout",
     "output_type": "stream",
     "text": [
      "{1: 'aa', 2: 'bb', 3: 'cc', 4: 'dd'}\n"
     ]
    }
   ],
   "source": [
    "l1=[1,2,3,4]\n",
    "l2=['aa','bb','cc','dd']\n",
    "dir={}\n",
    "for i in range(len(l1)):\n",
    "    dir[l1[i]]=l2[i]\n",
    "print(dir)"
   ]
  },
  {
   "cell_type": "markdown",
   "id": "58353fe0",
   "metadata": {},
   "source": [
    "in a given dictionary delete some data"
   ]
  },
  {
   "cell_type": "code",
   "execution_count": 4,
   "id": "3e8eb932",
   "metadata": {},
   "outputs": [
    {
     "name": "stdout",
     "output_type": "stream",
     "text": [
      "deleted =  aa\n",
      "deleted =  dd\n",
      "{2: 'bb', 3: 'cc'}\n"
     ]
    }
   ],
   "source": [
    "todel=[1,4]\n",
    "for i in todel:\n",
    "    print(\"deleted = \",dir.pop(i))\n",
    "print(dir)"
   ]
  },
  {
   "cell_type": "code",
   "execution_count": 8,
   "id": "423a791a",
   "metadata": {},
   "outputs": [
    {
     "name": "stdout",
     "output_type": "stream",
     "text": [
      "enter element = aa\n",
      "its available\n",
      "its available\n"
     ]
    }
   ],
   "source": [
    "#check if the value is available in dictionary or not\n",
    "c=input(\"enter element = \")\n",
    "for i in dir:\n",
    "    if i in dir.keys():\n",
    "        print('its available')\n",
    "    else:\n",
    "        print('its not available')"
   ]
  },
  {
   "cell_type": "code",
   "execution_count": null,
   "id": "58a8e10a",
   "metadata": {},
   "outputs": [],
   "source": [
    "dir2={'m1':77,'m2':67,'m3':97,'m4':87,'m5':7,'m6':47}\n",
    "keys=d."
   ]
  }
 ],
 "metadata": {
  "kernelspec": {
   "display_name": "Python 3 (ipykernel)",
   "language": "python",
   "name": "python3"
  },
  "language_info": {
   "codemirror_mode": {
    "name": "ipython",
    "version": 3
   },
   "file_extension": ".py",
   "mimetype": "text/x-python",
   "name": "python",
   "nbconvert_exporter": "python",
   "pygments_lexer": "ipython3",
   "version": "3.11.2"
  }
 },
 "nbformat": 4,
 "nbformat_minor": 5
}
