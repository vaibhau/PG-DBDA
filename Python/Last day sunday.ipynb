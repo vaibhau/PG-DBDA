{
 "cells": [
  {
   "cell_type": "code",
   "execution_count": 1,
   "id": "a337e56d",
   "metadata": {},
   "outputs": [
    {
     "ename": "SyntaxError",
     "evalue": "invalid syntax (2567670712.py, line 1)",
     "output_type": "error",
     "traceback": [
      "\u001b[1;36m  Cell \u001b[1;32mIn[1], line 1\u001b[1;36m\u001b[0m\n\u001b[1;33m    Module Packaging\u001b[0m\n\u001b[1;37m           ^\u001b[0m\n\u001b[1;31mSyntaxError\u001b[0m\u001b[1;31m:\u001b[0m invalid syntax\n"
     ]
    }
   ],
   "source": [
    "Module Packaging\n",
    "\n",
    "1. It is a folder in which we are gonna store py files which may consist classes or functions \n",
    "2. this basic idea is to import the files completely or partially.\n",
    "\n",
    "\n",
    "maths.py -->\n",
    "\n",
    "def add(no1,no2):\n",
    "    return (no1+no2)\n",
    "\n",
    "myProject.py -->\n",
    "()\n",
    "\n",
    "import maths\n",
    "maths.add(10,20)\n",
    "\n",
    "myProject2.py -->\n",
    "imports maths as m <--(m is a variable)\n",
    "m.add(10,20)\n",
    "\n",
    "\n",
    "def run(self):\n",
    "    print('printing statement')\n",
    "    \n",
    "has a --> container\n",
    "is a --> inheritance\n",
    "\n",
    "one cannot hide class, but can hide content of a class.\n",
    "\n",
    "\n",
    "List Com"
   ]
  },
  {
   "cell_type": "code",
   "execution_count": 10,
   "id": "ca56c76c",
   "metadata": {},
   "outputs": [
    {
     "name": "stdout",
     "output_type": "stream",
     "text": [
      "match found The\n"
     ]
    }
   ],
   "source": [
    "import re\n",
    "string = 'the quick brown fox jumps over the lazy dog'\n",
    "pattern= 'jumps'\n",
    "math = re.search(pattern,string)\n",
    "if match:\n",
    "    print('match found', match.group())\n",
    "else:\n",
    "    print('match not found')"
   ]
  },
  {
   "cell_type": "code",
   "execution_count": 8,
   "id": "004e5247",
   "metadata": {},
   "outputs": [
    {
     "name": "stdout",
     "output_type": "stream",
     "text": [
      "Match found: The\n"
     ]
    }
   ],
   "source": [
    "import re\n",
    "\n",
    "string = \"The quick brown fox jumps over the lazy dog.\"\n",
    "pattern = \"The\"\n",
    "\n",
    "match = re.match(pattern, string)\n",
    "if match:\n",
    "    print(\"Match found:\", match.group())\n",
    "else:\n",
    "    print(\"Match not found.\")"
   ]
  },
  {
   "cell_type": "code",
   "execution_count": 11,
   "id": "2ce498d2",
   "metadata": {},
   "outputs": [
    {
     "ename": "SyntaxError",
     "evalue": "invalid syntax (3722027821.py, line 1)",
     "output_type": "error",
     "traceback": [
      "\u001b[1;36m  Cell \u001b[1;32mIn[11], line 1\u001b[1;36m\u001b[0m\n\u001b[1;33m    .search -> return true and false use for validation\u001b[0m\n\u001b[1;37m    ^\u001b[0m\n\u001b[1;31mSyntaxError\u001b[0m\u001b[1;31m:\u001b[0m invalid syntax\n"
     ]
    }
   ],
   "source": [
    ".search -> return true and false use for validation"
   ]
  },
  {
   "cell_type": "code",
   "execution_count": null,
   "id": "fd878b47",
   "metadata": {},
   "outputs": [],
   "source": []
  }
 ],
 "metadata": {
  "kernelspec": {
   "display_name": "Python 3 (ipykernel)",
   "language": "python",
   "name": "python3"
  },
  "language_info": {
   "codemirror_mode": {
    "name": "ipython",
    "version": 3
   },
   "file_extension": ".py",
   "mimetype": "text/x-python",
   "name": "python",
   "nbconvert_exporter": "python",
   "pygments_lexer": "ipython3",
   "version": "3.11.2"
  }
 },
 "nbformat": 4,
 "nbformat_minor": 5
}
