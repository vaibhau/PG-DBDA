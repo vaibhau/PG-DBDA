{
 "cells": [
  {
   "cell_type": "markdown",
   "id": "2161eb40",
   "metadata": {},
   "source": [
    "Difference between error, exception and exception handling\n",
    "\n",
    "error - Some issue in logic or input or hardware that cannot allow normal flow anymore.\n",
    "exception - report of error.\n",
    "exception handling - process of either continue alternate flow or safe close in presence of error.\n",
    "\n",
    "What are the blocks used for exception handling and how to use it?\n",
    "\n",
    "1. try:\n",
    "    \n",
    "2. except Exception:\n",
    "    \n",
    "3. else:\n",
    "    ->to keep code which should run only it has no error.\n",
    "4. finally: \n",
    "    -> to keep code that should execute in any situation.\n",
    "\n",
    "try -> else -> finally ---normal (try + else + finally)\n",
    "try -> except Exception -> finally --- error (try(partially) + exception + finally)\n",
    "\n",
    "mandatary blocks are try and except\n",
    "\n",
    "what is the used of else?\n",
    "->to keep code which should run only it has no error\n",
    "\n",
    "to trap which error occured one may write, **except Exception as arg**\n",
    "\n",
    "finally would run when there is no error\n",
    "with error, it will get executed and \n",
    "\n",
    "2. to create custom exception we would use super class exception code init method to accept the data and str method to return message\n",
    "\n",
    "3. to raise exception we use keyword 'raise'\n"
   ]
  },
  {
   "cell_type": "code",
   "execution_count": 2,
   "id": "a4b55536",
   "metadata": {},
   "outputs": [
    {
     "name": "stdout",
     "output_type": "stream",
     "text": [
      "enter number 1 = 5\n",
      "enter number 2 = 3\n",
      "c is 1.6666666666666667\n"
     ]
    }
   ],
   "source": [
    "try:\n",
    "    a=int(input('enter number 1 = '))\n",
    "    b=int(input('enter number 2 = '))\n",
    "    c=a/b\n",
    "    print('c is',c)\n"
   ]
  },
  {
   "cell_type": "code",
   "execution_count": null,
   "id": "35feb807",
   "metadata": {},
   "outputs": [],
   "source": []
  }
 ],
 "metadata": {
  "kernelspec": {
   "display_name": "Python 3 (ipykernel)",
   "language": "python",
   "name": "python3"
  },
  "language_info": {
   "codemirror_mode": {
    "name": "ipython",
    "version": 3
   },
   "file_extension": ".py",
   "mimetype": "text/x-python",
   "name": "python",
   "nbconvert_exporter": "python",
   "pygments_lexer": "ipython3",
   "version": "3.11.2"
  }
 },
 "nbformat": 4,
 "nbformat_minor": 5
}
