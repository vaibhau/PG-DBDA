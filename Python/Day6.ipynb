{
 "cells": [
  {
   "cell_type": "markdown",
   "id": "14fffa23",
   "metadata": {},
   "source": [
    "# Functions\n",
    "\n",
    "Function - set of code\n",
    "\n",
    "What is use of functions?\n",
    "1. Modularity - divide into smaller parts\n",
    "2. Reusability - \n",
    "3. "
   ]
  },
  {
   "cell_type": "code",
   "execution_count": 2,
   "id": "4bea1d5d",
   "metadata": {
    "scrolled": true
   },
   "outputs": [
    {
     "name": "stdout",
     "output_type": "stream",
     "text": [
      "hello its a function\n"
     ]
    }
   ],
   "source": [
    "def function():\n",
    "    print('hello its a function')\n",
    "function()"
   ]
  },
  {
   "cell_type": "code",
   "execution_count": 4,
   "id": "9245970a",
   "metadata": {},
   "outputs": [
    {
     "name": "stdout",
     "output_type": "stream",
     "text": [
      "main starts\n",
      "function call\n",
      "hello its a function\n",
      "main ends\n"
     ]
    }
   ],
   "source": [
    "print('main starts')\n",
    "print('function call')\n",
    "function()\n",
    "print('main ends')"
   ]
  },
  {
   "cell_type": "code",
   "execution_count": 5,
   "id": "9eea337a",
   "metadata": {},
   "outputs": [],
   "source": [
    "def max(n1,n2):\n",
    "    if n1>n2:\n",
    "        print(n1,'is max')\n",
    "    else:\n",
    "        print(n2,'is max')"
   ]
  },
  {
   "cell_type": "code",
   "execution_count": 6,
   "id": "81568f4a",
   "metadata": {},
   "outputs": [
    {
     "name": "stdout",
     "output_type": "stream",
     "text": [
      "4 is max\n"
     ]
    }
   ],
   "source": [
    "max(1,4)"
   ]
  },
  {
   "cell_type": "code",
   "execution_count": 7,
   "id": "7e64919b",
   "metadata": {},
   "outputs": [
    {
     "name": "stdout",
     "output_type": "stream",
     "text": [
      "9.6 is max\n"
     ]
    }
   ],
   "source": [
    "max(4.5,9.6)"
   ]
  },
  {
   "cell_type": "code",
   "execution_count": 8,
   "id": "3d19342a",
   "metadata": {},
   "outputs": [
    {
     "name": "stdout",
     "output_type": "stream",
     "text": [
      "yellow is max\n"
     ]
    }
   ],
   "source": [
    "max('hello','yellow')"
   ]
  },
  {
   "cell_type": "code",
   "execution_count": 9,
   "id": "4f0c6f9a",
   "metadata": {},
   "outputs": [
    {
     "name": "stdout",
     "output_type": "stream",
     "text": [
      "True is max\n"
     ]
    }
   ],
   "source": [
    "max(True,False)"
   ]
  },
  {
   "cell_type": "markdown",
   "id": "59789ec6",
   "metadata": {},
   "source": [
    "Document String\n",
    "1. optional\n",
    "2. tells about function\n",
    "3. only for user\n",
    "4. first line after function definition"
   ]
  },
  {
   "cell_type": "code",
   "execution_count": 10,
   "id": "5e66f391",
   "metadata": {},
   "outputs": [],
   "source": [
    "def max(n1,n2):\n",
    "    '''It will find out maximum from 2 numbers'''\n",
    "    if n1>n2:\n",
    "        print(n1,'is max')\n",
    "    else:\n",
    "        print(n2,'is max')"
   ]
  },
  {
   "cell_type": "code",
   "execution_count": 12,
   "id": "62c98b04",
   "metadata": {},
   "outputs": [
    {
     "name": "stdout",
     "output_type": "stream",
     "text": [
      "21 is max\n"
     ]
    }
   ],
   "source": [
    "max(12,21)"
   ]
  },
  {
   "cell_type": "markdown",
   "id": "de45095e",
   "metadata": {},
   "source": [
    "Bydefault python support datatype with overloading"
   ]
  },
  {
   "cell_type": "markdown",
   "id": "5d250536",
   "metadata": {},
   "source": [
    "maximum of 4 numbers"
   ]
  },
  {
   "cell_type": "code",
   "execution_count": 19,
   "id": "0b8923ea",
   "metadata": {},
   "outputs": [],
   "source": [
    "def max(n1,n2):\n",
    "    '''It will find out maximum from 2 numbers'''\n",
    "    if n1>n2:\n",
    "        return n1\n",
    "    else:\n",
    "        return n2"
   ]
  },
  {
   "cell_type": "code",
   "execution_count": 21,
   "id": "46ca1e13",
   "metadata": {},
   "outputs": [
    {
     "name": "stdout",
     "output_type": "stream",
     "text": [
      "maximum number =  76\n"
     ]
    }
   ],
   "source": [
    "print('maximum number = ',max(max(21,43),max(76,65)))"
   ]
  },
  {
   "cell_type": "markdown",
   "id": "7b34b8e5",
   "metadata": {},
   "source": [
    "Python uses pass by value for primitive datatype and pass by reference for data structure."
   ]
  },
  {
   "cell_type": "code",
   "execution_count": 25,
   "id": "a473de69",
   "metadata": {},
   "outputs": [],
   "source": [
    "def duble(n):\n",
    "    print('in function, before changing value = ',n)\n",
    "    n=n*2\n",
    "    print('in function, after changing value = ',n)"
   ]
  },
  {
   "cell_type": "code",
   "execution_count": 26,
   "id": "abd3ca93",
   "metadata": {},
   "outputs": [
    {
     "name": "stdout",
     "output_type": "stream",
     "text": [
      "in main = \n",
      "enter any number = 15\n",
      "in main, before changing value =  15\n",
      "in function, before changing value =  15\n",
      "in function, after changing value =  30\n",
      "in main, before changing value =  15\n"
     ]
    }
   ],
   "source": [
    "print('in main = ')\n",
    "n=int(input('enter any number = '))\n",
    "print('in main, before changing value = ',n)\n",
    "duble(n)\n",
    "print('in main, before changing value = ',n)"
   ]
  },
  {
   "cell_type": "code",
   "execution_count": 31,
   "id": "53dc63b3",
   "metadata": {},
   "outputs": [],
   "source": [
    "def double(n):\n",
    "    print('in function, before changing value = ',n)\n",
    "    n[0]*=2\n",
    "    print('in function, after changing value = ',n)"
   ]
  },
  {
   "cell_type": "code",
   "execution_count": 32,
   "id": "6160d1b2",
   "metadata": {},
   "outputs": [
    {
     "name": "stdout",
     "output_type": "stream",
     "text": [
      "in main = \n",
      "in main, before changing value =  [10]\n",
      "in function, before changing value =  [10]\n",
      "in function, after changing value =  [20]\n",
      "in main, before changing value =  [20]\n"
     ]
    }
   ],
   "source": [
    "print('in main = ')\n",
    "n=[10]\n",
    "print('in main, before changing value = ',n)\n",
    "double(n)\n",
    "print('in main, before changing value = ',n)"
   ]
  },
  {
   "cell_type": "markdown",
   "id": "1617b9e0",
   "metadata": {},
   "source": [
    "# recursion\n",
    "\n",
    "1. It should not be the first option to use\n",
    "2. stack memory used in recursion\n",
    "\n",
    "Disadvantages of recursion\n",
    "\n",
    "1. code is complicated to understand\n",
    "2. takes more time to execute than usual\n",
    "3. takes more memory than expected"
   ]
  },
  {
   "cell_type": "markdown",
   "id": "79d94d97",
   "metadata": {},
   "source": [
    "Q. if no1%no2==0 no2 is gcd else let no1=no2 and no2 be no1%no2"
   ]
  },
  {
   "cell_type": "code",
   "execution_count": 37,
   "id": "f020f28f",
   "metadata": {},
   "outputs": [],
   "source": [
    "def gcd(n1,n2):\n",
    "    if n1%n2==0:\n",
    "        return n2\n",
    "    else:\n",
    "        return gcd(n2,n1%n2)"
   ]
  },
  {
   "cell_type": "code",
   "execution_count": 38,
   "id": "6dc197f3",
   "metadata": {},
   "outputs": [
    {
     "data": {
      "text/plain": [
       "2"
      ]
     },
     "execution_count": 38,
     "metadata": {},
     "output_type": "execute_result"
    }
   ],
   "source": [
    "gcd(22,32)"
   ]
  },
  {
   "cell_type": "code",
   "execution_count": 39,
   "id": "e4f11110",
   "metadata": {},
   "outputs": [
    {
     "data": {
      "text/plain": [
       "6"
      ]
     },
     "execution_count": 39,
     "metadata": {},
     "output_type": "execute_result"
    }
   ],
   "source": [
    "gcd(18,12)"
   ]
  },
  {
   "cell_type": "markdown",
   "id": "40bef7cb",
   "metadata": {},
   "source": [
    "# return statement\n",
    "\n",
    "1. gives control,data or both back to other script.\n",
    "2. In python, return statement can return multiple elements in a form of **tuple only**."
   ]
  },
  {
   "cell_type": "code",
   "execution_count": 44,
   "id": "14e72f5e",
   "metadata": {},
   "outputs": [],
   "source": [
    "def descend(n1,n2,n3):\n",
    "    l=[]\n",
    "    if n1>n2 and n1>n3:\n",
    "        if n1>n3:\n",
    "            return n1,n2,n3\n",
    "        else:\n",
    "            return n1,n3,n2\n",
    "    elif n2>n1 and n2>n3:\n",
    "        if n1>n3:\n",
    "            return n2,n1,n3\n",
    "    elif n3>n1 and n3>n2:\n",
    "        if n1>n2:\n",
    "            return n3,n1,n2\n",
    "        else:\n",
    "            return n3,n2,n1"
   ]
  },
  {
   "cell_type": "code",
   "execution_count": 45,
   "id": "4f786140",
   "metadata": {},
   "outputs": [
    {
     "data": {
      "text/plain": [
       "(65, 43, 12)"
      ]
     },
     "execution_count": 45,
     "metadata": {},
     "output_type": "execute_result"
    }
   ],
   "source": [
    "descend(12,43,65)"
   ]
  },
  {
   "cell_type": "code",
   "execution_count": null,
   "id": "73b965d5",
   "metadata": {},
   "outputs": [],
   "source": [
    "def descend(n1,n2,n3):\n",
    "    l=[]\n",
    "    if n1>n2:\n",
    "        if n1>n3:\n",
    "            return n\n",
    "        if n1>n3:\n",
    "            return n1,n2,n3\n",
    "        else:\n",
    "            return n1,n3,n2\n",
    "    elif n2>n1 and n2>n3:\n",
    "        if n1>n3:\n",
    "            return n2,n1,n3\n",
    "    elif n3>n1 and n3>n2:\n",
    "        if n1>n2:\n",
    "            return n3,n1,n2\n",
    "        else:\n",
    "            return n3,n2,n1"
   ]
  },
  {
   "cell_type": "code",
   "execution_count": 46,
   "id": "5c43fcd5",
   "metadata": {},
   "outputs": [],
   "source": [
    "def intro(name,native):\n",
    "    print('hi i am',name,'from',native)"
   ]
  },
  {
   "cell_type": "code",
   "execution_count": 52,
   "id": "c8a22eb0",
   "metadata": {},
   "outputs": [
    {
     "name": "stdout",
     "output_type": "stream",
     "text": [
      "hi i am vaibhav from mumbai\n",
      "hi i am prasad from airoli\n"
     ]
    }
   ],
   "source": [
    "intro('vaibhav','mumbai')\n",
    "intro(native='airoli',name='prasad')"
   ]
  },
  {
   "cell_type": "markdown",
   "id": "7c25d7b1",
   "metadata": {},
   "source": [
    "1. mechanism of python to allow parameters in any order but with precise key.\n",
    "2. features get activated from calling"
   ]
  },
  {
   "cell_type": "code",
   "execution_count": 55,
   "id": "5f58a655",
   "metadata": {},
   "outputs": [
    {
     "ename": "TypeError",
     "evalue": "intro() missing 1 required positional argument: 'native'",
     "output_type": "error",
     "traceback": [
      "\u001b[1;31m---------------------------------------------------------------------------\u001b[0m",
      "\u001b[1;31mTypeError\u001b[0m                                 Traceback (most recent call last)",
      "Cell \u001b[1;32mIn[55], line 1\u001b[0m\n\u001b[1;32m----> 1\u001b[0m \u001b[43mintro\u001b[49m\u001b[43m(\u001b[49m\u001b[43mname\u001b[49m\u001b[38;5;241;43m=\u001b[39;49m\u001b[38;5;124;43m\"\u001b[39;49m\u001b[38;5;124;43mvaibhav\u001b[39;49m\u001b[38;5;124;43m\"\u001b[39;49m\u001b[43m)\u001b[49m\n\u001b[0;32m      2\u001b[0m intro(native\u001b[38;5;241m=\u001b[39m\u001b[38;5;124m'\u001b[39m\u001b[38;5;124mpune\u001b[39m\u001b[38;5;124m'\u001b[39m)\n",
      "\u001b[1;31mTypeError\u001b[0m: intro() missing 1 required positional argument: 'native'"
     ]
    }
   ],
   "source": [
    "intro(name=\"vaibhav\")\n",
    "intro(native='pune')"
   ]
  },
  {
   "cell_type": "markdown",
   "id": "d7377f9e",
   "metadata": {},
   "source": [
    "1. default values are mentioned / given in definition and after picked up / accept it when not given in calling\n",
    "2. is any specific value needs to be mentioned, used key-value parameter"
   ]
  },
  {
   "cell_type": "code",
   "execution_count": 58,
   "id": "8139c253",
   "metadata": {},
   "outputs": [],
   "source": [
    "def hobbies(*hlist):\n",
    "    print(type(hlist))\n",
    "    print(\"total hobbies = \",len(hlist))\n",
    "    for i in hlist:\n",
    "        print('->',i)"
   ]
  },
  {
   "cell_type": "code",
   "execution_count": 77,
   "id": "93f65a95",
   "metadata": {},
   "outputs": [
    {
     "name": "stdout",
     "output_type": "stream",
     "text": [
      "<class 'tuple'>\n",
      "total hobbies =  2\n",
      "-> travel\n",
      "-> ride\n",
      "None\n"
     ]
    }
   ],
   "source": [
    "print(hobbies('travel','ride'))"
   ]
  },
  {
   "cell_type": "markdown",
   "id": "c710bb0f",
   "metadata": {},
   "source": [
    "1. variable size parameter mentioned in function definition.\n",
    "2. all parameters recorded in tuple and sent."
   ]
  },
  {
   "cell_type": "code",
   "execution_count": 64,
   "id": "c6514388",
   "metadata": {},
   "outputs": [],
   "source": [
    "#Q. Accept n parameters from and return its total\n",
    "def add(*ele):\n",
    "    summ=0\n",
    "    for i in ele:\n",
    "        summ+=i\n",
    "        return summ"
   ]
  },
  {
   "cell_type": "code",
   "execution_count": 75,
   "id": "8244a00d",
   "metadata": {},
   "outputs": [
    {
     "name": "stdout",
     "output_type": "stream",
     "text": [
      "12\n"
     ]
    }
   ],
   "source": [
    "print(add(12,12,12))"
   ]
  },
  {
   "cell_type": "code",
   "execution_count": 67,
   "id": "42179653",
   "metadata": {},
   "outputs": [],
   "source": [
    "def total(*ele):\n",
    "    return sum(ele)"
   ]
  },
  {
   "cell_type": "code",
   "execution_count": 68,
   "id": "81da9ee2",
   "metadata": {},
   "outputs": [
    {
     "data": {
      "text/plain": [
       "96"
      ]
     },
     "execution_count": 68,
     "metadata": {},
     "output_type": "execute_result"
    }
   ],
   "source": [
    "total(32,32,32)"
   ]
  },
  {
   "cell_type": "code",
   "execution_count": 72,
   "id": "fa0d8685",
   "metadata": {},
   "outputs": [],
   "source": [
    "#calculate x**n using power function where default value of x and n is 1 not given\n",
    "def power(x=1,n=1):\n",
    "    x=x**n\n",
    "    return x"
   ]
  },
  {
   "cell_type": "code",
   "execution_count": 74,
   "id": "6106576a",
   "metadata": {},
   "outputs": [
    {
     "name": "stdout",
     "output_type": "stream",
     "text": [
      "16\n"
     ]
    }
   ],
   "source": [
    "print(power(4,2))"
   ]
  },
  {
   "cell_type": "markdown",
   "id": "dcfba71b",
   "metadata": {},
   "source": [
    "# iterator\n",
    "\n",
    "1. It iterates over bunch of values, one at a time manner\n",
    "2. Iterator has a limitation of supporting sequence, this is recovered from generator\n",
    "\n",
    "# generator\n",
    "\n",
    "1. It is a function which run in partial manner every time next is called.\n",
    "2. Internally function carries yeild statement which breaks the function and returns the value.\n",
    "3. It is used to generate output, after every iteration.\n",
    "\n",
    "# decorator\n",
    "\n",
    "1. works on polymorphic function / function polymorphism which is ability of giving alternate identifier to existing function.\n",
    "2. In this, we have internal old function which is reused by external decorator function and addressed using function polymorphism."
   ]
  },
  {
   "cell_type": "code",
   "execution_count": 82,
   "id": "5465c2d3",
   "metadata": {},
   "outputs": [],
   "source": [
    "roll_no=[1,2,3,4,5,6,7,8,9]\n",
    "i=iter(roll_no)"
   ]
  },
  {
   "cell_type": "code",
   "execution_count": 84,
   "id": "ff97253f",
   "metadata": {},
   "outputs": [
    {
     "data": {
      "text/plain": [
       "2"
      ]
     },
     "execution_count": 84,
     "metadata": {},
     "output_type": "execute_result"
    }
   ],
   "source": [
    "next(i)"
   ]
  },
  {
   "cell_type": "code",
   "execution_count": 86,
   "id": "8f455296",
   "metadata": {},
   "outputs": [],
   "source": [
    "def fd(amount,roi):\n",
    "    y=1\n",
    "    print('at end of first year = ')\n",
    "    yield(amount*(roi/100)*y)\n",
    "    y+=1\n",
    "    print('at end of second year = ')\n",
    "    yield(amount*(roi/100)*y)\n",
    "    y+=1\n",
    "    print('at end of third year = ')\n",
    "    yield(amount*(roi/100)*y)"
   ]
  },
  {
   "cell_type": "code",
   "execution_count": 92,
   "id": "e7915ca2",
   "metadata": {},
   "outputs": [],
   "source": [
    "i=fd(10000,7)"
   ]
  },
  {
   "cell_type": "code",
   "execution_count": 93,
   "id": "057f3a4d",
   "metadata": {},
   "outputs": [
    {
     "name": "stdout",
     "output_type": "stream",
     "text": [
      "at end of first year = \n"
     ]
    },
    {
     "data": {
      "text/plain": [
       "700.0000000000001"
      ]
     },
     "execution_count": 93,
     "metadata": {},
     "output_type": "execute_result"
    }
   ],
   "source": [
    "next(i)"
   ]
  },
  {
   "cell_type": "markdown",
   "id": "8514e393",
   "metadata": {},
   "source": [
    "# lambda function\n",
    "\n",
    "1. It is anonomous function which means function without identifier / name.\n",
    "2. It gets attached to a variable which will be used to call it.\n",
    "3. lambda / function cannot be a multiple line, it can only be of one line.\n",
    "4. syntax - lambda parameters :expression\n"
   ]
  },
  {
   "cell_type": "code",
   "execution_count": 94,
   "id": "8eac56cf",
   "metadata": {},
   "outputs": [],
   "source": [
    "add=lambda a,b:a+b"
   ]
  },
  {
   "cell_type": "code",
   "execution_count": 95,
   "id": "0f9f715e",
   "metadata": {},
   "outputs": [
    {
     "data": {
      "text/plain": [
       "25"
      ]
     },
     "execution_count": 95,
     "metadata": {},
     "output_type": "execute_result"
    }
   ],
   "source": [
    "add(10,15)"
   ]
  },
  {
   "cell_type": "markdown",
   "id": "3727d914",
   "metadata": {},
   "source": [
    "# local variables and global variables\n",
    "\n",
    "1. Global variable can be accessed by anybody.\n",
    "2. Local variables are variables within the function or method, only accessible locally(at higher precidence than global).\n",
    "3. If a local function tries to operate on global data, then scope resolution is needed, otherwise error would be called.\n",
    "4. scope resolution syntax - global variable_name"
   ]
  },
  {
   "cell_type": "code",
   "execution_count": 96,
   "id": "e9362ced",
   "metadata": {},
   "outputs": [],
   "source": [
    "x=10\n",
    "def fun():\n",
    "    print(x)"
   ]
  },
  {
   "cell_type": "code",
   "execution_count": 97,
   "id": "06816a76",
   "metadata": {},
   "outputs": [
    {
     "name": "stdout",
     "output_type": "stream",
     "text": [
      "10\n"
     ]
    }
   ],
   "source": [
    "fun()"
   ]
  },
  {
   "cell_type": "code",
   "execution_count": 101,
   "id": "cf813834",
   "metadata": {},
   "outputs": [],
   "source": [
    "x=10\n",
    "def fun():\n",
    "    x=100\n",
    "    print(\"inside function = \",x)"
   ]
  },
  {
   "cell_type": "code",
   "execution_count": 102,
   "id": "175b7196",
   "metadata": {},
   "outputs": [
    {
     "name": "stdout",
     "output_type": "stream",
     "text": [
      "inside function =  100\n"
     ]
    }
   ],
   "source": [
    "fun()"
   ]
  },
  {
   "cell_type": "code",
   "execution_count": 103,
   "id": "298b5416",
   "metadata": {},
   "outputs": [
    {
     "name": "stdout",
     "output_type": "stream",
     "text": [
      "outside function =  10\n"
     ]
    }
   ],
   "source": [
    "x=10\n",
    "def fun():\n",
    "    global x\n",
    "    x+=1\n",
    "    print(\"inside function = \",x)\n",
    "print(\"outside function = \",x)"
   ]
  },
  {
   "cell_type": "code",
   "execution_count": 104,
   "id": "f405e0d7",
   "metadata": {},
   "outputs": [
    {
     "name": "stdout",
     "output_type": "stream",
     "text": [
      "inside function =  11\n"
     ]
    }
   ],
   "source": [
    "fun()"
   ]
  },
  {
   "cell_type": "code",
   "execution_count": 3,
   "id": "ec75a0a4",
   "metadata": {},
   "outputs": [],
   "source": [
    "def fun(data):\n",
    "    data +=\"vaibhav\"\n",
    "    print(\"in function = \"+data)"
   ]
  },
  {
   "cell_type": "code",
   "execution_count": 4,
   "id": "6d3c27a5",
   "metadata": {},
   "outputs": [
    {
     "name": "stdout",
     "output_type": "stream",
     "text": [
      "in function = pythonvaibhav\n",
      "in main =  python\n"
     ]
    }
   ],
   "source": [
    "x='python'\n",
    "fun(x)\n",
    "print(\"in main = \",x)"
   ]
  },
  {
   "cell_type": "code",
   "execution_count": null,
   "id": "11800ca1",
   "metadata": {},
   "outputs": [],
   "source": []
  }
 ],
 "metadata": {
  "kernelspec": {
   "display_name": "Python 3 (ipykernel)",
   "language": "python",
   "name": "python3"
  },
  "language_info": {
   "codemirror_mode": {
    "name": "ipython",
    "version": 3
   },
   "file_extension": ".py",
   "mimetype": "text/x-python",
   "name": "python",
   "nbconvert_exporter": "python",
   "pygments_lexer": "ipython3",
   "version": "3.11.2"
  }
 },
 "nbformat": 4,
 "nbformat_minor": 5
}
