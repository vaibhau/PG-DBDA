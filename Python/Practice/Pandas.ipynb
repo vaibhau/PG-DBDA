{
 "cells": [
  {
   "cell_type": "code",
   "execution_count": 1,
   "id": "08a28f07",
   "metadata": {},
   "outputs": [],
   "source": [
    "import pandas as pd"
   ]
  },
  {
   "cell_type": "code",
   "execution_count": 2,
   "id": "de88e5d9",
   "metadata": {},
   "outputs": [],
   "source": [
    "s=pd.Series([1,2,3,4,5,6,7,8,9])"
   ]
  },
  {
   "cell_type": "code",
   "execution_count": 3,
   "id": "498d3503",
   "metadata": {},
   "outputs": [
    {
     "name": "stdout",
     "output_type": "stream",
     "text": [
      "0    1\n",
      "1    2\n",
      "2    3\n",
      "3    4\n",
      "4    5\n",
      "5    6\n",
      "6    7\n",
      "7    8\n",
      "8    9\n",
      "dtype: int64\n"
     ]
    }
   ],
   "source": [
    "print(s)"
   ]
  },
  {
   "cell_type": "code",
   "execution_count": 5,
   "id": "572f7777",
   "metadata": {},
   "outputs": [
    {
     "data": {
      "text/plain": [
       "0    1\n",
       "1    0\n",
       "2    1\n",
       "3    0\n",
       "4    1\n",
       "5    0\n",
       "6    1\n",
       "7    0\n",
       "8    1\n",
       "dtype: int64"
      ]
     },
     "execution_count": 5,
     "metadata": {},
     "output_type": "execute_result"
    }
   ],
   "source": [
    "s%2"
   ]
  },
  {
   "cell_type": "code",
   "execution_count": 6,
   "id": "14360ecb",
   "metadata": {},
   "outputs": [
    {
     "data": {
      "text/plain": [
       "0     3\n",
       "1     0\n",
       "2     1\n",
       "3     6\n",
       "4     7\n",
       "5     4\n",
       "6     5\n",
       "7    10\n",
       "8    11\n",
       "dtype: int64"
      ]
     },
     "execution_count": 6,
     "metadata": {},
     "output_type": "execute_result"
    }
   ],
   "source": [
    "s^2"
   ]
  },
  {
   "cell_type": "code",
   "execution_count": 7,
   "id": "536dc84e",
   "metadata": {},
   "outputs": [
    {
     "data": {
      "text/plain": [
       "0     2\n",
       "1     4\n",
       "2     6\n",
       "3     8\n",
       "4    10\n",
       "5    12\n",
       "6    14\n",
       "7    16\n",
       "8    18\n",
       "dtype: int64"
      ]
     },
     "execution_count": 7,
     "metadata": {},
     "output_type": "execute_result"
    }
   ],
   "source": [
    "s*2"
   ]
  },
  {
   "cell_type": "code",
   "execution_count": 8,
   "id": "569d74c7",
   "metadata": {},
   "outputs": [
    {
     "data": {
      "text/plain": [
       "0     1\n",
       "1     4\n",
       "2     9\n",
       "3    16\n",
       "4    25\n",
       "5    36\n",
       "6    49\n",
       "7    64\n",
       "8    81\n",
       "dtype: int64"
      ]
     },
     "execution_count": 8,
     "metadata": {},
     "output_type": "execute_result"
    }
   ],
   "source": [
    "s**2"
   ]
  },
  {
   "cell_type": "code",
   "execution_count": 32,
   "id": "a8548e8d",
   "metadata": {},
   "outputs": [
    {
     "name": "stdout",
     "output_type": "stream",
     "text": [
      "    id   name  gender   salary\n",
      "0    1   aaaa    male    10000\n",
      "1    2   bbbb  female     8000\n",
      "2    3  ccccc    male   120000\n",
      "3    4   dddd    male    45000\n",
      "4    5   eeee  female   334567\n",
      "5    6   ffff  female    21234\n",
      "6    7   gggg  female     2345\n",
      "7    8   hhhh  female    23456\n",
      "8    9   iiii    male     7654\n",
      "9   10    jjj    male  3456578\n",
      "10  11   kkkk    male    45678\n",
      "11  12   llll    male      345\n",
      "12  13   mmmm  female     9876\n",
      "13  14  nnnnn    male    34567\n",
      "14  15   jjjj    male    87654\n",
      "15  16   iiii  female    34567\n",
      "16  17   mmmm  female     1234\n",
      "17  18  nnnnn  female    23456\n",
      "18  19   oooo  female     5555\n",
      "19  20   pppp    male     3455\n"
     ]
    }
   ],
   "source": [
    "import pandas as pd\n",
    "df=pd.read_csv(\"mycsv.csv\")\n",
    "print(df)"
   ]
  },
  {
   "cell_type": "code",
   "execution_count": 33,
   "id": "3f9dea74",
   "metadata": {},
   "outputs": [
    {
     "data": {
      "text/html": [
       "<div>\n",
       "<style scoped>\n",
       "    .dataframe tbody tr th:only-of-type {\n",
       "        vertical-align: middle;\n",
       "    }\n",
       "\n",
       "    .dataframe tbody tr th {\n",
       "        vertical-align: top;\n",
       "    }\n",
       "\n",
       "    .dataframe thead th {\n",
       "        text-align: right;\n",
       "    }\n",
       "</style>\n",
       "<table border=\"1\" class=\"dataframe\">\n",
       "  <thead>\n",
       "    <tr style=\"text-align: right;\">\n",
       "      <th></th>\n",
       "      <th>id</th>\n",
       "      <th>name</th>\n",
       "      <th>gender</th>\n",
       "      <th>salary</th>\n",
       "    </tr>\n",
       "  </thead>\n",
       "  <tbody>\n",
       "    <tr>\n",
       "      <th>0</th>\n",
       "      <td>False</td>\n",
       "      <td>False</td>\n",
       "      <td>False</td>\n",
       "      <td>False</td>\n",
       "    </tr>\n",
       "    <tr>\n",
       "      <th>1</th>\n",
       "      <td>False</td>\n",
       "      <td>False</td>\n",
       "      <td>False</td>\n",
       "      <td>False</td>\n",
       "    </tr>\n",
       "    <tr>\n",
       "      <th>2</th>\n",
       "      <td>False</td>\n",
       "      <td>False</td>\n",
       "      <td>False</td>\n",
       "      <td>False</td>\n",
       "    </tr>\n",
       "    <tr>\n",
       "      <th>3</th>\n",
       "      <td>False</td>\n",
       "      <td>False</td>\n",
       "      <td>False</td>\n",
       "      <td>False</td>\n",
       "    </tr>\n",
       "    <tr>\n",
       "      <th>4</th>\n",
       "      <td>False</td>\n",
       "      <td>False</td>\n",
       "      <td>False</td>\n",
       "      <td>False</td>\n",
       "    </tr>\n",
       "    <tr>\n",
       "      <th>5</th>\n",
       "      <td>False</td>\n",
       "      <td>False</td>\n",
       "      <td>False</td>\n",
       "      <td>False</td>\n",
       "    </tr>\n",
       "    <tr>\n",
       "      <th>6</th>\n",
       "      <td>False</td>\n",
       "      <td>False</td>\n",
       "      <td>False</td>\n",
       "      <td>False</td>\n",
       "    </tr>\n",
       "    <tr>\n",
       "      <th>7</th>\n",
       "      <td>False</td>\n",
       "      <td>False</td>\n",
       "      <td>False</td>\n",
       "      <td>False</td>\n",
       "    </tr>\n",
       "    <tr>\n",
       "      <th>8</th>\n",
       "      <td>False</td>\n",
       "      <td>False</td>\n",
       "      <td>False</td>\n",
       "      <td>False</td>\n",
       "    </tr>\n",
       "    <tr>\n",
       "      <th>9</th>\n",
       "      <td>False</td>\n",
       "      <td>False</td>\n",
       "      <td>False</td>\n",
       "      <td>False</td>\n",
       "    </tr>\n",
       "    <tr>\n",
       "      <th>10</th>\n",
       "      <td>False</td>\n",
       "      <td>False</td>\n",
       "      <td>False</td>\n",
       "      <td>False</td>\n",
       "    </tr>\n",
       "    <tr>\n",
       "      <th>11</th>\n",
       "      <td>False</td>\n",
       "      <td>False</td>\n",
       "      <td>False</td>\n",
       "      <td>False</td>\n",
       "    </tr>\n",
       "    <tr>\n",
       "      <th>12</th>\n",
       "      <td>False</td>\n",
       "      <td>False</td>\n",
       "      <td>False</td>\n",
       "      <td>False</td>\n",
       "    </tr>\n",
       "    <tr>\n",
       "      <th>13</th>\n",
       "      <td>False</td>\n",
       "      <td>False</td>\n",
       "      <td>False</td>\n",
       "      <td>False</td>\n",
       "    </tr>\n",
       "    <tr>\n",
       "      <th>14</th>\n",
       "      <td>False</td>\n",
       "      <td>False</td>\n",
       "      <td>False</td>\n",
       "      <td>False</td>\n",
       "    </tr>\n",
       "    <tr>\n",
       "      <th>15</th>\n",
       "      <td>False</td>\n",
       "      <td>False</td>\n",
       "      <td>False</td>\n",
       "      <td>False</td>\n",
       "    </tr>\n",
       "    <tr>\n",
       "      <th>16</th>\n",
       "      <td>False</td>\n",
       "      <td>False</td>\n",
       "      <td>False</td>\n",
       "      <td>False</td>\n",
       "    </tr>\n",
       "    <tr>\n",
       "      <th>17</th>\n",
       "      <td>False</td>\n",
       "      <td>False</td>\n",
       "      <td>False</td>\n",
       "      <td>False</td>\n",
       "    </tr>\n",
       "    <tr>\n",
       "      <th>18</th>\n",
       "      <td>False</td>\n",
       "      <td>False</td>\n",
       "      <td>False</td>\n",
       "      <td>False</td>\n",
       "    </tr>\n",
       "    <tr>\n",
       "      <th>19</th>\n",
       "      <td>False</td>\n",
       "      <td>False</td>\n",
       "      <td>False</td>\n",
       "      <td>False</td>\n",
       "    </tr>\n",
       "  </tbody>\n",
       "</table>\n",
       "</div>"
      ],
      "text/plain": [
       "       id   name  gender  salary\n",
       "0   False  False   False   False\n",
       "1   False  False   False   False\n",
       "2   False  False   False   False\n",
       "3   False  False   False   False\n",
       "4   False  False   False   False\n",
       "5   False  False   False   False\n",
       "6   False  False   False   False\n",
       "7   False  False   False   False\n",
       "8   False  False   False   False\n",
       "9   False  False   False   False\n",
       "10  False  False   False   False\n",
       "11  False  False   False   False\n",
       "12  False  False   False   False\n",
       "13  False  False   False   False\n",
       "14  False  False   False   False\n",
       "15  False  False   False   False\n",
       "16  False  False   False   False\n",
       "17  False  False   False   False\n",
       "18  False  False   False   False\n",
       "19  False  False   False   False"
      ]
     },
     "execution_count": 33,
     "metadata": {},
     "output_type": "execute_result"
    }
   ],
   "source": [
    "df.isnull()"
   ]
  },
  {
   "cell_type": "code",
   "execution_count": 34,
   "id": "93b242a2",
   "metadata": {},
   "outputs": [
    {
     "data": {
      "text/html": [
       "<div>\n",
       "<style scoped>\n",
       "    .dataframe tbody tr th:only-of-type {\n",
       "        vertical-align: middle;\n",
       "    }\n",
       "\n",
       "    .dataframe tbody tr th {\n",
       "        vertical-align: top;\n",
       "    }\n",
       "\n",
       "    .dataframe thead th {\n",
       "        text-align: right;\n",
       "    }\n",
       "</style>\n",
       "<table border=\"1\" class=\"dataframe\">\n",
       "  <thead>\n",
       "    <tr style=\"text-align: right;\">\n",
       "      <th></th>\n",
       "      <th>id</th>\n",
       "      <th>salary</th>\n",
       "    </tr>\n",
       "  </thead>\n",
       "  <tbody>\n",
       "    <tr>\n",
       "      <th>count</th>\n",
       "      <td>20.00000</td>\n",
       "      <td>2.000000e+01</td>\n",
       "    </tr>\n",
       "    <tr>\n",
       "      <th>mean</th>\n",
       "      <td>10.50000</td>\n",
       "      <td>2.137610e+05</td>\n",
       "    </tr>\n",
       "    <tr>\n",
       "      <th>std</th>\n",
       "      <td>5.91608</td>\n",
       "      <td>7.669659e+05</td>\n",
       "    </tr>\n",
       "    <tr>\n",
       "      <th>min</th>\n",
       "      <td>1.00000</td>\n",
       "      <td>3.450000e+02</td>\n",
       "    </tr>\n",
       "    <tr>\n",
       "      <th>25%</th>\n",
       "      <td>5.75000</td>\n",
       "      <td>7.129250e+03</td>\n",
       "    </tr>\n",
       "    <tr>\n",
       "      <th>50%</th>\n",
       "      <td>10.50000</td>\n",
       "      <td>2.234500e+04</td>\n",
       "    </tr>\n",
       "    <tr>\n",
       "      <th>75%</th>\n",
       "      <td>15.25000</td>\n",
       "      <td>4.516950e+04</td>\n",
       "    </tr>\n",
       "    <tr>\n",
       "      <th>max</th>\n",
       "      <td>20.00000</td>\n",
       "      <td>3.456578e+06</td>\n",
       "    </tr>\n",
       "  </tbody>\n",
       "</table>\n",
       "</div>"
      ],
      "text/plain": [
       "             id        salary\n",
       "count  20.00000  2.000000e+01\n",
       "mean   10.50000  2.137610e+05\n",
       "std     5.91608  7.669659e+05\n",
       "min     1.00000  3.450000e+02\n",
       "25%     5.75000  7.129250e+03\n",
       "50%    10.50000  2.234500e+04\n",
       "75%    15.25000  4.516950e+04\n",
       "max    20.00000  3.456578e+06"
      ]
     },
     "execution_count": 34,
     "metadata": {},
     "output_type": "execute_result"
    }
   ],
   "source": [
    "df.describe()"
   ]
  },
  {
   "cell_type": "code",
   "execution_count": 35,
   "id": "88da6c3a",
   "metadata": {},
   "outputs": [
    {
     "name": "stdout",
     "output_type": "stream",
     "text": [
      "<class 'pandas.core.frame.DataFrame'>\n",
      "RangeIndex: 20 entries, 0 to 19\n",
      "Data columns (total 4 columns):\n",
      " #   Column  Non-Null Count  Dtype \n",
      "---  ------  --------------  ----- \n",
      " 0   id      20 non-null     int64 \n",
      " 1   name    20 non-null     object\n",
      " 2   gender  20 non-null     object\n",
      " 3   salary  20 non-null     int64 \n",
      "dtypes: int64(2), object(2)\n",
      "memory usage: 772.0+ bytes\n"
     ]
    }
   ],
   "source": [
    "df.info()"
   ]
  },
  {
   "cell_type": "code",
   "execution_count": 36,
   "id": "af8e3c79",
   "metadata": {},
   "outputs": [
    {
     "data": {
      "text/plain": [
       "(20, 4)"
      ]
     },
     "execution_count": 36,
     "metadata": {},
     "output_type": "execute_result"
    }
   ],
   "source": [
    "df.shape"
   ]
  },
  {
   "cell_type": "code",
   "execution_count": 37,
   "id": "efd797d0",
   "metadata": {},
   "outputs": [
    {
     "data": {
      "text/plain": [
       "<bound method DataFrame.nunique of     id   name  gender   salary\n",
       "0    1   aaaa    male    10000\n",
       "1    2   bbbb  female     8000\n",
       "2    3  ccccc    male   120000\n",
       "3    4   dddd    male    45000\n",
       "4    5   eeee  female   334567\n",
       "5    6   ffff  female    21234\n",
       "6    7   gggg  female     2345\n",
       "7    8   hhhh  female    23456\n",
       "8    9   iiii    male     7654\n",
       "9   10    jjj    male  3456578\n",
       "10  11   kkkk    male    45678\n",
       "11  12   llll    male      345\n",
       "12  13   mmmm  female     9876\n",
       "13  14  nnnnn    male    34567\n",
       "14  15   jjjj    male    87654\n",
       "15  16   iiii  female    34567\n",
       "16  17   mmmm  female     1234\n",
       "17  18  nnnnn  female    23456\n",
       "18  19   oooo  female     5555\n",
       "19  20   pppp    male     3455>"
      ]
     },
     "execution_count": 37,
     "metadata": {},
     "output_type": "execute_result"
    }
   ],
   "source": [
    "df.nunique"
   ]
  },
  {
   "cell_type": "code",
   "execution_count": 38,
   "id": "e23e0d29",
   "metadata": {},
   "outputs": [
    {
     "data": {
      "text/html": [
       "<div>\n",
       "<style scoped>\n",
       "    .dataframe tbody tr th:only-of-type {\n",
       "        vertical-align: middle;\n",
       "    }\n",
       "\n",
       "    .dataframe tbody tr th {\n",
       "        vertical-align: top;\n",
       "    }\n",
       "\n",
       "    .dataframe thead th {\n",
       "        text-align: right;\n",
       "    }\n",
       "</style>\n",
       "<table border=\"1\" class=\"dataframe\">\n",
       "  <thead>\n",
       "    <tr style=\"text-align: right;\">\n",
       "      <th></th>\n",
       "      <th>id</th>\n",
       "      <th>name</th>\n",
       "      <th>gender</th>\n",
       "      <th>salary</th>\n",
       "    </tr>\n",
       "  </thead>\n",
       "  <tbody>\n",
       "    <tr>\n",
       "      <th>2</th>\n",
       "      <td>3</td>\n",
       "      <td>ccccc</td>\n",
       "      <td>male</td>\n",
       "      <td>120000</td>\n",
       "    </tr>\n",
       "  </tbody>\n",
       "</table>\n",
       "</div>"
      ],
      "text/plain": [
       "   id   name gender  salary\n",
       "2   3  ccccc   male  120000"
      ]
     },
     "execution_count": 38,
     "metadata": {},
     "output_type": "execute_result"
    }
   ],
   "source": [
    "df.sample()"
   ]
  },
  {
   "cell_type": "code",
   "execution_count": 39,
   "id": "4eb10485",
   "metadata": {},
   "outputs": [
    {
     "data": {
      "text/plain": [
       "id                                                      210\n",
       "name      aaaabbbbcccccddddeeeeffffgggghhhhiiiijjjkkkkll...\n",
       "gender    malefemalemalemalefemalefemalefemalefemalemale...\n",
       "salary                                              4275221\n",
       "dtype: object"
      ]
     },
     "execution_count": 39,
     "metadata": {},
     "output_type": "execute_result"
    }
   ],
   "source": [
    "df.sum()"
   ]
  },
  {
   "cell_type": "code",
   "execution_count": 42,
   "id": "bbe62752",
   "metadata": {},
   "outputs": [],
   "source": [
    "s=pd.Series([1,2,3,4,5,6,7,8,9])"
   ]
  },
  {
   "cell_type": "code",
   "execution_count": 43,
   "id": "8860e5ce",
   "metadata": {},
   "outputs": [
    {
     "data": {
      "text/plain": [
       "0    1\n",
       "1    2\n",
       "2    3\n",
       "3    4\n",
       "4    5\n",
       "5    6\n",
       "6    7\n",
       "7    8\n",
       "8    9\n",
       "dtype: int64"
      ]
     },
     "execution_count": 43,
     "metadata": {},
     "output_type": "execute_result"
    }
   ],
   "source": [
    "s.fillna(0)"
   ]
  },
  {
   "cell_type": "code",
   "execution_count": 45,
   "id": "1aaeb575",
   "metadata": {},
   "outputs": [
    {
     "data": {
      "text/html": [
       "<div>\n",
       "<style scoped>\n",
       "    .dataframe tbody tr th:only-of-type {\n",
       "        vertical-align: middle;\n",
       "    }\n",
       "\n",
       "    .dataframe tbody tr th {\n",
       "        vertical-align: top;\n",
       "    }\n",
       "\n",
       "    .dataframe thead th {\n",
       "        text-align: right;\n",
       "    }\n",
       "</style>\n",
       "<table border=\"1\" class=\"dataframe\">\n",
       "  <thead>\n",
       "    <tr style=\"text-align: right;\">\n",
       "      <th></th>\n",
       "      <th>id</th>\n",
       "      <th>name</th>\n",
       "      <th>gender</th>\n",
       "      <th>salary</th>\n",
       "    </tr>\n",
       "  </thead>\n",
       "  <tbody>\n",
       "    <tr>\n",
       "      <th>0</th>\n",
       "      <td>1</td>\n",
       "      <td>aaaa</td>\n",
       "      <td>male</td>\n",
       "      <td>10000</td>\n",
       "    </tr>\n",
       "    <tr>\n",
       "      <th>1</th>\n",
       "      <td>2</td>\n",
       "      <td>bbbb</td>\n",
       "      <td>female</td>\n",
       "      <td>8000</td>\n",
       "    </tr>\n",
       "    <tr>\n",
       "      <th>2</th>\n",
       "      <td>3</td>\n",
       "      <td>ccccc</td>\n",
       "      <td>male</td>\n",
       "      <td>120000</td>\n",
       "    </tr>\n",
       "    <tr>\n",
       "      <th>3</th>\n",
       "      <td>4</td>\n",
       "      <td>dddd</td>\n",
       "      <td>male</td>\n",
       "      <td>45000</td>\n",
       "    </tr>\n",
       "    <tr>\n",
       "      <th>4</th>\n",
       "      <td>5</td>\n",
       "      <td>eeee</td>\n",
       "      <td>female</td>\n",
       "      <td>334567</td>\n",
       "    </tr>\n",
       "    <tr>\n",
       "      <th>5</th>\n",
       "      <td>6</td>\n",
       "      <td>ffff</td>\n",
       "      <td>female</td>\n",
       "      <td>21234</td>\n",
       "    </tr>\n",
       "    <tr>\n",
       "      <th>6</th>\n",
       "      <td>7</td>\n",
       "      <td>gggg</td>\n",
       "      <td>female</td>\n",
       "      <td>2345</td>\n",
       "    </tr>\n",
       "    <tr>\n",
       "      <th>7</th>\n",
       "      <td>8</td>\n",
       "      <td>hhhh</td>\n",
       "      <td>female</td>\n",
       "      <td>23456</td>\n",
       "    </tr>\n",
       "    <tr>\n",
       "      <th>8</th>\n",
       "      <td>9</td>\n",
       "      <td>iiii</td>\n",
       "      <td>male</td>\n",
       "      <td>7654</td>\n",
       "    </tr>\n",
       "    <tr>\n",
       "      <th>9</th>\n",
       "      <td>10</td>\n",
       "      <td>jjj</td>\n",
       "      <td>male</td>\n",
       "      <td>3456578</td>\n",
       "    </tr>\n",
       "    <tr>\n",
       "      <th>10</th>\n",
       "      <td>11</td>\n",
       "      <td>kkkk</td>\n",
       "      <td>male</td>\n",
       "      <td>45678</td>\n",
       "    </tr>\n",
       "    <tr>\n",
       "      <th>11</th>\n",
       "      <td>12</td>\n",
       "      <td>llll</td>\n",
       "      <td>male</td>\n",
       "      <td>345</td>\n",
       "    </tr>\n",
       "    <tr>\n",
       "      <th>12</th>\n",
       "      <td>13</td>\n",
       "      <td>mmmm</td>\n",
       "      <td>female</td>\n",
       "      <td>9876</td>\n",
       "    </tr>\n",
       "    <tr>\n",
       "      <th>13</th>\n",
       "      <td>14</td>\n",
       "      <td>nnnnn</td>\n",
       "      <td>male</td>\n",
       "      <td>34567</td>\n",
       "    </tr>\n",
       "    <tr>\n",
       "      <th>14</th>\n",
       "      <td>15</td>\n",
       "      <td>jjjj</td>\n",
       "      <td>male</td>\n",
       "      <td>87654</td>\n",
       "    </tr>\n",
       "    <tr>\n",
       "      <th>15</th>\n",
       "      <td>16</td>\n",
       "      <td>iiii</td>\n",
       "      <td>female</td>\n",
       "      <td>34567</td>\n",
       "    </tr>\n",
       "    <tr>\n",
       "      <th>16</th>\n",
       "      <td>17</td>\n",
       "      <td>mmmm</td>\n",
       "      <td>female</td>\n",
       "      <td>1234</td>\n",
       "    </tr>\n",
       "    <tr>\n",
       "      <th>17</th>\n",
       "      <td>18</td>\n",
       "      <td>nnnnn</td>\n",
       "      <td>female</td>\n",
       "      <td>23456</td>\n",
       "    </tr>\n",
       "    <tr>\n",
       "      <th>18</th>\n",
       "      <td>19</td>\n",
       "      <td>oooo</td>\n",
       "      <td>female</td>\n",
       "      <td>5555</td>\n",
       "    </tr>\n",
       "    <tr>\n",
       "      <th>19</th>\n",
       "      <td>20</td>\n",
       "      <td>pppp</td>\n",
       "      <td>male</td>\n",
       "      <td>3455</td>\n",
       "    </tr>\n",
       "  </tbody>\n",
       "</table>\n",
       "</div>"
      ],
      "text/plain": [
       "    id   name  gender   salary\n",
       "0    1   aaaa    male    10000\n",
       "1    2   bbbb  female     8000\n",
       "2    3  ccccc    male   120000\n",
       "3    4   dddd    male    45000\n",
       "4    5   eeee  female   334567\n",
       "5    6   ffff  female    21234\n",
       "6    7   gggg  female     2345\n",
       "7    8   hhhh  female    23456\n",
       "8    9   iiii    male     7654\n",
       "9   10    jjj    male  3456578\n",
       "10  11   kkkk    male    45678\n",
       "11  12   llll    male      345\n",
       "12  13   mmmm  female     9876\n",
       "13  14  nnnnn    male    34567\n",
       "14  15   jjjj    male    87654\n",
       "15  16   iiii  female    34567\n",
       "16  17   mmmm  female     1234\n",
       "17  18  nnnnn  female    23456\n",
       "18  19   oooo  female     5555\n",
       "19  20   pppp    male     3455"
      ]
     },
     "execution_count": 45,
     "metadata": {},
     "output_type": "execute_result"
    }
   ],
   "source": [
    "df.fillna(0)"
   ]
  },
  {
   "cell_type": "code",
   "execution_count": 46,
   "id": "eb2732e8",
   "metadata": {},
   "outputs": [
    {
     "data": {
      "text/plain": [
       "id                                                      210\n",
       "name      aaaabbbbcccccddddeeeeffffgggghhhhiiiijjjkkkkll...\n",
       "gender    malefemalemalemalefemalefemalefemalefemalemale...\n",
       "salary                                              4275221\n",
       "dtype: object"
      ]
     },
     "execution_count": 46,
     "metadata": {},
     "output_type": "execute_result"
    }
   ],
   "source": [
    "df.sum()"
   ]
  },
  {
   "cell_type": "code",
   "execution_count": 47,
   "id": "5c9481f7",
   "metadata": {},
   "outputs": [
    {
     "data": {
      "text/plain": [
       "id  name   gender  salary \n",
       "1   aaaa   male    10000      1\n",
       "2   bbbb   female  8000       1\n",
       "19  oooo   female  5555       1\n",
       "18  nnnnn  female  23456      1\n",
       "17  mmmm   female  1234       1\n",
       "16  iiii   female  34567      1\n",
       "15  jjjj   male    87654      1\n",
       "14  nnnnn  male    34567      1\n",
       "13  mmmm   female  9876       1\n",
       "12  llll   male    345        1\n",
       "11  kkkk   male    45678      1\n",
       "10  jjj    male    3456578    1\n",
       "9   iiii   male    7654       1\n",
       "8   hhhh   female  23456      1\n",
       "7   gggg   female  2345       1\n",
       "6   ffff   female  21234      1\n",
       "5   eeee   female  334567     1\n",
       "4   dddd   male    45000      1\n",
       "3   ccccc  male    120000     1\n",
       "20  pppp   male    3455       1\n",
       "Name: count, dtype: int64"
      ]
     },
     "execution_count": 47,
     "metadata": {},
     "output_type": "execute_result"
    }
   ],
   "source": [
    "df.value_counts()"
   ]
  },
  {
   "cell_type": "code",
   "execution_count": 49,
   "id": "10e09ac2",
   "metadata": {},
   "outputs": [
    {
     "data": {
      "text/plain": [
       "Index(['id', 'name', 'gender', 'salary'], dtype='object')"
      ]
     },
     "execution_count": 49,
     "metadata": {},
     "output_type": "execute_result"
    }
   ],
   "source": [
    "df.columns"
   ]
  },
  {
   "cell_type": "code",
   "execution_count": 55,
   "id": "bef1fb6b",
   "metadata": {},
   "outputs": [
    {
     "data": {
      "text/plain": [
       "<pandas.core.indexing._iLocIndexer at 0x199ea9709b0>"
      ]
     },
     "execution_count": 55,
     "metadata": {},
     "output_type": "execute_result"
    }
   ],
   "source": [
    "df.iloc()"
   ]
  },
  {
   "cell_type": "code",
   "execution_count": 58,
   "id": "f0385ff6",
   "metadata": {},
   "outputs": [],
   "source": [
    "s1=pd.Series([0,1,2,3,4])\n",
    "s2=pd.Series([5,6,7,8,9])"
   ]
  },
  {
   "cell_type": "code",
   "execution_count": 60,
   "id": "510cff60",
   "metadata": {},
   "outputs": [
    {
     "data": {
      "text/plain": [
       "0    0\n",
       "1    1\n",
       "2    2\n",
       "3    3\n",
       "4    4\n",
       "0    5\n",
       "1    6\n",
       "2    7\n",
       "3    8\n",
       "4    9\n",
       "dtype: int64"
      ]
     },
     "execution_count": 60,
     "metadata": {},
     "output_type": "execute_result"
    }
   ],
   "source": [
    "pd.concat([s1,s2])"
   ]
  },
  {
   "cell_type": "code",
   "execution_count": 61,
   "id": "2cd4c745",
   "metadata": {},
   "outputs": [
    {
     "data": {
      "text/plain": [
       "id        20\n",
       "name      20\n",
       "gender    20\n",
       "salary    20\n",
       "dtype: int64"
      ]
     },
     "execution_count": 61,
     "metadata": {},
     "output_type": "execute_result"
    }
   ],
   "source": [
    "df.count()"
   ]
  },
  {
   "cell_type": "code",
   "execution_count": 62,
   "id": "bed95321",
   "metadata": {},
   "outputs": [
    {
     "name": "stdout",
     "output_type": "stream",
     "text": [
      "    id   name  gender   salary\n",
      "0    1   aaaa    male    10000\n",
      "1    2   bbbb  female     8000\n",
      "2    3  ccccc    male   120000\n",
      "3    4   dddd    male    45000\n",
      "4    5   eeee  female   334567\n",
      "5    6   ffff  female    21234\n",
      "6    7   gggg  female     2345\n",
      "7    8   hhhh  female    23456\n",
      "8    9   iiii    male     7654\n",
      "9   10    jjj    male  3456578\n",
      "10  11   kkkk    male    45678\n",
      "11  12   llll    male      345\n",
      "12  13   mmmm  female     9876\n",
      "13  14  nnnnn    male    34567\n",
      "14  15   jjjj    male    87654\n",
      "15  16   iiii  female    34567\n",
      "16  17   mmmm  female     1234\n",
      "17  18  nnnnn  female    23456\n",
      "18  19   oooo  female     5555\n",
      "19  20   pppp    male     3455\n"
     ]
    }
   ],
   "source": [
    "print(df)"
   ]
  },
  {
   "cell_type": "code",
   "execution_count": 65,
   "id": "15f1a139",
   "metadata": {},
   "outputs": [
    {
     "name": "stdout",
     "output_type": "stream",
     "text": [
      "    id   name  gender   salary       tax\n",
      "0    1   aaaa    male    10000    1000.0\n",
      "1    2   bbbb  female     8000     800.0\n",
      "2    3  ccccc    male   120000   12000.0\n",
      "3    4   dddd    male    45000    4500.0\n",
      "4    5   eeee  female   334567   33456.7\n",
      "5    6   ffff  female    21234    2123.4\n",
      "6    7   gggg  female     2345     234.5\n",
      "7    8   hhhh  female    23456    2345.6\n",
      "8    9   iiii    male     7654     765.4\n",
      "9   10    jjj    male  3456578  345657.8\n",
      "10  11   kkkk    male    45678    4567.8\n",
      "11  12   llll    male      345      34.5\n",
      "12  13   mmmm  female     9876     987.6\n",
      "13  14  nnnnn    male    34567    3456.7\n",
      "14  15   jjjj    male    87654    8765.4\n",
      "15  16   iiii  female    34567    3456.7\n",
      "16  17   mmmm  female     1234     123.4\n",
      "17  18  nnnnn  female    23456    2345.6\n",
      "18  19   oooo  female     5555     555.5\n",
      "19  20   pppp    male     3455     345.5\n"
     ]
    }
   ],
   "source": [
    "df['tax']=df.salary*0.10\n",
    "print(df)"
   ]
  },
  {
   "cell_type": "code",
   "execution_count": 66,
   "id": "4d5e7659",
   "metadata": {},
   "outputs": [
    {
     "name": "stdout",
     "output_type": "stream",
     "text": [
      "id             1\n",
      "name        aaaa\n",
      "gender      male\n",
      "salary     10000\n",
      "tax       1000.0\n",
      "Name: 0, dtype: object\n",
      "id             2\n",
      "name        bbbb\n",
      "gender    female\n",
      "salary      8000\n",
      "tax        800.0\n",
      "Name: 1, dtype: object\n",
      "id              3\n",
      "name        ccccc\n",
      "gender       male\n",
      "salary     120000\n",
      "tax       12000.0\n",
      "Name: 2, dtype: object\n",
      "id             4\n",
      "name        dddd\n",
      "gender      male\n",
      "salary     45000\n",
      "tax       4500.0\n",
      "Name: 3, dtype: object\n",
      "id              5\n",
      "name         eeee\n",
      "gender     female\n",
      "salary     334567\n",
      "tax       33456.7\n",
      "Name: 4, dtype: object\n",
      "id             6\n",
      "name        ffff\n",
      "gender    female\n",
      "salary     21234\n",
      "tax       2123.4\n",
      "Name: 5, dtype: object\n",
      "id             7\n",
      "name        gggg\n",
      "gender    female\n",
      "salary      2345\n",
      "tax        234.5\n",
      "Name: 6, dtype: object\n",
      "id             8\n",
      "name        hhhh\n",
      "gender    female\n",
      "salary     23456\n",
      "tax       2345.6\n",
      "Name: 7, dtype: object\n",
      "id            9\n",
      "name       iiii\n",
      "gender     male\n",
      "salary     7654\n",
      "tax       765.4\n",
      "Name: 8, dtype: object\n",
      "id              10\n",
      "name           jjj\n",
      "gender        male\n",
      "salary     3456578\n",
      "tax       345657.8\n",
      "Name: 9, dtype: object\n",
      "id            11\n",
      "name        kkkk\n",
      "gender      male\n",
      "salary     45678\n",
      "tax       4567.8\n",
      "Name: 10, dtype: object\n",
      "id          12\n",
      "name      llll\n",
      "gender    male\n",
      "salary     345\n",
      "tax       34.5\n",
      "Name: 11, dtype: object\n",
      "id            13\n",
      "name        mmmm\n",
      "gender    female\n",
      "salary      9876\n",
      "tax        987.6\n",
      "Name: 12, dtype: object\n",
      "id            14\n",
      "name       nnnnn\n",
      "gender      male\n",
      "salary     34567\n",
      "tax       3456.7\n",
      "Name: 13, dtype: object\n",
      "id            15\n",
      "name        jjjj\n",
      "gender      male\n",
      "salary     87654\n",
      "tax       8765.4\n",
      "Name: 14, dtype: object\n",
      "id            16\n",
      "name        iiii\n",
      "gender    female\n",
      "salary     34567\n",
      "tax       3456.7\n",
      "Name: 15, dtype: object\n",
      "id            17\n",
      "name        mmmm\n",
      "gender    female\n",
      "salary      1234\n",
      "tax        123.4\n",
      "Name: 16, dtype: object\n",
      "id            18\n",
      "name       nnnnn\n",
      "gender    female\n",
      "salary     23456\n",
      "tax       2345.6\n",
      "Name: 17, dtype: object\n",
      "id            19\n",
      "name        oooo\n",
      "gender    female\n",
      "salary      5555\n",
      "tax        555.5\n",
      "Name: 18, dtype: object\n",
      "id           20\n",
      "name       pppp\n",
      "gender     male\n",
      "salary     3455\n",
      "tax       345.5\n",
      "Name: 19, dtype: object\n"
     ]
    }
   ],
   "source": [
    "for i in range(len(df)):\n",
    "    print(df.loc[i])"
   ]
  },
  {
   "cell_type": "code",
   "execution_count": 67,
   "id": "308f6ba8",
   "metadata": {},
   "outputs": [
    {
     "data": {
      "text/html": [
       "<div>\n",
       "<style scoped>\n",
       "    .dataframe tbody tr th:only-of-type {\n",
       "        vertical-align: middle;\n",
       "    }\n",
       "\n",
       "    .dataframe tbody tr th {\n",
       "        vertical-align: top;\n",
       "    }\n",
       "\n",
       "    .dataframe thead th {\n",
       "        text-align: right;\n",
       "    }\n",
       "</style>\n",
       "<table border=\"1\" class=\"dataframe\">\n",
       "  <thead>\n",
       "    <tr style=\"text-align: right;\">\n",
       "      <th></th>\n",
       "      <th>id</th>\n",
       "      <th>name</th>\n",
       "      <th>gender</th>\n",
       "      <th>salary</th>\n",
       "      <th>tax</th>\n",
       "    </tr>\n",
       "  </thead>\n",
       "  <tbody>\n",
       "    <tr>\n",
       "      <th>2</th>\n",
       "      <td>3</td>\n",
       "      <td>ccccc</td>\n",
       "      <td>male</td>\n",
       "      <td>120000</td>\n",
       "      <td>12000.0</td>\n",
       "    </tr>\n",
       "    <tr>\n",
       "      <th>3</th>\n",
       "      <td>4</td>\n",
       "      <td>dddd</td>\n",
       "      <td>male</td>\n",
       "      <td>45000</td>\n",
       "      <td>4500.0</td>\n",
       "    </tr>\n",
       "    <tr>\n",
       "      <th>4</th>\n",
       "      <td>5</td>\n",
       "      <td>eeee</td>\n",
       "      <td>female</td>\n",
       "      <td>334567</td>\n",
       "      <td>33456.7</td>\n",
       "    </tr>\n",
       "    <tr>\n",
       "      <th>5</th>\n",
       "      <td>6</td>\n",
       "      <td>ffff</td>\n",
       "      <td>female</td>\n",
       "      <td>21234</td>\n",
       "      <td>2123.4</td>\n",
       "    </tr>\n",
       "    <tr>\n",
       "      <th>6</th>\n",
       "      <td>7</td>\n",
       "      <td>gggg</td>\n",
       "      <td>female</td>\n",
       "      <td>2345</td>\n",
       "      <td>234.5</td>\n",
       "    </tr>\n",
       "    <tr>\n",
       "      <th>7</th>\n",
       "      <td>8</td>\n",
       "      <td>hhhh</td>\n",
       "      <td>female</td>\n",
       "      <td>23456</td>\n",
       "      <td>2345.6</td>\n",
       "    </tr>\n",
       "    <tr>\n",
       "      <th>8</th>\n",
       "      <td>9</td>\n",
       "      <td>iiii</td>\n",
       "      <td>male</td>\n",
       "      <td>7654</td>\n",
       "      <td>765.4</td>\n",
       "    </tr>\n",
       "    <tr>\n",
       "      <th>9</th>\n",
       "      <td>10</td>\n",
       "      <td>jjj</td>\n",
       "      <td>male</td>\n",
       "      <td>3456578</td>\n",
       "      <td>345657.8</td>\n",
       "    </tr>\n",
       "    <tr>\n",
       "      <th>10</th>\n",
       "      <td>11</td>\n",
       "      <td>kkkk</td>\n",
       "      <td>male</td>\n",
       "      <td>45678</td>\n",
       "      <td>4567.8</td>\n",
       "    </tr>\n",
       "  </tbody>\n",
       "</table>\n",
       "</div>"
      ],
      "text/plain": [
       "    id   name  gender   salary       tax\n",
       "2    3  ccccc    male   120000   12000.0\n",
       "3    4   dddd    male    45000    4500.0\n",
       "4    5   eeee  female   334567   33456.7\n",
       "5    6   ffff  female    21234    2123.4\n",
       "6    7   gggg  female     2345     234.5\n",
       "7    8   hhhh  female    23456    2345.6\n",
       "8    9   iiii    male     7654     765.4\n",
       "9   10    jjj    male  3456578  345657.8\n",
       "10  11   kkkk    male    45678    4567.8"
      ]
     },
     "execution_count": 67,
     "metadata": {},
     "output_type": "execute_result"
    }
   ],
   "source": [
    "df.loc[2:10]"
   ]
  },
  {
   "cell_type": "code",
   "execution_count": 68,
   "id": "9dcd573b",
   "metadata": {},
   "outputs": [
    {
     "data": {
      "text/plain": [
       "0      True\n",
       "1     False\n",
       "2      True\n",
       "3      True\n",
       "4     False\n",
       "5     False\n",
       "6     False\n",
       "7     False\n",
       "8      True\n",
       "9      True\n",
       "10     True\n",
       "11     True\n",
       "12    False\n",
       "13     True\n",
       "14     True\n",
       "15    False\n",
       "16    False\n",
       "17    False\n",
       "18    False\n",
       "19     True\n",
       "Name: gender, dtype: bool"
      ]
     },
     "execution_count": 68,
     "metadata": {},
     "output_type": "execute_result"
    }
   ],
   "source": [
    "df['gender']=='male'"
   ]
  },
  {
   "cell_type": "code",
   "execution_count": 70,
   "id": "8b994e14",
   "metadata": {},
   "outputs": [
    {
     "data": {
      "text/html": [
       "<div>\n",
       "<style scoped>\n",
       "    .dataframe tbody tr th:only-of-type {\n",
       "        vertical-align: middle;\n",
       "    }\n",
       "\n",
       "    .dataframe tbody tr th {\n",
       "        vertical-align: top;\n",
       "    }\n",
       "\n",
       "    .dataframe thead th {\n",
       "        text-align: right;\n",
       "    }\n",
       "</style>\n",
       "<table border=\"1\" class=\"dataframe\">\n",
       "  <thead>\n",
       "    <tr style=\"text-align: right;\">\n",
       "      <th></th>\n",
       "      <th>id</th>\n",
       "      <th>name</th>\n",
       "      <th>gender</th>\n",
       "      <th>salary</th>\n",
       "      <th>tax</th>\n",
       "    </tr>\n",
       "  </thead>\n",
       "  <tbody>\n",
       "    <tr>\n",
       "      <th>4</th>\n",
       "      <td>5</td>\n",
       "      <td>eeee</td>\n",
       "      <td>female</td>\n",
       "      <td>334567</td>\n",
       "      <td>33456.7</td>\n",
       "    </tr>\n",
       "  </tbody>\n",
       "</table>\n",
       "</div>"
      ],
      "text/plain": [
       "   id  name  gender  salary      tax\n",
       "4   5  eeee  female  334567  33456.7"
      ]
     },
     "execution_count": 70,
     "metadata": {},
     "output_type": "execute_result"
    }
   ],
   "source": [
    "df.sort_values(by='salary')[-2:-1]"
   ]
  },
  {
   "cell_type": "code",
   "execution_count": 1,
   "id": "f8897c9f",
   "metadata": {},
   "outputs": [],
   "source": [
    "import pandas as pd"
   ]
  },
  {
   "cell_type": "code",
   "execution_count": 3,
   "id": "6c0e11d4",
   "metadata": {},
   "outputs": [],
   "source": [
    "df=pd.read_csv('ADANIPORTS.csv')"
   ]
  },
  {
   "cell_type": "code",
   "execution_count": 4,
   "id": "449e075d",
   "metadata": {},
   "outputs": [
    {
     "name": "stdout",
     "output_type": "stream",
     "text": [
      "            Date      Symbol Series  Prev Close    Open     High     Low   \n",
      "0     2007-11-27  MUNDRAPORT     EQ      440.00  770.00  1050.00  770.00  \\\n",
      "1     2007-11-28  MUNDRAPORT     EQ      962.90  984.00   990.00  874.00   \n",
      "2     2007-11-29  MUNDRAPORT     EQ      893.90  909.00   914.75  841.00   \n",
      "3     2007-11-30  MUNDRAPORT     EQ      884.20  890.00   958.00  890.00   \n",
      "4     2007-12-03  MUNDRAPORT     EQ      921.55  939.75   995.00  922.00   \n",
      "...          ...         ...    ...         ...     ...      ...     ...   \n",
      "3317  2021-04-26  ADANIPORTS     EQ      725.35  733.00   739.65  728.90   \n",
      "3318  2021-04-27  ADANIPORTS     EQ      730.75  735.00   757.50  727.35   \n",
      "3319  2021-04-28  ADANIPORTS     EQ      749.15  755.00   760.00  741.10   \n",
      "3320  2021-04-29  ADANIPORTS     EQ      746.25  753.20   765.85  743.40   \n",
      "3321  2021-04-30  ADANIPORTS     EQ      746.75  739.00   759.45  724.50   \n",
      "\n",
      "       Last   Close    VWAP    Volume      Turnover    Trades   \n",
      "0     959.0  962.90  984.72  27294366  2.687719e+15       NaN  \\\n",
      "1     885.0  893.90  941.38   4581338  4.312765e+14       NaN   \n",
      "2     887.0  884.20  888.09   5124121  4.550658e+14       NaN   \n",
      "3     929.0  921.55  929.17   4609762  4.283257e+14       NaN   \n",
      "4     980.0  969.30  965.65   2977470  2.875200e+14       NaN   \n",
      "...     ...     ...     ...       ...           ...       ...   \n",
      "3317  729.2  730.75  733.25   9390549  6.885658e+14  116457.0   \n",
      "3318  748.6  749.15  747.67  20573107  1.538191e+15  236896.0   \n",
      "3319  743.4  746.25  751.02  11156977  8.379106e+14  130847.0   \n",
      "3320  746.4  746.75  753.06  13851910  1.043139e+15  153293.0   \n",
      "3321  726.4  730.05  743.35  12600934  9.366911e+14  132141.0   \n",
      "\n",
      "      Deliverable Volume  %Deliverble  \n",
      "0                9859619       0.3612  \n",
      "1                1453278       0.3172  \n",
      "2                1069678       0.2088  \n",
      "3                1260913       0.2735  \n",
      "4                 816123       0.2741  \n",
      "...                  ...          ...  \n",
      "3317              838079       0.0892  \n",
      "3318             1779639       0.0865  \n",
      "3319             1342353       0.1203  \n",
      "3320             1304895       0.0942  \n",
      "3321             3514692       0.2789  \n",
      "\n",
      "[3322 rows x 15 columns]\n"
     ]
    }
   ],
   "source": [
    "print(df)"
   ]
  },
  {
   "cell_type": "code",
   "execution_count": 6,
   "id": "8e68f8b9",
   "metadata": {},
   "outputs": [
    {
     "data": {
      "text/html": [
       "<div>\n",
       "<style scoped>\n",
       "    .dataframe tbody tr th:only-of-type {\n",
       "        vertical-align: middle;\n",
       "    }\n",
       "\n",
       "    .dataframe tbody tr th {\n",
       "        vertical-align: top;\n",
       "    }\n",
       "\n",
       "    .dataframe thead th {\n",
       "        text-align: right;\n",
       "    }\n",
       "</style>\n",
       "<table border=\"1\" class=\"dataframe\">\n",
       "  <thead>\n",
       "    <tr style=\"text-align: right;\">\n",
       "      <th></th>\n",
       "      <th>Date</th>\n",
       "      <th>Symbol</th>\n",
       "      <th>Series</th>\n",
       "    </tr>\n",
       "  </thead>\n",
       "  <tbody>\n",
       "    <tr>\n",
       "      <th>0</th>\n",
       "      <td>2007-11-27</td>\n",
       "      <td>MUNDRAPORT</td>\n",
       "      <td>EQ</td>\n",
       "    </tr>\n",
       "    <tr>\n",
       "      <th>1</th>\n",
       "      <td>2007-11-28</td>\n",
       "      <td>MUNDRAPORT</td>\n",
       "      <td>EQ</td>\n",
       "    </tr>\n",
       "    <tr>\n",
       "      <th>2</th>\n",
       "      <td>2007-11-29</td>\n",
       "      <td>MUNDRAPORT</td>\n",
       "      <td>EQ</td>\n",
       "    </tr>\n",
       "    <tr>\n",
       "      <th>3</th>\n",
       "      <td>2007-11-30</td>\n",
       "      <td>MUNDRAPORT</td>\n",
       "      <td>EQ</td>\n",
       "    </tr>\n",
       "    <tr>\n",
       "      <th>4</th>\n",
       "      <td>2007-12-03</td>\n",
       "      <td>MUNDRAPORT</td>\n",
       "      <td>EQ</td>\n",
       "    </tr>\n",
       "    <tr>\n",
       "      <th>...</th>\n",
       "      <td>...</td>\n",
       "      <td>...</td>\n",
       "      <td>...</td>\n",
       "    </tr>\n",
       "    <tr>\n",
       "      <th>3317</th>\n",
       "      <td>2021-04-26</td>\n",
       "      <td>ADANIPORTS</td>\n",
       "      <td>EQ</td>\n",
       "    </tr>\n",
       "    <tr>\n",
       "      <th>3318</th>\n",
       "      <td>2021-04-27</td>\n",
       "      <td>ADANIPORTS</td>\n",
       "      <td>EQ</td>\n",
       "    </tr>\n",
       "    <tr>\n",
       "      <th>3319</th>\n",
       "      <td>2021-04-28</td>\n",
       "      <td>ADANIPORTS</td>\n",
       "      <td>EQ</td>\n",
       "    </tr>\n",
       "    <tr>\n",
       "      <th>3320</th>\n",
       "      <td>2021-04-29</td>\n",
       "      <td>ADANIPORTS</td>\n",
       "      <td>EQ</td>\n",
       "    </tr>\n",
       "    <tr>\n",
       "      <th>3321</th>\n",
       "      <td>2021-04-30</td>\n",
       "      <td>ADANIPORTS</td>\n",
       "      <td>EQ</td>\n",
       "    </tr>\n",
       "  </tbody>\n",
       "</table>\n",
       "<p>3322 rows × 3 columns</p>\n",
       "</div>"
      ],
      "text/plain": [
       "            Date      Symbol Series\n",
       "0     2007-11-27  MUNDRAPORT     EQ\n",
       "1     2007-11-28  MUNDRAPORT     EQ\n",
       "2     2007-11-29  MUNDRAPORT     EQ\n",
       "3     2007-11-30  MUNDRAPORT     EQ\n",
       "4     2007-12-03  MUNDRAPORT     EQ\n",
       "...          ...         ...    ...\n",
       "3317  2021-04-26  ADANIPORTS     EQ\n",
       "3318  2021-04-27  ADANIPORTS     EQ\n",
       "3319  2021-04-28  ADANIPORTS     EQ\n",
       "3320  2021-04-29  ADANIPORTS     EQ\n",
       "3321  2021-04-30  ADANIPORTS     EQ\n",
       "\n",
       "[3322 rows x 3 columns]"
      ]
     },
     "execution_count": 6,
     "metadata": {},
     "output_type": "execute_result"
    }
   ],
   "source": [
    "df[['Date','Symbol','Series']]"
   ]
  },
  {
   "cell_type": "code",
   "execution_count": 7,
   "id": "163e1845",
   "metadata": {},
   "outputs": [],
   "source": [
    "df=pd.read_csv('mycsv.csv')"
   ]
  },
  {
   "cell_type": "code",
   "execution_count": 8,
   "id": "894b12b8",
   "metadata": {},
   "outputs": [
    {
     "name": "stdout",
     "output_type": "stream",
     "text": [
      "    id   name  gender   salary\n",
      "0    1   aaaa    male    10000\n",
      "1    2   bbbb  female     8000\n",
      "2    3  ccccc    male   120000\n",
      "3    4   dddd    male    45000\n",
      "4    5   eeee  female   334567\n",
      "5    6   ffff  female    21234\n",
      "6    7   gggg  female     2345\n",
      "7    8   hhhh  female    23456\n",
      "8    9   iiii    male     7654\n",
      "9   10    jjj    male  3456578\n",
      "10  11   kkkk    male    45678\n",
      "11  12   llll    male      345\n",
      "12  13   mmmm  female     9876\n",
      "13  14  nnnnn    male    34567\n",
      "14  15   jjjj    male    87654\n",
      "15  16   iiii  female    34567\n",
      "16  17   mmmm  female     1234\n",
      "17  18  nnnnn  female    23456\n",
      "18  19   oooo  female     5555\n",
      "19  20   pppp    male     3455\n"
     ]
    }
   ],
   "source": [
    "print(df)"
   ]
  },
  {
   "cell_type": "code",
   "execution_count": 9,
   "id": "5050ec91",
   "metadata": {},
   "outputs": [
    {
     "data": {
      "text/html": [
       "<div>\n",
       "<style scoped>\n",
       "    .dataframe tbody tr th:only-of-type {\n",
       "        vertical-align: middle;\n",
       "    }\n",
       "\n",
       "    .dataframe tbody tr th {\n",
       "        vertical-align: top;\n",
       "    }\n",
       "\n",
       "    .dataframe thead th {\n",
       "        text-align: right;\n",
       "    }\n",
       "</style>\n",
       "<table border=\"1\" class=\"dataframe\">\n",
       "  <thead>\n",
       "    <tr style=\"text-align: right;\">\n",
       "      <th></th>\n",
       "      <th>id</th>\n",
       "      <th>name</th>\n",
       "      <th>gender</th>\n",
       "      <th>salary</th>\n",
       "    </tr>\n",
       "  </thead>\n",
       "  <tbody>\n",
       "    <tr>\n",
       "      <th>0</th>\n",
       "      <td>1</td>\n",
       "      <td>aaaa</td>\n",
       "      <td>male</td>\n",
       "      <td>10000</td>\n",
       "    </tr>\n",
       "    <tr>\n",
       "      <th>1</th>\n",
       "      <td>2</td>\n",
       "      <td>bbbb</td>\n",
       "      <td>female</td>\n",
       "      <td>8000</td>\n",
       "    </tr>\n",
       "    <tr>\n",
       "      <th>2</th>\n",
       "      <td>3</td>\n",
       "      <td>ccccc</td>\n",
       "      <td>male</td>\n",
       "      <td>120000</td>\n",
       "    </tr>\n",
       "    <tr>\n",
       "      <th>3</th>\n",
       "      <td>4</td>\n",
       "      <td>dddd</td>\n",
       "      <td>male</td>\n",
       "      <td>45000</td>\n",
       "    </tr>\n",
       "    <tr>\n",
       "      <th>4</th>\n",
       "      <td>5</td>\n",
       "      <td>eeee</td>\n",
       "      <td>female</td>\n",
       "      <td>334567</td>\n",
       "    </tr>\n",
       "    <tr>\n",
       "      <th>5</th>\n",
       "      <td>6</td>\n",
       "      <td>ffff</td>\n",
       "      <td>female</td>\n",
       "      <td>21234</td>\n",
       "    </tr>\n",
       "    <tr>\n",
       "      <th>6</th>\n",
       "      <td>7</td>\n",
       "      <td>gggg</td>\n",
       "      <td>female</td>\n",
       "      <td>2345</td>\n",
       "    </tr>\n",
       "    <tr>\n",
       "      <th>7</th>\n",
       "      <td>8</td>\n",
       "      <td>hhhh</td>\n",
       "      <td>female</td>\n",
       "      <td>23456</td>\n",
       "    </tr>\n",
       "    <tr>\n",
       "      <th>8</th>\n",
       "      <td>9</td>\n",
       "      <td>iiii</td>\n",
       "      <td>male</td>\n",
       "      <td>7654</td>\n",
       "    </tr>\n",
       "    <tr>\n",
       "      <th>9</th>\n",
       "      <td>10</td>\n",
       "      <td>jjj</td>\n",
       "      <td>male</td>\n",
       "      <td>3456578</td>\n",
       "    </tr>\n",
       "    <tr>\n",
       "      <th>10</th>\n",
       "      <td>11</td>\n",
       "      <td>kkkk</td>\n",
       "      <td>male</td>\n",
       "      <td>45678</td>\n",
       "    </tr>\n",
       "    <tr>\n",
       "      <th>11</th>\n",
       "      <td>12</td>\n",
       "      <td>llll</td>\n",
       "      <td>male</td>\n",
       "      <td>345</td>\n",
       "    </tr>\n",
       "    <tr>\n",
       "      <th>12</th>\n",
       "      <td>13</td>\n",
       "      <td>mmmm</td>\n",
       "      <td>female</td>\n",
       "      <td>9876</td>\n",
       "    </tr>\n",
       "    <tr>\n",
       "      <th>13</th>\n",
       "      <td>14</td>\n",
       "      <td>nnnnn</td>\n",
       "      <td>male</td>\n",
       "      <td>34567</td>\n",
       "    </tr>\n",
       "    <tr>\n",
       "      <th>14</th>\n",
       "      <td>15</td>\n",
       "      <td>jjjj</td>\n",
       "      <td>male</td>\n",
       "      <td>87654</td>\n",
       "    </tr>\n",
       "    <tr>\n",
       "      <th>15</th>\n",
       "      <td>16</td>\n",
       "      <td>iiii</td>\n",
       "      <td>female</td>\n",
       "      <td>34567</td>\n",
       "    </tr>\n",
       "    <tr>\n",
       "      <th>16</th>\n",
       "      <td>17</td>\n",
       "      <td>mmmm</td>\n",
       "      <td>female</td>\n",
       "      <td>1234</td>\n",
       "    </tr>\n",
       "    <tr>\n",
       "      <th>17</th>\n",
       "      <td>18</td>\n",
       "      <td>nnnnn</td>\n",
       "      <td>female</td>\n",
       "      <td>23456</td>\n",
       "    </tr>\n",
       "    <tr>\n",
       "      <th>18</th>\n",
       "      <td>19</td>\n",
       "      <td>oooo</td>\n",
       "      <td>female</td>\n",
       "      <td>5555</td>\n",
       "    </tr>\n",
       "    <tr>\n",
       "      <th>19</th>\n",
       "      <td>20</td>\n",
       "      <td>pppp</td>\n",
       "      <td>male</td>\n",
       "      <td>3455</td>\n",
       "    </tr>\n",
       "  </tbody>\n",
       "</table>\n",
       "</div>"
      ],
      "text/plain": [
       "    id   name  gender   salary\n",
       "0    1   aaaa    male    10000\n",
       "1    2   bbbb  female     8000\n",
       "2    3  ccccc    male   120000\n",
       "3    4   dddd    male    45000\n",
       "4    5   eeee  female   334567\n",
       "5    6   ffff  female    21234\n",
       "6    7   gggg  female     2345\n",
       "7    8   hhhh  female    23456\n",
       "8    9   iiii    male     7654\n",
       "9   10    jjj    male  3456578\n",
       "10  11   kkkk    male    45678\n",
       "11  12   llll    male      345\n",
       "12  13   mmmm  female     9876\n",
       "13  14  nnnnn    male    34567\n",
       "14  15   jjjj    male    87654\n",
       "15  16   iiii  female    34567\n",
       "16  17   mmmm  female     1234\n",
       "17  18  nnnnn  female    23456\n",
       "18  19   oooo  female     5555\n",
       "19  20   pppp    male     3455"
      ]
     },
     "execution_count": 9,
     "metadata": {},
     "output_type": "execute_result"
    }
   ],
   "source": [
    "df[['id','name','gender','salary']]"
   ]
  },
  {
   "cell_type": "code",
   "execution_count": 10,
   "id": "b6f78028",
   "metadata": {},
   "outputs": [],
   "source": [
    "df['tax']=df.salary*0.10"
   ]
  },
  {
   "cell_type": "code",
   "execution_count": 11,
   "id": "b2007b98",
   "metadata": {},
   "outputs": [
    {
     "name": "stdout",
     "output_type": "stream",
     "text": [
      "    id   name  gender   salary       tax\n",
      "0    1   aaaa    male    10000    1000.0\n",
      "1    2   bbbb  female     8000     800.0\n",
      "2    3  ccccc    male   120000   12000.0\n",
      "3    4   dddd    male    45000    4500.0\n",
      "4    5   eeee  female   334567   33456.7\n",
      "5    6   ffff  female    21234    2123.4\n",
      "6    7   gggg  female     2345     234.5\n",
      "7    8   hhhh  female    23456    2345.6\n",
      "8    9   iiii    male     7654     765.4\n",
      "9   10    jjj    male  3456578  345657.8\n",
      "10  11   kkkk    male    45678    4567.8\n",
      "11  12   llll    male      345      34.5\n",
      "12  13   mmmm  female     9876     987.6\n",
      "13  14  nnnnn    male    34567    3456.7\n",
      "14  15   jjjj    male    87654    8765.4\n",
      "15  16   iiii  female    34567    3456.7\n",
      "16  17   mmmm  female     1234     123.4\n",
      "17  18  nnnnn  female    23456    2345.6\n",
      "18  19   oooo  female     5555     555.5\n",
      "19  20   pppp    male     3455     345.5\n"
     ]
    }
   ],
   "source": [
    "print(df)"
   ]
  },
  {
   "cell_type": "code",
   "execution_count": 13,
   "id": "3e183523",
   "metadata": {},
   "outputs": [
    {
     "name": "stdout",
     "output_type": "stream",
     "text": [
      "id             1\n",
      "name        aaaa\n",
      "gender      male\n",
      "salary     10000\n",
      "tax       1000.0\n",
      "Name: 0, dtype: object\n",
      "id             2\n",
      "name        bbbb\n",
      "gender    female\n",
      "salary      8000\n",
      "tax        800.0\n",
      "Name: 1, dtype: object\n",
      "id              3\n",
      "name        ccccc\n",
      "gender       male\n",
      "salary     120000\n",
      "tax       12000.0\n",
      "Name: 2, dtype: object\n",
      "id             4\n",
      "name        dddd\n",
      "gender      male\n",
      "salary     45000\n",
      "tax       4500.0\n",
      "Name: 3, dtype: object\n",
      "id              5\n",
      "name         eeee\n",
      "gender     female\n",
      "salary     334567\n",
      "tax       33456.7\n",
      "Name: 4, dtype: object\n",
      "id             6\n",
      "name        ffff\n",
      "gender    female\n",
      "salary     21234\n",
      "tax       2123.4\n",
      "Name: 5, dtype: object\n",
      "id             7\n",
      "name        gggg\n",
      "gender    female\n",
      "salary      2345\n",
      "tax        234.5\n",
      "Name: 6, dtype: object\n",
      "id             8\n",
      "name        hhhh\n",
      "gender    female\n",
      "salary     23456\n",
      "tax       2345.6\n",
      "Name: 7, dtype: object\n",
      "id            9\n",
      "name       iiii\n",
      "gender     male\n",
      "salary     7654\n",
      "tax       765.4\n",
      "Name: 8, dtype: object\n",
      "id              10\n",
      "name           jjj\n",
      "gender        male\n",
      "salary     3456578\n",
      "tax       345657.8\n",
      "Name: 9, dtype: object\n",
      "id            11\n",
      "name        kkkk\n",
      "gender      male\n",
      "salary     45678\n",
      "tax       4567.8\n",
      "Name: 10, dtype: object\n",
      "id          12\n",
      "name      llll\n",
      "gender    male\n",
      "salary     345\n",
      "tax       34.5\n",
      "Name: 11, dtype: object\n",
      "id            13\n",
      "name        mmmm\n",
      "gender    female\n",
      "salary      9876\n",
      "tax        987.6\n",
      "Name: 12, dtype: object\n",
      "id            14\n",
      "name       nnnnn\n",
      "gender      male\n",
      "salary     34567\n",
      "tax       3456.7\n",
      "Name: 13, dtype: object\n",
      "id            15\n",
      "name        jjjj\n",
      "gender      male\n",
      "salary     87654\n",
      "tax       8765.4\n",
      "Name: 14, dtype: object\n",
      "id            16\n",
      "name        iiii\n",
      "gender    female\n",
      "salary     34567\n",
      "tax       3456.7\n",
      "Name: 15, dtype: object\n",
      "id            17\n",
      "name        mmmm\n",
      "gender    female\n",
      "salary      1234\n",
      "tax        123.4\n",
      "Name: 16, dtype: object\n",
      "id            18\n",
      "name       nnnnn\n",
      "gender    female\n",
      "salary     23456\n",
      "tax       2345.6\n",
      "Name: 17, dtype: object\n",
      "id            19\n",
      "name        oooo\n",
      "gender    female\n",
      "salary      5555\n",
      "tax        555.5\n",
      "Name: 18, dtype: object\n",
      "id           20\n",
      "name       pppp\n",
      "gender     male\n",
      "salary     3455\n",
      "tax       345.5\n",
      "Name: 19, dtype: object\n"
     ]
    }
   ],
   "source": [
    "for i in range(len(df)):\n",
    "    print(df.iloc[i])"
   ]
  },
  {
   "cell_type": "code",
   "execution_count": 18,
   "id": "de63f4d3",
   "metadata": {},
   "outputs": [
    {
     "name": "stdout",
     "output_type": "stream",
     "text": [
      "id             1\n",
      "name        aaaa\n",
      "gender      male\n",
      "salary     10000\n",
      "tax       1000.0\n",
      "Name: 0, dtype: object\n",
      "id             2\n",
      "name        bbbb\n",
      "gender    female\n",
      "salary      8000\n",
      "tax        800.0\n",
      "Name: 1, dtype: object\n",
      "id              3\n",
      "name        ccccc\n",
      "gender       male\n",
      "salary     120000\n",
      "tax       12000.0\n",
      "Name: 2, dtype: object\n",
      "id             4\n",
      "name        dddd\n",
      "gender      male\n",
      "salary     45000\n",
      "tax       4500.0\n",
      "Name: 3, dtype: object\n",
      "id              5\n",
      "name         eeee\n",
      "gender     female\n",
      "salary     334567\n",
      "tax       33456.7\n",
      "Name: 4, dtype: object\n",
      "id             6\n",
      "name        ffff\n",
      "gender    female\n",
      "salary     21234\n",
      "tax       2123.4\n",
      "Name: 5, dtype: object\n",
      "id             7\n",
      "name        gggg\n",
      "gender    female\n",
      "salary      2345\n",
      "tax        234.5\n",
      "Name: 6, dtype: object\n",
      "id             8\n",
      "name        hhhh\n",
      "gender    female\n",
      "salary     23456\n",
      "tax       2345.6\n",
      "Name: 7, dtype: object\n",
      "id            9\n",
      "name       iiii\n",
      "gender     male\n",
      "salary     7654\n",
      "tax       765.4\n",
      "Name: 8, dtype: object\n",
      "id              10\n",
      "name           jjj\n",
      "gender        male\n",
      "salary     3456578\n",
      "tax       345657.8\n",
      "Name: 9, dtype: object\n",
      "id            11\n",
      "name        kkkk\n",
      "gender      male\n",
      "salary     45678\n",
      "tax       4567.8\n",
      "Name: 10, dtype: object\n",
      "id          12\n",
      "name      llll\n",
      "gender    male\n",
      "salary     345\n",
      "tax       34.5\n",
      "Name: 11, dtype: object\n",
      "id            13\n",
      "name        mmmm\n",
      "gender    female\n",
      "salary      9876\n",
      "tax        987.6\n",
      "Name: 12, dtype: object\n",
      "id            14\n",
      "name       nnnnn\n",
      "gender      male\n",
      "salary     34567\n",
      "tax       3456.7\n",
      "Name: 13, dtype: object\n",
      "id            15\n",
      "name        jjjj\n",
      "gender      male\n",
      "salary     87654\n",
      "tax       8765.4\n",
      "Name: 14, dtype: object\n",
      "id            16\n",
      "name        iiii\n",
      "gender    female\n",
      "salary     34567\n",
      "tax       3456.7\n",
      "Name: 15, dtype: object\n",
      "id            17\n",
      "name        mmmm\n",
      "gender    female\n",
      "salary      1234\n",
      "tax        123.4\n",
      "Name: 16, dtype: object\n",
      "id            18\n",
      "name       nnnnn\n",
      "gender    female\n",
      "salary     23456\n",
      "tax       2345.6\n",
      "Name: 17, dtype: object\n",
      "id            19\n",
      "name        oooo\n",
      "gender    female\n",
      "salary      5555\n",
      "tax        555.5\n",
      "Name: 18, dtype: object\n",
      "id           20\n",
      "name       pppp\n",
      "gender     male\n",
      "salary     3455\n",
      "tax       345.5\n",
      "Name: 19, dtype: object\n"
     ]
    }
   ],
   "source": [
    "for i in range(len(df)):\n",
    "    print(df.iloc[i])"
   ]
  },
  {
   "cell_type": "code",
   "execution_count": 19,
   "id": "08d9e4e2",
   "metadata": {},
   "outputs": [
    {
     "data": {
      "text/html": [
       "<div>\n",
       "<style scoped>\n",
       "    .dataframe tbody tr th:only-of-type {\n",
       "        vertical-align: middle;\n",
       "    }\n",
       "\n",
       "    .dataframe tbody tr th {\n",
       "        vertical-align: top;\n",
       "    }\n",
       "\n",
       "    .dataframe thead th {\n",
       "        text-align: right;\n",
       "    }\n",
       "</style>\n",
       "<table border=\"1\" class=\"dataframe\">\n",
       "  <thead>\n",
       "    <tr style=\"text-align: right;\">\n",
       "      <th></th>\n",
       "      <th>id</th>\n",
       "      <th>name</th>\n",
       "      <th>gender</th>\n",
       "      <th>salary</th>\n",
       "      <th>tax</th>\n",
       "    </tr>\n",
       "  </thead>\n",
       "  <tbody>\n",
       "    <tr>\n",
       "      <th>2</th>\n",
       "      <td>3</td>\n",
       "      <td>ccccc</td>\n",
       "      <td>male</td>\n",
       "      <td>120000</td>\n",
       "      <td>12000.0</td>\n",
       "    </tr>\n",
       "    <tr>\n",
       "      <th>3</th>\n",
       "      <td>4</td>\n",
       "      <td>dddd</td>\n",
       "      <td>male</td>\n",
       "      <td>45000</td>\n",
       "      <td>4500.0</td>\n",
       "    </tr>\n",
       "    <tr>\n",
       "      <th>4</th>\n",
       "      <td>5</td>\n",
       "      <td>eeee</td>\n",
       "      <td>female</td>\n",
       "      <td>334567</td>\n",
       "      <td>33456.7</td>\n",
       "    </tr>\n",
       "    <tr>\n",
       "      <th>5</th>\n",
       "      <td>6</td>\n",
       "      <td>ffff</td>\n",
       "      <td>female</td>\n",
       "      <td>21234</td>\n",
       "      <td>2123.4</td>\n",
       "    </tr>\n",
       "    <tr>\n",
       "      <th>6</th>\n",
       "      <td>7</td>\n",
       "      <td>gggg</td>\n",
       "      <td>female</td>\n",
       "      <td>2345</td>\n",
       "      <td>234.5</td>\n",
       "    </tr>\n",
       "  </tbody>\n",
       "</table>\n",
       "</div>"
      ],
      "text/plain": [
       "   id   name  gender  salary      tax\n",
       "2   3  ccccc    male  120000  12000.0\n",
       "3   4   dddd    male   45000   4500.0\n",
       "4   5   eeee  female  334567  33456.7\n",
       "5   6   ffff  female   21234   2123.4\n",
       "6   7   gggg  female    2345    234.5"
      ]
     },
     "execution_count": 19,
     "metadata": {},
     "output_type": "execute_result"
    }
   ],
   "source": [
    "df.loc[2:6]"
   ]
  },
  {
   "cell_type": "code",
   "execution_count": 20,
   "id": "28df8114",
   "metadata": {},
   "outputs": [
    {
     "data": {
      "text/plain": [
       "0      True\n",
       "1     False\n",
       "2      True\n",
       "3      True\n",
       "4     False\n",
       "5     False\n",
       "6     False\n",
       "7     False\n",
       "8      True\n",
       "9      True\n",
       "10     True\n",
       "11     True\n",
       "12    False\n",
       "13     True\n",
       "14     True\n",
       "15    False\n",
       "16    False\n",
       "17    False\n",
       "18    False\n",
       "19     True\n",
       "Name: gender, dtype: bool"
      ]
     },
     "execution_count": 20,
     "metadata": {},
     "output_type": "execute_result"
    }
   ],
   "source": [
    "df['gender']=='male'"
   ]
  },
  {
   "cell_type": "code",
   "execution_count": 22,
   "id": "a2d3c432",
   "metadata": {},
   "outputs": [
    {
     "data": {
      "text/plain": [
       "3456578"
      ]
     },
     "execution_count": 22,
     "metadata": {},
     "output_type": "execute_result"
    }
   ],
   "source": [
    "max(df.salary)"
   ]
  },
  {
   "cell_type": "code",
   "execution_count": 23,
   "id": "0006096c",
   "metadata": {},
   "outputs": [
    {
     "data": {
      "text/plain": [
       "4275221"
      ]
     },
     "execution_count": 23,
     "metadata": {},
     "output_type": "execute_result"
    }
   ],
   "source": [
    "sum(df.salary)"
   ]
  },
  {
   "cell_type": "code",
   "execution_count": 24,
   "id": "1cd1ca6d",
   "metadata": {},
   "outputs": [
    {
     "ename": "AttributeError",
     "evalue": "'DataFrame' object has no attribute 'counnt'",
     "output_type": "error",
     "traceback": [
      "\u001b[1;31m---------------------------------------------------------------------------\u001b[0m",
      "\u001b[1;31mAttributeError\u001b[0m                            Traceback (most recent call last)",
      "Cell \u001b[1;32mIn[24], line 1\u001b[0m\n\u001b[1;32m----> 1\u001b[0m \u001b[43mdf\u001b[49m\u001b[38;5;241;43m.\u001b[39;49m\u001b[43mcounnt\u001b[49m()\n",
      "File \u001b[1;32m~\\AppData\\Local\\Programs\\Python\\Python311\\Lib\\site-packages\\pandas\\core\\generic.py:5989\u001b[0m, in \u001b[0;36mNDFrame.__getattr__\u001b[1;34m(self, name)\u001b[0m\n\u001b[0;32m   5982\u001b[0m \u001b[38;5;28;01mif\u001b[39;00m (\n\u001b[0;32m   5983\u001b[0m     name \u001b[38;5;129;01mnot\u001b[39;00m \u001b[38;5;129;01min\u001b[39;00m \u001b[38;5;28mself\u001b[39m\u001b[38;5;241m.\u001b[39m_internal_names_set\n\u001b[0;32m   5984\u001b[0m     \u001b[38;5;129;01mand\u001b[39;00m name \u001b[38;5;129;01mnot\u001b[39;00m \u001b[38;5;129;01min\u001b[39;00m \u001b[38;5;28mself\u001b[39m\u001b[38;5;241m.\u001b[39m_metadata\n\u001b[0;32m   5985\u001b[0m     \u001b[38;5;129;01mand\u001b[39;00m name \u001b[38;5;129;01mnot\u001b[39;00m \u001b[38;5;129;01min\u001b[39;00m \u001b[38;5;28mself\u001b[39m\u001b[38;5;241m.\u001b[39m_accessors\n\u001b[0;32m   5986\u001b[0m     \u001b[38;5;129;01mand\u001b[39;00m \u001b[38;5;28mself\u001b[39m\u001b[38;5;241m.\u001b[39m_info_axis\u001b[38;5;241m.\u001b[39m_can_hold_identifiers_and_holds_name(name)\n\u001b[0;32m   5987\u001b[0m ):\n\u001b[0;32m   5988\u001b[0m     \u001b[38;5;28;01mreturn\u001b[39;00m \u001b[38;5;28mself\u001b[39m[name]\n\u001b[1;32m-> 5989\u001b[0m \u001b[38;5;28;01mreturn\u001b[39;00m \u001b[38;5;28;43mobject\u001b[39;49m\u001b[38;5;241;43m.\u001b[39;49m\u001b[38;5;21;43m__getattribute__\u001b[39;49m\u001b[43m(\u001b[49m\u001b[38;5;28;43mself\u001b[39;49m\u001b[43m,\u001b[49m\u001b[43m \u001b[49m\u001b[43mname\u001b[49m\u001b[43m)\u001b[49m\n",
      "\u001b[1;31mAttributeError\u001b[0m: 'DataFrame' object has no attribute 'counnt'"
     ]
    }
   ],
   "source": [
    "df.counnt()"
   ]
  },
  {
   "cell_type": "code",
   "execution_count": 1,
   "id": "f5403fd3",
   "metadata": {},
   "outputs": [],
   "source": [
    "import pandas as pd"
   ]
  },
  {
   "cell_type": "code",
   "execution_count": 2,
   "id": "92b1fe60",
   "metadata": {},
   "outputs": [],
   "source": [
    "s=pd.Series([1,2,3,4,5])"
   ]
  },
  {
   "cell_type": "code",
   "execution_count": 3,
   "id": "15d96f92",
   "metadata": {},
   "outputs": [
    {
     "data": {
      "text/plain": [
       "0    0\n",
       "1    1\n",
       "2    2\n",
       "3    3\n",
       "4    4\n",
       "dtype: int64"
      ]
     },
     "execution_count": 3,
     "metadata": {},
     "output_type": "execute_result"
    }
   ],
   "source": [
    "s-1"
   ]
  },
  {
   "cell_type": "code",
   "execution_count": 4,
   "id": "d76699d6",
   "metadata": {},
   "outputs": [
    {
     "data": {
      "text/plain": [
       "0     2\n",
       "1     4\n",
       "2     6\n",
       "3     8\n",
       "4    10\n",
       "dtype: int64"
      ]
     },
     "execution_count": 4,
     "metadata": {},
     "output_type": "execute_result"
    }
   ],
   "source": [
    "s*2"
   ]
  },
  {
   "cell_type": "code",
   "execution_count": null,
   "id": "e70265de",
   "metadata": {},
   "outputs": [],
   "source": []
  }
 ],
 "metadata": {
  "kernelspec": {
   "display_name": "Python 3 (ipykernel)",
   "language": "python",
   "name": "python3"
  },
  "language_info": {
   "codemirror_mode": {
    "name": "ipython",
    "version": 3
   },
   "file_extension": ".py",
   "mimetype": "text/x-python",
   "name": "python",
   "nbconvert_exporter": "python",
   "pygments_lexer": "ipython3",
   "version": "3.11.2"
  }
 },
 "nbformat": 4,
 "nbformat_minor": 5
}
