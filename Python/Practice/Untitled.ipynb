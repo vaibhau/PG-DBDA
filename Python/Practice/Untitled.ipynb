{
 "cells": [
  {
   "cell_type": "markdown",
   "id": "6d69c658",
   "metadata": {},
   "source": [
    "1. capitalize() - Converts the first character to upper case"
   ]
  },
  {
   "cell_type": "code",
   "execution_count": 86,
   "id": "d16e1ca8",
   "metadata": {},
   "outputs": [
    {
     "data": {
      "text/plain": [
       "'This is sample string'"
      ]
     },
     "execution_count": 86,
     "metadata": {},
     "output_type": "execute_result"
    }
   ],
   "source": [
    "s1 = 'this is sample string'\n",
    "s1.capitalize()"
   ]
  },
  {
   "cell_type": "markdown",
   "id": "50dd69be",
   "metadata": {},
   "source": [
    "2. upper()\tConverts a string into upper case"
   ]
  },
  {
   "cell_type": "code",
   "execution_count": 87,
   "id": "277ad3e7",
   "metadata": {
    "scrolled": true
   },
   "outputs": [
    {
     "data": {
      "text/plain": [
       "'THIS IS SAMPLE STRING'"
      ]
     },
     "execution_count": 87,
     "metadata": {},
     "output_type": "execute_result"
    }
   ],
   "source": [
    "s1.upper()"
   ]
  },
  {
   "cell_type": "markdown",
   "id": "c1d5fe79",
   "metadata": {},
   "source": [
    "3. lower() Converts a string into lower case"
   ]
  },
  {
   "cell_type": "code",
   "execution_count": 88,
   "id": "6d7c58ec",
   "metadata": {},
   "outputs": [
    {
     "data": {
      "text/plain": [
       "'string in upper case'"
      ]
     },
     "execution_count": 88,
     "metadata": {},
     "output_type": "execute_result"
    }
   ],
   "source": [
    "s2 = 'STRING IN UPPER CASE'\n",
    "s2.lower()"
   ]
  },
  {
   "cell_type": "markdown",
   "id": "3c3089f5",
   "metadata": {},
   "source": [
    "4. casefold() Converts string into lower case"
   ]
  },
  {
   "cell_type": "code",
   "execution_count": 89,
   "id": "4a4e53e5",
   "metadata": {},
   "outputs": [
    {
     "data": {
      "text/plain": [
       "'string in upper case'"
      ]
     },
     "execution_count": 89,
     "metadata": {},
     "output_type": "execute_result"
    }
   ],
   "source": [
    "s2.casefold()"
   ]
  },
  {
   "cell_type": "markdown",
   "id": "ddacedf6",
   "metadata": {},
   "source": [
    "5. count()\tReturns the number of times a specified value occurs in a string"
   ]
  },
  {
   "cell_type": "code",
   "execution_count": 91,
   "id": "e0b3fc93",
   "metadata": {},
   "outputs": [
    {
     "data": {
      "text/plain": [
       "3"
      ]
     },
     "execution_count": 91,
     "metadata": {},
     "output_type": "execute_result"
    }
   ],
   "source": [
    "s1.count(\"i\")"
   ]
  },
  {
   "cell_type": "markdown",
   "id": "51490369",
   "metadata": {},
   "source": [
    "6. endswith() Returns true if the string ends with the specified value"
   ]
  },
  {
   "cell_type": "code",
   "execution_count": 92,
   "id": "ed68f069",
   "metadata": {},
   "outputs": [
    {
     "data": {
      "text/plain": [
       "False"
      ]
     },
     "execution_count": 92,
     "metadata": {},
     "output_type": "execute_result"
    }
   ],
   "source": [
    "s1.endswith('t')"
   ]
  },
  {
   "cell_type": "markdown",
   "id": "d39fbcfd",
   "metadata": {},
   "source": [
    "7. find() Searches the string for a specified value and returns the position of where it was found"
   ]
  },
  {
   "cell_type": "code",
   "execution_count": 94,
   "id": "488f3c27",
   "metadata": {},
   "outputs": [
    {
     "data": {
      "text/plain": [
       "20"
      ]
     },
     "execution_count": 94,
     "metadata": {},
     "output_type": "execute_result"
    }
   ],
   "source": [
    "s1.find('g')"
   ]
  },
  {
   "cell_type": "markdown",
   "id": "f3fd0b4c",
   "metadata": {},
   "source": [
    "8. index()\tSearches the string for a specified value and returns the position of where it was found"
   ]
  },
  {
   "cell_type": "code",
   "execution_count": 95,
   "id": "5d803cda",
   "metadata": {},
   "outputs": [
    {
     "data": {
      "text/plain": [
       "1"
      ]
     },
     "execution_count": 95,
     "metadata": {},
     "output_type": "execute_result"
    }
   ],
   "source": [
    "s1.index(\"h\")"
   ]
  },
  {
   "cell_type": "markdown",
   "id": "82c1ebf6",
   "metadata": {},
   "source": [
    "9. title()\tConverts the first character of each word to upper case"
   ]
  },
  {
   "cell_type": "code",
   "execution_count": 96,
   "id": "054bcced",
   "metadata": {},
   "outputs": [
    {
     "data": {
      "text/plain": [
       "'This Is Sample String'"
      ]
     },
     "execution_count": 96,
     "metadata": {},
     "output_type": "execute_result"
    }
   ],
   "source": [
    "s1.title()"
   ]
  },
  {
   "cell_type": "markdown",
   "id": "9cd07f5c",
   "metadata": {},
   "source": [
    "10. isalnum()\tReturns True if all characters in the string are alphanumeric"
   ]
  },
  {
   "cell_type": "code",
   "execution_count": 97,
   "id": "df22ea23",
   "metadata": {},
   "outputs": [
    {
     "data": {
      "text/plain": [
       "False"
      ]
     },
     "execution_count": 97,
     "metadata": {},
     "output_type": "execute_result"
    }
   ],
   "source": [
    "s1.isalnum()"
   ]
  },
  {
   "cell_type": "markdown",
   "id": "77fab934",
   "metadata": {},
   "source": [
    "11. isalpha()\tReturns True if all characters in the string are in the alphabet"
   ]
  },
  {
   "cell_type": "code",
   "execution_count": 102,
   "id": "d7f72da0",
   "metadata": {},
   "outputs": [
    {
     "data": {
      "text/plain": [
       "False"
      ]
     },
     "execution_count": 102,
     "metadata": {},
     "output_type": "execute_result"
    }
   ],
   "source": [
    "s1.isalpha()"
   ]
  },
  {
   "cell_type": "code",
   "execution_count": 103,
   "id": "0e579655",
   "metadata": {},
   "outputs": [
    {
     "data": {
      "text/plain": [
       "True"
      ]
     },
     "execution_count": 103,
     "metadata": {},
     "output_type": "execute_result"
    }
   ],
   "source": [
    "s3=\"cdac\"\n",
    "s3.isalpha()"
   ]
  },
  {
   "cell_type": "markdown",
   "id": "535b4916",
   "metadata": {},
   "source": [
    "12. isascii()\tReturns True if all characters in the string are ascii characters"
   ]
  },
  {
   "cell_type": "code",
   "execution_count": 104,
   "id": "f3a1379d",
   "metadata": {},
   "outputs": [
    {
     "data": {
      "text/plain": [
       "True"
      ]
     },
     "execution_count": 104,
     "metadata": {},
     "output_type": "execute_result"
    }
   ],
   "source": [
    "s1.isascii()"
   ]
  },
  {
   "cell_type": "markdown",
   "id": "b425ab95",
   "metadata": {},
   "source": [
    "13. isdecimal()\tReturns True if all characters in the string are decimals"
   ]
  },
  {
   "cell_type": "code",
   "execution_count": 105,
   "id": "30f9e116",
   "metadata": {},
   "outputs": [
    {
     "data": {
      "text/plain": [
       "False"
      ]
     },
     "execution_count": 105,
     "metadata": {},
     "output_type": "execute_result"
    }
   ],
   "source": [
    "s1.isdecimal()"
   ]
  },
  {
   "cell_type": "code",
   "execution_count": 106,
   "id": "b6a949ca",
   "metadata": {},
   "outputs": [
    {
     "data": {
      "text/plain": [
       "True"
      ]
     },
     "execution_count": 106,
     "metadata": {},
     "output_type": "execute_result"
    }
   ],
   "source": [
    "s4='12322'\n",
    "s4.isdecimal()"
   ]
  },
  {
   "cell_type": "markdown",
   "id": "25030e88",
   "metadata": {},
   "source": [
    "14. isdigit()\tReturns True if all characters in the string are digits"
   ]
  },
  {
   "cell_type": "code",
   "execution_count": 108,
   "id": "f8f9db06",
   "metadata": {},
   "outputs": [
    {
     "data": {
      "text/plain": [
       "True"
      ]
     },
     "execution_count": 108,
     "metadata": {},
     "output_type": "execute_result"
    }
   ],
   "source": [
    "s1.isdigit()\n",
    "s4.isdigit()"
   ]
  },
  {
   "cell_type": "markdown",
   "id": "19a11931",
   "metadata": {},
   "source": [
    "15. isidentifier()\tReturns True if the string is an identifier"
   ]
  },
  {
   "cell_type": "code",
   "execution_count": 110,
   "id": "d0cd9438",
   "metadata": {},
   "outputs": [
    {
     "data": {
      "text/plain": [
       "False"
      ]
     },
     "execution_count": 110,
     "metadata": {},
     "output_type": "execute_result"
    }
   ],
   "source": [
    "s1.isidentifier()"
   ]
  },
  {
   "cell_type": "markdown",
   "id": "7b403a50",
   "metadata": {},
   "source": [
    "16. isupper()\tReturns True if all characters in the string are upper case"
   ]
  },
  {
   "cell_type": "code",
   "execution_count": 112,
   "id": "df268906",
   "metadata": {},
   "outputs": [
    {
     "data": {
      "text/plain": [
       "True"
      ]
     },
     "execution_count": 112,
     "metadata": {},
     "output_type": "execute_result"
    }
   ],
   "source": [
    "s2.isupper()"
   ]
  },
  {
   "cell_type": "markdown",
   "id": "ef885a40",
   "metadata": {},
   "source": [
    "17. islower()\tReturns True if all characters in the string are lower case"
   ]
  },
  {
   "cell_type": "code",
   "execution_count": 113,
   "id": "90ad9f2b",
   "metadata": {},
   "outputs": [
    {
     "data": {
      "text/plain": [
       "True"
      ]
     },
     "execution_count": 113,
     "metadata": {},
     "output_type": "execute_result"
    }
   ],
   "source": [
    "s1.islower()"
   ]
  },
  {
   "cell_type": "markdown",
   "id": "82ef324a",
   "metadata": {},
   "source": [
    "18. isnumeric()\tReturns True if all characters in the string are numeric"
   ]
  },
  {
   "cell_type": "code",
   "execution_count": 116,
   "id": "c92abcf9",
   "metadata": {},
   "outputs": [
    {
     "data": {
      "text/plain": [
       "True"
      ]
     },
     "execution_count": 116,
     "metadata": {},
     "output_type": "execute_result"
    }
   ],
   "source": [
    "s4.isnumeric()"
   ]
  },
  {
   "cell_type": "markdown",
   "id": "4f85e61c",
   "metadata": {},
   "source": [
    "19. isspace()\tReturns True if all characters in the string are whitespaces"
   ]
  },
  {
   "cell_type": "code",
   "execution_count": 117,
   "id": "9f8f57f6",
   "metadata": {},
   "outputs": [
    {
     "data": {
      "text/plain": [
       "True"
      ]
     },
     "execution_count": 117,
     "metadata": {},
     "output_type": "execute_result"
    }
   ],
   "source": [
    "s5='                   '\n",
    "s5.isspace()"
   ]
  },
  {
   "cell_type": "markdown",
   "id": "a979cf5a",
   "metadata": {},
   "source": [
    "20. istitle()\tReturns True if the string follows the rules of a title"
   ]
  },
  {
   "cell_type": "code",
   "execution_count": 119,
   "id": "4dfe8eba",
   "metadata": {},
   "outputs": [
    {
     "data": {
      "text/plain": [
       "True"
      ]
     },
     "execution_count": 119,
     "metadata": {},
     "output_type": "execute_result"
    }
   ],
   "source": [
    "s1.istitle()\n",
    "s7 = 'We Are Following Title Rules'\n",
    "s7.istitle()"
   ]
  },
  {
   "cell_type": "markdown",
   "id": "822c236d",
   "metadata": {},
   "source": [
    "21. lstrip()\tReturns a left trim version of the string"
   ]
  },
  {
   "cell_type": "code",
   "execution_count": 120,
   "id": "829045b9",
   "metadata": {},
   "outputs": [
    {
     "data": {
      "text/plain": [
       "'this is             new string                   '"
      ]
     },
     "execution_count": 120,
     "metadata": {},
     "output_type": "execute_result"
    }
   ],
   "source": [
    "s8= '                        this is             new string                   '\n",
    "s8.lstrip()"
   ]
  },
  {
   "cell_type": "markdown",
   "id": "c2e6eacf",
   "metadata": {},
   "source": [
    "22. replace()\tReturns a string where a specified value is replaced with a specified value"
   ]
  },
  {
   "cell_type": "code",
   "execution_count": 122,
   "id": "6bac1466",
   "metadata": {},
   "outputs": [
    {
     "data": {
      "text/plain": [
       "'jhis is sample sjring'"
      ]
     },
     "execution_count": 122,
     "metadata": {},
     "output_type": "execute_result"
    }
   ],
   "source": [
    "s1.replace('t','j')"
   ]
  },
  {
   "cell_type": "markdown",
   "id": "10030b4f",
   "metadata": {},
   "source": [
    "23. rfind()\tSearches the string for a specified value and returns the last position of where it was found"
   ]
  },
  {
   "cell_type": "code",
   "execution_count": 123,
   "id": "26aaddb2",
   "metadata": {},
   "outputs": [
    {
     "data": {
      "text/plain": [
       "16"
      ]
     },
     "execution_count": 123,
     "metadata": {},
     "output_type": "execute_result"
    }
   ],
   "source": [
    "s1.rfind('t')"
   ]
  },
  {
   "cell_type": "markdown",
   "id": "12c19c78",
   "metadata": {},
   "source": [
    "24. rindex()\tSearches the string for a specified value and returns the last position of where it was found"
   ]
  },
  {
   "cell_type": "code",
   "execution_count": 126,
   "id": "589a1d85",
   "metadata": {},
   "outputs": [
    {
     "data": {
      "text/plain": [
       "16"
      ]
     },
     "execution_count": 126,
     "metadata": {},
     "output_type": "execute_result"
    }
   ],
   "source": [
    "s1.rindex('t')"
   ]
  },
  {
   "cell_type": "markdown",
   "id": "d28d3b0b",
   "metadata": {},
   "source": [
    "26. rstrip()\tReturns a right trim version of the string"
   ]
  },
  {
   "cell_type": "code",
   "execution_count": 127,
   "id": "7d6f538c",
   "metadata": {},
   "outputs": [
    {
     "data": {
      "text/plain": [
       "'                        this is             new string'"
      ]
     },
     "execution_count": 127,
     "metadata": {},
     "output_type": "execute_result"
    }
   ],
   "source": [
    "s8.rstrip()"
   ]
  },
  {
   "cell_type": "markdown",
   "id": "11de91eb",
   "metadata": {},
   "source": [
    "27. split()\tSplits the string at the specified separator, and returns a list"
   ]
  },
  {
   "cell_type": "code",
   "execution_count": 128,
   "id": "24d3df55",
   "metadata": {},
   "outputs": [
    {
     "data": {
      "text/plain": [
       "['this', 'is', 'sample', 'string']"
      ]
     },
     "execution_count": 128,
     "metadata": {},
     "output_type": "execute_result"
    }
   ],
   "source": [
    "s1.split()"
   ]
  },
  {
   "cell_type": "markdown",
   "id": "1ac70b32",
   "metadata": {},
   "source": [
    "28. strip()\tReturns a trimmed version of the string"
   ]
  },
  {
   "cell_type": "code",
   "execution_count": 130,
   "id": "25be9181",
   "metadata": {},
   "outputs": [
    {
     "data": {
      "text/plain": [
       "'this is             new string'"
      ]
     },
     "execution_count": 130,
     "metadata": {},
     "output_type": "execute_result"
    }
   ],
   "source": [
    "s8.strip()"
   ]
  },
  {
   "cell_type": "markdown",
   "id": "e84e0fa7",
   "metadata": {},
   "source": [
    "29. swapcase()\tSwaps cases, lower case becomes upper case and vice versa"
   ]
  },
  {
   "cell_type": "code",
   "execution_count": 131,
   "id": "3e0fc1c1",
   "metadata": {},
   "outputs": [
    {
     "data": {
      "text/plain": [
       "'this is uppercase THIS IS LOWER CASE'"
      ]
     },
     "execution_count": 131,
     "metadata": {},
     "output_type": "execute_result"
    }
   ],
   "source": [
    "s9 = \"THIS IS UPPERCASE this is lower case\"\n",
    "s9.swapcase()"
   ]
  },
  {
   "cell_type": "code",
   "execution_count": null,
   "id": "9ce0c977",
   "metadata": {},
   "outputs": [],
   "source": []
  }
 ],
 "metadata": {
  "kernelspec": {
   "display_name": "Python 3 (ipykernel)",
   "language": "python",
   "name": "python3"
  },
  "language_info": {
   "codemirror_mode": {
    "name": "ipython",
    "version": 3
   },
   "file_extension": ".py",
   "mimetype": "text/x-python",
   "name": "python",
   "nbconvert_exporter": "python",
   "pygments_lexer": "ipython3",
   "version": "3.11.2"
  }
 },
 "nbformat": 4,
 "nbformat_minor": 5
}
