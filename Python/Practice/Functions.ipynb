{
 "cells": [
  {
   "cell_type": "code",
   "execution_count": 11,
   "id": "f49d7a4f",
   "metadata": {},
   "outputs": [],
   "source": [
    "#1\n",
    "class Rectangle:\n",
    "    def __init__(self,l,w):\n",
    "        self.l=l\n",
    "        self.w=w\n",
    "    def area(self):\n",
    "        print('area of rectangle =',self.l*self.w)\n",
    "    def perimeter(self):\n",
    "        print('perimeter of rectangle =',2*(self.l+self.w))\n",
    "    def is_square(self):\n",
    "        if self.l==self.w:\n",
    "            f=True\n",
    "            print(f)\n",
    "        else:\n",
    "            f=False\n",
    "            print(f)"
   ]
  },
  {
   "cell_type": "code",
   "execution_count": 12,
   "id": "9773e241",
   "metadata": {},
   "outputs": [
    {
     "name": "stdout",
     "output_type": "stream",
     "text": [
      "enter length for the rectangle = 4\n",
      "enter width for the rectangle = 4\n",
      "area of rectangle = 16.0\n",
      "perimeter of rectangle = 16.0\n",
      "True\n"
     ]
    }
   ],
   "source": [
    "l=float(input('enter length for the rectangle = '))\n",
    "w=float(input('enter width for the rectangle = '))\n",
    "r=Rectangle(l,w)\n",
    "r.area()\n",
    "r.perimeter()\n",
    "r.is_square()"
   ]
  },
  {
   "cell_type": "code",
   "execution_count": 13,
   "id": "8f8ccbf8",
   "metadata": {},
   "outputs": [
    {
     "ename": "SyntaxError",
     "evalue": "expected '(' (465555620.py, line 3)",
     "output_type": "error",
     "traceback": [
      "\u001b[1;36m  Cell \u001b[1;32mIn[13], line 3\u001b[1;36m\u001b[0m\n\u001b[1;33m    def __init__\u001b[0m\n\u001b[1;37m                ^\u001b[0m\n\u001b[1;31mSyntaxError\u001b[0m\u001b[1;31m:\u001b[0m expected '('\n"
     ]
    }
   ],
   "source": [
    "#2\n",
    "class Car:\n",
    "    def __init__"
   ]
  },
  {
   "cell_type": "markdown",
   "id": "378638c4",
   "metadata": {},
   "source": [
    "1. Write a Python program to find the common elements between two lists using a loop and if statement."
   ]
  },
  {
   "cell_type": "code",
   "execution_count": 15,
   "id": "69be129e",
   "metadata": {},
   "outputs": [
    {
     "data": {
      "text/plain": [
       "[3, 4, 5]"
      ]
     },
     "execution_count": 15,
     "metadata": {},
     "output_type": "execute_result"
    }
   ],
   "source": [
    "#1\n",
    "l1=[1,2,3,4,5]\n",
    "l2=[3,4,5,6,7]\n",
    "l3=[]\n",
    "for i in l1:\n",
    "    for j in l2:\n",
    "        if i==j:\n",
    "            l3.append(i)\n",
    "l3"
   ]
  },
  {
   "cell_type": "code",
   "execution_count": 22,
   "id": "fd2697b3",
   "metadata": {},
   "outputs": [
    {
     "data": {
      "text/plain": [
       "{3, 4, 5}"
      ]
     },
     "execution_count": 22,
     "metadata": {},
     "output_type": "execute_result"
    }
   ],
   "source": [
    "#2\n",
    "l1={1,2,3,4,5}\n",
    "l2={3,4,5,6,7}\n",
    "l1.intersection(l2)"
   ]
  },
  {
   "cell_type": "code",
   "execution_count": 23,
   "id": "1d0e39e5",
   "metadata": {},
   "outputs": [
    {
     "name": "stdout",
     "output_type": "stream",
     "text": [
      "{3, 4, 5}\n"
     ]
    }
   ],
   "source": [
    "#3\n",
    "l1={1,2,3,4,5}\n",
    "l2={3,4,5,6,7}\n",
    "print(l1&l2)"
   ]
  },
  {
   "cell_type": "markdown",
   "id": "e46e8ace",
   "metadata": {},
   "source": [
    "2. Create a program in Python to print the prime numbers up to a given number using a loop."
   ]
  },
  {
   "cell_type": "code",
   "execution_count": 38,
   "id": "87a8a074",
   "metadata": {},
   "outputs": [
    {
     "name": "stdout",
     "output_type": "stream",
     "text": [
      "enter number = 10\n",
      "2 is prime number\n",
      "3 is prime number\n",
      "5 is prime number\n",
      "7 is prime number\n"
     ]
    }
   ],
   "source": [
    "n=int(input('enter number = '))\n",
    "for i in range(2,n+1):\n",
    "    f=False\n",
    "    for j in range(2,i):\n",
    "        if i%j==0:\n",
    "            f=True\n",
    "            break\n",
    "    if f==False:\n",
    "        print(i,'is prime number')"
   ]
  },
  {
   "cell_type": "code",
   "execution_count": 42,
   "id": "41434475",
   "metadata": {},
   "outputs": [
    {
     "name": "stdout",
     "output_type": "stream",
     "text": [
      "enter number = 5\n"
     ]
    },
    {
     "ename": "TypeError",
     "evalue": "object of type 'int' has no len()",
     "output_type": "error",
     "traceback": [
      "\u001b[1;31m---------------------------------------------------------------------------\u001b[0m",
      "\u001b[1;31mTypeError\u001b[0m                                 Traceback (most recent call last)",
      "Cell \u001b[1;32mIn[42], line 2\u001b[0m\n\u001b[0;32m      1\u001b[0m n\u001b[38;5;241m=\u001b[39m\u001b[38;5;28mint\u001b[39m(\u001b[38;5;28minput\u001b[39m(\u001b[38;5;124m'\u001b[39m\u001b[38;5;124menter number = \u001b[39m\u001b[38;5;124m'\u001b[39m))\n\u001b[1;32m----> 2\u001b[0m \u001b[38;5;28;01mfor\u001b[39;00m i \u001b[38;5;129;01min\u001b[39;00m \u001b[38;5;28mrange\u001b[39m(\u001b[38;5;241m2\u001b[39m,\u001b[38;5;28;43mlen\u001b[39;49m\u001b[43m(\u001b[49m\u001b[43mn\u001b[49m\u001b[38;5;241;43m+\u001b[39;49m\u001b[38;5;241;43m1\u001b[39;49m\u001b[43m)\u001b[49m):\n\u001b[0;32m      3\u001b[0m     f\u001b[38;5;241m=\u001b[39m\u001b[38;5;28;01mFalse\u001b[39;00m\n\u001b[0;32m      4\u001b[0m     \u001b[38;5;28;01mfor\u001b[39;00m j \u001b[38;5;129;01min\u001b[39;00m \u001b[38;5;28mrange\u001b[39m(\u001b[38;5;241m2\u001b[39m,i):\n",
      "\u001b[1;31mTypeError\u001b[0m: object of type 'int' has no len()"
     ]
    }
   ],
   "source": [
    "n=int(input('enter number = '))\n",
    "for i in range(2,len(n+1)):\n",
    "    f=False\n",
    "    for j in range(2,i):\n",
    "        if i%j==0:\n",
    "            f=True\n",
    "            break\n",
    "    if f==False:\n",
    "        print(i,'is a prime number')"
   ]
  },
  {
   "cell_type": "code",
   "execution_count": null,
   "id": "145f54f4",
   "metadata": {},
   "outputs": [],
   "source": []
  }
 ],
 "metadata": {
  "kernelspec": {
   "display_name": "Python 3 (ipykernel)",
   "language": "python",
   "name": "python3"
  },
  "language_info": {
   "codemirror_mode": {
    "name": "ipython",
    "version": 3
   },
   "file_extension": ".py",
   "mimetype": "text/x-python",
   "name": "python",
   "nbconvert_exporter": "python",
   "pygments_lexer": "ipython3",
   "version": "3.11.2"
  }
 },
 "nbformat": 4,
 "nbformat_minor": 5
}
