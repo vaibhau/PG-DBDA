{
 "cells": [
  {
   "cell_type": "code",
   "execution_count": 2,
   "id": "39d2569f",
   "metadata": {},
   "outputs": [
    {
     "name": "stdout",
     "output_type": "stream",
     "text": [
      "enter number 1 = 12\n",
      "enter number 2 = 0\n"
     ]
    },
    {
     "ename": "ZeroDivisionError",
     "evalue": "division by zero",
     "output_type": "error",
     "traceback": [
      "\u001b[1;31m---------------------------------------------------------------------------\u001b[0m",
      "\u001b[1;31mZeroDivisionError\u001b[0m                         Traceback (most recent call last)",
      "Cell \u001b[1;32mIn[2], line 3\u001b[0m\n\u001b[0;32m      1\u001b[0m n1\u001b[38;5;241m=\u001b[39m\u001b[38;5;28mint\u001b[39m(\u001b[38;5;28minput\u001b[39m(\u001b[38;5;124m'\u001b[39m\u001b[38;5;124menter number 1 = \u001b[39m\u001b[38;5;124m'\u001b[39m))\n\u001b[0;32m      2\u001b[0m n2\u001b[38;5;241m=\u001b[39m\u001b[38;5;28mint\u001b[39m(\u001b[38;5;28minput\u001b[39m(\u001b[38;5;124m'\u001b[39m\u001b[38;5;124menter number 2 = \u001b[39m\u001b[38;5;124m'\u001b[39m))\n\u001b[1;32m----> 3\u001b[0m n3\u001b[38;5;241m=\u001b[39m\u001b[43mn1\u001b[49m\u001b[38;5;241;43m/\u001b[39;49m\u001b[43mn2\u001b[49m\n\u001b[0;32m      4\u001b[0m \u001b[38;5;28mprint\u001b[39m(\u001b[38;5;124m'\u001b[39m\u001b[38;5;124mnumber 3 =\u001b[39m\u001b[38;5;124m'\u001b[39m,n3)\n",
      "\u001b[1;31mZeroDivisionError\u001b[0m: division by zero"
     ]
    }
   ],
   "source": [
    "n1=int(input('enter number 1 = '))\n",
    "n2=int(input('enter number 2 = '))\n",
    "n3=n1/n2\n",
    "print('number 3 =',n3)"
   ]
  },
  {
   "cell_type": "code",
   "execution_count": 5,
   "id": "43f2abf1",
   "metadata": {},
   "outputs": [
    {
     "name": "stdout",
     "output_type": "stream",
     "text": [
      "enter number 1 = 12\n",
      "enter number 2 = 0\n",
      "Exception\n",
      "finally run\n"
     ]
    }
   ],
   "source": [
    "try:\n",
    "    n1=int(input('enter number 1 = '))\n",
    "    n2=int(input('enter number 2 = '))\n",
    "    n3=n1/n2\n",
    "except Exception:\n",
    "    print('Exception')\n",
    "else:\n",
    "    print('number 3 =',n3)\n",
    "finally:\n",
    "    print('finally executed')"
   ]
  },
  {
   "cell_type": "code",
   "execution_count": 9,
   "id": "fa8de7a3",
   "metadata": {},
   "outputs": [
    {
     "name": "stdout",
     "output_type": "stream",
     "text": [
      "enter number 1 = 12\n",
      "enter number 2 = 0\n",
      "Exception - division by zero\n",
      "finally executed\n"
     ]
    }
   ],
   "source": [
    "try:\n",
    "    n1=int(input('enter number 1 = '))\n",
    "    n2=int(input('enter number 2 = '))\n",
    "    n3=n1/n2\n",
    "except Exception as arg:\n",
    "    print(\"Exception -\",arg)\n",
    "else:\n",
    "    print('number 3 =',n3)\n",
    "finally:\n",
    "    print('finally executed')"
   ]
  },
  {
   "cell_type": "code",
   "execution_count": 10,
   "id": "0d48ff4f",
   "metadata": {},
   "outputs": [
    {
     "name": "stdout",
     "output_type": "stream",
     "text": [
      "enter number 1 = 12\n",
      "enter number 2 = a\n",
      "Exception - invalid literal for int() with base 10: 'a'\n",
      "finally executed\n"
     ]
    }
   ],
   "source": [
    "try:\n",
    "    n1=int(input('enter number 1 = '))\n",
    "    n2=int(input('enter number 2 = '))\n",
    "    n3=n1/n2\n",
    "except Exception as arg:\n",
    "    print(\"Exception -\",arg)\n",
    "else:\n",
    "    print('number 3 =',n3)\n",
    "finally:\n",
    "    print('finally executed')"
   ]
  },
  {
   "cell_type": "code",
   "execution_count": null,
   "id": "1f25bece",
   "metadata": {},
   "outputs": [],
   "source": []
  }
 ],
 "metadata": {
  "kernelspec": {
   "display_name": "Python 3 (ipykernel)",
   "language": "python",
   "name": "python3"
  },
  "language_info": {
   "codemirror_mode": {
    "name": "ipython",
    "version": 3
   },
   "file_extension": ".py",
   "mimetype": "text/x-python",
   "name": "python",
   "nbconvert_exporter": "python",
   "pygments_lexer": "ipython3",
   "version": "3.11.2"
  }
 },
 "nbformat": 4,
 "nbformat_minor": 5
}
