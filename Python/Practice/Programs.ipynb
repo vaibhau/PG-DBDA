{
 "cells": [
  {
   "cell_type": "markdown",
   "id": "59628894",
   "metadata": {},
   "source": [
    "# 1. Palindrome Program"
   ]
  },
  {
   "cell_type": "code",
   "execution_count": 1,
   "id": "5a4fdb7a",
   "metadata": {},
   "outputs": [
    {
     "name": "stdout",
     "output_type": "stream",
     "text": [
      "enter any integer = 121\n",
      "121\n",
      "121 is not a palindrome number\n"
     ]
    }
   ],
   "source": [
    "sum = 0\n",
    "num = int(input('enter any integer = '))\n",
    "temp = num\n",
    "while (num != 0):\n",
    "    d = num % 10\n",
    "    sum = (sum*10) + d\n",
    "    num = num / 10\n",
    "print(temp)\n",
    "if(temp == num):\n",
    "    print(temp,'is a palindrome number')\n",
    "else:\n",
    "    print(temp,'is not a palindrome number')"
   ]
  },
  {
   "cell_type": "markdown",
   "id": "107d3764",
   "metadata": {},
   "source": [
    "# Startswith() vowels"
   ]
  },
  {
   "cell_type": "code",
   "execution_count": 15,
   "id": "a8992619",
   "metadata": {},
   "outputs": [
    {
     "data": {
      "text/plain": [
       "['ohoooh', 'eeeuu']"
      ]
     },
     "execution_count": 15,
     "metadata": {},
     "output_type": "execute_result"
    }
   ],
   "source": [
    "#method 1\n",
    "s = 'hello guys whatsup ohoooh eeeuu nista dhur'\n",
    "l1 = s.split()\n",
    "l2 = []\n",
    "for i in l1:\n",
    "    if (i.startswith(('a','e','i','o','u'))):\n",
    "        l2.append(i)\n",
    "l2"
   ]
  },
  {
   "cell_type": "code",
   "execution_count": 16,
   "id": "5cb54e92",
   "metadata": {},
   "outputs": [
    {
     "data": {
      "text/plain": [
       "['apple', 'are', 'in']"
      ]
     },
     "execution_count": 16,
     "metadata": {},
     "output_type": "execute_result"
    }
   ],
   "source": [
    "#method 2\n",
    "st1 = 'apple are red in color'\n",
    "l1 = st1.split()\n",
    "l2 = []\n",
    "vowels = 'aeiouAEIOU'\n",
    "for i in l1:\n",
    "    if i[0] in vowels:\n",
    "        l2.append(i)\n",
    "    else:\n",
    "        pass\n",
    "l2"
   ]
  },
  {
   "cell_type": "markdown",
   "id": "606c9b10",
   "metadata": {},
   "source": [
    "# Find the smallest word from string"
   ]
  },
  {
   "cell_type": "code",
   "execution_count": 10,
   "id": "83b7a60c",
   "metadata": {},
   "outputs": [
    {
     "name": "stdout",
     "output_type": "stream",
     "text": [
      "['in', 'of', 'an', 'as']\n"
     ]
    }
   ],
   "source": [
    "st1 = 'apple are red in color of an as'\n",
    "l1 = st1.split()\n",
    "l2 = []\n",
    "small = len(l1[0])\n",
    "for i in l1:\n",
    "    if len(i) < small:\n",
    "        small = len(i)\n",
    "for i in l1:\n",
    "    if len(i) <= small:\n",
    "        l2.append(i)\n",
    "print(l2)"
   ]
  },
  {
   "cell_type": "code",
   "execution_count": null,
   "id": "81c19419",
   "metadata": {},
   "outputs": [],
   "source": [
    "# Find the smallest words from string"
   ]
  },
  {
   "cell_type": "code",
   "execution_count": null,
   "id": "636e1ebf",
   "metadata": {},
   "outputs": [],
   "source": [
    "st1 = 'apple are red in color of ab'\n",
    "l1 = st1.split()\n",
    "small = l1[0]\n",
    "l2 = []\n",
    "l3 = []\n",
    "for i in l1:\n",
    "    if len(i) < len(small):\n",
    "        l2.append(i)\n",
    "for i in l2:\n",
    "    if len(i) < len(l2[0]):\n",
    "        l2.append(i)\n",
    "print(l3)"
   ]
  },
  {
   "cell_type": "code",
   "execution_count": null,
   "id": "7d628d9d",
   "metadata": {},
   "outputs": [],
   "source": []
  }
 ],
 "metadata": {
  "kernelspec": {
   "display_name": "Python 3 (ipykernel)",
   "language": "python",
   "name": "python3"
  },
  "language_info": {
   "codemirror_mode": {
    "name": "ipython",
    "version": 3
   },
   "file_extension": ".py",
   "mimetype": "text/x-python",
   "name": "python",
   "nbconvert_exporter": "python",
   "pygments_lexer": "ipython3",
   "version": "3.11.2"
  }
 },
 "nbformat": 4,
 "nbformat_minor": 5
}
