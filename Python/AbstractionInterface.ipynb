{
 "cells": [
  {
   "cell_type": "markdown",
   "id": "d517ff27",
   "metadata": {},
   "source": [
    "1. Create an abstract class Shape that has abstract methods area() and perimeter(). Create subclasses Rectangle and Circle that inherit from Shape and implement the area() and perimeter() methods as appropriate."
   ]
  },
  {
   "cell_type": "code",
   "execution_count": 16,
   "id": "de10ed93",
   "metadata": {},
   "outputs": [
    {
     "ename": "TypeError",
     "evalue": "Shape.areaofrectangle() missing 1 required positional argument: 'b'",
     "output_type": "error",
     "traceback": [
      "\u001b[1;31m---------------------------------------------------------------------------\u001b[0m",
      "\u001b[1;31mTypeError\u001b[0m                                 Traceback (most recent call last)",
      "Cell \u001b[1;32mIn[16], line 19\u001b[0m\n\u001b[0;32m     17\u001b[0m r\u001b[38;5;241m=\u001b[39mRectangle()\n\u001b[0;32m     18\u001b[0m r\u001b[38;5;241m.\u001b[39mareaofrectangle(\u001b[38;5;241m5\u001b[39m,\u001b[38;5;241m4\u001b[39m)\n\u001b[1;32m---> 19\u001b[0m \u001b[43mr\u001b[49m\u001b[38;5;241;43m.\u001b[39;49m\u001b[43mcal\u001b[49m\u001b[43m(\u001b[49m\u001b[43m)\u001b[49m\n",
      "Cell \u001b[1;32mIn[16], line 13\u001b[0m, in \u001b[0;36mRectangle.cal\u001b[1;34m(self)\u001b[0m\n\u001b[0;32m     12\u001b[0m \u001b[38;5;28;01mdef\u001b[39;00m \u001b[38;5;21mcal\u001b[39m(\u001b[38;5;28mself\u001b[39m):\n\u001b[1;32m---> 13\u001b[0m     a\u001b[38;5;241m=\u001b[39m\u001b[43mShape\u001b[49m\u001b[38;5;241;43m.\u001b[39;49m\u001b[43mareaofrectangle\u001b[49m\u001b[43m(\u001b[49m\u001b[38;5;241;43m5\u001b[39;49m\u001b[43m,\u001b[49m\u001b[38;5;241;43m4\u001b[39;49m\u001b[43m)\u001b[49m\n\u001b[0;32m     14\u001b[0m     \u001b[38;5;28mprint\u001b[39m(a)\n",
      "\u001b[1;31mTypeError\u001b[0m: Shape.areaofrectangle() missing 1 required positional argument: 'b'"
     ]
    }
   ],
   "source": [
    "class Shape:\n",
    "    def areaofcircle(self,r):\n",
    "        self.r=r\n",
    "    def areaofrectangle(self,l,b):\n",
    "        self.__l=l\n",
    "        self.__b=b\n",
    "        return self.__l,self.__b\n",
    "class Rectangle(Shape):\n",
    "    def cal(self):\n",
    "        a=Shape.areaofrectangle(5,4)\n",
    "        print(a)\n",
    "    \n",
    "# class Circle(Shape):\n",
    "r=Rectangle()\n",
    "r.areaofrectangle(5,4)\n",
    "r.cal()"
   ]
  },
  {
   "cell_type": "code",
   "execution_count": null,
   "id": "f2cd4c56",
   "metadata": {},
   "outputs": [],
   "source": []
  }
 ],
 "metadata": {
  "kernelspec": {
   "display_name": "Python 3 (ipykernel)",
   "language": "python",
   "name": "python3"
  },
  "language_info": {
   "codemirror_mode": {
    "name": "ipython",
    "version": 3
   },
   "file_extension": ".py",
   "mimetype": "text/x-python",
   "name": "python",
   "nbconvert_exporter": "python",
   "pygments_lexer": "ipython3",
   "version": "3.11.2"
  }
 },
 "nbformat": 4,
 "nbformat_minor": 5
}
