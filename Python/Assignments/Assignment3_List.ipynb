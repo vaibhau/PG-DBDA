{
 "cells": [
  {
   "cell_type": "markdown",
   "id": "3001297e",
   "metadata": {},
   "source": [
    "1. Reverse a list in Python"
   ]
  },
  {
   "cell_type": "code",
   "execution_count": 2,
   "id": "12151a7e",
   "metadata": {},
   "outputs": [
    {
     "data": {
      "text/plain": [
       "[60, 50, 40, 30, 20, 10]"
      ]
     },
     "execution_count": 2,
     "metadata": {},
     "output_type": "execute_result"
    }
   ],
   "source": [
    "l=[10,20,30,40,50,60]\n",
    "l[::-1]"
   ]
  },
  {
   "cell_type": "markdown",
   "id": "d3c8365f",
   "metadata": {},
   "source": [
    "2. Concatenate two lists index-wise"
   ]
  },
  {
   "cell_type": "code",
   "execution_count": 21,
   "id": "f111e448",
   "metadata": {},
   "outputs": [
    {
     "data": {
      "text/plain": [
       "['my', 'name', 'is', 'vaibhav']"
      ]
     },
     "execution_count": 21,
     "metadata": {},
     "output_type": "execute_result"
    }
   ],
   "source": [
    "l1=['m','na','i','vai']\n",
    "l2=['y','me','s','bhav']\n",
    "j=0\n",
    "l3=[]\n",
    "for i in l1:\n",
    "    l3.append(i+l2[j])\n",
    "    j+=1\n",
    "l3"
   ]
  },
  {
   "cell_type": "markdown",
   "id": "f32d84d5",
   "metadata": {},
   "source": [
    "3. Turn every item of a list into its square"
   ]
  },
  {
   "cell_type": "code",
   "execution_count": 5,
   "id": "66cea8a8",
   "metadata": {},
   "outputs": [
    {
     "data": {
      "text/plain": [
       "[1, 4, 9, 16, 25, 36, 49, 64, 81]"
      ]
     },
     "execution_count": 5,
     "metadata": {},
     "output_type": "execute_result"
    }
   ],
   "source": [
    "l1=[1,2,3,4,5,6,7,8,9]\n",
    "l2=[]\n",
    "for i in l1:\n",
    "    l2.append(i*i)\n",
    "l2"
   ]
  },
  {
   "cell_type": "markdown",
   "id": "9110782c",
   "metadata": {},
   "source": [
    "4. Concatenate two lists in the following order"
   ]
  },
  {
   "cell_type": "code",
   "execution_count": 23,
   "id": "c273bae6",
   "metadata": {},
   "outputs": [
    {
     "data": {
      "text/plain": [
       "['Hello Dear', 'Hello Sir', 'take Dear', 'take Sir']"
      ]
     },
     "execution_count": 23,
     "metadata": {},
     "output_type": "execute_result"
    }
   ],
   "source": [
    "l1=[\"Hello \", \"take \"]\n",
    "l2=[\"Dear\", \"Sir\"]\n",
    "l3=[]\n",
    "for i in l1:\n",
    "    for j in l2:\n",
    "        l3.append(i+j)\n",
    "l3"
   ]
  },
  {
   "cell_type": "markdown",
   "id": "781567df",
   "metadata": {},
   "source": [
    "5. Iterate both lists simultaneously"
   ]
  },
  {
   "cell_type": "code",
   "execution_count": 24,
   "id": "c5c1f450",
   "metadata": {},
   "outputs": [
    {
     "name": "stdout",
     "output_type": "stream",
     "text": [
      "10 400\n",
      "20 300\n",
      "30 200\n",
      "40 100\n"
     ]
    }
   ],
   "source": [
    "l1 = [10,20,30,40]\n",
    "l2 = [100,200,300,400]\n",
    "for i in range(0,len(l1)):\n",
    "    print(l1[i],l2[len(l2)-1-i])"
   ]
  },
  {
   "cell_type": "markdown",
   "id": "d8bc8158",
   "metadata": {},
   "source": [
    "6. Remove empty strings from the list of strings"
   ]
  },
  {
   "cell_type": "code",
   "execution_count": 9,
   "id": "5caad777",
   "metadata": {},
   "outputs": [
    {
     "data": {
      "text/plain": [
       "['Mike', 'Emma', 'Kelly', 'Brad']"
      ]
     },
     "execution_count": 9,
     "metadata": {},
     "output_type": "execute_result"
    }
   ],
   "source": [
    "l1=[\"Mike\", \"\", \"Emma\", \"Kelly\", \"\", \"Brad\"]\n",
    "l2=[]\n",
    "for i in l1:\n",
    "    if i!='':\n",
    "        l2.append(i)\n",
    "l2"
   ]
  },
  {
   "cell_type": "markdown",
   "id": "d886d03a",
   "metadata": {},
   "source": [
    "7. Add new item to list after a specified item"
   ]
  },
  {
   "cell_type": "code",
   "execution_count": 15,
   "id": "9e540473",
   "metadata": {},
   "outputs": [
    {
     "data": {
      "text/plain": [
       "[10, 20, [300, 400, [5000, 6000, 7000], 500], 30, 40]"
      ]
     },
     "execution_count": 15,
     "metadata": {},
     "output_type": "execute_result"
    }
   ],
   "source": [
    "l=[10, 20, [300, 400, [5000, 6000], 500], 30, 40]\n",
    "l[2][2].append(7000)\n",
    "l"
   ]
  },
  {
   "cell_type": "markdown",
   "id": "716dc655",
   "metadata": {},
   "source": [
    "8. Extend nested list by adding the sublist"
   ]
  },
  {
   "cell_type": "code",
   "execution_count": 17,
   "id": "6fdc77bb",
   "metadata": {},
   "outputs": [
    {
     "data": {
      "text/plain": [
       "['a', 'b', ['c', ['d', 'e', ['f', 'g', 'h', 'i', 'j'], 'k'], 'l'], 'm', 'n']"
      ]
     },
     "execution_count": 17,
     "metadata": {},
     "output_type": "execute_result"
    }
   ],
   "source": [
    "l1=[\"a\", \"b\", [\"c\", [\"d\", \"e\", [\"f\", \"g\"], \"k\"], \"l\"], \"m\", \"n\"]\n",
    "l2=[\"h\", \"i\", \"j\"]\n",
    "l1[2][1][2].extend(l2)\n",
    "l1"
   ]
  },
  {
   "cell_type": "markdown",
   "id": "12b6190c",
   "metadata": {},
   "source": [
    "9. Replace list’s item with new value if found"
   ]
  },
  {
   "cell_type": "code",
   "execution_count": 18,
   "id": "ffaaa4d8",
   "metadata": {},
   "outputs": [
    {
     "data": {
      "text/plain": [
       "[5, 10, 15, 200, 25, 50, 20]"
      ]
     },
     "execution_count": 18,
     "metadata": {},
     "output_type": "execute_result"
    }
   ],
   "source": [
    "l=[5,10,15,20,25,50,20]\n",
    "index=l.index(20)\n",
    "l[index]=200\n",
    "l"
   ]
  },
  {
   "cell_type": "markdown",
   "id": "52754739",
   "metadata": {},
   "source": [
    "10. Remove all occurrences of a specific item from a list."
   ]
  },
  {
   "cell_type": "code",
   "execution_count": 25,
   "id": "24c787dc",
   "metadata": {},
   "outputs": [
    {
     "data": {
      "text/plain": [
       "[5, 15, 25, 50]"
      ]
     },
     "execution_count": 25,
     "metadata": {},
     "output_type": "execute_result"
    }
   ],
   "source": [
    "l1=[5, 20, 15, 20, 25, 50, 20]\n",
    "l2=[]\n",
    "for i in l1:\n",
    "    if i!=20:\n",
    "        l2.append(i)  \n",
    "l2"
   ]
  }
 ],
 "metadata": {
  "kernelspec": {
   "display_name": "Python 3 (ipykernel)",
   "language": "python",
   "name": "python3"
  },
  "language_info": {
   "codemirror_mode": {
    "name": "ipython",
    "version": 3
   },
   "file_extension": ".py",
   "mimetype": "text/x-python",
   "name": "python",
   "nbconvert_exporter": "python",
   "pygments_lexer": "ipython3",
   "version": "3.11.2"
  }
 },
 "nbformat": 4,
 "nbformat_minor": 5
}
