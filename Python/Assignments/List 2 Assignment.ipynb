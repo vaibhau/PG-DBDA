{
 "cells": [
  {
   "cell_type": "code",
   "execution_count": 3,
   "id": "717f7ab7",
   "metadata": {},
   "outputs": [
    {
     "name": "stdout",
     "output_type": "stream",
     "text": [
      "Square of  1  =  1\n",
      "Square of  2  =  4\n",
      "Square of  3  =  9\n",
      "Square of  4  =  16\n",
      "Square of  5  =  25\n",
      "Square of  6  =  36\n",
      "Square of  7  =  49\n",
      "Square of  8  =  64\n",
      "Square of  9  =  81\n",
      "Square of  10  =  100\n"
     ]
    }
   ],
   "source": [
    "#1 Write a Python program that creates a list of integers from 1 to 10, and then prints the square of each number in the list.\n",
    "l = [1,2,3,4,5,6,7,8,9,10]\n",
    "for i in l:\n",
    "    print(\"Square of \",i,\" = \",i*i)"
   ]
  },
  {
   "cell_type": "code",
   "execution_count": 4,
   "id": "0a7d8425",
   "metadata": {},
   "outputs": [
    {
     "name": "stdout",
     "output_type": "stream",
     "text": [
      "10\n"
     ]
    }
   ],
   "source": [
    "#2 Write a Python function that takes a list of integers as input and returns the maximum number in the list.\n",
    "largest = 0\n",
    "for i in l:\n",
    "    if i > largest:\n",
    "        largest = i\n",
    "print(largest)"
   ]
  },
  {
   "cell_type": "code",
   "execution_count": 6,
   "id": "b6259b74",
   "metadata": {},
   "outputs": [
    {
     "data": {
      "text/plain": [
       "[3, 4, 5, 6]"
      ]
     },
     "execution_count": 6,
     "metadata": {},
     "output_type": "execute_result"
    }
   ],
   "source": [
    "#3 Write a Python program that takes two lists of integers as input and returns a new list containing only the common elements\n",
    "#  of both lists.\n",
    "l1 = [1,2,3,4,5,6]\n",
    "l2 = [3,4,5,6,7,8]\n",
    "new = []\n",
    "for i in l1:\n",
    "    for j in l2:\n",
    "        if j == i:\n",
    "            new.append(i)\n",
    "new"
   ]
  },
  {
   "cell_type": "code",
   "execution_count": 6,
   "id": "56f40afe",
   "metadata": {},
   "outputs": [
    {
     "name": "stdout",
     "output_type": "stream",
     "text": [
      "accha\n"
     ]
    }
   ],
   "source": [
    "#4 Write a Python program that takes a list of strings as input and returns a new list containing only the strings that start with the letter 'a'.\n",
    "l = ['hii','hello','welcome','to','cdac','mumbai','accha']\n",
    "new = []\n",
    "for i in l:\n",
    "    if i.startswith('a'):\n",
    "        new = i\n",
    "print(new)"
   ]
  },
  {
   "cell_type": "code",
   "execution_count": 4,
   "id": "8a126f7a",
   "metadata": {},
   "outputs": [
    {
     "name": "stdout",
     "output_type": "stream",
     "text": [
      "2\n",
      "4\n",
      "6\n"
     ]
    }
   ],
   "source": [
    "#5 Write a Python program that takes a list of integers as input and returns a new list containing only the even numbers in the original list.\n",
    "#a = int(input(\"enter list of integers = \"))\n",
    "a = [1,2,3,4,5,6]\n",
    "for i in a:\n",
    "    if i % 2 == 0:\n",
    "        print(i)"
   ]
  },
  {
   "cell_type": "code",
   "execution_count": 7,
   "id": "2fbf4649",
   "metadata": {},
   "outputs": [
    {
     "name": "stdout",
     "output_type": "stream",
     "text": [
      "[1, 3, 6, 9, 12, 15]\n"
     ]
    }
   ],
   "source": [
    "#6 Write a Python function that takes a list of integers as input and returns a new list where each element is the sum of the\n",
    "#  previous two elements in the original list.\n",
    "\n",
    "a = [1,2,3,4,5,6]\n",
    "b = []\n",
    "for i in a:\n",
    "    if i==1:\n",
    "        b.append(i)\n",
    "    elif i==2:\n",
    "        b.append(i+(i-1))\n",
    "    else:\n",
    "        b.append(i+(i-2)+(i-1))\n",
    "print(b)"
   ]
  },
  {
   "cell_type": "code",
   "execution_count": 39,
   "id": "bfeeb8a5",
   "metadata": {},
   "outputs": [
    {
     "name": "stdout",
     "output_type": "stream",
     "text": [
      "enter list of integers = 2 4 2 6 7 4 3 2 6 8 2\n"
     ]
    },
    {
     "data": {
      "text/plain": [
       "['2', '4', '6', '7', '3', '8']"
      ]
     },
     "execution_count": 39,
     "metadata": {},
     "output_type": "execute_result"
    }
   ],
   "source": [
    "#7 Write a Python program that takes a list of integers as input and returns a new list containing only the unique elements of the original list.\n",
    "a = input(\"enter list of integers = \")\n",
    "b = a.split()\n",
    "new = []\n",
    "for i in b:\n",
    "    if i not in new:\n",
    "        new.append(i)\n",
    "new"
   ]
  },
  {
   "cell_type": "markdown",
   "id": "6c547149",
   "metadata": {},
   "source": [
    "8. Write a Python program that takes a list of strings as input and returns a new list containing only the strings that are palindromes."
   ]
  },
  {
   "cell_type": "code",
   "execution_count": 13,
   "id": "870162cd",
   "metadata": {},
   "outputs": [
    {
     "name": "stdout",
     "output_type": "stream",
     "text": [
      "enter list string = lol\n",
      "Its a palindrome\n"
     ]
    }
   ],
   "source": [
    "a= input(\"enter list string = \")\n",
    "if a == a[::-1]:\n",
    "    print(\"Its a palindrome\")\n",
    "else:\n",
    "    print(\"Its not a palindrome\")"
   ]
  },
  {
   "cell_type": "code",
   "execution_count": 18,
   "id": "2834e711",
   "metadata": {
    "scrolled": true
   },
   "outputs": [
    {
     "data": {
      "text/plain": [
       "[7, 8, 9, 10]"
      ]
     },
     "execution_count": 18,
     "metadata": {},
     "output_type": "execute_result"
    }
   ],
   "source": [
    "#9 Write a Python function that takes two lists of integers as input and returns a new list containing the elements that are in the first list but not in the second list.\n",
    "a = [5,6,7,8,9,10]\n",
    "b = [1,2,3,4,5,6]\n",
    "new = []\n",
    "for i in a:\n",
    "    if i not in b:\n",
    "        new.append(i)\n",
    "new"
   ]
  },
  {
   "cell_type": "markdown",
   "id": "b49548ab",
   "metadata": {},
   "source": [
    "#10 Write a Python program that takes a list of strings as input and returns a new list where each element is the reverse of the corresponding element in the original list."
   ]
  },
  {
   "cell_type": "code",
   "execution_count": 5,
   "id": "a4dd3478",
   "metadata": {},
   "outputs": [
    {
     "name": "stdout",
     "output_type": "stream",
     "text": [
      "enter list = hello guys\n",
      "['guys', 'hello']\n"
     ]
    }
   ],
   "source": [
    "a = input(\"enter list = \")\n",
    "b = a.split()\n",
    "b.reverse()\n",
    "print(b)"
   ]
  },
  {
   "cell_type": "markdown",
   "id": "912a978d",
   "metadata": {},
   "source": [
    "11. Write a Python program that takes a list of integers as input and returns a new list where each element is multiplied by 2."
   ]
  },
  {
   "cell_type": "code",
   "execution_count": 20,
   "id": "69d2c120",
   "metadata": {},
   "outputs": [
    {
     "name": "stdout",
     "output_type": "stream",
     "text": [
      "enter integers = 4 5 6 7\n",
      "8\n",
      "10\n",
      "12\n",
      "14\n"
     ]
    }
   ],
   "source": [
    "a = input(\"enter integers = \")\n",
    "b = a.split()\n",
    "for i in range(len(b)):\n",
    "    b[i] = int(b[i])\n",
    "    print(b[i]*2)"
   ]
  },
  {
   "cell_type": "markdown",
   "id": "598a0334",
   "metadata": {},
   "source": [
    "12. Write a Python function that takes a list of integers as input and returns the sum of all the even numbers in the list."
   ]
  },
  {
   "cell_type": "code",
   "execution_count": 37,
   "id": "c1e1d820",
   "metadata": {},
   "outputs": [
    {
     "name": "stdout",
     "output_type": "stream",
     "text": [
      "enter integers = 1 2 3 4 5\n",
      "sum of even numbers =  6\n"
     ]
    }
   ],
   "source": [
    "def sum():\n",
    "    sum = 0\n",
    "    a = input(\"enter integers = \")\n",
    "    b = a.split()\n",
    "    for i in range(len(b)):\n",
    "        b[i] = int(b[i])\n",
    "        if i % 2 == 0 :\n",
    "            sum = sum + i\n",
    "    print(\"sum of even numbers = \",sum)\n",
    "sum()"
   ]
  },
  {
   "cell_type": "markdown",
   "id": "dec87bfc",
   "metadata": {},
   "source": [
    "13. Write a Python program that takes a list of strings as input and returns a new list containing only the strings that have a length greater than 5."
   ]
  },
  {
   "cell_type": "code",
   "execution_count": 43,
   "id": "c30d394c",
   "metadata": {},
   "outputs": [
    {
     "name": "stdout",
     "output_type": "stream",
     "text": [
      "enter elements in string list = hello hi how are you today\n",
      "[]\n"
     ]
    }
   ],
   "source": [
    "new = []\n",
    "a = input('enter elements in string list = ')\n",
    "b = a.split()\n",
    "for i in b:\n",
    "    if len(i)>5:\n",
    "        new.append(i)\n",
    "    else:\n",
    "        continue\n",
    "print(new)"
   ]
  },
  {
   "cell_type": "markdown",
   "id": "c15cccf2",
   "metadata": {},
   "source": [
    "14 Write a Python program that takes a list of integers as input and returns a new list containing only the numbers that are divisible by 3."
   ]
  },
  {
   "cell_type": "code",
   "execution_count": 12,
   "id": "bafed86a",
   "metadata": {},
   "outputs": [
    {
     "name": "stdout",
     "output_type": "stream",
     "text": [
      "3\n",
      "6\n",
      "9\n"
     ]
    }
   ],
   "source": [
    "a = [1,2,3,4,5,6,7,8,9]\n",
    "for i in a:\n",
    "    if(i % 3 == 0):\n",
    "        print(i)"
   ]
  },
  {
   "cell_type": "markdown",
   "id": "b71ad54c",
   "metadata": {},
   "source": [
    "15. Write a Python function that takes a list of integers as input and returns the second largest number in the list."
   ]
  },
  {
   "cell_type": "code",
   "execution_count": 13,
   "id": "5db5ff5e",
   "metadata": {},
   "outputs": [
    {
     "name": "stdout",
     "output_type": "stream",
     "text": [
      "90\n"
     ]
    }
   ],
   "source": [
    "list = [10,20,30,40,50,60,70,80,90,100]\n",
    "list.sort\n",
    "print(list[-2])"
   ]
  },
  {
   "cell_type": "markdown",
   "id": "17fc72ea",
   "metadata": {},
   "source": [
    "16. Write a Python program that takes two lists of integers as input and returns a new list containing the elements that are in both lists."
   ]
  },
  {
   "cell_type": "code",
   "execution_count": 7,
   "id": "312a456a",
   "metadata": {},
   "outputs": [
    {
     "data": {
      "text/plain": [
       "[4, 5]"
      ]
     },
     "execution_count": 7,
     "metadata": {},
     "output_type": "execute_result"
    }
   ],
   "source": [
    "list1 = [1,2,3,4,5]\n",
    "list2 = [4,5,6,7,8]\n",
    "new = []\n",
    "for i in list1:\n",
    "    for j in list2:\n",
    "        if i == j:\n",
    "            new.append(i)\n",
    "new"
   ]
  },
  {
   "cell_type": "markdown",
   "id": "a63ab13a",
   "metadata": {},
   "source": [
    "17. Write a Python program that takes a list of strings as input and returns a new list containing only the strings that contain the substring 'ing'."
   ]
  },
  {
   "cell_type": "code",
   "execution_count": 3,
   "id": "67d70c31",
   "metadata": {},
   "outputs": [
    {
     "name": "stdout",
     "output_type": "stream",
     "text": [
      "['batting', 'trekking']\n"
     ]
    }
   ],
   "source": [
    "list1 = ['batting','hello','trekking','welcome']\n",
    "list2 = []\n",
    "for i in list1:\n",
    "    if 'ing' in i:\n",
    "        list2.append(i)\n",
    "\n",
    "print(list2)"
   ]
  },
  {
   "cell_type": "markdown",
   "id": "ef612827",
   "metadata": {},
   "source": [
    "18. Write a Python function that takes a list of integers as input and returns a new list where each element is the product of the previous two elements in the original list."
   ]
  },
  {
   "cell_type": "code",
   "execution_count": 22,
   "id": "b7692b31",
   "metadata": {},
   "outputs": [
    {
     "data": {
      "text/plain": [
       "[-9, 1, 2, -1, -2, -3]"
      ]
     },
     "execution_count": 22,
     "metadata": {},
     "output_type": "execute_result"
    }
   ],
   "source": [
    "list1 = [1,2,3,4,5]\n",
    "list2 = []\n",
    "for i in range(len(list1)):\n",
    "    if (i==list1[0]):\n",
    "        list2.append(i)\n",
    "    if (i==1):\n",
    "        list2.append(list1[i]*list1[i-1])\n",
    "    else:\n",
    "        list2.append(list1[i]-2*list1[i-1])\n",
    "list2"
   ]
  },
  {
   "cell_type": "markdown",
   "id": "e0ef16a9",
   "metadata": {},
   "source": [
    "19. Write a Python program that takes a list of integers as input and returns a new list containing only the prime numbers in the original list."
   ]
  },
  {
   "cell_type": "code",
   "execution_count": 3,
   "id": "5d0f79ac",
   "metadata": {},
   "outputs": [
    {
     "data": {
      "text/plain": [
       "[2, 3, 5, 7]"
      ]
     },
     "execution_count": 3,
     "metadata": {},
     "output_type": "execute_result"
    }
   ],
   "source": [
    "list1 = [1,2,3,4,5,6,7,8,9]\n",
    "new = []\n",
    "for i in list1:\n",
    "    if i==0 or i==1:\n",
    "        continue\n",
    "    for j in range(2,i // 2 + 1):\n",
    "        if (i%j==0):\n",
    "            break\n",
    "    else:\n",
    "        new.append(i)\n",
    "new"
   ]
  },
  {
   "cell_type": "markdown",
   "id": "9f3048ec",
   "metadata": {},
   "source": [
    "20. Write a Python program that takes a list of strings as input and returns a new list containing only the strings that are in all uppercase letters."
   ]
  },
  {
   "cell_type": "code",
   "execution_count": 1,
   "id": "13888391",
   "metadata": {},
   "outputs": [
    {
     "data": {
      "text/plain": [
       "['GUYS', 'VK']"
      ]
     },
     "execution_count": 1,
     "metadata": {},
     "output_type": "execute_result"
    }
   ],
   "source": [
    "list1=['hello','GUYS','myself','VK']\n",
    "new=[]\n",
    "for i in list1:\n",
    "    if i.isupper():\n",
    "        new.append(i)\n",
    "new"
   ]
  },
  {
   "cell_type": "markdown",
   "id": "a635bf2e",
   "metadata": {},
   "source": [
    "21. Write a Python program that takes a list of integers as input and returns a new list containing only the numbers that are less than 10 and odd."
   ]
  },
  {
   "cell_type": "code",
   "execution_count": 2,
   "id": "7b1e0dd5",
   "metadata": {},
   "outputs": [
    {
     "data": {
      "text/plain": [
       "[3, 7, 9]"
      ]
     },
     "execution_count": 2,
     "metadata": {},
     "output_type": "execute_result"
    }
   ],
   "source": [
    "list1=[12,25,3,48,85,6,7,8,9,10]\n",
    "new=[]\n",
    "for i in list1:\n",
    "    if i<10 and i%2!=0:\n",
    "        new.append(i)\n",
    "new"
   ]
  },
  {
   "cell_type": "markdown",
   "id": "3d48ad9e",
   "metadata": {},
   "source": [
    "22. Write a Python function that takes a list of integers as input and returns the index of the first occurrence of the number 5 in the list."
   ]
  },
  {
   "cell_type": "code",
   "execution_count": 7,
   "id": "3ec483fa",
   "metadata": {},
   "outputs": [
    {
     "name": "stdout",
     "output_type": "stream",
     "text": [
      "2\n"
     ]
    }
   ],
   "source": [
    "l=[1,2,5,8,3,5,9,8,5,8,5]\n",
    "flag=False\n",
    "for i in l:\n",
    "    if i==5:\n",
    "        flag=True\n",
    "        t=i\n",
    "print(l.index(t))"
   ]
  },
  {
   "cell_type": "markdown",
   "id": "0c4c6006",
   "metadata": {},
   "source": [
    "23. Write a Python program that takes a list of strings as input and returns a new list containing only the strings that are composed entirely of uppercase letters."
   ]
  },
  {
   "cell_type": "code",
   "execution_count": 8,
   "id": "7f3da30a",
   "metadata": {},
   "outputs": [
    {
     "data": {
      "text/plain": [
       "['GUYS', 'VK']"
      ]
     },
     "execution_count": 8,
     "metadata": {},
     "output_type": "execute_result"
    }
   ],
   "source": [
    "l=['hello','GUYS','myself','VK']\n",
    "new=[]\n",
    "for i in l:\n",
    "    if i.isupper():\n",
    "        new.append(i)\n",
    "new"
   ]
  },
  {
   "cell_type": "markdown",
   "id": "84279062",
   "metadata": {},
   "source": [
    "24. Write a Python program that takes a list of integers as input and returns a new list containing only the numbers that are divisible by both 2 and 3."
   ]
  },
  {
   "cell_type": "code",
   "execution_count": 15,
   "id": "ac02cb6f",
   "metadata": {},
   "outputs": [
    {
     "data": {
      "text/plain": [
       "[12, 48, 6]"
      ]
     },
     "execution_count": 15,
     "metadata": {},
     "output_type": "execute_result"
    }
   ],
   "source": [
    "l=[12,25,3,48,85,6,7,8,9,10]\n",
    "new=[]\n",
    "for i in l:\n",
    "    if i%2==0 and i%3==0:\n",
    "        new.append(i)\n",
    "new"
   ]
  },
  {
   "cell_type": "markdown",
   "id": "049c3750",
   "metadata": {},
   "source": [
    "25. Write a Python function that takes a list of integers as input and returns a new list containing the unique elements in the list, sorted in descending order."
   ]
  },
  {
   "cell_type": "code",
   "execution_count": 19,
   "id": "fdfc8322",
   "metadata": {},
   "outputs": [
    {
     "data": {
      "text/plain": [
       "[]"
      ]
     },
     "execution_count": 19,
     "metadata": {},
     "output_type": "execute_result"
    }
   ],
   "source": [
    "l=[1,2,3,5,8,1,5,9,10,34,65]\n",
    "new=[]\n",
    "for i in l:\n",
    "    if i not in l:\n",
    "        new.append(i)\n",
    "new"
   ]
  },
  {
   "cell_type": "markdown",
   "id": "3a8de97f",
   "metadata": {},
   "source": [
    "26. Write a Python program that takes two lists of integers as input and returns a new list containing the elements that are in the first list and the second list, but not in both."
   ]
  },
  {
   "cell_type": "code",
   "execution_count": 30,
   "id": "7162eba9",
   "metadata": {},
   "outputs": [
    {
     "name": "stdout",
     "output_type": "stream",
     "text": [
      "[1, 2, 5, 6]\n"
     ]
    }
   ],
   "source": [
    "l1 = [1,2,3,4,5,6]\n",
    "l2 = [3,4,7,8,9]\n",
    "new=[]\n",
    "for i in l1:\n",
    "    if i not in l2:\n",
    "        new.append(i)\n",
    "for j in l2:\n",
    "    if j not in l2:\n",
    "        new.append(j)\n",
    "print(new)"
   ]
  },
  {
   "cell_type": "markdown",
   "id": "34434b06",
   "metadata": {},
   "source": [
    "27. Write a Python program that takes a list of strings as input and returns a new list containing only the strings that have a length of 3 or more and end with the letter 'y'."
   ]
  },
  {
   "cell_type": "code",
   "execution_count": 32,
   "id": "2624c8e9",
   "metadata": {},
   "outputs": [
    {
     "data": {
      "text/plain": [
       "['gully', 'any']"
      ]
     },
     "execution_count": 32,
     "metadata": {},
     "output_type": "execute_result"
    }
   ],
   "source": [
    "l=['hello','GUYS','myself','VK','gully','any']\n",
    "new=[]\n",
    "for i in l:\n",
    "    if (len(i)>=3) and (i.endswith('y')):\n",
    "        new.append(i)\n",
    "new"
   ]
  },
  {
   "cell_type": "markdown",
   "id": "7a4dc303",
   "metadata": {},
   "source": [
    "28. Write a Python function that takes a list of integers as input and returns a new list where each element is the product of the current element and the index of the current element in the original list."
   ]
  },
  {
   "cell_type": "code",
   "execution_count": 34,
   "id": "d7f9de18",
   "metadata": {},
   "outputs": [
    {
     "data": {
      "text/plain": [
       "[0, 4, 14, 24, 36]"
      ]
     },
     "execution_count": 34,
     "metadata": {},
     "output_type": "execute_result"
    }
   ],
   "source": [
    "l=[3,4,7,8,9]\n",
    "new=[]\n",
    "for i in l:\n",
    "    new.append(i*l.index(i))\n",
    "new"
   ]
  },
  {
   "cell_type": "markdown",
   "id": "8cd2690a",
   "metadata": {},
   "source": [
    "29. Write a Python program that takes a list of integers as input and returns a new list containing only the numbers that are prime and odd."
   ]
  },
  {
   "cell_type": "code",
   "execution_count": 36,
   "id": "28b342cc",
   "metadata": {},
   "outputs": [
    {
     "data": {
      "text/plain": [
       "[1, 3, 5, 1, 5, 9, 65]"
      ]
     },
     "execution_count": 36,
     "metadata": {},
     "output_type": "execute_result"
    }
   ],
   "source": [
    "l=[1,2,3,5,8,1,5,9,10,34,65]\n",
    "new=[]\n",
    "for i in l:\n",
    "    if i==0 and i==1:\n",
    "        continue\n",
    "    elif j in range(2,i//2+1):\n",
    "        if i%j==0:\n",
    "            break\n",
    "for i in l:\n",
    "    if i%2!=0:\n",
    "        new.append(i)\n",
    "new"
   ]
  },
  {
   "cell_type": "markdown",
   "id": "59694dee",
   "metadata": {},
   "source": [
    "30. Write a Python program that takes a list of strings as input and returns a new list containing only the strings that are composed entirely of lowercase letters and have a length of 4 or more."
   ]
  },
  {
   "cell_type": "code",
   "execution_count": 37,
   "id": "9b47bfa7",
   "metadata": {},
   "outputs": [
    {
     "data": {
      "text/plain": [
       "['hello', 'myself', 'gully']"
      ]
     },
     "execution_count": 37,
     "metadata": {},
     "output_type": "execute_result"
    }
   ],
   "source": [
    "l=['hello','GUYS','myself','VK','gully','any']\n",
    "new=[]\n",
    "for i in l:\n",
    "    if i.islower() and (len(i)>=4):\n",
    "        new.append(i)\n",
    "new"
   ]
  },
  {
   "cell_type": "markdown",
   "id": "503711c7",
   "metadata": {},
   "source": [
    "31. Write a Python program that takes a list of integers as input and returns a new list containing only the numbers that are perfect cubes."
   ]
  },
  {
   "cell_type": "code",
   "execution_count": 38,
   "id": "af5ef0a3",
   "metadata": {},
   "outputs": [
    {
     "ename": "SyntaxError",
     "evalue": "expected ':' (2109374631.py, line 3)",
     "output_type": "error",
     "traceback": [
      "\u001b[1;36m  Cell \u001b[1;32mIn[38], line 3\u001b[1;36m\u001b[0m\n\u001b[1;33m    if i\u001b[0m\n\u001b[1;37m        ^\u001b[0m\n\u001b[1;31mSyntaxError\u001b[0m\u001b[1;31m:\u001b[0m expected ':'\n"
     ]
    }
   ],
   "source": [
    "l=[1,2,3,5,8,1,5,9,10,34,65]\n",
    "for i in l:\n",
    "    if i"
   ]
  },
  {
   "cell_type": "markdown",
   "id": "90517872",
   "metadata": {},
   "source": [
    "32. Write a Python function that takes a list of integers as input and returns the sum of all the numbers that are divisible by either 3 or 5 in the list."
   ]
  },
  {
   "cell_type": "code",
   "execution_count": 41,
   "id": "80843b0b",
   "metadata": {},
   "outputs": [
    {
     "name": "stdout",
     "output_type": "stream",
     "text": [
      "sum of integers which are divisible by 3 and 5 = 175\n"
     ]
    }
   ],
   "source": [
    "l=[1,12,3,5,18,1,5,9,10,34,65,48]\n",
    "total=0\n",
    "for i in l:\n",
    "    if i%3==0 or i%5==0:\n",
    "        total=total+i\n",
    "print('sum of integers which are divisible by 3 and 5 =',total)"
   ]
  },
  {
   "cell_type": "markdown",
   "id": "ed2277b0",
   "metadata": {},
   "source": [
    "33. Write a Python program that takes a list of strings as input and returns a new list containing only the strings that are anagrams of each other."
   ]
  },
  {
   "cell_type": "code",
   "execution_count": 42,
   "id": "446db1c1",
   "metadata": {},
   "outputs": [],
   "source": [
    "l=['hello','GUYS','myself','VK','gully','any']\n",
    "new=[]\n"
   ]
  },
  {
   "cell_type": "markdown",
   "id": "315b8813",
   "metadata": {},
   "source": [
    "34. Write a Python program that takes a list of integers as input and returns a new list containing only the numbers that are even or multiples of 3."
   ]
  },
  {
   "cell_type": "code",
   "execution_count": 43,
   "id": "5bc51818",
   "metadata": {},
   "outputs": [
    {
     "data": {
      "text/plain": [
       "[12, 3, 18, 9, 10, 34, 48]"
      ]
     },
     "execution_count": 43,
     "metadata": {},
     "output_type": "execute_result"
    }
   ],
   "source": [
    "l=[1,12,3,5,18,1,5,9,10,34,65,48]\n",
    "new=[]\n",
    "for i in l:\n",
    "    if i%2==0 or i%3==0:\n",
    "        new.append(i)\n",
    "new"
   ]
  },
  {
   "cell_type": "markdown",
   "id": "2f1e109b",
   "metadata": {},
   "source": [
    "35. Write a Python function that takes a list of integers as input and returns a new list containing the unique elements in the list, sorted in ascending order."
   ]
  },
  {
   "cell_type": "code",
   "execution_count": 47,
   "id": "f987fa12",
   "metadata": {},
   "outputs": [
    {
     "data": {
      "text/plain": [
       "[1, 3, 5, 9, 10, 12, 18, 34, 48, 65]"
      ]
     },
     "execution_count": 47,
     "metadata": {},
     "output_type": "execute_result"
    }
   ],
   "source": [
    "l=[1,12,3,5,18,1,5,9,10,34,65,48]\n",
    "new=[]\n",
    "for i in l:\n",
    "    if i not in new:\n",
    "        new.append(i)\n",
    "new.sort()\n",
    "new"
   ]
  },
  {
   "cell_type": "markdown",
   "id": "d34b8109",
   "metadata": {},
   "source": [
    "36. Write a Python program that takes two lists of integers as input and returns a new list containing the elements that are in the first list and not in the second list."
   ]
  },
  {
   "cell_type": "code",
   "execution_count": 48,
   "id": "cca1e452",
   "metadata": {},
   "outputs": [
    {
     "data": {
      "text/plain": [
       "[1, 2, 5, 6]"
      ]
     },
     "execution_count": 48,
     "metadata": {},
     "output_type": "execute_result"
    }
   ],
   "source": [
    "l1 = [1,2,3,4,5,6]\n",
    "l2 = [3,4,7,8,9]\n",
    "new=[]\n",
    "for i in l1:\n",
    "    if i not in l2:\n",
    "        new.append(i)\n",
    "new"
   ]
  },
  {
   "cell_type": "markdown",
   "id": "0e7ecf85",
   "metadata": {},
   "source": [
    "37. Write a Python program that takes a list of strings as input and returns a new list containing only the strings that start with the letter 'A' or 'a'."
   ]
  },
  {
   "cell_type": "code",
   "execution_count": 51,
   "id": "aefb1e93",
   "metadata": {},
   "outputs": [
    {
     "data": {
      "text/plain": [
       "['Apple', 'alpha', 'any']"
      ]
     },
     "execution_count": 51,
     "metadata": {},
     "output_type": "execute_result"
    }
   ],
   "source": [
    "l=['Apple','hello','GUYS','alpha','Myself','VK','gully','any']\n",
    "new=[]\n",
    "for i in l:\n",
    "    if i.startswith('A') or i.startswith('a'):\n",
    "        new.append(i)\n",
    "new"
   ]
  },
  {
   "cell_type": "markdown",
   "id": "2c36bd78",
   "metadata": {},
   "source": [
    "38. Write a Python function that takes a list of integers as input and returns a new list where each element is the difference between the current element and the previous element in the original list."
   ]
  },
  {
   "cell_type": "code",
   "execution_count": 52,
   "id": "e4552272",
   "metadata": {},
   "outputs": [
    {
     "ename": "SyntaxError",
     "evalue": "incomplete input (156772460.py, line 4)",
     "output_type": "error",
     "traceback": [
      "\u001b[1;36m  Cell \u001b[1;32mIn[52], line 4\u001b[1;36m\u001b[0m\n\u001b[1;33m    \u001b[0m\n\u001b[1;37m    ^\u001b[0m\n\u001b[1;31mSyntaxError\u001b[0m\u001b[1;31m:\u001b[0m incomplete input\n"
     ]
    }
   ],
   "source": [
    "l=[1,12,3,5,18,1,5,9,10,34,65,48]\n",
    "new=[]\n",
    "for i in l:\n",
    "    "
   ]
  },
  {
   "cell_type": "markdown",
   "id": "53febe43",
   "metadata": {},
   "source": [
    "39. Write a Python program that takes a list of integers as input and returns a new list containing only the numbers that are prime and greater than 10."
   ]
  },
  {
   "cell_type": "code",
   "execution_count": 60,
   "id": "b5b92a4b",
   "metadata": {},
   "outputs": [
    {
     "data": {
      "text/plain": [
       "[13, 17]"
      ]
     },
     "execution_count": 60,
     "metadata": {},
     "output_type": "execute_result"
    }
   ],
   "source": [
    "l=[1,12,13,5,18,1,5,9,10,17,34,48]\n",
    "new=[]\n",
    "new2=[]\n",
    "for i in l:\n",
    "    if i==0 and i==1:\n",
    "        continue\n",
    "    elif j in range(2,i//2+1):\n",
    "        if i%j==0:\n",
    "            break\n",
    "for i in l:\n",
    "    if i%2!=0:\n",
    "        new.append(i)\n",
    "for i in new:\n",
    "    if i>10:\n",
    "        new2.append(i)\n",
    "new2"
   ]
  },
  {
   "cell_type": "markdown",
   "id": "01cf0b70",
   "metadata": {},
   "source": [
    "40. Write a Python program that takes a list of strings as input and returns a new list containing only the strings that contain both uppercase and lowercase letters."
   ]
  },
  {
   "cell_type": "code",
   "execution_count": 66,
   "id": "aefb4479",
   "metadata": {},
   "outputs": [
    {
     "data": {
      "text/plain": [
       "[]"
      ]
     },
     "execution_count": 66,
     "metadata": {},
     "output_type": "execute_result"
    }
   ],
   "source": [
    "l=['Apple','hello','any','GUYS','alpha','Myself','VK','gully']\n",
    "new=[]\n",
    "for i in l:\n",
    "    if (i==i.lower() and i==i.upper()):\n",
    "        new.append(i)\n",
    "new"
   ]
  },
  {
   "cell_type": "markdown",
   "id": "082cc222",
   "metadata": {},
   "source": [
    "41. Write a Python program that takes a list of integers as input and returns a new list containing only the numbers that are perfect squares and even."
   ]
  },
  {
   "cell_type": "code",
   "execution_count": null,
   "id": "4d4544fb",
   "metadata": {},
   "outputs": [],
   "source": []
  },
  {
   "cell_type": "markdown",
   "id": "90f9ede8",
   "metadata": {},
   "source": [
    "42. Write a Python function that takes a list of integers as input and returns the number of times the number 7 appears in the list."
   ]
  },
  {
   "cell_type": "code",
   "execution_count": 3,
   "id": "12ed04ce",
   "metadata": {},
   "outputs": [
    {
     "name": "stdout",
     "output_type": "stream",
     "text": [
      "enter integer to search in list = 7\n"
     ]
    },
    {
     "data": {
      "text/plain": [
       "3"
      ]
     },
     "execution_count": 3,
     "metadata": {},
     "output_type": "execute_result"
    }
   ],
   "source": [
    "l=[1,12,7,13,5,18,1,5,7,9,10,17,34,7,48]\n",
    "c=0\n",
    "n=int(input('enter integer to search in list = '))\n",
    "for i in l:\n",
    "    if i==n:\n",
    "        c+=1\n",
    "c"
   ]
  },
  {
   "cell_type": "markdown",
   "id": "eb7f7d08",
   "metadata": {},
   "source": [
    "43. Write a Python program that takes a list of strings as input and returns a new list containing only the strings that have at least two consecutive vowels."
   ]
  },
  {
   "cell_type": "code",
   "execution_count": null,
   "id": "61ea4ced",
   "metadata": {},
   "outputs": [],
   "source": []
  }
 ],
 "metadata": {
  "kernelspec": {
   "display_name": "Python 3 (ipykernel)",
   "language": "python",
   "name": "python3"
  },
  "language_info": {
   "codemirror_mode": {
    "name": "ipython",
    "version": 3
   },
   "file_extension": ".py",
   "mimetype": "text/x-python",
   "name": "python",
   "nbconvert_exporter": "python",
   "pygments_lexer": "ipython3",
   "version": "3.11.2"
  }
 },
 "nbformat": 4,
 "nbformat_minor": 5
}
