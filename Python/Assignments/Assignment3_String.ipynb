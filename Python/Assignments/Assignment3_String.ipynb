{
 "cells": [
  {
   "cell_type": "markdown",
   "id": "eda0dcd7",
   "metadata": {},
   "source": [
    "1A. Create a string made of the first, middle and last character"
   ]
  },
  {
   "cell_type": "code",
   "execution_count": 8,
   "id": "a9008b99",
   "metadata": {},
   "outputs": [
    {
     "name": "stdout",
     "output_type": "stream",
     "text": [
      "enter string = hello\n",
      "hlo\n"
     ]
    }
   ],
   "source": [
    "s=input('enter string = ')\n",
    "print(s[0],end='')\n",
    "print(s[int(len(str)/2)],end='')\n",
    "print(s[-1])"
   ]
  },
  {
   "cell_type": "markdown",
   "id": "f0841d02",
   "metadata": {},
   "source": [
    "1B. Create a string made of the middle three characters"
   ]
  },
  {
   "cell_type": "code",
   "execution_count": 3,
   "id": "ff9a60ab",
   "metadata": {},
   "outputs": [
    {
     "name": "stdout",
     "output_type": "stream",
     "text": [
      "enter word = hello\n",
      "ell\n"
     ]
    }
   ],
   "source": [
    "s=input('enter word = ')\n",
    "mid=len(s)//2\n",
    "ss=s[mid-1:mid+2]\n",
    "print(ss)"
   ]
  },
  {
   "cell_type": "markdown",
   "id": "2535f7fc",
   "metadata": {},
   "source": [
    "2. Append new string in the middle of a given string"
   ]
  },
  {
   "cell_type": "code",
   "execution_count": 2,
   "id": "83b2d77c",
   "metadata": {},
   "outputs": [
    {
     "name": "stdout",
     "output_type": "stream",
     "text": [
      "enter string 1 = vaibhav\n",
      "enter string 2 = khandekar\n",
      "vaikhandekarbhav\n"
     ]
    }
   ],
   "source": [
    "s1=input('enter string 1 = ')\n",
    "s2=input('enter string 2 = ')\n",
    "\n",
    "mid=int(len(s1)//2)\n",
    "s3=s1[:mid]+s2+s1[mid:]\n",
    "print(s3)"
   ]
  },
  {
   "cell_type": "markdown",
   "id": "9c88dca1",
   "metadata": {},
   "source": [
    "3. Create a new string made of the first, middle, and last characters of each input string"
   ]
  },
  {
   "cell_type": "code",
   "execution_count": 8,
   "id": "349affb4",
   "metadata": {},
   "outputs": [
    {
     "name": "stdout",
     "output_type": "stream",
     "text": [
      "enter word 1 = vaibhav\n",
      "enter word 2 = khandekar\n",
      "vkbdvr\n"
     ]
    }
   ],
   "source": [
    "s1=input('enter word 1 = ')\n",
    "s2=input('enter word 2 = ')\n",
    "first=s1[0]+s2[0]\n",
    "mid=s1[int(len(s1)/2)]+s2[int(len(s2)/2)]\n",
    "last=s1[-1]+s2[-1]\n",
    "s3=first+mid+last\n",
    "print(s3)"
   ]
  },
  {
   "cell_type": "markdown",
   "id": "8fae972e",
   "metadata": {},
   "source": [
    "4. Arrange string characters such that lowercase letters should come first"
   ]
  },
  {
   "cell_type": "code",
   "execution_count": 13,
   "id": "1d878557",
   "metadata": {},
   "outputs": [
    {
     "name": "stdout",
     "output_type": "stream",
     "text": [
      "enter string = VaibhaVkhaNDEkaR\n",
      "aibhakhakaVVNDER\n"
     ]
    }
   ],
   "source": [
    "s1=input('enter string = ')\n",
    "s2=''\n",
    "s3=''\n",
    "for i in s1:\n",
    "    if i.islower():\n",
    "        s2+=i\n",
    "    else:\n",
    "        s3+=i\n",
    "s2=s2+s3\n",
    "print(s2)"
   ]
  },
  {
   "cell_type": "markdown",
   "id": "d6080e35",
   "metadata": {},
   "source": [
    "5. Count all letters, digits, and special symbols from a given string"
   ]
  },
  {
   "cell_type": "code",
   "execution_count": 15,
   "id": "15af3b28",
   "metadata": {},
   "outputs": [
    {
     "name": "stdout",
     "output_type": "stream",
     "text": [
      "enter email = vaibhavkhandekar69@gmail.com\n",
      "Letters =  24 digits =  2 special symbols =  2\n"
     ]
    }
   ],
   "source": [
    "l=0\n",
    "d=0\n",
    "ss=0\n",
    "s=input('enter email = ')\n",
    "for i in s:\n",
    "    if i.isalpha():\n",
    "        l+=1\n",
    "    elif i.isdigit():\n",
    "        d+=1\n",
    "    else:\n",
    "        ss+=1\n",
    "print(\"Letters = \",l,\"digits = \",d,\"special symbols = \",ss)"
   ]
  },
  {
   "cell_type": "markdown",
   "id": "d8badedf",
   "metadata": {},
   "source": [
    "6. Create a mixed String using the following rules\n",
    "\n",
    "Given two strings, s1 and s2. Write a program to create a new string s3 made\n",
    "of the first char of s1, then the last char of s2, Next, the second char of s1 and\n",
    "second last char of s2, and so on. Any leftover chars go at the end of the\n",
    "result."
   ]
  },
  {
   "cell_type": "code",
   "execution_count": 17,
   "id": "0865204a",
   "metadata": {},
   "outputs": [
    {
     "name": "stdout",
     "output_type": "stream",
     "text": [
      "enter word 1 = Abc\n",
      "enter word 2 = Xyz\n",
      "AzbycX\n"
     ]
    }
   ],
   "source": [
    "s1=input('enter word 1 = ')\n",
    "s2=input('enter word 2 = ')\n",
    "first=s1[0]+s2[-1]\n",
    "mid=s1[int(len(s1)/2)]+s2[int(len(s2)/2)]\n",
    "last=s1[-1]+s2[0]\n",
    "s3=first+mid+last\n",
    "print(s3)"
   ]
  },
  {
   "cell_type": "markdown",
   "id": "f872e111",
   "metadata": {},
   "source": [
    "7. String characters balance Test"
   ]
  },
  {
   "cell_type": "code",
   "execution_count": 19,
   "id": "7ccd74d7",
   "metadata": {},
   "outputs": [
    {
     "name": "stdout",
     "output_type": "stream",
     "text": [
      "enter string 1 = py\n",
      "enter string 2 = python\n",
      "True\n"
     ]
    }
   ],
   "source": [
    "s1=input('enter string 1 = ')\n",
    "s2=input('enter string 2 = ')\n",
    "f=True\n",
    "for i in s1:\n",
    "    if i in s2:\n",
    "        continue\n",
    "    else:\n",
    "        f=False\n",
    "if f==True:\n",
    "    print(f)\n",
    "else:\n",
    "    print(f)"
   ]
  },
  {
   "cell_type": "markdown",
   "id": "92ac54ec",
   "metadata": {},
   "source": [
    "8. Find all occurrences of a substring in a given string by ignoring the case"
   ]
  },
  {
   "cell_type": "code",
   "execution_count": 21,
   "id": "a48c3e88",
   "metadata": {},
   "outputs": [
    {
     "name": "stdout",
     "output_type": "stream",
     "text": [
      "enter string = welcome to USA usa is awesome isn't it?\n",
      "enter sub-string to search = usa\n",
      "2\n"
     ]
    }
   ],
   "source": [
    "s1=input('enter string = ')\n",
    "s2=input('enter sub-string to search = ')\n",
    "s1=s1.lower()\n",
    "count=s1.count(s2)\n",
    "print(count)"
   ]
  },
  {
   "cell_type": "markdown",
   "id": "ab775312",
   "metadata": {},
   "source": [
    "9. Calculate the sum and average of the digits present in a string"
   ]
  },
  {
   "cell_type": "code",
   "execution_count": 24,
   "id": "da42f0b5",
   "metadata": {},
   "outputs": [
    {
     "name": "stdout",
     "output_type": "stream",
     "text": [
      "enter string = vaibhavkhandekar1801\n",
      "sum = 10 average =  2.5\n"
     ]
    }
   ],
   "source": [
    "s=input('enter string = ')\n",
    "summ=0\n",
    "count=0\n",
    "for i in s:\n",
    "    if i.isdigit():\n",
    "        summ=summ+int(i)\n",
    "        count+=1\n",
    "print(\"sum =\",summ,\"average = \",summ/count)"
   ]
  },
  {
   "cell_type": "markdown",
   "id": "03b13e4b",
   "metadata": {},
   "source": [
    "10. Write a program to count occurrences of all characters within a string"
   ]
  },
  {
   "cell_type": "code",
   "execution_count": 28,
   "id": "4a1f88f4",
   "metadata": {},
   "outputs": [
    {
     "name": "stdout",
     "output_type": "stream",
     "text": [
      "enter string = vaibhav\n",
      "{'v': 2, 'a': 2, 'i': 1, 'b': 1, 'h': 1}\n"
     ]
    }
   ],
   "source": [
    "s=input('enter string = ')\n",
    "count=0\n",
    "dic=dict()\n",
    "for i in s:\n",
    "    count = s.count(i)\n",
    "    dic[i]=count\n",
    "print(dic)"
   ]
  },
  {
   "cell_type": "markdown",
   "id": "5f89897c",
   "metadata": {},
   "source": [
    "11. Reverse a given string"
   ]
  },
  {
   "cell_type": "code",
   "execution_count": 29,
   "id": "232a2060",
   "metadata": {},
   "outputs": [
    {
     "name": "stdout",
     "output_type": "stream",
     "text": [
      "enter string = hello guys\n",
      "syug olleh\n"
     ]
    }
   ],
   "source": [
    "s=input('enter string = ')\n",
    "print(s[::-1])"
   ]
  },
  {
   "cell_type": "markdown",
   "id": "8c3ca612",
   "metadata": {},
   "source": [
    "12. Find the last position of a given substring"
   ]
  },
  {
   "cell_type": "code",
   "execution_count": 32,
   "id": "18402915",
   "metadata": {},
   "outputs": [
    {
     "name": "stdout",
     "output_type": "stream",
     "text": [
      "enter string = vaibhav is pursing pg-dbda, vaibhav stays in mumbai\n",
      "enter substring to search = vaibhav\n"
     ]
    },
    {
     "data": {
      "text/plain": [
       "28"
      ]
     },
     "execution_count": 32,
     "metadata": {},
     "output_type": "execute_result"
    }
   ],
   "source": [
    "s1=input('enter string = ')\n",
    "s2=input('enter substring to search = ')\n",
    "s1.rfind(s2)"
   ]
  },
  {
   "cell_type": "markdown",
   "id": "d42257be",
   "metadata": {},
   "source": [
    "13. Split a string on hyphens"
   ]
  },
  {
   "cell_type": "code",
   "execution_count": 39,
   "id": "77ff6bc7",
   "metadata": {},
   "outputs": [
    {
     "name": "stdout",
     "output_type": "stream",
     "text": [
      "enter string = hello-guys-myself-vaibhav-khandekar\n",
      "hello\n",
      "guys\n",
      "myself\n",
      "vaibhav\n",
      "khandekar\n"
     ]
    }
   ],
   "source": [
    "s1=input('enter string = ')\n",
    "s2=s1.split('-')\n",
    "for i in s2:\n",
    "    print(i)"
   ]
  },
  {
   "cell_type": "markdown",
   "id": "48329f64",
   "metadata": {},
   "source": [
    "14. Remove empty strings from a list of strings"
   ]
  },
  {
   "cell_type": "code",
   "execution_count": 41,
   "id": "3ef86e46",
   "metadata": {},
   "outputs": [
    {
     "name": "stdout",
     "output_type": "stream",
     "text": [
      "['Emma', 'Jon', 'Kelly', 'Eric']\n"
     ]
    }
   ],
   "source": [
    "l1=[\"Emma\",\"Jon\",\"\",\"Kelly\",None,\"Eric\",\"\"]\n",
    "l2=[]\n",
    "for i in l1:\n",
    "    if i!='' and i!=None:\n",
    "        l2.append(i)\n",
    "print(l2)"
   ]
  },
  {
   "cell_type": "markdown",
   "id": "60d47173",
   "metadata": {},
   "source": [
    "15. Remove special symbols / punctuation from a string"
   ]
  },
  {
   "cell_type": "code",
   "execution_count": 44,
   "id": "75043bc1",
   "metadata": {},
   "outputs": [
    {
     "name": "stdout",
     "output_type": "stream",
     "text": [
      "enter string = vaibhavkhandekar69@gmail.com\n"
     ]
    },
    {
     "data": {
      "text/plain": [
       "'vaibhavkhandekar69gmailcom'"
      ]
     },
     "execution_count": 44,
     "metadata": {},
     "output_type": "execute_result"
    }
   ],
   "source": [
    "s1=input('enter string = ')\n",
    "s2=''\n",
    "for i in s1:\n",
    "    if i.isalpha():\n",
    "        s2=s2+(i)\n",
    "    elif i.isdigit():\n",
    "        s2=s2+(i)\n",
    "s2"
   ]
  },
  {
   "cell_type": "markdown",
   "id": "9231a507",
   "metadata": {},
   "source": [
    "16. Removal all characters from a string except integers"
   ]
  },
  {
   "cell_type": "code",
   "execution_count": 45,
   "id": "7319bbf8",
   "metadata": {},
   "outputs": [
    {
     "name": "stdout",
     "output_type": "stream",
     "text": [
      "enter string = vaibhavkhandekar1801@gmail.com\n"
     ]
    },
    {
     "data": {
      "text/plain": [
       "'1801'"
      ]
     },
     "execution_count": 45,
     "metadata": {},
     "output_type": "execute_result"
    }
   ],
   "source": [
    "s1=input('enter string = ')\n",
    "s2=''\n",
    "for i in s1:\n",
    "    if i.isalpha():\n",
    "        continue\n",
    "    elif i.isdigit():\n",
    "        s2=s2+(i)\n",
    "s2"
   ]
  },
  {
   "cell_type": "markdown",
   "id": "1ce07688",
   "metadata": {},
   "source": [
    "17. Find words with both alphabets and numbers"
   ]
  },
  {
   "cell_type": "code",
   "execution_count": 51,
   "id": "a3a70780",
   "metadata": {},
   "outputs": [
    {
     "name": "stdout",
     "output_type": "stream",
     "text": [
      "enter string = vaibhav69 vmk alphavk\n"
     ]
    },
    {
     "data": {
      "text/plain": [
       "'vaibhav69'"
      ]
     },
     "execution_count": 51,
     "metadata": {},
     "output_type": "execute_result"
    }
   ],
   "source": [
    "s1=input('enter string = ')\n",
    "s2=''\n",
    "for i in s1.split():\n",
    "    for j in i:\n",
    "        if j.isdigit():\n",
    "            s2=s2+i\n",
    "            break\n",
    "s2"
   ]
  },
  {
   "cell_type": "markdown",
   "id": "cf8d2fb4",
   "metadata": {},
   "source": [
    "18. Replace each special symbol with # in the following string"
   ]
  },
  {
   "cell_type": "code",
   "execution_count": 52,
   "id": "919670e5",
   "metadata": {},
   "outputs": [
    {
     "name": "stdout",
     "output_type": "stream",
     "text": [
      "enter string = /*Jon is @developer & musician!!\n"
     ]
    },
    {
     "data": {
      "text/plain": [
       "'##Jon#is##developer###musician##'"
      ]
     },
     "execution_count": 52,
     "metadata": {},
     "output_type": "execute_result"
    }
   ],
   "source": [
    "s1=input('enter string = ')\n",
    "s2=''\n",
    "for i in s1:\n",
    "    if i.isalnum():\n",
    "        s2+=i\n",
    "    else:\n",
    "        s2+=('#')\n",
    "s2"
   ]
  }
 ],
 "metadata": {
  "kernelspec": {
   "display_name": "Python 3 (ipykernel)",
   "language": "python",
   "name": "python3"
  },
  "language_info": {
   "codemirror_mode": {
    "name": "ipython",
    "version": 3
   },
   "file_extension": ".py",
   "mimetype": "text/x-python",
   "name": "python",
   "nbconvert_exporter": "python",
   "pygments_lexer": "ipython3",
   "version": "3.11.2"
  }
 },
 "nbformat": 4,
 "nbformat_minor": 5
}
