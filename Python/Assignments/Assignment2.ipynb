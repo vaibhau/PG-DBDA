{
 "cells": [
  {
   "cell_type": "markdown",
   "id": "b8e5d138",
   "metadata": {},
   "source": [
    "1. Check number is less than 10"
   ]
  },
  {
   "cell_type": "code",
   "execution_count": 2,
   "id": "d8d356e3",
   "metadata": {},
   "outputs": [
    {
     "name": "stdout",
     "output_type": "stream",
     "text": [
      "enter any number = 6\n",
      "6 is smaller than 10\n"
     ]
    }
   ],
   "source": [
    "n = int(input(\"enter any number = \"))\n",
    "if n > 10:\n",
    "    print(n,\"is greater than 10\")\n",
    "elif n<10:\n",
    "    print(n,\"is smaller than 10\")\n",
    "else:\n",
    "    print(n,\"is equals to 10\")"
   ]
  },
  {
   "cell_type": "markdown",
   "id": "1689a6fc",
   "metadata": {},
   "source": [
    "2.  Check numbers are equivalent"
   ]
  },
  {
   "cell_type": "code",
   "execution_count": 4,
   "id": "d32b4c57",
   "metadata": {},
   "outputs": [
    {
     "name": "stdout",
     "output_type": "stream",
     "text": [
      "enter any number 1 = 56\n",
      "enter any number 2 = 56\n",
      "56 is equals to 56\n"
     ]
    }
   ],
   "source": [
    "n1 = int(input(\"enter any number 1 = \"))\n",
    "n2 = int(input(\"enter any number 2 = \"))\n",
    "if n1 == n2:\n",
    "    print(n1,\"is equals to\",n1)\n",
    "else:\n",
    "    print(n,\"is not equals to\",n2)"
   ]
  },
  {
   "cell_type": "markdown",
   "id": "1bb43167",
   "metadata": {},
   "source": [
    "3. check voting eligibility"
   ]
  },
  {
   "cell_type": "code",
   "execution_count": 7,
   "id": "27d7d653",
   "metadata": {},
   "outputs": [
    {
     "name": "stdout",
     "output_type": "stream",
     "text": [
      "enter age to check = 18\n",
      "you can apply for the voting\n"
     ]
    }
   ],
   "source": [
    "age = int(input(\"enter age to check = \"))\n",
    "if age < 18:\n",
    "    print(\"you are not eligible to vote\")\n",
    "else:\n",
    "    print(\"you can apply for the voting\")"
   ]
  },
  {
   "cell_type": "markdown",
   "id": "8d14199b",
   "metadata": {},
   "source": [
    "4. Check if number is even or odd"
   ]
  },
  {
   "cell_type": "code",
   "execution_count": 9,
   "id": "cdf69871",
   "metadata": {},
   "outputs": [
    {
     "name": "stdout",
     "output_type": "stream",
     "text": [
      "enter any number = 45\n",
      "45 is a odd number\n"
     ]
    }
   ],
   "source": [
    "n = int(input(\"enter any number = \"))\n",
    "if n%2==0:\n",
    "    print(n,\"is a even number\")\n",
    "else:\n",
    "    print(n,\"is a odd number\")"
   ]
  },
  {
   "cell_type": "markdown",
   "id": "6d086ca6",
   "metadata": {},
   "source": [
    "5. Enter three angles & check if it is a triangle"
   ]
  },
  {
   "cell_type": "code",
   "execution_count": 13,
   "id": "04dbb758",
   "metadata": {},
   "outputs": [
    {
     "name": "stdout",
     "output_type": "stream",
     "text": [
      "enter angle 1 = 30\n",
      "enter angle 2 = 60\n",
      "enter angle 3 = 90\n",
      "triangle is valid\n"
     ]
    }
   ],
   "source": [
    "angle1 = int(input(\"enter angle 1 = \"))\n",
    "angle2 = int(input(\"enter angle 2 = \"))\n",
    "angle3 = int(input(\"enter angle 3 = \"))\n",
    "sum = angle1 + angle2 + angle3\n",
    "if sum == 180 and angle1 > 0 and angle2 > 0 and angle3 > 0 :\n",
    "    print(\"triangle is valid\")\n",
    "else:\n",
    "    print(\"triangle is not valid\")"
   ]
  },
  {
   "cell_type": "markdown",
   "id": "fec24c52",
   "metadata": {},
   "source": [
    "6. Find total marks & percentage"
   ]
  },
  {
   "cell_type": "code",
   "execution_count": 6,
   "id": "bf9494b0",
   "metadata": {},
   "outputs": [
    {
     "name": "stdout",
     "output_type": "stream",
     "text": [
      "enter total number of subjects = 5\n",
      "enter marks for subject = 10\n",
      "enter marks for subject = 10\n",
      "enter marks for subject = 10\n",
      "enter marks for subject = 10\n",
      "enter marks for subject = 10\n",
      "total is 50\n",
      "average of marks is 10.0\n"
     ]
    }
   ],
   "source": [
    "n = int(input(\"enter total number of subjects = \"))\n",
    "total = 0\n",
    "for i in range(n):\n",
    "    i = int(input(\"enter marks for subject = \"))\n",
    "    total = total + i\n",
    "avg = total / n\n",
    "print(\"total is\",total)\n",
    "print(\"average of marks is\",avg)"
   ]
  },
  {
   "cell_type": "markdown",
   "id": "9ab9fefb",
   "metadata": {},
   "source": [
    "7. Check for leap year"
   ]
  },
  {
   "cell_type": "code",
   "execution_count": 11,
   "id": "d0a32a4e",
   "metadata": {},
   "outputs": [
    {
     "name": "stdout",
     "output_type": "stream",
     "text": [
      "enter any year = 2024\n",
      "2024 is a leap year\n"
     ]
    }
   ],
   "source": [
    "y = int(input(\"enter any year = \"))\n",
    "if y%4==0 and y%100!=0 or y%400==0:\n",
    "    print(y,\"is a leap year\")\n",
    "else:\n",
    "    print(y,\"is not a leap year\")"
   ]
  },
  {
   "cell_type": "markdown",
   "id": "43d95b72",
   "metadata": {},
   "source": [
    "8. Check number is positive, negativeve or zero"
   ]
  },
  {
   "cell_type": "code",
   "execution_count": 13,
   "id": "8de917d7",
   "metadata": {},
   "outputs": [
    {
     "name": "stdout",
     "output_type": "stream",
     "text": [
      "enter any number = 12\n",
      "12 is positive number\n"
     ]
    }
   ],
   "source": [
    "n = int(input(\"enter any number = \"))\n",
    "if n > 0:\n",
    "    print(n,\"is positive number\")\n",
    "elif n<10:\n",
    "    print(n,\"is negative number\")\n",
    "else:\n",
    "    print(n,\"is zero\")"
   ]
  },
  {
   "cell_type": "markdown",
   "id": "c049504c",
   "metadata": {},
   "source": [
    "9. Largest amongst three numbers"
   ]
  },
  {
   "cell_type": "code",
   "execution_count": 1,
   "id": "d9ecbd46",
   "metadata": {},
   "outputs": [
    {
     "name": "stdout",
     "output_type": "stream",
     "text": [
      "enter number 1 = 10\n",
      "enter number 2 = 13\n",
      "enter number 3 = 18\n",
      "18 is the largest number among three\n"
     ]
    }
   ],
   "source": [
    "n1 = int(input(\"enter number 1 = \"))\n",
    "n2 = int(input(\"enter number 2 = \"))\n",
    "n3 = int(input(\"enter number 3 = \"))\n",
    "if n1 > n2:\n",
    "    if n1 > n3:\n",
    "        print(n1,\"is the largest number among three\")\n",
    "    else:\n",
    "        print(n3,\"is the largest number among three\")\n",
    "elif n2 > n3:\n",
    "    print(n2,\"is the largest number among three\")\n",
    "else:\n",
    "    print(n3,\"is the largest number among three\")"
   ]
  },
  {
   "cell_type": "markdown",
   "id": "ba31ec61",
   "metadata": {},
   "source": [
    "10. Print grade of employee"
   ]
  },
  {
   "cell_type": "code",
   "execution_count": 15,
   "id": "5ac6f0b0",
   "metadata": {},
   "outputs": [
    {
     "name": "stdout",
     "output_type": "stream",
     "text": [
      "enter salary of the employee = 35000\n",
      "Team Leaders\n"
     ]
    }
   ],
   "source": [
    "s = float(input(\"enter salary of the employee = \"))\n",
    "if s>=50000:\n",
    "    print(\"Managers\")\n",
    "elif s>=30000:\n",
    "    print(\"Team Leaders\")\n",
    "elif s>=20000:\n",
    "    print(\"Trainee\")\n",
    "else:\n",
    "    print(\"Majdoor\")"
   ]
  },
  {
   "cell_type": "markdown",
   "id": "fb308d01",
   "metadata": {},
   "source": [
    "11. Print color name"
   ]
  },
  {
   "cell_type": "markdown",
   "id": "0113f95a",
   "metadata": {},
   "source": [
    "12. Print gross salary of employee"
   ]
  },
  {
   "cell_type": "code",
   "execution_count": 34,
   "id": "6b0398b9",
   "metadata": {},
   "outputs": [
    {
     "name": "stdout",
     "output_type": "stream",
     "text": [
      "print basic salary = 10000\n",
      "gross salary =  16000.0\n"
     ]
    }
   ],
   "source": [
    "basic = float(input(\"print basic salary = \"))\n",
    "da = (40*basic) / 100\n",
    "ta = (20*basic) / 100\n",
    "gross_salary = basic + da + ta\n",
    "print(\"gross salary = \",gross_salary)"
   ]
  },
  {
   "cell_type": "markdown",
   "id": "1016e4ef",
   "metadata": {},
   "source": [
    "13. Print division scored by student"
   ]
  },
  {
   "cell_type": "code",
   "execution_count": 12,
   "id": "fadfec8b",
   "metadata": {},
   "outputs": [
    {
     "name": "stdout",
     "output_type": "stream",
     "text": [
      "enter percentage = 67\n",
      "its first class\n"
     ]
    }
   ],
   "source": [
    "per = float(input(\"enter percentage = \"))\n",
    "if per>=60:\n",
    "    print(\"its first class\")\n",
    "elif per>=50:\n",
    "    print(\"its second class\")\n",
    "elif per>=40:\n",
    "    print(\"its third class\")\n",
    "else:\n",
    "    print(\"faild\")"
   ]
  },
  {
   "cell_type": "markdown",
   "id": "3b89e425",
   "metadata": {},
   "source": [
    "14. Find greatest among 3 numbers"
   ]
  },
  {
   "cell_type": "code",
   "execution_count": 14,
   "id": "7dbba31c",
   "metadata": {},
   "outputs": [
    {
     "name": "stdout",
     "output_type": "stream",
     "text": [
      "enter number 1 = 12\n",
      "enter number 2 = 24\n",
      "enter number 3 = 19\n",
      "24 is the greatest number among three\n"
     ]
    }
   ],
   "source": [
    "n1 = int(input(\"enter number 1 = \"))\n",
    "n2 = int(input(\"enter number 2 = \"))\n",
    "n3 = int(input(\"enter number 3 = \"))\n",
    "if n1 > n2:\n",
    "    if n1 > n3:\n",
    "        print(n1,\"is the greatest number among three\")\n",
    "    else:\n",
    "        print(n3,\"is the greatest number among three\")\n",
    "elif n2 > n3:\n",
    "    print(n2,\"is the greatest number among three\")\n",
    "else:\n",
    "    print(n3,\"is the greatest number among three\")"
   ]
  },
  {
   "cell_type": "markdown",
   "id": "5372b330",
   "metadata": {},
   "source": [
    "15. Check if student scored distinction"
   ]
  },
  {
   "cell_type": "code",
   "execution_count": 18,
   "id": "5c1f4147",
   "metadata": {},
   "outputs": [
    {
     "name": "stdout",
     "output_type": "stream",
     "text": [
      "enter percentage = 78.33\n",
      "its first class with distinction\n"
     ]
    }
   ],
   "source": [
    "per = float(input(\"enter percentage = \"))\n",
    "if per>=75:\n",
    "    print(\"its first class with distinction\")\n",
    "else:\n",
    "    print(\"its first class\")"
   ]
  },
  {
   "cell_type": "markdown",
   "id": "abb9d90b",
   "metadata": {},
   "source": [
    "16. Check type of triangle"
   ]
  },
  {
   "cell_type": "code",
   "execution_count": 1,
   "id": "52bccde0",
   "metadata": {},
   "outputs": [
    {
     "name": "stdout",
     "output_type": "stream",
     "text": [
      "enter side 1 = 12\n",
      "enter side 2 = 12\n",
      "enter side 3 = 12\n",
      "the triangle is equilateral\n"
     ]
    }
   ],
   "source": [
    "s1 = int(input(\"enter side 1 = \"))\n",
    "s2 = int(input(\"enter side 2 = \"))\n",
    "s3 = int(input(\"enter side 3 = \"))\n",
    "\n",
    "if s1 == s2 and s2 == s3 and s3 == s1:\n",
    "    print(\"the triangle is equilateral\")\n",
    "elif s1 == s2 or s2 == s3 or s3 == s1:\n",
    "    print(\"the triangle is isosceles\")\n",
    "else:\n",
    "    print(\"the triangle is scalene\")"
   ]
  },
  {
   "cell_type": "markdown",
   "id": "850908b9",
   "metadata": {},
   "source": [
    "17. Check sum of digit greater than 10"
   ]
  },
  {
   "cell_type": "code",
   "execution_count": 10,
   "id": "64d91e7d",
   "metadata": {},
   "outputs": [
    {
     "name": "stdout",
     "output_type": "stream",
     "text": [
      "enter number = 123\n",
      "sum of digits of 123 is not greater than 10\n"
     ]
    }
   ],
   "source": [
    "n = int(input(\"enter number = \"))\n",
    "tno=n\n",
    "sum=0\n",
    "while n>0:\n",
    "    d=n%10\n",
    "    n=n//10\n",
    "    sum=sum+d\n",
    "if sum > 10:\n",
    "    print(\"sum of digits of\",tno,\"is greater than 10\")\n",
    "else:\n",
    "    print(\"sum of digits of\",tno,\"is not greater than 10\")"
   ]
  },
  {
   "cell_type": "markdown",
   "id": "798b2407",
   "metadata": {},
   "source": [
    "18. Print single digit number in words"
   ]
  },
  {
   "cell_type": "code",
   "execution_count": 30,
   "id": "50fa46dc",
   "metadata": {
    "scrolled": true
   },
   "outputs": [
    {
     "name": "stdout",
     "output_type": "stream",
     "text": [
      "enter number = 4\n",
      "four\n"
     ]
    }
   ],
   "source": [
    "n = int(input(\"enter number = \"))\n",
    "if n==0:\n",
    "    print(\"zero\")\n",
    "elif n==1:\n",
    "    print(\"one\")\n",
    "elif n==2:\n",
    "    print(\"two\")\n",
    "elif n==3:\n",
    "    print(\"three\")\n",
    "elif n==4:\n",
    "    print(\"four\")\n",
    "elif n==5:\n",
    "    print(\"five\")\n",
    "elif n==6:\n",
    "    print(\"six\")\n",
    "elif n==7:\n",
    "    print(\"seven\")\n",
    "elif n==8:\n",
    "    print(\"eight\")\n",
    "elif n==9:\n",
    "    print(\"nine\")\n",
    "else:\n",
    "    print(\"the number is not a single digit number\")"
   ]
  },
  {
   "cell_type": "markdown",
   "id": "c6f69d08",
   "metadata": {},
   "source": [
    "19. Print numbers in words"
   ]
  },
  {
   "cell_type": "code",
   "execution_count": 32,
   "id": "e0397358",
   "metadata": {},
   "outputs": [
    {
     "name": "stdout",
     "output_type": "stream",
     "text": [
      "Enter a number : 123\n",
      "one two three "
     ]
    }
   ],
   "source": [
    "# 19. Print numbers in words\n",
    "\n",
    "n = int(input('Enter a number : '))\n",
    "l = []\n",
    "\n",
    "while n > 0:\n",
    "    \n",
    "    d = n%10\n",
    "    n = n//10\n",
    "    l.append(d)\n",
    "l.sort()\n",
    "for i in l:\n",
    "    if i==1:\n",
    "        print('one',end=' ')\n",
    "    elif i==2:\n",
    "        print('two',end=' ')\n",
    "    elif i==3:\n",
    "        print('three',end=' ')\n",
    "    elif i==4:\n",
    "        print('four',end=' ')\n",
    "    elif i==5:\n",
    "        print('five',end=' ')\n",
    "    elif i==6:\n",
    "        print('six',end=' ')\n",
    "    elif i==7:\n",
    "        print('seven',end=' ')\n",
    "    elif i==8:\n",
    "        print('eight',end=' ')\n",
    "    else :\n",
    "        print('nine',end=' ')"
   ]
  },
  {
   "cell_type": "markdown",
   "id": "473c5bff",
   "metadata": {},
   "source": [
    "20. Read a day of week in digit"
   ]
  },
  {
   "cell_type": "code",
   "execution_count": 29,
   "id": "e2070f32",
   "metadata": {},
   "outputs": [
    {
     "name": "stdout",
     "output_type": "stream",
     "text": [
      "enter day in digit = 4\n",
      "thusday\n"
     ]
    }
   ],
   "source": [
    "d = int(input(\"enter day in digit = \"))\n",
    "if d==1:\n",
    "    print(\"monday\")\n",
    "elif d==2:\n",
    "    print(\"tuesday\")\n",
    "elif d==3:\n",
    "    print(\"wednesday\")\n",
    "elif d==4:\n",
    "    print(\"thusday\")\n",
    "elif d==5:\n",
    "    print(\"friday\")\n",
    "elif d==6:\n",
    "    print(\"saturday\")\n",
    "elif d==7:\n",
    "    print(\"sunday\")\n",
    "else:\n",
    "    print(\"There are only 7 days in a week\")"
   ]
  },
  {
   "cell_type": "markdown",
   "id": "223ae414",
   "metadata": {},
   "source": [
    "21. Perform arithmetic operations"
   ]
  },
  {
   "cell_type": "code",
   "execution_count": 11,
   "id": "df69b866",
   "metadata": {},
   "outputs": [
    {
     "name": "stdout",
     "output_type": "stream",
     "text": [
      "Enter number 1 = 20\n",
      "Enter number 2 = 10\n",
      "addition =  30.0\n",
      "subtraction =  10.0\n",
      "multiplication =  200.0\n",
      "division =  2.0\n"
     ]
    }
   ],
   "source": [
    "n1 = input(\"Enter number 1 = \")\n",
    "n2 = input(\"Enter number 2 = \")\n",
    "add = float(n1) + float(n2)\n",
    "sub = float(n1) - float(n2)\n",
    "mul = float(n1) * float(n2)\n",
    "div = float(n1) / float(n2)\n",
    "print(\"addition = \",add)\n",
    "print(\"subtraction = \",sub)\n",
    "print(\"multiplication = \",mul)\n",
    "print(\"division = \",div)"
   ]
  },
  {
   "cell_type": "markdown",
   "id": "fc90d464",
   "metadata": {},
   "source": [
    "22. Check alphabet is vowel or consonant"
   ]
  },
  {
   "cell_type": "code",
   "execution_count": 8,
   "id": "db716687",
   "metadata": {},
   "outputs": [
    {
     "name": "stdout",
     "output_type": "stream",
     "text": [
      "enter character to check = e\n",
      "e is a vowel\n"
     ]
    }
   ],
   "source": [
    "c = input(\"enter character to check = \")\n",
    "if c=='a' or c=='e' or c=='i'or c=='o' or c=='u':\n",
    "    print(c,\"is a vowel\")\n",
    "else:\n",
    "    print(c,\"is a consonant\")"
   ]
  },
  {
   "cell_type": "markdown",
   "id": "fbb39ee8",
   "metadata": {},
   "source": [
    "23. Check number is even or odd"
   ]
  },
  {
   "cell_type": "code",
   "execution_count": 9,
   "id": "047686a9",
   "metadata": {},
   "outputs": [
    {
     "name": "stdout",
     "output_type": "stream",
     "text": [
      "enter any number = 34\n",
      "34 is a even number\n"
     ]
    }
   ],
   "source": [
    "n = int(input(\"enter any number = \"))\n",
    "if n%2==0:\n",
    "    print(n,\"is a even number\")\n",
    "else:\n",
    "    print(n,\"is a odd number\")"
   ]
  },
  {
   "cell_type": "markdown",
   "id": "32086472",
   "metadata": {},
   "source": [
    "24. Right Shift and Left Shift Operations"
   ]
  },
  {
   "cell_type": "code",
   "execution_count": 14,
   "id": "703f12e2",
   "metadata": {},
   "outputs": [
    {
     "name": "stdout",
     "output_type": "stream",
     "text": [
      "enter any number = 10\n",
      "a << 1 = 20\n",
      "b >> 1 = 5\n"
     ]
    }
   ],
   "source": [
    "n = int(input(\"enter any number = \"))\n",
    "print(\"a << 1 =\", n << 1)\n",
    "print(\"b >> 1 =\", n >> 1)"
   ]
  },
  {
   "cell_type": "code",
   "execution_count": null,
   "id": "479b1e3b",
   "metadata": {},
   "outputs": [],
   "source": []
  }
 ],
 "metadata": {
  "kernelspec": {
   "display_name": "Python 3 (ipykernel)",
   "language": "python",
   "name": "python3"
  },
  "language_info": {
   "codemirror_mode": {
    "name": "ipython",
    "version": 3
   },
   "file_extension": ".py",
   "mimetype": "text/x-python",
   "name": "python",
   "nbconvert_exporter": "python",
   "pygments_lexer": "ipython3",
   "version": "3.11.2"
  }
 },
 "nbformat": 4,
 "nbformat_minor": 5
}
