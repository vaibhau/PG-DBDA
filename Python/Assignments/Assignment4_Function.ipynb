{
 "cells": [
  {
   "cell_type": "markdown",
   "id": "be8d636d",
   "metadata": {},
   "source": [
    "1. Write a Python function to find the maximum of three numbers."
   ]
  },
  {
   "cell_type": "code",
   "execution_count": 15,
   "id": "12f29707",
   "metadata": {},
   "outputs": [],
   "source": [
    "def max3(n1,n2,n3):\n",
    "    if n1>n2:\n",
    "        if n1>n3:\n",
    "            return n1\n",
    "        else:\n",
    "            return n3\n",
    "    elif n2>n3:\n",
    "        return n2\n",
    "    else:\n",
    "        return n3"
   ]
  },
  {
   "cell_type": "code",
   "execution_count": 16,
   "id": "f815a823",
   "metadata": {},
   "outputs": [
    {
     "name": "stdout",
     "output_type": "stream",
     "text": [
      "Largest among three =  19\n"
     ]
    }
   ],
   "source": [
    "print(\"Largest among three = \",max3(10,12,19))"
   ]
  },
  {
   "cell_type": "markdown",
   "id": "18282497",
   "metadata": {},
   "source": [
    "2. Write a Python function to sum all the numbers in a list."
   ]
  },
  {
   "cell_type": "code",
   "execution_count": 17,
   "id": "b78020e6",
   "metadata": {},
   "outputs": [],
   "source": [
    "total=0\n",
    "def add():\n",
    "    l=[8,2,3,0,7]\n",
    "    for i in l:\n",
    "        global total\n",
    "        total=total+i\n",
    "    return total"
   ]
  },
  {
   "cell_type": "code",
   "execution_count": 18,
   "id": "31d4355d",
   "metadata": {},
   "outputs": [
    {
     "name": "stdout",
     "output_type": "stream",
     "text": [
      "sum of all elements =  20\n"
     ]
    }
   ],
   "source": [
    "print(\"sum of all elements = \",add())"
   ]
  },
  {
   "cell_type": "markdown",
   "id": "359cefc2",
   "metadata": {},
   "source": [
    "3. Write a Python function to multiply all the numbers in a list."
   ]
  },
  {
   "cell_type": "code",
   "execution_count": 29,
   "id": "05e169ca",
   "metadata": {},
   "outputs": [],
   "source": [
    "total=1\n",
    "def mul():\n",
    "    l=[8,2,3,-1,7]\n",
    "    for i in l:\n",
    "        global total\n",
    "        total=total*i\n",
    "    return total"
   ]
  },
  {
   "cell_type": "code",
   "execution_count": 30,
   "id": "a2c57ca3",
   "metadata": {},
   "outputs": [
    {
     "name": "stdout",
     "output_type": "stream",
     "text": [
      "multiplication of all elements =  -336\n"
     ]
    }
   ],
   "source": [
    "print('multiplication of all elements = ',mul())"
   ]
  },
  {
   "cell_type": "markdown",
   "id": "100e96a1",
   "metadata": {},
   "source": [
    "4. Write a Python program to reverse a string."
   ]
  },
  {
   "cell_type": "code",
   "execution_count": 35,
   "id": "0637c825",
   "metadata": {},
   "outputs": [],
   "source": [
    "def reverse():\n",
    "    s=\"1234abcd\"\n",
    "    return s[::-1]"
   ]
  },
  {
   "cell_type": "code",
   "execution_count": 36,
   "id": "aaeb2d54",
   "metadata": {},
   "outputs": [
    {
     "data": {
      "text/plain": [
       "'dcba4321'"
      ]
     },
     "execution_count": 36,
     "metadata": {},
     "output_type": "execute_result"
    }
   ],
   "source": [
    "reverse()"
   ]
  },
  {
   "cell_type": "markdown",
   "id": "6c69e4e2",
   "metadata": {},
   "source": [
    "5. Write a Python function to calculate the factorial of a number (a non-negative integer). The function accepts the number as an argument."
   ]
  },
  {
   "cell_type": "code",
   "execution_count": 18,
   "id": "e453e733",
   "metadata": {},
   "outputs": [],
   "source": [
    "def fact(n):\n",
    "    f=1\n",
    "    for i in range(1,n+1):\n",
    "        f=f*i\n",
    "    return f"
   ]
  },
  {
   "cell_type": "code",
   "execution_count": 19,
   "id": "31b7685c",
   "metadata": {},
   "outputs": [
    {
     "name": "stdout",
     "output_type": "stream",
     "text": [
      "enter number = 5\n",
      "factorial =  120\n"
     ]
    }
   ],
   "source": [
    "print(\"factorial = \",fact(int(input('enter number = '))))"
   ]
  },
  {
   "cell_type": "markdown",
   "id": "2588fe19",
   "metadata": {},
   "source": [
    "6. Write a Python function to check whether a number falls within a given range."
   ]
  },
  {
   "cell_type": "code",
   "execution_count": 69,
   "id": "d5161863",
   "metadata": {},
   "outputs": [],
   "source": [
    "def fun(n):\n",
    "    for i in range(1,1000):\n",
    "        if i==n:\n",
    "            print(n,'is in the range')\n",
    "            break"
   ]
  },
  {
   "cell_type": "code",
   "execution_count": 70,
   "id": "8b4c0362",
   "metadata": {},
   "outputs": [
    {
     "name": "stdout",
     "output_type": "stream",
     "text": [
      "5 is in the range\n"
     ]
    }
   ],
   "source": [
    "fun(5)"
   ]
  },
  {
   "cell_type": "markdown",
   "id": "efec1d37",
   "metadata": {},
   "source": [
    "7. Write a Python function that accepts a string and counts the number of upper and lower case letters."
   ]
  },
  {
   "cell_type": "code",
   "execution_count": 76,
   "id": "8138fefb",
   "metadata": {},
   "outputs": [],
   "source": [
    "def count():\n",
    "    u=0\n",
    "    l=0\n",
    "    ss=0\n",
    "    s='The quick Brow Fox'\n",
    "    for i in s:\n",
    "        if i.isupper():\n",
    "            u+=1\n",
    "        elif i.islower():\n",
    "            l+=1\n",
    "        else:\n",
    "            ss+=1\n",
    "    return u,l,ss"
   ]
  },
  {
   "cell_type": "code",
   "execution_count": 77,
   "id": "f106d6a7",
   "metadata": {},
   "outputs": [
    {
     "data": {
      "text/plain": [
       "(3, 12, 3)"
      ]
     },
     "execution_count": 77,
     "metadata": {},
     "output_type": "execute_result"
    }
   ],
   "source": [
    "count()"
   ]
  },
  {
   "cell_type": "markdown",
   "id": "9ca00f78",
   "metadata": {},
   "source": [
    "8. Write a Python function that takes a list and returns a new list with distinct elements from the first list."
   ]
  },
  {
   "cell_type": "code",
   "execution_count": 85,
   "id": "9eabb925",
   "metadata": {},
   "outputs": [],
   "source": [
    "def unique():\n",
    "    l1=[1,2,3,3,3,3,4,5]\n",
    "    l2=[]\n",
    "    for i in l1:\n",
    "        for j in l2:\n",
    "            if i!=j:\n",
    "                l2.append(i)\n",
    "    print(l2)"
   ]
  },
  {
   "cell_type": "code",
   "execution_count": 86,
   "id": "4c4d4df8",
   "metadata": {},
   "outputs": [
    {
     "name": "stdout",
     "output_type": "stream",
     "text": [
      "[]\n"
     ]
    }
   ],
   "source": [
    "unique()"
   ]
  },
  {
   "cell_type": "markdown",
   "id": "5b20343f",
   "metadata": {},
   "source": [
    "9. Write a Python function that takes a number as a parameter and checks whether the number is prime or not."
   ]
  },
  {
   "cell_type": "code",
   "execution_count": 4,
   "id": "d7211499",
   "metadata": {},
   "outputs": [],
   "source": [
    "def prime(n):\n",
    "    f=False\n",
    "    for i in range(1,n):\n",
    "        if (n%i==0):\n",
    "            f==True\n",
    "            break      \n",
    "    if f==1:\n",
    "        print(n,'is not a prime number')\n",
    "    else:\n",
    "        print(n,'is a prime number')"
   ]
  },
  {
   "cell_type": "code",
   "execution_count": 5,
   "id": "03735ac9",
   "metadata": {},
   "outputs": [
    {
     "name": "stdout",
     "output_type": "stream",
     "text": [
      "5 is a prime number\n"
     ]
    }
   ],
   "source": [
    "prime(5)"
   ]
  },
  {
   "cell_type": "markdown",
   "id": "efcfa605",
   "metadata": {},
   "source": [
    "10. Write a Python program to print the even numbers from a given list."
   ]
  },
  {
   "cell_type": "code",
   "execution_count": 6,
   "id": "b8710c71",
   "metadata": {},
   "outputs": [],
   "source": [
    "def evenodd():\n",
    "    l=[1, 2, 3, 4, 5, 6, 7, 8, 9]\n",
    "    for i in l:\n",
    "        if i%2==0:\n",
    "            print(i,'is a even number')"
   ]
  },
  {
   "cell_type": "code",
   "execution_count": 7,
   "id": "d07f1c28",
   "metadata": {},
   "outputs": [
    {
     "name": "stdout",
     "output_type": "stream",
     "text": [
      "2 is a even number\n",
      "4 is a even number\n",
      "6 is a even number\n",
      "8 is a even number\n"
     ]
    }
   ],
   "source": [
    "evenodd()"
   ]
  },
  {
   "cell_type": "markdown",
   "id": "eb64b45f",
   "metadata": {},
   "source": [
    "11. Write a Python function to check whether a number is \"Perfect\" or not. According to Wikipedia : In number theory, a perfect number is a positive integer that is equal to the sum of its proper positive divisors, that is, the sum of its positive divisors excluding the number itself (also known as its aliquot sum). Equivalently, a perfect number is a number that is half the sum of all of its positive divisors (including itself).\n"
   ]
  },
  {
   "cell_type": "code",
   "execution_count": 33,
   "id": "b37f3d7b",
   "metadata": {},
   "outputs": [],
   "source": [
    "def perfect(n):\n",
    "    sum = 0\n",
    "    for i in range(1, n):\n",
    "        if n % i == 0:\n",
    "            sum += i\n",
    "    return sum == n"
   ]
  },
  {
   "cell_type": "code",
   "execution_count": 34,
   "id": "91b2f0ff",
   "metadata": {},
   "outputs": [
    {
     "data": {
      "text/plain": [
       "True"
      ]
     },
     "execution_count": 34,
     "metadata": {},
     "output_type": "execute_result"
    }
   ],
   "source": [
    "perfect(28)"
   ]
  },
  {
   "cell_type": "markdown",
   "id": "b599a78b",
   "metadata": {},
   "source": [
    "12. Write a Python function that checks whether a passed string is a palindrome or not."
   ]
  },
  {
   "cell_type": "code",
   "execution_count": 8,
   "id": "5c32443c",
   "metadata": {},
   "outputs": [],
   "source": [
    "def palindrome(s):\n",
    "    rev=s[::-1]\n",
    "    if s==rev:\n",
    "        print(s,'is a palindrome string')\n",
    "    else:\n",
    "        print(s,'is not a palindrome string')"
   ]
  },
  {
   "cell_type": "code",
   "execution_count": 9,
   "id": "944f5da6",
   "metadata": {},
   "outputs": [
    {
     "name": "stdout",
     "output_type": "stream",
     "text": [
      "hello is not a palindrome string\n"
     ]
    }
   ],
   "source": [
    "palindrome('hello')"
   ]
  },
  {
   "cell_type": "code",
   "execution_count": 11,
   "id": "7fce841d",
   "metadata": {},
   "outputs": [
    {
     "name": "stdout",
     "output_type": "stream",
     "text": [
      "lol is a palindrome string\n"
     ]
    }
   ],
   "source": [
    "palindrome('lol')"
   ]
  },
  {
   "cell_type": "markdown",
   "id": "8b590e24",
   "metadata": {},
   "source": [
    "13. Write a Python function that prints out the first n rows of Pascal's triangle."
   ]
  },
  {
   "cell_type": "code",
   "execution_count": 90,
   "id": "c1bc0b0c",
   "metadata": {},
   "outputs": [],
   "source": [
    "def pascal(n):\n",
    "    for i in range(n):\n",
    "        l=str(11**i)\n",
    "        print(\" \"*(n-i),l)"
   ]
  },
  {
   "cell_type": "code",
   "execution_count": 91,
   "id": "9e36515e",
   "metadata": {},
   "outputs": [
    {
     "name": "stdout",
     "output_type": "stream",
     "text": [
      "      1\n",
      "     11\n",
      "    121\n",
      "   1331\n",
      "  14641\n"
     ]
    }
   ],
   "source": [
    "pascal(5)"
   ]
  },
  {
   "cell_type": "markdown",
   "id": "ca91b3cd",
   "metadata": {},
   "source": [
    "14. Write a Python function to check whether a string is a pangram or not."
   ]
  },
  {
   "cell_type": "code",
   "execution_count": 95,
   "id": "80d4f193",
   "metadata": {},
   "outputs": [],
   "source": [
    "def pangram(n):\n",
    "  count=1\n",
    "  lst=[int(x) for x in range(97,97+27)]\n",
    "  for i in set(n):\n",
    "    if ord(i) in lst:\n",
    "      count+=1\n",
    "  if count==27:\n",
    "    return f\"{n} is pangram\"\n",
    "  else:\n",
    "    return f\"{n} is not pangram\""
   ]
  },
  {
   "cell_type": "code",
   "execution_count": 96,
   "id": "4b1afdd7",
   "metadata": {},
   "outputs": [
    {
     "data": {
      "text/plain": [
       "'The quick brown fox jumps over\\xa0the\\xa0lazy\\xa0dog is pangram'"
      ]
     },
     "execution_count": 96,
     "metadata": {},
     "output_type": "execute_result"
    }
   ],
   "source": [
    "pangram(\"The quick brown fox jumps over the lazy dog\")"
   ]
  },
  {
   "cell_type": "markdown",
   "id": "956c214e",
   "metadata": {},
   "source": [
    "15. Write a Python program that accepts a hyphen-separated sequence of\n",
    "words as input and prints the words in a hyphen-separated sequence after\n",
    "sorting them alphabetically."
   ]
  },
  {
   "cell_type": "code",
   "execution_count": 104,
   "id": "f87181bd",
   "metadata": {},
   "outputs": [],
   "source": [
    "def ascend():\n",
    "    result=[]\n",
    "    s='green-red-yellow-black-white'\n",
    "    l=s.split('-')\n",
    "    l.sort()\n",
    "    print(l)\n",
    "    for i in l:\n",
    "        result.append(i)\n",
    "    print('-'.join(result))"
   ]
  },
  {
   "cell_type": "code",
   "execution_count": 105,
   "id": "896873f6",
   "metadata": {},
   "outputs": [
    {
     "name": "stdout",
     "output_type": "stream",
     "text": [
      "['black', 'green', 'red', 'white', 'yellow']\n",
      "black-green-red-white-yellow\n",
      "None\n"
     ]
    }
   ],
   "source": [
    "print(ascend())"
   ]
  },
  {
   "cell_type": "markdown",
   "id": "989bdf66",
   "metadata": {},
   "source": [
    "16. Write a Python function to create and print a list where the values are the squares of numbers between 1 and 30"
   ]
  },
  {
   "cell_type": "code",
   "execution_count": 100,
   "id": "c2e6965b",
   "metadata": {},
   "outputs": [],
   "source": [
    "def square():\n",
    "    l=[]\n",
    "    for i in range(1,31):\n",
    "        l.append(i*i)\n",
    "    print(l)"
   ]
  },
  {
   "cell_type": "code",
   "execution_count": 101,
   "id": "d853cc63",
   "metadata": {},
   "outputs": [
    {
     "name": "stdout",
     "output_type": "stream",
     "text": [
      "[1, 4, 9, 16, 25, 36, 49, 64, 81, 100, 121, 144, 169, 196, 225, 256, 289, 324, 361, 400, 441, 484, 529, 576, 625, 676, 729, 784, 841, 900]\n"
     ]
    }
   ],
   "source": [
    "square()"
   ]
  },
  {
   "cell_type": "code",
   "execution_count": null,
   "id": "267608fe",
   "metadata": {},
   "outputs": [],
   "source": [
    "17. Write a Python program to create a chain of function decorators"
   ]
  },
  {
   "cell_type": "code",
   "execution_count": null,
   "id": "6e76af30",
   "metadata": {},
   "outputs": [],
   "source": [
    "18. Write a Python program to execute a string containing Python code."
   ]
  },
  {
   "cell_type": "code",
   "execution_count": null,
   "id": "c1d4be72",
   "metadata": {},
   "outputs": [],
   "source": [
    "19. "
   ]
  },
  {
   "cell_type": "markdown",
   "id": "52b91d64",
   "metadata": {},
   "source": [
    "20. Write a Python program to detect the number of local variables declared in a function."
   ]
  },
  {
   "cell_type": "code",
   "execution_count": 16,
   "id": "a1af2806",
   "metadata": {},
   "outputs": [],
   "source": [
    "n=30\n",
    "def fun():\n",
    "    global n\n",
    "    print('global variable =',n)\n",
    "    n=3\n",
    "    print('local variable n =',n)"
   ]
  },
  {
   "cell_type": "code",
   "execution_count": 17,
   "id": "334f6157",
   "metadata": {},
   "outputs": [
    {
     "name": "stdout",
     "output_type": "stream",
     "text": [
      "global variable = 30\n",
      "local variable n = 3\n"
     ]
    }
   ],
   "source": [
    "fun()"
   ]
  }
 ],
 "metadata": {
  "kernelspec": {
   "display_name": "Python 3 (ipykernel)",
   "language": "python",
   "name": "python3"
  },
  "language_info": {
   "codemirror_mode": {
    "name": "ipython",
    "version": 3
   },
   "file_extension": ".py",
   "mimetype": "text/x-python",
   "name": "python",
   "nbconvert_exporter": "python",
   "pygments_lexer": "ipython3",
   "version": "3.11.2"
  }
 },
 "nbformat": 4,
 "nbformat_minor": 5
}
