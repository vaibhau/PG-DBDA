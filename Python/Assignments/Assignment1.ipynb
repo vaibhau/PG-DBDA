{
 "cells": [
  {
   "cell_type": "markdown",
   "id": "37125550",
   "metadata": {},
   "source": [
    "1. Calculate area of circle"
   ]
  },
  {
   "cell_type": "code",
   "execution_count": 4,
   "id": "9b7068d8",
   "metadata": {},
   "outputs": [
    {
     "name": "stdout",
     "output_type": "stream",
     "text": [
      "enter radius for circle = 4.5\n",
      "area of circle =  63.61725123519331\n"
     ]
    }
   ],
   "source": [
    "import math\n",
    "r = float(input(\"enter radius for circle = \"))\n",
    "area = math.pi*r**2\n",
    "print(\"area of circle = \",area)"
   ]
  },
  {
   "cell_type": "markdown",
   "id": "c46c08d6",
   "metadata": {},
   "source": [
    "2. Circumference of circle"
   ]
  },
  {
   "cell_type": "code",
   "execution_count": 6,
   "id": "0e89c7ea",
   "metadata": {},
   "outputs": [
    {
     "name": "stdout",
     "output_type": "stream",
     "text": [
      "enter radius for circle = 4\n",
      "circumference of circle =  25.132741228718345\n"
     ]
    }
   ],
   "source": [
    "r = float(input(\"enter radius for circle = \"))\n",
    "c = 2*math.pi*r\n",
    "print(\"circumference of circle = \",c)"
   ]
  },
  {
   "cell_type": "markdown",
   "id": "0fcb202b",
   "metadata": {},
   "source": [
    "3. Calculate area of rectangle"
   ]
  },
  {
   "cell_type": "code",
   "execution_count": 8,
   "id": "04fc1f81",
   "metadata": {},
   "outputs": [
    {
     "name": "stdout",
     "output_type": "stream",
     "text": [
      "enter length = 3\n",
      "enter breadth = 4\n",
      "area of rectangle =  12.0\n"
     ]
    }
   ],
   "source": [
    "l = float(input(\"enter length = \"))\n",
    "b = float(input(\"enter breadth = \"))\n",
    "area = l*b\n",
    "print(\"area of rectangle = \",area)"
   ]
  },
  {
   "cell_type": "markdown",
   "id": "d8f3c979",
   "metadata": {},
   "source": [
    "4. Calculate volume of sphere"
   ]
  },
  {
   "cell_type": "code",
   "execution_count": 10,
   "id": "880b052f",
   "metadata": {},
   "outputs": [
    {
     "name": "stdout",
     "output_type": "stream",
     "text": [
      "enter radius for sphere = 4\n",
      "volume of sphere =  268.082573106329\n"
     ]
    }
   ],
   "source": [
    "r = float(input(\"enter radius for sphere = \"))\n",
    "volume = 4/3*math.pi*r**3\n",
    "print(\"volume of sphere = \",volume)"
   ]
  },
  {
   "cell_type": "markdown",
   "id": "303a359c",
   "metadata": {},
   "source": [
    "5. Find surface area of sphere"
   ]
  },
  {
   "cell_type": "code",
   "execution_count": 12,
   "id": "60b65472",
   "metadata": {},
   "outputs": [
    {
     "name": "stdout",
     "output_type": "stream",
     "text": [
      "enter radius for sphere = 4.5\n",
      "surface area of sphere =  254.46900494077323\n"
     ]
    }
   ],
   "source": [
    "r = float(input(\"enter radius for sphere = \"))\n",
    "sa = 4*math.pi*r**2\n",
    "print(\"surface area of sphere = \",sa)"
   ]
  },
  {
   "cell_type": "markdown",
   "id": "e558dc15",
   "metadata": {},
   "source": [
    "6. Find area of square"
   ]
  },
  {
   "cell_type": "code",
   "execution_count": 14,
   "id": "36565acf",
   "metadata": {},
   "outputs": [
    {
     "name": "stdout",
     "output_type": "stream",
     "text": [
      "enter side for square = 6\n",
      "area of square =  36.0\n"
     ]
    }
   ],
   "source": [
    "s = float(input(\"enter side for square = \"))\n",
    "area = s**2\n",
    "print(\"area of square = \",area)"
   ]
  },
  {
   "cell_type": "markdown",
   "id": "e930e909",
   "metadata": {},
   "source": [
    "7. Find area of right angle triangle"
   ]
  },
  {
   "cell_type": "code",
   "execution_count": 17,
   "id": "fc84d70a",
   "metadata": {},
   "outputs": [
    {
     "name": "stdout",
     "output_type": "stream",
     "text": [
      "enter base for the right angled triangle = 5.5\n",
      "enter height for the right angled triangle = 8\n",
      "area of right angle triangle =  22.0\n"
     ]
    }
   ],
   "source": [
    "b = float(input(\"enter base for the right angled triangle = \"))\n",
    "h = float(input(\"enter height for the right angled triangle = \"))\n",
    "area = 1/2*b*h\n",
    "print(\"area of right angle triangle = \",area)"
   ]
  },
  {
   "cell_type": "markdown",
   "id": "215501be",
   "metadata": {},
   "source": [
    "8. Find area of equilateral triangle"
   ]
  },
  {
   "cell_type": "code",
   "execution_count": 31,
   "id": "7432d5bc",
   "metadata": {},
   "outputs": [
    {
     "name": "stdout",
     "output_type": "stream",
     "text": [
      "enter area for the equilateral triangle = 4\n",
      "area of equilateral triangle =  6.928203230275509\n"
     ]
    }
   ],
   "source": [
    "s = float(input(\"enter area for the equilateral triangle = \"))\n",
    "area = math.sqrt(3)/4*s**2\n",
    "print(\"area of equilateral triangle = \",area)"
   ]
  },
  {
   "cell_type": "markdown",
   "id": "e3449092",
   "metadata": {},
   "source": [
    "9. Find perimeter of rectangle"
   ]
  },
  {
   "cell_type": "code",
   "execution_count": 22,
   "id": "51f5589a",
   "metadata": {},
   "outputs": [
    {
     "name": "stdout",
     "output_type": "stream",
     "text": [
      "enter length for the rectangle = 4\n",
      "enter breadth for the rectangle = 6\n",
      "perimeter of rectangle =  20.0\n"
     ]
    }
   ],
   "source": [
    "l = float(input(\"enter length for the rectangle = \"))\n",
    "w = float(input(\"enter breadth for the rectangle = \"))\n",
    "p = 2*(l+w)\n",
    "print(\"perimeter of rectangle = \",p)"
   ]
  },
  {
   "cell_type": "markdown",
   "id": "87f4e6c0",
   "metadata": {},
   "source": [
    "10. Find area of triangle"
   ]
  },
  {
   "cell_type": "code",
   "execution_count": 24,
   "id": "243a8a7b",
   "metadata": {},
   "outputs": [
    {
     "name": "stdout",
     "output_type": "stream",
     "text": [
      "enter base for triangle = 4\n",
      "enter height for triangle = 5\n",
      "area of triangle =  10.0\n"
     ]
    }
   ],
   "source": [
    "b = float(input(\"enter base for triangle = \"))\n",
    "h = float(input(\"enter height for triangle = \"))\n",
    "area = 1/2*b*h\n",
    "print(\"area of triangle = \",area)"
   ]
  },
  {
   "cell_type": "markdown",
   "id": "00db56f2",
   "metadata": {},
   "source": [
    "11. Find simple interest"
   ]
  },
  {
   "cell_type": "code",
   "execution_count": 27,
   "id": "657f3bea",
   "metadata": {},
   "outputs": [
    {
     "name": "stdout",
     "output_type": "stream",
     "text": [
      "enter principle ammount = 50000\n",
      "enter rate of interest = 5\n",
      "enter time = 4\n",
      "simple interst =  10000.0\n"
     ]
    }
   ],
   "source": [
    "p = float(input(\"enter principle ammount = \"))\n",
    "r = float(input(\"enter rate of interest = \"))\n",
    "t = float(input(\"enter time = \"))\n",
    "si = p*r*t/100\n",
    "print(\"simple interst = \",si)"
   ]
  },
  {
   "cell_type": "markdown",
   "id": "496ab31d",
   "metadata": {},
   "source": [
    "12. Find compound interest"
   ]
  },
  {
   "cell_type": "code",
   "execution_count": 29,
   "id": "29e77217",
   "metadata": {},
   "outputs": [
    {
     "name": "stdout",
     "output_type": "stream",
     "text": [
      "enter principle ammount = 40000\n",
      "enter rate of interest = 6\n",
      "enter time = 5\n",
      "compund interest =  13529.023104000014\n"
     ]
    }
   ],
   "source": [
    "p = float(input(\"enter principle ammount = \"))\n",
    "r = float(input(\"enter rate of interest = \"))\n",
    "t = float(input(\"enter time = \"))\n",
    "a = p*(1+(r/100))**t\n",
    "ci = a - p\n",
    "print(\"compund interest = \",ci)"
   ]
  },
  {
   "cell_type": "markdown",
   "id": "128c05f6",
   "metadata": {},
   "source": [
    "13.  Convert days into years"
   ]
  },
  {
   "cell_type": "code",
   "execution_count": 37,
   "id": "7fc56c31",
   "metadata": {},
   "outputs": [
    {
     "name": "stdout",
     "output_type": "stream",
     "text": [
      "enter days to convert with year = 1245\n",
      "1245 days are  3.410958904109589 year\n"
     ]
    }
   ],
   "source": [
    "d = int(input(\"enter days to convert with year = \"))\n",
    "y = d/365\n",
    "print(d,\"days are \",y,\"year\")"
   ]
  },
  {
   "cell_type": "markdown",
   "id": "0d736a99",
   "metadata": {},
   "source": [
    "14. Fahrenheit to Celsius conversion"
   ]
  },
  {
   "cell_type": "code",
   "execution_count": 39,
   "id": "039483cb",
   "metadata": {},
   "outputs": [
    {
     "name": "stdout",
     "output_type": "stream",
     "text": [
      "enter temperature in fahrenheit = 56\n",
      "56.0 fahrenheit temprature is 13.333333333333334 in celcius\n"
     ]
    }
   ],
   "source": [
    "f = float(input(\"enter temperature in fahrenheit = \"))\n",
    "c = ((f-32)*5)/9\n",
    "print(f,\"fahrenheit temprature is\",c,\"in celcius\")"
   ]
  },
  {
   "cell_type": "code",
   "execution_count": null,
   "id": "a6d37f0e",
   "metadata": {},
   "outputs": [],
   "source": []
  }
 ],
 "metadata": {
  "kernelspec": {
   "display_name": "Python 3 (ipykernel)",
   "language": "python",
   "name": "python3"
  },
  "language_info": {
   "codemirror_mode": {
    "name": "ipython",
    "version": 3
   },
   "file_extension": ".py",
   "mimetype": "text/x-python",
   "name": "python",
   "nbconvert_exporter": "python",
   "pygments_lexer": "ipython3",
   "version": "3.11.2"
  }
 },
 "nbformat": 4,
 "nbformat_minor": 5
}
