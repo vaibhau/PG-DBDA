{
 "cells": [
  {
   "cell_type": "markdown",
   "id": "a753b2a0",
   "metadata": {},
   "source": [
    "1. Create a Vehicle class without any variables and methods\n",
    "2. Create a child class Bus that will inherit all of the variables and methods of the Vehicle class"
   ]
  },
  {
   "cell_type": "code",
   "execution_count": 4,
   "id": "e7ef376c",
   "metadata": {},
   "outputs": [],
   "source": [
    "class Vehicle:\n",
    "    pass\n",
    "class Bus(Vehicle):\n",
    "    pass"
   ]
  },
  {
   "cell_type": "markdown",
   "id": "c01476b8",
   "metadata": {},
   "source": [
    "Write a Program to create a class by name Students, and initialize attributes like name, age, and grade while creating an object.\n",
    "\n",
    "Write a Program to create a valid empty class by name Students, with no properties\n",
    "\n",
    "Write a program to create a child class Teacher that will inherit the properties of Parent class Staff\n"
   ]
  },
  {
   "cell_type": "code",
   "execution_count": 5,
   "id": "1a7dfcdf",
   "metadata": {},
   "outputs": [],
   "source": [
    "class Students:\n",
    "    pass"
   ]
  },
  {
   "cell_type": "code",
   "execution_count": null,
   "id": "98baf71b",
   "metadata": {},
   "outputs": [],
   "source": [
    "class Staff:\n",
    "    def method(self):\n",
    "        print(\"properties of staff\")\n",
    "class Teacher(Staff):\n",
    "    "
   ]
  },
  {
   "cell_type": "markdown",
   "id": "169953c3",
   "metadata": {},
   "source": [
    "Create a class Animal that has a method speak() that prints out the sound the animal makes. Create subclasses Dog, Cat, and Cow that inherit from Animal and override the speak() method to print out the appropriate sound for each animal. Then create a list of Animal objects that includes instances of each subclass, and call the speak() method on each object."
   ]
  },
  {
   "cell_type": "code",
   "execution_count": 34,
   "id": "8dc46a7a",
   "metadata": {},
   "outputs": [],
   "source": [
    "class Animal:\n",
    "    def speak():\n",
    "        pass\n",
    "class Dog(Animal):\n",
    "    def __init__(self,sound):\n",
    "        self.sound=sound\n",
    "    def speak(self):\n",
    "        return self.sound\n",
    "class Cat(Animal):\n",
    "    def __init__(self,sound):\n",
    "        self.sound=sound\n",
    "    def speak(self):\n",
    "        return self.sound\n",
    "class Cow(Animal):\n",
    "    def __init__(self,sound):\n",
    "        self.sound=sound\n",
    "    def speak(self,sound):\n",
    "        self.sound=sound\n",
    "    def speak(self):\n",
    "        return self.sound"
   ]
  },
  {
   "cell_type": "code",
   "execution_count": 35,
   "id": "8d35e6b7",
   "metadata": {},
   "outputs": [
    {
     "name": "stdout",
     "output_type": "stream",
     "text": [
      "sound of dog =  bhoww bhoww\n",
      "sound of cat =  meoww meoww\n",
      "sound of cow =  oahhoo oahhoo\n",
      "\n"
     ]
    }
   ],
   "source": [
    "animal=[Dog(\"bhoww bhoww\"),Cat(\"meoww meoww\"),Cow(\"oahhoo oahhoo\")]\n",
    "for a in animal:\n",
    "    if isinstance(a,Dog):\n",
    "        print(\"sound of dog = \",a.speak())\n",
    "    elif isinstance(a,Cat):\n",
    "        print(\"sound of cat = \",a.speak())\n",
    "    elif isinstance(a,Cow):\n",
    "        print(\"sound of cow = \",a.speak())\n",
    "print()"
   ]
  },
  {
   "cell_type": "markdown",
   "id": "f8b2bcbd",
   "metadata": {},
   "source": [
    "Create a class Shape that has a method area() and a method perimeter(). Create subclasses Rectangle and Circle that inherit from Shape and override the area() and perimeter() methods as appropriate. Then create a list of Shape objects that includes instances of each subclass, and call the area() and perimeter() methods on each object."
   ]
  },
  {
   "cell_type": "code",
   "execution_count": 21,
   "id": "47ffb2f7",
   "metadata": {},
   "outputs": [],
   "source": [
    "class Shape:\n",
    "    def area(self):\n",
    "        pass\n",
    "    def perimeter(self):\n",
    "        pass\n",
    "        \n",
    "class Circle(Shape):\n",
    "    def __init__(self,r):\n",
    "        self.r=r\n",
    "    def area(self):\n",
    "        return 'area of circle is '+str(3.14*self.r**2)\n",
    "    def perimeter(self):\n",
    "        return 'perimeter of circle is '+str(2*3.14*self.r)\n",
    "class Rectangle(Shape):\n",
    "    def __init__(self,l,b):\n",
    "        self.l=l\n",
    "        self.b=b\n",
    "    def area(self):\n",
    "        return 'area of rectangle is '+str(self.l*self.b)\n",
    "    def perimeter(self):\n",
    "        return 'perimeter of rectangle is '+str(2*(self.l+self.b))"
   ]
  },
  {
   "cell_type": "code",
   "execution_count": 22,
   "id": "087e1267",
   "metadata": {},
   "outputs": [
    {
     "name": "stdout",
     "output_type": "stream",
     "text": [
      "area of circle is 50.24\n",
      "perimeter of circle is 25.12\n",
      "area of rectangle is 120\n",
      "perimeter of rectangle is 44\n"
     ]
    }
   ],
   "source": [
    "c=Circle(4)\n",
    "print(c.area())\n",
    "print(c.perimeter())\n",
    "rec=Rectangle(10,12)\n",
    "print(rec.area())\n",
    "print(rec.perimeter())"
   ]
  },
  {
   "cell_type": "markdown",
   "id": "5020e4d9",
   "metadata": {},
   "source": [
    "Create a class Person that has properties name and age. Create a subclass Student that inherits from Person and adds a property major. Create a subclass Teacher that also inherits from Person and adds a property subject. Create a list of Person objects that includes instances of each subclass, and print out their properties. Then call a method on each object that is specific to its subclass (e.g., a method that only exists on Student objects)."
   ]
  },
  {
   "cell_type": "code",
   "execution_count": 16,
   "id": "654ca813",
   "metadata": {},
   "outputs": [],
   "source": [
    "class Person:\n",
    "    def __init__(self,name,age):\n",
    "        self.name=name\n",
    "        self.age=age\n",
    "    def printdetails(self):\n",
    "        print(\"\\nname =\",self.name,\"\\nage =\",self.age)\n",
    "class Student(Person):\n",
    "    def __init__(self,name,age,major):\n",
    "        Person.__init__(self,name,age)\n",
    "        self.major=major\n",
    "    def printdetails(self):\n",
    "        Person.printdetails(self)\n",
    "        print(\"major =\",self.major)\n",
    "class Teacher(Person):\n",
    "    def __init__(self,name,age,sub):\n",
    "        Person.__init__(self,name,age)\n",
    "        self.sub=sub\n",
    "    def printdetails(self):\n",
    "        Person.printdetails(self)\n",
    "        print(\"number of subjects = \",self.sub)"
   ]
  },
  {
   "cell_type": "code",
   "execution_count": 19,
   "id": "9788f1dd",
   "metadata": {},
   "outputs": [
    {
     "name": "stdout",
     "output_type": "stream",
     "text": [
      "1. student details\n",
      "2. teacher details\n",
      "3. print details\n",
      "4. exit\n",
      "=1\n",
      "enter name of the student =abc\n",
      "enter age of the student =22\n",
      "enter name of the subject =python\n",
      "1. student details\n",
      "2. teacher details\n",
      "3. print details\n",
      "4. exit\n",
      "=2\n",
      "enter name of the teacher = lmn\n",
      "enter age of the teacher = 35\n",
      "enter name of the subject =python\n",
      "1. student details\n",
      "2. teacher details\n",
      "3. print details\n",
      "4. exit\n",
      "=3\n",
      "\n",
      "name = abc \n",
      "age = 22\n",
      "major = python\n",
      "None\n",
      "\n",
      "name = lmn \n",
      "age = 35\n",
      "number of subjects =  python\n",
      "None\n",
      "1. student details\n",
      "2. teacher details\n",
      "3. print details\n",
      "4. exit\n",
      "=4\n"
     ]
    }
   ],
   "source": [
    "'''s=Student('vk',22,8)\n",
    "s.printdetails()\n",
    "\n",
    "t=Teacher('amar',35,8)\n",
    "t.printdetails()\n",
    "'''\n",
    "l=[]\n",
    "while True:\n",
    "    ch=int(input(\"1. student details\\n2. teacher details\\n3. print details\\n4. exit\\n=\"))\n",
    "    if ch==1:\n",
    "        #student class\n",
    "        s=Student((input(\"enter name of the student =\")),int(input(\"enter age of the student =\")),input('enter name of the subject ='))\n",
    "        l.append(s)\n",
    "    elif ch==2:\n",
    "        #teacher class\n",
    "        t=Teacher(input(\"enter name of the teacher = \"),int(input(\"enter age of the teacher = \")),input('enter name of the subject ='))\n",
    "        l.append(t)\n",
    "    elif ch==3:\n",
    "        # display\n",
    "        for i in l:\n",
    "            print(i.printdetails())\n",
    "    elif ch==4:\n",
    "        break\n",
    "    else:\n",
    "        print(\"invalid option\")"
   ]
  },
  {
   "cell_type": "markdown",
   "id": "2f6a697f",
   "metadata": {},
   "source": [
    "Create a class BankAccount that has properties balance and interest_rate. Create a subclass CheckingAccount that inherits from BankAccount and adds a property transaction_fee. Create a subclass SavingsAccount that also inherits from BankAccount and adds a property min_balance. Create a list of BankAccount objects that includes instances of each subclass, and print out their properties. Then call a method on each object that is specific to its subclass (e.g., a method that only exists on SavingsAccount objects)."
   ]
  },
  {
   "cell_type": "code",
   "execution_count": 1,
   "id": "78ed7b17",
   "metadata": {},
   "outputs": [],
   "source": [
    "class BankAccount:\n",
    "    def __init__(self,balance,interest):\n",
    "        self.balance=balance\n",
    "        self.interest=interest\n",
    "    def printdetails(self):\n",
    "        print(\"balance =\",self.balance,\"interest rate =\",self.interest)\n",
    "class CheckAccount(BankAccount):\n",
    "    def __init__(self,balance,interest,trans_fee):\n",
    "        BankAccount.__init__(self,balance,interest)\n",
    "        self.trans_fee=trans_fee\n",
    "    def printdetails(self):\n",
    "        BankAccount.printdetails(self)\n",
    "        print(\"transaction fee =\",self.trans_fee)\n",
    "class SavingsAccount(BankAccount):\n",
    "    def __init__(self,balance,interest,min_bal):\n",
    "        BankAccount.__init__(self,balance,interest)\n",
    "        self.min_bal=min_bal\n",
    "    def printdetails(self):\n",
    "        BankAccount.printdetails(self)\n",
    "        print(\"minimum balance required = \",self.min_bal)"
   ]
  },
  {
   "cell_type": "code",
   "execution_count": 3,
   "id": "7eada463",
   "metadata": {},
   "outputs": [
    {
     "name": "stdout",
     "output_type": "stream",
     "text": [
      "1. check account\n",
      "2. saving account\n",
      "3. print details\n",
      "4. exit\n",
      "=1\n",
      "enter balance =10000\n",
      "enter rate of interest =4.5\n",
      "enter transaction fee =100\n",
      "1. check account\n",
      "2. saving account\n",
      "3. print details\n",
      "4. exit\n",
      "=2\n",
      "enter balance = 12000\n",
      "enter rate of interest = 5.5\n",
      "enter minimum balance = 2000\n",
      "1. check account\n",
      "2. saving account\n",
      "3. print details\n",
      "4. exit\n",
      "=3\n",
      "balance = 10000.0 interest rate = 4.5\n",
      "transaction fee = 100.0\n",
      "None\n",
      "balance = 12000 interest rate = 5.5\n",
      "minimum balance required =  2000.0\n",
      "None\n",
      "1. check account\n",
      "2. saving account\n",
      "3. print details\n",
      "4. exit\n",
      "=4\n"
     ]
    }
   ],
   "source": [
    "'''\n",
    "ck=CheckAccount(10000,4.5,10)\n",
    "ck.printdetails()\n",
    "\n",
    "sa=SavingsAccount(20000,5.5,2000)\n",
    "sa.printdetails()\n",
    "'''\n",
    "l=[]\n",
    "while True:\n",
    "    ch=int(input(\"1. check account\\n2. saving account\\n3. print details\\n4. exit\\n=\"))\n",
    "    if ch==1:\n",
    "        #check account\n",
    "        ck=CheckAccount(float(input(\"enter balance =\")),float(input(\"enter rate of interest =\")), float(input(\"enter transaction fee =\")))\n",
    "        l.append(ck)\n",
    "    elif ch==2:\n",
    "        # mototcycle logic\n",
    "        sa=SavingsAccount(input(\"enter balance = \"), float(input(\"enter rate of interest = \")), float(input(\"enter minimum balance = \")))\n",
    "        l.append(sa)\n",
    "    elif ch==3:\n",
    "        # display details\n",
    "        for i in l:\n",
    "            print(i.printdetails())\n",
    "    elif ch==4:\n",
    "        break\n",
    "    else:\n",
    "        print(\"invalid option\")"
   ]
  },
  {
   "cell_type": "markdown",
   "id": "1e21e367",
   "metadata": {},
   "source": [
    "Create a class Vehicle that has properties make, model, and year. Create a subclass Car that inherits from Vehicle and adds a property num_doors. Create a subclass Motorcycle that also inherits from Vehicle and adds a property num_wheels. Create a list of Vehicle objects that includes instances of each subclass, and print out their properties. Then call a method on each object that is specific to its subclass (e.g., a method that only exists on Motorcycle objects)"
   ]
  },
  {
   "cell_type": "code",
   "execution_count": 36,
   "id": "3a6d43e9",
   "metadata": {},
   "outputs": [],
   "source": [
    "class Vehicle:\n",
    "    def __init__(self,make,model,year):\n",
    "        self.make=make\n",
    "        self.model=model\n",
    "        self.year=year\n",
    "    def printdetails(self):\n",
    "        print(\"make = \",self.make)\n",
    "        print(\"model = \",self.model)\n",
    "        print(\"year = \",self.year)\n",
    "class Car(Vehicle):\n",
    "    def __init__(self,make,model,year,doors):\n",
    "        Vehicle.__init__(self,make,model,year)\n",
    "        self.doors=doors\n",
    "    def printdetails(self):\n",
    "        Vehicle.printdetails(self)\n",
    "        print(\"Numdoors = \",self.doors)\n",
    "class Motorcycle(Vehicle):\n",
    "    def __init__(self,make,model,year,wheels):\n",
    "        Vehicle.__init__(self,make,model,year)\n",
    "        self.wheels=wheels\n",
    "    def printdetails(self):\n",
    "        Vehicle.printdetails(self)\n",
    "        print(\"Numwheels = \",self.wheels)"
   ]
  },
  {
   "cell_type": "code",
   "execution_count": null,
   "id": "79f41d0d",
   "metadata": {},
   "outputs": [
    {
     "name": "stdout",
     "output_type": "stream",
     "text": [
      "1. car\n",
      "2. motorcycle\n",
      "3. print\n",
      "4. exit\n",
      "=1\n",
      "enter car company name = asa\n",
      "enter model name = aff\n",
      "enter manufacturing year = 3244\n",
      "enter number of doors = 4\n",
      "1. car\n",
      "2. motorcycle\n",
      "3. print\n",
      "4. exit\n",
      "=3\n",
      "make =  asa\n",
      "model =  aff\n",
      "year =  3244\n",
      "Numdoors =  4\n",
      "None\n"
     ]
    }
   ],
   "source": [
    "'''v = [Car(\"VolksWagon\",\"Polo 2.0\",2025,5),Motorcycle('Royal-Enfield','Meteor',2021,2),Motorcycle('Honda','splendor',2020,2)]\n",
    "\n",
    "for i in v:\n",
    "    if isinstance(i,Car):\n",
    "\n",
    "        i.printdetails()\n",
    "        print()\n",
    "    elif isinstance(i,Motorcycle):\n",
    "        # v.remove(i)\n",
    "        i.printmotorcycyles()\n",
    "        print()\n",
    "'''        \n",
    "        \n",
    "garage=[]\n",
    "while True:\n",
    "    ch=int(input(\"1. car\\n2. motorcycle\\n3. print\\n4. exit\\n=\"))\n",
    "    if ch==1:\n",
    "        #car logic\n",
    "        cr=Car(input(\"enter car company name = \"), input(\"enter model name = \"), int(input(\"enter manufacturing year = \")), int(input(\"enter number of doors = \")))\n",
    "        garage.append(cr)\n",
    "    elif ch==2:\n",
    "        # mototcycle logic\n",
    "        mc=Motorcycle(input(\"enter bike company name = \"), input(\"enter model name = \"), int(input(\"enter manufacturing year = \")), int(input(\"enter number of wheels = \")))\n",
    "        garage.append(mc)\n",
    "    elif ch==3:\n",
    "        # display list\n",
    "        for gadi in garage:\n",
    "            print(gadi.printdetails())\n",
    "    elif ch==4:\n",
    "        break\n",
    "    else:\n",
    "        print(\"please enter valid option\")"
   ]
  },
  {
   "cell_type": "code",
   "execution_count": null,
   "id": "a4821e25",
   "metadata": {},
   "outputs": [],
   "source": []
  }
 ],
 "metadata": {
  "kernelspec": {
   "display_name": "Python 3 (ipykernel)",
   "language": "python",
   "name": "python3"
  },
  "language_info": {
   "codemirror_mode": {
    "name": "ipython",
    "version": 3
   },
   "file_extension": ".py",
   "mimetype": "text/x-python",
   "name": "python",
   "nbconvert_exporter": "python",
   "pygments_lexer": "ipython3",
   "version": "3.11.2"
  }
 },
 "nbformat": 4,
 "nbformat_minor": 5
}
