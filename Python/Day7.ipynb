{
 "cells": [
  {
   "cell_type": "code",
   "execution_count": 1,
   "id": "876156ff",
   "metadata": {},
   "outputs": [],
   "source": [
    "class fun():\n",
    "    def __init__(self):\n",
    "        self.name=input('enter name = ')\n",
    "    def __del__(self):\n",
    "        print('R.I.P',self.name)"
   ]
  },
  {
   "cell_type": "code",
   "execution_count": 3,
   "id": "456aebc5",
   "metadata": {},
   "outputs": [
    {
     "name": "stdout",
     "output_type": "stream",
     "text": [
      "enter name = vaibhav\n",
      "R.I.P vk\n"
     ]
    }
   ],
   "source": [
    "f=fun()"
   ]
  },
  {
   "cell_type": "code",
   "execution_count": 4,
   "id": "f6f7a549",
   "metadata": {},
   "outputs": [],
   "source": [
    "class A:\n",
    "    def my(self):\n",
    "        print(\"A's my\")\n",
    "class B:\n",
    "    def my(self):\n",
    "        print(\"B's my\")\n",
    "class C:\n",
    "    def my(self):\n",
    "        print(\"C's my\")"
   ]
  },
  {
   "cell_type": "markdown",
   "id": "fb97e750",
   "metadata": {},
   "source": [
    "create a class circle, with a method read r and print area of a circle."
   ]
  },
  {
   "cell_type": "code",
   "execution_count": 67,
   "id": "7e0d08f9",
   "metadata": {},
   "outputs": [],
   "source": [
    "class Circle():\n",
    "    def read(self,r):\n",
    "        self.r=r\n",
    "    def area(self):\n",
    "        print(\"area of circle is\",3.14*self.r**2)"
   ]
  },
  {
   "cell_type": "code",
   "execution_count": 68,
   "id": "f944c1f6",
   "metadata": {},
   "outputs": [],
   "source": [
    "c=Circle()"
   ]
  },
  {
   "cell_type": "code",
   "execution_count": 69,
   "id": "1cb83e12",
   "metadata": {},
   "outputs": [
    {
     "name": "stdout",
     "output_type": "stream",
     "text": [
      "enter radius = 4\n",
      "area of circle is 50.24\n"
     ]
    }
   ],
   "source": [
    "r=float(input('enter radius = '))\n",
    "c.read(r)\n",
    "c.area()"
   ]
  },
  {
   "cell_type": "code",
   "execution_count": 92,
   "id": "ccc8ffb6",
   "metadata": {},
   "outputs": [],
   "source": [
    "class Emp():\n",
    "    def __init__(self,id,name,salary):\n",
    "        self.__id=id\n",
    "        self.__name=name\n",
    "        self.__salary=salary\n",
    "    def printDetails(self):\n",
    "        print('id = ',self.__id)\n",
    "        print('name = ',self.__name)\n",
    "        print('salary = ',self.__salary)"
   ]
  },
  {
   "cell_type": "code",
   "execution_count": 57,
   "id": "4bf67e38",
   "metadata": {},
   "outputs": [],
   "source": []
  },
  {
   "cell_type": "code",
   "execution_count": 93,
   "id": "3b561021",
   "metadata": {},
   "outputs": [
    {
     "name": "stdout",
     "output_type": "stream",
     "text": [
      "enter id = 1213\n",
      "enter name = fgf\n",
      "enter salary = 4324\n",
      "id =  1213\n",
      "name =  fgf\n",
      "salary =  4324\n"
     ]
    }
   ],
   "source": [
    "i=int(input('enter id = '))\n",
    "n=input('enter name = ')\n",
    "s=input('enter salary = ')\n",
    "e1=Emp(i,n,s)\n",
    "e1.printDetails()"
   ]
  },
  {
   "cell_type": "code",
   "execution_count": 72,
   "id": "13a62b43",
   "metadata": {},
   "outputs": [],
   "source": [
    "class Emp():\n",
    "    def __init__(self,id,name,salary):\n",
    "        self.__id=id\n",
    "        self.__name=name\n",
    "        self.__salary=salary\n",
    "    def __str__(self):\n",
    "        return 'id = '+str(self.__id)+'name = '+self.__name+'salary = '+str(self.__salary)"
   ]
  },
  {
   "cell_type": "code",
   "execution_count": 73,
   "id": "421223c6",
   "metadata": {},
   "outputs": [
    {
     "name": "stdout",
     "output_type": "stream",
     "text": [
      "enter id = 23\n",
      "enter name = dfwf\n",
      "enter salary = 3213\n"
     ]
    }
   ],
   "source": [
    "i=int(input('enter id = '))\n",
    "n=input('enter name = ')\n",
    "s=input('enter salary = ')\n",
    "e=Emp(i,n,s)\n"
   ]
  },
  {
   "cell_type": "code",
   "execution_count": 100,
   "id": "b248653d",
   "metadata": {},
   "outputs": [],
   "source": [
    "class Employee():\n",
    "    count=202300\n",
    "    def __init__(self,name,salary):\n",
    "        Employee.count+=1\n",
    "        self.__id=Employee.count\n",
    "        self.__name=name\n",
    "        self.__salary=salary\n",
    "        print(\"id = \",self.__id)\n",
    "    def __str__(self):\n",
    "        return 'id = '+str(self.__id)+'name = '+self.__name+'salary = '+str(self.__salary)"
   ]
  },
  {
   "cell_type": "code",
   "execution_count": 102,
   "id": "04ff06b6",
   "metadata": {},
   "outputs": [
    {
     "name": "stdout",
     "output_type": "stream",
     "text": [
      "enter name = vk\n",
      "enter salary = 3424\n",
      "id =  2025\n"
     ]
    }
   ],
   "source": [
    "n=input('enter name = ')\n",
    "s=input('enter salary = ')\n",
    "e=Employee(n,s)"
   ]
  },
  {
   "cell_type": "code",
   "execution_count": 85,
   "id": "d09304fc",
   "metadata": {},
   "outputs": [],
   "source": [
    "class Emp:\n",
    "    count=202300\n",
    "    def __init__(self,name,salary):\n",
    "        Emp.count+=1\n",
    "        self.__id=Emp.count\n",
    "        self.__name=name\n",
    "        self.__salary=salary\n",
    "        print(\"Record added:ID-->\",self.__id)\n",
    "    def __str__(self):\n",
    "        return str(self.__id)+\" \"+self.__name+\" \"+str(self.__salary)"
   ]
  },
  {
   "cell_type": "code",
   "execution_count": 87,
   "id": "7c3a842e",
   "metadata": {},
   "outputs": [
    {
     "name": "stdout",
     "output_type": "stream",
     "text": [
      "Enter name:vfdfg\n",
      "salary:34\n",
      "Record added:ID--> 202310\n",
      "Enter name:fgd\n",
      "salary:453\n",
      "Record added:ID--> 202311\n",
      "Enter name:fdg\n",
      "salary:453\n",
      "Record added:ID--> 202312\n",
      "Enter name:gdf\n",
      "salary:43535\n",
      "Record added:ID--> 202313\n",
      "Enter name:gg\n",
      "salary:453\n",
      "Record added:ID--> 202314\n",
      "Enter name:dfgd\n",
      "salary:4553\n",
      "Record added:ID--> 202315\n",
      "Enter name:dd\n",
      "salary:453\n",
      "Record added:ID--> 202316\n",
      "Enter name:gdg\n",
      "salary:5453\n",
      "Record added:ID--> 202317\n",
      "Enter name:dfg\n",
      "salary:43\n",
      "Record added:ID--> 202318\n",
      "Enter name:fdggf\n",
      "salary:4534\n",
      "Record added:ID--> 202319\n"
     ]
    }
   ],
   "source": [
    "l=[]\n",
    "for i in range(1,11):\n",
    "    n=input(\"Enter name:\")\n",
    "    s=float(input(\"salary:\"))\n",
    "    e=Emp(n,s)\n",
    "    l.append(e)"
   ]
  },
  {
   "cell_type": "code",
   "execution_count": 89,
   "id": "481deb57",
   "metadata": {},
   "outputs": [
    {
     "name": "stdout",
     "output_type": "stream",
     "text": [
      "202310 vfdfg 34.0\n",
      "202311 fgd 453.0\n",
      "202312 fdg 453.0\n",
      "202313 gdf 43535.0\n",
      "202314 gg 453.0\n",
      "202315 dfgd 4553.0\n",
      "202316 dd 453.0\n",
      "202317 gdg 5453.0\n",
      "202318 dfg 43.0\n",
      "202319 fdggf 4534.0\n"
     ]
    }
   ],
   "source": [
    "for i in l:\n",
    "    print(i)"
   ]
  },
  {
   "cell_type": "code",
   "execution_count": null,
   "id": "4fa7e217",
   "metadata": {},
   "outputs": [],
   "source": [
    "create bank account\n",
    "deposit\n",
    "min 2k balance"
   ]
  },
  {
   "cell_type": "code",
   "execution_count": 103,
   "id": "cf28edd5",
   "metadata": {},
   "outputs": [],
   "source": [
    "import math"
   ]
  },
  {
   "cell_type": "code",
   "execution_count": 132,
   "id": "7ce60ef5",
   "metadata": {},
   "outputs": [],
   "source": [
    "class Circle:\n",
    "    def read(self,r):\n",
    "        self.r=r\n",
    "    def area(self):\n",
    "        print('area of circle is',3.14*self.r**2)"
   ]
  },
  {
   "cell_type": "code",
   "execution_count": 133,
   "id": "c276d015",
   "metadata": {},
   "outputs": [],
   "source": [
    "c=Circle()"
   ]
  },
  {
   "cell_type": "code",
   "execution_count": 134,
   "id": "35145b38",
   "metadata": {},
   "outputs": [
    {
     "name": "stdout",
     "output_type": "stream",
     "text": [
      "enter radius for circle = 4\n",
      "area of circle is 50.24\n"
     ]
    }
   ],
   "source": [
    "r=int(input('enter radius for circle = '))\n",
    "c.read(r)\n",
    "c.area()"
   ]
  },
  {
   "cell_type": "code",
   "execution_count": 135,
   "id": "fabb4538",
   "metadata": {},
   "outputs": [],
   "source": [
    "class Insan:\n",
    "    pass"
   ]
  },
  {
   "cell_type": "code",
   "execution_count": 136,
   "id": "8e420109",
   "metadata": {},
   "outputs": [],
   "source": [
    "i=Insan()"
   ]
  },
  {
   "cell_type": "code",
   "execution_count": 137,
   "id": "664e2f76",
   "metadata": {},
   "outputs": [],
   "source": [
    "setattr(i,\"name\",\"abc\")"
   ]
  },
  {
   "cell_type": "code",
   "execution_count": 138,
   "id": "31955dab",
   "metadata": {},
   "outputs": [
    {
     "data": {
      "text/plain": [
       "'abc'"
      ]
     },
     "execution_count": 138,
     "metadata": {},
     "output_type": "execute_result"
    }
   ],
   "source": [
    "getattr(i,\"name\")"
   ]
  },
  {
   "cell_type": "code",
   "execution_count": 166,
   "id": "5f133110",
   "metadata": {},
   "outputs": [],
   "source": []
  },
  {
   "cell_type": "code",
   "execution_count": 2,
   "id": "963975d2",
   "metadata": {},
   "outputs": [],
   "source": [
    "#create a bank class \n",
    "# has amount,accountno,name\n",
    "# createaccount(constructor)-user only gives name and amount \n",
    "# account number auto generated\n",
    "#withdraw(amount):should not be -ve amount and min \n",
    "# balance is 2000 else reject transection\n",
    "#deposite(amount):amount can not be -ve\n",
    "#checkbalance():shows balance and account holder name\n",
    "\n",
    "'''\n",
    "menu driven code to \n",
    "1 create account\n",
    "2 withdraw\n",
    "3 deposit\n",
    "4 check balance\n",
    "5 exit\n",
    "1---->create by takingvalues and auto generate account number\n",
    "2/3/4--->ask account number ,search account and then operate'''\n",
    "\n",
    "\n",
    "class Bank():\n",
    "    acc_no=202300\n",
    "    def __init__(self,name,balance):\n",
    "        Bank.acc_no+=1\n",
    "        self.__acc_no=Bank.acc_no\n",
    "        self.__name=name\n",
    "        self.__balance=balance\n",
    "    def __str__(self):\n",
    "        return \"account no = \"+str(self.__acc_no)+\" name = \"+self.__name+\" amount = \"+str(self.__balance)\n",
    "    def getacc_no(self):\n",
    "        return self.__acc_no\n",
    "    def withdraw(self,balance):\n",
    "        self.__balance-=balance\n",
    "    def deposit(self,balance):\n",
    "        self.__balance+=balance\n",
    "    def getbalance(self):\n",
    "        return self.__balance"
   ]
  },
  {
   "cell_type": "code",
   "execution_count": null,
   "id": "07dc7342",
   "metadata": {
    "scrolled": true
   },
   "outputs": [
    {
     "name": "stdout",
     "output_type": "stream",
     "text": [
      "1.Create\n",
      "2.Withdraw\n",
      "3.Deposit\n",
      "4.Checkbalance\n",
      "5.Print all details\n",
      "6.Exit\n"
     ]
    }
   ],
   "source": [
    "l=[]\n",
    "while True:\n",
    "    print(\"1.Create\\n2.Withdraw\\n3.Deposit\\n4.Checkbalance\\n5.Print all details\\n6.Exit\")\n",
    "    ch=int(input(\":\"))\n",
    "    if ch==1:\n",
    "        n=input(\"enter account holder name = \")\n",
    "        a=float(input(\"account opening balance = \"))\n",
    "        b=Bank(n,a)\n",
    "        l.append(b)\n",
    "        print(b)\n",
    "    #withdraw\n",
    "    elif ch==2:\n",
    "        an=int(input('enter account number = '))\n",
    "        flag=False\n",
    "        for i in l:\n",
    "            if i.getacc_no()==an:\n",
    "                print('account found')\n",
    "                flag=True\n",
    "                print(i)\n",
    "                if i.getbalance()>=2000:\n",
    "                    am=float(input('enter amount to withdraw = '))\n",
    "                    if am>0:\n",
    "                        i.withdraw(am)\n",
    "                        print(\"money withdrawal\",i)\n",
    "                    else:\n",
    "                        print('please enter valid amount to enter')\n",
    "                else:\n",
    "                    print(\"you have reach your min limit, so you are not able to withdraw\")\n",
    "                break\n",
    "        if flag==False:\n",
    "            print('account not found')\n",
    "    #deposit\n",
    "    elif ch==3:\n",
    "        an=int(input('enter account number = '))\n",
    "        flag=False\n",
    "        for i in l:\n",
    "            if i.getacc_no()==an:\n",
    "                print('account found')\n",
    "                flag=True\n",
    "                print(i)\n",
    "                am=float(input('enter amount to deposit = '))\n",
    "                if am>0:\n",
    "                    i.deposit(am)\n",
    "                    print(\"money deposited\",i)\n",
    "                    break\n",
    "                else:\n",
    "                    print('please enter valid amount')\n",
    "        if flag==False:\n",
    "            print('not found')\n",
    "    #checkbalance\n",
    "    elif ch==4:\n",
    "        an=int(input('enter account number = '))\n",
    "        flag=False\n",
    "        for i in l:\n",
    "            if i.getacc_no()==an:\n",
    "                print('account found')\n",
    "                flag=True\n",
    "                print(i)\n",
    "        if flag==False:\n",
    "            print('not found')\n",
    "    #print all account details\n",
    "    elif ch==5:\n",
    "        if len(l)==0:\n",
    "            print(\"empty list\")\n",
    "        else:\n",
    "            for i in l:\n",
    "                print(i)                \n",
    "    #break\n",
    "    elif ch==6:\n",
    "        print(\"bye\")\n",
    "        break\n",
    "    else:\n",
    "        print(\"please enter valid choice\")"
   ]
  },
  {
   "cell_type": "code",
   "execution_count": null,
   "id": "cd415c7b",
   "metadata": {},
   "outputs": [],
   "source": []
  },
  {
   "cell_type": "code",
   "execution_count": null,
   "id": "2b68b881",
   "metadata": {},
   "outputs": [],
   "source": []
  }
 ],
 "metadata": {
  "kernelspec": {
   "display_name": "Python 3 (ipykernel)",
   "language": "python",
   "name": "python3"
  },
  "language_info": {
   "codemirror_mode": {
    "name": "ipython",
    "version": 3
   },
   "file_extension": ".py",
   "mimetype": "text/x-python",
   "name": "python",
   "nbconvert_exporter": "python",
   "pygments_lexer": "ipython3",
   "version": "3.11.2"
  }
 },
 "nbformat": 4,
 "nbformat_minor": 5
}
