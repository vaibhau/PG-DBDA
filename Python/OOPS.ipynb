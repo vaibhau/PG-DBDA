{
 "cells": [
  {
   "cell_type": "code",
   "execution_count": 20,
   "id": "ab96c7b6",
   "metadata": {},
   "outputs": [
    {
     "name": "stdout",
     "output_type": "stream",
     "text": [
      "reference =  1831674207760\n",
      "enter gender = male\n"
     ]
    }
   ],
   "source": [
    "h1.birth()"
   ]
  },
  {
   "cell_type": "code",
   "execution_count": 21,
   "id": "4df03fa4",
   "metadata": {},
   "outputs": [
    {
     "name": "stdout",
     "output_type": "stream",
     "text": [
      "enter name = alpha vk\n"
     ]
    }
   ],
   "source": [
    "h1.naming()"
   ]
  },
  {
   "cell_type": "code",
   "execution_count": 22,
   "id": "e17d8b4b",
   "metadata": {},
   "outputs": [
    {
     "name": "stdout",
     "output_type": "stream",
     "text": [
      "hii i am male and my name is alpha vk\n"
     ]
    }
   ],
   "source": [
    "h1.intro()"
   ]
  },
  {
   "cell_type": "markdown",
   "id": "fbf3b4e6",
   "metadata": {},
   "source": [
    "def __init__(self)\n",
    "\n",
    "self - self should be there in all the methods.\n",
    "str - It will return string."
   ]
  },
  {
   "cell_type": "markdown",
   "id": "c01b53cb",
   "metadata": {},
   "source": [
    "# Garbage Collection\n",
    "\n",
    "Del method gets activated just before process goes for garbage collection. Usually coded to handle clean up task like closing, open connection, files, database.\n"
   ]
  },
  {
   "cell_type": "code",
   "execution_count": 1,
   "id": "6c7ada06",
   "metadata": {},
   "outputs": [],
   "source": [
    "class fun():\n",
    "    def __init__(self):\n",
    "        self.name=input('enter name = ')\n",
    "    def __del__(self):\n",
    "        print('R.I.P',self.name)"
   ]
  },
  {
   "cell_type": "code",
   "execution_count": null,
   "id": "ea3fb2e2",
   "metadata": {},
   "outputs": [],
   "source": [
    "fun()"
   ]
  },
  {
   "cell_type": "code",
   "execution_count": null,
   "id": "d75d7a71",
   "metadata": {},
   "outputs": [],
   "source": []
  },
  {
   "cell_type": "markdown",
   "id": "115ea521",
   "metadata": {},
   "source": [
    "# super() method\n",
    "\n",
    "super() ---> allow access of super class's methods\n"
   ]
  },
  {
   "cell_type": "code",
   "execution_count": null,
   "id": "24459896",
   "metadata": {},
   "outputs": [],
   "source": [
    "class A:\n",
    "    def __init__(self):\n",
    "        print('A')\n",
    "class B(A):\n",
    "    def __init__(self):\n",
    "        super().__init__()\n",
    "        print('B')\n",
    "class C(B):\n",
    "    def __init__(self):\n",
    "        super().__init__()\n",
    "        print('C')"
   ]
  },
  {
   "cell_type": "code",
   "execution_count": 2,
   "id": "f8d4ce05",
   "metadata": {},
   "outputs": [],
   "source": [
    "class A:\n",
    "    def __init__(self):\n",
    "        print('A')\n",
    "class B:\n",
    "    def __init__(self):\n",
    "        super().__init__()\n",
    "        print('B')\n",
    "class C(A,B):\n",
    "    def __init__(self):\n",
    "        super().__init__()\n",
    "        print('C')"
   ]
  },
  {
   "cell_type": "code",
   "execution_count": 3,
   "id": "28a8ae4f",
   "metadata": {},
   "outputs": [
    {
     "name": "stdout",
     "output_type": "stream",
     "text": [
      "A\n",
      "C\n"
     ]
    }
   ],
   "source": [
    "c=C()"
   ]
  },
  {
   "cell_type": "code",
   "execution_count": 9,
   "id": "2a58d093",
   "metadata": {},
   "outputs": [],
   "source": [
    "class Triangle:\n",
    "    def __init__(self,l,h):\n",
    "        self.l=l\n",
    "        self.h=h\n",
    "    def area(self):\n",
    "        print(\"area of triangle = \",(1/2)*self.l*self.h)"
   ]
  },
  {
   "cell_type": "code",
   "execution_count": 13,
   "id": "8ab35b27",
   "metadata": {},
   "outputs": [
    {
     "name": "stdout",
     "output_type": "stream",
     "text": [
      "area of triangle =  50.0\n"
     ]
    }
   ],
   "source": [
    "t=Triangle(10,10)\n",
    "t.area()"
   ]
  },
  {
   "cell_type": "code",
   "execution_count": null,
   "id": "35c6c9a4",
   "metadata": {},
   "outputs": [],
   "source": []
  }
 ],
 "metadata": {
  "kernelspec": {
   "display_name": "Python 3 (ipykernel)",
   "language": "python",
   "name": "python3"
  },
  "language_info": {
   "codemirror_mode": {
    "name": "ipython",
    "version": 3
   },
   "file_extension": ".py",
   "mimetype": "text/x-python",
   "name": "python",
   "nbconvert_exporter": "python",
   "pygments_lexer": "ipython3",
   "version": "3.11.2"
  }
 },
 "nbformat": 4,
 "nbformat_minor": 5
}
