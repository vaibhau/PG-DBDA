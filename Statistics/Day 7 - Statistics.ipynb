{
 "cells": [
  {
   "cell_type": "code",
   "execution_count": 4,
   "id": "ef1c12b7",
   "metadata": {},
   "outputs": [],
   "source": [
    "import numpy as np\n",
    "import pandas as pd\n",
    "import statsmodels\n",
    "from statsmodels import stats\n",
    "from statsmodels.stats import weightstats"
   ]
  },
  {
   "cell_type": "markdown",
   "id": "04b91a59",
   "metadata": {},
   "source": [
    "# 1. 1 Sample T Test\n",
    "\n",
    "- It is used to compare the mean of a sample again a claim value and establish whether the difference between them is statistically significant or not\n"
   ]
  },
  {
   "cell_type": "code",
   "execution_count": 8,
   "id": "9820a4cf",
   "metadata": {},
   "outputs": [],
   "source": [
    "x = [3,7,6,5,9,8,2,3,5,4,6,7]"
   ]
  },
  {
   "cell_type": "code",
   "execution_count": 9,
   "id": "9558324b",
   "metadata": {},
   "outputs": [
    {
     "data": {
      "text/plain": [
       "5.416666666666667"
      ]
     },
     "execution_count": 9,
     "metadata": {},
     "output_type": "execute_result"
    }
   ],
   "source": [
    "np.mean(x)"
   ]
  },
  {
   "cell_type": "markdown",
   "id": "8497e912",
   "metadata": {},
   "source": [
    "- Ho >> I am claiming that the mean of x is more than 6.5\n",
    "- Ho - Null Hypothesis\n",
    "- Ha - Alternative Hypothesis\n",
    "\n",
    "# Ho x >= 6.5 \n",
    "# Ha x <= 6.5"
   ]
  },
  {
   "cell_type": "code",
   "execution_count": 10,
   "id": "e0e6e7f2",
   "metadata": {},
   "outputs": [
    {
     "data": {
      "text/plain": [
       "(-1.744291601622091, 0.04055412767721645)"
      ]
     },
     "execution_count": 10,
     "metadata": {},
     "output_type": "execute_result"
    }
   ],
   "source": [
    "statsmodels.stats.weightstats.ztest(x,value=6.5,alternative = 'smaller')"
   ]
  },
  {
   "cell_type": "markdown",
   "id": "10de63a5",
   "metadata": {},
   "source": [
    "# Ho a >= 6.0\n",
    "# Ha a < 6.0"
   ]
  },
  {
   "cell_type": "code",
   "execution_count": 11,
   "id": "372afbdf",
   "metadata": {},
   "outputs": [
    {
     "data": {
      "text/plain": [
       "(-0.9392339393349719, 0.17380532364640544)"
      ]
     },
     "execution_count": 11,
     "metadata": {},
     "output_type": "execute_result"
    }
   ],
   "source": [
    "statsmodels.stats.weightstats.ztest(x,value=6.0,alternative = 'smaller')"
   ]
  },
  {
   "cell_type": "markdown",
   "id": "01d61f84",
   "metadata": {},
   "source": [
    "- Here the p-value is less than 0.05, that means the difference between ss and pp is large enough not to be ignored, so action is requird."
   ]
  },
  {
   "cell_type": "code",
   "execution_count": 12,
   "id": "7ceafb28",
   "metadata": {},
   "outputs": [
    {
     "data": {
      "text/plain": [
       "2.151461800448216"
      ]
     },
     "execution_count": 12,
     "metadata": {},
     "output_type": "execute_result"
    }
   ],
   "source": [
    "np.std(x,ddof=1)"
   ]
  },
  {
   "cell_type": "code",
   "execution_count": 13,
   "id": "838f1c5b",
   "metadata": {},
   "outputs": [
    {
     "data": {
      "text/plain": [
       "12"
      ]
     },
     "execution_count": 13,
     "metadata": {},
     "output_type": "execute_result"
    }
   ],
   "source": [
    "len(x)"
   ]
  },
  {
   "cell_type": "code",
   "execution_count": 14,
   "id": "7dbc7ffc",
   "metadata": {},
   "outputs": [
    {
     "data": {
      "text/plain": [
       "-0.9392350127451884"
      ]
     },
     "execution_count": 14,
     "metadata": {},
     "output_type": "execute_result"
    }
   ],
   "source": [
    "(5.416666 - 6) / (2.151461800448216/12**0.5)"
   ]
  },
  {
   "cell_type": "code",
   "execution_count": 15,
   "id": "8985cf55",
   "metadata": {},
   "outputs": [
    {
     "data": {
      "text/plain": [
       "-1.7442926750323076"
      ]
     },
     "execution_count": 15,
     "metadata": {},
     "output_type": "execute_result"
    }
   ],
   "source": [
    "(5.416666 - 6.5) / (2.151461800448216/12**0.5)"
   ]
  },
  {
   "cell_type": "code",
   "execution_count": 16,
   "id": "0214c867",
   "metadata": {},
   "outputs": [],
   "source": [
    "from scipy import stats\n",
    "from scipy.stats import norm"
   ]
  },
  {
   "cell_type": "code",
   "execution_count": 17,
   "id": "82b211c6",
   "metadata": {},
   "outputs": [
    {
     "data": {
      "text/plain": [
       "nan"
      ]
     },
     "execution_count": 17,
     "metadata": {},
     "output_type": "execute_result"
    }
   ],
   "source": [
    "norm.ppf(-1.7442926750323076)"
   ]
  },
  {
   "cell_type": "code",
   "execution_count": 18,
   "id": "48c88d6b",
   "metadata": {},
   "outputs": [
    {
     "data": {
      "text/plain": [
       "0.040554034138080716"
      ]
     },
     "execution_count": 18,
     "metadata": {},
     "output_type": "execute_result"
    }
   ],
   "source": [
    "norm.cdf(-1.7442926750323076)"
   ]
  },
  {
   "cell_type": "code",
   "execution_count": 19,
   "id": "f7ff5445",
   "metadata": {},
   "outputs": [
    {
     "data": {
      "text/plain": [
       "0.173805048161002"
      ]
     },
     "execution_count": 19,
     "metadata": {},
     "output_type": "execute_result"
    }
   ],
   "source": [
    "norm.cdf(-0.9392350127)"
   ]
  },
  {
   "cell_type": "markdown",
   "id": "3c1b8c01",
   "metadata": {},
   "source": [
    "# 5.41 is the sample mean and because error is on the left side, we would prefer this to be as high as possible\n",
    "\n",
    "\n",
    "- the highest possible value at 95% CL, is called as 95% upper bound."
   ]
  },
  {
   "cell_type": "code",
   "execution_count": null,
   "id": "ec8feb9f",
   "metadata": {},
   "outputs": [],
   "source": []
  },
  {
   "cell_type": "code",
   "execution_count": null,
   "id": "1aef1139",
   "metadata": {},
   "outputs": [],
   "source": []
  },
  {
   "cell_type": "code",
   "execution_count": null,
   "id": "f20a2a3a",
   "metadata": {},
   "outputs": [],
   "source": []
  },
  {
   "cell_type": "markdown",
   "id": "305e08f9",
   "metadata": {},
   "source": [
    "sample mean + z * sigma/sqrt(n)"
   ]
  },
  {
   "cell_type": "markdown",
   "id": "c2a56652",
   "metadata": {},
   "source": [
    "If the claim value is more than 6.4 then it will generate p-value less than 0.05."
   ]
  },
  {
   "cell_type": "markdown",
   "id": "5f8b6228",
   "metadata": {},
   "source": [
    "# 2. 2 Sample T test\n",
    "\n",
    "- It is used to compare the difference of averages of two independent samples with the claim value and establish whether the difference is statistically significant or not."
   ]
  },
  {
   "cell_type": "code",
   "execution_count": 21,
   "id": "b72654c4",
   "metadata": {},
   "outputs": [],
   "source": [
    "x = [3,7,6,5,9,8,2,3,5,4,6,7]"
   ]
  },
  {
   "cell_type": "code",
   "execution_count": 22,
   "id": "ceb24b24",
   "metadata": {},
   "outputs": [],
   "source": [
    "y = [9,6,8,10,6,4,7,8,9,10]"
   ]
  },
  {
   "cell_type": "markdown",
   "id": "debdb9ab",
   "metadata": {},
   "source": [
    "- Ho mean(y) - mean(x) >= 2.7 \n",
    "- Ha mean(y) - mean(x) < 2.7 (left tail test)"
   ]
  },
  {
   "cell_type": "code",
   "execution_count": 23,
   "id": "b70b40e7",
   "metadata": {},
   "outputs": [
    {
     "data": {
      "text/plain": [
       "2.283333333333333"
      ]
     },
     "execution_count": 23,
     "metadata": {},
     "output_type": "execute_result"
    }
   ],
   "source": [
    "np.mean(y) - np.mean(x)"
   ]
  },
  {
   "cell_type": "code",
   "execution_count": 24,
   "id": "a74b8e60",
   "metadata": {},
   "outputs": [
    {
     "data": {
      "text/plain": [
       "(-0.47198804896079605, 0.3184676595008745)"
      ]
     },
     "execution_count": 24,
     "metadata": {},
     "output_type": "execute_result"
    }
   ],
   "source": [
    "statsmodels.stats.weightstats.ztest(y,x,value=2.7,alternative = 'smaller')"
   ]
  },
  {
   "cell_type": "markdown",
   "id": "0f0c61a7",
   "metadata": {},
   "source": [
    "Ho mean(y) - mean(x) <= 1.5 Ha mean(y) - mean(x) > 2.7 (right tail test)"
   ]
  },
  {
   "cell_type": "code",
   "execution_count": 25,
   "id": "6ca86d6c",
   "metadata": {},
   "outputs": [
    {
     "data": {
      "text/plain": [
       "(-0.47198804896079605, 0.6815323404991255)"
      ]
     },
     "execution_count": 25,
     "metadata": {},
     "output_type": "execute_result"
    }
   ],
   "source": [
    "statsmodels.stats.weightstats.ztest(y,x,value=2.7,alternative='larger')"
   ]
  },
  {
   "cell_type": "markdown",
   "id": "64be79d9",
   "metadata": {},
   "source": [
    "Ho mean(y) - mean(x) <= 1.5 Ha mean(y) - mean(x) > 1.5 (right tail test)"
   ]
  },
  {
   "cell_type": "code",
   "execution_count": 27,
   "id": "5a089076",
   "metadata": {},
   "outputs": [
    {
     "data": {
      "text/plain": [
       "(0.8873375320462958, 0.1874486022476365)"
      ]
     },
     "execution_count": 27,
     "metadata": {},
     "output_type": "execute_result"
    }
   ],
   "source": [
    "statsmodels.stats.weightstats.ztest(y,x,value=1.5,alternative='larger')"
   ]
  },
  {
   "cell_type": "markdown",
   "id": "8e8de484",
   "metadata": {},
   "source": [
    "Ho mean(y) - mean(x) - 1.5 Ha mean(y) - mean(x) not= 1.5 (two tail test)"
   ]
  },
  {
   "cell_type": "code",
   "execution_count": 29,
   "id": "3338f31e",
   "metadata": {},
   "outputs": [
    {
     "data": {
      "text/plain": [
       "(0.8873375320462958, 0.374897204495273)"
      ]
     },
     "execution_count": 29,
     "metadata": {},
     "output_type": "execute_result"
    }
   ],
   "source": [
    "statsmodels.stats.weightstats.ztest(y,x,value=1.5,alternative='two-sided')"
   ]
  },
  {
   "cell_type": "code",
   "execution_count": 30,
   "id": "17c39f7b",
   "metadata": {},
   "outputs": [
    {
     "data": {
      "text/html": [
       "<div>\n",
       "<style scoped>\n",
       "    .dataframe tbody tr th:only-of-type {\n",
       "        vertical-align: middle;\n",
       "    }\n",
       "\n",
       "    .dataframe tbody tr th {\n",
       "        vertical-align: top;\n",
       "    }\n",
       "\n",
       "    .dataframe thead th {\n",
       "        text-align: right;\n",
       "    }\n",
       "</style>\n",
       "<table border=\"1\" class=\"dataframe\">\n",
       "  <thead>\n",
       "    <tr style=\"text-align: right;\">\n",
       "      <th></th>\n",
       "      <th>Sample</th>\n",
       "      <th>Value</th>\n",
       "    </tr>\n",
       "  </thead>\n",
       "  <tbody>\n",
       "    <tr>\n",
       "      <th>0</th>\n",
       "      <td>A</td>\n",
       "      <td>5</td>\n",
       "    </tr>\n",
       "    <tr>\n",
       "      <th>1</th>\n",
       "      <td>A</td>\n",
       "      <td>4</td>\n",
       "    </tr>\n",
       "    <tr>\n",
       "      <th>2</th>\n",
       "      <td>A</td>\n",
       "      <td>6</td>\n",
       "    </tr>\n",
       "    <tr>\n",
       "      <th>3</th>\n",
       "      <td>A</td>\n",
       "      <td>7</td>\n",
       "    </tr>\n",
       "    <tr>\n",
       "      <th>4</th>\n",
       "      <td>A</td>\n",
       "      <td>5</td>\n",
       "    </tr>\n",
       "    <tr>\n",
       "      <th>5</th>\n",
       "      <td>B</td>\n",
       "      <td>6</td>\n",
       "    </tr>\n",
       "    <tr>\n",
       "      <th>6</th>\n",
       "      <td>B</td>\n",
       "      <td>5</td>\n",
       "    </tr>\n",
       "    <tr>\n",
       "      <th>7</th>\n",
       "      <td>B</td>\n",
       "      <td>4</td>\n",
       "    </tr>\n",
       "    <tr>\n",
       "      <th>8</th>\n",
       "      <td>B</td>\n",
       "      <td>7</td>\n",
       "    </tr>\n",
       "    <tr>\n",
       "      <th>9</th>\n",
       "      <td>B</td>\n",
       "      <td>6</td>\n",
       "    </tr>\n",
       "    <tr>\n",
       "      <th>10</th>\n",
       "      <td>C</td>\n",
       "      <td>10</td>\n",
       "    </tr>\n",
       "    <tr>\n",
       "      <th>11</th>\n",
       "      <td>C</td>\n",
       "      <td>14</td>\n",
       "    </tr>\n",
       "    <tr>\n",
       "      <th>12</th>\n",
       "      <td>C</td>\n",
       "      <td>13</td>\n",
       "    </tr>\n",
       "    <tr>\n",
       "      <th>13</th>\n",
       "      <td>C</td>\n",
       "      <td>12</td>\n",
       "    </tr>\n",
       "  </tbody>\n",
       "</table>\n",
       "</div>"
      ],
      "text/plain": [
       "   Sample  Value\n",
       "0       A      5\n",
       "1       A      4\n",
       "2       A      6\n",
       "3       A      7\n",
       "4       A      5\n",
       "5       B      6\n",
       "6       B      5\n",
       "7       B      4\n",
       "8       B      7\n",
       "9       B      6\n",
       "10      C     10\n",
       "11      C     14\n",
       "12      C     13\n",
       "13      C     12"
      ]
     },
     "execution_count": 30,
     "metadata": {},
     "output_type": "execute_result"
    }
   ],
   "source": [
    "df = pd.read_excel('MyData.xlsx')\n",
    "df"
   ]
  },
  {
   "cell_type": "markdown",
   "id": "a0548fad",
   "metadata": {},
   "source": [
    "# One way ANOVA\n",
    "\n",
    "- ANOVA - Analysis of Variance\n",
    "- It is used when we have multiple samples.\n",
    "- Ho: all the pair of means are equal.\n",
    "- Ha: there is atleast one pair of means where the difference is not equal to zero."
   ]
  },
  {
   "cell_type": "code",
   "execution_count": 32,
   "id": "60f0fa08",
   "metadata": {},
   "outputs": [],
   "source": [
    "import statsmodels.api as sm\n",
    "from statsmodels.formula.api import ols\n",
    "import statsmodels.stats.multicomp"
   ]
  },
  {
   "cell_type": "code",
   "execution_count": 33,
   "id": "0d8a2054",
   "metadata": {},
   "outputs": [],
   "source": [
    "mod1 = ols('Value ~ Sample', data=df).fit()\n",
    "#it is a kind of two tail test"
   ]
  },
  {
   "cell_type": "code",
   "execution_count": 34,
   "id": "62e09878",
   "metadata": {},
   "outputs": [],
   "source": [
    "table1 = sm.stats.anova_lm(mod1)"
   ]
  },
  {
   "cell_type": "code",
   "execution_count": 35,
   "id": "12b2074c",
   "metadata": {},
   "outputs": [
    {
     "name": "stdout",
     "output_type": "stream",
     "text": [
      "            df      sum_sq    mean_sq          F    PR(>F)\n",
      "Sample     2.0  130.278571  65.139286  37.416822  0.000012\n",
      "Residual  11.0   19.150000   1.740909        NaN       NaN\n"
     ]
    }
   ],
   "source": [
    "print(table1)"
   ]
  },
  {
   "cell_type": "code",
   "execution_count": 36,
   "id": "b42eefdc",
   "metadata": {},
   "outputs": [],
   "source": [
    "from statsmodels.stats.multicomp import pairwise_tukeyhsd"
   ]
  },
  {
   "cell_type": "code",
   "execution_count": 37,
   "id": "22a9b51a",
   "metadata": {},
   "outputs": [
    {
     "data": {
      "text/plain": [
       "<statsmodels.sandbox.stats.multicomp.TukeyHSDResults at 0x18ab156f6d0>"
      ]
     },
     "execution_count": 37,
     "metadata": {},
     "output_type": "execute_result"
    }
   ],
   "source": [
    "pairwise_tukeyhsd(df.Value,df.Sample)"
   ]
  },
  {
   "cell_type": "code",
   "execution_count": 38,
   "id": "bdef7da9",
   "metadata": {},
   "outputs": [
    {
     "name": "stdout",
     "output_type": "stream",
     "text": [
      "Multiple Comparison of Means - Tukey HSD, FWER=0.05\n",
      "===================================================\n",
      "group1 group2 meandiff p-adj   lower  upper  reject\n",
      "---------------------------------------------------\n",
      "     A      B      0.2 0.9689 -2.0538 2.4538  False\n",
      "     A      C     6.85    0.0  4.4595 9.2405   True\n",
      "     B      C     6.65    0.0  4.2595 9.0405   True\n",
      "---------------------------------------------------\n"
     ]
    }
   ],
   "source": [
    "print(pairwise_tukeyhsd(df.Value,df.Sample))"
   ]
  },
  {
   "cell_type": "markdown",
   "id": "ff89495d",
   "metadata": {},
   "source": [
    "- Anova uses F distribution\n",
    "- This stats can be converted to p-value."
   ]
  }
 ],
 "metadata": {
  "kernelspec": {
   "display_name": "Python 3 (ipykernel)",
   "language": "python",
   "name": "python3"
  },
  "language_info": {
   "codemirror_mode": {
    "name": "ipython",
    "version": 3
   },
   "file_extension": ".py",
   "mimetype": "text/x-python",
   "name": "python",
   "nbconvert_exporter": "python",
   "pygments_lexer": "ipython3",
   "version": "3.11.2"
  }
 },
 "nbformat": 4,
 "nbformat_minor": 5
}
