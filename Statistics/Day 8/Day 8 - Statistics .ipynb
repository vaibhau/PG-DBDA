{
 "cells": [
  {
   "cell_type": "markdown",
   "id": "509116d2",
   "metadata": {},
   "source": [
    "# 2 Way ANOVA"
   ]
  },
  {
   "cell_type": "code",
   "execution_count": 4,
   "id": "007c3d18",
   "metadata": {},
   "outputs": [],
   "source": [
    "import numpy as np\n",
    "import pandas as pd"
   ]
  },
  {
   "cell_type": "code",
   "execution_count": 8,
   "id": "51752c6d",
   "metadata": {},
   "outputs": [
    {
     "data": {
      "text/html": [
       "<div>\n",
       "<style scoped>\n",
       "    .dataframe tbody tr th:only-of-type {\n",
       "        vertical-align: middle;\n",
       "    }\n",
       "\n",
       "    .dataframe tbody tr th {\n",
       "        vertical-align: top;\n",
       "    }\n",
       "\n",
       "    .dataframe thead th {\n",
       "        text-align: right;\n",
       "    }\n",
       "</style>\n",
       "<table border=\"1\" class=\"dataframe\">\n",
       "  <thead>\n",
       "    <tr style=\"text-align: right;\">\n",
       "      <th></th>\n",
       "      <th>rank</th>\n",
       "      <th>discipline</th>\n",
       "      <th>yrs_phd</th>\n",
       "      <th>yrs_service</th>\n",
       "      <th>gender</th>\n",
       "      <th>salary</th>\n",
       "    </tr>\n",
       "  </thead>\n",
       "  <tbody>\n",
       "    <tr>\n",
       "      <th>0</th>\n",
       "      <td>Prof</td>\n",
       "      <td>B</td>\n",
       "      <td>19</td>\n",
       "      <td>18</td>\n",
       "      <td>Male</td>\n",
       "      <td>139750</td>\n",
       "    </tr>\n",
       "    <tr>\n",
       "      <th>1</th>\n",
       "      <td>Prof</td>\n",
       "      <td>B</td>\n",
       "      <td>20</td>\n",
       "      <td>16</td>\n",
       "      <td>Male</td>\n",
       "      <td>173200</td>\n",
       "    </tr>\n",
       "    <tr>\n",
       "      <th>2</th>\n",
       "      <td>AsstProf</td>\n",
       "      <td>B</td>\n",
       "      <td>4</td>\n",
       "      <td>3</td>\n",
       "      <td>Male</td>\n",
       "      <td>79750</td>\n",
       "    </tr>\n",
       "    <tr>\n",
       "      <th>3</th>\n",
       "      <td>Prof</td>\n",
       "      <td>B</td>\n",
       "      <td>45</td>\n",
       "      <td>39</td>\n",
       "      <td>Male</td>\n",
       "      <td>115000</td>\n",
       "    </tr>\n",
       "    <tr>\n",
       "      <th>4</th>\n",
       "      <td>Prof</td>\n",
       "      <td>B</td>\n",
       "      <td>40</td>\n",
       "      <td>41</td>\n",
       "      <td>Male</td>\n",
       "      <td>141500</td>\n",
       "    </tr>\n",
       "    <tr>\n",
       "      <th>...</th>\n",
       "      <td>...</td>\n",
       "      <td>...</td>\n",
       "      <td>...</td>\n",
       "      <td>...</td>\n",
       "      <td>...</td>\n",
       "      <td>...</td>\n",
       "    </tr>\n",
       "    <tr>\n",
       "      <th>392</th>\n",
       "      <td>Prof</td>\n",
       "      <td>A</td>\n",
       "      <td>33</td>\n",
       "      <td>30</td>\n",
       "      <td>Male</td>\n",
       "      <td>103106</td>\n",
       "    </tr>\n",
       "    <tr>\n",
       "      <th>393</th>\n",
       "      <td>Prof</td>\n",
       "      <td>A</td>\n",
       "      <td>31</td>\n",
       "      <td>19</td>\n",
       "      <td>Male</td>\n",
       "      <td>150564</td>\n",
       "    </tr>\n",
       "    <tr>\n",
       "      <th>394</th>\n",
       "      <td>Prof</td>\n",
       "      <td>A</td>\n",
       "      <td>42</td>\n",
       "      <td>25</td>\n",
       "      <td>Male</td>\n",
       "      <td>101738</td>\n",
       "    </tr>\n",
       "    <tr>\n",
       "      <th>395</th>\n",
       "      <td>Prof</td>\n",
       "      <td>A</td>\n",
       "      <td>25</td>\n",
       "      <td>15</td>\n",
       "      <td>Male</td>\n",
       "      <td>95329</td>\n",
       "    </tr>\n",
       "    <tr>\n",
       "      <th>396</th>\n",
       "      <td>AsstProf</td>\n",
       "      <td>A</td>\n",
       "      <td>8</td>\n",
       "      <td>4</td>\n",
       "      <td>Male</td>\n",
       "      <td>81035</td>\n",
       "    </tr>\n",
       "  </tbody>\n",
       "</table>\n",
       "<p>397 rows × 6 columns</p>\n",
       "</div>"
      ],
      "text/plain": [
       "         rank discipline  yrs_phd  yrs_service gender  salary\n",
       "0        Prof          B       19           18   Male  139750\n",
       "1        Prof          B       20           16   Male  173200\n",
       "2    AsstProf          B        4            3   Male   79750\n",
       "3        Prof          B       45           39   Male  115000\n",
       "4        Prof          B       40           41   Male  141500\n",
       "..        ...        ...      ...          ...    ...     ...\n",
       "392      Prof          A       33           30   Male  103106\n",
       "393      Prof          A       31           19   Male  150564\n",
       "394      Prof          A       42           25   Male  101738\n",
       "395      Prof          A       25           15   Male   95329\n",
       "396  AsstProf          A        8            4   Male   81035\n",
       "\n",
       "[397 rows x 6 columns]"
      ]
     },
     "execution_count": 8,
     "metadata": {},
     "output_type": "execute_result"
    }
   ],
   "source": [
    "df = pd.read_excel('CDAC_DataBook.xlsx',sheet_name='salaries')\n",
    "df"
   ]
  },
  {
   "cell_type": "code",
   "execution_count": 6,
   "id": "fabb266c",
   "metadata": {},
   "outputs": [],
   "source": [
    "import statsmodels\n",
    "from statsmodels import stats\n",
    "import statsmodels.api as sm\n",
    "from statsmodels.formula.api import ols\n",
    "import statsmodels.stats.multicomp"
   ]
  },
  {
   "cell_type": "code",
   "execution_count": 9,
   "id": "2a19ff06",
   "metadata": {},
   "outputs": [],
   "source": [
    "mydf = df[['rank','gender','salary']]"
   ]
  },
  {
   "cell_type": "code",
   "execution_count": 13,
   "id": "a6d3a9ca",
   "metadata": {},
   "outputs": [
    {
     "data": {
      "text/html": [
       "<div>\n",
       "<style scoped>\n",
       "    .dataframe tbody tr th:only-of-type {\n",
       "        vertical-align: middle;\n",
       "    }\n",
       "\n",
       "    .dataframe tbody tr th {\n",
       "        vertical-align: top;\n",
       "    }\n",
       "\n",
       "    .dataframe thead th {\n",
       "        text-align: right;\n",
       "    }\n",
       "</style>\n",
       "<table border=\"1\" class=\"dataframe\">\n",
       "  <thead>\n",
       "    <tr style=\"text-align: right;\">\n",
       "      <th></th>\n",
       "      <th>rank</th>\n",
       "      <th>gender</th>\n",
       "      <th>salary</th>\n",
       "    </tr>\n",
       "  </thead>\n",
       "  <tbody>\n",
       "    <tr>\n",
       "      <th>0</th>\n",
       "      <td>Prof</td>\n",
       "      <td>Male</td>\n",
       "      <td>139750</td>\n",
       "    </tr>\n",
       "    <tr>\n",
       "      <th>1</th>\n",
       "      <td>Prof</td>\n",
       "      <td>Male</td>\n",
       "      <td>173200</td>\n",
       "    </tr>\n",
       "    <tr>\n",
       "      <th>2</th>\n",
       "      <td>AsstProf</td>\n",
       "      <td>Male</td>\n",
       "      <td>79750</td>\n",
       "    </tr>\n",
       "    <tr>\n",
       "      <th>3</th>\n",
       "      <td>Prof</td>\n",
       "      <td>Male</td>\n",
       "      <td>115000</td>\n",
       "    </tr>\n",
       "    <tr>\n",
       "      <th>4</th>\n",
       "      <td>Prof</td>\n",
       "      <td>Male</td>\n",
       "      <td>141500</td>\n",
       "    </tr>\n",
       "  </tbody>\n",
       "</table>\n",
       "</div>"
      ],
      "text/plain": [
       "       rank gender  salary\n",
       "0      Prof   Male  139750\n",
       "1      Prof   Male  173200\n",
       "2  AsstProf   Male   79750\n",
       "3      Prof   Male  115000\n",
       "4      Prof   Male  141500"
      ]
     },
     "execution_count": 13,
     "metadata": {},
     "output_type": "execute_result"
    }
   ],
   "source": [
    "mydf.head()"
   ]
  },
  {
   "cell_type": "code",
   "execution_count": 10,
   "id": "43efc403",
   "metadata": {},
   "outputs": [],
   "source": [
    "mod1 = ols('salary~rank+gender',data=mydf).fit()"
   ]
  },
  {
   "cell_type": "code",
   "execution_count": 11,
   "id": "cc2e1654",
   "metadata": {},
   "outputs": [],
   "source": [
    "tbl = sm.stats.anova_lm(mod1)"
   ]
  },
  {
   "cell_type": "code",
   "execution_count": 12,
   "id": "2f371463",
   "metadata": {},
   "outputs": [
    {
     "name": "stdout",
     "output_type": "stream",
     "text": [
      "             df        sum_sq       mean_sq           F        PR(>F)\n",
      "rank        2.0  1.432318e+11  7.161588e+10  128.382480  1.234599e-43\n",
      "gender      1.0  8.408166e+08  8.408166e+08    1.507293  2.202874e-01\n",
      "Residual  393.0  2.192281e+11  5.578322e+08         NaN           NaN\n"
     ]
    }
   ],
   "source": [
    "print(tbl)"
   ]
  },
  {
   "cell_type": "code",
   "execution_count": 14,
   "id": "e26f6bf9",
   "metadata": {},
   "outputs": [],
   "source": [
    "from statsmodels.stats.multicomp import pairwise_tukeyhsd"
   ]
  },
  {
   "cell_type": "code",
   "execution_count": 15,
   "id": "a807ea3a",
   "metadata": {},
   "outputs": [
    {
     "data": {
      "text/plain": [
       "<function statsmodels.stats.multicomp.pairwise_tukeyhsd(endog, groups, alpha=0.05)>"
      ]
     },
     "execution_count": 15,
     "metadata": {},
     "output_type": "execute_result"
    }
   ],
   "source": [
    "pairwise_tukeyhsd"
   ]
  },
  {
   "cell_type": "code",
   "execution_count": 17,
   "id": "f3709528",
   "metadata": {},
   "outputs": [
    {
     "name": "stdout",
     "output_type": "stream",
     "text": [
      "    Multiple Comparison of Means - Tukey HSD, FWER=0.05    \n",
      "===========================================================\n",
      "group1 group2  meandiff  p-adj    lower     upper    reject\n",
      "-----------------------------------------------------------\n",
      "Female   Male 14088.0087 0.0057 4131.1074 24044.9101   True\n",
      "-----------------------------------------------------------\n"
     ]
    }
   ],
   "source": [
    "print(pairwise_tukeyhsd(mydf.salary,mydf.gender))"
   ]
  },
  {
   "cell_type": "code",
   "execution_count": 18,
   "id": "018a950b",
   "metadata": {},
   "outputs": [],
   "source": [
    "mod1 = ols('salary~rank+gender',data=mydf).fit()"
   ]
  },
  {
   "cell_type": "code",
   "execution_count": 19,
   "id": "cdd76aeb",
   "metadata": {},
   "outputs": [],
   "source": [
    "tbl = sm.stats.anova_lm(mod1)"
   ]
  },
  {
   "cell_type": "code",
   "execution_count": 20,
   "id": "125ffb44",
   "metadata": {},
   "outputs": [],
   "source": [
    "my_std = 45\n",
    "n = 100"
   ]
  },
  {
   "cell_type": "code",
   "execution_count": 21,
   "id": "16a63769",
   "metadata": {},
   "outputs": [],
   "source": [
    "import scipy\n",
    "from scipy import stats\n",
    "from scipy.stats import chi2"
   ]
  },
  {
   "cell_type": "code",
   "execution_count": 22,
   "id": "3504da08",
   "metadata": {},
   "outputs": [],
   "source": [
    "crit1 = scipy.stats.chi2.ppf(0.025,99)\n",
    "crit2 = scipy.stats.chi2.ppf(0.975,99)"
   ]
  },
  {
   "cell_type": "code",
   "execution_count": 23,
   "id": "0ef43a6c",
   "metadata": {},
   "outputs": [],
   "source": [
    "low_est = ((n-1)/crit2)**0.5*my_std"
   ]
  },
  {
   "cell_type": "code",
   "execution_count": 24,
   "id": "319da685",
   "metadata": {},
   "outputs": [],
   "source": [
    "upper_est = ((n-1)/crit1)**0.5*my_std"
   ]
  },
  {
   "cell_type": "code",
   "execution_count": 25,
   "id": "4d5f8a85",
   "metadata": {},
   "outputs": [
    {
     "data": {
      "text/plain": [
       "39.51030804317418"
      ]
     },
     "execution_count": 25,
     "metadata": {},
     "output_type": "execute_result"
    }
   ],
   "source": [
    "low_est"
   ]
  },
  {
   "cell_type": "code",
   "execution_count": 26,
   "id": "7575ff5b",
   "metadata": {},
   "outputs": [
    {
     "data": {
      "text/plain": [
       "52.27538648825794"
      ]
     },
     "execution_count": 26,
     "metadata": {},
     "output_type": "execute_result"
    }
   ],
   "source": [
    "upper_est"
   ]
  },
  {
   "cell_type": "markdown",
   "id": "ba4c8e38",
   "metadata": {},
   "source": [
    "# 1 sample variance test\n",
    "\n",
    "When we wish to compare the std deviation of a sample against a claim value and establish whether their statistically significant or not."
   ]
  },
  {
   "cell_type": "code",
   "execution_count": null,
   "id": "8811a1b7",
   "metadata": {},
   "outputs": [],
   "source": [
    "# 2 sample Variance test\n",
    "\n",
    "used to compare the ratio of the variance of two samples and establish whether they are equal or not"
   ]
  },
  {
   "cell_type": "code",
   "execution_count": 27,
   "id": "7417b47b",
   "metadata": {},
   "outputs": [],
   "source": [
    "s1 = [5,9,8,3,4,7,6,8,9]\n",
    "s2 = [2,9,8,3,5,7,6,10,12,4]"
   ]
  },
  {
   "cell_type": "code",
   "execution_count": 28,
   "id": "a45a03a6",
   "metadata": {},
   "outputs": [
    {
     "data": {
      "text/plain": [
       "4.777777777777778"
      ]
     },
     "execution_count": 28,
     "metadata": {},
     "output_type": "execute_result"
    }
   ],
   "source": [
    "np.var(s1,ddof=1)"
   ]
  },
  {
   "cell_type": "code",
   "execution_count": 29,
   "id": "2f0ebffa",
   "metadata": {},
   "outputs": [
    {
     "data": {
      "text/plain": [
       "10.266666666666667"
      ]
     },
     "execution_count": 29,
     "metadata": {},
     "output_type": "execute_result"
    }
   ],
   "source": [
    "np.var(s2,ddof=1)"
   ]
  },
  {
   "cell_type": "code",
   "execution_count": 30,
   "id": "8c49e9b7",
   "metadata": {},
   "outputs": [
    {
     "data": {
      "text/plain": [
       "0.4653679653679653"
      ]
     },
     "execution_count": 30,
     "metadata": {},
     "output_type": "execute_result"
    }
   ],
   "source": [
    "np.var(s1,ddof=1)/np.var(s2,ddof=1)"
   ]
  },
  {
   "cell_type": "markdown",
   "id": "1788be33",
   "metadata": {},
   "source": [
    "Ho: both variances are equal OR the ratio of the variances = 1"
   ]
  },
  {
   "cell_type": "code",
   "execution_count": 31,
   "id": "aa5ec8a4",
   "metadata": {},
   "outputs": [],
   "source": [
    "from scipy.stats import f"
   ]
  },
  {
   "cell_type": "code",
   "execution_count": 32,
   "id": "69513cfb",
   "metadata": {},
   "outputs": [
    {
     "data": {
      "text/plain": [
       "0.29495626539849634"
      ]
     },
     "execution_count": 32,
     "metadata": {},
     "output_type": "execute_result"
    }
   ],
   "source": [
    "p_value = (scipy.stats.f.cdf(np.var(s1,ddof=1)/np.var(s2,ddof=1),len(s1)-1,len(s2)-1))*2\n",
    "p_value"
   ]
  },
  {
   "cell_type": "markdown",
   "id": "82481b98",
   "metadata": {},
   "source": [
    "sample proportion test\n",
    "\n",
    "compare proportion calculated from a sample to the claim value to establish whether the difference is stats sig or not\n",
    "\n",
    "consultant claims that out of all the people who get an jobs on DS, atleast 70% of them are engineers.\n",
    "\n",
    "Ho prop(engg) >= 0.7 \n",
    "Ha prop(engg) < 0.7\n",
    "\n",
    "null hypo can be change if you change pov\n",
    "\n",
    "out of a sample of 270 professionals, 170 were engineers. Does the data support the claim?"
   ]
  },
  {
   "cell_type": "code",
   "execution_count": 33,
   "id": "431395e7",
   "metadata": {},
   "outputs": [
    {
     "data": {
      "text/plain": [
       "0.6296296296296297"
      ]
     },
     "execution_count": 33,
     "metadata": {},
     "output_type": "execute_result"
    }
   ],
   "source": [
    "170/270"
   ]
  },
  {
   "cell_type": "code",
   "execution_count": 34,
   "id": "c59791c3",
   "metadata": {},
   "outputs": [
    {
     "data": {
      "text/plain": [
       "0.48291183460337767"
      ]
     },
     "execution_count": 34,
     "metadata": {},
     "output_type": "execute_result"
    }
   ],
   "source": [
    "s = (0.6296*(1-0.6296))**0.5\n",
    "s"
   ]
  },
  {
   "cell_type": "code",
   "execution_count": 35,
   "id": "9c5e9cba",
   "metadata": {},
   "outputs": [
    {
     "data": {
      "text/plain": [
       "0.5719988180980312"
      ]
     },
     "execution_count": 35,
     "metadata": {},
     "output_type": "execute_result"
    }
   ],
   "source": [
    "low_est = 0.6296 - 1.96*0.4829/270**0.5\n",
    "low_est"
   ]
  },
  {
   "cell_type": "code",
   "execution_count": 36,
   "id": "dafc983f",
   "metadata": {},
   "outputs": [
    {
     "data": {
      "text/plain": [
       "3.450882378871944"
      ]
     },
     "execution_count": 36,
     "metadata": {},
     "output_type": "execute_result"
    }
   ],
   "source": [
    "upper_est = 0.6296 + 96*0.4829/270**0.5\n",
    "upper_est"
   ]
  },
  {
   "cell_type": "code",
   "execution_count": null,
   "id": "3f1f61d7",
   "metadata": {},
   "outputs": [],
   "source": [
    "if your sample size is larger than you can use normal dist also: approx goint to be normal dist\n",
    "\n",
    "prop calculated from multiple sample will approx follow normal dist\n",
    "\n",
    "interval estimate for the pop proportion"
   ]
  },
  {
   "cell_type": "code",
   "execution_count": 37,
   "id": "7a10e1b7",
   "metadata": {},
   "outputs": [],
   "source": [
    "import statsmodels\n",
    "from statsmodels.stats import proportion"
   ]
  },
  {
   "cell_type": "code",
   "execution_count": 39,
   "id": "50c1826b",
   "metadata": {},
   "outputs": [],
   "source": [
    "from statsmodels.stats.proportion import proportions_ztest"
   ]
  },
  {
   "cell_type": "code",
   "execution_count": 40,
   "id": "45098c06",
   "metadata": {},
   "outputs": [
    {
     "data": {
      "text/plain": [
       "(-2.3944789436878944, 0.008321999540908103)"
      ]
     },
     "execution_count": 40,
     "metadata": {},
     "output_type": "execute_result"
    }
   ],
   "source": [
    "statsmodels.stats.proportion.proportions_ztest(170,270,0.7, alternative = 'smaller')"
   ]
  },
  {
   "cell_type": "markdown",
   "id": "6b683655",
   "metadata": {},
   "source": [
    "p-value is less than 0.05, so we reject the Ho. Sample proportion of 0.63 cannot be considered >=0.7"
   ]
  },
  {
   "cell_type": "markdown",
   "id": "2ae830d8",
   "metadata": {},
   "source": [
    "# 2 proportion test\n",
    "\n",
    "- my claim is that BLR has atleast 12% more engineers than Kharghar\n",
    "\n",
    "- Ho prop(BLR) - prop(KHA) >= 0.12\n",
    "- Ha prop(BLR) - prop(KHA) < 0.12\n",
    "\n",
    "- In BLR, in a sample of 150 students, 125 were engineers\n",
    "\n",
    "- In KHA, in a sample of 100 students, 75 were engineers\n"
   ]
  },
  {
   "cell_type": "code",
   "execution_count": 41,
   "id": "bd4314f4",
   "metadata": {},
   "outputs": [
    {
     "data": {
      "text/plain": [
       "0.08333333333333337"
      ]
     },
     "execution_count": 41,
     "metadata": {},
     "output_type": "execute_result"
    }
   ],
   "source": [
    "125/150 - 75/100"
   ]
  },
  {
   "cell_type": "code",
   "execution_count": 42,
   "id": "568c2158",
   "metadata": {},
   "outputs": [],
   "source": [
    "# we need to check whether the difference between 0.083 and 0.12 is statistically significant or not.\n",
    "\n",
    "ss = np.array([150,100])\n",
    "\n",
    "en = np.array([125,75])"
   ]
  },
  {
   "cell_type": "code",
   "execution_count": 43,
   "id": "1e67577f",
   "metadata": {},
   "outputs": [
    {
     "data": {
      "text/plain": [
       "(-0.7100469468046924, 0.23883751199295206)"
      ]
     },
     "execution_count": 43,
     "metadata": {},
     "output_type": "execute_result"
    }
   ],
   "source": [
    "statsmodels.stats.proportion.proportions_ztest(en,ss,0.12, alternative = 'smaller')"
   ]
  },
  {
   "cell_type": "code",
   "execution_count": null,
   "id": "a3656143",
   "metadata": {},
   "outputs": [],
   "source": []
  }
 ],
 "metadata": {
  "kernelspec": {
   "display_name": "Python 3 (ipykernel)",
   "language": "python",
   "name": "python3"
  },
  "language_info": {
   "codemirror_mode": {
    "name": "ipython",
    "version": 3
   },
   "file_extension": ".py",
   "mimetype": "text/x-python",
   "name": "python",
   "nbconvert_exporter": "python",
   "pygments_lexer": "ipython3",
   "version": "3.11.2"
  }
 },
 "nbformat": 4,
 "nbformat_minor": 5
}
