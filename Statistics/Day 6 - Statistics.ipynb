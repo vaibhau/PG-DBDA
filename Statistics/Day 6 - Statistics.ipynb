{
 "cells": [
  {
   "cell_type": "code",
   "execution_count": 2,
   "id": "b8d45df7",
   "metadata": {},
   "outputs": [],
   "source": [
    "import scipy\n",
    "from scipy import stats\n",
    "from scipy.stats import norm\n",
    "from scipy.stats import t"
   ]
  },
  {
   "cell_type": "code",
   "execution_count": 2,
   "id": "33e7df58",
   "metadata": {},
   "outputs": [
    {
     "data": {
      "text/plain": [
       "0.15865525393145707"
      ]
     },
     "execution_count": 2,
     "metadata": {},
     "output_type": "execute_result"
    }
   ],
   "source": [
    "norm.cdf(-1)"
   ]
  },
  {
   "cell_type": "markdown",
   "id": "c350717b",
   "metadata": {},
   "source": [
    "# norm.cdf() - input\n",
    "\n",
    "- X axis value\n",
    "- It can be negative\n",
    "\n",
    "# norm.cdf() - output\n",
    "\n",
    "- area under the curve on the left side of the value that is given as the input\n",
    "- output is always positive, area is cannot be less than zero"
   ]
  },
  {
   "cell_type": "markdown",
   "id": "6e991193",
   "metadata": {},
   "source": [
    "# ppf() - probability point function"
   ]
  },
  {
   "cell_type": "code",
   "execution_count": 4,
   "id": "3e57420f",
   "metadata": {},
   "outputs": [
    {
     "data": {
      "text/plain": [
       "-1.0"
      ]
     },
     "execution_count": 4,
     "metadata": {},
     "output_type": "execute_result"
    }
   ],
   "source": [
    "norm.ppf(0.15865525393145707)"
   ]
  },
  {
   "cell_type": "code",
   "execution_count": 4,
   "id": "7342429c",
   "metadata": {},
   "outputs": [
    {
     "data": {
      "text/plain": [
       "1.959963984540054"
      ]
     },
     "execution_count": 4,
     "metadata": {},
     "output_type": "execute_result"
    }
   ],
   "source": [
    "norm.ppf(0.975)"
   ]
  },
  {
   "cell_type": "code",
   "execution_count": 10,
   "id": "eaed25e3",
   "metadata": {},
   "outputs": [
    {
     "data": {
      "text/plain": [
       "0.0"
      ]
     },
     "execution_count": 10,
     "metadata": {},
     "output_type": "execute_result"
    }
   ],
   "source": [
    "norm.ppf(0.5)"
   ]
  },
  {
   "cell_type": "markdown",
   "id": "50b6b76f",
   "metadata": {},
   "source": [
    "# norm.ppf() - input\n",
    "\n",
    "- area under the curve on left side.\n",
    "- area cannot be negative.\n",
    "\n",
    "# norm.ppf() - output\n",
    "\n",
    "- value on the X axis.\n",
    "- It can be negative."
   ]
  },
  {
   "cell_type": "code",
   "execution_count": 5,
   "id": "89484bbe",
   "metadata": {},
   "outputs": [
    {
     "data": {
      "text/plain": [
       "-1.9599639845400545"
      ]
     },
     "execution_count": 5,
     "metadata": {},
     "output_type": "execute_result"
    }
   ],
   "source": [
    "norm.ppf(0.025)"
   ]
  },
  {
   "cell_type": "code",
   "execution_count": 6,
   "id": "9e9ec0d6",
   "metadata": {},
   "outputs": [
    {
     "data": {
      "text/plain": [
       "1.959963984540054"
      ]
     },
     "execution_count": 6,
     "metadata": {},
     "output_type": "execute_result"
    }
   ],
   "source": [
    "norm.ppf(0.975)"
   ]
  },
  {
   "cell_type": "code",
   "execution_count": 7,
   "id": "00fd9bfc",
   "metadata": {},
   "outputs": [
    {
     "data": {
      "text/plain": [
       "0.0"
      ]
     },
     "execution_count": 7,
     "metadata": {},
     "output_type": "execute_result"
    }
   ],
   "source": [
    "norm.ppf(0.5)"
   ]
  },
  {
   "cell_type": "markdown",
   "id": "00f166a3",
   "metadata": {},
   "source": [
    "1. Establish null and alternative hypothesis\n",
    "Null hypothesis\n",
    "- is made in such a way that of it is found to be true after analysis\n",
    "- no action\n",
    "- no design\n",
    "- no changes"
   ]
  },
  {
   "cell_type": "markdown",
   "id": "921816c3",
   "metadata": {},
   "source": []
  },
  {
   "cell_type": "markdown",
   "id": "c5d335ba",
   "metadata": {},
   "source": [
    "# Continuos data tools\n",
    "\n",
    "- 1 sample z test or 1 sample t test\n",
    "- compare the mean of a single sample with the claim value and establish whether the difference is statistically significant or not."
   ]
  },
  {
   "cell_type": "code",
   "execution_count": 8,
   "id": "683ab048",
   "metadata": {},
   "outputs": [],
   "source": [
    "x = [4,7,6,8,9,7,2,3,5,6,7,8]"
   ]
  },
  {
   "cell_type": "code",
   "execution_count": 9,
   "id": "b4f515f1",
   "metadata": {},
   "outputs": [],
   "source": [
    "import numpy as np\n",
    "import pandas as pd"
   ]
  },
  {
   "cell_type": "code",
   "execution_count": 12,
   "id": "41506180",
   "metadata": {},
   "outputs": [],
   "source": [
    "import statsmodels"
   ]
  },
  {
   "cell_type": "code",
   "execution_count": 13,
   "id": "f9819af6",
   "metadata": {},
   "outputs": [],
   "source": [
    "from statsmodels import stats"
   ]
  },
  {
   "cell_type": "code",
   "execution_count": 14,
   "id": "a571a2db",
   "metadata": {},
   "outputs": [],
   "source": [
    "from statsmodels.stats import weightstats"
   ]
  },
  {
   "cell_type": "code",
   "execution_count": 15,
   "id": "785ed7f8",
   "metadata": {},
   "outputs": [
    {
     "data": {
      "text/plain": [
       "6.0"
      ]
     },
     "execution_count": 15,
     "metadata": {},
     "output_type": "execute_result"
    }
   ],
   "source": [
    "np.mean(x)"
   ]
  },
  {
   "cell_type": "markdown",
   "id": "b77abf91",
   "metadata": {},
   "source": [
    "Ho avg(x) is atleast 7.2 Ho a>=7.2 Ho a<7.2"
   ]
  },
  {
   "cell_type": "code",
   "execution_count": null,
   "id": "ac188c2a",
   "metadata": {},
   "outputs": [],
   "source": []
  },
  {
   "cell_type": "markdown",
   "id": "ff78f30b",
   "metadata": {},
   "source": [
    "CL = 95%, LOS = 5% = 0.05\n",
    "- choose 1 sample 1 test or z test to compare a sample mean with the claim value"
   ]
  },
  {
   "cell_type": "markdown",
   "id": "bf8122c3",
   "metadata": {},
   "source": [
    "# Sequence of input\n",
    "\n",
    "- 1. list name\n",
    "- 2. claim value\n",
    "- 3. sign of alternative hyphothesis"
   ]
  },
  {
   "cell_type": "code",
   "execution_count": 16,
   "id": "af6984f2",
   "metadata": {},
   "outputs": [
    {
     "data": {
      "text/plain": [
       "(-1.9497692171126306, 0.025601816055026008)"
      ]
     },
     "execution_count": 16,
     "metadata": {},
     "output_type": "execute_result"
    }
   ],
   "source": [
    "statsmodels.stats.weightstats.ztest(x,value=7.2,alternative='smaller')"
   ]
  },
  {
   "cell_type": "markdown",
   "id": "37159476",
   "metadata": {},
   "source": [
    "# 'p-' value is less than LOS, then action is required."
   ]
  },
  {
   "cell_type": "markdown",
   "id": "830a38bb",
   "metadata": {},
   "source": [
    "- if p-value is less than 0.05 so we reject the Ho. \n",
    "The difference between 6 and 7.2 is statistically significant, cannot be ignoed so the action is required."
   ]
  },
  {
   "cell_type": "code",
   "execution_count": 17,
   "id": "558ee3a0",
   "metadata": {},
   "outputs": [
    {
     "data": {
      "text/plain": [
       "(-0.812403840463596, 0.2082799716383955)"
      ]
     },
     "execution_count": 17,
     "metadata": {},
     "output_type": "execute_result"
    }
   ],
   "source": [
    "statsmodels.stats.weightstats.ztest(x,value=6.5,alternative='smaller')"
   ]
  },
  {
   "cell_type": "markdown",
   "id": "b8deb4d0",
   "metadata": {},
   "source": [
    "- p-value is more than 0.05 so we do not reject the Ho. The difference between 6 and 6.5 is statistically NOT significant, can be ignored so the action is not required.\n",
    "- 21% chance of commiting type 1 error\n",
    "- p-value > LOS(0.05) we do not reject Ho"
   ]
  },
  {
   "cell_type": "code",
   "execution_count": null,
   "id": "bc8cf2eb",
   "metadata": {},
   "outputs": [],
   "source": []
  }
 ],
 "metadata": {
  "kernelspec": {
   "display_name": "Python 3 (ipykernel)",
   "language": "python",
   "name": "python3"
  },
  "language_info": {
   "codemirror_mode": {
    "name": "ipython",
    "version": 3
   },
   "file_extension": ".py",
   "mimetype": "text/x-python",
   "name": "python",
   "nbconvert_exporter": "python",
   "pygments_lexer": "ipython3",
   "version": "3.11.2"
  }
 },
 "nbformat": 4,
 "nbformat_minor": 5
}
