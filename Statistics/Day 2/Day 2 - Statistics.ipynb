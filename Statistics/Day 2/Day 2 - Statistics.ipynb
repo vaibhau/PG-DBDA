{
 "cells": [
  {
   "cell_type": "markdown",
   "id": "333526d6",
   "metadata": {},
   "source": [
    "# pip install openpyxl\n",
    "\n",
    "- To install openpyxl library in your device."
   ]
  },
  {
   "cell_type": "code",
   "execution_count": 1,
   "id": "539fdbb3",
   "metadata": {},
   "outputs": [],
   "source": [
    "import os"
   ]
  },
  {
   "cell_type": "code",
   "execution_count": 2,
   "id": "7096a5c4",
   "metadata": {},
   "outputs": [],
   "source": [
    "import numpy as np"
   ]
  },
  {
   "cell_type": "code",
   "execution_count": 3,
   "id": "a14de41c",
   "metadata": {},
   "outputs": [
    {
     "data": {
      "text/plain": [
       "'C:\\\\Users\\\\vaibh\\\\Statistics'"
      ]
     },
     "execution_count": 3,
     "metadata": {},
     "output_type": "execute_result"
    }
   ],
   "source": [
    "os.getcwd()"
   ]
  },
  {
   "cell_type": "markdown",
   "id": "e06034d8",
   "metadata": {},
   "source": [
    "# os.getcwd()\n",
    "\n",
    "- This command is used to get the current working directory."
   ]
  },
  {
   "cell_type": "code",
   "execution_count": 5,
   "id": "12decd58",
   "metadata": {
    "scrolled": true
   },
   "outputs": [
    {
     "ename": "FileNotFoundError",
     "evalue": "[WinError 3] The system cannot find the path specified: 'C:Users\\\\vaibh\\\\Documents'",
     "output_type": "error",
     "traceback": [
      "\u001b[1;31m---------------------------------------------------------------------------\u001b[0m",
      "\u001b[1;31mFileNotFoundError\u001b[0m                         Traceback (most recent call last)",
      "Cell \u001b[1;32mIn[5], line 1\u001b[0m\n\u001b[1;32m----> 1\u001b[0m \u001b[43mos\u001b[49m\u001b[38;5;241;43m.\u001b[39;49m\u001b[43mchdir\u001b[49m\u001b[43m(\u001b[49m\u001b[38;5;124;43mr\u001b[39;49m\u001b[38;5;124;43m'\u001b[39;49m\u001b[38;5;124;43mC:Users\u001b[39;49m\u001b[38;5;124;43m\\\u001b[39;49m\u001b[38;5;124;43mvaibh\u001b[39;49m\u001b[38;5;124;43m\\\u001b[39;49m\u001b[38;5;124;43mDocuments\u001b[39;49m\u001b[38;5;124;43m'\u001b[39;49m\u001b[43m)\u001b[49m\n",
      "\u001b[1;31mFileNotFoundError\u001b[0m: [WinError 3] The system cannot find the path specified: 'C:Users\\\\vaibh\\\\Documents'"
     ]
    }
   ],
   "source": [
    "os.chdir(r'C:Users\\vaibh\\Documents')\n",
    "# This command will not work in online platform"
   ]
  },
  {
   "cell_type": "markdown",
   "id": "09daa27b",
   "metadata": {},
   "source": [
    "# os.chdir(r'directory path')\n",
    "\n",
    "- This command is to change the current working directory."
   ]
  },
  {
   "cell_type": "code",
   "execution_count": 6,
   "id": "d3490f62",
   "metadata": {},
   "outputs": [],
   "source": [
    "x = np.array([3,5,4,5,7,6,8,9,7,2,3,4])"
   ]
  },
  {
   "cell_type": "code",
   "execution_count": 7,
   "id": "9d700ada",
   "metadata": {},
   "outputs": [],
   "source": [
    "arr2d =  x.reshape(4,3)"
   ]
  },
  {
   "cell_type": "code",
   "execution_count": 8,
   "id": "bf9e541c",
   "metadata": {},
   "outputs": [
    {
     "data": {
      "text/plain": [
       "array([[3, 5, 4],\n",
       "       [5, 7, 6],\n",
       "       [8, 9, 7],\n",
       "       [2, 3, 4]])"
      ]
     },
     "execution_count": 8,
     "metadata": {},
     "output_type": "execute_result"
    }
   ],
   "source": [
    "arr2d"
   ]
  },
  {
   "cell_type": "code",
   "execution_count": null,
   "id": "61c6bb4c",
   "metadata": {},
   "outputs": [],
   "source": [
    "np.save('myarray',arr2d)\n",
    "# This comand will save your array at current working directory."
   ]
  },
  {
   "cell_type": "code",
   "execution_count": 9,
   "id": "fd24708d",
   "metadata": {},
   "outputs": [
    {
     "ename": "FileNotFoundError",
     "evalue": "[Errno 2] No such file or directory: 'myarray.npy'",
     "output_type": "error",
     "traceback": [
      "\u001b[1;31m---------------------------------------------------------------------------\u001b[0m",
      "\u001b[1;31mFileNotFoundError\u001b[0m                         Traceback (most recent call last)",
      "Cell \u001b[1;32mIn[9], line 1\u001b[0m\n\u001b[1;32m----> 1\u001b[0m newarray \u001b[38;5;241m=\u001b[39m \u001b[43mnp\u001b[49m\u001b[38;5;241;43m.\u001b[39;49m\u001b[43mload\u001b[49m\u001b[43m(\u001b[49m\u001b[38;5;124;43m'\u001b[39;49m\u001b[38;5;124;43mmyarray.npy\u001b[39;49m\u001b[38;5;124;43m'\u001b[39;49m\u001b[43m)\u001b[49m\n\u001b[0;32m      2\u001b[0m \u001b[38;5;66;03m#This command will load your saved array \u001b[39;00m\n",
      "File \u001b[1;32m~\\AppData\\Local\\Programs\\Python\\Python311\\Lib\\site-packages\\numpy\\lib\\npyio.py:405\u001b[0m, in \u001b[0;36mload\u001b[1;34m(file, mmap_mode, allow_pickle, fix_imports, encoding, max_header_size)\u001b[0m\n\u001b[0;32m    403\u001b[0m     own_fid \u001b[38;5;241m=\u001b[39m \u001b[38;5;28;01mFalse\u001b[39;00m\n\u001b[0;32m    404\u001b[0m \u001b[38;5;28;01melse\u001b[39;00m:\n\u001b[1;32m--> 405\u001b[0m     fid \u001b[38;5;241m=\u001b[39m stack\u001b[38;5;241m.\u001b[39menter_context(\u001b[38;5;28;43mopen\u001b[39;49m\u001b[43m(\u001b[49m\u001b[43mos_fspath\u001b[49m\u001b[43m(\u001b[49m\u001b[43mfile\u001b[49m\u001b[43m)\u001b[49m\u001b[43m,\u001b[49m\u001b[43m \u001b[49m\u001b[38;5;124;43m\"\u001b[39;49m\u001b[38;5;124;43mrb\u001b[39;49m\u001b[38;5;124;43m\"\u001b[39;49m\u001b[43m)\u001b[49m)\n\u001b[0;32m    406\u001b[0m     own_fid \u001b[38;5;241m=\u001b[39m \u001b[38;5;28;01mTrue\u001b[39;00m\n\u001b[0;32m    408\u001b[0m \u001b[38;5;66;03m# Code to distinguish from NumPy binary files and pickles.\u001b[39;00m\n",
      "\u001b[1;31mFileNotFoundError\u001b[0m: [Errno 2] No such file or directory: 'myarray.npy'"
     ]
    }
   ],
   "source": [
    "newarray = np.load('myarray.npy')\n",
    "#This command will load your saved array into a new array."
   ]
  },
  {
   "cell_type": "code",
   "execution_count": 11,
   "id": "6d6bea0b",
   "metadata": {},
   "outputs": [
    {
     "data": {
      "text/plain": [
       "array([[3, 5, 4],\n",
       "       [5, 7, 6],\n",
       "       [8, 9, 7],\n",
       "       [2, 3, 4]])"
      ]
     },
     "execution_count": 11,
     "metadata": {},
     "output_type": "execute_result"
    }
   ],
   "source": [
    "arr2d"
   ]
  },
  {
   "cell_type": "code",
   "execution_count": null,
   "id": "165d9c26",
   "metadata": {},
   "outputs": [],
   "source": [
    "newarray"
   ]
  },
  {
   "cell_type": "code",
   "execution_count": 12,
   "id": "7bb5f83e",
   "metadata": {},
   "outputs": [],
   "source": [
    "x = np.array([[3,7,5],[1,2,3]])"
   ]
  },
  {
   "cell_type": "code",
   "execution_count": 13,
   "id": "1f90f745",
   "metadata": {},
   "outputs": [
    {
     "data": {
      "text/plain": [
       "array([[3, 7, 5],\n",
       "       [1, 2, 3]])"
      ]
     },
     "execution_count": 13,
     "metadata": {},
     "output_type": "execute_result"
    }
   ],
   "source": [
    "x"
   ]
  },
  {
   "cell_type": "code",
   "execution_count": 14,
   "id": "994e406e",
   "metadata": {},
   "outputs": [],
   "source": [
    "y = np.array([[1,7],[2,4],[8,1]])"
   ]
  },
  {
   "cell_type": "code",
   "execution_count": 15,
   "id": "bb4b1980",
   "metadata": {},
   "outputs": [
    {
     "data": {
      "text/plain": [
       "array([[1, 7],\n",
       "       [2, 4],\n",
       "       [8, 1]])"
      ]
     },
     "execution_count": 15,
     "metadata": {},
     "output_type": "execute_result"
    }
   ],
   "source": [
    "y"
   ]
  },
  {
   "cell_type": "markdown",
   "id": "7b1f7f4b",
   "metadata": {},
   "source": [
    "# Note\n",
    "- For multiplying 2 matrix, the number of columns of first matrix is should be the equals to the rows of the second matris and resultant matrix will be the number of rows of first one and the number of columns second one."
   ]
  },
  {
   "cell_type": "code",
   "execution_count": 16,
   "id": "5af3463d",
   "metadata": {},
   "outputs": [
    {
     "data": {
      "text/plain": [
       "array([[57, 54],\n",
       "       [29, 18]])"
      ]
     },
     "execution_count": 16,
     "metadata": {},
     "output_type": "execute_result"
    }
   ],
   "source": [
    "x.dot(y)"
   ]
  },
  {
   "cell_type": "code",
   "execution_count": 17,
   "id": "abb468b3",
   "metadata": {},
   "outputs": [
    {
     "data": {
      "text/plain": [
       "array([[57, 54],\n",
       "       [29, 18]])"
      ]
     },
     "execution_count": 17,
     "metadata": {},
     "output_type": "execute_result"
    }
   ],
   "source": [
    "np.matmul(x,y)"
   ]
  },
  {
   "cell_type": "markdown",
   "id": "04fb4a6a",
   "metadata": {},
   "source": [
    "# dot() and matmul()\n",
    "\n",
    "- both of these methods have same output."
   ]
  },
  {
   "cell_type": "code",
   "execution_count": 18,
   "id": "a9529476",
   "metadata": {},
   "outputs": [],
   "source": [
    "from numpy import linalg"
   ]
  },
  {
   "cell_type": "code",
   "execution_count": 19,
   "id": "2a174866",
   "metadata": {},
   "outputs": [],
   "source": [
    "from numpy.linalg import inv"
   ]
  },
  {
   "cell_type": "markdown",
   "id": "4fb0c64a",
   "metadata": {},
   "source": [
    "# x + y + z = 6\n",
    "# 2y + 5z = -4\n",
    "# 2x + 5y - z = 27"
   ]
  },
  {
   "cell_type": "code",
   "execution_count": 20,
   "id": "60c97cfb",
   "metadata": {},
   "outputs": [],
   "source": [
    "A = np.array([[1,1,1],[0,2,5],[2,5,-1]])"
   ]
  },
  {
   "cell_type": "code",
   "execution_count": 21,
   "id": "9b070208",
   "metadata": {},
   "outputs": [],
   "source": [
    "B = np.array([6,-4,27])"
   ]
  },
  {
   "cell_type": "code",
   "execution_count": 22,
   "id": "e7c09aac",
   "metadata": {},
   "outputs": [],
   "source": [
    "Ainv = np.linalg.inv(A)"
   ]
  },
  {
   "cell_type": "code",
   "execution_count": 23,
   "id": "fd5b2409",
   "metadata": {},
   "outputs": [
    {
     "data": {
      "text/plain": [
       "array([[ 1.28571429, -0.28571429, -0.14285714],\n",
       "       [-0.47619048,  0.14285714,  0.23809524],\n",
       "       [ 0.19047619,  0.14285714, -0.0952381 ]])"
      ]
     },
     "execution_count": 23,
     "metadata": {},
     "output_type": "execute_result"
    }
   ],
   "source": [
    "Ainv"
   ]
  },
  {
   "cell_type": "code",
   "execution_count": 24,
   "id": "6cbdcc75",
   "metadata": {},
   "outputs": [],
   "source": [
    "B = B.reshape(3,1)"
   ]
  },
  {
   "cell_type": "code",
   "execution_count": 25,
   "id": "970c2fcc",
   "metadata": {},
   "outputs": [
    {
     "data": {
      "text/plain": [
       "array([[ 6],\n",
       "       [-4],\n",
       "       [27]])"
      ]
     },
     "execution_count": 25,
     "metadata": {},
     "output_type": "execute_result"
    }
   ],
   "source": [
    "B"
   ]
  },
  {
   "cell_type": "code",
   "execution_count": 26,
   "id": "cc4dd4e3",
   "metadata": {},
   "outputs": [
    {
     "data": {
      "text/plain": [
       "array([[ 5.],\n",
       "       [ 3.],\n",
       "       [-2.]])"
      ]
     },
     "execution_count": 26,
     "metadata": {},
     "output_type": "execute_result"
    }
   ],
   "source": [
    "Ainv.dot(B)"
   ]
  },
  {
   "cell_type": "code",
   "execution_count": 27,
   "id": "8fc4a9e0",
   "metadata": {},
   "outputs": [],
   "source": [
    "from numpy import random"
   ]
  },
  {
   "cell_type": "code",
   "execution_count": 28,
   "id": "a2cbc463",
   "metadata": {},
   "outputs": [
    {
     "data": {
      "text/plain": [
       "array([0.68285288, 0.34451654, 0.16258115, 0.64434404, 0.14165165,\n",
       "       0.19901905, 0.74605823, 0.81195129, 0.59655504, 0.84741525])"
      ]
     },
     "execution_count": 28,
     "metadata": {},
     "output_type": "execute_result"
    }
   ],
   "source": [
    "np.random.rand(10)"
   ]
  },
  {
   "cell_type": "markdown",
   "id": "d91b82f0",
   "metadata": {},
   "source": [
    "# np.random.rand(10)\n",
    "\n",
    "- This command will generate 10 random numbers."
   ]
  },
  {
   "cell_type": "code",
   "execution_count": 31,
   "id": "cb114b0b",
   "metadata": {},
   "outputs": [],
   "source": [
    "x = np.random.rand(10)"
   ]
  },
  {
   "cell_type": "code",
   "execution_count": 32,
   "id": "40d0162b",
   "metadata": {},
   "outputs": [],
   "source": [
    "y = np.round(x,3)"
   ]
  },
  {
   "cell_type": "code",
   "execution_count": 33,
   "id": "bc60c527",
   "metadata": {},
   "outputs": [
    {
     "data": {
      "text/plain": [
       "array([0.522, 0.318, 0.632, 0.929, 0.115, 0.554, 0.668, 0.924, 0.384,\n",
       "       0.979])"
      ]
     },
     "execution_count": 33,
     "metadata": {},
     "output_type": "execute_result"
    }
   ],
   "source": [
    "y"
   ]
  },
  {
   "cell_type": "code",
   "execution_count": 34,
   "id": "6be36cb0",
   "metadata": {},
   "outputs": [
    {
     "data": {
      "text/plain": [
       "28"
      ]
     },
     "execution_count": 34,
     "metadata": {},
     "output_type": "execute_result"
    }
   ],
   "source": [
    "np.random.randint(20,50)"
   ]
  },
  {
   "cell_type": "markdown",
   "id": "6c085148",
   "metadata": {},
   "source": [
    "# np.random.randint(starting range,ending range)\n",
    "\n",
    "- This command will generate single integer number between starting range and ending range."
   ]
  },
  {
   "cell_type": "code",
   "execution_count": 35,
   "id": "bcdb847d",
   "metadata": {},
   "outputs": [
    {
     "data": {
      "text/plain": [
       "array([42, 37, 41, 41, 44])"
      ]
     },
     "execution_count": 35,
     "metadata": {},
     "output_type": "execute_result"
    }
   ],
   "source": [
    "np.random.randint(20,50,5)"
   ]
  },
  {
   "cell_type": "markdown",
   "id": "4a28f525",
   "metadata": {},
   "source": [
    "# np.random.randint(starting range,ending range, number of elements)\n",
    "\n",
    "- This command will generate as many numbers you want between starting range and ending range.\n",
    "- Ex. np.random.randint(20,50,5)"
   ]
  },
  {
   "cell_type": "code",
   "execution_count": 36,
   "id": "d0dad9fc",
   "metadata": {},
   "outputs": [],
   "source": [
    "x = np.random.rand(5)"
   ]
  },
  {
   "cell_type": "code",
   "execution_count": 37,
   "id": "254a9948",
   "metadata": {},
   "outputs": [],
   "source": [
    "y = np.round(x,3)"
   ]
  },
  {
   "cell_type": "code",
   "execution_count": 38,
   "id": "0a1cf771",
   "metadata": {},
   "outputs": [],
   "source": [
    "z = np.random.randint(20,50,5)"
   ]
  },
  {
   "cell_type": "code",
   "execution_count": 39,
   "id": "996249a1",
   "metadata": {},
   "outputs": [
    {
     "data": {
      "text/plain": [
       "array([44.204, 46.172, 44.037, 27.763, 22.768])"
      ]
     },
     "execution_count": 39,
     "metadata": {},
     "output_type": "execute_result"
    }
   ],
   "source": [
    "z + y"
   ]
  },
  {
   "cell_type": "code",
   "execution_count": 43,
   "id": "1824466e",
   "metadata": {},
   "outputs": [
    {
     "name": "stdout",
     "output_type": "stream",
     "text": [
      "Requirement already satisfied: openpyxl in c:\\users\\vaibh\\appdata\\local\\programs\\python\\python311\\lib\\site-packages (3.1.2)\n",
      "Requirement already satisfied: et-xmlfile in c:\\users\\vaibh\\appdata\\local\\programs\\python\\python311\\lib\\site-packages (from openpyxl) (1.1.0)\n"
     ]
    }
   ],
   "source": [
    "!pip install openpyxl"
   ]
  },
  {
   "cell_type": "code",
   "execution_count": 45,
   "id": "5a84112e",
   "metadata": {},
   "outputs": [],
   "source": [
    "import openpyxl as op"
   ]
  },
  {
   "cell_type": "code",
   "execution_count": 46,
   "id": "6355ca2a",
   "metadata": {},
   "outputs": [],
   "source": [
    "wb = op.load_workbook('Students.xlsx')"
   ]
  },
  {
   "cell_type": "code",
   "execution_count": 47,
   "id": "5ec1565c",
   "metadata": {},
   "outputs": [],
   "source": [
    "sht1 = wb['Kharghar']"
   ]
  },
  {
   "cell_type": "code",
   "execution_count": 48,
   "id": "22ccea33",
   "metadata": {},
   "outputs": [
    {
     "data": {
      "text/plain": [
       "'Rakesh'"
      ]
     },
     "execution_count": 48,
     "metadata": {},
     "output_type": "execute_result"
    }
   ],
   "source": [
    "sht1['A3'].value"
   ]
  },
  {
   "cell_type": "code",
   "execution_count": 49,
   "id": "bedd7dac",
   "metadata": {},
   "outputs": [],
   "source": [
    "x = sht1['B5'].value"
   ]
  },
  {
   "cell_type": "code",
   "execution_count": 50,
   "id": "bf7662cc",
   "metadata": {},
   "outputs": [
    {
     "data": {
      "text/plain": [
       "'Statistics'"
      ]
     },
     "execution_count": 50,
     "metadata": {},
     "output_type": "execute_result"
    }
   ],
   "source": [
    "x"
   ]
  },
  {
   "cell_type": "code",
   "execution_count": 51,
   "id": "186da105",
   "metadata": {},
   "outputs": [
    {
     "data": {
      "text/plain": [
       "'Rakesh'"
      ]
     },
     "execution_count": 51,
     "metadata": {},
     "output_type": "execute_result"
    }
   ],
   "source": [
    "sht1.cell(3,1).value"
   ]
  },
  {
   "cell_type": "code",
   "execution_count": 52,
   "id": "45e6ec3b",
   "metadata": {},
   "outputs": [
    {
     "data": {
      "text/plain": [
       "'ML PYHON'"
      ]
     },
     "execution_count": 52,
     "metadata": {},
     "output_type": "execute_result"
    }
   ],
   "source": [
    "sht1.cell(4,2).value"
   ]
  },
  {
   "cell_type": "code",
   "execution_count": 53,
   "id": "8e4e99e4",
   "metadata": {},
   "outputs": [
    {
     "data": {
      "text/plain": [
       "5"
      ]
     },
     "execution_count": 53,
     "metadata": {},
     "output_type": "execute_result"
    }
   ],
   "source": [
    "sht1.max_row\n",
    "# This command will give you the counnt of rows"
   ]
  },
  {
   "cell_type": "code",
   "execution_count": 55,
   "id": "e06a4771",
   "metadata": {},
   "outputs": [
    {
     "data": {
      "text/plain": [
       "3"
      ]
     },
     "execution_count": 55,
     "metadata": {},
     "output_type": "execute_result"
    }
   ],
   "source": [
    "sht1.max_column\n",
    "# This command will give you the counnt of columns"
   ]
  },
  {
   "cell_type": "code",
   "execution_count": 56,
   "id": "1f5cb5dc",
   "metadata": {},
   "outputs": [],
   "source": [
    "# reading and data should start from rows #2 and finish at row #5\n",
    "students = []"
   ]
  },
  {
   "cell_type": "code",
   "execution_count": 58,
   "id": "2a67731c",
   "metadata": {},
   "outputs": [
    {
     "data": {
      "text/plain": [
       "list"
      ]
     },
     "execution_count": 58,
     "metadata": {},
     "output_type": "execute_result"
    }
   ],
   "source": [
    "type(students)"
   ]
  },
  {
   "cell_type": "code",
   "execution_count": 59,
   "id": "9f570150",
   "metadata": {},
   "outputs": [
    {
     "data": {
      "text/plain": [
       "0"
      ]
     },
     "execution_count": 59,
     "metadata": {},
     "output_type": "execute_result"
    }
   ],
   "source": [
    "len(students)"
   ]
  },
  {
   "cell_type": "code",
   "execution_count": 60,
   "id": "1b6ce2d5",
   "metadata": {},
   "outputs": [],
   "source": [
    "for ctr in range(2,6):\n",
    "    x = sht1.cell(ctr,1).value\n",
    "    students.append(x)"
   ]
  },
  {
   "cell_type": "code",
   "execution_count": 61,
   "id": "5474a768",
   "metadata": {},
   "outputs": [
    {
     "data": {
      "text/plain": [
       "['Sudeep', 'Rakesh', 'Dhruv', 'Ruchita']"
      ]
     },
     "execution_count": 61,
     "metadata": {},
     "output_type": "execute_result"
    }
   ],
   "source": [
    "students"
   ]
  },
  {
   "cell_type": "code",
   "execution_count": 62,
   "id": "baea3b4f",
   "metadata": {},
   "outputs": [
    {
     "data": {
      "text/plain": [
       "<Cell 'Kharghar'.C5>"
      ]
     },
     "execution_count": 62,
     "metadata": {},
     "output_type": "execute_result"
    }
   ],
   "source": [
    "sht1.cell(ctr,3)"
   ]
  },
  {
   "cell_type": "code",
   "execution_count": 63,
   "id": "bfb572af",
   "metadata": {},
   "outputs": [
    {
     "data": {
      "text/plain": [
       "<Cell 'Kharghar'.B5>"
      ]
     },
     "execution_count": 63,
     "metadata": {},
     "output_type": "execute_result"
    }
   ],
   "source": [
    "sht1.cell(ctr,2)"
   ]
  },
  {
   "cell_type": "code",
   "execution_count": 64,
   "id": "6a4648a4",
   "metadata": {},
   "outputs": [
    {
     "data": {
      "text/plain": [
       "<Cell 'Kharghar'.A5>"
      ]
     },
     "execution_count": 64,
     "metadata": {},
     "output_type": "execute_result"
    }
   ],
   "source": [
    "sht1.cell(ctr,1)"
   ]
  },
  {
   "cell_type": "code",
   "execution_count": 65,
   "id": "28218afc",
   "metadata": {},
   "outputs": [],
   "source": [
    "for ctr in range(2,6):\n",
    "    x = sht1.cell(ctr,3).value\n",
    "    students.append(x)"
   ]
  },
  {
   "cell_type": "code",
   "execution_count": 66,
   "id": "26ad9380",
   "metadata": {},
   "outputs": [
    {
     "data": {
      "text/plain": [
       "['Sudeep', 'Rakesh', 'Dhruv', 'Ruchita', 68, 84, 73, 82]"
      ]
     },
     "execution_count": 66,
     "metadata": {},
     "output_type": "execute_result"
    }
   ],
   "source": [
    "students"
   ]
  },
  {
   "cell_type": "code",
   "execution_count": 68,
   "id": "783640a6",
   "metadata": {},
   "outputs": [],
   "source": [
    "marks = []"
   ]
  },
  {
   "cell_type": "code",
   "execution_count": 71,
   "id": "d1d3befe",
   "metadata": {},
   "outputs": [],
   "source": [
    "for ctr in range(2,6):\n",
    "    x = sht1.cell(ctr,3).value\n",
    "    marks.append(x)"
   ]
  },
  {
   "cell_type": "code",
   "execution_count": 72,
   "id": "0ebe858b",
   "metadata": {},
   "outputs": [
    {
     "data": {
      "text/plain": [
       "['Sudeep', 'Rakesh', 'Dhruv', 'Ruchita', 68, 84, 73, 82]"
      ]
     },
     "execution_count": 72,
     "metadata": {},
     "output_type": "execute_result"
    }
   ],
   "source": [
    "marks"
   ]
  },
  {
   "cell_type": "code",
   "execution_count": 73,
   "id": "9532a6fd",
   "metadata": {},
   "outputs": [],
   "source": [
    "pl_name = ['Virat','Sachin','Dhoni','Rohit']\n",
    "pl_score = [34534,868964,46464,87564]"
   ]
  },
  {
   "cell_type": "code",
   "execution_count": 74,
   "id": "17e137b6",
   "metadata": {},
   "outputs": [],
   "source": [
    "wkbook = op.Workbook()"
   ]
  },
  {
   "cell_type": "code",
   "execution_count": 75,
   "id": "aea5713d",
   "metadata": {},
   "outputs": [],
   "source": [
    "sht1 = wkbook.create_sheet('IPL')"
   ]
  },
  {
   "cell_type": "code",
   "execution_count": 76,
   "id": "96251a36",
   "metadata": {},
   "outputs": [],
   "source": [
    "sht1['A1'] = 'Name'"
   ]
  },
  {
   "cell_type": "code",
   "execution_count": 77,
   "id": "b1feaa10",
   "metadata": {},
   "outputs": [],
   "source": [
    "sht1['B1'] = 'Score'"
   ]
  },
  {
   "cell_type": "code",
   "execution_count": 78,
   "id": "cabd2a6d",
   "metadata": {},
   "outputs": [],
   "source": [
    "wkbook.save('cricket.xlsx')"
   ]
  },
  {
   "cell_type": "code",
   "execution_count": 79,
   "id": "e0580343",
   "metadata": {},
   "outputs": [
    {
     "data": {
      "text/plain": [
       "4"
      ]
     },
     "execution_count": 79,
     "metadata": {},
     "output_type": "execute_result"
    }
   ],
   "source": [
    "len(pl_name)"
   ]
  },
  {
   "cell_type": "code",
   "execution_count": 80,
   "id": "b4bedebc",
   "metadata": {},
   "outputs": [],
   "source": [
    "a = len(pl_name)"
   ]
  },
  {
   "cell_type": "code",
   "execution_count": 81,
   "id": "b95549f0",
   "metadata": {},
   "outputs": [],
   "source": [
    "for ctr in range(2,a+2):\n",
    "    x = pl_name[ctr-2]\n",
    "    sht1.cell(ctr,1).value = x"
   ]
  },
  {
   "cell_type": "code",
   "execution_count": 82,
   "id": "47f62812",
   "metadata": {},
   "outputs": [],
   "source": [
    "for ctr in range(2,a+2):\n",
    "    x = pl_score[ctr-2]\n",
    "    sht1.cell(ctr,2).value = x"
   ]
  },
  {
   "cell_type": "code",
   "execution_count": 83,
   "id": "52c4d2a8",
   "metadata": {},
   "outputs": [],
   "source": [
    "wkbook.save('cricket.xlsx')"
   ]
  },
  {
   "cell_type": "code",
   "execution_count": 84,
   "id": "87ea3acb",
   "metadata": {},
   "outputs": [],
   "source": [
    "import pandas as pd"
   ]
  },
  {
   "cell_type": "code",
   "execution_count": 85,
   "id": "3de0e39c",
   "metadata": {},
   "outputs": [],
   "source": [
    "x = [3,7,8,1,2]"
   ]
  },
  {
   "cell_type": "code",
   "execution_count": 89,
   "id": "ce65afc0",
   "metadata": {},
   "outputs": [
    {
     "data": {
      "text/plain": [
       "list"
      ]
     },
     "execution_count": 89,
     "metadata": {},
     "output_type": "execute_result"
    }
   ],
   "source": [
    "type(x)"
   ]
  },
  {
   "cell_type": "code",
   "execution_count": 86,
   "id": "72d3dd99",
   "metadata": {},
   "outputs": [
    {
     "data": {
      "text/plain": [
       "8"
      ]
     },
     "execution_count": 86,
     "metadata": {},
     "output_type": "execute_result"
    }
   ],
   "source": [
    "x[2]"
   ]
  },
  {
   "cell_type": "code",
   "execution_count": 87,
   "id": "488146d7",
   "metadata": {},
   "outputs": [],
   "source": [
    "ser1 = pd.Series(x)"
   ]
  },
  {
   "cell_type": "code",
   "execution_count": 88,
   "id": "7e7dfb3d",
   "metadata": {},
   "outputs": [
    {
     "data": {
      "text/plain": [
       "0    3\n",
       "1    7\n",
       "2    8\n",
       "3    1\n",
       "4    2\n",
       "dtype: int64"
      ]
     },
     "execution_count": 88,
     "metadata": {},
     "output_type": "execute_result"
    }
   ],
   "source": [
    "ser1"
   ]
  },
  {
   "cell_type": "markdown",
   "id": "7e235efd",
   "metadata": {},
   "source": [
    "# ser1 = pd.Series(list_name)\n",
    "\n",
    "- This command is used to create series with index value.\n",
    "- Example - ser1 = pd.Series(x)"
   ]
  },
  {
   "cell_type": "code",
   "execution_count": 90,
   "id": "3d051768",
   "metadata": {},
   "outputs": [],
   "source": [
    "ser2 = pd.Series(x)\n",
    "ser2 = pd.Series(x, index = ['A','B','C','D','E'])"
   ]
  },
  {
   "cell_type": "code",
   "execution_count": 91,
   "id": "eb970a1c",
   "metadata": {},
   "outputs": [
    {
     "data": {
      "text/plain": [
       "A    3\n",
       "B    7\n",
       "C    8\n",
       "D    1\n",
       "E    2\n",
       "dtype: int64"
      ]
     },
     "execution_count": 91,
     "metadata": {},
     "output_type": "execute_result"
    }
   ],
   "source": [
    "ser2"
   ]
  },
  {
   "cell_type": "code",
   "execution_count": 92,
   "id": "6192b582",
   "metadata": {},
   "outputs": [
    {
     "data": {
      "text/plain": [
       "1"
      ]
     },
     "execution_count": 92,
     "metadata": {},
     "output_type": "execute_result"
    }
   ],
   "source": [
    "ser2[3]"
   ]
  },
  {
   "cell_type": "code",
   "execution_count": 93,
   "id": "0deb5652",
   "metadata": {},
   "outputs": [
    {
     "data": {
      "text/plain": [
       "1"
      ]
     },
     "execution_count": 93,
     "metadata": {},
     "output_type": "execute_result"
    }
   ],
   "source": [
    "ser2['D']"
   ]
  },
  {
   "cell_type": "markdown",
   "id": "ead96491",
   "metadata": {},
   "source": [
    "# ser2[index in integer value] & ser2['index in char value']\n",
    "\n",
    "- Both of these commands have same output.\n",
    "- These commands will return a value which is related to given index."
   ]
  },
  {
   "cell_type": "code",
   "execution_count": 96,
   "id": "1f95a7cc",
   "metadata": {},
   "outputs": [],
   "source": [
    "x = {'Sudeep':'Banglore','Sachin':'Mumbai','Virat':'Delhi','Ashwin':'Chennai'}\n",
    "ser3 = pd.Series(x)"
   ]
  },
  {
   "cell_type": "code",
   "execution_count": 97,
   "id": "999e0cb5",
   "metadata": {},
   "outputs": [
    {
     "data": {
      "text/plain": [
       "Sudeep    Banglore\n",
       "Sachin      Mumbai\n",
       "Virat        Delhi\n",
       "Ashwin     Chennai\n",
       "dtype: object"
      ]
     },
     "execution_count": 97,
     "metadata": {},
     "output_type": "execute_result"
    }
   ],
   "source": [
    "ser3"
   ]
  },
  {
   "cell_type": "code",
   "execution_count": 98,
   "id": "469e216c",
   "metadata": {},
   "outputs": [
    {
     "data": {
      "text/plain": [
       "Sudeep     Mumbai\n",
       "Sachin     Mumbai\n",
       "Virat       Delhi\n",
       "Ashwin    Chennai\n",
       "dtype: object"
      ]
     },
     "execution_count": 98,
     "metadata": {},
     "output_type": "execute_result"
    }
   ],
   "source": [
    "ser3['Sudeep'] = 'Mumbai'\n",
    "ser3"
   ]
  },
  {
   "cell_type": "code",
   "execution_count": 99,
   "id": "527b7e87",
   "metadata": {},
   "outputs": [
    {
     "data": {
      "text/plain": [
       "Sudeep     Mumbai\n",
       "Sachin      Dubai\n",
       "Virat       Delhi\n",
       "Ashwin    Chennai\n",
       "dtype: object"
      ]
     },
     "execution_count": 99,
     "metadata": {},
     "output_type": "execute_result"
    }
   ],
   "source": [
    "ser3[1] = 'Dubai'\n",
    "ser3"
   ]
  },
  {
   "cell_type": "code",
   "execution_count": 102,
   "id": "66cd2b6c",
   "metadata": {},
   "outputs": [],
   "source": [
    "new_pl = pd.Series(['Banglore','Kolkata'], index = ['ABD','Sehwag'])"
   ]
  },
  {
   "cell_type": "code",
   "execution_count": 103,
   "id": "1d4d7d61",
   "metadata": {},
   "outputs": [
    {
     "name": "stderr",
     "output_type": "stream",
     "text": [
      "C:\\Users\\vaibh\\AppData\\Local\\Temp\\ipykernel_20972\\1746866400.py:1: FutureWarning: The series.append method is deprecated and will be removed from pandas in a future version. Use pandas.concat instead.\n",
      "  ser3 = ser3.append(new_pl)\n"
     ]
    },
    {
     "data": {
      "text/plain": [
       "Sudeep      Mumbai\n",
       "Sachin       Dubai\n",
       "Virat        Delhi\n",
       "Ashwin     Chennai\n",
       "ABD       Banglore\n",
       "Sehwag     Kolkata\n",
       "dtype: object"
      ]
     },
     "execution_count": 103,
     "metadata": {},
     "output_type": "execute_result"
    }
   ],
   "source": [
    "ser3 = ser3.append(new_pl)\n",
    "ser3"
   ]
  },
  {
   "cell_type": "code",
   "execution_count": 104,
   "id": "60d63a74",
   "metadata": {},
   "outputs": [],
   "source": [
    "# list of list - Nested list\n",
    "\n",
    "stu_info = [['Sudeep','Banglore',78],['Rakesh','Chennai',57],['Mayur','Mumbai',85],['Charu','Kharghar',80]]"
   ]
  },
  {
   "cell_type": "code",
   "execution_count": 105,
   "id": "6b03b7b7",
   "metadata": {},
   "outputs": [
    {
     "data": {
      "text/plain": [
       "4"
      ]
     },
     "execution_count": 105,
     "metadata": {},
     "output_type": "execute_result"
    }
   ],
   "source": [
    "len(stu_info)"
   ]
  },
  {
   "cell_type": "code",
   "execution_count": 107,
   "id": "f63f6b6b",
   "metadata": {},
   "outputs": [
    {
     "data": {
      "text/html": [
       "<div>\n",
       "<style scoped>\n",
       "    .dataframe tbody tr th:only-of-type {\n",
       "        vertical-align: middle;\n",
       "    }\n",
       "\n",
       "    .dataframe tbody tr th {\n",
       "        vertical-align: top;\n",
       "    }\n",
       "\n",
       "    .dataframe thead th {\n",
       "        text-align: right;\n",
       "    }\n",
       "</style>\n",
       "<table border=\"1\" class=\"dataframe\">\n",
       "  <thead>\n",
       "    <tr style=\"text-align: right;\">\n",
       "      <th></th>\n",
       "      <th>Name</th>\n",
       "      <th>Location</th>\n",
       "      <th>Marks</th>\n",
       "    </tr>\n",
       "  </thead>\n",
       "  <tbody>\n",
       "    <tr>\n",
       "      <th>0</th>\n",
       "      <td>Sudeep</td>\n",
       "      <td>Banglore</td>\n",
       "      <td>78</td>\n",
       "    </tr>\n",
       "    <tr>\n",
       "      <th>1</th>\n",
       "      <td>Rakesh</td>\n",
       "      <td>Chennai</td>\n",
       "      <td>57</td>\n",
       "    </tr>\n",
       "    <tr>\n",
       "      <th>2</th>\n",
       "      <td>Mayur</td>\n",
       "      <td>Mumbai</td>\n",
       "      <td>85</td>\n",
       "    </tr>\n",
       "    <tr>\n",
       "      <th>3</th>\n",
       "      <td>Charu</td>\n",
       "      <td>Kharghar</td>\n",
       "      <td>80</td>\n",
       "    </tr>\n",
       "  </tbody>\n",
       "</table>\n",
       "</div>"
      ],
      "text/plain": [
       "     Name  Location  Marks\n",
       "0  Sudeep  Banglore     78\n",
       "1  Rakesh   Chennai     57\n",
       "2   Mayur    Mumbai     85\n",
       "3   Charu  Kharghar     80"
      ]
     },
     "execution_count": 107,
     "metadata": {},
     "output_type": "execute_result"
    }
   ],
   "source": [
    "stud_df = pd.DataFrame(stu_info, columns = ['Name','Location','Marks'])\n",
    "stud_df"
   ]
  },
  {
   "cell_type": "code",
   "execution_count": 123,
   "id": "c4714b3c",
   "metadata": {},
   "outputs": [],
   "source": [
    "pl_info = {'Name':['Sachin','Virat','Rohit','Ashwin'], 'Score':[3463,6453,3456,7634], 'Grade':['A','B','C','D']}"
   ]
  },
  {
   "cell_type": "code",
   "execution_count": 124,
   "id": "a6bff3d8",
   "metadata": {},
   "outputs": [
    {
     "data": {
      "text/html": [
       "<div>\n",
       "<style scoped>\n",
       "    .dataframe tbody tr th:only-of-type {\n",
       "        vertical-align: middle;\n",
       "    }\n",
       "\n",
       "    .dataframe tbody tr th {\n",
       "        vertical-align: top;\n",
       "    }\n",
       "\n",
       "    .dataframe thead th {\n",
       "        text-align: right;\n",
       "    }\n",
       "</style>\n",
       "<table border=\"1\" class=\"dataframe\">\n",
       "  <thead>\n",
       "    <tr style=\"text-align: right;\">\n",
       "      <th></th>\n",
       "      <th>Name</th>\n",
       "      <th>Score</th>\n",
       "      <th>Grade</th>\n",
       "    </tr>\n",
       "  </thead>\n",
       "  <tbody>\n",
       "    <tr>\n",
       "      <th>0</th>\n",
       "      <td>Sachin</td>\n",
       "      <td>3463</td>\n",
       "      <td>A</td>\n",
       "    </tr>\n",
       "    <tr>\n",
       "      <th>1</th>\n",
       "      <td>Virat</td>\n",
       "      <td>6453</td>\n",
       "      <td>B</td>\n",
       "    </tr>\n",
       "    <tr>\n",
       "      <th>2</th>\n",
       "      <td>Rohit</td>\n",
       "      <td>3456</td>\n",
       "      <td>C</td>\n",
       "    </tr>\n",
       "    <tr>\n",
       "      <th>3</th>\n",
       "      <td>Ashwin</td>\n",
       "      <td>7634</td>\n",
       "      <td>D</td>\n",
       "    </tr>\n",
       "  </tbody>\n",
       "</table>\n",
       "</div>"
      ],
      "text/plain": [
       "     Name  Score Grade\n",
       "0  Sachin   3463     A\n",
       "1   Virat   6453     B\n",
       "2   Rohit   3456     C\n",
       "3  Ashwin   7634     D"
      ]
     },
     "execution_count": 124,
     "metadata": {},
     "output_type": "execute_result"
    }
   ],
   "source": [
    "pl_df = pd.DataFrame(pl_info)\n",
    "pl_df"
   ]
  },
  {
   "cell_type": "code",
   "execution_count": 125,
   "id": "098da7cc",
   "metadata": {},
   "outputs": [
    {
     "data": {
      "text/html": [
       "<div>\n",
       "<style scoped>\n",
       "    .dataframe tbody tr th:only-of-type {\n",
       "        vertical-align: middle;\n",
       "    }\n",
       "\n",
       "    .dataframe tbody tr th {\n",
       "        vertical-align: top;\n",
       "    }\n",
       "\n",
       "    .dataframe thead th {\n",
       "        text-align: right;\n",
       "    }\n",
       "</style>\n",
       "<table border=\"1\" class=\"dataframe\">\n",
       "  <thead>\n",
       "    <tr style=\"text-align: right;\">\n",
       "      <th></th>\n",
       "      <th>Name</th>\n",
       "      <th>Score</th>\n",
       "      <th>Grade</th>\n",
       "    </tr>\n",
       "  </thead>\n",
       "  <tbody>\n",
       "    <tr>\n",
       "      <th>0</th>\n",
       "      <td>Sachin</td>\n",
       "      <td>3463</td>\n",
       "      <td>A</td>\n",
       "    </tr>\n",
       "    <tr>\n",
       "      <th>1</th>\n",
       "      <td>Virat</td>\n",
       "      <td>6453</td>\n",
       "      <td>B</td>\n",
       "    </tr>\n",
       "    <tr>\n",
       "      <th>2</th>\n",
       "      <td>Rohit</td>\n",
       "      <td>3456</td>\n",
       "      <td>B</td>\n",
       "    </tr>\n",
       "    <tr>\n",
       "      <th>3</th>\n",
       "      <td>Ashwin</td>\n",
       "      <td>7634</td>\n",
       "      <td>D</td>\n",
       "    </tr>\n",
       "  </tbody>\n",
       "</table>\n",
       "</div>"
      ],
      "text/plain": [
       "     Name  Score Grade\n",
       "0  Sachin   3463     A\n",
       "1   Virat   6453     B\n",
       "2   Rohit   3456     B\n",
       "3  Ashwin   7634     D"
      ]
     },
     "execution_count": 125,
     "metadata": {},
     "output_type": "execute_result"
    }
   ],
   "source": [
    "pl_df.at[2,'Grade'] = 'B'\n",
    "pl_df"
   ]
  },
  {
   "cell_type": "code",
   "execution_count": 126,
   "id": "3982bd7c",
   "metadata": {},
   "outputs": [
    {
     "data": {
      "text/html": [
       "<div>\n",
       "<style scoped>\n",
       "    .dataframe tbody tr th:only-of-type {\n",
       "        vertical-align: middle;\n",
       "    }\n",
       "\n",
       "    .dataframe tbody tr th {\n",
       "        vertical-align: top;\n",
       "    }\n",
       "\n",
       "    .dataframe thead th {\n",
       "        text-align: right;\n",
       "    }\n",
       "</style>\n",
       "<table border=\"1\" class=\"dataframe\">\n",
       "  <thead>\n",
       "    <tr style=\"text-align: right;\">\n",
       "      <th></th>\n",
       "      <th>Name</th>\n",
       "      <th>Score</th>\n",
       "      <th>Grade</th>\n",
       "    </tr>\n",
       "  </thead>\n",
       "  <tbody>\n",
       "    <tr>\n",
       "      <th>0</th>\n",
       "      <td>Sachin</td>\n",
       "      <td>3463</td>\n",
       "      <td>A</td>\n",
       "    </tr>\n",
       "    <tr>\n",
       "      <th>1</th>\n",
       "      <td>Virat</td>\n",
       "      <td>6453</td>\n",
       "      <td>B</td>\n",
       "    </tr>\n",
       "    <tr>\n",
       "      <th>2</th>\n",
       "      <td>Rohit</td>\n",
       "      <td>3456</td>\n",
       "      <td>B</td>\n",
       "    </tr>\n",
       "    <tr>\n",
       "      <th>3</th>\n",
       "      <td>Ashwin</td>\n",
       "      <td>7634</td>\n",
       "      <td>B</td>\n",
       "    </tr>\n",
       "  </tbody>\n",
       "</table>\n",
       "</div>"
      ],
      "text/plain": [
       "     Name  Score Grade\n",
       "0  Sachin   3463     A\n",
       "1   Virat   6453     B\n",
       "2   Rohit   3456     B\n",
       "3  Ashwin   7634     B"
      ]
     },
     "execution_count": 126,
     "metadata": {},
     "output_type": "execute_result"
    }
   ],
   "source": [
    "pl_df.iat[3,2] = 'B'\n",
    "pl_df"
   ]
  },
  {
   "cell_type": "markdown",
   "id": "29cf8ac2",
   "metadata": {},
   "source": [
    "# pl_df.at[row_data,column_data] = 'value'"
   ]
  },
  {
   "cell_type": "code",
   "execution_count": 119,
   "id": "5193d430",
   "metadata": {},
   "outputs": [],
   "source": [
    "new_pl = pd.DataFrame([['Jadeja',45632,'B'],['Dhoni',87654,'A']], columns = ['Players','Runs','Grade'])"
   ]
  },
  {
   "cell_type": "code",
   "execution_count": 120,
   "id": "e46bde23",
   "metadata": {},
   "outputs": [
    {
     "data": {
      "text/html": [
       "<div>\n",
       "<style scoped>\n",
       "    .dataframe tbody tr th:only-of-type {\n",
       "        vertical-align: middle;\n",
       "    }\n",
       "\n",
       "    .dataframe tbody tr th {\n",
       "        vertical-align: top;\n",
       "    }\n",
       "\n",
       "    .dataframe thead th {\n",
       "        text-align: right;\n",
       "    }\n",
       "</style>\n",
       "<table border=\"1\" class=\"dataframe\">\n",
       "  <thead>\n",
       "    <tr style=\"text-align: right;\">\n",
       "      <th></th>\n",
       "      <th>Players</th>\n",
       "      <th>Runs</th>\n",
       "      <th>Grade</th>\n",
       "    </tr>\n",
       "  </thead>\n",
       "  <tbody>\n",
       "    <tr>\n",
       "      <th>0</th>\n",
       "      <td>Jadeja</td>\n",
       "      <td>45632</td>\n",
       "      <td>B</td>\n",
       "    </tr>\n",
       "    <tr>\n",
       "      <th>1</th>\n",
       "      <td>Dhoni</td>\n",
       "      <td>87654</td>\n",
       "      <td>A</td>\n",
       "    </tr>\n",
       "  </tbody>\n",
       "</table>\n",
       "</div>"
      ],
      "text/plain": [
       "  Players   Runs Grade\n",
       "0  Jadeja  45632     B\n",
       "1   Dhoni  87654     A"
      ]
     },
     "execution_count": 120,
     "metadata": {},
     "output_type": "execute_result"
    }
   ],
   "source": [
    "new_pl"
   ]
  },
  {
   "cell_type": "code",
   "execution_count": 122,
   "id": "c53e6897",
   "metadata": {},
   "outputs": [
    {
     "name": "stderr",
     "output_type": "stream",
     "text": [
      "C:\\Users\\vaibh\\AppData\\Local\\Temp\\ipykernel_20972\\3435184131.py:1: FutureWarning: The frame.append method is deprecated and will be removed from pandas in a future version. Use pandas.concat instead.\n",
      "  pl_df = pl_df.append(new_pl)\n"
     ]
    },
    {
     "data": {
      "text/html": [
       "<div>\n",
       "<style scoped>\n",
       "    .dataframe tbody tr th:only-of-type {\n",
       "        vertical-align: middle;\n",
       "    }\n",
       "\n",
       "    .dataframe tbody tr th {\n",
       "        vertical-align: top;\n",
       "    }\n",
       "\n",
       "    .dataframe thead th {\n",
       "        text-align: right;\n",
       "    }\n",
       "</style>\n",
       "<table border=\"1\" class=\"dataframe\">\n",
       "  <thead>\n",
       "    <tr style=\"text-align: right;\">\n",
       "      <th></th>\n",
       "      <th>Name</th>\n",
       "      <th>Score</th>\n",
       "      <th>Grade</th>\n",
       "      <th>Players</th>\n",
       "      <th>Runs</th>\n",
       "    </tr>\n",
       "  </thead>\n",
       "  <tbody>\n",
       "    <tr>\n",
       "      <th>0</th>\n",
       "      <td>Sachin</td>\n",
       "      <td>3463.0</td>\n",
       "      <td>A</td>\n",
       "      <td>NaN</td>\n",
       "      <td>NaN</td>\n",
       "    </tr>\n",
       "    <tr>\n",
       "      <th>1</th>\n",
       "      <td>Virat</td>\n",
       "      <td>6453.0</td>\n",
       "      <td>B</td>\n",
       "      <td>NaN</td>\n",
       "      <td>NaN</td>\n",
       "    </tr>\n",
       "    <tr>\n",
       "      <th>2</th>\n",
       "      <td>Rohit</td>\n",
       "      <td>3456.0</td>\n",
       "      <td>B</td>\n",
       "      <td>NaN</td>\n",
       "      <td>NaN</td>\n",
       "    </tr>\n",
       "    <tr>\n",
       "      <th>3</th>\n",
       "      <td>Ashwin</td>\n",
       "      <td>7634.0</td>\n",
       "      <td>B</td>\n",
       "      <td>NaN</td>\n",
       "      <td>NaN</td>\n",
       "    </tr>\n",
       "    <tr>\n",
       "      <th>0</th>\n",
       "      <td>NaN</td>\n",
       "      <td>NaN</td>\n",
       "      <td>B</td>\n",
       "      <td>Jadeja</td>\n",
       "      <td>45632.0</td>\n",
       "    </tr>\n",
       "    <tr>\n",
       "      <th>1</th>\n",
       "      <td>NaN</td>\n",
       "      <td>NaN</td>\n",
       "      <td>A</td>\n",
       "      <td>Dhoni</td>\n",
       "      <td>87654.0</td>\n",
       "    </tr>\n",
       "    <tr>\n",
       "      <th>0</th>\n",
       "      <td>NaN</td>\n",
       "      <td>NaN</td>\n",
       "      <td>B</td>\n",
       "      <td>Jadeja</td>\n",
       "      <td>45632.0</td>\n",
       "    </tr>\n",
       "    <tr>\n",
       "      <th>1</th>\n",
       "      <td>NaN</td>\n",
       "      <td>NaN</td>\n",
       "      <td>A</td>\n",
       "      <td>Dhoni</td>\n",
       "      <td>87654.0</td>\n",
       "    </tr>\n",
       "  </tbody>\n",
       "</table>\n",
       "</div>"
      ],
      "text/plain": [
       "     Name   Score Grade Players     Runs\n",
       "0  Sachin  3463.0     A     NaN      NaN\n",
       "1   Virat  6453.0     B     NaN      NaN\n",
       "2   Rohit  3456.0     B     NaN      NaN\n",
       "3  Ashwin  7634.0     B     NaN      NaN\n",
       "0     NaN     NaN     B  Jadeja  45632.0\n",
       "1     NaN     NaN     A   Dhoni  87654.0\n",
       "0     NaN     NaN     B  Jadeja  45632.0\n",
       "1     NaN     NaN     A   Dhoni  87654.0"
      ]
     },
     "execution_count": 122,
     "metadata": {},
     "output_type": "execute_result"
    }
   ],
   "source": [
    "pl_df = pl_df.append(new_pl)\n",
    "pl_df"
   ]
  },
  {
   "cell_type": "code",
   "execution_count": 127,
   "id": "1ae40f4f",
   "metadata": {},
   "outputs": [],
   "source": [
    "new_pl = pd.DataFrame([['Jadeja',45632,'B'],['Dhoni',87654,'A']], columns = ['Name','Score','Grade'])"
   ]
  },
  {
   "cell_type": "code",
   "execution_count": 128,
   "id": "573bbe4d",
   "metadata": {},
   "outputs": [
    {
     "name": "stderr",
     "output_type": "stream",
     "text": [
      "C:\\Users\\vaibh\\AppData\\Local\\Temp\\ipykernel_20972\\4102215448.py:1: FutureWarning: The frame.append method is deprecated and will be removed from pandas in a future version. Use pandas.concat instead.\n",
      "  pl_df = pl_df.append(new_pl)\n"
     ]
    }
   ],
   "source": [
    "pl_df = pl_df.append(new_pl)"
   ]
  },
  {
   "cell_type": "code",
   "execution_count": 129,
   "id": "34a3f1d1",
   "metadata": {},
   "outputs": [
    {
     "data": {
      "text/html": [
       "<div>\n",
       "<style scoped>\n",
       "    .dataframe tbody tr th:only-of-type {\n",
       "        vertical-align: middle;\n",
       "    }\n",
       "\n",
       "    .dataframe tbody tr th {\n",
       "        vertical-align: top;\n",
       "    }\n",
       "\n",
       "    .dataframe thead th {\n",
       "        text-align: right;\n",
       "    }\n",
       "</style>\n",
       "<table border=\"1\" class=\"dataframe\">\n",
       "  <thead>\n",
       "    <tr style=\"text-align: right;\">\n",
       "      <th></th>\n",
       "      <th>Name</th>\n",
       "      <th>Score</th>\n",
       "      <th>Grade</th>\n",
       "    </tr>\n",
       "  </thead>\n",
       "  <tbody>\n",
       "    <tr>\n",
       "      <th>0</th>\n",
       "      <td>Sachin</td>\n",
       "      <td>3463</td>\n",
       "      <td>A</td>\n",
       "    </tr>\n",
       "    <tr>\n",
       "      <th>1</th>\n",
       "      <td>Virat</td>\n",
       "      <td>6453</td>\n",
       "      <td>B</td>\n",
       "    </tr>\n",
       "    <tr>\n",
       "      <th>2</th>\n",
       "      <td>Rohit</td>\n",
       "      <td>3456</td>\n",
       "      <td>B</td>\n",
       "    </tr>\n",
       "    <tr>\n",
       "      <th>3</th>\n",
       "      <td>Ashwin</td>\n",
       "      <td>7634</td>\n",
       "      <td>B</td>\n",
       "    </tr>\n",
       "    <tr>\n",
       "      <th>0</th>\n",
       "      <td>Jadeja</td>\n",
       "      <td>45632</td>\n",
       "      <td>B</td>\n",
       "    </tr>\n",
       "    <tr>\n",
       "      <th>1</th>\n",
       "      <td>Dhoni</td>\n",
       "      <td>87654</td>\n",
       "      <td>A</td>\n",
       "    </tr>\n",
       "  </tbody>\n",
       "</table>\n",
       "</div>"
      ],
      "text/plain": [
       "     Name  Score Grade\n",
       "0  Sachin   3463     A\n",
       "1   Virat   6453     B\n",
       "2   Rohit   3456     B\n",
       "3  Ashwin   7634     B\n",
       "0  Jadeja  45632     B\n",
       "1   Dhoni  87654     A"
      ]
     },
     "execution_count": 129,
     "metadata": {},
     "output_type": "execute_result"
    }
   ],
   "source": [
    "pl_df"
   ]
  },
  {
   "cell_type": "code",
   "execution_count": 130,
   "id": "4f933fbb",
   "metadata": {},
   "outputs": [
    {
     "data": {
      "text/plain": [
       "(6, 3)"
      ]
     },
     "execution_count": 130,
     "metadata": {},
     "output_type": "execute_result"
    }
   ],
   "source": [
    "pl_df.shape"
   ]
  },
  {
   "cell_type": "code",
   "execution_count": 131,
   "id": "1b6a8133",
   "metadata": {},
   "outputs": [
    {
     "data": {
      "text/html": [
       "<div>\n",
       "<style scoped>\n",
       "    .dataframe tbody tr th:only-of-type {\n",
       "        vertical-align: middle;\n",
       "    }\n",
       "\n",
       "    .dataframe tbody tr th {\n",
       "        vertical-align: top;\n",
       "    }\n",
       "\n",
       "    .dataframe thead th {\n",
       "        text-align: right;\n",
       "    }\n",
       "</style>\n",
       "<table border=\"1\" class=\"dataframe\">\n",
       "  <thead>\n",
       "    <tr style=\"text-align: right;\">\n",
       "      <th></th>\n",
       "      <th>Name</th>\n",
       "      <th>Score</th>\n",
       "      <th>Grade</th>\n",
       "    </tr>\n",
       "  </thead>\n",
       "  <tbody>\n",
       "    <tr>\n",
       "      <th>0</th>\n",
       "      <td>Sachin</td>\n",
       "      <td>3463</td>\n",
       "      <td>A</td>\n",
       "    </tr>\n",
       "    <tr>\n",
       "      <th>1</th>\n",
       "      <td>Virat</td>\n",
       "      <td>6453</td>\n",
       "      <td>B</td>\n",
       "    </tr>\n",
       "    <tr>\n",
       "      <th>2</th>\n",
       "      <td>Rohit</td>\n",
       "      <td>3456</td>\n",
       "      <td>B</td>\n",
       "    </tr>\n",
       "    <tr>\n",
       "      <th>3</th>\n",
       "      <td>Ashwin</td>\n",
       "      <td>7634</td>\n",
       "      <td>B</td>\n",
       "    </tr>\n",
       "    <tr>\n",
       "      <th>4</th>\n",
       "      <td>Jadeja</td>\n",
       "      <td>45632</td>\n",
       "      <td>B</td>\n",
       "    </tr>\n",
       "    <tr>\n",
       "      <th>5</th>\n",
       "      <td>Dhoni</td>\n",
       "      <td>87654</td>\n",
       "      <td>A</td>\n",
       "    </tr>\n",
       "  </tbody>\n",
       "</table>\n",
       "</div>"
      ],
      "text/plain": [
       "     Name  Score Grade\n",
       "0  Sachin   3463     A\n",
       "1   Virat   6453     B\n",
       "2   Rohit   3456     B\n",
       "3  Ashwin   7634     B\n",
       "4  Jadeja  45632     B\n",
       "5   Dhoni  87654     A"
      ]
     },
     "execution_count": 131,
     "metadata": {},
     "output_type": "execute_result"
    }
   ],
   "source": [
    "pl_df.index = range(pl_df.shape[0])\n",
    "pl_df"
   ]
  },
  {
   "cell_type": "code",
   "execution_count": 132,
   "id": "1d558ca7",
   "metadata": {},
   "outputs": [
    {
     "data": {
      "text/plain": [
       "6"
      ]
     },
     "execution_count": 132,
     "metadata": {},
     "output_type": "execute_result"
    }
   ],
   "source": [
    "y = ['MI','RCB','MI','RR','CSK','CSK']\n",
    "len(y)"
   ]
  },
  {
   "cell_type": "code",
   "execution_count": 133,
   "id": "36d8c3e4",
   "metadata": {},
   "outputs": [
    {
     "data": {
      "text/html": [
       "<div>\n",
       "<style scoped>\n",
       "    .dataframe tbody tr th:only-of-type {\n",
       "        vertical-align: middle;\n",
       "    }\n",
       "\n",
       "    .dataframe tbody tr th {\n",
       "        vertical-align: top;\n",
       "    }\n",
       "\n",
       "    .dataframe thead th {\n",
       "        text-align: right;\n",
       "    }\n",
       "</style>\n",
       "<table border=\"1\" class=\"dataframe\">\n",
       "  <thead>\n",
       "    <tr style=\"text-align: right;\">\n",
       "      <th></th>\n",
       "      <th>Name</th>\n",
       "      <th>Score</th>\n",
       "      <th>Grade</th>\n",
       "      <th>Team</th>\n",
       "    </tr>\n",
       "  </thead>\n",
       "  <tbody>\n",
       "    <tr>\n",
       "      <th>0</th>\n",
       "      <td>Sachin</td>\n",
       "      <td>3463</td>\n",
       "      <td>A</td>\n",
       "      <td>MI</td>\n",
       "    </tr>\n",
       "    <tr>\n",
       "      <th>1</th>\n",
       "      <td>Virat</td>\n",
       "      <td>6453</td>\n",
       "      <td>B</td>\n",
       "      <td>RCB</td>\n",
       "    </tr>\n",
       "    <tr>\n",
       "      <th>2</th>\n",
       "      <td>Rohit</td>\n",
       "      <td>3456</td>\n",
       "      <td>B</td>\n",
       "      <td>MI</td>\n",
       "    </tr>\n",
       "    <tr>\n",
       "      <th>3</th>\n",
       "      <td>Ashwin</td>\n",
       "      <td>7634</td>\n",
       "      <td>B</td>\n",
       "      <td>RR</td>\n",
       "    </tr>\n",
       "    <tr>\n",
       "      <th>4</th>\n",
       "      <td>Jadeja</td>\n",
       "      <td>45632</td>\n",
       "      <td>B</td>\n",
       "      <td>CSK</td>\n",
       "    </tr>\n",
       "    <tr>\n",
       "      <th>5</th>\n",
       "      <td>Dhoni</td>\n",
       "      <td>87654</td>\n",
       "      <td>A</td>\n",
       "      <td>CSK</td>\n",
       "    </tr>\n",
       "  </tbody>\n",
       "</table>\n",
       "</div>"
      ],
      "text/plain": [
       "     Name  Score Grade Team\n",
       "0  Sachin   3463     A   MI\n",
       "1   Virat   6453     B  RCB\n",
       "2   Rohit   3456     B   MI\n",
       "3  Ashwin   7634     B   RR\n",
       "4  Jadeja  45632     B  CSK\n",
       "5   Dhoni  87654     A  CSK"
      ]
     },
     "execution_count": 133,
     "metadata": {},
     "output_type": "execute_result"
    }
   ],
   "source": [
    "pl_df['Team'] = y\n",
    "pl_df"
   ]
  },
  {
   "cell_type": "code",
   "execution_count": null,
   "id": "302e4b8e",
   "metadata": {},
   "outputs": [],
   "source": []
  }
 ],
 "metadata": {
  "kernelspec": {
   "display_name": "Python 3 (ipykernel)",
   "language": "python",
   "name": "python3"
  },
  "language_info": {
   "codemirror_mode": {
    "name": "ipython",
    "version": 3
   },
   "file_extension": ".py",
   "mimetype": "text/x-python",
   "name": "python",
   "nbconvert_exporter": "python",
   "pygments_lexer": "ipython3",
   "version": "3.11.2"
  }
 },
 "nbformat": 4,
 "nbformat_minor": 5
}
