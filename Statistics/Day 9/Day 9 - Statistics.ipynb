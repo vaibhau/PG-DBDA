{
 "cells": [
  {
   "cell_type": "markdown",
   "id": "425dc9d5",
   "metadata": {},
   "source": [
    "# chi square distribution\n",
    "\n",
    "- 1. goodness of fit - one variable\n",
    "- 2. degree of association - two variables"
   ]
  },
  {
   "cell_type": "code",
   "execution_count": 1,
   "id": "5cda4593",
   "metadata": {},
   "outputs": [],
   "source": [
    "import numpy as np\n",
    "import pandas as pd\n",
    "import scipy\n",
    "from scipy import stats\n",
    "from scipy.stats import chisquare"
   ]
  },
  {
   "cell_type": "code",
   "execution_count": 2,
   "id": "3b767760",
   "metadata": {},
   "outputs": [],
   "source": [
    "pattern = np.array([0.6,0.25,0.1,0.05])"
   ]
  },
  {
   "cell_type": "code",
   "execution_count": 3,
   "id": "1e4d4b9c",
   "metadata": {},
   "outputs": [
    {
     "data": {
      "text/plain": [
       "1.0"
      ]
     },
     "execution_count": 3,
     "metadata": {},
     "output_type": "execute_result"
    }
   ],
   "source": [
    "sum(pattern)"
   ]
  },
  {
   "cell_type": "code",
   "execution_count": 4,
   "id": "242112cc",
   "metadata": {},
   "outputs": [],
   "source": [
    "obs_counts = np.array([250,180,120,40])"
   ]
  },
  {
   "cell_type": "code",
   "execution_count": 5,
   "id": "664f1e4c",
   "metadata": {},
   "outputs": [],
   "source": [
    "exp_counts = 590*pattern"
   ]
  },
  {
   "cell_type": "code",
   "execution_count": 6,
   "id": "077d5fd7",
   "metadata": {},
   "outputs": [
    {
     "data": {
      "text/plain": [
       "array([354. , 147.5,  59. ,  29.5])"
      ]
     },
     "execution_count": 6,
     "metadata": {},
     "output_type": "execute_result"
    }
   ],
   "source": [
    "exp_counts"
   ]
  },
  {
   "cell_type": "code",
   "execution_count": 7,
   "id": "18d4dbb7",
   "metadata": {},
   "outputs": [
    {
     "data": {
      "text/plain": [
       "Power_divergenceResult(statistic=104.51977401129943, pvalue=1.657508756495914e-22)"
      ]
     },
     "execution_count": 7,
     "metadata": {},
     "output_type": "execute_result"
    }
   ],
   "source": [
    "scipy.stats.chisquare(obs_counts,exp_counts)"
   ]
  },
  {
   "cell_type": "code",
   "execution_count": 9,
   "id": "e369f39e",
   "metadata": {},
   "outputs": [
    {
     "data": {
      "text/plain": [
       "array([-104. ,   32.5,   61. ,   10.5])"
      ]
     },
     "execution_count": 9,
     "metadata": {},
     "output_type": "execute_result"
    }
   ],
   "source": [
    "d = obs_counts - exp_counts\n",
    "d"
   ]
  },
  {
   "cell_type": "code",
   "execution_count": 10,
   "id": "ebc65cf8",
   "metadata": {},
   "outputs": [
    {
     "data": {
      "text/plain": [
       "array([30.55367232,  7.16101695, 63.06779661,  3.73728814])"
      ]
     },
     "execution_count": 10,
     "metadata": {},
     "output_type": "execute_result"
    }
   ],
   "source": [
    "c = d**2 / exp_counts\n",
    "c"
   ]
  },
  {
   "cell_type": "code",
   "execution_count": 11,
   "id": "ef28edf6",
   "metadata": {},
   "outputs": [
    {
     "data": {
      "text/plain": [
       "104.51977401129943"
      ]
     },
     "execution_count": 11,
     "metadata": {},
     "output_type": "execute_result"
    }
   ],
   "source": [
    "sum(c)"
   ]
  },
  {
   "cell_type": "markdown",
   "id": "b6597b39",
   "metadata": {},
   "source": [
    "# Degree of association - 2 variables\n"
   ]
  },
  {
   "cell_type": "code",
   "execution_count": 12,
   "id": "b95e63ea",
   "metadata": {},
   "outputs": [
    {
     "data": {
      "text/plain": [
       "array([[45, 27, 21],\n",
       "       [31, 28, 27]])"
      ]
     },
     "execution_count": 12,
     "metadata": {},
     "output_type": "execute_result"
    }
   ],
   "source": [
    "a1 = np.array([[45,27,21],[31,28,27]])\n",
    "a1"
   ]
  },
  {
   "cell_type": "markdown",
   "id": "0152912f",
   "metadata": {},
   "source": [
    "Ho - whether you get the job or not does not depend on the qualifications"
   ]
  },
  {
   "cell_type": "code",
   "execution_count": 14,
   "id": "38f20efa",
   "metadata": {},
   "outputs": [],
   "source": [
    "from scipy.stats import chi2_contingency"
   ]
  },
  {
   "cell_type": "code",
   "execution_count": 15,
   "id": "bdb0658c",
   "metadata": {},
   "outputs": [
    {
     "data": {
      "text/plain": [
       "Chi2ContingencyResult(statistic=3.0780934692405153, pvalue=0.2145855609456467, dof=2, expected_freq=array([[39.48603352, 28.57541899, 24.93854749],\n",
       "       [36.51396648, 26.42458101, 23.06145251]]))"
      ]
     },
     "execution_count": 15,
     "metadata": {},
     "output_type": "execute_result"
    }
   ],
   "source": [
    "scipy.stats.chi2_contingency(a1)"
   ]
  },
  {
   "cell_type": "markdown",
   "id": "1721e3d7",
   "metadata": {},
   "source": [
    "# Supervised Learning\n",
    "\n",
    "### 1. Simple linear regression\n",
    "\n",
    "- response - contineous\n",
    "- single predictor - continuos\n",
    "- y = mx + c [simple linear regression]\n",
    "- y = m1x1 + m2x2 + c [multiple linear regression]\n",
    "\n",
    "corelation co-efficient gives the information about the two continuos variables.\n",
    "- 1. sign of number (-,+) - sign of the corelation co-efficient tells us the type of relation\n",
    "positive relationship - 1st value increases then 2nd value increases\n",
    "negative relationship - increasing value of x, value of y is decreasing\n",
    "- 2. magnitude of number \n",
    "magnitude tells you the strength of the relationship.\n",
    "closest to 1, stronger is the relationship between 2 variables.\n",
    "\n",
    "cc denoted by r : r between A and B found to be 0.87 and A and C is -0.96(closest to -1(strong -ve relationship so I will choose c (ignore the sign of calculate)))\n",
    "\n",
    "cc A and B 0.1 ()\n",
    "\n",
    "It ranges from -1 to 1.\n",
    "It cannot exceed its range, not even -1.1 or 1.1\n"
   ]
  },
  {
   "cell_type": "markdown",
   "id": "6aeafdfa",
   "metadata": {},
   "source": [
    "# Simple Linear Regression"
   ]
  },
  {
   "cell_type": "code",
   "execution_count": 155,
   "id": "b6a4d9fa",
   "metadata": {},
   "outputs": [],
   "source": [
    "import numpy as np\n",
    "import pandas as pd\n",
    "import statsmodels\n",
    "import sklearn\n",
    "import statsmodels.api as sm\n",
    "from statsmodels.formula.api import ols\n",
    "import statsmodels.stats.multicomp\n",
    "import sklearn\n",
    "from sklearn.model_selection import train_test_split\n",
    "from sklearn.metrics import confusion_matrix\n",
    "from sklearn.metrics import classification_report"
   ]
  },
  {
   "cell_type": "code",
   "execution_count": 156,
   "id": "4227af95",
   "metadata": {},
   "outputs": [],
   "source": [
    "df = pd.read_excel('CDAC_DataBook.xlsx', sheet_name='faithful')"
   ]
  },
  {
   "cell_type": "code",
   "execution_count": 157,
   "id": "8ef32e1d",
   "metadata": {},
   "outputs": [
    {
     "data": {
      "text/html": [
       "<div>\n",
       "<style scoped>\n",
       "    .dataframe tbody tr th:only-of-type {\n",
       "        vertical-align: middle;\n",
       "    }\n",
       "\n",
       "    .dataframe tbody tr th {\n",
       "        vertical-align: top;\n",
       "    }\n",
       "\n",
       "    .dataframe thead th {\n",
       "        text-align: right;\n",
       "    }\n",
       "</style>\n",
       "<table border=\"1\" class=\"dataframe\">\n",
       "  <thead>\n",
       "    <tr style=\"text-align: right;\">\n",
       "      <th></th>\n",
       "      <th>eruptions</th>\n",
       "      <th>waiting</th>\n",
       "    </tr>\n",
       "  </thead>\n",
       "  <tbody>\n",
       "    <tr>\n",
       "      <th>0</th>\n",
       "      <td>3.600</td>\n",
       "      <td>79</td>\n",
       "    </tr>\n",
       "    <tr>\n",
       "      <th>1</th>\n",
       "      <td>1.800</td>\n",
       "      <td>54</td>\n",
       "    </tr>\n",
       "    <tr>\n",
       "      <th>2</th>\n",
       "      <td>3.333</td>\n",
       "      <td>74</td>\n",
       "    </tr>\n",
       "    <tr>\n",
       "      <th>3</th>\n",
       "      <td>2.283</td>\n",
       "      <td>62</td>\n",
       "    </tr>\n",
       "    <tr>\n",
       "      <th>4</th>\n",
       "      <td>4.533</td>\n",
       "      <td>85</td>\n",
       "    </tr>\n",
       "  </tbody>\n",
       "</table>\n",
       "</div>"
      ],
      "text/plain": [
       "   eruptions  waiting\n",
       "0      3.600       79\n",
       "1      1.800       54\n",
       "2      3.333       74\n",
       "3      2.283       62\n",
       "4      4.533       85"
      ]
     },
     "execution_count": 157,
     "metadata": {},
     "output_type": "execute_result"
    }
   ],
   "source": [
    "df.head()"
   ]
  },
  {
   "cell_type": "code",
   "execution_count": 158,
   "id": "5dbf105c",
   "metadata": {},
   "outputs": [],
   "source": [
    "x_train,x_test,y_train,y_test = train_test_split(df['waiting'],df['eruptions'],test_size = 0.25)"
   ]
  },
  {
   "cell_type": "code",
   "execution_count": 159,
   "id": "eb63296c",
   "metadata": {},
   "outputs": [
    {
     "data": {
      "text/plain": [
       "37     80\n",
       "191    57\n",
       "173    68\n",
       "238    79\n",
       "121    69\n",
       "Name: waiting, dtype: int64"
      ]
     },
     "execution_count": 159,
     "metadata": {},
     "output_type": "execute_result"
    }
   ],
   "source": [
    "x_train.head()"
   ]
  },
  {
   "cell_type": "code",
   "execution_count": 160,
   "id": "b732723c",
   "metadata": {},
   "outputs": [
    {
     "data": {
      "text/plain": [
       "37     4.833\n",
       "191    1.833\n",
       "173    3.333\n",
       "238    3.950\n",
       "121    4.067\n",
       "Name: eruptions, dtype: float64"
      ]
     },
     "execution_count": 160,
     "metadata": {},
     "output_type": "execute_result"
    }
   ],
   "source": [
    "y_train.head()"
   ]
  },
  {
   "cell_type": "code",
   "execution_count": 161,
   "id": "d8b8c9be",
   "metadata": {},
   "outputs": [],
   "source": [
    "# to add constant term to the predictor column\n",
    "x_train = sm.add_constant(x_train,prepend = False)"
   ]
  },
  {
   "cell_type": "code",
   "execution_count": 162,
   "id": "5b2eb31d",
   "metadata": {},
   "outputs": [],
   "source": [
    "mod1 = sm.OLS(y_train,x_train).fit()"
   ]
  },
  {
   "cell_type": "code",
   "execution_count": 163,
   "id": "9d37430c",
   "metadata": {},
   "outputs": [
    {
     "name": "stdout",
     "output_type": "stream",
     "text": [
      "                            OLS Regression Results                            \n",
      "==============================================================================\n",
      "Dep. Variable:              eruptions   R-squared:                       0.814\n",
      "Model:                            OLS   Adj. R-squared:                  0.813\n",
      "Method:                 Least Squares   F-statistic:                     885.0\n",
      "Date:                Fri, 23 Jun 2023   Prob (F-statistic):           9.41e-76\n",
      "Time:                        15:12:29   Log-Likelihood:                -147.25\n",
      "No. Observations:                 204   AIC:                             298.5\n",
      "Df Residuals:                     202   BIC:                             305.1\n",
      "Df Model:                           1                                         \n",
      "Covariance Type:            nonrobust                                         \n",
      "==============================================================================\n",
      "                 coef    std err          t      P>|t|      [0.025      0.975]\n",
      "------------------------------------------------------------------------------\n",
      "waiting        0.0773      0.003     29.749      0.000       0.072       0.082\n",
      "const         -1.9753      0.186    -10.626      0.000      -2.342      -1.609\n",
      "==============================================================================\n",
      "Omnibus:                        3.320   Durbin-Watson:                   1.889\n",
      "Prob(Omnibus):                  0.190   Jarque-Bera (JB):                2.628\n",
      "Skew:                          -0.151   Prob(JB):                        0.269\n",
      "Kurtosis:                       2.533   Cond. No.                         379.\n",
      "==============================================================================\n",
      "\n",
      "Notes:\n",
      "[1] Standard Errors assume that the covariance matrix of the errors is correctly specified.\n"
     ]
    }
   ],
   "source": [
    "print(mod1.summary())"
   ]
  },
  {
   "cell_type": "markdown",
   "id": "d1cf9918",
   "metadata": {},
   "source": [
    "# R-squared\n",
    "\n",
    "- defines how much data is in correct form.\n",
    "- If it is closer to the 1 then, data is in correct form."
   ]
  },
  {
   "cell_type": "code",
   "execution_count": 111,
   "id": "cbab5139",
   "metadata": {},
   "outputs": [],
   "source": [
    "x_test = sm.add_constant(x_test,prepend = False) # actual output"
   ]
  },
  {
   "cell_type": "code",
   "execution_count": 112,
   "id": "6cf4f4ce",
   "metadata": {},
   "outputs": [],
   "source": [
    "y_pred = mod1.predict(x_test) #predicted output"
   ]
  },
  {
   "cell_type": "code",
   "execution_count": 113,
   "id": "028e3325",
   "metadata": {},
   "outputs": [
    {
     "data": {
      "text/plain": [
       "62    1.737247\n",
       "53    4.170883\n",
       "24    3.714576\n",
       "2     3.714576\n",
       "35    2.041452\n",
       "dtype: float64"
      ]
     },
     "execution_count": 113,
     "metadata": {},
     "output_type": "execute_result"
    }
   ],
   "source": [
    "y_pred[:5] #prediction"
   ]
  },
  {
   "cell_type": "code",
   "execution_count": 114,
   "id": "9e81f2a9",
   "metadata": {},
   "outputs": [
    {
     "data": {
      "text/plain": [
       "62    1.750\n",
       "53    4.833\n",
       "24    4.533\n",
       "2     3.333\n",
       "35    2.017\n",
       "Name: eruptions, dtype: float64"
      ]
     },
     "execution_count": 114,
     "metadata": {},
     "output_type": "execute_result"
    }
   ],
   "source": [
    "y_test[:5] #actual output"
   ]
  },
  {
   "cell_type": "markdown",
   "id": "ae2747c1",
   "metadata": {},
   "source": [
    "# Multiple Linear Regression"
   ]
  },
  {
   "cell_type": "code",
   "execution_count": 115,
   "id": "914c77f6",
   "metadata": {},
   "outputs": [],
   "source": [
    "df = pd.read_excel('CDAC_DataBook.xlsx',sheet_name = 'stackloss')"
   ]
  },
  {
   "cell_type": "code",
   "execution_count": 116,
   "id": "3e46acdb",
   "metadata": {},
   "outputs": [
    {
     "data": {
      "text/html": [
       "<div>\n",
       "<style scoped>\n",
       "    .dataframe tbody tr th:only-of-type {\n",
       "        vertical-align: middle;\n",
       "    }\n",
       "\n",
       "    .dataframe tbody tr th {\n",
       "        vertical-align: top;\n",
       "    }\n",
       "\n",
       "    .dataframe thead th {\n",
       "        text-align: right;\n",
       "    }\n",
       "</style>\n",
       "<table border=\"1\" class=\"dataframe\">\n",
       "  <thead>\n",
       "    <tr style=\"text-align: right;\">\n",
       "      <th></th>\n",
       "      <th>AirFlow</th>\n",
       "      <th>WaterTemp</th>\n",
       "      <th>AcidConc</th>\n",
       "      <th>StackLoss</th>\n",
       "    </tr>\n",
       "  </thead>\n",
       "  <tbody>\n",
       "    <tr>\n",
       "      <th>0</th>\n",
       "      <td>80</td>\n",
       "      <td>27</td>\n",
       "      <td>89</td>\n",
       "      <td>42</td>\n",
       "    </tr>\n",
       "    <tr>\n",
       "      <th>1</th>\n",
       "      <td>80</td>\n",
       "      <td>27</td>\n",
       "      <td>88</td>\n",
       "      <td>37</td>\n",
       "    </tr>\n",
       "    <tr>\n",
       "      <th>2</th>\n",
       "      <td>75</td>\n",
       "      <td>25</td>\n",
       "      <td>90</td>\n",
       "      <td>37</td>\n",
       "    </tr>\n",
       "    <tr>\n",
       "      <th>3</th>\n",
       "      <td>62</td>\n",
       "      <td>24</td>\n",
       "      <td>87</td>\n",
       "      <td>28</td>\n",
       "    </tr>\n",
       "    <tr>\n",
       "      <th>4</th>\n",
       "      <td>62</td>\n",
       "      <td>22</td>\n",
       "      <td>87</td>\n",
       "      <td>18</td>\n",
       "    </tr>\n",
       "  </tbody>\n",
       "</table>\n",
       "</div>"
      ],
      "text/plain": [
       "   AirFlow  WaterTemp  AcidConc  StackLoss\n",
       "0       80         27        89         42\n",
       "1       80         27        88         37\n",
       "2       75         25        90         37\n",
       "3       62         24        87         28\n",
       "4       62         22        87         18"
      ]
     },
     "execution_count": 116,
     "metadata": {},
     "output_type": "execute_result"
    }
   ],
   "source": [
    "df.head()"
   ]
  },
  {
   "cell_type": "code",
   "execution_count": 117,
   "id": "930eb0d9",
   "metadata": {},
   "outputs": [],
   "source": [
    "x_train,x_test,y_train,y_test = train_test_split(df.drop('StackLoss',axis=1),df['StackLoss'],test_size=0.25)"
   ]
  },
  {
   "cell_type": "code",
   "execution_count": 118,
   "id": "501c8af2",
   "metadata": {},
   "outputs": [
    {
     "data": {
      "text/html": [
       "<div>\n",
       "<style scoped>\n",
       "    .dataframe tbody tr th:only-of-type {\n",
       "        vertical-align: middle;\n",
       "    }\n",
       "\n",
       "    .dataframe tbody tr th {\n",
       "        vertical-align: top;\n",
       "    }\n",
       "\n",
       "    .dataframe thead th {\n",
       "        text-align: right;\n",
       "    }\n",
       "</style>\n",
       "<table border=\"1\" class=\"dataframe\">\n",
       "  <thead>\n",
       "    <tr style=\"text-align: right;\">\n",
       "      <th></th>\n",
       "      <th>AirFlow</th>\n",
       "      <th>WaterTemp</th>\n",
       "      <th>AcidConc</th>\n",
       "    </tr>\n",
       "  </thead>\n",
       "  <tbody>\n",
       "    <tr>\n",
       "      <th>8</th>\n",
       "      <td>58</td>\n",
       "      <td>23</td>\n",
       "      <td>87</td>\n",
       "    </tr>\n",
       "    <tr>\n",
       "      <th>20</th>\n",
       "      <td>70</td>\n",
       "      <td>20</td>\n",
       "      <td>91</td>\n",
       "    </tr>\n",
       "    <tr>\n",
       "      <th>19</th>\n",
       "      <td>56</td>\n",
       "      <td>20</td>\n",
       "      <td>82</td>\n",
       "    </tr>\n",
       "    <tr>\n",
       "      <th>9</th>\n",
       "      <td>58</td>\n",
       "      <td>18</td>\n",
       "      <td>80</td>\n",
       "    </tr>\n",
       "    <tr>\n",
       "      <th>11</th>\n",
       "      <td>58</td>\n",
       "      <td>17</td>\n",
       "      <td>88</td>\n",
       "    </tr>\n",
       "  </tbody>\n",
       "</table>\n",
       "</div>"
      ],
      "text/plain": [
       "    AirFlow  WaterTemp  AcidConc\n",
       "8        58         23        87\n",
       "20       70         20        91\n",
       "19       56         20        82\n",
       "9        58         18        80\n",
       "11       58         17        88"
      ]
     },
     "execution_count": 118,
     "metadata": {},
     "output_type": "execute_result"
    }
   ],
   "source": [
    "x_train.head()"
   ]
  },
  {
   "cell_type": "code",
   "execution_count": 119,
   "id": "24a970d8",
   "metadata": {},
   "outputs": [
    {
     "data": {
      "text/plain": [
       "8     15\n",
       "20    15\n",
       "19    15\n",
       "9     14\n",
       "11    13\n",
       "Name: StackLoss, dtype: int64"
      ]
     },
     "execution_count": 119,
     "metadata": {},
     "output_type": "execute_result"
    }
   ],
   "source": [
    "y_train.head()"
   ]
  },
  {
   "cell_type": "code",
   "execution_count": 120,
   "id": "c34fa834",
   "metadata": {},
   "outputs": [],
   "source": [
    "x_train = sm.add_constant(x_train,prepend=False)"
   ]
  },
  {
   "cell_type": "code",
   "execution_count": 121,
   "id": "b91a0fe8",
   "metadata": {},
   "outputs": [],
   "source": [
    "mod1 = sm.OLS(y_train,x_train).fit()"
   ]
  },
  {
   "cell_type": "code",
   "execution_count": 122,
   "id": "832f5809",
   "metadata": {},
   "outputs": [
    {
     "name": "stdout",
     "output_type": "stream",
     "text": [
      "                            OLS Regression Results                            \n",
      "==============================================================================\n",
      "Dep. Variable:              StackLoss   R-squared:                       0.866\n",
      "Model:                            OLS   Adj. R-squared:                  0.830\n",
      "Method:                 Least Squares   F-statistic:                     23.75\n",
      "Date:                Thu, 22 Jun 2023   Prob (F-statistic):           4.16e-05\n",
      "Time:                        15:28:48   Log-Likelihood:                -38.805\n",
      "No. Observations:                  15   AIC:                             85.61\n",
      "Df Residuals:                      11   BIC:                             88.44\n",
      "Df Model:                           3                                         \n",
      "Covariance Type:            nonrobust                                         \n",
      "==============================================================================\n",
      "                 coef    std err          t      P>|t|      [0.025      0.975]\n",
      "------------------------------------------------------------------------------\n",
      "AirFlow        0.6423      0.177      3.637      0.004       0.254       1.031\n",
      "WaterTemp      1.3478      0.457      2.949      0.013       0.342       2.354\n",
      "AcidConc      -0.2276      0.262     -0.867      0.404      -0.805       0.350\n",
      "const        -29.9908     20.113     -1.491      0.164     -74.258      14.277\n",
      "==============================================================================\n",
      "Omnibus:                        0.097   Durbin-Watson:                   1.311\n",
      "Prob(Omnibus):                  0.953   Jarque-Bera (JB):                0.266\n",
      "Skew:                           0.149   Prob(JB):                        0.876\n",
      "Kurtosis:                       2.419   Cond. No.                     2.26e+03\n",
      "==============================================================================\n",
      "\n",
      "Notes:\n",
      "[1] Standard Errors assume that the covariance matrix of the errors is correctly specified.\n",
      "[2] The condition number is large, 2.26e+03. This might indicate that there are\n",
      "strong multicollinearity or other numerical problems.\n"
     ]
    },
    {
     "name": "stderr",
     "output_type": "stream",
     "text": [
      "C:\\Users\\vaibh\\AppData\\Local\\Programs\\Python\\Python311\\Lib\\site-packages\\scipy\\stats\\_stats_py.py:1736: UserWarning: kurtosistest only valid for n>=20 ... continuing anyway, n=15\n",
      "  warnings.warn(\"kurtosistest only valid for n>=20 ... continuing \"\n"
     ]
    }
   ],
   "source": [
    "print(mod1.summary())"
   ]
  },
  {
   "cell_type": "code",
   "execution_count": 123,
   "id": "72e05276",
   "metadata": {},
   "outputs": [],
   "source": [
    "x_test = sm.add_constant(x_test,prepend = False) # actual output"
   ]
  },
  {
   "cell_type": "code",
   "execution_count": 124,
   "id": "5e31a718",
   "metadata": {},
   "outputs": [],
   "source": [
    "y_pred = mod1.predict(x_test) #predicted output"
   ]
  },
  {
   "cell_type": "code",
   "execution_count": 125,
   "id": "f2971d3f",
   "metadata": {},
   "outputs": [
    {
     "data": {
      "text/plain": [
       "15     6.811749\n",
       "0     37.527211\n",
       "13    11.704680\n",
       "4     19.682568\n",
       "16    11.345542\n",
       "dtype: float64"
      ]
     },
     "execution_count": 125,
     "metadata": {},
     "output_type": "execute_result"
    }
   ],
   "source": [
    "y_pred[:5] #prediction"
   ]
  },
  {
   "cell_type": "code",
   "execution_count": 126,
   "id": "700025b5",
   "metadata": {},
   "outputs": [
    {
     "data": {
      "text/plain": [
       "15     7\n",
       "0     42\n",
       "13    12\n",
       "4     18\n",
       "16     8\n",
       "Name: StackLoss, dtype: int64"
      ]
     },
     "execution_count": 126,
     "metadata": {},
     "output_type": "execute_result"
    }
   ],
   "source": [
    "y_test[:5] #actual output"
   ]
  },
  {
   "cell_type": "markdown",
   "id": "4940b50f",
   "metadata": {},
   "source": [
    "# Categorical Regression"
   ]
  },
  {
   "cell_type": "code",
   "execution_count": 127,
   "id": "d8ff86b6",
   "metadata": {},
   "outputs": [],
   "source": [
    "df = pd.read_excel('CDAC_DataBook.xlsx',sheet_name = 'salaries')"
   ]
  },
  {
   "cell_type": "code",
   "execution_count": 128,
   "id": "161bbffd",
   "metadata": {},
   "outputs": [
    {
     "data": {
      "text/html": [
       "<div>\n",
       "<style scoped>\n",
       "    .dataframe tbody tr th:only-of-type {\n",
       "        vertical-align: middle;\n",
       "    }\n",
       "\n",
       "    .dataframe tbody tr th {\n",
       "        vertical-align: top;\n",
       "    }\n",
       "\n",
       "    .dataframe thead th {\n",
       "        text-align: right;\n",
       "    }\n",
       "</style>\n",
       "<table border=\"1\" class=\"dataframe\">\n",
       "  <thead>\n",
       "    <tr style=\"text-align: right;\">\n",
       "      <th></th>\n",
       "      <th>rank</th>\n",
       "      <th>discipline</th>\n",
       "      <th>yrs_phd</th>\n",
       "      <th>yrs_service</th>\n",
       "      <th>gender</th>\n",
       "      <th>salary</th>\n",
       "    </tr>\n",
       "  </thead>\n",
       "  <tbody>\n",
       "    <tr>\n",
       "      <th>0</th>\n",
       "      <td>Prof</td>\n",
       "      <td>B</td>\n",
       "      <td>19</td>\n",
       "      <td>18</td>\n",
       "      <td>Male</td>\n",
       "      <td>139750</td>\n",
       "    </tr>\n",
       "    <tr>\n",
       "      <th>1</th>\n",
       "      <td>Prof</td>\n",
       "      <td>B</td>\n",
       "      <td>20</td>\n",
       "      <td>16</td>\n",
       "      <td>Male</td>\n",
       "      <td>173200</td>\n",
       "    </tr>\n",
       "    <tr>\n",
       "      <th>2</th>\n",
       "      <td>AsstProf</td>\n",
       "      <td>B</td>\n",
       "      <td>4</td>\n",
       "      <td>3</td>\n",
       "      <td>Male</td>\n",
       "      <td>79750</td>\n",
       "    </tr>\n",
       "    <tr>\n",
       "      <th>3</th>\n",
       "      <td>Prof</td>\n",
       "      <td>B</td>\n",
       "      <td>45</td>\n",
       "      <td>39</td>\n",
       "      <td>Male</td>\n",
       "      <td>115000</td>\n",
       "    </tr>\n",
       "    <tr>\n",
       "      <th>4</th>\n",
       "      <td>Prof</td>\n",
       "      <td>B</td>\n",
       "      <td>40</td>\n",
       "      <td>41</td>\n",
       "      <td>Male</td>\n",
       "      <td>141500</td>\n",
       "    </tr>\n",
       "  </tbody>\n",
       "</table>\n",
       "</div>"
      ],
      "text/plain": [
       "       rank discipline  yrs_phd  yrs_service gender  salary\n",
       "0      Prof          B       19           18   Male  139750\n",
       "1      Prof          B       20           16   Male  173200\n",
       "2  AsstProf          B        4            3   Male   79750\n",
       "3      Prof          B       45           39   Male  115000\n",
       "4      Prof          B       40           41   Male  141500"
      ]
     },
     "execution_count": 128,
     "metadata": {},
     "output_type": "execute_result"
    }
   ],
   "source": [
    "df.head()"
   ]
  },
  {
   "cell_type": "code",
   "execution_count": 129,
   "id": "a6bdff4b",
   "metadata": {},
   "outputs": [],
   "source": [
    "df = df[['rank','yrs_service','salary']]"
   ]
  },
  {
   "cell_type": "code",
   "execution_count": 130,
   "id": "0ac35f31",
   "metadata": {},
   "outputs": [],
   "source": [
    "rank_dummy = pd.get_dummies(df['rank'],drop_first = True)"
   ]
  },
  {
   "cell_type": "code",
   "execution_count": 143,
   "id": "1484d094",
   "metadata": {},
   "outputs": [
    {
     "data": {
      "text/html": [
       "<div>\n",
       "<style scoped>\n",
       "    .dataframe tbody tr th:only-of-type {\n",
       "        vertical-align: middle;\n",
       "    }\n",
       "\n",
       "    .dataframe tbody tr th {\n",
       "        vertical-align: top;\n",
       "    }\n",
       "\n",
       "    .dataframe thead th {\n",
       "        text-align: right;\n",
       "    }\n",
       "</style>\n",
       "<table border=\"1\" class=\"dataframe\">\n",
       "  <thead>\n",
       "    <tr style=\"text-align: right;\">\n",
       "      <th></th>\n",
       "      <th>AsstProf</th>\n",
       "      <th>Prof</th>\n",
       "    </tr>\n",
       "  </thead>\n",
       "  <tbody>\n",
       "    <tr>\n",
       "      <th>0</th>\n",
       "      <td>0</td>\n",
       "      <td>1</td>\n",
       "    </tr>\n",
       "    <tr>\n",
       "      <th>1</th>\n",
       "      <td>0</td>\n",
       "      <td>1</td>\n",
       "    </tr>\n",
       "    <tr>\n",
       "      <th>2</th>\n",
       "      <td>1</td>\n",
       "      <td>0</td>\n",
       "    </tr>\n",
       "    <tr>\n",
       "      <th>3</th>\n",
       "      <td>0</td>\n",
       "      <td>1</td>\n",
       "    </tr>\n",
       "    <tr>\n",
       "      <th>4</th>\n",
       "      <td>0</td>\n",
       "      <td>1</td>\n",
       "    </tr>\n",
       "    <tr>\n",
       "      <th>5</th>\n",
       "      <td>0</td>\n",
       "      <td>0</td>\n",
       "    </tr>\n",
       "    <tr>\n",
       "      <th>6</th>\n",
       "      <td>0</td>\n",
       "      <td>1</td>\n",
       "    </tr>\n",
       "    <tr>\n",
       "      <th>7</th>\n",
       "      <td>0</td>\n",
       "      <td>1</td>\n",
       "    </tr>\n",
       "    <tr>\n",
       "      <th>8</th>\n",
       "      <td>0</td>\n",
       "      <td>1</td>\n",
       "    </tr>\n",
       "    <tr>\n",
       "      <th>9</th>\n",
       "      <td>0</td>\n",
       "      <td>1</td>\n",
       "    </tr>\n",
       "  </tbody>\n",
       "</table>\n",
       "</div>"
      ],
      "text/plain": [
       "   AsstProf  Prof\n",
       "0         0     1\n",
       "1         0     1\n",
       "2         1     0\n",
       "3         0     1\n",
       "4         0     1\n",
       "5         0     0\n",
       "6         0     1\n",
       "7         0     1\n",
       "8         0     1\n",
       "9         0     1"
      ]
     },
     "execution_count": 143,
     "metadata": {},
     "output_type": "execute_result"
    }
   ],
   "source": [
    "rank_dummy.head(10)"
   ]
  },
  {
   "cell_type": "code",
   "execution_count": 132,
   "id": "002f6b54",
   "metadata": {},
   "outputs": [],
   "source": [
    "df = df.drop('rank',axis=1)"
   ]
  },
  {
   "cell_type": "code",
   "execution_count": 133,
   "id": "c69dbf8e",
   "metadata": {},
   "outputs": [],
   "source": [
    "df = pd.concat([df,rank_dummy],axis=1)"
   ]
  },
  {
   "cell_type": "code",
   "execution_count": 134,
   "id": "cf74264b",
   "metadata": {},
   "outputs": [
    {
     "data": {
      "text/html": [
       "<div>\n",
       "<style scoped>\n",
       "    .dataframe tbody tr th:only-of-type {\n",
       "        vertical-align: middle;\n",
       "    }\n",
       "\n",
       "    .dataframe tbody tr th {\n",
       "        vertical-align: top;\n",
       "    }\n",
       "\n",
       "    .dataframe thead th {\n",
       "        text-align: right;\n",
       "    }\n",
       "</style>\n",
       "<table border=\"1\" class=\"dataframe\">\n",
       "  <thead>\n",
       "    <tr style=\"text-align: right;\">\n",
       "      <th></th>\n",
       "      <th>yrs_service</th>\n",
       "      <th>salary</th>\n",
       "      <th>AsstProf</th>\n",
       "      <th>Prof</th>\n",
       "    </tr>\n",
       "  </thead>\n",
       "  <tbody>\n",
       "    <tr>\n",
       "      <th>0</th>\n",
       "      <td>18</td>\n",
       "      <td>139750</td>\n",
       "      <td>0</td>\n",
       "      <td>1</td>\n",
       "    </tr>\n",
       "    <tr>\n",
       "      <th>1</th>\n",
       "      <td>16</td>\n",
       "      <td>173200</td>\n",
       "      <td>0</td>\n",
       "      <td>1</td>\n",
       "    </tr>\n",
       "    <tr>\n",
       "      <th>2</th>\n",
       "      <td>3</td>\n",
       "      <td>79750</td>\n",
       "      <td>1</td>\n",
       "      <td>0</td>\n",
       "    </tr>\n",
       "    <tr>\n",
       "      <th>3</th>\n",
       "      <td>39</td>\n",
       "      <td>115000</td>\n",
       "      <td>0</td>\n",
       "      <td>1</td>\n",
       "    </tr>\n",
       "    <tr>\n",
       "      <th>4</th>\n",
       "      <td>41</td>\n",
       "      <td>141500</td>\n",
       "      <td>0</td>\n",
       "      <td>1</td>\n",
       "    </tr>\n",
       "  </tbody>\n",
       "</table>\n",
       "</div>"
      ],
      "text/plain": [
       "   yrs_service  salary  AsstProf  Prof\n",
       "0           18  139750         0     1\n",
       "1           16  173200         0     1\n",
       "2            3   79750         1     0\n",
       "3           39  115000         0     1\n",
       "4           41  141500         0     1"
      ]
     },
     "execution_count": 134,
     "metadata": {},
     "output_type": "execute_result"
    }
   ],
   "source": [
    "df.head()"
   ]
  },
  {
   "cell_type": "code",
   "execution_count": 135,
   "id": "dbc83c8b",
   "metadata": {},
   "outputs": [],
   "source": [
    "x_train,x_test,y_train,y_test = train_test_split(df.drop('salary',axis=1),df['salary'],test_size=0.25)"
   ]
  },
  {
   "cell_type": "code",
   "execution_count": 136,
   "id": "4f802c6e",
   "metadata": {},
   "outputs": [],
   "source": [
    "x_train = sm.add_constant(x_train,prepend=False)"
   ]
  },
  {
   "cell_type": "code",
   "execution_count": 137,
   "id": "135edee3",
   "metadata": {},
   "outputs": [],
   "source": [
    "mod1 = sm.OLS(y_train,x_train).fit()"
   ]
  },
  {
   "cell_type": "code",
   "execution_count": 138,
   "id": "e58e28bf",
   "metadata": {},
   "outputs": [
    {
     "name": "stdout",
     "output_type": "stream",
     "text": [
      "                            OLS Regression Results                            \n",
      "==============================================================================\n",
      "Dep. Variable:                 salary   R-squared:                       0.404\n",
      "Model:                            OLS   Adj. R-squared:                  0.398\n",
      "Method:                 Least Squares   F-statistic:                     66.15\n",
      "Date:                Thu, 22 Jun 2023   Prob (F-statistic):           1.09e-32\n",
      "Time:                        15:32:13   Log-Likelihood:                -3409.7\n",
      "No. Observations:                 297   AIC:                             6827.\n",
      "Df Residuals:                     293   BIC:                             6842.\n",
      "Df Model:                           3                                         \n",
      "Covariance Type:            nonrobust                                         \n",
      "===============================================================================\n",
      "                  coef    std err          t      P>|t|      [0.025      0.975]\n",
      "-------------------------------------------------------------------------------\n",
      "yrs_service  -173.9735    135.849     -1.281      0.201    -441.337      93.390\n",
      "AsstProf    -1.546e+04   4862.811     -3.179      0.002    -2.5e+04   -5887.916\n",
      "Prof         3.433e+04   4145.938      8.281      0.000    2.62e+04    4.25e+04\n",
      "const        9.637e+04   3747.321     25.718      0.000     8.9e+04    1.04e+05\n",
      "==============================================================================\n",
      "Omnibus:                       22.443   Durbin-Watson:                   1.871\n",
      "Prob(Omnibus):                  0.000   Jarque-Bera (JB):               26.485\n",
      "Skew:                           0.620   Prob(JB):                     1.77e-06\n",
      "Kurtosis:                       3.775   Cond. No.                         101.\n",
      "==============================================================================\n",
      "\n",
      "Notes:\n",
      "[1] Standard Errors assume that the covariance matrix of the errors is correctly specified.\n"
     ]
    }
   ],
   "source": [
    "print(mod1.summary())"
   ]
  },
  {
   "cell_type": "code",
   "execution_count": 139,
   "id": "ad865c95",
   "metadata": {},
   "outputs": [],
   "source": [
    "x_test = sm.add_constant(x_test,prepend = False) # actual output"
   ]
  },
  {
   "cell_type": "code",
   "execution_count": 140,
   "id": "2b41b06c",
   "metadata": {},
   "outputs": [],
   "source": [
    "y_pred = mod1.predict(x_test) #predicted output"
   ]
  },
  {
   "cell_type": "code",
   "execution_count": 141,
   "id": "8112bbc5",
   "metadata": {},
   "outputs": [
    {
     "data": {
      "text/plain": [
       "268    123052.088277\n",
       "76     130185.002702\n",
       "86     124269.902935\n",
       "358    128271.293954\n",
       "335    124095.929413\n",
       "dtype: float64"
      ]
     },
     "execution_count": 141,
     "metadata": {},
     "output_type": "execute_result"
    }
   ],
   "source": [
    "y_pred[:5] #prediction"
   ]
  },
  {
   "cell_type": "code",
   "execution_count": 142,
   "id": "9a909205",
   "metadata": {
    "scrolled": true
   },
   "outputs": [
    {
     "data": {
      "text/plain": [
       "268     89650\n",
       "76     150480\n",
       "86     152708\n",
       "358    109954\n",
       "335    151445\n",
       "Name: salary, dtype: int64"
      ]
     },
     "execution_count": 142,
     "metadata": {},
     "output_type": "execute_result"
    }
   ],
   "source": [
    "y_test[:5] #actual output"
   ]
  },
  {
   "cell_type": "markdown",
   "id": "156ec94b",
   "metadata": {},
   "source": []
  }
 ],
 "metadata": {
  "kernelspec": {
   "display_name": "Python 3 (ipykernel)",
   "language": "python",
   "name": "python3"
  },
  "language_info": {
   "codemirror_mode": {
    "name": "ipython",
    "version": 3
   },
   "file_extension": ".py",
   "mimetype": "text/x-python",
   "name": "python",
   "nbconvert_exporter": "python",
   "pygments_lexer": "ipython3",
   "version": "3.11.2"
  }
 },
 "nbformat": 4,
 "nbformat_minor": 5
}
