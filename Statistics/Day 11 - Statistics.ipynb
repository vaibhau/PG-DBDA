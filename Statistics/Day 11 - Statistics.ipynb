{
 "cells": [
  {
   "cell_type": "markdown",
   "id": "6f3ee0fa",
   "metadata": {},
   "source": [
    "# Negative Binomial Regression"
   ]
  },
  {
   "cell_type": "code",
   "execution_count": 30,
   "id": "e65d5e47",
   "metadata": {},
   "outputs": [],
   "source": [
    "import numpy as np\n",
    "import pandas as pd\n",
    "import statsmodels\n",
    "import sklearn\n",
    "import statsmodels.api as sm\n",
    "from statsmodels.formula.api import ols\n",
    "import statsmodels.stats.multicomp\n",
    "import sklearn\n",
    "from sklearn.model_selection import train_test_split\n",
    "from sklearn.metrics import confusion_matrix\n",
    "from sklearn.metrics import classification_report"
   ]
  },
  {
   "cell_type": "code",
   "execution_count": 31,
   "id": "0c8e071a",
   "metadata": {},
   "outputs": [
    {
     "data": {
      "text/html": [
       "<div>\n",
       "<style scoped>\n",
       "    .dataframe tbody tr th:only-of-type {\n",
       "        vertical-align: middle;\n",
       "    }\n",
       "\n",
       "    .dataframe tbody tr th {\n",
       "        vertical-align: top;\n",
       "    }\n",
       "\n",
       "    .dataframe thead th {\n",
       "        text-align: right;\n",
       "    }\n",
       "</style>\n",
       "<table border=\"1\" class=\"dataframe\">\n",
       "  <thead>\n",
       "    <tr style=\"text-align: right;\">\n",
       "      <th></th>\n",
       "      <th>math</th>\n",
       "      <th>prog</th>\n",
       "      <th>daysabs</th>\n",
       "    </tr>\n",
       "  </thead>\n",
       "  <tbody>\n",
       "    <tr>\n",
       "      <th>0</th>\n",
       "      <td>63</td>\n",
       "      <td>Academic</td>\n",
       "      <td>4</td>\n",
       "    </tr>\n",
       "    <tr>\n",
       "      <th>1</th>\n",
       "      <td>27</td>\n",
       "      <td>Academic</td>\n",
       "      <td>4</td>\n",
       "    </tr>\n",
       "    <tr>\n",
       "      <th>2</th>\n",
       "      <td>20</td>\n",
       "      <td>Academic</td>\n",
       "      <td>2</td>\n",
       "    </tr>\n",
       "    <tr>\n",
       "      <th>3</th>\n",
       "      <td>16</td>\n",
       "      <td>Academic</td>\n",
       "      <td>3</td>\n",
       "    </tr>\n",
       "    <tr>\n",
       "      <th>4</th>\n",
       "      <td>2</td>\n",
       "      <td>Academic</td>\n",
       "      <td>3</td>\n",
       "    </tr>\n",
       "  </tbody>\n",
       "</table>\n",
       "</div>"
      ],
      "text/plain": [
       "   math      prog  daysabs\n",
       "0    63  Academic        4\n",
       "1    27  Academic        4\n",
       "2    20  Academic        2\n",
       "3    16  Academic        3\n",
       "4     2  Academic        3"
      ]
     },
     "execution_count": 31,
     "metadata": {},
     "output_type": "execute_result"
    }
   ],
   "source": [
    "df = pd.read_excel('CDAC_DataBook.xlsx', sheet_name='neg_bin')\n",
    "df.head()"
   ]
  },
  {
   "cell_type": "code",
   "execution_count": 7,
   "id": "2c085964",
   "metadata": {},
   "outputs": [],
   "source": [
    "from statsmodels.discrete.discrete_model import NegativeBinomial as ngb"
   ]
  },
  {
   "cell_type": "code",
   "execution_count": 4,
   "id": "5c170e4f",
   "metadata": {},
   "outputs": [],
   "source": [
    "prog_dummy = pd.get_dummies(df['prog'],drop_first=True)"
   ]
  },
  {
   "cell_type": "code",
   "execution_count": 5,
   "id": "f091e143",
   "metadata": {},
   "outputs": [],
   "source": [
    "df = df.drop('prog',axis=1)"
   ]
  },
  {
   "cell_type": "code",
   "execution_count": 6,
   "id": "2069a255",
   "metadata": {},
   "outputs": [],
   "source": [
    "df = pd.concat([df,prog_dummy],axis=1)"
   ]
  },
  {
   "cell_type": "code",
   "execution_count": 8,
   "id": "12ac27f3",
   "metadata": {},
   "outputs": [],
   "source": [
    "x_train,x_test,y_train,y_test = train_test_split(df.drop('daysabs',axis=1),df['daysabs'],test_size=0.25)"
   ]
  },
  {
   "cell_type": "code",
   "execution_count": 9,
   "id": "f1ec71f4",
   "metadata": {},
   "outputs": [],
   "source": [
    "x_train = sm.add_constant(x_train,prepend=False)"
   ]
  },
  {
   "cell_type": "code",
   "execution_count": 13,
   "id": "b0676df0",
   "metadata": {},
   "outputs": [],
   "source": [
    "df_train = pd.concat([x_train,y_train],axis=1)"
   ]
  },
  {
   "cell_type": "code",
   "execution_count": 14,
   "id": "ef7f24de",
   "metadata": {},
   "outputs": [
    {
     "name": "stdout",
     "output_type": "stream",
     "text": [
      "Optimization terminated successfully.\n",
      "         Current function value: 2.792394\n",
      "         Iterations: 20\n",
      "         Function evaluations: 26\n",
      "         Gradient evaluations: 26\n"
     ]
    }
   ],
   "source": [
    "mod1 = ngb.from_formula('daysabs ~ math + General + Vocational',data=df_train).fit()"
   ]
  },
  {
   "cell_type": "code",
   "execution_count": 15,
   "id": "f928a17f",
   "metadata": {},
   "outputs": [
    {
     "name": "stdout",
     "output_type": "stream",
     "text": [
      "                     NegativeBinomial Regression Results                      \n",
      "==============================================================================\n",
      "Dep. Variable:                daysabs   No. Observations:                  235\n",
      "Model:               NegativeBinomial   Df Residuals:                      231\n",
      "Method:                           MLE   Df Model:                            3\n",
      "Date:                Thu, 22 Jun 2023   Pseudo R-squ.:                 0.02975\n",
      "Time:                        09:38:12   Log-Likelihood:                -656.21\n",
      "converged:                       True   LL-Null:                       -676.33\n",
      "Covariance Type:            nonrobust   LLR p-value:                 9.463e-09\n",
      "==============================================================================\n",
      "                 coef    std err          z      P>|z|      [0.025      0.975]\n",
      "------------------------------------------------------------------------------\n",
      "Intercept      2.2444      0.151     14.819      0.000       1.948       2.541\n",
      "math          -0.0067      0.003     -2.273      0.023      -0.012      -0.001\n",
      "General        0.3274      0.226      1.447      0.148      -0.116       0.771\n",
      "Vocational    -0.8302      0.176     -4.726      0.000      -1.174      -0.486\n",
      "alpha          1.0299      0.119      8.632      0.000       0.796       1.264\n",
      "==============================================================================\n"
     ]
    }
   ],
   "source": [
    "print(mod1.summary())"
   ]
  },
  {
   "cell_type": "markdown",
   "id": "be959c98",
   "metadata": {},
   "source": [
    "math\n",
    "Ho --> maths marks should not influence days of absent\n",
    "Ha --> \n",
    "\n",
    "- As days of absent increases, marks gets decreases\n",
    "\n",
    "In general days of absense > in Academic\n"
   ]
  },
  {
   "cell_type": "code",
   "execution_count": 16,
   "id": "3033f481",
   "metadata": {},
   "outputs": [],
   "source": [
    "pred_y = mod1.predict(x_test)"
   ]
  },
  {
   "cell_type": "code",
   "execution_count": 17,
   "id": "9d0c1b4f",
   "metadata": {},
   "outputs": [],
   "source": [
    "pred_y = round(mod1.predict(x_test))"
   ]
  },
  {
   "cell_type": "code",
   "execution_count": 18,
   "id": "9c9c570f",
   "metadata": {},
   "outputs": [
    {
     "data": {
      "text/plain": [
       "91     6.0\n",
       "278    3.0\n",
       "41     8.0\n",
       "277    3.0\n",
       "291    7.0\n",
       "      ... \n",
       "58     8.0\n",
       "76     8.0\n",
       "285    3.0\n",
       "171    3.0\n",
       "64     8.0\n",
       "Length: 79, dtype: float64"
      ]
     },
     "execution_count": 18,
     "metadata": {},
     "output_type": "execute_result"
    }
   ],
   "source": [
    "pred_y"
   ]
  },
  {
   "cell_type": "markdown",
   "id": "456978f8",
   "metadata": {},
   "source": [
    "# Decision Tree\n",
    "\n",
    "- It is used when data is categorical data.\n",
    "- Whatever questions are asked,answers are always in yes or no.\n",
    "- "
   ]
  },
  {
   "cell_type": "code",
   "execution_count": 32,
   "id": "8918a605",
   "metadata": {},
   "outputs": [
    {
     "data": {
      "text/html": [
       "<div>\n",
       "<style scoped>\n",
       "    .dataframe tbody tr th:only-of-type {\n",
       "        vertical-align: middle;\n",
       "    }\n",
       "\n",
       "    .dataframe tbody tr th {\n",
       "        vertical-align: top;\n",
       "    }\n",
       "\n",
       "    .dataframe thead th {\n",
       "        text-align: right;\n",
       "    }\n",
       "</style>\n",
       "<table border=\"1\" class=\"dataframe\">\n",
       "  <thead>\n",
       "    <tr style=\"text-align: right;\">\n",
       "      <th></th>\n",
       "      <th>Sepal_length</th>\n",
       "      <th>Sepal_width</th>\n",
       "      <th>Petal_length</th>\n",
       "      <th>Petal_width</th>\n",
       "      <th>Species</th>\n",
       "    </tr>\n",
       "  </thead>\n",
       "  <tbody>\n",
       "    <tr>\n",
       "      <th>0</th>\n",
       "      <td>5.1</td>\n",
       "      <td>3.5</td>\n",
       "      <td>1.4</td>\n",
       "      <td>0.2</td>\n",
       "      <td>Iris-setosa</td>\n",
       "    </tr>\n",
       "    <tr>\n",
       "      <th>1</th>\n",
       "      <td>4.9</td>\n",
       "      <td>3.0</td>\n",
       "      <td>1.4</td>\n",
       "      <td>0.2</td>\n",
       "      <td>Iris-setosa</td>\n",
       "    </tr>\n",
       "    <tr>\n",
       "      <th>2</th>\n",
       "      <td>4.7</td>\n",
       "      <td>3.2</td>\n",
       "      <td>1.3</td>\n",
       "      <td>0.2</td>\n",
       "      <td>Iris-setosa</td>\n",
       "    </tr>\n",
       "    <tr>\n",
       "      <th>3</th>\n",
       "      <td>4.6</td>\n",
       "      <td>3.1</td>\n",
       "      <td>1.5</td>\n",
       "      <td>0.2</td>\n",
       "      <td>Iris-setosa</td>\n",
       "    </tr>\n",
       "    <tr>\n",
       "      <th>4</th>\n",
       "      <td>5.0</td>\n",
       "      <td>3.6</td>\n",
       "      <td>1.4</td>\n",
       "      <td>0.2</td>\n",
       "      <td>Iris-setosa</td>\n",
       "    </tr>\n",
       "  </tbody>\n",
       "</table>\n",
       "</div>"
      ],
      "text/plain": [
       "   Sepal_length  Sepal_width  Petal_length  Petal_width      Species\n",
       "0           5.1          3.5           1.4          0.2  Iris-setosa\n",
       "1           4.9          3.0           1.4          0.2  Iris-setosa\n",
       "2           4.7          3.2           1.3          0.2  Iris-setosa\n",
       "3           4.6          3.1           1.5          0.2  Iris-setosa\n",
       "4           5.0          3.6           1.4          0.2  Iris-setosa"
      ]
     },
     "execution_count": 32,
     "metadata": {},
     "output_type": "execute_result"
    }
   ],
   "source": [
    "df = pd.read_excel('CDAC_DataBook.xlsx', sheet_name='iris')\n",
    "df.head()"
   ]
  },
  {
   "cell_type": "code",
   "execution_count": 33,
   "id": "a2800c77",
   "metadata": {},
   "outputs": [],
   "source": [
    "from sklearn.tree import DecisionTreeClassifier"
   ]
  },
  {
   "cell_type": "code",
   "execution_count": 34,
   "id": "5b952179",
   "metadata": {},
   "outputs": [],
   "source": [
    "x_train = df.drop('Species',axis=1)"
   ]
  },
  {
   "cell_type": "code",
   "execution_count": 35,
   "id": "63c8ee7f",
   "metadata": {},
   "outputs": [],
   "source": [
    "y_train = df.Species"
   ]
  },
  {
   "cell_type": "code",
   "execution_count": 36,
   "id": "e2b139ea",
   "metadata": {
    "scrolled": true
   },
   "outputs": [],
   "source": [
    "x_train,x_test,y_train,y_test = train_test_split(df.drop('Species',axis=1),df['Species'],test_size = 0.25)"
   ]
  },
  {
   "cell_type": "code",
   "execution_count": 37,
   "id": "c6abd72f",
   "metadata": {},
   "outputs": [],
   "source": [
    "y_pred = mod1.predict(x_test)"
   ]
  },
  {
   "cell_type": "code",
   "execution_count": 38,
   "id": "41f6ef7f",
   "metadata": {},
   "outputs": [],
   "source": [
    "mod1 = DecisionTreeClassifier().fit(x_train,y_train)"
   ]
  },
  {
   "cell_type": "code",
   "execution_count": 39,
   "id": "238f3cb4",
   "metadata": {},
   "outputs": [],
   "source": [
    "from sklearn.tree import export_graphviz"
   ]
  },
  {
   "cell_type": "code",
   "execution_count": 41,
   "id": "eb739b3d",
   "metadata": {},
   "outputs": [],
   "source": [
    "import pydotplus"
   ]
  },
  {
   "cell_type": "code",
   "execution_count": 42,
   "id": "6ca8857e",
   "metadata": {},
   "outputs": [],
   "source": [
    "export_graphviz(mod1,out_file='MyFile.dot')"
   ]
  },
  {
   "cell_type": "markdown",
   "id": "5af2ed8d",
   "metadata": {},
   "source": [
    "# Random Forest\n",
    "\n",
    "- The decision is not based on single tree."
   ]
  },
  {
   "cell_type": "code",
   "execution_count": 22,
   "id": "14298cd2",
   "metadata": {},
   "outputs": [],
   "source": [
    "from sklearn.ensemble import RandomForestClassifier as rfc"
   ]
  },
  {
   "cell_type": "code",
   "execution_count": 23,
   "id": "7411c7b9",
   "metadata": {},
   "outputs": [],
   "source": [
    "mod2 = rfc(n_estimators=20).fit(x_train,y_train)"
   ]
  },
  {
   "cell_type": "code",
   "execution_count": 24,
   "id": "153a5e43",
   "metadata": {},
   "outputs": [],
   "source": [
    "y_pred = mod2.predict(x_test)"
   ]
  },
  {
   "cell_type": "code",
   "execution_count": 25,
   "id": "62347a97",
   "metadata": {},
   "outputs": [
    {
     "name": "stdout",
     "output_type": "stream",
     "text": [
      "[[14  0  0]\n",
      " [ 0 11  1]\n",
      " [ 0  0 12]]\n"
     ]
    }
   ],
   "source": [
    "print(confusion_matrix(y_test,y_pred))"
   ]
  },
  {
   "cell_type": "code",
   "execution_count": 26,
   "id": "9aa7d2ee",
   "metadata": {},
   "outputs": [],
   "source": [
    "mod2= rfc(n_estimators=20).fit(x_train,y_train)"
   ]
  },
  {
   "cell_type": "code",
   "execution_count": 27,
   "id": "b3950d49",
   "metadata": {},
   "outputs": [],
   "source": [
    "y_pred = mod2.predict(x_test)"
   ]
  },
  {
   "cell_type": "code",
   "execution_count": 28,
   "id": "06b1128a",
   "metadata": {},
   "outputs": [
    {
     "name": "stdout",
     "output_type": "stream",
     "text": [
      "[[14  0  0]\n",
      " [ 0 10  2]\n",
      " [ 0  0 12]]\n"
     ]
    }
   ],
   "source": [
    "print(confusion_matrix(y_test,y_pred))"
   ]
  },
  {
   "cell_type": "code",
   "execution_count": null,
   "id": "82242990",
   "metadata": {},
   "outputs": [],
   "source": []
  }
 ],
 "metadata": {
  "kernelspec": {
   "display_name": "Python 3 (ipykernel)",
   "language": "python",
   "name": "python3"
  },
  "language_info": {
   "codemirror_mode": {
    "name": "ipython",
    "version": 3
   },
   "file_extension": ".py",
   "mimetype": "text/x-python",
   "name": "python",
   "nbconvert_exporter": "python",
   "pygments_lexer": "ipython3",
   "version": "3.11.2"
  }
 },
 "nbformat": 4,
 "nbformat_minor": 5
}
