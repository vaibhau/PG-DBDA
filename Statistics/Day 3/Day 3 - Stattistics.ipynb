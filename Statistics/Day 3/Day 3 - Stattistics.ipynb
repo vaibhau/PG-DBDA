{
 "cells": [
  {
   "cell_type": "code",
   "execution_count": 50,
   "id": "59ff36e1",
   "metadata": {},
   "outputs": [],
   "source": [
    "import pandas as pd\n",
    "import numpy as np"
   ]
  },
  {
   "cell_type": "code",
   "execution_count": 2,
   "id": "9c6014c4",
   "metadata": {},
   "outputs": [
    {
     "data": {
      "text/html": [
       "<div>\n",
       "<style scoped>\n",
       "    .dataframe tbody tr th:only-of-type {\n",
       "        vertical-align: middle;\n",
       "    }\n",
       "\n",
       "    .dataframe tbody tr th {\n",
       "        vertical-align: top;\n",
       "    }\n",
       "\n",
       "    .dataframe thead th {\n",
       "        text-align: right;\n",
       "    }\n",
       "</style>\n",
       "<table border=\"1\" class=\"dataframe\">\n",
       "  <thead>\n",
       "    <tr style=\"text-align: right;\">\n",
       "      <th></th>\n",
       "      <th>Name</th>\n",
       "      <th>Enroll. No.</th>\n",
       "      <th>Qualification</th>\n",
       "    </tr>\n",
       "  </thead>\n",
       "  <tbody>\n",
       "    <tr>\n",
       "      <th>0</th>\n",
       "      <td>Vaibhav</td>\n",
       "      <td>1</td>\n",
       "      <td>BE-IT</td>\n",
       "    </tr>\n",
       "    <tr>\n",
       "      <th>1</th>\n",
       "      <td>Tejaa</td>\n",
       "      <td>2</td>\n",
       "      <td>CS-IT</td>\n",
       "    </tr>\n",
       "    <tr>\n",
       "      <th>2</th>\n",
       "      <td>Dheeraj</td>\n",
       "      <td>3</td>\n",
       "      <td>ME</td>\n",
       "    </tr>\n",
       "  </tbody>\n",
       "</table>\n",
       "</div>"
      ],
      "text/plain": [
       "      Name  Enroll. No. Qualification\n",
       "0  Vaibhav            1         BE-IT\n",
       "1    Tejaa            2         CS-IT\n",
       "2  Dheeraj            3            ME"
      ]
     },
     "execution_count": 2,
     "metadata": {},
     "output_type": "execute_result"
    }
   ],
   "source": [
    "student_df = pd.DataFrame([['Vaibhav',1,'BE-IT'],['Tejaa',2,'CS-IT'],['Dheeraj',3,'ME']], columns = ['Name','Enroll. No.','Qualification'])\n",
    "student_df"
   ]
  },
  {
   "cell_type": "markdown",
   "id": "63773604",
   "metadata": {},
   "source": [
    "# iloc[]\n",
    "- iloc stands for “integer location” and is a function in the Pandas library.\n",
    "- It is used to select rows and columns from a Pandas DataFrame or a Series using integer-based indexing.\n",
    "- Example - my_df = student_df.iloc[[0,2]]\n"
   ]
  },
  {
   "cell_type": "code",
   "execution_count": 3,
   "id": "33a64735",
   "metadata": {},
   "outputs": [
    {
     "data": {
      "text/html": [
       "<div>\n",
       "<style scoped>\n",
       "    .dataframe tbody tr th:only-of-type {\n",
       "        vertical-align: middle;\n",
       "    }\n",
       "\n",
       "    .dataframe tbody tr th {\n",
       "        vertical-align: top;\n",
       "    }\n",
       "\n",
       "    .dataframe thead th {\n",
       "        text-align: right;\n",
       "    }\n",
       "</style>\n",
       "<table border=\"1\" class=\"dataframe\">\n",
       "  <thead>\n",
       "    <tr style=\"text-align: right;\">\n",
       "      <th></th>\n",
       "      <th>Name</th>\n",
       "      <th>Enroll. No.</th>\n",
       "      <th>Qualification</th>\n",
       "    </tr>\n",
       "  </thead>\n",
       "  <tbody>\n",
       "    <tr>\n",
       "      <th>0</th>\n",
       "      <td>Vaibhav</td>\n",
       "      <td>1</td>\n",
       "      <td>BE-IT</td>\n",
       "    </tr>\n",
       "    <tr>\n",
       "      <th>2</th>\n",
       "      <td>Dheeraj</td>\n",
       "      <td>3</td>\n",
       "      <td>ME</td>\n",
       "    </tr>\n",
       "  </tbody>\n",
       "</table>\n",
       "</div>"
      ],
      "text/plain": [
       "      Name  Enroll. No. Qualification\n",
       "0  Vaibhav            1         BE-IT\n",
       "2  Dheeraj            3            ME"
      ]
     },
     "execution_count": 3,
     "metadata": {},
     "output_type": "execute_result"
    }
   ],
   "source": [
    "my_df = student_df.iloc[[0,2]]\n",
    "my_df"
   ]
  },
  {
   "cell_type": "code",
   "execution_count": 7,
   "id": "40940271",
   "metadata": {},
   "outputs": [
    {
     "data": {
      "text/html": [
       "<div>\n",
       "<style scoped>\n",
       "    .dataframe tbody tr th:only-of-type {\n",
       "        vertical-align: middle;\n",
       "    }\n",
       "\n",
       "    .dataframe tbody tr th {\n",
       "        vertical-align: top;\n",
       "    }\n",
       "\n",
       "    .dataframe thead th {\n",
       "        text-align: right;\n",
       "    }\n",
       "</style>\n",
       "<table border=\"1\" class=\"dataframe\">\n",
       "  <thead>\n",
       "    <tr style=\"text-align: right;\">\n",
       "      <th></th>\n",
       "      <th>Name</th>\n",
       "      <th>Enroll. No.</th>\n",
       "      <th>Qualification</th>\n",
       "    </tr>\n",
       "  </thead>\n",
       "  <tbody>\n",
       "    <tr>\n",
       "      <th>2</th>\n",
       "      <td>Dheeraj</td>\n",
       "      <td>3</td>\n",
       "      <td>ME</td>\n",
       "    </tr>\n",
       "  </tbody>\n",
       "</table>\n",
       "</div>"
      ],
      "text/plain": [
       "      Name  Enroll. No. Qualification\n",
       "2  Dheeraj            3            ME"
      ]
     },
     "execution_count": 7,
     "metadata": {},
     "output_type": "execute_result"
    }
   ],
   "source": [
    "my_df.iloc[[1]]"
   ]
  },
  {
   "cell_type": "code",
   "execution_count": 11,
   "id": "504ec741",
   "metadata": {},
   "outputs": [],
   "source": [
    "import os"
   ]
  },
  {
   "cell_type": "code",
   "execution_count": 8,
   "id": "34cc6a7f",
   "metadata": {},
   "outputs": [
    {
     "data": {
      "text/html": [
       "<div>\n",
       "<style scoped>\n",
       "    .dataframe tbody tr th:only-of-type {\n",
       "        vertical-align: middle;\n",
       "    }\n",
       "\n",
       "    .dataframe tbody tr th {\n",
       "        vertical-align: top;\n",
       "    }\n",
       "\n",
       "    .dataframe thead th {\n",
       "        text-align: right;\n",
       "    }\n",
       "</style>\n",
       "<table border=\"1\" class=\"dataframe\">\n",
       "  <thead>\n",
       "    <tr style=\"text-align: right;\">\n",
       "      <th></th>\n",
       "      <th>MaterialID</th>\n",
       "      <th>Location</th>\n",
       "      <th>Quantity</th>\n",
       "    </tr>\n",
       "  </thead>\n",
       "  <tbody>\n",
       "    <tr>\n",
       "      <th>0</th>\n",
       "      <td>TMI-43T</td>\n",
       "      <td>MWH-4</td>\n",
       "      <td>34</td>\n",
       "    </tr>\n",
       "    <tr>\n",
       "      <th>1</th>\n",
       "      <td>AXCP-78</td>\n",
       "      <td>MWH-1</td>\n",
       "      <td>67</td>\n",
       "    </tr>\n",
       "    <tr>\n",
       "      <th>2</th>\n",
       "      <td>LXCV-21</td>\n",
       "      <td>MWH-2</td>\n",
       "      <td>27</td>\n",
       "    </tr>\n",
       "    <tr>\n",
       "      <th>3</th>\n",
       "      <td>AXCP-78</td>\n",
       "      <td>MWH-5</td>\n",
       "      <td>65</td>\n",
       "    </tr>\n",
       "    <tr>\n",
       "      <th>4</th>\n",
       "      <td>AXCP-78</td>\n",
       "      <td>MWH-4</td>\n",
       "      <td>36</td>\n",
       "    </tr>\n",
       "  </tbody>\n",
       "</table>\n",
       "</div>"
      ],
      "text/plain": [
       "  MaterialID Location  Quantity\n",
       "0    TMI-43T    MWH-4        34\n",
       "1    AXCP-78    MWH-1        67\n",
       "2    LXCV-21    MWH-2        27\n",
       "3    AXCP-78    MWH-5        65\n",
       "4    AXCP-78    MWH-4        36"
      ]
     },
     "execution_count": 8,
     "metadata": {},
     "output_type": "execute_result"
    }
   ],
   "source": [
    "df = pd.read_excel('ERPData.xlsx')\n",
    "df.head()"
   ]
  },
  {
   "cell_type": "markdown",
   "id": "5af035ea",
   "metadata": {},
   "source": [
    "# df.head()\n",
    "\n",
    "- This command will return first five objects from the dataframe."
   ]
  },
  {
   "cell_type": "code",
   "execution_count": 10,
   "id": "1f4fabb9",
   "metadata": {},
   "outputs": [
    {
     "data": {
      "text/plain": [
       "(50, 3)"
      ]
     },
     "execution_count": 10,
     "metadata": {},
     "output_type": "execute_result"
    }
   ],
   "source": [
    "df.shape"
   ]
  },
  {
   "cell_type": "markdown",
   "id": "5a517eec",
   "metadata": {},
   "source": [
    "# df.shape\n",
    "\n",
    "- This command will return number of rows and columns available in your dataframe / table."
   ]
  },
  {
   "cell_type": "markdown",
   "id": "b267a48d",
   "metadata": {},
   "source": [
    "df['Quantity'] or df.Quantity"
   ]
  },
  {
   "cell_type": "code",
   "execution_count": 12,
   "id": "9418da23",
   "metadata": {},
   "outputs": [],
   "source": [
    "x = list(df['Quantity'])"
   ]
  },
  {
   "cell_type": "code",
   "execution_count": 13,
   "id": "c9f462fd",
   "metadata": {},
   "outputs": [
    {
     "data": {
      "text/plain": [
       "[34, 67, 27, 65, 36]"
      ]
     },
     "execution_count": 13,
     "metadata": {},
     "output_type": "execute_result"
    }
   ],
   "source": [
    "x[:5]"
   ]
  },
  {
   "cell_type": "code",
   "execution_count": 14,
   "id": "5d486753",
   "metadata": {},
   "outputs": [
    {
     "data": {
      "text/plain": [
       "50"
      ]
     },
     "execution_count": 14,
     "metadata": {},
     "output_type": "execute_result"
    }
   ],
   "source": [
    "len(x)"
   ]
  },
  {
   "cell_type": "code",
   "execution_count": 16,
   "id": "345cc17e",
   "metadata": {},
   "outputs": [],
   "source": [
    "import numpy as np"
   ]
  },
  {
   "cell_type": "code",
   "execution_count": 36,
   "id": "d7c3454b",
   "metadata": {},
   "outputs": [
    {
     "data": {
      "text/plain": [
       "array([ 34,  67,  27,  65,  36,  78,  31,  29,  10, 120,  34,  58,  76,\n",
       "        32,  65,  87,  12, 102,  34,  52,  39,  75,  48,  71, 152, 109,\n",
       "        57,  83,  34,  57,  27,  65,  43, 112,  26,  31,  28,  65,  70,\n",
       "       145,  34,  57,  31,  38,  42,  69,  85,  29,  75,  39], dtype=int64)"
      ]
     },
     "execution_count": 36,
     "metadata": {},
     "output_type": "execute_result"
    }
   ],
   "source": [
    "x = np.array(df['Quantity'])\n",
    "x"
   ]
  },
  {
   "cell_type": "code",
   "execution_count": 37,
   "id": "03efd28a",
   "metadata": {},
   "outputs": [],
   "source": [
    "ind = np.where(x>=75)"
   ]
  },
  {
   "cell_type": "code",
   "execution_count": 38,
   "id": "bd44922d",
   "metadata": {},
   "outputs": [
    {
     "data": {
      "text/plain": [
       "1"
      ]
     },
     "execution_count": 38,
     "metadata": {},
     "output_type": "execute_result"
    }
   ],
   "source": [
    "len(ind)"
   ]
  },
  {
   "cell_type": "code",
   "execution_count": 39,
   "id": "cc7cbf80",
   "metadata": {},
   "outputs": [
    {
     "data": {
      "text/plain": [
       "13"
      ]
     },
     "execution_count": 39,
     "metadata": {},
     "output_type": "execute_result"
    }
   ],
   "source": [
    "(df.Quantity>=75).sum()\n",
    "# This command wil return the count of result"
   ]
  },
  {
   "cell_type": "code",
   "execution_count": 40,
   "id": "c969594f",
   "metadata": {},
   "outputs": [
    {
     "data": {
      "text/plain": [
       "(array([14, 43, 44, 47], dtype=int64),)"
      ]
     },
     "execution_count": 40,
     "metadata": {},
     "output_type": "execute_result"
    }
   ],
   "source": [
    "np.where(df.Location == 'MWH-3')"
   ]
  },
  {
   "cell_type": "code",
   "execution_count": 41,
   "id": "9c311476",
   "metadata": {},
   "outputs": [
    {
     "data": {
      "text/plain": [
       "4"
      ]
     },
     "execution_count": 41,
     "metadata": {},
     "output_type": "execute_result"
    }
   ],
   "source": [
    "(df.Location == 'MWH-3').sum()"
   ]
  },
  {
   "cell_type": "code",
   "execution_count": 42,
   "id": "5e4b8e32",
   "metadata": {},
   "outputs": [
    {
     "data": {
      "text/plain": [
       "(array([ 5,  9, 12, 15, 17, 21, 24, 25, 27, 33, 39, 46, 48], dtype=int64),)"
      ]
     },
     "execution_count": 42,
     "metadata": {},
     "output_type": "execute_result"
    }
   ],
   "source": [
    "ind"
   ]
  },
  {
   "cell_type": "code",
   "execution_count": 43,
   "id": "ca051f7d",
   "metadata": {},
   "outputs": [
    {
     "data": {
      "text/html": [
       "<div>\n",
       "<style scoped>\n",
       "    .dataframe tbody tr th:only-of-type {\n",
       "        vertical-align: middle;\n",
       "    }\n",
       "\n",
       "    .dataframe tbody tr th {\n",
       "        vertical-align: top;\n",
       "    }\n",
       "\n",
       "    .dataframe thead th {\n",
       "        text-align: right;\n",
       "    }\n",
       "</style>\n",
       "<table border=\"1\" class=\"dataframe\">\n",
       "  <thead>\n",
       "    <tr style=\"text-align: right;\">\n",
       "      <th></th>\n",
       "      <th>MaterialID</th>\n",
       "      <th>Location</th>\n",
       "      <th>Quantity</th>\n",
       "    </tr>\n",
       "  </thead>\n",
       "  <tbody>\n",
       "    <tr>\n",
       "      <th>5</th>\n",
       "      <td>TMI-43T</td>\n",
       "      <td>MWH-4</td>\n",
       "      <td>78</td>\n",
       "    </tr>\n",
       "    <tr>\n",
       "      <th>9</th>\n",
       "      <td>TMI-43T</td>\n",
       "      <td>MWH-1</td>\n",
       "      <td>120</td>\n",
       "    </tr>\n",
       "    <tr>\n",
       "      <th>12</th>\n",
       "      <td>TMI-43T</td>\n",
       "      <td>MWH-4</td>\n",
       "      <td>76</td>\n",
       "    </tr>\n",
       "    <tr>\n",
       "      <th>15</th>\n",
       "      <td>GCVB-79</td>\n",
       "      <td>MWH-2</td>\n",
       "      <td>87</td>\n",
       "    </tr>\n",
       "    <tr>\n",
       "      <th>17</th>\n",
       "      <td>SDRT-67</td>\n",
       "      <td>MWH-5</td>\n",
       "      <td>102</td>\n",
       "    </tr>\n",
       "    <tr>\n",
       "      <th>21</th>\n",
       "      <td>TMI-43T</td>\n",
       "      <td>MWH-4</td>\n",
       "      <td>75</td>\n",
       "    </tr>\n",
       "    <tr>\n",
       "      <th>24</th>\n",
       "      <td>AXCP-78</td>\n",
       "      <td>MWH-1</td>\n",
       "      <td>152</td>\n",
       "    </tr>\n",
       "    <tr>\n",
       "      <th>25</th>\n",
       "      <td>AXCP-78</td>\n",
       "      <td>MWH-1</td>\n",
       "      <td>109</td>\n",
       "    </tr>\n",
       "    <tr>\n",
       "      <th>27</th>\n",
       "      <td>LXCV-21</td>\n",
       "      <td>MWH-5</td>\n",
       "      <td>83</td>\n",
       "    </tr>\n",
       "    <tr>\n",
       "      <th>33</th>\n",
       "      <td>TMI-43T</td>\n",
       "      <td>MWH-5</td>\n",
       "      <td>112</td>\n",
       "    </tr>\n",
       "    <tr>\n",
       "      <th>39</th>\n",
       "      <td>AXCP-78</td>\n",
       "      <td>MWH-1</td>\n",
       "      <td>145</td>\n",
       "    </tr>\n",
       "    <tr>\n",
       "      <th>46</th>\n",
       "      <td>AXCP-78</td>\n",
       "      <td>MWH-2</td>\n",
       "      <td>85</td>\n",
       "    </tr>\n",
       "    <tr>\n",
       "      <th>48</th>\n",
       "      <td>AXCP-78</td>\n",
       "      <td>MWH-1</td>\n",
       "      <td>75</td>\n",
       "    </tr>\n",
       "  </tbody>\n",
       "</table>\n",
       "</div>"
      ],
      "text/plain": [
       "   MaterialID Location  Quantity\n",
       "5     TMI-43T    MWH-4        78\n",
       "9     TMI-43T    MWH-1       120\n",
       "12    TMI-43T    MWH-4        76\n",
       "15    GCVB-79    MWH-2        87\n",
       "17    SDRT-67    MWH-5       102\n",
       "21    TMI-43T    MWH-4        75\n",
       "24    AXCP-78    MWH-1       152\n",
       "25    AXCP-78    MWH-1       109\n",
       "27    LXCV-21    MWH-5        83\n",
       "33    TMI-43T    MWH-5       112\n",
       "39    AXCP-78    MWH-1       145\n",
       "46    AXCP-78    MWH-2        85\n",
       "48    AXCP-78    MWH-1        75"
      ]
     },
     "execution_count": 43,
     "metadata": {},
     "output_type": "execute_result"
    }
   ],
   "source": [
    "# This command will be used to create a new separate array to store result.\n",
    "mydf = df.iloc[ind]\n",
    "mydf"
   ]
  },
  {
   "cell_type": "code",
   "execution_count": 44,
   "id": "f7c5b5b1",
   "metadata": {},
   "outputs": [
    {
     "data": {
      "text/html": [
       "<div>\n",
       "<style scoped>\n",
       "    .dataframe tbody tr th:only-of-type {\n",
       "        vertical-align: middle;\n",
       "    }\n",
       "\n",
       "    .dataframe tbody tr th {\n",
       "        vertical-align: top;\n",
       "    }\n",
       "\n",
       "    .dataframe thead th {\n",
       "        text-align: right;\n",
       "    }\n",
       "</style>\n",
       "<table border=\"1\" class=\"dataframe\">\n",
       "  <thead>\n",
       "    <tr style=\"text-align: right;\">\n",
       "      <th></th>\n",
       "      <th>MaterialID</th>\n",
       "      <th>Location</th>\n",
       "      <th>Quantity</th>\n",
       "    </tr>\n",
       "  </thead>\n",
       "  <tbody>\n",
       "    <tr>\n",
       "      <th>5</th>\n",
       "      <td>TMI-43T</td>\n",
       "      <td>MWH-4</td>\n",
       "      <td>78</td>\n",
       "    </tr>\n",
       "    <tr>\n",
       "      <th>9</th>\n",
       "      <td>TMI-43T</td>\n",
       "      <td>MWH-1</td>\n",
       "      <td>120</td>\n",
       "    </tr>\n",
       "    <tr>\n",
       "      <th>12</th>\n",
       "      <td>TMI-43T</td>\n",
       "      <td>MWH-4</td>\n",
       "      <td>76</td>\n",
       "    </tr>\n",
       "  </tbody>\n",
       "</table>\n",
       "</div>"
      ],
      "text/plain": [
       "   MaterialID Location  Quantity\n",
       "5     TMI-43T    MWH-4        78\n",
       "9     TMI-43T    MWH-1       120\n",
       "12    TMI-43T    MWH-4        76"
      ]
     },
     "execution_count": 44,
     "metadata": {},
     "output_type": "execute_result"
    }
   ],
   "source": [
    "mydf.iloc[[0,1,2]]\n",
    "\n",
    "# This command will print first 3 records from the selected dataframe."
   ]
  },
  {
   "cell_type": "code",
   "execution_count": 46,
   "id": "c07fa1af",
   "metadata": {},
   "outputs": [
    {
     "data": {
      "text/plain": [
       "(array([ 3, 16, 17, 23, 27, 28, 29, 33, 34, 37, 38], dtype=int64),)"
      ]
     },
     "execution_count": 46,
     "metadata": {},
     "output_type": "execute_result"
    }
   ],
   "source": [
    "np.where(df.Location =='MWH-5')"
   ]
  },
  {
   "cell_type": "code",
   "execution_count": 48,
   "id": "45c1ae61",
   "metadata": {},
   "outputs": [
    {
     "data": {
      "text/plain": [
       "11"
      ]
     },
     "execution_count": 48,
     "metadata": {},
     "output_type": "execute_result"
    }
   ],
   "source": [
    "(df.Location =='MWH-5').sum()"
   ]
  },
  {
   "cell_type": "code",
   "execution_count": 49,
   "id": "c42df5e0",
   "metadata": {},
   "outputs": [
    {
     "data": {
      "text/plain": [
       "(array([ 9, 17, 24, 25, 33, 39], dtype=int64),)"
      ]
     },
     "execution_count": 49,
     "metadata": {},
     "output_type": "execute_result"
    }
   ],
   "source": [
    "np.where(df.Quantity >= 100)"
   ]
  },
  {
   "cell_type": "code",
   "execution_count": 50,
   "id": "1edf616d",
   "metadata": {},
   "outputs": [
    {
     "data": {
      "text/plain": [
       "6"
      ]
     },
     "execution_count": 50,
     "metadata": {},
     "output_type": "execute_result"
    }
   ],
   "source": [
    "(df.Quantity >= 100).sum()"
   ]
  },
  {
   "cell_type": "code",
   "execution_count": 52,
   "id": "cf46e7dc",
   "metadata": {},
   "outputs": [
    {
     "data": {
      "text/plain": [
       "2"
      ]
     },
     "execution_count": 52,
     "metadata": {},
     "output_type": "execute_result"
    }
   ],
   "source": [
    "(df.Location =='MWH-5').sum() & (df.Quantity >= 100).sum()"
   ]
  },
  {
   "cell_type": "code",
   "execution_count": 53,
   "id": "bce36a01",
   "metadata": {},
   "outputs": [
    {
     "data": {
      "text/plain": [
       "6"
      ]
     },
     "execution_count": 53,
     "metadata": {},
     "output_type": "execute_result"
    }
   ],
   "source": [
    "(df.Location =='MWH-5').sum() and (df.Quantity >= 100).sum()"
   ]
  },
  {
   "cell_type": "code",
   "execution_count": 54,
   "id": "7e74989b",
   "metadata": {},
   "outputs": [
    {
     "data": {
      "text/plain": [
       "(array([17, 33], dtype=int64),)"
      ]
     },
     "execution_count": 54,
     "metadata": {},
     "output_type": "execute_result"
    }
   ],
   "source": [
    "ind = np.where((df['Quantity'] >= 100) & (df['Location'] == 'MWH-5'))\n",
    "ind"
   ]
  },
  {
   "cell_type": "code",
   "execution_count": 55,
   "id": "13e65b8d",
   "metadata": {},
   "outputs": [],
   "source": [
    "mydf = df.iloc[ind]"
   ]
  },
  {
   "cell_type": "code",
   "execution_count": 56,
   "id": "a3f393f0",
   "metadata": {},
   "outputs": [
    {
     "data": {
      "text/html": [
       "<div>\n",
       "<style scoped>\n",
       "    .dataframe tbody tr th:only-of-type {\n",
       "        vertical-align: middle;\n",
       "    }\n",
       "\n",
       "    .dataframe tbody tr th {\n",
       "        vertical-align: top;\n",
       "    }\n",
       "\n",
       "    .dataframe thead th {\n",
       "        text-align: right;\n",
       "    }\n",
       "</style>\n",
       "<table border=\"1\" class=\"dataframe\">\n",
       "  <thead>\n",
       "    <tr style=\"text-align: right;\">\n",
       "      <th></th>\n",
       "      <th>MaterialID</th>\n",
       "      <th>Location</th>\n",
       "      <th>Quantity</th>\n",
       "    </tr>\n",
       "  </thead>\n",
       "  <tbody>\n",
       "    <tr>\n",
       "      <th>17</th>\n",
       "      <td>SDRT-67</td>\n",
       "      <td>MWH-5</td>\n",
       "      <td>102</td>\n",
       "    </tr>\n",
       "    <tr>\n",
       "      <th>33</th>\n",
       "      <td>TMI-43T</td>\n",
       "      <td>MWH-5</td>\n",
       "      <td>112</td>\n",
       "    </tr>\n",
       "  </tbody>\n",
       "</table>\n",
       "</div>"
      ],
      "text/plain": [
       "   MaterialID Location  Quantity\n",
       "17    SDRT-67    MWH-5       102\n",
       "33    TMI-43T    MWH-5       112"
      ]
     },
     "execution_count": 56,
     "metadata": {},
     "output_type": "execute_result"
    }
   ],
   "source": [
    "mydf"
   ]
  },
  {
   "cell_type": "code",
   "execution_count": 59,
   "id": "688ad4ac",
   "metadata": {},
   "outputs": [
    {
     "data": {
      "text/plain": [
       "(array([ 0,  5,  6,  7,  9, 12, 13, 14, 17, 18, 19, 20, 21, 24, 25, 31, 32,\n",
       "        33, 39], dtype=int64),)"
      ]
     },
     "execution_count": 59,
     "metadata": {},
     "output_type": "execute_result"
    }
   ],
   "source": [
    "ind = np.where((df['MaterialID']=='TMI-43T') | (df['Quantity'] >= 100))\n",
    "ind"
   ]
  },
  {
   "cell_type": "code",
   "execution_count": 60,
   "id": "a61b62fa",
   "metadata": {},
   "outputs": [
    {
     "data": {
      "text/html": [
       "<div>\n",
       "<style scoped>\n",
       "    .dataframe tbody tr th:only-of-type {\n",
       "        vertical-align: middle;\n",
       "    }\n",
       "\n",
       "    .dataframe tbody tr th {\n",
       "        vertical-align: top;\n",
       "    }\n",
       "\n",
       "    .dataframe thead th {\n",
       "        text-align: right;\n",
       "    }\n",
       "</style>\n",
       "<table border=\"1\" class=\"dataframe\">\n",
       "  <thead>\n",
       "    <tr style=\"text-align: right;\">\n",
       "      <th></th>\n",
       "      <th>MaterialID</th>\n",
       "      <th>Location</th>\n",
       "      <th>Quantity</th>\n",
       "    </tr>\n",
       "  </thead>\n",
       "  <tbody>\n",
       "    <tr>\n",
       "      <th>0</th>\n",
       "      <td>TMI-43T</td>\n",
       "      <td>MWH-4</td>\n",
       "      <td>34</td>\n",
       "    </tr>\n",
       "    <tr>\n",
       "      <th>5</th>\n",
       "      <td>TMI-43T</td>\n",
       "      <td>MWH-4</td>\n",
       "      <td>78</td>\n",
       "    </tr>\n",
       "    <tr>\n",
       "      <th>6</th>\n",
       "      <td>TMI-43T</td>\n",
       "      <td>MWH-4</td>\n",
       "      <td>31</td>\n",
       "    </tr>\n",
       "    <tr>\n",
       "      <th>7</th>\n",
       "      <td>TMI-43T</td>\n",
       "      <td>MWH-2</td>\n",
       "      <td>29</td>\n",
       "    </tr>\n",
       "    <tr>\n",
       "      <th>9</th>\n",
       "      <td>TMI-43T</td>\n",
       "      <td>MWH-1</td>\n",
       "      <td>120</td>\n",
       "    </tr>\n",
       "    <tr>\n",
       "      <th>12</th>\n",
       "      <td>TMI-43T</td>\n",
       "      <td>MWH-4</td>\n",
       "      <td>76</td>\n",
       "    </tr>\n",
       "    <tr>\n",
       "      <th>13</th>\n",
       "      <td>TMI-43T</td>\n",
       "      <td>MWH-4</td>\n",
       "      <td>32</td>\n",
       "    </tr>\n",
       "    <tr>\n",
       "      <th>14</th>\n",
       "      <td>TMI-43T</td>\n",
       "      <td>MWH-3</td>\n",
       "      <td>65</td>\n",
       "    </tr>\n",
       "    <tr>\n",
       "      <th>17</th>\n",
       "      <td>SDRT-67</td>\n",
       "      <td>MWH-5</td>\n",
       "      <td>102</td>\n",
       "    </tr>\n",
       "    <tr>\n",
       "      <th>18</th>\n",
       "      <td>TMI-43T</td>\n",
       "      <td>MWH-4</td>\n",
       "      <td>34</td>\n",
       "    </tr>\n",
       "    <tr>\n",
       "      <th>19</th>\n",
       "      <td>TMI-43T</td>\n",
       "      <td>MWH-4</td>\n",
       "      <td>52</td>\n",
       "    </tr>\n",
       "    <tr>\n",
       "      <th>20</th>\n",
       "      <td>TMI-43T</td>\n",
       "      <td>MWH-4</td>\n",
       "      <td>39</td>\n",
       "    </tr>\n",
       "    <tr>\n",
       "      <th>21</th>\n",
       "      <td>TMI-43T</td>\n",
       "      <td>MWH-4</td>\n",
       "      <td>75</td>\n",
       "    </tr>\n",
       "    <tr>\n",
       "      <th>24</th>\n",
       "      <td>AXCP-78</td>\n",
       "      <td>MWH-1</td>\n",
       "      <td>152</td>\n",
       "    </tr>\n",
       "    <tr>\n",
       "      <th>25</th>\n",
       "      <td>AXCP-78</td>\n",
       "      <td>MWH-1</td>\n",
       "      <td>109</td>\n",
       "    </tr>\n",
       "    <tr>\n",
       "      <th>31</th>\n",
       "      <td>TMI-43T</td>\n",
       "      <td>MWH-4</td>\n",
       "      <td>65</td>\n",
       "    </tr>\n",
       "    <tr>\n",
       "      <th>32</th>\n",
       "      <td>TMI-43T</td>\n",
       "      <td>MWH-4</td>\n",
       "      <td>43</td>\n",
       "    </tr>\n",
       "    <tr>\n",
       "      <th>33</th>\n",
       "      <td>TMI-43T</td>\n",
       "      <td>MWH-5</td>\n",
       "      <td>112</td>\n",
       "    </tr>\n",
       "    <tr>\n",
       "      <th>39</th>\n",
       "      <td>AXCP-78</td>\n",
       "      <td>MWH-1</td>\n",
       "      <td>145</td>\n",
       "    </tr>\n",
       "  </tbody>\n",
       "</table>\n",
       "</div>"
      ],
      "text/plain": [
       "   MaterialID Location  Quantity\n",
       "0     TMI-43T    MWH-4        34\n",
       "5     TMI-43T    MWH-4        78\n",
       "6     TMI-43T    MWH-4        31\n",
       "7     TMI-43T    MWH-2        29\n",
       "9     TMI-43T    MWH-1       120\n",
       "12    TMI-43T    MWH-4        76\n",
       "13    TMI-43T    MWH-4        32\n",
       "14    TMI-43T    MWH-3        65\n",
       "17    SDRT-67    MWH-5       102\n",
       "18    TMI-43T    MWH-4        34\n",
       "19    TMI-43T    MWH-4        52\n",
       "20    TMI-43T    MWH-4        39\n",
       "21    TMI-43T    MWH-4        75\n",
       "24    AXCP-78    MWH-1       152\n",
       "25    AXCP-78    MWH-1       109\n",
       "31    TMI-43T    MWH-4        65\n",
       "32    TMI-43T    MWH-4        43\n",
       "33    TMI-43T    MWH-5       112\n",
       "39    AXCP-78    MWH-1       145"
      ]
     },
     "execution_count": 60,
     "metadata": {},
     "output_type": "execute_result"
    }
   ],
   "source": [
    "mydf = df.iloc[ind]\n",
    "mydf"
   ]
  },
  {
   "cell_type": "code",
   "execution_count": 61,
   "id": "4751283e",
   "metadata": {},
   "outputs": [
    {
     "data": {
      "text/plain": [
       "19"
      ]
     },
     "execution_count": 61,
     "metadata": {},
     "output_type": "execute_result"
    }
   ],
   "source": [
    "((df['MaterialID']=='TMI-43T') | (df['Quantity'] >= 100)).sum()"
   ]
  },
  {
   "cell_type": "code",
   "execution_count": 62,
   "id": "95f93524",
   "metadata": {},
   "outputs": [
    {
     "data": {
      "text/plain": [
       "19"
      ]
     },
     "execution_count": 62,
     "metadata": {},
     "output_type": "execute_result"
    }
   ],
   "source": [
    "len(ind[0])"
   ]
  },
  {
   "cell_type": "code",
   "execution_count": 63,
   "id": "346ed3fb",
   "metadata": {},
   "outputs": [],
   "source": [
    "ind = np.where(df.Quantity <= 25)"
   ]
  },
  {
   "cell_type": "code",
   "execution_count": 64,
   "id": "a028496d",
   "metadata": {},
   "outputs": [
    {
     "data": {
      "text/plain": [
       "(array([ 8, 16], dtype=int64),)"
      ]
     },
     "execution_count": 64,
     "metadata": {},
     "output_type": "execute_result"
    }
   ],
   "source": [
    "ind"
   ]
  },
  {
   "cell_type": "code",
   "execution_count": 65,
   "id": "217b6d81",
   "metadata": {},
   "outputs": [
    {
     "data": {
      "text/plain": [
       "2"
      ]
     },
     "execution_count": 65,
     "metadata": {},
     "output_type": "execute_result"
    }
   ],
   "source": [
    "len(ind[0])"
   ]
  },
  {
   "cell_type": "code",
   "execution_count": 66,
   "id": "a4eebb70",
   "metadata": {},
   "outputs": [],
   "source": [
    "my_df = df.drop(ind[0])\n",
    "# This command will drop the selected records"
   ]
  },
  {
   "cell_type": "code",
   "execution_count": 67,
   "id": "713737ca",
   "metadata": {},
   "outputs": [
    {
     "data": {
      "text/plain": [
       "(48, 3)"
      ]
     },
     "execution_count": 67,
     "metadata": {},
     "output_type": "execute_result"
    }
   ],
   "source": [
    "my_df.shape"
   ]
  },
  {
   "cell_type": "code",
   "execution_count": 68,
   "id": "f70fe024",
   "metadata": {},
   "outputs": [],
   "source": [
    "list1 = []"
   ]
  },
  {
   "cell_type": "code",
   "execution_count": 69,
   "id": "6d5c71b7",
   "metadata": {},
   "outputs": [],
   "source": [
    "x = list(df.Quantity)\n",
    "y =[]"
   ]
  },
  {
   "cell_type": "code",
   "execution_count": 70,
   "id": "9504ac50",
   "metadata": {},
   "outputs": [],
   "source": [
    "for ctr in x:\n",
    "    if ctr >= 50:\n",
    "        y.append('Scrap')\n",
    "    else:\n",
    "        y.append('Useful')"
   ]
  },
  {
   "cell_type": "code",
   "execution_count": 71,
   "id": "f95054e7",
   "metadata": {},
   "outputs": [
    {
     "data": {
      "text/plain": [
       "[34, 67, 27, 65, 36]"
      ]
     },
     "execution_count": 71,
     "metadata": {},
     "output_type": "execute_result"
    }
   ],
   "source": [
    "x[:5]"
   ]
  },
  {
   "cell_type": "code",
   "execution_count": 72,
   "id": "da6edb6f",
   "metadata": {},
   "outputs": [
    {
     "data": {
      "text/plain": [
       "['Useful', 'Scrap', 'Useful', 'Scrap', 'Useful']"
      ]
     },
     "execution_count": 72,
     "metadata": {},
     "output_type": "execute_result"
    }
   ],
   "source": [
    "y[:5]"
   ]
  },
  {
   "cell_type": "code",
   "execution_count": 73,
   "id": "9d9401a7",
   "metadata": {},
   "outputs": [],
   "source": [
    "df['Status'] = y"
   ]
  },
  {
   "cell_type": "code",
   "execution_count": 74,
   "id": "5185a3cb",
   "metadata": {},
   "outputs": [
    {
     "data": {
      "text/plain": [
       "['Useful',\n",
       " 'Scrap',\n",
       " 'Useful',\n",
       " 'Scrap',\n",
       " 'Useful',\n",
       " 'Scrap',\n",
       " 'Useful',\n",
       " 'Useful',\n",
       " 'Useful',\n",
       " 'Scrap',\n",
       " 'Useful',\n",
       " 'Scrap',\n",
       " 'Scrap',\n",
       " 'Useful',\n",
       " 'Scrap',\n",
       " 'Scrap',\n",
       " 'Useful',\n",
       " 'Scrap',\n",
       " 'Useful',\n",
       " 'Scrap',\n",
       " 'Useful',\n",
       " 'Scrap',\n",
       " 'Useful',\n",
       " 'Scrap',\n",
       " 'Scrap',\n",
       " 'Scrap',\n",
       " 'Scrap',\n",
       " 'Scrap',\n",
       " 'Useful',\n",
       " 'Scrap',\n",
       " 'Useful',\n",
       " 'Scrap',\n",
       " 'Useful',\n",
       " 'Scrap',\n",
       " 'Useful',\n",
       " 'Useful',\n",
       " 'Useful',\n",
       " 'Scrap',\n",
       " 'Scrap',\n",
       " 'Scrap',\n",
       " 'Useful',\n",
       " 'Scrap',\n",
       " 'Useful',\n",
       " 'Useful',\n",
       " 'Useful',\n",
       " 'Scrap',\n",
       " 'Scrap',\n",
       " 'Useful',\n",
       " 'Scrap',\n",
       " 'Useful']"
      ]
     },
     "execution_count": 74,
     "metadata": {},
     "output_type": "execute_result"
    }
   ],
   "source": [
    "y"
   ]
  },
  {
   "cell_type": "code",
   "execution_count": 75,
   "id": "5b4b7b7c",
   "metadata": {},
   "outputs": [
    {
     "data": {
      "text/html": [
       "<div>\n",
       "<style scoped>\n",
       "    .dataframe tbody tr th:only-of-type {\n",
       "        vertical-align: middle;\n",
       "    }\n",
       "\n",
       "    .dataframe tbody tr th {\n",
       "        vertical-align: top;\n",
       "    }\n",
       "\n",
       "    .dataframe thead th {\n",
       "        text-align: right;\n",
       "    }\n",
       "</style>\n",
       "<table border=\"1\" class=\"dataframe\">\n",
       "  <thead>\n",
       "    <tr style=\"text-align: right;\">\n",
       "      <th></th>\n",
       "      <th>MaterialID</th>\n",
       "      <th>Location</th>\n",
       "      <th>Quantity</th>\n",
       "      <th>Status</th>\n",
       "    </tr>\n",
       "  </thead>\n",
       "  <tbody>\n",
       "    <tr>\n",
       "      <th>0</th>\n",
       "      <td>TMI-43T</td>\n",
       "      <td>MWH-4</td>\n",
       "      <td>34</td>\n",
       "      <td>Useful</td>\n",
       "    </tr>\n",
       "    <tr>\n",
       "      <th>1</th>\n",
       "      <td>AXCP-78</td>\n",
       "      <td>MWH-1</td>\n",
       "      <td>67</td>\n",
       "      <td>Scrap</td>\n",
       "    </tr>\n",
       "    <tr>\n",
       "      <th>2</th>\n",
       "      <td>LXCV-21</td>\n",
       "      <td>MWH-2</td>\n",
       "      <td>27</td>\n",
       "      <td>Useful</td>\n",
       "    </tr>\n",
       "    <tr>\n",
       "      <th>3</th>\n",
       "      <td>AXCP-78</td>\n",
       "      <td>MWH-5</td>\n",
       "      <td>65</td>\n",
       "      <td>Scrap</td>\n",
       "    </tr>\n",
       "    <tr>\n",
       "      <th>4</th>\n",
       "      <td>AXCP-78</td>\n",
       "      <td>MWH-4</td>\n",
       "      <td>36</td>\n",
       "      <td>Useful</td>\n",
       "    </tr>\n",
       "    <tr>\n",
       "      <th>5</th>\n",
       "      <td>TMI-43T</td>\n",
       "      <td>MWH-4</td>\n",
       "      <td>78</td>\n",
       "      <td>Scrap</td>\n",
       "    </tr>\n",
       "    <tr>\n",
       "      <th>6</th>\n",
       "      <td>TMI-43T</td>\n",
       "      <td>MWH-4</td>\n",
       "      <td>31</td>\n",
       "      <td>Useful</td>\n",
       "    </tr>\n",
       "    <tr>\n",
       "      <th>7</th>\n",
       "      <td>TMI-43T</td>\n",
       "      <td>MWH-2</td>\n",
       "      <td>29</td>\n",
       "      <td>Useful</td>\n",
       "    </tr>\n",
       "    <tr>\n",
       "      <th>8</th>\n",
       "      <td>GCVB-79</td>\n",
       "      <td>MWH-2</td>\n",
       "      <td>10</td>\n",
       "      <td>Useful</td>\n",
       "    </tr>\n",
       "    <tr>\n",
       "      <th>9</th>\n",
       "      <td>TMI-43T</td>\n",
       "      <td>MWH-1</td>\n",
       "      <td>120</td>\n",
       "      <td>Scrap</td>\n",
       "    </tr>\n",
       "    <tr>\n",
       "      <th>10</th>\n",
       "      <td>SDRT-67</td>\n",
       "      <td>MWH-1</td>\n",
       "      <td>34</td>\n",
       "      <td>Useful</td>\n",
       "    </tr>\n",
       "    <tr>\n",
       "      <th>11</th>\n",
       "      <td>SDRT-67</td>\n",
       "      <td>MWH-4</td>\n",
       "      <td>58</td>\n",
       "      <td>Scrap</td>\n",
       "    </tr>\n",
       "    <tr>\n",
       "      <th>12</th>\n",
       "      <td>TMI-43T</td>\n",
       "      <td>MWH-4</td>\n",
       "      <td>76</td>\n",
       "      <td>Scrap</td>\n",
       "    </tr>\n",
       "    <tr>\n",
       "      <th>13</th>\n",
       "      <td>TMI-43T</td>\n",
       "      <td>MWH-4</td>\n",
       "      <td>32</td>\n",
       "      <td>Useful</td>\n",
       "    </tr>\n",
       "    <tr>\n",
       "      <th>14</th>\n",
       "      <td>TMI-43T</td>\n",
       "      <td>MWH-3</td>\n",
       "      <td>65</td>\n",
       "      <td>Scrap</td>\n",
       "    </tr>\n",
       "    <tr>\n",
       "      <th>15</th>\n",
       "      <td>GCVB-79</td>\n",
       "      <td>MWH-2</td>\n",
       "      <td>87</td>\n",
       "      <td>Scrap</td>\n",
       "    </tr>\n",
       "    <tr>\n",
       "      <th>16</th>\n",
       "      <td>SDRT-67</td>\n",
       "      <td>MWH-5</td>\n",
       "      <td>12</td>\n",
       "      <td>Useful</td>\n",
       "    </tr>\n",
       "    <tr>\n",
       "      <th>17</th>\n",
       "      <td>SDRT-67</td>\n",
       "      <td>MWH-5</td>\n",
       "      <td>102</td>\n",
       "      <td>Scrap</td>\n",
       "    </tr>\n",
       "    <tr>\n",
       "      <th>18</th>\n",
       "      <td>TMI-43T</td>\n",
       "      <td>MWH-4</td>\n",
       "      <td>34</td>\n",
       "      <td>Useful</td>\n",
       "    </tr>\n",
       "    <tr>\n",
       "      <th>19</th>\n",
       "      <td>TMI-43T</td>\n",
       "      <td>MWH-4</td>\n",
       "      <td>52</td>\n",
       "      <td>Scrap</td>\n",
       "    </tr>\n",
       "    <tr>\n",
       "      <th>20</th>\n",
       "      <td>TMI-43T</td>\n",
       "      <td>MWH-4</td>\n",
       "      <td>39</td>\n",
       "      <td>Useful</td>\n",
       "    </tr>\n",
       "    <tr>\n",
       "      <th>21</th>\n",
       "      <td>TMI-43T</td>\n",
       "      <td>MWH-4</td>\n",
       "      <td>75</td>\n",
       "      <td>Scrap</td>\n",
       "    </tr>\n",
       "    <tr>\n",
       "      <th>22</th>\n",
       "      <td>DDBN-89</td>\n",
       "      <td>MWH-4</td>\n",
       "      <td>48</td>\n",
       "      <td>Useful</td>\n",
       "    </tr>\n",
       "    <tr>\n",
       "      <th>23</th>\n",
       "      <td>DDBN-89</td>\n",
       "      <td>MWH-5</td>\n",
       "      <td>71</td>\n",
       "      <td>Scrap</td>\n",
       "    </tr>\n",
       "    <tr>\n",
       "      <th>24</th>\n",
       "      <td>AXCP-78</td>\n",
       "      <td>MWH-1</td>\n",
       "      <td>152</td>\n",
       "      <td>Scrap</td>\n",
       "    </tr>\n",
       "    <tr>\n",
       "      <th>25</th>\n",
       "      <td>AXCP-78</td>\n",
       "      <td>MWH-1</td>\n",
       "      <td>109</td>\n",
       "      <td>Scrap</td>\n",
       "    </tr>\n",
       "    <tr>\n",
       "      <th>26</th>\n",
       "      <td>DDBN-89</td>\n",
       "      <td>MWH-1</td>\n",
       "      <td>57</td>\n",
       "      <td>Scrap</td>\n",
       "    </tr>\n",
       "    <tr>\n",
       "      <th>27</th>\n",
       "      <td>LXCV-21</td>\n",
       "      <td>MWH-5</td>\n",
       "      <td>83</td>\n",
       "      <td>Scrap</td>\n",
       "    </tr>\n",
       "    <tr>\n",
       "      <th>28</th>\n",
       "      <td>LXCV-21</td>\n",
       "      <td>MWH-5</td>\n",
       "      <td>34</td>\n",
       "      <td>Useful</td>\n",
       "    </tr>\n",
       "    <tr>\n",
       "      <th>29</th>\n",
       "      <td>LXCV-21</td>\n",
       "      <td>MWH-5</td>\n",
       "      <td>57</td>\n",
       "      <td>Scrap</td>\n",
       "    </tr>\n",
       "    <tr>\n",
       "      <th>30</th>\n",
       "      <td>DDBN-89</td>\n",
       "      <td>MWH-4</td>\n",
       "      <td>27</td>\n",
       "      <td>Useful</td>\n",
       "    </tr>\n",
       "    <tr>\n",
       "      <th>31</th>\n",
       "      <td>TMI-43T</td>\n",
       "      <td>MWH-4</td>\n",
       "      <td>65</td>\n",
       "      <td>Scrap</td>\n",
       "    </tr>\n",
       "    <tr>\n",
       "      <th>32</th>\n",
       "      <td>TMI-43T</td>\n",
       "      <td>MWH-4</td>\n",
       "      <td>43</td>\n",
       "      <td>Useful</td>\n",
       "    </tr>\n",
       "    <tr>\n",
       "      <th>33</th>\n",
       "      <td>TMI-43T</td>\n",
       "      <td>MWH-5</td>\n",
       "      <td>112</td>\n",
       "      <td>Scrap</td>\n",
       "    </tr>\n",
       "    <tr>\n",
       "      <th>34</th>\n",
       "      <td>GCVB-79</td>\n",
       "      <td>MWH-5</td>\n",
       "      <td>26</td>\n",
       "      <td>Useful</td>\n",
       "    </tr>\n",
       "    <tr>\n",
       "      <th>35</th>\n",
       "      <td>GCVB-79</td>\n",
       "      <td>MWH-2</td>\n",
       "      <td>31</td>\n",
       "      <td>Useful</td>\n",
       "    </tr>\n",
       "    <tr>\n",
       "      <th>36</th>\n",
       "      <td>GCVB-79</td>\n",
       "      <td>MWH-2</td>\n",
       "      <td>28</td>\n",
       "      <td>Useful</td>\n",
       "    </tr>\n",
       "    <tr>\n",
       "      <th>37</th>\n",
       "      <td>AXCP-78</td>\n",
       "      <td>MWH-5</td>\n",
       "      <td>65</td>\n",
       "      <td>Scrap</td>\n",
       "    </tr>\n",
       "    <tr>\n",
       "      <th>38</th>\n",
       "      <td>AXCP-78</td>\n",
       "      <td>MWH-5</td>\n",
       "      <td>70</td>\n",
       "      <td>Scrap</td>\n",
       "    </tr>\n",
       "    <tr>\n",
       "      <th>39</th>\n",
       "      <td>AXCP-78</td>\n",
       "      <td>MWH-1</td>\n",
       "      <td>145</td>\n",
       "      <td>Scrap</td>\n",
       "    </tr>\n",
       "    <tr>\n",
       "      <th>40</th>\n",
       "      <td>DDBN-89</td>\n",
       "      <td>MWH-1</td>\n",
       "      <td>34</td>\n",
       "      <td>Useful</td>\n",
       "    </tr>\n",
       "    <tr>\n",
       "      <th>41</th>\n",
       "      <td>SDRT-67</td>\n",
       "      <td>MWH-1</td>\n",
       "      <td>57</td>\n",
       "      <td>Scrap</td>\n",
       "    </tr>\n",
       "    <tr>\n",
       "      <th>42</th>\n",
       "      <td>SDRT-67</td>\n",
       "      <td>MWH-2</td>\n",
       "      <td>31</td>\n",
       "      <td>Useful</td>\n",
       "    </tr>\n",
       "    <tr>\n",
       "      <th>43</th>\n",
       "      <td>DDBN-89</td>\n",
       "      <td>MWH-3</td>\n",
       "      <td>38</td>\n",
       "      <td>Useful</td>\n",
       "    </tr>\n",
       "    <tr>\n",
       "      <th>44</th>\n",
       "      <td>LXCV-21</td>\n",
       "      <td>MWH-3</td>\n",
       "      <td>42</td>\n",
       "      <td>Useful</td>\n",
       "    </tr>\n",
       "    <tr>\n",
       "      <th>45</th>\n",
       "      <td>DDBN-89</td>\n",
       "      <td>MWH-2</td>\n",
       "      <td>69</td>\n",
       "      <td>Scrap</td>\n",
       "    </tr>\n",
       "    <tr>\n",
       "      <th>46</th>\n",
       "      <td>AXCP-78</td>\n",
       "      <td>MWH-2</td>\n",
       "      <td>85</td>\n",
       "      <td>Scrap</td>\n",
       "    </tr>\n",
       "    <tr>\n",
       "      <th>47</th>\n",
       "      <td>AXCP-78</td>\n",
       "      <td>MWH-3</td>\n",
       "      <td>29</td>\n",
       "      <td>Useful</td>\n",
       "    </tr>\n",
       "    <tr>\n",
       "      <th>48</th>\n",
       "      <td>AXCP-78</td>\n",
       "      <td>MWH-1</td>\n",
       "      <td>75</td>\n",
       "      <td>Scrap</td>\n",
       "    </tr>\n",
       "    <tr>\n",
       "      <th>49</th>\n",
       "      <td>DDBN-89</td>\n",
       "      <td>MWH-1</td>\n",
       "      <td>39</td>\n",
       "      <td>Useful</td>\n",
       "    </tr>\n",
       "  </tbody>\n",
       "</table>\n",
       "</div>"
      ],
      "text/plain": [
       "   MaterialID Location  Quantity  Status\n",
       "0     TMI-43T    MWH-4        34  Useful\n",
       "1     AXCP-78    MWH-1        67   Scrap\n",
       "2     LXCV-21    MWH-2        27  Useful\n",
       "3     AXCP-78    MWH-5        65   Scrap\n",
       "4     AXCP-78    MWH-4        36  Useful\n",
       "5     TMI-43T    MWH-4        78   Scrap\n",
       "6     TMI-43T    MWH-4        31  Useful\n",
       "7     TMI-43T    MWH-2        29  Useful\n",
       "8     GCVB-79    MWH-2        10  Useful\n",
       "9     TMI-43T    MWH-1       120   Scrap\n",
       "10    SDRT-67    MWH-1        34  Useful\n",
       "11    SDRT-67    MWH-4        58   Scrap\n",
       "12    TMI-43T    MWH-4        76   Scrap\n",
       "13    TMI-43T    MWH-4        32  Useful\n",
       "14    TMI-43T    MWH-3        65   Scrap\n",
       "15    GCVB-79    MWH-2        87   Scrap\n",
       "16    SDRT-67    MWH-5        12  Useful\n",
       "17    SDRT-67    MWH-5       102   Scrap\n",
       "18    TMI-43T    MWH-4        34  Useful\n",
       "19    TMI-43T    MWH-4        52   Scrap\n",
       "20    TMI-43T    MWH-4        39  Useful\n",
       "21    TMI-43T    MWH-4        75   Scrap\n",
       "22    DDBN-89    MWH-4        48  Useful\n",
       "23    DDBN-89    MWH-5        71   Scrap\n",
       "24    AXCP-78    MWH-1       152   Scrap\n",
       "25    AXCP-78    MWH-1       109   Scrap\n",
       "26    DDBN-89    MWH-1        57   Scrap\n",
       "27    LXCV-21    MWH-5        83   Scrap\n",
       "28    LXCV-21    MWH-5        34  Useful\n",
       "29    LXCV-21    MWH-5        57   Scrap\n",
       "30    DDBN-89    MWH-4        27  Useful\n",
       "31    TMI-43T    MWH-4        65   Scrap\n",
       "32    TMI-43T    MWH-4        43  Useful\n",
       "33    TMI-43T    MWH-5       112   Scrap\n",
       "34    GCVB-79    MWH-5        26  Useful\n",
       "35    GCVB-79    MWH-2        31  Useful\n",
       "36    GCVB-79    MWH-2        28  Useful\n",
       "37    AXCP-78    MWH-5        65   Scrap\n",
       "38    AXCP-78    MWH-5        70   Scrap\n",
       "39    AXCP-78    MWH-1       145   Scrap\n",
       "40    DDBN-89    MWH-1        34  Useful\n",
       "41    SDRT-67    MWH-1        57   Scrap\n",
       "42    SDRT-67    MWH-2        31  Useful\n",
       "43    DDBN-89    MWH-3        38  Useful\n",
       "44    LXCV-21    MWH-3        42  Useful\n",
       "45    DDBN-89    MWH-2        69   Scrap\n",
       "46    AXCP-78    MWH-2        85   Scrap\n",
       "47    AXCP-78    MWH-3        29  Useful\n",
       "48    AXCP-78    MWH-1        75   Scrap\n",
       "49    DDBN-89    MWH-1        39  Useful"
      ]
     },
     "execution_count": 75,
     "metadata": {},
     "output_type": "execute_result"
    }
   ],
   "source": [
    "df"
   ]
  },
  {
   "cell_type": "code",
   "execution_count": 76,
   "id": "8f93bf01",
   "metadata": {},
   "outputs": [
    {
     "data": {
      "text/html": [
       "<div>\n",
       "<style scoped>\n",
       "    .dataframe tbody tr th:only-of-type {\n",
       "        vertical-align: middle;\n",
       "    }\n",
       "\n",
       "    .dataframe tbody tr th {\n",
       "        vertical-align: top;\n",
       "    }\n",
       "\n",
       "    .dataframe thead th {\n",
       "        text-align: right;\n",
       "    }\n",
       "</style>\n",
       "<table border=\"1\" class=\"dataframe\">\n",
       "  <thead>\n",
       "    <tr style=\"text-align: right;\">\n",
       "      <th></th>\n",
       "      <th>MaterialID</th>\n",
       "      <th>Location</th>\n",
       "      <th>Quantity</th>\n",
       "      <th>Status</th>\n",
       "    </tr>\n",
       "  </thead>\n",
       "  <tbody>\n",
       "    <tr>\n",
       "      <th>0</th>\n",
       "      <td>TMI-43T</td>\n",
       "      <td>MWH-4</td>\n",
       "      <td>34</td>\n",
       "      <td>Useful</td>\n",
       "    </tr>\n",
       "    <tr>\n",
       "      <th>1</th>\n",
       "      <td>AXCP-78</td>\n",
       "      <td>MWH-1</td>\n",
       "      <td>67</td>\n",
       "      <td>Scrap</td>\n",
       "    </tr>\n",
       "    <tr>\n",
       "      <th>2</th>\n",
       "      <td>LXCV-21</td>\n",
       "      <td>MWH-2</td>\n",
       "      <td>27</td>\n",
       "      <td>Useful</td>\n",
       "    </tr>\n",
       "    <tr>\n",
       "      <th>3</th>\n",
       "      <td>AXCP-78</td>\n",
       "      <td>MWH-5</td>\n",
       "      <td>65</td>\n",
       "      <td>Scrap</td>\n",
       "    </tr>\n",
       "    <tr>\n",
       "      <th>4</th>\n",
       "      <td>AXCP-78</td>\n",
       "      <td>MWH-4</td>\n",
       "      <td>36</td>\n",
       "      <td>Useful</td>\n",
       "    </tr>\n",
       "  </tbody>\n",
       "</table>\n",
       "</div>"
      ],
      "text/plain": [
       "  MaterialID Location  Quantity  Status\n",
       "0    TMI-43T    MWH-4        34  Useful\n",
       "1    AXCP-78    MWH-1        67   Scrap\n",
       "2    LXCV-21    MWH-2        27  Useful\n",
       "3    AXCP-78    MWH-5        65   Scrap\n",
       "4    AXCP-78    MWH-4        36  Useful"
      ]
     },
     "execution_count": 76,
     "metadata": {},
     "output_type": "execute_result"
    }
   ],
   "source": [
    "df.head()"
   ]
  },
  {
   "cell_type": "code",
   "execution_count": 77,
   "id": "1fe96c53",
   "metadata": {},
   "outputs": [
    {
     "data": {
      "text/plain": [
       "Index(['MaterialID', 'Location', 'Quantity', 'Status'], dtype='object')"
      ]
     },
     "execution_count": 77,
     "metadata": {},
     "output_type": "execute_result"
    }
   ],
   "source": [
    "df.columns"
   ]
  },
  {
   "cell_type": "code",
   "execution_count": 78,
   "id": "ff894a21",
   "metadata": {},
   "outputs": [],
   "source": [
    "x = list(df.columns)"
   ]
  },
  {
   "cell_type": "code",
   "execution_count": 79,
   "id": "7e57fab5",
   "metadata": {},
   "outputs": [
    {
     "data": {
      "text/plain": [
       "['MaterialID', 'Location', 'Quantity', 'Status']"
      ]
     },
     "execution_count": 79,
     "metadata": {},
     "output_type": "execute_result"
    }
   ],
   "source": [
    "x"
   ]
  },
  {
   "cell_type": "code",
   "execution_count": 80,
   "id": "cdde41d8",
   "metadata": {},
   "outputs": [],
   "source": [
    "x[0] = 'Name'"
   ]
  },
  {
   "cell_type": "code",
   "execution_count": 81,
   "id": "745d4f29",
   "metadata": {},
   "outputs": [],
   "source": [
    "df.columns = x"
   ]
  },
  {
   "cell_type": "code",
   "execution_count": 83,
   "id": "c0f6d9e2",
   "metadata": {},
   "outputs": [
    {
     "data": {
      "text/html": [
       "<div>\n",
       "<style scoped>\n",
       "    .dataframe tbody tr th:only-of-type {\n",
       "        vertical-align: middle;\n",
       "    }\n",
       "\n",
       "    .dataframe tbody tr th {\n",
       "        vertical-align: top;\n",
       "    }\n",
       "\n",
       "    .dataframe thead th {\n",
       "        text-align: right;\n",
       "    }\n",
       "</style>\n",
       "<table border=\"1\" class=\"dataframe\">\n",
       "  <thead>\n",
       "    <tr style=\"text-align: right;\">\n",
       "      <th></th>\n",
       "      <th>Name</th>\n",
       "      <th>Location</th>\n",
       "      <th>Quantity</th>\n",
       "      <th>Status</th>\n",
       "    </tr>\n",
       "  </thead>\n",
       "  <tbody>\n",
       "    <tr>\n",
       "      <th>0</th>\n",
       "      <td>TMI-43T</td>\n",
       "      <td>MWH-4</td>\n",
       "      <td>34</td>\n",
       "      <td>Useful</td>\n",
       "    </tr>\n",
       "    <tr>\n",
       "      <th>1</th>\n",
       "      <td>AXCP-78</td>\n",
       "      <td>MWH-1</td>\n",
       "      <td>67</td>\n",
       "      <td>Scrap</td>\n",
       "    </tr>\n",
       "    <tr>\n",
       "      <th>2</th>\n",
       "      <td>LXCV-21</td>\n",
       "      <td>MWH-2</td>\n",
       "      <td>27</td>\n",
       "      <td>Useful</td>\n",
       "    </tr>\n",
       "    <tr>\n",
       "      <th>3</th>\n",
       "      <td>AXCP-78</td>\n",
       "      <td>MWH-5</td>\n",
       "      <td>65</td>\n",
       "      <td>Scrap</td>\n",
       "    </tr>\n",
       "    <tr>\n",
       "      <th>4</th>\n",
       "      <td>AXCP-78</td>\n",
       "      <td>MWH-4</td>\n",
       "      <td>36</td>\n",
       "      <td>Useful</td>\n",
       "    </tr>\n",
       "  </tbody>\n",
       "</table>\n",
       "</div>"
      ],
      "text/plain": [
       "      Name Location  Quantity  Status\n",
       "0  TMI-43T    MWH-4        34  Useful\n",
       "1  AXCP-78    MWH-1        67   Scrap\n",
       "2  LXCV-21    MWH-2        27  Useful\n",
       "3  AXCP-78    MWH-5        65   Scrap\n",
       "4  AXCP-78    MWH-4        36  Useful"
      ]
     },
     "execution_count": 83,
     "metadata": {},
     "output_type": "execute_result"
    }
   ],
   "source": [
    "df.head()"
   ]
  },
  {
   "cell_type": "code",
   "execution_count": 4,
   "id": "f9460d8e",
   "metadata": {},
   "outputs": [],
   "source": [
    "df = pd.read_excel('emp_info.xlsx')"
   ]
  },
  {
   "cell_type": "code",
   "execution_count": 5,
   "id": "3e8cb3f4",
   "metadata": {},
   "outputs": [
    {
     "data": {
      "text/html": [
       "<div>\n",
       "<style scoped>\n",
       "    .dataframe tbody tr th:only-of-type {\n",
       "        vertical-align: middle;\n",
       "    }\n",
       "\n",
       "    .dataframe tbody tr th {\n",
       "        vertical-align: top;\n",
       "    }\n",
       "\n",
       "    .dataframe thead th {\n",
       "        text-align: right;\n",
       "    }\n",
       "</style>\n",
       "<table border=\"1\" class=\"dataframe\">\n",
       "  <thead>\n",
       "    <tr style=\"text-align: right;\">\n",
       "      <th></th>\n",
       "      <th>Name</th>\n",
       "      <th>EmpID</th>\n",
       "      <th>Deptt</th>\n",
       "      <th>Passport</th>\n",
       "    </tr>\n",
       "  </thead>\n",
       "  <tbody>\n",
       "    <tr>\n",
       "      <th>0</th>\n",
       "      <td>Sudeep</td>\n",
       "      <td>A342</td>\n",
       "      <td>Quality</td>\n",
       "      <td>DF453278</td>\n",
       "    </tr>\n",
       "    <tr>\n",
       "      <th>1</th>\n",
       "      <td>Ruchika</td>\n",
       "      <td>C578</td>\n",
       "      <td>Sales</td>\n",
       "      <td>CA567657</td>\n",
       "    </tr>\n",
       "    <tr>\n",
       "      <th>2</th>\n",
       "      <td>NaN</td>\n",
       "      <td>J436</td>\n",
       "      <td>Admin</td>\n",
       "      <td>DF453278</td>\n",
       "    </tr>\n",
       "    <tr>\n",
       "      <th>3</th>\n",
       "      <td>Arjun</td>\n",
       "      <td>A746</td>\n",
       "      <td>NaN</td>\n",
       "      <td>RF453432</td>\n",
       "    </tr>\n",
       "    <tr>\n",
       "      <th>4</th>\n",
       "      <td>Rishi</td>\n",
       "      <td>R475</td>\n",
       "      <td>Prodn</td>\n",
       "      <td>DF453278</td>\n",
       "    </tr>\n",
       "    <tr>\n",
       "      <th>5</th>\n",
       "      <td>Chetan</td>\n",
       "      <td>NaN</td>\n",
       "      <td>NaN</td>\n",
       "      <td>ER534867</td>\n",
       "    </tr>\n",
       "    <tr>\n",
       "      <th>6</th>\n",
       "      <td>Deepak</td>\n",
       "      <td>NaN</td>\n",
       "      <td>Quality</td>\n",
       "      <td>RF453432</td>\n",
       "    </tr>\n",
       "  </tbody>\n",
       "</table>\n",
       "</div>"
      ],
      "text/plain": [
       "      Name EmpID    Deptt  Passport\n",
       "0   Sudeep  A342  Quality  DF453278\n",
       "1  Ruchika  C578    Sales  CA567657\n",
       "2      NaN  J436    Admin  DF453278\n",
       "3    Arjun  A746      NaN  RF453432\n",
       "4    Rishi  R475    Prodn  DF453278\n",
       "5   Chetan   NaN      NaN  ER534867\n",
       "6   Deepak   NaN  Quality  RF453432"
      ]
     },
     "execution_count": 5,
     "metadata": {},
     "output_type": "execute_result"
    }
   ],
   "source": [
    "df"
   ]
  },
  {
   "cell_type": "code",
   "execution_count": 8,
   "id": "f0663b8a",
   "metadata": {},
   "outputs": [
    {
     "data": {
      "text/plain": [
       "(array([3, 5], dtype=int64),)"
      ]
     },
     "execution_count": 8,
     "metadata": {},
     "output_type": "execute_result"
    }
   ],
   "source": [
    "ind1 = np.where(df['Deptt'].isnull())\n",
    "ind1"
   ]
  },
  {
   "cell_type": "code",
   "execution_count": 12,
   "id": "2973eb08",
   "metadata": {},
   "outputs": [
    {
     "data": {
      "text/html": [
       "<div>\n",
       "<style scoped>\n",
       "    .dataframe tbody tr th:only-of-type {\n",
       "        vertical-align: middle;\n",
       "    }\n",
       "\n",
       "    .dataframe tbody tr th {\n",
       "        vertical-align: top;\n",
       "    }\n",
       "\n",
       "    .dataframe thead th {\n",
       "        text-align: right;\n",
       "    }\n",
       "</style>\n",
       "<table border=\"1\" class=\"dataframe\">\n",
       "  <thead>\n",
       "    <tr style=\"text-align: right;\">\n",
       "      <th></th>\n",
       "      <th>Name</th>\n",
       "      <th>EmpID</th>\n",
       "      <th>Deptt</th>\n",
       "      <th>Passport</th>\n",
       "    </tr>\n",
       "  </thead>\n",
       "  <tbody>\n",
       "    <tr>\n",
       "      <th>0</th>\n",
       "      <td>Sudeep</td>\n",
       "      <td>A342</td>\n",
       "      <td>Quality</td>\n",
       "      <td>DF453278</td>\n",
       "    </tr>\n",
       "    <tr>\n",
       "      <th>1</th>\n",
       "      <td>Ruchika</td>\n",
       "      <td>C578</td>\n",
       "      <td>Sales</td>\n",
       "      <td>CA567657</td>\n",
       "    </tr>\n",
       "    <tr>\n",
       "      <th>2</th>\n",
       "      <td>NaN</td>\n",
       "      <td>J436</td>\n",
       "      <td>Admin</td>\n",
       "      <td>DF453278</td>\n",
       "    </tr>\n",
       "    <tr>\n",
       "      <th>4</th>\n",
       "      <td>Rishi</td>\n",
       "      <td>R475</td>\n",
       "      <td>Prodn</td>\n",
       "      <td>DF453278</td>\n",
       "    </tr>\n",
       "    <tr>\n",
       "      <th>6</th>\n",
       "      <td>Deepak</td>\n",
       "      <td>NaN</td>\n",
       "      <td>Quality</td>\n",
       "      <td>RF453432</td>\n",
       "    </tr>\n",
       "  </tbody>\n",
       "</table>\n",
       "</div>"
      ],
      "text/plain": [
       "      Name EmpID    Deptt  Passport\n",
       "0   Sudeep  A342  Quality  DF453278\n",
       "1  Ruchika  C578    Sales  CA567657\n",
       "2      NaN  J436    Admin  DF453278\n",
       "4    Rishi  R475    Prodn  DF453278\n",
       "6   Deepak   NaN  Quality  RF453432"
      ]
     },
     "execution_count": 12,
     "metadata": {},
     "output_type": "execute_result"
    }
   ],
   "source": [
    "ind2 = df.drop(ind1[0], axis = 0)\n",
    "ind2"
   ]
  },
  {
   "cell_type": "code",
   "execution_count": 19,
   "id": "6877b171",
   "metadata": {},
   "outputs": [
    {
     "data": {
      "text/html": [
       "<div>\n",
       "<style scoped>\n",
       "    .dataframe tbody tr th:only-of-type {\n",
       "        vertical-align: middle;\n",
       "    }\n",
       "\n",
       "    .dataframe tbody tr th {\n",
       "        vertical-align: top;\n",
       "    }\n",
       "\n",
       "    .dataframe thead th {\n",
       "        text-align: right;\n",
       "    }\n",
       "</style>\n",
       "<table border=\"1\" class=\"dataframe\">\n",
       "  <thead>\n",
       "    <tr style=\"text-align: right;\">\n",
       "      <th></th>\n",
       "      <th>Name</th>\n",
       "      <th>EmpID</th>\n",
       "      <th>Deptt</th>\n",
       "      <th>Passport</th>\n",
       "    </tr>\n",
       "  </thead>\n",
       "  <tbody>\n",
       "    <tr>\n",
       "      <th>3</th>\n",
       "      <td>Arjun</td>\n",
       "      <td>A746</td>\n",
       "      <td>NaN</td>\n",
       "      <td>RF453432</td>\n",
       "    </tr>\n",
       "    <tr>\n",
       "      <th>5</th>\n",
       "      <td>Chetan</td>\n",
       "      <td>NaN</td>\n",
       "      <td>NaN</td>\n",
       "      <td>ER534867</td>\n",
       "    </tr>\n",
       "  </tbody>\n",
       "</table>\n",
       "</div>"
      ],
      "text/plain": [
       "     Name EmpID Deptt  Passport\n",
       "3   Arjun  A746   NaN  RF453432\n",
       "5  Chetan   NaN   NaN  ER534867"
      ]
     },
     "execution_count": 19,
     "metadata": {},
     "output_type": "execute_result"
    }
   ],
   "source": [
    "df1 = df.iloc[ind1]\n",
    "df1"
   ]
  },
  {
   "cell_type": "code",
   "execution_count": 22,
   "id": "92b6212e",
   "metadata": {},
   "outputs": [
    {
     "data": {
      "text/plain": [
       "(array([3, 5, 6], dtype=int64),)"
      ]
     },
     "execution_count": 22,
     "metadata": {},
     "output_type": "execute_result"
    }
   ],
   "source": [
    "ind = np.where((df['Deptt'].isnull()) | ((df['EmpID'].isnull())))\n",
    "ind"
   ]
  },
  {
   "cell_type": "code",
   "execution_count": 23,
   "id": "18190260",
   "metadata": {},
   "outputs": [
    {
     "data": {
      "text/plain": [
       "(array([0, 2, 3, 4, 6], dtype=int64),)"
      ]
     },
     "execution_count": 23,
     "metadata": {},
     "output_type": "execute_result"
    }
   ],
   "source": [
    "ind = np.where(df['Passport'].duplicated(keep=False))\n",
    "ind"
   ]
  },
  {
   "cell_type": "code",
   "execution_count": 24,
   "id": "c0e063e7",
   "metadata": {},
   "outputs": [
    {
     "data": {
      "text/html": [
       "<div>\n",
       "<style scoped>\n",
       "    .dataframe tbody tr th:only-of-type {\n",
       "        vertical-align: middle;\n",
       "    }\n",
       "\n",
       "    .dataframe tbody tr th {\n",
       "        vertical-align: top;\n",
       "    }\n",
       "\n",
       "    .dataframe thead th {\n",
       "        text-align: right;\n",
       "    }\n",
       "</style>\n",
       "<table border=\"1\" class=\"dataframe\">\n",
       "  <thead>\n",
       "    <tr style=\"text-align: right;\">\n",
       "      <th></th>\n",
       "      <th>Name</th>\n",
       "      <th>EmpID</th>\n",
       "      <th>Deptt</th>\n",
       "      <th>Passport</th>\n",
       "    </tr>\n",
       "  </thead>\n",
       "  <tbody>\n",
       "    <tr>\n",
       "      <th>0</th>\n",
       "      <td>Sudeep</td>\n",
       "      <td>A342</td>\n",
       "      <td>Quality</td>\n",
       "      <td>DF453278</td>\n",
       "    </tr>\n",
       "    <tr>\n",
       "      <th>1</th>\n",
       "      <td>Ruchika</td>\n",
       "      <td>C578</td>\n",
       "      <td>Sales</td>\n",
       "      <td>CA567657</td>\n",
       "    </tr>\n",
       "    <tr>\n",
       "      <th>4</th>\n",
       "      <td>Rishi</td>\n",
       "      <td>R475</td>\n",
       "      <td>Prodn</td>\n",
       "      <td>DF453278</td>\n",
       "    </tr>\n",
       "  </tbody>\n",
       "</table>\n",
       "</div>"
      ],
      "text/plain": [
       "      Name EmpID    Deptt  Passport\n",
       "0   Sudeep  A342  Quality  DF453278\n",
       "1  Ruchika  C578    Sales  CA567657\n",
       "4    Rishi  R475    Prodn  DF453278"
      ]
     },
     "execution_count": 24,
     "metadata": {},
     "output_type": "execute_result"
    }
   ],
   "source": [
    "df.dropna()"
   ]
  },
  {
   "cell_type": "code",
   "execution_count": 26,
   "id": "7de82b9c",
   "metadata": {},
   "outputs": [
    {
     "data": {
      "text/plain": [
       "(array([0, 2, 3], dtype=int64),)"
      ]
     },
     "execution_count": 26,
     "metadata": {},
     "output_type": "execute_result"
    }
   ],
   "source": [
    "ind = np.where(df['Passport'].duplicated(keep='last'))\n",
    "ind"
   ]
  },
  {
   "cell_type": "code",
   "execution_count": 27,
   "id": "aecbd940",
   "metadata": {},
   "outputs": [
    {
     "data": {
      "text/plain": [
       "(array([2, 4, 6], dtype=int64),)"
      ]
     },
     "execution_count": 27,
     "metadata": {},
     "output_type": "execute_result"
    }
   ],
   "source": [
    "ind = np.where(df['Passport'].duplicated(keep='first'))\n",
    "ind"
   ]
  },
  {
   "cell_type": "code",
   "execution_count": 28,
   "id": "904ed645",
   "metadata": {},
   "outputs": [],
   "source": [
    "df = pd.read_excel('ERPData.xlsx')"
   ]
  },
  {
   "cell_type": "code",
   "execution_count": 29,
   "id": "38512a07",
   "metadata": {},
   "outputs": [
    {
     "data": {
      "text/html": [
       "<div>\n",
       "<style scoped>\n",
       "    .dataframe tbody tr th:only-of-type {\n",
       "        vertical-align: middle;\n",
       "    }\n",
       "\n",
       "    .dataframe tbody tr th {\n",
       "        vertical-align: top;\n",
       "    }\n",
       "\n",
       "    .dataframe thead th {\n",
       "        text-align: right;\n",
       "    }\n",
       "</style>\n",
       "<table border=\"1\" class=\"dataframe\">\n",
       "  <thead>\n",
       "    <tr style=\"text-align: right;\">\n",
       "      <th></th>\n",
       "      <th>MaterialID</th>\n",
       "      <th>Location</th>\n",
       "      <th>Quantity</th>\n",
       "    </tr>\n",
       "  </thead>\n",
       "  <tbody>\n",
       "    <tr>\n",
       "      <th>0</th>\n",
       "      <td>TMI-43T</td>\n",
       "      <td>MWH-4</td>\n",
       "      <td>34</td>\n",
       "    </tr>\n",
       "    <tr>\n",
       "      <th>1</th>\n",
       "      <td>AXCP-78</td>\n",
       "      <td>MWH-1</td>\n",
       "      <td>67</td>\n",
       "    </tr>\n",
       "    <tr>\n",
       "      <th>2</th>\n",
       "      <td>LXCV-21</td>\n",
       "      <td>MWH-2</td>\n",
       "      <td>27</td>\n",
       "    </tr>\n",
       "    <tr>\n",
       "      <th>3</th>\n",
       "      <td>AXCP-78</td>\n",
       "      <td>MWH-5</td>\n",
       "      <td>65</td>\n",
       "    </tr>\n",
       "    <tr>\n",
       "      <th>4</th>\n",
       "      <td>AXCP-78</td>\n",
       "      <td>MWH-4</td>\n",
       "      <td>36</td>\n",
       "    </tr>\n",
       "  </tbody>\n",
       "</table>\n",
       "</div>"
      ],
      "text/plain": [
       "  MaterialID Location  Quantity\n",
       "0    TMI-43T    MWH-4        34\n",
       "1    AXCP-78    MWH-1        67\n",
       "2    LXCV-21    MWH-2        27\n",
       "3    AXCP-78    MWH-5        65\n",
       "4    AXCP-78    MWH-4        36"
      ]
     },
     "execution_count": 29,
     "metadata": {},
     "output_type": "execute_result"
    }
   ],
   "source": [
    "df.head()"
   ]
  },
  {
   "cell_type": "code",
   "execution_count": 30,
   "id": "b509bb47",
   "metadata": {},
   "outputs": [
    {
     "data": {
      "text/plain": [
       "<pandas.core.groupby.generic.DataFrameGroupBy object at 0x0000026106C78C10>"
      ]
     },
     "execution_count": 30,
     "metadata": {},
     "output_type": "execute_result"
    }
   ],
   "source": [
    "grp1 = df.groupby('Location')\n",
    "grp1"
   ]
  },
  {
   "cell_type": "code",
   "execution_count": 31,
   "id": "bd745de3",
   "metadata": {},
   "outputs": [
    {
     "data": {
      "text/plain": [
       "{'MWH-1': [1, 9, 10, 24, 25, 26, 39, 40, 41, 48, 49], 'MWH-2': [2, 7, 8, 15, 35, 36, 42, 45, 46], 'MWH-3': [14, 43, 44, 47], 'MWH-4': [0, 4, 5, 6, 11, 12, 13, 18, 19, 20, 21, 22, 30, 31, 32], 'MWH-5': [3, 16, 17, 23, 27, 28, 29, 33, 34, 37, 38]}"
      ]
     },
     "execution_count": 31,
     "metadata": {},
     "output_type": "execute_result"
    }
   ],
   "source": [
    "grp1.groups"
   ]
  },
  {
   "cell_type": "code",
   "execution_count": 32,
   "id": "bed36fd2",
   "metadata": {},
   "outputs": [
    {
     "data": {
      "text/plain": [
       "5"
      ]
     },
     "execution_count": 32,
     "metadata": {},
     "output_type": "execute_result"
    }
   ],
   "source": [
    "len(grp1.groups)"
   ]
  },
  {
   "cell_type": "code",
   "execution_count": 33,
   "id": "d8d82295",
   "metadata": {},
   "outputs": [
    {
     "data": {
      "text/html": [
       "<div>\n",
       "<style scoped>\n",
       "    .dataframe tbody tr th:only-of-type {\n",
       "        vertical-align: middle;\n",
       "    }\n",
       "\n",
       "    .dataframe tbody tr th {\n",
       "        vertical-align: top;\n",
       "    }\n",
       "\n",
       "    .dataframe thead th {\n",
       "        text-align: right;\n",
       "    }\n",
       "</style>\n",
       "<table border=\"1\" class=\"dataframe\">\n",
       "  <thead>\n",
       "    <tr style=\"text-align: right;\">\n",
       "      <th></th>\n",
       "      <th>MaterialID</th>\n",
       "      <th>Location</th>\n",
       "      <th>Quantity</th>\n",
       "    </tr>\n",
       "  </thead>\n",
       "  <tbody>\n",
       "    <tr>\n",
       "      <th>2</th>\n",
       "      <td>LXCV-21</td>\n",
       "      <td>MWH-2</td>\n",
       "      <td>27</td>\n",
       "    </tr>\n",
       "    <tr>\n",
       "      <th>7</th>\n",
       "      <td>TMI-43T</td>\n",
       "      <td>MWH-2</td>\n",
       "      <td>29</td>\n",
       "    </tr>\n",
       "    <tr>\n",
       "      <th>8</th>\n",
       "      <td>GCVB-79</td>\n",
       "      <td>MWH-2</td>\n",
       "      <td>10</td>\n",
       "    </tr>\n",
       "    <tr>\n",
       "      <th>15</th>\n",
       "      <td>GCVB-79</td>\n",
       "      <td>MWH-2</td>\n",
       "      <td>87</td>\n",
       "    </tr>\n",
       "    <tr>\n",
       "      <th>35</th>\n",
       "      <td>GCVB-79</td>\n",
       "      <td>MWH-2</td>\n",
       "      <td>31</td>\n",
       "    </tr>\n",
       "    <tr>\n",
       "      <th>36</th>\n",
       "      <td>GCVB-79</td>\n",
       "      <td>MWH-2</td>\n",
       "      <td>28</td>\n",
       "    </tr>\n",
       "    <tr>\n",
       "      <th>42</th>\n",
       "      <td>SDRT-67</td>\n",
       "      <td>MWH-2</td>\n",
       "      <td>31</td>\n",
       "    </tr>\n",
       "    <tr>\n",
       "      <th>45</th>\n",
       "      <td>DDBN-89</td>\n",
       "      <td>MWH-2</td>\n",
       "      <td>69</td>\n",
       "    </tr>\n",
       "    <tr>\n",
       "      <th>46</th>\n",
       "      <td>AXCP-78</td>\n",
       "      <td>MWH-2</td>\n",
       "      <td>85</td>\n",
       "    </tr>\n",
       "  </tbody>\n",
       "</table>\n",
       "</div>"
      ],
      "text/plain": [
       "   MaterialID Location  Quantity\n",
       "2     LXCV-21    MWH-2        27\n",
       "7     TMI-43T    MWH-2        29\n",
       "8     GCVB-79    MWH-2        10\n",
       "15    GCVB-79    MWH-2        87\n",
       "35    GCVB-79    MWH-2        31\n",
       "36    GCVB-79    MWH-2        28\n",
       "42    SDRT-67    MWH-2        31\n",
       "45    DDBN-89    MWH-2        69\n",
       "46    AXCP-78    MWH-2        85"
      ]
     },
     "execution_count": 33,
     "metadata": {},
     "output_type": "execute_result"
    }
   ],
   "source": [
    "grp1.get_group('MWH-2')\n",
    "\n",
    "# This command will return specific group"
   ]
  },
  {
   "cell_type": "code",
   "execution_count": 34,
   "id": "6b9ae020",
   "metadata": {},
   "outputs": [
    {
     "name": "stderr",
     "output_type": "stream",
     "text": [
      "C:\\Users\\vaibh\\AppData\\Local\\Temp\\ipykernel_3064\\4186384218.py:1: FutureWarning: The operation <function mean at 0x000002617E1BF420> failed on a column. If any error is raised, this will raise an exception in a future version of pandas. Drop these columns to avoid this warning.\n",
      "  grp1.agg(np.mean)\n"
     ]
    },
    {
     "data": {
      "text/html": [
       "<div>\n",
       "<style scoped>\n",
       "    .dataframe tbody tr th:only-of-type {\n",
       "        vertical-align: middle;\n",
       "    }\n",
       "\n",
       "    .dataframe tbody tr th {\n",
       "        vertical-align: top;\n",
       "    }\n",
       "\n",
       "    .dataframe thead th {\n",
       "        text-align: right;\n",
       "    }\n",
       "</style>\n",
       "<table border=\"1\" class=\"dataframe\">\n",
       "  <thead>\n",
       "    <tr style=\"text-align: right;\">\n",
       "      <th></th>\n",
       "      <th>Quantity</th>\n",
       "    </tr>\n",
       "    <tr>\n",
       "      <th>Location</th>\n",
       "      <th></th>\n",
       "    </tr>\n",
       "  </thead>\n",
       "  <tbody>\n",
       "    <tr>\n",
       "      <th>MWH-1</th>\n",
       "      <td>80.818182</td>\n",
       "    </tr>\n",
       "    <tr>\n",
       "      <th>MWH-2</th>\n",
       "      <td>44.111111</td>\n",
       "    </tr>\n",
       "    <tr>\n",
       "      <th>MWH-3</th>\n",
       "      <td>43.500000</td>\n",
       "    </tr>\n",
       "    <tr>\n",
       "      <th>MWH-4</th>\n",
       "      <td>48.533333</td>\n",
       "    </tr>\n",
       "    <tr>\n",
       "      <th>MWH-5</th>\n",
       "      <td>63.363636</td>\n",
       "    </tr>\n",
       "  </tbody>\n",
       "</table>\n",
       "</div>"
      ],
      "text/plain": [
       "           Quantity\n",
       "Location           \n",
       "MWH-1     80.818182\n",
       "MWH-2     44.111111\n",
       "MWH-3     43.500000\n",
       "MWH-4     48.533333\n",
       "MWH-5     63.363636"
      ]
     },
     "execution_count": 34,
     "metadata": {},
     "output_type": "execute_result"
    }
   ],
   "source": [
    "grp1.agg(np.mean)\n",
    "\n",
    "# This command will return average/mean of all the values"
   ]
  },
  {
   "cell_type": "code",
   "execution_count": 35,
   "id": "9e1ce851",
   "metadata": {},
   "outputs": [
    {
     "data": {
      "text/html": [
       "<div>\n",
       "<style scoped>\n",
       "    .dataframe tbody tr th:only-of-type {\n",
       "        vertical-align: middle;\n",
       "    }\n",
       "\n",
       "    .dataframe tbody tr th {\n",
       "        vertical-align: top;\n",
       "    }\n",
       "\n",
       "    .dataframe thead th {\n",
       "        text-align: right;\n",
       "    }\n",
       "</style>\n",
       "<table border=\"1\" class=\"dataframe\">\n",
       "  <thead>\n",
       "    <tr style=\"text-align: right;\">\n",
       "      <th></th>\n",
       "      <th>MaterialID</th>\n",
       "      <th>Quantity</th>\n",
       "    </tr>\n",
       "    <tr>\n",
       "      <th>Location</th>\n",
       "      <th></th>\n",
       "      <th></th>\n",
       "    </tr>\n",
       "  </thead>\n",
       "  <tbody>\n",
       "    <tr>\n",
       "      <th>MWH-1</th>\n",
       "      <td>11</td>\n",
       "      <td>11</td>\n",
       "    </tr>\n",
       "    <tr>\n",
       "      <th>MWH-2</th>\n",
       "      <td>9</td>\n",
       "      <td>9</td>\n",
       "    </tr>\n",
       "    <tr>\n",
       "      <th>MWH-3</th>\n",
       "      <td>4</td>\n",
       "      <td>4</td>\n",
       "    </tr>\n",
       "    <tr>\n",
       "      <th>MWH-4</th>\n",
       "      <td>15</td>\n",
       "      <td>15</td>\n",
       "    </tr>\n",
       "    <tr>\n",
       "      <th>MWH-5</th>\n",
       "      <td>11</td>\n",
       "      <td>11</td>\n",
       "    </tr>\n",
       "  </tbody>\n",
       "</table>\n",
       "</div>"
      ],
      "text/plain": [
       "          MaterialID  Quantity\n",
       "Location                      \n",
       "MWH-1             11        11\n",
       "MWH-2              9         9\n",
       "MWH-3              4         4\n",
       "MWH-4             15        15\n",
       "MWH-5             11        11"
      ]
     },
     "execution_count": 35,
     "metadata": {},
     "output_type": "execute_result"
    }
   ],
   "source": [
    "grp1.agg(np.size)"
   ]
  },
  {
   "cell_type": "code",
   "execution_count": 37,
   "id": "0350f069",
   "metadata": {},
   "outputs": [
    {
     "name": "stderr",
     "output_type": "stream",
     "text": [
      "C:\\Users\\vaibh\\AppData\\Local\\Temp\\ipykernel_3064\\2546950891.py:1: FutureWarning: The operation <function sum at 0x000002617E1BDDA0> failed on a column. If any error is raised, this will raise an exception in a future version of pandas. Drop these columns to avoid this warning.\n",
      "  grp1.agg(np.sum)\n"
     ]
    },
    {
     "data": {
      "text/html": [
       "<div>\n",
       "<style scoped>\n",
       "    .dataframe tbody tr th:only-of-type {\n",
       "        vertical-align: middle;\n",
       "    }\n",
       "\n",
       "    .dataframe tbody tr th {\n",
       "        vertical-align: top;\n",
       "    }\n",
       "\n",
       "    .dataframe thead th {\n",
       "        text-align: right;\n",
       "    }\n",
       "</style>\n",
       "<table border=\"1\" class=\"dataframe\">\n",
       "  <thead>\n",
       "    <tr style=\"text-align: right;\">\n",
       "      <th></th>\n",
       "      <th>Quantity</th>\n",
       "    </tr>\n",
       "    <tr>\n",
       "      <th>Location</th>\n",
       "      <th></th>\n",
       "    </tr>\n",
       "  </thead>\n",
       "  <tbody>\n",
       "    <tr>\n",
       "      <th>MWH-1</th>\n",
       "      <td>889</td>\n",
       "    </tr>\n",
       "    <tr>\n",
       "      <th>MWH-2</th>\n",
       "      <td>397</td>\n",
       "    </tr>\n",
       "    <tr>\n",
       "      <th>MWH-3</th>\n",
       "      <td>174</td>\n",
       "    </tr>\n",
       "    <tr>\n",
       "      <th>MWH-4</th>\n",
       "      <td>728</td>\n",
       "    </tr>\n",
       "    <tr>\n",
       "      <th>MWH-5</th>\n",
       "      <td>697</td>\n",
       "    </tr>\n",
       "  </tbody>\n",
       "</table>\n",
       "</div>"
      ],
      "text/plain": [
       "          Quantity\n",
       "Location          \n",
       "MWH-1          889\n",
       "MWH-2          397\n",
       "MWH-3          174\n",
       "MWH-4          728\n",
       "MWH-5          697"
      ]
     },
     "execution_count": 37,
     "metadata": {},
     "output_type": "execute_result"
    }
   ],
   "source": [
    "grp1.agg(np.sum)"
   ]
  },
  {
   "cell_type": "code",
   "execution_count": 38,
   "id": "01d71439",
   "metadata": {},
   "outputs": [
    {
     "name": "stderr",
     "output_type": "stream",
     "text": [
      "C:\\Users\\vaibh\\AppData\\Local\\Temp\\ipykernel_3064\\2418498943.py:1: FutureWarning: ['MaterialID'] did not aggregate successfully. If any error is raised this will raise in a future version of pandas. Drop these columns/ops to avoid this warning.\n",
      "  r = grp1.agg([np.sum,np.mean])\n"
     ]
    },
    {
     "data": {
      "text/html": [
       "<div>\n",
       "<style scoped>\n",
       "    .dataframe tbody tr th:only-of-type {\n",
       "        vertical-align: middle;\n",
       "    }\n",
       "\n",
       "    .dataframe tbody tr th {\n",
       "        vertical-align: top;\n",
       "    }\n",
       "\n",
       "    .dataframe thead tr th {\n",
       "        text-align: left;\n",
       "    }\n",
       "\n",
       "    .dataframe thead tr:last-of-type th {\n",
       "        text-align: right;\n",
       "    }\n",
       "</style>\n",
       "<table border=\"1\" class=\"dataframe\">\n",
       "  <thead>\n",
       "    <tr>\n",
       "      <th></th>\n",
       "      <th colspan=\"2\" halign=\"left\">Quantity</th>\n",
       "    </tr>\n",
       "    <tr>\n",
       "      <th></th>\n",
       "      <th>sum</th>\n",
       "      <th>mean</th>\n",
       "    </tr>\n",
       "    <tr>\n",
       "      <th>Location</th>\n",
       "      <th></th>\n",
       "      <th></th>\n",
       "    </tr>\n",
       "  </thead>\n",
       "  <tbody>\n",
       "    <tr>\n",
       "      <th>MWH-1</th>\n",
       "      <td>889</td>\n",
       "      <td>80.818182</td>\n",
       "    </tr>\n",
       "    <tr>\n",
       "      <th>MWH-2</th>\n",
       "      <td>397</td>\n",
       "      <td>44.111111</td>\n",
       "    </tr>\n",
       "    <tr>\n",
       "      <th>MWH-3</th>\n",
       "      <td>174</td>\n",
       "      <td>43.500000</td>\n",
       "    </tr>\n",
       "    <tr>\n",
       "      <th>MWH-4</th>\n",
       "      <td>728</td>\n",
       "      <td>48.533333</td>\n",
       "    </tr>\n",
       "    <tr>\n",
       "      <th>MWH-5</th>\n",
       "      <td>697</td>\n",
       "      <td>63.363636</td>\n",
       "    </tr>\n",
       "  </tbody>\n",
       "</table>\n",
       "</div>"
      ],
      "text/plain": [
       "         Quantity           \n",
       "              sum       mean\n",
       "Location                    \n",
       "MWH-1         889  80.818182\n",
       "MWH-2         397  44.111111\n",
       "MWH-3         174  43.500000\n",
       "MWH-4         728  48.533333\n",
       "MWH-5         697  63.363636"
      ]
     },
     "execution_count": 38,
     "metadata": {},
     "output_type": "execute_result"
    }
   ],
   "source": [
    "r = grp1.agg([np.sum,np.mean])\n",
    "r"
   ]
  },
  {
   "cell_type": "code",
   "execution_count": 39,
   "id": "a3d1ef75",
   "metadata": {},
   "outputs": [],
   "source": [
    "ind = np.where(r.index == 'MWH-3')"
   ]
  },
  {
   "cell_type": "code",
   "execution_count": 40,
   "id": "d114fcef",
   "metadata": {},
   "outputs": [
    {
     "data": {
      "text/html": [
       "<div>\n",
       "<style scoped>\n",
       "    .dataframe tbody tr th:only-of-type {\n",
       "        vertical-align: middle;\n",
       "    }\n",
       "\n",
       "    .dataframe tbody tr th {\n",
       "        vertical-align: top;\n",
       "    }\n",
       "\n",
       "    .dataframe thead tr th {\n",
       "        text-align: left;\n",
       "    }\n",
       "\n",
       "    .dataframe thead tr:last-of-type th {\n",
       "        text-align: right;\n",
       "    }\n",
       "</style>\n",
       "<table border=\"1\" class=\"dataframe\">\n",
       "  <thead>\n",
       "    <tr>\n",
       "      <th></th>\n",
       "      <th colspan=\"2\" halign=\"left\">Quantity</th>\n",
       "    </tr>\n",
       "    <tr>\n",
       "      <th></th>\n",
       "      <th>sum</th>\n",
       "      <th>mean</th>\n",
       "    </tr>\n",
       "    <tr>\n",
       "      <th>Location</th>\n",
       "      <th></th>\n",
       "      <th></th>\n",
       "    </tr>\n",
       "  </thead>\n",
       "  <tbody>\n",
       "    <tr>\n",
       "      <th>MWH-3</th>\n",
       "      <td>174</td>\n",
       "      <td>43.5</td>\n",
       "    </tr>\n",
       "  </tbody>\n",
       "</table>\n",
       "</div>"
      ],
      "text/plain": [
       "         Quantity      \n",
       "              sum  mean\n",
       "Location               \n",
       "MWH-3         174  43.5"
      ]
     },
     "execution_count": 40,
     "metadata": {},
     "output_type": "execute_result"
    }
   ],
   "source": [
    "r.iloc[ind]"
   ]
  },
  {
   "cell_type": "code",
   "execution_count": 41,
   "id": "1d982c6c",
   "metadata": {},
   "outputs": [
    {
     "data": {
      "text/plain": [
       "{('AXCP-78', 'MWH-1'): [1, 24, 25, 39, 48], ('AXCP-78', 'MWH-2'): [46], ('AXCP-78', 'MWH-3'): [47], ('AXCP-78', 'MWH-4'): [4], ('AXCP-78', 'MWH-5'): [3, 37, 38], ('DDBN-89', 'MWH-1'): [26, 40, 49], ('DDBN-89', 'MWH-2'): [45], ('DDBN-89', 'MWH-3'): [43], ('DDBN-89', 'MWH-4'): [22, 30], ('DDBN-89', 'MWH-5'): [23], ('GCVB-79', 'MWH-2'): [8, 15, 35, 36], ('GCVB-79', 'MWH-5'): [34], ('LXCV-21', 'MWH-2'): [2], ('LXCV-21', 'MWH-3'): [44], ('LXCV-21', 'MWH-5'): [27, 28, 29], ('SDRT-67', 'MWH-1'): [10, 41], ('SDRT-67', 'MWH-2'): [42], ('SDRT-67', 'MWH-4'): [11], ('SDRT-67', 'MWH-5'): [16, 17], ('TMI-43T', 'MWH-1'): [9], ('TMI-43T', 'MWH-2'): [7], ('TMI-43T', 'MWH-3'): [14], ('TMI-43T', 'MWH-4'): [0, 5, 6, 12, 13, 18, 19, 20, 21, 31, 32], ('TMI-43T', 'MWH-5'): [33]}"
      ]
     },
     "execution_count": 41,
     "metadata": {},
     "output_type": "execute_result"
    }
   ],
   "source": [
    "grp2 = df.groupby(['MaterialID','Location'])\n",
    "grp2.groups\n",
    "\n",
    "#primary grouping is done on MaterialID\n",
    "#secondary grouping is done a=on Location"
   ]
  },
  {
   "cell_type": "code",
   "execution_count": 42,
   "id": "e1891e9f",
   "metadata": {},
   "outputs": [
    {
     "data": {
      "text/plain": [
       "{('MWH-1', 'AXCP-78'): [1, 24, 25, 39, 48], ('MWH-1', 'DDBN-89'): [26, 40, 49], ('MWH-1', 'SDRT-67'): [10, 41], ('MWH-1', 'TMI-43T'): [9], ('MWH-2', 'AXCP-78'): [46], ('MWH-2', 'DDBN-89'): [45], ('MWH-2', 'GCVB-79'): [8, 15, 35, 36], ('MWH-2', 'LXCV-21'): [2], ('MWH-2', 'SDRT-67'): [42], ('MWH-2', 'TMI-43T'): [7], ('MWH-3', 'AXCP-78'): [47], ('MWH-3', 'DDBN-89'): [43], ('MWH-3', 'LXCV-21'): [44], ('MWH-3', 'TMI-43T'): [14], ('MWH-4', 'AXCP-78'): [4], ('MWH-4', 'DDBN-89'): [22, 30], ('MWH-4', 'SDRT-67'): [11], ('MWH-4', 'TMI-43T'): [0, 5, 6, 12, 13, 18, 19, 20, 21, 31, 32], ('MWH-5', 'AXCP-78'): [3, 37, 38], ('MWH-5', 'DDBN-89'): [23], ('MWH-5', 'GCVB-79'): [34], ('MWH-5', 'LXCV-21'): [27, 28, 29], ('MWH-5', 'SDRT-67'): [16, 17], ('MWH-5', 'TMI-43T'): [33]}"
      ]
     },
     "execution_count": 42,
     "metadata": {},
     "output_type": "execute_result"
    }
   ],
   "source": [
    "grp3 = df.groupby(['Location','MaterialID'])\n",
    "grp3.groups"
   ]
  },
  {
   "cell_type": "code",
   "execution_count": 43,
   "id": "d2d88d91",
   "metadata": {},
   "outputs": [
    {
     "data": {
      "text/html": [
       "<div>\n",
       "<style scoped>\n",
       "    .dataframe tbody tr th:only-of-type {\n",
       "        vertical-align: middle;\n",
       "    }\n",
       "\n",
       "    .dataframe tbody tr th {\n",
       "        vertical-align: top;\n",
       "    }\n",
       "\n",
       "    .dataframe thead tr th {\n",
       "        text-align: left;\n",
       "    }\n",
       "\n",
       "    .dataframe thead tr:last-of-type th {\n",
       "        text-align: right;\n",
       "    }\n",
       "</style>\n",
       "<table border=\"1\" class=\"dataframe\">\n",
       "  <thead>\n",
       "    <tr>\n",
       "      <th></th>\n",
       "      <th></th>\n",
       "      <th colspan=\"2\" halign=\"left\">Quantity</th>\n",
       "    </tr>\n",
       "    <tr>\n",
       "      <th></th>\n",
       "      <th></th>\n",
       "      <th>sum</th>\n",
       "      <th>size</th>\n",
       "    </tr>\n",
       "    <tr>\n",
       "      <th>MaterialID</th>\n",
       "      <th>Location</th>\n",
       "      <th></th>\n",
       "      <th></th>\n",
       "    </tr>\n",
       "  </thead>\n",
       "  <tbody>\n",
       "    <tr>\n",
       "      <th rowspan=\"5\" valign=\"top\">AXCP-78</th>\n",
       "      <th>MWH-1</th>\n",
       "      <td>548</td>\n",
       "      <td>5</td>\n",
       "    </tr>\n",
       "    <tr>\n",
       "      <th>MWH-2</th>\n",
       "      <td>85</td>\n",
       "      <td>1</td>\n",
       "    </tr>\n",
       "    <tr>\n",
       "      <th>MWH-3</th>\n",
       "      <td>29</td>\n",
       "      <td>1</td>\n",
       "    </tr>\n",
       "    <tr>\n",
       "      <th>MWH-4</th>\n",
       "      <td>36</td>\n",
       "      <td>1</td>\n",
       "    </tr>\n",
       "    <tr>\n",
       "      <th>MWH-5</th>\n",
       "      <td>200</td>\n",
       "      <td>3</td>\n",
       "    </tr>\n",
       "    <tr>\n",
       "      <th rowspan=\"5\" valign=\"top\">DDBN-89</th>\n",
       "      <th>MWH-1</th>\n",
       "      <td>130</td>\n",
       "      <td>3</td>\n",
       "    </tr>\n",
       "    <tr>\n",
       "      <th>MWH-2</th>\n",
       "      <td>69</td>\n",
       "      <td>1</td>\n",
       "    </tr>\n",
       "    <tr>\n",
       "      <th>MWH-3</th>\n",
       "      <td>38</td>\n",
       "      <td>1</td>\n",
       "    </tr>\n",
       "    <tr>\n",
       "      <th>MWH-4</th>\n",
       "      <td>75</td>\n",
       "      <td>2</td>\n",
       "    </tr>\n",
       "    <tr>\n",
       "      <th>MWH-5</th>\n",
       "      <td>71</td>\n",
       "      <td>1</td>\n",
       "    </tr>\n",
       "    <tr>\n",
       "      <th rowspan=\"2\" valign=\"top\">GCVB-79</th>\n",
       "      <th>MWH-2</th>\n",
       "      <td>156</td>\n",
       "      <td>4</td>\n",
       "    </tr>\n",
       "    <tr>\n",
       "      <th>MWH-5</th>\n",
       "      <td>26</td>\n",
       "      <td>1</td>\n",
       "    </tr>\n",
       "    <tr>\n",
       "      <th rowspan=\"3\" valign=\"top\">LXCV-21</th>\n",
       "      <th>MWH-2</th>\n",
       "      <td>27</td>\n",
       "      <td>1</td>\n",
       "    </tr>\n",
       "    <tr>\n",
       "      <th>MWH-3</th>\n",
       "      <td>42</td>\n",
       "      <td>1</td>\n",
       "    </tr>\n",
       "    <tr>\n",
       "      <th>MWH-5</th>\n",
       "      <td>174</td>\n",
       "      <td>3</td>\n",
       "    </tr>\n",
       "    <tr>\n",
       "      <th rowspan=\"4\" valign=\"top\">SDRT-67</th>\n",
       "      <th>MWH-1</th>\n",
       "      <td>91</td>\n",
       "      <td>2</td>\n",
       "    </tr>\n",
       "    <tr>\n",
       "      <th>MWH-2</th>\n",
       "      <td>31</td>\n",
       "      <td>1</td>\n",
       "    </tr>\n",
       "    <tr>\n",
       "      <th>MWH-4</th>\n",
       "      <td>58</td>\n",
       "      <td>1</td>\n",
       "    </tr>\n",
       "    <tr>\n",
       "      <th>MWH-5</th>\n",
       "      <td>114</td>\n",
       "      <td>2</td>\n",
       "    </tr>\n",
       "    <tr>\n",
       "      <th rowspan=\"5\" valign=\"top\">TMI-43T</th>\n",
       "      <th>MWH-1</th>\n",
       "      <td>120</td>\n",
       "      <td>1</td>\n",
       "    </tr>\n",
       "    <tr>\n",
       "      <th>MWH-2</th>\n",
       "      <td>29</td>\n",
       "      <td>1</td>\n",
       "    </tr>\n",
       "    <tr>\n",
       "      <th>MWH-3</th>\n",
       "      <td>65</td>\n",
       "      <td>1</td>\n",
       "    </tr>\n",
       "    <tr>\n",
       "      <th>MWH-4</th>\n",
       "      <td>559</td>\n",
       "      <td>11</td>\n",
       "    </tr>\n",
       "    <tr>\n",
       "      <th>MWH-5</th>\n",
       "      <td>112</td>\n",
       "      <td>1</td>\n",
       "    </tr>\n",
       "  </tbody>\n",
       "</table>\n",
       "</div>"
      ],
      "text/plain": [
       "                    Quantity     \n",
       "                         sum size\n",
       "MaterialID Location              \n",
       "AXCP-78    MWH-1         548    5\n",
       "           MWH-2          85    1\n",
       "           MWH-3          29    1\n",
       "           MWH-4          36    1\n",
       "           MWH-5         200    3\n",
       "DDBN-89    MWH-1         130    3\n",
       "           MWH-2          69    1\n",
       "           MWH-3          38    1\n",
       "           MWH-4          75    2\n",
       "           MWH-5          71    1\n",
       "GCVB-79    MWH-2         156    4\n",
       "           MWH-5          26    1\n",
       "LXCV-21    MWH-2          27    1\n",
       "           MWH-3          42    1\n",
       "           MWH-5         174    3\n",
       "SDRT-67    MWH-1          91    2\n",
       "           MWH-2          31    1\n",
       "           MWH-4          58    1\n",
       "           MWH-5         114    2\n",
       "TMI-43T    MWH-1         120    1\n",
       "           MWH-2          29    1\n",
       "           MWH-3          65    1\n",
       "           MWH-4         559   11\n",
       "           MWH-5         112    1"
      ]
     },
     "execution_count": 43,
     "metadata": {},
     "output_type": "execute_result"
    }
   ],
   "source": [
    "grp2.agg([np.sum,np.size])"
   ]
  },
  {
   "cell_type": "code",
   "execution_count": 44,
   "id": "b3e1e02d",
   "metadata": {},
   "outputs": [
    {
     "data": {
      "text/html": [
       "<div>\n",
       "<style scoped>\n",
       "    .dataframe tbody tr th:only-of-type {\n",
       "        vertical-align: middle;\n",
       "    }\n",
       "\n",
       "    .dataframe tbody tr th {\n",
       "        vertical-align: top;\n",
       "    }\n",
       "\n",
       "    .dataframe thead tr th {\n",
       "        text-align: left;\n",
       "    }\n",
       "\n",
       "    .dataframe thead tr:last-of-type th {\n",
       "        text-align: right;\n",
       "    }\n",
       "</style>\n",
       "<table border=\"1\" class=\"dataframe\">\n",
       "  <thead>\n",
       "    <tr>\n",
       "      <th></th>\n",
       "      <th></th>\n",
       "      <th colspan=\"2\" halign=\"left\">Quantity</th>\n",
       "    </tr>\n",
       "    <tr>\n",
       "      <th></th>\n",
       "      <th></th>\n",
       "      <th>sum</th>\n",
       "      <th>size</th>\n",
       "    </tr>\n",
       "    <tr>\n",
       "      <th>Location</th>\n",
       "      <th>MaterialID</th>\n",
       "      <th></th>\n",
       "      <th></th>\n",
       "    </tr>\n",
       "  </thead>\n",
       "  <tbody>\n",
       "    <tr>\n",
       "      <th rowspan=\"4\" valign=\"top\">MWH-1</th>\n",
       "      <th>AXCP-78</th>\n",
       "      <td>548</td>\n",
       "      <td>5</td>\n",
       "    </tr>\n",
       "    <tr>\n",
       "      <th>DDBN-89</th>\n",
       "      <td>130</td>\n",
       "      <td>3</td>\n",
       "    </tr>\n",
       "    <tr>\n",
       "      <th>SDRT-67</th>\n",
       "      <td>91</td>\n",
       "      <td>2</td>\n",
       "    </tr>\n",
       "    <tr>\n",
       "      <th>TMI-43T</th>\n",
       "      <td>120</td>\n",
       "      <td>1</td>\n",
       "    </tr>\n",
       "    <tr>\n",
       "      <th rowspan=\"6\" valign=\"top\">MWH-2</th>\n",
       "      <th>AXCP-78</th>\n",
       "      <td>85</td>\n",
       "      <td>1</td>\n",
       "    </tr>\n",
       "    <tr>\n",
       "      <th>DDBN-89</th>\n",
       "      <td>69</td>\n",
       "      <td>1</td>\n",
       "    </tr>\n",
       "    <tr>\n",
       "      <th>GCVB-79</th>\n",
       "      <td>156</td>\n",
       "      <td>4</td>\n",
       "    </tr>\n",
       "    <tr>\n",
       "      <th>LXCV-21</th>\n",
       "      <td>27</td>\n",
       "      <td>1</td>\n",
       "    </tr>\n",
       "    <tr>\n",
       "      <th>SDRT-67</th>\n",
       "      <td>31</td>\n",
       "      <td>1</td>\n",
       "    </tr>\n",
       "    <tr>\n",
       "      <th>TMI-43T</th>\n",
       "      <td>29</td>\n",
       "      <td>1</td>\n",
       "    </tr>\n",
       "    <tr>\n",
       "      <th rowspan=\"4\" valign=\"top\">MWH-3</th>\n",
       "      <th>AXCP-78</th>\n",
       "      <td>29</td>\n",
       "      <td>1</td>\n",
       "    </tr>\n",
       "    <tr>\n",
       "      <th>DDBN-89</th>\n",
       "      <td>38</td>\n",
       "      <td>1</td>\n",
       "    </tr>\n",
       "    <tr>\n",
       "      <th>LXCV-21</th>\n",
       "      <td>42</td>\n",
       "      <td>1</td>\n",
       "    </tr>\n",
       "    <tr>\n",
       "      <th>TMI-43T</th>\n",
       "      <td>65</td>\n",
       "      <td>1</td>\n",
       "    </tr>\n",
       "    <tr>\n",
       "      <th rowspan=\"4\" valign=\"top\">MWH-4</th>\n",
       "      <th>AXCP-78</th>\n",
       "      <td>36</td>\n",
       "      <td>1</td>\n",
       "    </tr>\n",
       "    <tr>\n",
       "      <th>DDBN-89</th>\n",
       "      <td>75</td>\n",
       "      <td>2</td>\n",
       "    </tr>\n",
       "    <tr>\n",
       "      <th>SDRT-67</th>\n",
       "      <td>58</td>\n",
       "      <td>1</td>\n",
       "    </tr>\n",
       "    <tr>\n",
       "      <th>TMI-43T</th>\n",
       "      <td>559</td>\n",
       "      <td>11</td>\n",
       "    </tr>\n",
       "    <tr>\n",
       "      <th rowspan=\"6\" valign=\"top\">MWH-5</th>\n",
       "      <th>AXCP-78</th>\n",
       "      <td>200</td>\n",
       "      <td>3</td>\n",
       "    </tr>\n",
       "    <tr>\n",
       "      <th>DDBN-89</th>\n",
       "      <td>71</td>\n",
       "      <td>1</td>\n",
       "    </tr>\n",
       "    <tr>\n",
       "      <th>GCVB-79</th>\n",
       "      <td>26</td>\n",
       "      <td>1</td>\n",
       "    </tr>\n",
       "    <tr>\n",
       "      <th>LXCV-21</th>\n",
       "      <td>174</td>\n",
       "      <td>3</td>\n",
       "    </tr>\n",
       "    <tr>\n",
       "      <th>SDRT-67</th>\n",
       "      <td>114</td>\n",
       "      <td>2</td>\n",
       "    </tr>\n",
       "    <tr>\n",
       "      <th>TMI-43T</th>\n",
       "      <td>112</td>\n",
       "      <td>1</td>\n",
       "    </tr>\n",
       "  </tbody>\n",
       "</table>\n",
       "</div>"
      ],
      "text/plain": [
       "                    Quantity     \n",
       "                         sum size\n",
       "Location MaterialID              \n",
       "MWH-1    AXCP-78         548    5\n",
       "         DDBN-89         130    3\n",
       "         SDRT-67          91    2\n",
       "         TMI-43T         120    1\n",
       "MWH-2    AXCP-78          85    1\n",
       "         DDBN-89          69    1\n",
       "         GCVB-79         156    4\n",
       "         LXCV-21          27    1\n",
       "         SDRT-67          31    1\n",
       "         TMI-43T          29    1\n",
       "MWH-3    AXCP-78          29    1\n",
       "         DDBN-89          38    1\n",
       "         LXCV-21          42    1\n",
       "         TMI-43T          65    1\n",
       "MWH-4    AXCP-78          36    1\n",
       "         DDBN-89          75    2\n",
       "         SDRT-67          58    1\n",
       "         TMI-43T         559   11\n",
       "MWH-5    AXCP-78         200    3\n",
       "         DDBN-89          71    1\n",
       "         GCVB-79          26    1\n",
       "         LXCV-21         174    3\n",
       "         SDRT-67         114    2\n",
       "         TMI-43T         112    1"
      ]
     },
     "execution_count": 44,
     "metadata": {},
     "output_type": "execute_result"
    }
   ],
   "source": [
    "grp3.agg([np.sum,np.size])"
   ]
  },
  {
   "cell_type": "code",
   "execution_count": 45,
   "id": "0640726d",
   "metadata": {},
   "outputs": [
    {
     "data": {
      "text/html": [
       "<div>\n",
       "<style scoped>\n",
       "    .dataframe tbody tr th:only-of-type {\n",
       "        vertical-align: middle;\n",
       "    }\n",
       "\n",
       "    .dataframe tbody tr th {\n",
       "        vertical-align: top;\n",
       "    }\n",
       "\n",
       "    .dataframe thead th {\n",
       "        text-align: right;\n",
       "    }\n",
       "</style>\n",
       "<table border=\"1\" class=\"dataframe\">\n",
       "  <thead>\n",
       "    <tr style=\"text-align: right;\">\n",
       "      <th></th>\n",
       "      <th>MaterialID</th>\n",
       "      <th>Location</th>\n",
       "      <th>Quantity</th>\n",
       "    </tr>\n",
       "  </thead>\n",
       "  <tbody>\n",
       "    <tr>\n",
       "      <th>0</th>\n",
       "      <td>TMI-43T</td>\n",
       "      <td>MWH-4</td>\n",
       "      <td>34</td>\n",
       "    </tr>\n",
       "    <tr>\n",
       "      <th>1</th>\n",
       "      <td>AXCP-78</td>\n",
       "      <td>MWH-1</td>\n",
       "      <td>67</td>\n",
       "    </tr>\n",
       "    <tr>\n",
       "      <th>2</th>\n",
       "      <td>LXCV-21</td>\n",
       "      <td>MWH-2</td>\n",
       "      <td>27</td>\n",
       "    </tr>\n",
       "    <tr>\n",
       "      <th>3</th>\n",
       "      <td>AXCP-78</td>\n",
       "      <td>MWH-5</td>\n",
       "      <td>65</td>\n",
       "    </tr>\n",
       "    <tr>\n",
       "      <th>4</th>\n",
       "      <td>AXCP-78</td>\n",
       "      <td>MWH-4</td>\n",
       "      <td>36</td>\n",
       "    </tr>\n",
       "  </tbody>\n",
       "</table>\n",
       "</div>"
      ],
      "text/plain": [
       "  MaterialID Location  Quantity\n",
       "0    TMI-43T    MWH-4        34\n",
       "1    AXCP-78    MWH-1        67\n",
       "2    LXCV-21    MWH-2        27\n",
       "3    AXCP-78    MWH-5        65\n",
       "4    AXCP-78    MWH-4        36"
      ]
     },
     "execution_count": 45,
     "metadata": {},
     "output_type": "execute_result"
    }
   ],
   "source": [
    "df.head()"
   ]
  },
  {
   "cell_type": "code",
   "execution_count": 46,
   "id": "dfd09b51",
   "metadata": {},
   "outputs": [
    {
     "data": {
      "text/html": [
       "<div>\n",
       "<style scoped>\n",
       "    .dataframe tbody tr th:only-of-type {\n",
       "        vertical-align: middle;\n",
       "    }\n",
       "\n",
       "    .dataframe tbody tr th {\n",
       "        vertical-align: top;\n",
       "    }\n",
       "\n",
       "    .dataframe thead th {\n",
       "        text-align: right;\n",
       "    }\n",
       "</style>\n",
       "<table border=\"1\" class=\"dataframe\">\n",
       "  <thead>\n",
       "    <tr style=\"text-align: right;\">\n",
       "      <th></th>\n",
       "      <th>MaterialID</th>\n",
       "      <th>Location</th>\n",
       "      <th>Quantity</th>\n",
       "    </tr>\n",
       "  </thead>\n",
       "  <tbody>\n",
       "    <tr>\n",
       "      <th>8</th>\n",
       "      <td>GCVB-79</td>\n",
       "      <td>MWH-2</td>\n",
       "      <td>10</td>\n",
       "    </tr>\n",
       "    <tr>\n",
       "      <th>16</th>\n",
       "      <td>SDRT-67</td>\n",
       "      <td>MWH-5</td>\n",
       "      <td>12</td>\n",
       "    </tr>\n",
       "    <tr>\n",
       "      <th>34</th>\n",
       "      <td>GCVB-79</td>\n",
       "      <td>MWH-5</td>\n",
       "      <td>26</td>\n",
       "    </tr>\n",
       "    <tr>\n",
       "      <th>2</th>\n",
       "      <td>LXCV-21</td>\n",
       "      <td>MWH-2</td>\n",
       "      <td>27</td>\n",
       "    </tr>\n",
       "    <tr>\n",
       "      <th>30</th>\n",
       "      <td>DDBN-89</td>\n",
       "      <td>MWH-4</td>\n",
       "      <td>27</td>\n",
       "    </tr>\n",
       "  </tbody>\n",
       "</table>\n",
       "</div>"
      ],
      "text/plain": [
       "   MaterialID Location  Quantity\n",
       "8     GCVB-79    MWH-2        10\n",
       "16    SDRT-67    MWH-5        12\n",
       "34    GCVB-79    MWH-5        26\n",
       "2     LXCV-21    MWH-2        27\n",
       "30    DDBN-89    MWH-4        27"
      ]
     },
     "execution_count": 46,
     "metadata": {},
     "output_type": "execute_result"
    }
   ],
   "source": [
    "mydf = df.sort_values('Quantity')\n",
    "mydf.head()"
   ]
  },
  {
   "cell_type": "code",
   "execution_count": 47,
   "id": "480f0fb0",
   "metadata": {},
   "outputs": [
    {
     "data": {
      "text/html": [
       "<div>\n",
       "<style scoped>\n",
       "    .dataframe tbody tr th:only-of-type {\n",
       "        vertical-align: middle;\n",
       "    }\n",
       "\n",
       "    .dataframe tbody tr th {\n",
       "        vertical-align: top;\n",
       "    }\n",
       "\n",
       "    .dataframe thead th {\n",
       "        text-align: right;\n",
       "    }\n",
       "</style>\n",
       "<table border=\"1\" class=\"dataframe\">\n",
       "  <thead>\n",
       "    <tr style=\"text-align: right;\">\n",
       "      <th></th>\n",
       "      <th>MaterialID</th>\n",
       "      <th>Location</th>\n",
       "      <th>Quantity</th>\n",
       "    </tr>\n",
       "  </thead>\n",
       "  <tbody>\n",
       "    <tr>\n",
       "      <th>25</th>\n",
       "      <td>AXCP-78</td>\n",
       "      <td>MWH-1</td>\n",
       "      <td>109</td>\n",
       "    </tr>\n",
       "    <tr>\n",
       "      <th>33</th>\n",
       "      <td>TMI-43T</td>\n",
       "      <td>MWH-5</td>\n",
       "      <td>112</td>\n",
       "    </tr>\n",
       "    <tr>\n",
       "      <th>9</th>\n",
       "      <td>TMI-43T</td>\n",
       "      <td>MWH-1</td>\n",
       "      <td>120</td>\n",
       "    </tr>\n",
       "    <tr>\n",
       "      <th>39</th>\n",
       "      <td>AXCP-78</td>\n",
       "      <td>MWH-1</td>\n",
       "      <td>145</td>\n",
       "    </tr>\n",
       "    <tr>\n",
       "      <th>24</th>\n",
       "      <td>AXCP-78</td>\n",
       "      <td>MWH-1</td>\n",
       "      <td>152</td>\n",
       "    </tr>\n",
       "  </tbody>\n",
       "</table>\n",
       "</div>"
      ],
      "text/plain": [
       "   MaterialID Location  Quantity\n",
       "25    AXCP-78    MWH-1       109\n",
       "33    TMI-43T    MWH-5       112\n",
       "9     TMI-43T    MWH-1       120\n",
       "39    AXCP-78    MWH-1       145\n",
       "24    AXCP-78    MWH-1       152"
      ]
     },
     "execution_count": 47,
     "metadata": {},
     "output_type": "execute_result"
    }
   ],
   "source": [
    "mydf.tail()"
   ]
  },
  {
   "cell_type": "code",
   "execution_count": 49,
   "id": "6d5a68ed",
   "metadata": {},
   "outputs": [
    {
     "data": {
      "text/html": [
       "<div>\n",
       "<style scoped>\n",
       "    .dataframe tbody tr th:only-of-type {\n",
       "        vertical-align: middle;\n",
       "    }\n",
       "\n",
       "    .dataframe tbody tr th {\n",
       "        vertical-align: top;\n",
       "    }\n",
       "\n",
       "    .dataframe thead th {\n",
       "        text-align: right;\n",
       "    }\n",
       "</style>\n",
       "<table border=\"1\" class=\"dataframe\">\n",
       "  <thead>\n",
       "    <tr style=\"text-align: right;\">\n",
       "      <th></th>\n",
       "      <th>MaterialID</th>\n",
       "      <th>Location</th>\n",
       "      <th>Quantity</th>\n",
       "    </tr>\n",
       "  </thead>\n",
       "  <tbody>\n",
       "    <tr>\n",
       "      <th>1</th>\n",
       "      <td>AXCP-78</td>\n",
       "      <td>MWH-1</td>\n",
       "      <td>67</td>\n",
       "    </tr>\n",
       "    <tr>\n",
       "      <th>48</th>\n",
       "      <td>AXCP-78</td>\n",
       "      <td>MWH-1</td>\n",
       "      <td>75</td>\n",
       "    </tr>\n",
       "    <tr>\n",
       "      <th>25</th>\n",
       "      <td>AXCP-78</td>\n",
       "      <td>MWH-1</td>\n",
       "      <td>109</td>\n",
       "    </tr>\n",
       "    <tr>\n",
       "      <th>39</th>\n",
       "      <td>AXCP-78</td>\n",
       "      <td>MWH-1</td>\n",
       "      <td>145</td>\n",
       "    </tr>\n",
       "    <tr>\n",
       "      <th>24</th>\n",
       "      <td>AXCP-78</td>\n",
       "      <td>MWH-1</td>\n",
       "      <td>152</td>\n",
       "    </tr>\n",
       "    <tr>\n",
       "      <th>40</th>\n",
       "      <td>DDBN-89</td>\n",
       "      <td>MWH-1</td>\n",
       "      <td>34</td>\n",
       "    </tr>\n",
       "    <tr>\n",
       "      <th>49</th>\n",
       "      <td>DDBN-89</td>\n",
       "      <td>MWH-1</td>\n",
       "      <td>39</td>\n",
       "    </tr>\n",
       "    <tr>\n",
       "      <th>26</th>\n",
       "      <td>DDBN-89</td>\n",
       "      <td>MWH-1</td>\n",
       "      <td>57</td>\n",
       "    </tr>\n",
       "    <tr>\n",
       "      <th>10</th>\n",
       "      <td>SDRT-67</td>\n",
       "      <td>MWH-1</td>\n",
       "      <td>34</td>\n",
       "    </tr>\n",
       "    <tr>\n",
       "      <th>41</th>\n",
       "      <td>SDRT-67</td>\n",
       "      <td>MWH-1</td>\n",
       "      <td>57</td>\n",
       "    </tr>\n",
       "    <tr>\n",
       "      <th>9</th>\n",
       "      <td>TMI-43T</td>\n",
       "      <td>MWH-1</td>\n",
       "      <td>120</td>\n",
       "    </tr>\n",
       "    <tr>\n",
       "      <th>46</th>\n",
       "      <td>AXCP-78</td>\n",
       "      <td>MWH-2</td>\n",
       "      <td>85</td>\n",
       "    </tr>\n",
       "    <tr>\n",
       "      <th>45</th>\n",
       "      <td>DDBN-89</td>\n",
       "      <td>MWH-2</td>\n",
       "      <td>69</td>\n",
       "    </tr>\n",
       "    <tr>\n",
       "      <th>8</th>\n",
       "      <td>GCVB-79</td>\n",
       "      <td>MWH-2</td>\n",
       "      <td>10</td>\n",
       "    </tr>\n",
       "    <tr>\n",
       "      <th>36</th>\n",
       "      <td>GCVB-79</td>\n",
       "      <td>MWH-2</td>\n",
       "      <td>28</td>\n",
       "    </tr>\n",
       "    <tr>\n",
       "      <th>35</th>\n",
       "      <td>GCVB-79</td>\n",
       "      <td>MWH-2</td>\n",
       "      <td>31</td>\n",
       "    </tr>\n",
       "    <tr>\n",
       "      <th>15</th>\n",
       "      <td>GCVB-79</td>\n",
       "      <td>MWH-2</td>\n",
       "      <td>87</td>\n",
       "    </tr>\n",
       "    <tr>\n",
       "      <th>2</th>\n",
       "      <td>LXCV-21</td>\n",
       "      <td>MWH-2</td>\n",
       "      <td>27</td>\n",
       "    </tr>\n",
       "    <tr>\n",
       "      <th>42</th>\n",
       "      <td>SDRT-67</td>\n",
       "      <td>MWH-2</td>\n",
       "      <td>31</td>\n",
       "    </tr>\n",
       "    <tr>\n",
       "      <th>7</th>\n",
       "      <td>TMI-43T</td>\n",
       "      <td>MWH-2</td>\n",
       "      <td>29</td>\n",
       "    </tr>\n",
       "    <tr>\n",
       "      <th>47</th>\n",
       "      <td>AXCP-78</td>\n",
       "      <td>MWH-3</td>\n",
       "      <td>29</td>\n",
       "    </tr>\n",
       "    <tr>\n",
       "      <th>43</th>\n",
       "      <td>DDBN-89</td>\n",
       "      <td>MWH-3</td>\n",
       "      <td>38</td>\n",
       "    </tr>\n",
       "    <tr>\n",
       "      <th>44</th>\n",
       "      <td>LXCV-21</td>\n",
       "      <td>MWH-3</td>\n",
       "      <td>42</td>\n",
       "    </tr>\n",
       "    <tr>\n",
       "      <th>14</th>\n",
       "      <td>TMI-43T</td>\n",
       "      <td>MWH-3</td>\n",
       "      <td>65</td>\n",
       "    </tr>\n",
       "    <tr>\n",
       "      <th>4</th>\n",
       "      <td>AXCP-78</td>\n",
       "      <td>MWH-4</td>\n",
       "      <td>36</td>\n",
       "    </tr>\n",
       "    <tr>\n",
       "      <th>30</th>\n",
       "      <td>DDBN-89</td>\n",
       "      <td>MWH-4</td>\n",
       "      <td>27</td>\n",
       "    </tr>\n",
       "    <tr>\n",
       "      <th>22</th>\n",
       "      <td>DDBN-89</td>\n",
       "      <td>MWH-4</td>\n",
       "      <td>48</td>\n",
       "    </tr>\n",
       "    <tr>\n",
       "      <th>11</th>\n",
       "      <td>SDRT-67</td>\n",
       "      <td>MWH-4</td>\n",
       "      <td>58</td>\n",
       "    </tr>\n",
       "    <tr>\n",
       "      <th>6</th>\n",
       "      <td>TMI-43T</td>\n",
       "      <td>MWH-4</td>\n",
       "      <td>31</td>\n",
       "    </tr>\n",
       "    <tr>\n",
       "      <th>13</th>\n",
       "      <td>TMI-43T</td>\n",
       "      <td>MWH-4</td>\n",
       "      <td>32</td>\n",
       "    </tr>\n",
       "    <tr>\n",
       "      <th>0</th>\n",
       "      <td>TMI-43T</td>\n",
       "      <td>MWH-4</td>\n",
       "      <td>34</td>\n",
       "    </tr>\n",
       "    <tr>\n",
       "      <th>18</th>\n",
       "      <td>TMI-43T</td>\n",
       "      <td>MWH-4</td>\n",
       "      <td>34</td>\n",
       "    </tr>\n",
       "    <tr>\n",
       "      <th>20</th>\n",
       "      <td>TMI-43T</td>\n",
       "      <td>MWH-4</td>\n",
       "      <td>39</td>\n",
       "    </tr>\n",
       "    <tr>\n",
       "      <th>32</th>\n",
       "      <td>TMI-43T</td>\n",
       "      <td>MWH-4</td>\n",
       "      <td>43</td>\n",
       "    </tr>\n",
       "    <tr>\n",
       "      <th>19</th>\n",
       "      <td>TMI-43T</td>\n",
       "      <td>MWH-4</td>\n",
       "      <td>52</td>\n",
       "    </tr>\n",
       "    <tr>\n",
       "      <th>31</th>\n",
       "      <td>TMI-43T</td>\n",
       "      <td>MWH-4</td>\n",
       "      <td>65</td>\n",
       "    </tr>\n",
       "    <tr>\n",
       "      <th>21</th>\n",
       "      <td>TMI-43T</td>\n",
       "      <td>MWH-4</td>\n",
       "      <td>75</td>\n",
       "    </tr>\n",
       "    <tr>\n",
       "      <th>12</th>\n",
       "      <td>TMI-43T</td>\n",
       "      <td>MWH-4</td>\n",
       "      <td>76</td>\n",
       "    </tr>\n",
       "    <tr>\n",
       "      <th>5</th>\n",
       "      <td>TMI-43T</td>\n",
       "      <td>MWH-4</td>\n",
       "      <td>78</td>\n",
       "    </tr>\n",
       "    <tr>\n",
       "      <th>3</th>\n",
       "      <td>AXCP-78</td>\n",
       "      <td>MWH-5</td>\n",
       "      <td>65</td>\n",
       "    </tr>\n",
       "    <tr>\n",
       "      <th>37</th>\n",
       "      <td>AXCP-78</td>\n",
       "      <td>MWH-5</td>\n",
       "      <td>65</td>\n",
       "    </tr>\n",
       "    <tr>\n",
       "      <th>38</th>\n",
       "      <td>AXCP-78</td>\n",
       "      <td>MWH-5</td>\n",
       "      <td>70</td>\n",
       "    </tr>\n",
       "    <tr>\n",
       "      <th>23</th>\n",
       "      <td>DDBN-89</td>\n",
       "      <td>MWH-5</td>\n",
       "      <td>71</td>\n",
       "    </tr>\n",
       "    <tr>\n",
       "      <th>34</th>\n",
       "      <td>GCVB-79</td>\n",
       "      <td>MWH-5</td>\n",
       "      <td>26</td>\n",
       "    </tr>\n",
       "    <tr>\n",
       "      <th>28</th>\n",
       "      <td>LXCV-21</td>\n",
       "      <td>MWH-5</td>\n",
       "      <td>34</td>\n",
       "    </tr>\n",
       "    <tr>\n",
       "      <th>29</th>\n",
       "      <td>LXCV-21</td>\n",
       "      <td>MWH-5</td>\n",
       "      <td>57</td>\n",
       "    </tr>\n",
       "    <tr>\n",
       "      <th>27</th>\n",
       "      <td>LXCV-21</td>\n",
       "      <td>MWH-5</td>\n",
       "      <td>83</td>\n",
       "    </tr>\n",
       "    <tr>\n",
       "      <th>16</th>\n",
       "      <td>SDRT-67</td>\n",
       "      <td>MWH-5</td>\n",
       "      <td>12</td>\n",
       "    </tr>\n",
       "    <tr>\n",
       "      <th>17</th>\n",
       "      <td>SDRT-67</td>\n",
       "      <td>MWH-5</td>\n",
       "      <td>102</td>\n",
       "    </tr>\n",
       "    <tr>\n",
       "      <th>33</th>\n",
       "      <td>TMI-43T</td>\n",
       "      <td>MWH-5</td>\n",
       "      <td>112</td>\n",
       "    </tr>\n",
       "  </tbody>\n",
       "</table>\n",
       "</div>"
      ],
      "text/plain": [
       "   MaterialID Location  Quantity\n",
       "1     AXCP-78    MWH-1        67\n",
       "48    AXCP-78    MWH-1        75\n",
       "25    AXCP-78    MWH-1       109\n",
       "39    AXCP-78    MWH-1       145\n",
       "24    AXCP-78    MWH-1       152\n",
       "40    DDBN-89    MWH-1        34\n",
       "49    DDBN-89    MWH-1        39\n",
       "26    DDBN-89    MWH-1        57\n",
       "10    SDRT-67    MWH-1        34\n",
       "41    SDRT-67    MWH-1        57\n",
       "9     TMI-43T    MWH-1       120\n",
       "46    AXCP-78    MWH-2        85\n",
       "45    DDBN-89    MWH-2        69\n",
       "8     GCVB-79    MWH-2        10\n",
       "36    GCVB-79    MWH-2        28\n",
       "35    GCVB-79    MWH-2        31\n",
       "15    GCVB-79    MWH-2        87\n",
       "2     LXCV-21    MWH-2        27\n",
       "42    SDRT-67    MWH-2        31\n",
       "7     TMI-43T    MWH-2        29\n",
       "47    AXCP-78    MWH-3        29\n",
       "43    DDBN-89    MWH-3        38\n",
       "44    LXCV-21    MWH-3        42\n",
       "14    TMI-43T    MWH-3        65\n",
       "4     AXCP-78    MWH-4        36\n",
       "30    DDBN-89    MWH-4        27\n",
       "22    DDBN-89    MWH-4        48\n",
       "11    SDRT-67    MWH-4        58\n",
       "6     TMI-43T    MWH-4        31\n",
       "13    TMI-43T    MWH-4        32\n",
       "0     TMI-43T    MWH-4        34\n",
       "18    TMI-43T    MWH-4        34\n",
       "20    TMI-43T    MWH-4        39\n",
       "32    TMI-43T    MWH-4        43\n",
       "19    TMI-43T    MWH-4        52\n",
       "31    TMI-43T    MWH-4        65\n",
       "21    TMI-43T    MWH-4        75\n",
       "12    TMI-43T    MWH-4        76\n",
       "5     TMI-43T    MWH-4        78\n",
       "3     AXCP-78    MWH-5        65\n",
       "37    AXCP-78    MWH-5        65\n",
       "38    AXCP-78    MWH-5        70\n",
       "23    DDBN-89    MWH-5        71\n",
       "34    GCVB-79    MWH-5        26\n",
       "28    LXCV-21    MWH-5        34\n",
       "29    LXCV-21    MWH-5        57\n",
       "27    LXCV-21    MWH-5        83\n",
       "16    SDRT-67    MWH-5        12\n",
       "17    SDRT-67    MWH-5       102\n",
       "33    TMI-43T    MWH-5       112"
      ]
     },
     "execution_count": 49,
     "metadata": {},
     "output_type": "execute_result"
    }
   ],
   "source": [
    "mydf = df.sort_values(['Location','MaterialID','Quantity'])\n",
    "mydf\n",
    "\n",
    "#In this command sorting preference from left to right"
   ]
  },
  {
   "cell_type": "code",
   "execution_count": 51,
   "id": "924e0170",
   "metadata": {},
   "outputs": [],
   "source": [
    "df1 = pd.read_excel('locations.xlsx', sheet_name = 'Pune')\n",
    "df2 = pd.read_excel('locations.xlsx', sheet_name = 'Mumbai')"
   ]
  },
  {
   "cell_type": "code",
   "execution_count": 52,
   "id": "fa68dd2a",
   "metadata": {},
   "outputs": [
    {
     "data": {
      "text/html": [
       "<div>\n",
       "<style scoped>\n",
       "    .dataframe tbody tr th:only-of-type {\n",
       "        vertical-align: middle;\n",
       "    }\n",
       "\n",
       "    .dataframe tbody tr th {\n",
       "        vertical-align: top;\n",
       "    }\n",
       "\n",
       "    .dataframe thead th {\n",
       "        text-align: right;\n",
       "    }\n",
       "</style>\n",
       "<table border=\"1\" class=\"dataframe\">\n",
       "  <thead>\n",
       "    <tr style=\"text-align: right;\">\n",
       "      <th></th>\n",
       "      <th>Name</th>\n",
       "      <th>Subject</th>\n",
       "      <th>Grade</th>\n",
       "    </tr>\n",
       "  </thead>\n",
       "  <tbody>\n",
       "    <tr>\n",
       "      <th>0</th>\n",
       "      <td>Rakesh</td>\n",
       "      <td>Python</td>\n",
       "      <td>A</td>\n",
       "    </tr>\n",
       "    <tr>\n",
       "      <th>1</th>\n",
       "      <td>Manoj</td>\n",
       "      <td>MLPython</td>\n",
       "      <td>C</td>\n",
       "    </tr>\n",
       "    <tr>\n",
       "      <th>2</th>\n",
       "      <td>Vaibhav</td>\n",
       "      <td>Statistics</td>\n",
       "      <td>B</td>\n",
       "    </tr>\n",
       "    <tr>\n",
       "      <th>3</th>\n",
       "      <td>Hitesh</td>\n",
       "      <td>CommSkills</td>\n",
       "      <td>A</td>\n",
       "    </tr>\n",
       "    <tr>\n",
       "      <th>4</th>\n",
       "      <td>Suyash</td>\n",
       "      <td>ProjectMgmt</td>\n",
       "      <td>B</td>\n",
       "    </tr>\n",
       "  </tbody>\n",
       "</table>\n",
       "</div>"
      ],
      "text/plain": [
       "      Name      Subject Grade\n",
       "0   Rakesh       Python     A\n",
       "1    Manoj     MLPython     C\n",
       "2  Vaibhav   Statistics     B\n",
       "3   Hitesh   CommSkills     A\n",
       "4   Suyash  ProjectMgmt     B"
      ]
     },
     "execution_count": 52,
     "metadata": {},
     "output_type": "execute_result"
    }
   ],
   "source": [
    "df1"
   ]
  },
  {
   "cell_type": "code",
   "execution_count": 53,
   "id": "f24bcb39",
   "metadata": {},
   "outputs": [
    {
     "data": {
      "text/html": [
       "<div>\n",
       "<style scoped>\n",
       "    .dataframe tbody tr th:only-of-type {\n",
       "        vertical-align: middle;\n",
       "    }\n",
       "\n",
       "    .dataframe tbody tr th {\n",
       "        vertical-align: top;\n",
       "    }\n",
       "\n",
       "    .dataframe thead th {\n",
       "        text-align: right;\n",
       "    }\n",
       "</style>\n",
       "<table border=\"1\" class=\"dataframe\">\n",
       "  <thead>\n",
       "    <tr style=\"text-align: right;\">\n",
       "      <th></th>\n",
       "      <th>Name</th>\n",
       "      <th>Subject</th>\n",
       "      <th>Grade</th>\n",
       "    </tr>\n",
       "  </thead>\n",
       "  <tbody>\n",
       "    <tr>\n",
       "      <th>0</th>\n",
       "      <td>Vaibhav</td>\n",
       "      <td>Six Sigma</td>\n",
       "      <td>A</td>\n",
       "    </tr>\n",
       "    <tr>\n",
       "      <th>1</th>\n",
       "      <td>Deepika</td>\n",
       "      <td>Statistics</td>\n",
       "      <td>B</td>\n",
       "    </tr>\n",
       "    <tr>\n",
       "      <th>2</th>\n",
       "      <td>Arjun</td>\n",
       "      <td>CommSkills</td>\n",
       "      <td>A</td>\n",
       "    </tr>\n",
       "    <tr>\n",
       "      <th>3</th>\n",
       "      <td>Chetan</td>\n",
       "      <td>Python</td>\n",
       "      <td>A</td>\n",
       "    </tr>\n",
       "    <tr>\n",
       "      <th>4</th>\n",
       "      <td>Abhishek</td>\n",
       "      <td>MLPython</td>\n",
       "      <td>B</td>\n",
       "    </tr>\n",
       "  </tbody>\n",
       "</table>\n",
       "</div>"
      ],
      "text/plain": [
       "       Name     Subject Grade\n",
       "0   Vaibhav   Six Sigma     A\n",
       "1   Deepika  Statistics     B\n",
       "2     Arjun  CommSkills     A\n",
       "3    Chetan      Python     A\n",
       "4  Abhishek    MLPython     B"
      ]
     },
     "execution_count": 53,
     "metadata": {},
     "output_type": "execute_result"
    }
   ],
   "source": [
    "df2"
   ]
  },
  {
   "cell_type": "code",
   "execution_count": 54,
   "id": "aa4ea31c",
   "metadata": {},
   "outputs": [
    {
     "data": {
      "text/html": [
       "<div>\n",
       "<style scoped>\n",
       "    .dataframe tbody tr th:only-of-type {\n",
       "        vertical-align: middle;\n",
       "    }\n",
       "\n",
       "    .dataframe tbody tr th {\n",
       "        vertical-align: top;\n",
       "    }\n",
       "\n",
       "    .dataframe thead th {\n",
       "        text-align: right;\n",
       "    }\n",
       "</style>\n",
       "<table border=\"1\" class=\"dataframe\">\n",
       "  <thead>\n",
       "    <tr style=\"text-align: right;\">\n",
       "      <th></th>\n",
       "      <th>Name_x</th>\n",
       "      <th>Subject</th>\n",
       "      <th>Grade_x</th>\n",
       "      <th>Name_y</th>\n",
       "      <th>Grade_y</th>\n",
       "    </tr>\n",
       "  </thead>\n",
       "  <tbody>\n",
       "    <tr>\n",
       "      <th>0</th>\n",
       "      <td>Rakesh</td>\n",
       "      <td>Python</td>\n",
       "      <td>A</td>\n",
       "      <td>Chetan</td>\n",
       "      <td>A</td>\n",
       "    </tr>\n",
       "    <tr>\n",
       "      <th>1</th>\n",
       "      <td>Manoj</td>\n",
       "      <td>MLPython</td>\n",
       "      <td>C</td>\n",
       "      <td>Abhishek</td>\n",
       "      <td>B</td>\n",
       "    </tr>\n",
       "    <tr>\n",
       "      <th>2</th>\n",
       "      <td>Vaibhav</td>\n",
       "      <td>Statistics</td>\n",
       "      <td>B</td>\n",
       "      <td>Deepika</td>\n",
       "      <td>B</td>\n",
       "    </tr>\n",
       "    <tr>\n",
       "      <th>3</th>\n",
       "      <td>Hitesh</td>\n",
       "      <td>CommSkills</td>\n",
       "      <td>A</td>\n",
       "      <td>Arjun</td>\n",
       "      <td>A</td>\n",
       "    </tr>\n",
       "  </tbody>\n",
       "</table>\n",
       "</div>"
      ],
      "text/plain": [
       "    Name_x     Subject Grade_x    Name_y Grade_y\n",
       "0   Rakesh      Python       A    Chetan       A\n",
       "1    Manoj    MLPython       C  Abhishek       B\n",
       "2  Vaibhav  Statistics       B   Deepika       B\n",
       "3   Hitesh  CommSkills       A     Arjun       A"
      ]
     },
     "execution_count": 54,
     "metadata": {},
     "output_type": "execute_result"
    }
   ],
   "source": [
    "pd.merge(df1,df2, on='Subject', how='inner')\n",
    "#inner means Intersection"
   ]
  },
  {
   "cell_type": "code",
   "execution_count": 55,
   "id": "e2520f9e",
   "metadata": {},
   "outputs": [
    {
     "data": {
      "text/html": [
       "<div>\n",
       "<style scoped>\n",
       "    .dataframe tbody tr th:only-of-type {\n",
       "        vertical-align: middle;\n",
       "    }\n",
       "\n",
       "    .dataframe tbody tr th {\n",
       "        vertical-align: top;\n",
       "    }\n",
       "\n",
       "    .dataframe thead th {\n",
       "        text-align: right;\n",
       "    }\n",
       "</style>\n",
       "<table border=\"1\" class=\"dataframe\">\n",
       "  <thead>\n",
       "    <tr style=\"text-align: right;\">\n",
       "      <th></th>\n",
       "      <th>Name_x</th>\n",
       "      <th>Subject</th>\n",
       "      <th>Grade_x</th>\n",
       "      <th>Name_y</th>\n",
       "      <th>Grade_y</th>\n",
       "    </tr>\n",
       "  </thead>\n",
       "  <tbody>\n",
       "    <tr>\n",
       "      <th>0</th>\n",
       "      <td>Rakesh</td>\n",
       "      <td>Python</td>\n",
       "      <td>A</td>\n",
       "      <td>Chetan</td>\n",
       "      <td>A</td>\n",
       "    </tr>\n",
       "    <tr>\n",
       "      <th>1</th>\n",
       "      <td>Manoj</td>\n",
       "      <td>MLPython</td>\n",
       "      <td>C</td>\n",
       "      <td>Abhishek</td>\n",
       "      <td>B</td>\n",
       "    </tr>\n",
       "    <tr>\n",
       "      <th>2</th>\n",
       "      <td>Vaibhav</td>\n",
       "      <td>Statistics</td>\n",
       "      <td>B</td>\n",
       "      <td>Deepika</td>\n",
       "      <td>B</td>\n",
       "    </tr>\n",
       "    <tr>\n",
       "      <th>3</th>\n",
       "      <td>Hitesh</td>\n",
       "      <td>CommSkills</td>\n",
       "      <td>A</td>\n",
       "      <td>Arjun</td>\n",
       "      <td>A</td>\n",
       "    </tr>\n",
       "    <tr>\n",
       "      <th>4</th>\n",
       "      <td>Suyash</td>\n",
       "      <td>ProjectMgmt</td>\n",
       "      <td>B</td>\n",
       "      <td>NaN</td>\n",
       "      <td>NaN</td>\n",
       "    </tr>\n",
       "    <tr>\n",
       "      <th>5</th>\n",
       "      <td>NaN</td>\n",
       "      <td>Six Sigma</td>\n",
       "      <td>NaN</td>\n",
       "      <td>Vaibhav</td>\n",
       "      <td>A</td>\n",
       "    </tr>\n",
       "  </tbody>\n",
       "</table>\n",
       "</div>"
      ],
      "text/plain": [
       "    Name_x      Subject Grade_x    Name_y Grade_y\n",
       "0   Rakesh       Python       A    Chetan       A\n",
       "1    Manoj     MLPython       C  Abhishek       B\n",
       "2  Vaibhav   Statistics       B   Deepika       B\n",
       "3   Hitesh   CommSkills       A     Arjun       A\n",
       "4   Suyash  ProjectMgmt       B       NaN     NaN\n",
       "5      NaN    Six Sigma     NaN   Vaibhav       A"
      ]
     },
     "execution_count": 55,
     "metadata": {},
     "output_type": "execute_result"
    }
   ],
   "source": [
    "pd.merge(df1,df2, on='Subject', how='outer')\n",
    "#outer means Union"
   ]
  },
  {
   "cell_type": "code",
   "execution_count": 56,
   "id": "16bc1459",
   "metadata": {},
   "outputs": [
    {
     "data": {
      "text/html": [
       "<div>\n",
       "<style scoped>\n",
       "    .dataframe tbody tr th:only-of-type {\n",
       "        vertical-align: middle;\n",
       "    }\n",
       "\n",
       "    .dataframe tbody tr th {\n",
       "        vertical-align: top;\n",
       "    }\n",
       "\n",
       "    .dataframe thead th {\n",
       "        text-align: right;\n",
       "    }\n",
       "</style>\n",
       "<table border=\"1\" class=\"dataframe\">\n",
       "  <thead>\n",
       "    <tr style=\"text-align: right;\">\n",
       "      <th></th>\n",
       "      <th>Name_x</th>\n",
       "      <th>Subject</th>\n",
       "      <th>Grade_x</th>\n",
       "      <th>Name_y</th>\n",
       "      <th>Grade_y</th>\n",
       "    </tr>\n",
       "  </thead>\n",
       "  <tbody>\n",
       "    <tr>\n",
       "      <th>0</th>\n",
       "      <td>Rakesh</td>\n",
       "      <td>Python</td>\n",
       "      <td>A</td>\n",
       "      <td>Chetan</td>\n",
       "      <td>A</td>\n",
       "    </tr>\n",
       "    <tr>\n",
       "      <th>1</th>\n",
       "      <td>Manoj</td>\n",
       "      <td>MLPython</td>\n",
       "      <td>C</td>\n",
       "      <td>Abhishek</td>\n",
       "      <td>B</td>\n",
       "    </tr>\n",
       "    <tr>\n",
       "      <th>2</th>\n",
       "      <td>Vaibhav</td>\n",
       "      <td>Statistics</td>\n",
       "      <td>B</td>\n",
       "      <td>Deepika</td>\n",
       "      <td>B</td>\n",
       "    </tr>\n",
       "    <tr>\n",
       "      <th>3</th>\n",
       "      <td>Hitesh</td>\n",
       "      <td>CommSkills</td>\n",
       "      <td>A</td>\n",
       "      <td>Arjun</td>\n",
       "      <td>A</td>\n",
       "    </tr>\n",
       "    <tr>\n",
       "      <th>4</th>\n",
       "      <td>Suyash</td>\n",
       "      <td>ProjectMgmt</td>\n",
       "      <td>B</td>\n",
       "      <td>NaN</td>\n",
       "      <td>NaN</td>\n",
       "    </tr>\n",
       "  </tbody>\n",
       "</table>\n",
       "</div>"
      ],
      "text/plain": [
       "    Name_x      Subject Grade_x    Name_y Grade_y\n",
       "0   Rakesh       Python       A    Chetan       A\n",
       "1    Manoj     MLPython       C  Abhishek       B\n",
       "2  Vaibhav   Statistics       B   Deepika       B\n",
       "3   Hitesh   CommSkills       A     Arjun       A\n",
       "4   Suyash  ProjectMgmt       B       NaN     NaN"
      ]
     },
     "execution_count": 56,
     "metadata": {},
     "output_type": "execute_result"
    }
   ],
   "source": [
    "pd.merge(df1,df2, on='Subject', how='left')"
   ]
  },
  {
   "cell_type": "code",
   "execution_count": 57,
   "id": "fb54b54b",
   "metadata": {},
   "outputs": [
    {
     "data": {
      "text/html": [
       "<div>\n",
       "<style scoped>\n",
       "    .dataframe tbody tr th:only-of-type {\n",
       "        vertical-align: middle;\n",
       "    }\n",
       "\n",
       "    .dataframe tbody tr th {\n",
       "        vertical-align: top;\n",
       "    }\n",
       "\n",
       "    .dataframe thead th {\n",
       "        text-align: right;\n",
       "    }\n",
       "</style>\n",
       "<table border=\"1\" class=\"dataframe\">\n",
       "  <thead>\n",
       "    <tr style=\"text-align: right;\">\n",
       "      <th></th>\n",
       "      <th>Name_x</th>\n",
       "      <th>Subject</th>\n",
       "      <th>Grade_x</th>\n",
       "      <th>Name_y</th>\n",
       "      <th>Grade_y</th>\n",
       "    </tr>\n",
       "  </thead>\n",
       "  <tbody>\n",
       "    <tr>\n",
       "      <th>0</th>\n",
       "      <td>NaN</td>\n",
       "      <td>Six Sigma</td>\n",
       "      <td>NaN</td>\n",
       "      <td>Vaibhav</td>\n",
       "      <td>A</td>\n",
       "    </tr>\n",
       "    <tr>\n",
       "      <th>1</th>\n",
       "      <td>Vaibhav</td>\n",
       "      <td>Statistics</td>\n",
       "      <td>B</td>\n",
       "      <td>Deepika</td>\n",
       "      <td>B</td>\n",
       "    </tr>\n",
       "    <tr>\n",
       "      <th>2</th>\n",
       "      <td>Hitesh</td>\n",
       "      <td>CommSkills</td>\n",
       "      <td>A</td>\n",
       "      <td>Arjun</td>\n",
       "      <td>A</td>\n",
       "    </tr>\n",
       "    <tr>\n",
       "      <th>3</th>\n",
       "      <td>Rakesh</td>\n",
       "      <td>Python</td>\n",
       "      <td>A</td>\n",
       "      <td>Chetan</td>\n",
       "      <td>A</td>\n",
       "    </tr>\n",
       "    <tr>\n",
       "      <th>4</th>\n",
       "      <td>Manoj</td>\n",
       "      <td>MLPython</td>\n",
       "      <td>C</td>\n",
       "      <td>Abhishek</td>\n",
       "      <td>B</td>\n",
       "    </tr>\n",
       "  </tbody>\n",
       "</table>\n",
       "</div>"
      ],
      "text/plain": [
       "    Name_x     Subject Grade_x    Name_y Grade_y\n",
       "0      NaN   Six Sigma     NaN   Vaibhav       A\n",
       "1  Vaibhav  Statistics       B   Deepika       B\n",
       "2   Hitesh  CommSkills       A     Arjun       A\n",
       "3   Rakesh      Python       A    Chetan       A\n",
       "4    Manoj    MLPython       C  Abhishek       B"
      ]
     },
     "execution_count": 57,
     "metadata": {},
     "output_type": "execute_result"
    }
   ],
   "source": [
    "pd.merge(df1,df2, on='Subject', how='right')"
   ]
  },
  {
   "cell_type": "code",
   "execution_count": null,
   "id": "4ec2e7ae",
   "metadata": {},
   "outputs": [],
   "source": []
  }
 ],
 "metadata": {
  "kernelspec": {
   "display_name": "Python 3 (ipykernel)",
   "language": "python",
   "name": "python3"
  },
  "language_info": {
   "codemirror_mode": {
    "name": "ipython",
    "version": 3
   },
   "file_extension": ".py",
   "mimetype": "text/x-python",
   "name": "python",
   "nbconvert_exporter": "python",
   "pygments_lexer": "ipython3",
   "version": "3.11.2"
  }
 },
 "nbformat": 4,
 "nbformat_minor": 5
}
