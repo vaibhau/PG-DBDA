{
 "cells": [
  {
   "cell_type": "markdown",
   "id": "8cec7e8b",
   "metadata": {},
   "source": [
    "# Naive Bayes Classifier\n",
    "\n",
    "- scaling of variables"
   ]
  },
  {
   "cell_type": "markdown",
   "id": "ee7b31cb",
   "metadata": {},
   "source": [
    "# Baye's Theorm\n",
    "\n",
    " "
   ]
  },
  {
   "cell_type": "code",
   "execution_count": 43,
   "id": "81e6ec5f",
   "metadata": {},
   "outputs": [],
   "source": [
    "import numpy as np\n",
    "import pandas as pd\n",
    "import sklearn\n",
    "from sklearn.naive_bayes import GaussianNB\n",
    "from sklearn.model_selection import train_test_split\n",
    "from sklearn.metrics import confusion_matrix\n",
    "from sklearn.neighbors import KNeighborsClassifier as knc\n",
    "from sklearn.cluster import KMeans\n",
    "import matplotlib\n",
    "from matplotlib import pyplot as plt\n",
    "import scipy\n",
    "import scipy.cluster.hierarchy as sch"
   ]
  },
  {
   "cell_type": "code",
   "execution_count": 11,
   "id": "6d2cf35c",
   "metadata": {},
   "outputs": [],
   "source": [
    "df = pd.read_excel('CDAC_DataBook.xlsx',sheet_name='iris')"
   ]
  },
  {
   "cell_type": "code",
   "execution_count": 14,
   "id": "724e1868",
   "metadata": {},
   "outputs": [],
   "source": [
    "x_train,x_test,y_train,y_test = train_test_split(df.drop('Species',axis=1),df.Species,test_size=0.25)"
   ]
  },
  {
   "cell_type": "code",
   "execution_count": 15,
   "id": "0cc4639f",
   "metadata": {},
   "outputs": [],
   "source": [
    "mod1 = GaussianNB().fit(x_train,y_train)"
   ]
  },
  {
   "cell_type": "code",
   "execution_count": 16,
   "id": "356e868e",
   "metadata": {},
   "outputs": [],
   "source": [
    "y_pred = mod1.predict(x_test)"
   ]
  },
  {
   "cell_type": "code",
   "execution_count": 17,
   "id": "7e54ef86",
   "metadata": {},
   "outputs": [
    {
     "name": "stdout",
     "output_type": "stream",
     "text": [
      "[[14  0  0]\n",
      " [ 0 11  1]\n",
      " [ 0  0 12]]\n"
     ]
    }
   ],
   "source": [
    "print(confusion_matrix(y_test,y_pred))"
   ]
  },
  {
   "cell_type": "code",
   "execution_count": 18,
   "id": "f95a9c96",
   "metadata": {},
   "outputs": [
    {
     "data": {
      "text/html": [
       "<div>\n",
       "<style scoped>\n",
       "    .dataframe tbody tr th:only-of-type {\n",
       "        vertical-align: middle;\n",
       "    }\n",
       "\n",
       "    .dataframe tbody tr th {\n",
       "        vertical-align: top;\n",
       "    }\n",
       "\n",
       "    .dataframe thead th {\n",
       "        text-align: right;\n",
       "    }\n",
       "</style>\n",
       "<table border=\"1\" class=\"dataframe\">\n",
       "  <thead>\n",
       "    <tr style=\"text-align: right;\">\n",
       "      <th></th>\n",
       "      <th>Sepal_length</th>\n",
       "      <th>Sepal_width</th>\n",
       "      <th>Petal_length</th>\n",
       "      <th>Petal_width</th>\n",
       "      <th>Species</th>\n",
       "    </tr>\n",
       "  </thead>\n",
       "  <tbody>\n",
       "    <tr>\n",
       "      <th>0</th>\n",
       "      <td>5.1</td>\n",
       "      <td>3.5</td>\n",
       "      <td>1.4</td>\n",
       "      <td>0.2</td>\n",
       "      <td>Iris-setosa</td>\n",
       "    </tr>\n",
       "    <tr>\n",
       "      <th>1</th>\n",
       "      <td>4.9</td>\n",
       "      <td>3.0</td>\n",
       "      <td>1.4</td>\n",
       "      <td>0.2</td>\n",
       "      <td>Iris-setosa</td>\n",
       "    </tr>\n",
       "    <tr>\n",
       "      <th>2</th>\n",
       "      <td>4.7</td>\n",
       "      <td>3.2</td>\n",
       "      <td>1.3</td>\n",
       "      <td>0.2</td>\n",
       "      <td>Iris-setosa</td>\n",
       "    </tr>\n",
       "    <tr>\n",
       "      <th>3</th>\n",
       "      <td>4.6</td>\n",
       "      <td>3.1</td>\n",
       "      <td>1.5</td>\n",
       "      <td>0.2</td>\n",
       "      <td>Iris-setosa</td>\n",
       "    </tr>\n",
       "    <tr>\n",
       "      <th>4</th>\n",
       "      <td>5.0</td>\n",
       "      <td>3.6</td>\n",
       "      <td>1.4</td>\n",
       "      <td>0.2</td>\n",
       "      <td>Iris-setosa</td>\n",
       "    </tr>\n",
       "  </tbody>\n",
       "</table>\n",
       "</div>"
      ],
      "text/plain": [
       "   Sepal_length  Sepal_width  Petal_length  Petal_width      Species\n",
       "0           5.1          3.5           1.4          0.2  Iris-setosa\n",
       "1           4.9          3.0           1.4          0.2  Iris-setosa\n",
       "2           4.7          3.2           1.3          0.2  Iris-setosa\n",
       "3           4.6          3.1           1.5          0.2  Iris-setosa\n",
       "4           5.0          3.6           1.4          0.2  Iris-setosa"
      ]
     },
     "execution_count": 18,
     "metadata": {},
     "output_type": "execute_result"
    }
   ],
   "source": [
    "df.head()"
   ]
  },
  {
   "cell_type": "markdown",
   "id": "c58d608d",
   "metadata": {},
   "source": [
    "# KNN - k Nearest Neighbors"
   ]
  },
  {
   "cell_type": "code",
   "execution_count": 20,
   "id": "174b2b98",
   "metadata": {},
   "outputs": [],
   "source": [
    "mod2 = knc(n_neighbors=4).fit(x_train,y_train)"
   ]
  },
  {
   "cell_type": "code",
   "execution_count": 21,
   "id": "3b108b4a",
   "metadata": {},
   "outputs": [],
   "source": [
    "y_pred2 = mod2.predict(x_test)"
   ]
  },
  {
   "cell_type": "code",
   "execution_count": 26,
   "id": "ee698d0f",
   "metadata": {},
   "outputs": [
    {
     "name": "stdout",
     "output_type": "stream",
     "text": [
      "[[14  0  0]\n",
      " [ 0 11  1]\n",
      " [ 0  0 12]]\n"
     ]
    }
   ],
   "source": [
    "print(confusion_matrix(y_test,y_pred2))"
   ]
  },
  {
   "cell_type": "markdown",
   "id": "3082af5c",
   "metadata": {},
   "source": [
    "# KMeans Clustering"
   ]
  },
  {
   "cell_type": "code",
   "execution_count": 28,
   "id": "da1da6ba",
   "metadata": {},
   "outputs": [],
   "source": [
    "df = pd.read_excel('clusters.xlsx')"
   ]
  },
  {
   "cell_type": "code",
   "execution_count": 29,
   "id": "284e6e58",
   "metadata": {},
   "outputs": [
    {
     "name": "stderr",
     "output_type": "stream",
     "text": [
      "C:\\Users\\vaibh\\AppData\\Local\\Programs\\Python\\Python311\\Lib\\site-packages\\sklearn\\cluster\\_kmeans.py:870: FutureWarning: The default value of `n_init` will change from 10 to 'auto' in 1.4. Set the value of `n_init` explicitly to suppress the warning\n",
      "  warnings.warn(\n"
     ]
    }
   ],
   "source": [
    "mod3 = KMeans(n_clusters = 3).fit(df)"
   ]
  },
  {
   "cell_type": "code",
   "execution_count": 30,
   "id": "c35ae4dc",
   "metadata": {},
   "outputs": [
    {
     "data": {
      "text/plain": [
       "array([[55.1, 46.1],\n",
       "       [43.2, 16.7],\n",
       "       [29.6, 66.8]])"
      ]
     },
     "execution_count": 30,
     "metadata": {},
     "output_type": "execute_result"
    }
   ],
   "source": [
    "mod3.cluster_centers_"
   ]
  },
  {
   "cell_type": "code",
   "execution_count": 31,
   "id": "849c6a19",
   "metadata": {},
   "outputs": [
    {
     "data": {
      "text/plain": [
       "array([2, 2, 2, 2, 2, 2, 2, 2, 2, 2, 0, 0, 0, 0, 0, 0, 0, 0, 0, 0, 1, 1,\n",
       "       1, 1, 1, 1, 1, 1, 1, 1])"
      ]
     },
     "execution_count": 31,
     "metadata": {},
     "output_type": "execute_result"
    }
   ],
   "source": [
    "mod3.labels_"
   ]
  },
  {
   "cell_type": "code",
   "execution_count": 32,
   "id": "477dd39c",
   "metadata": {},
   "outputs": [
    {
     "name": "stderr",
     "output_type": "stream",
     "text": [
      "C:\\Users\\vaibh\\AppData\\Local\\Programs\\Python\\Python311\\Lib\\site-packages\\sklearn\\base.py:439: UserWarning: X does not have valid feature names, but KMeans was fitted with feature names\n",
      "  warnings.warn(\n"
     ]
    },
    {
     "data": {
      "text/plain": [
       "array([1])"
      ]
     },
     "execution_count": 32,
     "metadata": {},
     "output_type": "execute_result"
    }
   ],
   "source": [
    "mod3.predict([[47,14]])"
   ]
  },
  {
   "cell_type": "code",
   "execution_count": null,
   "id": "dc6705d4",
   "metadata": {},
   "outputs": [],
   "source": []
  },
  {
   "cell_type": "code",
   "execution_count": null,
   "id": "26c02fdc",
   "metadata": {},
   "outputs": [],
   "source": [
    "plt.scatter(df.Var1,df.Var2,c='m')\n",
    "plt.scatter(43.2,16.7,c='g')\n",
    "plt.scatter(55.1,46.1,c='b')\n",
    "plt.scatter(29.6,66.8,c='r')"
   ]
  },
  {
   "cell_type": "code",
   "execution_count": 34,
   "id": "3a4ef8f1",
   "metadata": {},
   "outputs": [
    {
     "name": "stderr",
     "output_type": "stream",
     "text": [
      "C:\\Users\\vaibh\\AppData\\Local\\Programs\\Python\\Python311\\Lib\\site-packages\\sklearn\\cluster\\_kmeans.py:870: FutureWarning: The default value of `n_init` will change from 10 to 'auto' in 1.4. Set the value of `n_init` explicitly to suppress the warning\n",
      "  warnings.warn(\n"
     ]
    }
   ],
   "source": [
    "mod4 = KMeans(n_clusters=4).fit(df)"
   ]
  },
  {
   "cell_type": "code",
   "execution_count": 35,
   "id": "ecc5f57e",
   "metadata": {},
   "outputs": [
    {
     "name": "stderr",
     "output_type": "stream",
     "text": [
      "C:\\Users\\vaibh\\AppData\\Local\\Programs\\Python\\Python311\\Lib\\site-packages\\sklearn\\cluster\\_kmeans.py:870: FutureWarning: The default value of `n_init` will change from 10 to 'auto' in 1.4. Set the value of `n_init` explicitly to suppress the warning\n",
      "  warnings.warn(\n"
     ]
    }
   ],
   "source": [
    "mod6 = KMeans(n_clusters=6).fit(df)"
   ]
  },
  {
   "cell_type": "code",
   "execution_count": 36,
   "id": "8eba1007",
   "metadata": {},
   "outputs": [
    {
     "name": "stderr",
     "output_type": "stream",
     "text": [
      "C:\\Users\\vaibh\\AppData\\Local\\Programs\\Python\\Python311\\Lib\\site-packages\\sklearn\\cluster\\_kmeans.py:870: FutureWarning: The default value of `n_init` will change from 10 to 'auto' in 1.4. Set the value of `n_init` explicitly to suppress the warning\n",
      "  warnings.warn(\n"
     ]
    }
   ],
   "source": [
    "mod8 = KMeans(n_clusters=8).fit(df)"
   ]
  },
  {
   "cell_type": "code",
   "execution_count": 41,
   "id": "ab9023fd",
   "metadata": {},
   "outputs": [
    {
     "data": {
      "text/plain": [
       "array([[27.75      , 55.        ],\n",
       "       [44.4       , 24.2       ],\n",
       "       [48.        , 52.        ],\n",
       "       [30.83333333, 74.66666667],\n",
       "       [66.        , 55.        ],\n",
       "       [47.33333333,  6.66666667],\n",
       "       [56.75      , 35.75      ],\n",
       "       [34.        , 13.        ]])"
      ]
     },
     "execution_count": 41,
     "metadata": {},
     "output_type": "execute_result"
    }
   ],
   "source": [
    "mod8.cluster_centers_"
   ]
  },
  {
   "cell_type": "code",
   "execution_count": 37,
   "id": "d729636e",
   "metadata": {},
   "outputs": [
    {
     "data": {
      "text/plain": [
       "3649.5"
      ]
     },
     "execution_count": 37,
     "metadata": {},
     "output_type": "execute_result"
    }
   ],
   "source": [
    "mod3.inertia_"
   ]
  },
  {
   "cell_type": "code",
   "execution_count": 38,
   "id": "a894761f",
   "metadata": {},
   "outputs": [
    {
     "data": {
      "text/plain": [
       "2698.416666666667"
      ]
     },
     "execution_count": 38,
     "metadata": {},
     "output_type": "execute_result"
    }
   ],
   "source": [
    "mod4.inertia_"
   ]
  },
  {
   "cell_type": "code",
   "execution_count": 39,
   "id": "1624e905",
   "metadata": {},
   "outputs": [
    {
     "data": {
      "text/plain": [
       "1438.0666666666666"
      ]
     },
     "execution_count": 39,
     "metadata": {},
     "output_type": "execute_result"
    }
   ],
   "source": [
    "mod6.inertia_"
   ]
  },
  {
   "cell_type": "code",
   "execution_count": 40,
   "id": "50642e94",
   "metadata": {},
   "outputs": [
    {
     "data": {
      "text/plain": [
       "683.75"
      ]
     },
     "execution_count": 40,
     "metadata": {},
     "output_type": "execute_result"
    }
   ],
   "source": [
    "mod8.inertia_"
   ]
  },
  {
   "cell_type": "markdown",
   "id": "f791cf59",
   "metadata": {},
   "source": [
    "# Hierarchical Cluster\n",
    "\n",
    "- dendrogram is used here."
   ]
  },
  {
   "cell_type": "code",
   "execution_count": 45,
   "id": "35fdc291",
   "metadata": {},
   "outputs": [
    {
     "data": {
      "text/html": [
       "<div>\n",
       "<style scoped>\n",
       "    .dataframe tbody tr th:only-of-type {\n",
       "        vertical-align: middle;\n",
       "    }\n",
       "\n",
       "    .dataframe tbody tr th {\n",
       "        vertical-align: top;\n",
       "    }\n",
       "\n",
       "    .dataframe thead th {\n",
       "        text-align: right;\n",
       "    }\n",
       "</style>\n",
       "<table border=\"1\" class=\"dataframe\">\n",
       "  <thead>\n",
       "    <tr style=\"text-align: right;\">\n",
       "      <th></th>\n",
       "      <th>mpg</th>\n",
       "      <th>cyl</th>\n",
       "      <th>disp</th>\n",
       "      <th>hp</th>\n",
       "      <th>drat</th>\n",
       "      <th>wt</th>\n",
       "      <th>qsec</th>\n",
       "      <th>vs</th>\n",
       "      <th>am</th>\n",
       "      <th>gear</th>\n",
       "      <th>carb</th>\n",
       "    </tr>\n",
       "  </thead>\n",
       "  <tbody>\n",
       "    <tr>\n",
       "      <th>0</th>\n",
       "      <td>21.0</td>\n",
       "      <td>6</td>\n",
       "      <td>160.0</td>\n",
       "      <td>110</td>\n",
       "      <td>3.90</td>\n",
       "      <td>2.620</td>\n",
       "      <td>16.46</td>\n",
       "      <td>0</td>\n",
       "      <td>1</td>\n",
       "      <td>4</td>\n",
       "      <td>4</td>\n",
       "    </tr>\n",
       "    <tr>\n",
       "      <th>1</th>\n",
       "      <td>21.0</td>\n",
       "      <td>6</td>\n",
       "      <td>160.0</td>\n",
       "      <td>110</td>\n",
       "      <td>3.90</td>\n",
       "      <td>2.875</td>\n",
       "      <td>17.02</td>\n",
       "      <td>0</td>\n",
       "      <td>1</td>\n",
       "      <td>4</td>\n",
       "      <td>4</td>\n",
       "    </tr>\n",
       "    <tr>\n",
       "      <th>2</th>\n",
       "      <td>22.8</td>\n",
       "      <td>4</td>\n",
       "      <td>108.0</td>\n",
       "      <td>93</td>\n",
       "      <td>3.85</td>\n",
       "      <td>2.320</td>\n",
       "      <td>18.61</td>\n",
       "      <td>1</td>\n",
       "      <td>1</td>\n",
       "      <td>4</td>\n",
       "      <td>1</td>\n",
       "    </tr>\n",
       "    <tr>\n",
       "      <th>3</th>\n",
       "      <td>21.4</td>\n",
       "      <td>6</td>\n",
       "      <td>258.0</td>\n",
       "      <td>110</td>\n",
       "      <td>3.08</td>\n",
       "      <td>3.215</td>\n",
       "      <td>19.44</td>\n",
       "      <td>1</td>\n",
       "      <td>0</td>\n",
       "      <td>3</td>\n",
       "      <td>1</td>\n",
       "    </tr>\n",
       "    <tr>\n",
       "      <th>4</th>\n",
       "      <td>18.7</td>\n",
       "      <td>8</td>\n",
       "      <td>360.0</td>\n",
       "      <td>175</td>\n",
       "      <td>3.15</td>\n",
       "      <td>3.440</td>\n",
       "      <td>17.02</td>\n",
       "      <td>0</td>\n",
       "      <td>0</td>\n",
       "      <td>3</td>\n",
       "      <td>2</td>\n",
       "    </tr>\n",
       "  </tbody>\n",
       "</table>\n",
       "</div>"
      ],
      "text/plain": [
       "    mpg  cyl   disp   hp  drat     wt   qsec  vs  am  gear  carb\n",
       "0  21.0    6  160.0  110  3.90  2.620  16.46   0   1     4     4\n",
       "1  21.0    6  160.0  110  3.90  2.875  17.02   0   1     4     4\n",
       "2  22.8    4  108.0   93  3.85  2.320  18.61   1   1     4     1\n",
       "3  21.4    6  258.0  110  3.08  3.215  19.44   1   0     3     1\n",
       "4  18.7    8  360.0  175  3.15  3.440  17.02   0   0     3     2"
      ]
     },
     "execution_count": 45,
     "metadata": {},
     "output_type": "execute_result"
    }
   ],
   "source": [
    "df = pd.read_excel('CDAC_DataBook.xlsx',sheet_name='mtcars')\n",
    "df.head()"
   ]
  },
  {
   "cell_type": "code",
   "execution_count": 46,
   "id": "c41d74cb",
   "metadata": {},
   "outputs": [
    {
     "data": {
      "text/plain": [
       "{'icoord': [[25.0, 25.0, 35.0, 35.0],\n",
       "  [15.0, 15.0, 30.0, 30.0],\n",
       "  [55.0, 55.0, 65.0, 65.0],\n",
       "  [45.0, 45.0, 60.0, 60.0],\n",
       "  [75.0, 75.0, 85.0, 85.0],\n",
       "  [105.0, 105.0, 115.0, 115.0],\n",
       "  [95.0, 95.0, 110.0, 110.0],\n",
       "  [125.0, 125.0, 135.0, 135.0],\n",
       "  [102.5, 102.5, 130.0, 130.0],\n",
       "  [80.0, 80.0, 116.25, 116.25],\n",
       "  [145.0, 145.0, 155.0, 155.0],\n",
       "  [195.0, 195.0, 205.0, 205.0],\n",
       "  [185.0, 185.0, 200.0, 200.0],\n",
       "  [175.0, 175.0, 192.5, 192.5],\n",
       "  [225.0, 225.0, 235.0, 235.0],\n",
       "  [245.0, 245.0, 255.0, 255.0],\n",
       "  [230.0, 230.0, 250.0, 250.0],\n",
       "  [305.0, 305.0, 315.0, 315.0],\n",
       "  [295.0, 295.0, 310.0, 310.0],\n",
       "  [285.0, 285.0, 302.5, 302.5],\n",
       "  [275.0, 275.0, 293.75, 293.75],\n",
       "  [265.0, 265.0, 284.375, 284.375],\n",
       "  [240.0, 240.0, 274.6875, 274.6875],\n",
       "  [215.0, 215.0, 257.34375, 257.34375],\n",
       "  [183.75, 183.75, 236.171875, 236.171875],\n",
       "  [165.0, 165.0, 209.9609375, 209.9609375],\n",
       "  [150.0, 150.0, 187.48046875, 187.48046875],\n",
       "  [98.125, 98.125, 168.740234375, 168.740234375],\n",
       "  [52.5, 52.5, 133.4326171875, 133.4326171875],\n",
       "  [22.5, 22.5, 92.96630859375, 92.96630859375],\n",
       "  [5.0, 5.0, 57.733154296875, 57.733154296875]],\n",
       " 'dcoord': [[0.0, 10.07612028510974, 10.07612028510974, 0.0],\n",
       "  [0.0, 19.35890234491615, 19.35890234491615, 10.07612028510974],\n",
       "  [0.0, 15.622444623041554, 15.622444623041554, 0.0],\n",
       "  [0.0, 25.37142370857418, 25.37142370857418, 15.622444623041554],\n",
       "  [0.0, 40.00524746830096, 40.00524746830096, 0.0],\n",
       "  [0.0, 0.9826494797230624, 0.9826494797230624, 0.0],\n",
       "  [0.0, 1.3726252219743014, 1.3726252219743014, 0.9826494797230624],\n",
       "  [0.0, 14.015499455959462, 14.015499455959462, 0.0],\n",
       "  [1.3726252219743014,\n",
       "   41.19290503229894,\n",
       "   41.19290503229894,\n",
       "   14.015499455959462],\n",
       "  [40.00524746830096, 48.98388510520577, 48.98388510520577, 41.19290503229894],\n",
       "  [0.0, 33.55086921377745, 33.55086921377745, 0.0],\n",
       "  [0.0, 5.147341546856977, 5.147341546856977, 0.0],\n",
       "  [0.0, 7.832478854104882, 7.832478854104882, 5.147341546856977],\n",
       "  [0.0, 14.348062586983655, 14.348062586983655, 7.832478854104882],\n",
       "  [0.0, 0.6153251173160401, 0.6153251173160401, 0.0],\n",
       "  [0.0, 1.5231546211727793, 1.5231546211727793, 0.0],\n",
       "  [0.6153251173160401,\n",
       "   15.29568648345016,\n",
       "   15.29568648345016,\n",
       "   1.5231546211727793],\n",
       "  [0.0, 8.65359029536296, 8.65359029536296, 0.0],\n",
       "  [0.0, 12.250527539661304, 12.250527539661304, 8.65359029536296],\n",
       "  [0.0, 12.965474345352733, 12.965474345352733, 12.250527539661304],\n",
       "  [0.0, 21.096201672339046, 21.096201672339046, 12.965474345352733],\n",
       "  [0.0, 25.094855030463915, 25.094855030463915, 21.096201672339046],\n",
       "  [15.29568648345016,\n",
       "   25.328450900124146,\n",
       "   25.328450900124146,\n",
       "   25.094855030463915],\n",
       "  [0.0, 33.68730473041736, 33.68730473041736, 25.328450900124146],\n",
       "  [14.348062586983655,\n",
       "   39.88151482830109,\n",
       "   39.88151482830109,\n",
       "   33.68730473041736],\n",
       "  [0.0, 56.83651027288709, 56.83651027288709, 39.88151482830109],\n",
       "  [33.55086921377745,\n",
       "   60.265565624160544,\n",
       "   60.265565624160544,\n",
       "   56.83651027288709],\n",
       "  [48.98388510520577,\n",
       "   61.36018986280926,\n",
       "   61.36018986280926,\n",
       "   60.265565624160544],\n",
       "  [25.37142370857418, 68.20307471074894, 68.20307471074894, 61.36018986280926],\n",
       "  [19.35890234491615, 70.17672619893293, 70.17672619893293, 68.20307471074894],\n",
       "  [0.0, 86.93832526567326, 86.93832526567326, 70.17672619893293]],\n",
       " 'ivl': ['30',\n",
       "  '28',\n",
       "  '6',\n",
       "  '23',\n",
       "  '16',\n",
       "  '14',\n",
       "  '15',\n",
       "  '4',\n",
       "  '24',\n",
       "  '13',\n",
       "  '11',\n",
       "  '12',\n",
       "  '21',\n",
       "  '22',\n",
       "  '3',\n",
       "  '5',\n",
       "  '29',\n",
       "  '18',\n",
       "  '19',\n",
       "  '17',\n",
       "  '25',\n",
       "  '7',\n",
       "  '0',\n",
       "  '1',\n",
       "  '9',\n",
       "  '10',\n",
       "  '27',\n",
       "  '8',\n",
       "  '2',\n",
       "  '31',\n",
       "  '20',\n",
       "  '26'],\n",
       " 'leaves': [30,\n",
       "  28,\n",
       "  6,\n",
       "  23,\n",
       "  16,\n",
       "  14,\n",
       "  15,\n",
       "  4,\n",
       "  24,\n",
       "  13,\n",
       "  11,\n",
       "  12,\n",
       "  21,\n",
       "  22,\n",
       "  3,\n",
       "  5,\n",
       "  29,\n",
       "  18,\n",
       "  19,\n",
       "  17,\n",
       "  25,\n",
       "  7,\n",
       "  0,\n",
       "  1,\n",
       "  9,\n",
       "  10,\n",
       "  27,\n",
       "  8,\n",
       "  2,\n",
       "  31,\n",
       "  20,\n",
       "  26],\n",
       " 'color_list': ['C1',\n",
       "  'C1',\n",
       "  'C2',\n",
       "  'C2',\n",
       "  'C3',\n",
       "  'C3',\n",
       "  'C3',\n",
       "  'C3',\n",
       "  'C3',\n",
       "  'C3',\n",
       "  'C4',\n",
       "  'C4',\n",
       "  'C4',\n",
       "  'C4',\n",
       "  'C4',\n",
       "  'C4',\n",
       "  'C4',\n",
       "  'C4',\n",
       "  'C4',\n",
       "  'C4',\n",
       "  'C4',\n",
       "  'C4',\n",
       "  'C4',\n",
       "  'C4',\n",
       "  'C4',\n",
       "  'C4',\n",
       "  'C4',\n",
       "  'C0',\n",
       "  'C0',\n",
       "  'C0',\n",
       "  'C0'],\n",
       " 'leaves_color_list': ['C0',\n",
       "  'C1',\n",
       "  'C1',\n",
       "  'C1',\n",
       "  'C2',\n",
       "  'C2',\n",
       "  'C2',\n",
       "  'C3',\n",
       "  'C3',\n",
       "  'C3',\n",
       "  'C3',\n",
       "  'C3',\n",
       "  'C3',\n",
       "  'C3',\n",
       "  'C4',\n",
       "  'C4',\n",
       "  'C4',\n",
       "  'C4',\n",
       "  'C4',\n",
       "  'C4',\n",
       "  'C4',\n",
       "  'C4',\n",
       "  'C4',\n",
       "  'C4',\n",
       "  'C4',\n",
       "  'C4',\n",
       "  'C4',\n",
       "  'C4',\n",
       "  'C4',\n",
       "  'C4',\n",
       "  'C4',\n",
       "  'C4']}"
      ]
     },
     "execution_count": 46,
     "metadata": {},
     "output_type": "execute_result"
    },
    {
     "data": {
      "image/png": "[encoded data removed]",
      "text/plain": [
       "<Figure size 640x480 with 1 Axes>"
      ]
     },
     "metadata": {},
     "output_type": "display_data"
    }
   ],
   "source": [
    "sch.dendrogram(sch.linkage(df))"
   ]
  },
  {
   "cell_type": "code",
   "execution_count": null,
   "id": "a1135af6",
   "metadata": {},
   "outputs": [],
   "source": []
  }
 ],
 "metadata": {
  "kernelspec": {
   "display_name": "Python 3 (ipykernel)",
   "language": "python",
   "name": "python3"
  },
  "language_info": {
   "codemirror_mode": {
    "name": "ipython",
    "version": 3
   },
   "file_extension": ".py",
   "mimetype": "text/x-python",
   "name": "python",
   "nbconvert_exporter": "python",
   "pygments_lexer": "ipython3",
   "version": "3.11.2"
  }
 },
 "nbformat": 4,
 "nbformat_minor": 5
}
