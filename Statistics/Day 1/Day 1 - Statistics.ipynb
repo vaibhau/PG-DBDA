{
 "cells": [
  {
   "cell_type": "code",
   "execution_count": 6,
   "id": "3ab36e5c",
   "metadata": {},
   "outputs": [],
   "source": [
    "import numpy as np"
   ]
  },
  {
   "cell_type": "code",
   "execution_count": 7,
   "id": "a08048be",
   "metadata": {},
   "outputs": [],
   "source": [
    "import pandas as pd"
   ]
  },
  {
   "cell_type": "code",
   "execution_count": 10,
   "id": "23e9368d",
   "metadata": {},
   "outputs": [],
   "source": [
    "x = np.arange(7)"
   ]
  },
  {
   "cell_type": "code",
   "execution_count": 12,
   "id": "2a7d6fb0",
   "metadata": {},
   "outputs": [
    {
     "data": {
      "text/plain": [
       "array([0, 1, 2, 3, 4, 5, 6])"
      ]
     },
     "execution_count": 12,
     "metadata": {},
     "output_type": "execute_result"
    }
   ],
   "source": [
    "x"
   ]
  },
  {
   "cell_type": "code",
   "execution_count": 13,
   "id": "2326cae0",
   "metadata": {},
   "outputs": [],
   "source": [
    "x = np.arange(3,7)"
   ]
  },
  {
   "cell_type": "code",
   "execution_count": 14,
   "id": "07c4dd45",
   "metadata": {},
   "outputs": [
    {
     "data": {
      "text/plain": [
       "array([3, 4, 5, 6])"
      ]
     },
     "execution_count": 14,
     "metadata": {},
     "output_type": "execute_result"
    }
   ],
   "source": [
    "x"
   ]
  },
  {
   "cell_type": "code",
   "execution_count": 15,
   "id": "3bd8b292",
   "metadata": {},
   "outputs": [],
   "source": [
    "x = np.arange(3,17,4)"
   ]
  },
  {
   "cell_type": "code",
   "execution_count": 16,
   "id": "8414cc4c",
   "metadata": {},
   "outputs": [
    {
     "data": {
      "text/plain": [
       "array([ 3,  7, 11, 15])"
      ]
     },
     "execution_count": 16,
     "metadata": {},
     "output_type": "execute_result"
    }
   ],
   "source": [
    "x"
   ]
  },
  {
   "cell_type": "code",
   "execution_count": 17,
   "id": "278f7f00",
   "metadata": {},
   "outputs": [],
   "source": [
    "x = np.arange(40,6,-2)"
   ]
  },
  {
   "cell_type": "code",
   "execution_count": 18,
   "id": "e84a9a57",
   "metadata": {
    "scrolled": true
   },
   "outputs": [
    {
     "data": {
      "text/plain": [
       "array([40, 38, 36, 34, 32, 30, 28, 26, 24, 22, 20, 18, 16, 14, 12, 10,  8])"
      ]
     },
     "execution_count": 18,
     "metadata": {},
     "output_type": "execute_result"
    }
   ],
   "source": [
    "x"
   ]
  },
  {
   "cell_type": "code",
   "execution_count": 19,
   "id": "3c8694c7",
   "metadata": {
    "scrolled": true
   },
   "outputs": [
    {
     "data": {
      "text/plain": [
       "numpy.ndarray"
      ]
     },
     "execution_count": 19,
     "metadata": {},
     "output_type": "execute_result"
    }
   ],
   "source": [
    "type(x)"
   ]
  },
  {
   "cell_type": "code",
   "execution_count": 20,
   "id": "439f1c11",
   "metadata": {},
   "outputs": [
    {
     "data": {
      "text/plain": [
       "array([43, 41, 39, 37, 35, 33, 31, 29, 27, 25, 23, 21, 19, 17, 15, 13, 11])"
      ]
     },
     "execution_count": 20,
     "metadata": {},
     "output_type": "execute_result"
    }
   ],
   "source": [
    "x+3"
   ]
  },
  {
   "cell_type": "code",
   "execution_count": 21,
   "id": "8c1cbc64",
   "metadata": {},
   "outputs": [],
   "source": [
    "y = [2,8,7,6]"
   ]
  },
  {
   "cell_type": "code",
   "execution_count": 22,
   "id": "5a2aa459",
   "metadata": {},
   "outputs": [],
   "source": [
    "y = np.array(y)"
   ]
  },
  {
   "cell_type": "code",
   "execution_count": 23,
   "id": "b5f5b1bd",
   "metadata": {},
   "outputs": [
    {
     "data": {
      "text/plain": [
       "array([2, 8, 7, 6])"
      ]
     },
     "execution_count": 23,
     "metadata": {},
     "output_type": "execute_result"
    }
   ],
   "source": [
    "y"
   ]
  },
  {
   "cell_type": "code",
   "execution_count": 25,
   "id": "7a95d6e9",
   "metadata": {},
   "outputs": [],
   "source": [
    "y = y + 3"
   ]
  },
  {
   "cell_type": "code",
   "execution_count": 26,
   "id": "8691d9e0",
   "metadata": {},
   "outputs": [
    {
     "data": {
      "text/plain": [
       "array([ 5, 11, 10,  9])"
      ]
     },
     "execution_count": 26,
     "metadata": {},
     "output_type": "execute_result"
    }
   ],
   "source": [
    "y"
   ]
  },
  {
   "cell_type": "code",
   "execution_count": 24,
   "id": "ef7623bf",
   "metadata": {},
   "outputs": [
    {
     "data": {
      "text/plain": [
       "numpy.ndarray"
      ]
     },
     "execution_count": 24,
     "metadata": {},
     "output_type": "execute_result"
    }
   ],
   "source": [
    "type(y)"
   ]
  },
  {
   "cell_type": "code",
   "execution_count": 27,
   "id": "74bb8998",
   "metadata": {},
   "outputs": [],
   "source": [
    "y = list(y)"
   ]
  },
  {
   "cell_type": "code",
   "execution_count": 28,
   "id": "bac1411b",
   "metadata": {},
   "outputs": [
    {
     "data": {
      "text/plain": [
       "[5, 11, 10, 9]"
      ]
     },
     "execution_count": 28,
     "metadata": {},
     "output_type": "execute_result"
    }
   ],
   "source": [
    "y"
   ]
  },
  {
   "cell_type": "code",
   "execution_count": 29,
   "id": "34442042",
   "metadata": {},
   "outputs": [
    {
     "data": {
      "text/plain": [
       "list"
      ]
     },
     "execution_count": 29,
     "metadata": {},
     "output_type": "execute_result"
    }
   ],
   "source": [
    "type (y)"
   ]
  },
  {
   "cell_type": "code",
   "execution_count": 30,
   "id": "42d2a8c4",
   "metadata": {},
   "outputs": [],
   "source": [
    "arr = np.array([3,7,5,8])"
   ]
  },
  {
   "cell_type": "markdown",
   "id": "318c492c",
   "metadata": {},
   "source": [
    "It is a one dimensional array."
   ]
  },
  {
   "cell_type": "code",
   "execution_count": 32,
   "id": "e059a55a",
   "metadata": {},
   "outputs": [],
   "source": [
    "arr2 = np.array([[3,7,5,8],[1,4,3,6]])"
   ]
  },
  {
   "cell_type": "markdown",
   "id": "b7472753",
   "metadata": {},
   "source": [
    "It is a two dimensional array."
   ]
  },
  {
   "cell_type": "code",
   "execution_count": 33,
   "id": "c9b477cf",
   "metadata": {},
   "outputs": [
    {
     "data": {
      "text/plain": [
       "array([[3, 7, 5, 8],\n",
       "       [1, 4, 3, 6]])"
      ]
     },
     "execution_count": 33,
     "metadata": {},
     "output_type": "execute_result"
    }
   ],
   "source": [
    "arr2"
   ]
  },
  {
   "cell_type": "code",
   "execution_count": 35,
   "id": "b8fdae1b",
   "metadata": {},
   "outputs": [],
   "source": [
    "arr3 = np.array([[3,7,5,8],[1,4,3,6],[1,9,7,4]])"
   ]
  },
  {
   "cell_type": "markdown",
   "id": "7ae54005",
   "metadata": {},
   "source": [
    "It is a multi dimensional array."
   ]
  },
  {
   "cell_type": "code",
   "execution_count": 36,
   "id": "8d30d723",
   "metadata": {},
   "outputs": [
    {
     "data": {
      "text/plain": [
       "array([[3, 7, 5, 8],\n",
       "       [1, 4, 3, 6],\n",
       "       [1, 9, 7, 4]])"
      ]
     },
     "execution_count": 36,
     "metadata": {},
     "output_type": "execute_result"
    }
   ],
   "source": [
    "arr3"
   ]
  },
  {
   "cell_type": "code",
   "execution_count": 37,
   "id": "c352d59c",
   "metadata": {},
   "outputs": [],
   "source": [
    "list1 = [2,4,3,6,5,7,8,9,1,2,3,5]"
   ]
  },
  {
   "cell_type": "code",
   "execution_count": 38,
   "id": "39aac31d",
   "metadata": {},
   "outputs": [
    {
     "data": {
      "text/plain": [
       "12"
      ]
     },
     "execution_count": 38,
     "metadata": {},
     "output_type": "execute_result"
    }
   ],
   "source": [
    "len(list1)"
   ]
  },
  {
   "cell_type": "code",
   "execution_count": 39,
   "id": "9935180c",
   "metadata": {},
   "outputs": [],
   "source": [
    "list1 = np.array(list1)\n",
    "arr4 = list1.reshape(3,4)"
   ]
  },
  {
   "cell_type": "code",
   "execution_count": 40,
   "id": "9ce1efe0",
   "metadata": {},
   "outputs": [
    {
     "data": {
      "text/plain": [
       "array([[2, 4, 3, 6],\n",
       "       [5, 7, 8, 9],\n",
       "       [1, 2, 3, 5]])"
      ]
     },
     "execution_count": 40,
     "metadata": {},
     "output_type": "execute_result"
    }
   ],
   "source": [
    "arr4"
   ]
  },
  {
   "cell_type": "code",
   "execution_count": 41,
   "id": "e6b5bebb",
   "metadata": {},
   "outputs": [
    {
     "data": {
      "text/plain": [
       "array([2, 4, 3, 6, 5, 7, 8, 9, 1, 2, 3, 5])"
      ]
     },
     "execution_count": 41,
     "metadata": {},
     "output_type": "execute_result"
    }
   ],
   "source": [
    "list1"
   ]
  },
  {
   "cell_type": "code",
   "execution_count": 42,
   "id": "b768a229",
   "metadata": {},
   "outputs": [
    {
     "data": {
      "text/plain": [
       "5"
      ]
     },
     "execution_count": 42,
     "metadata": {},
     "output_type": "execute_result"
    }
   ],
   "source": [
    "arr1d = np.array([3,7,6,4,8])\n",
    "len(arr1d)"
   ]
  },
  {
   "cell_type": "code",
   "execution_count": 44,
   "id": "b2491257",
   "metadata": {},
   "outputs": [
    {
     "data": {
      "text/plain": [
       "array([3, 7, 6, 4, 8])"
      ]
     },
     "execution_count": 44,
     "metadata": {},
     "output_type": "execute_result"
    }
   ],
   "source": [
    "arr1d"
   ]
  },
  {
   "cell_type": "code",
   "execution_count": 43,
   "id": "dfacee75",
   "metadata": {},
   "outputs": [
    {
     "data": {
      "text/plain": [
       "4"
      ]
     },
     "execution_count": 43,
     "metadata": {},
     "output_type": "execute_result"
    }
   ],
   "source": [
    "arr1d[3]"
   ]
  },
  {
   "cell_type": "code",
   "execution_count": 45,
   "id": "da0ad829",
   "metadata": {},
   "outputs": [],
   "source": [
    "arr1d[3] = 7"
   ]
  },
  {
   "cell_type": "code",
   "execution_count": 51,
   "id": "9bc21b54",
   "metadata": {},
   "outputs": [
    {
     "data": {
      "text/plain": [
       "array([ 3,  7,  6,  7,  8, 10, 10, 10])"
      ]
     },
     "execution_count": 51,
     "metadata": {},
     "output_type": "execute_result"
    }
   ],
   "source": [
    "arr1d"
   ]
  },
  {
   "cell_type": "code",
   "execution_count": 53,
   "id": "129c3663",
   "metadata": {},
   "outputs": [
    {
     "data": {
      "text/plain": [
       "array([ 3,  7,  6,  7,  8, 10, 10, 10, 10, 10])"
      ]
     },
     "execution_count": 53,
     "metadata": {},
     "output_type": "execute_result"
    }
   ],
   "source": [
    "arr1d = np.append(arr1d,10)"
   ]
  },
  {
   "cell_type": "code",
   "execution_count": null,
   "id": "7fda9fe5",
   "metadata": {},
   "outputs": [],
   "source": []
  },
  {
   "cell_type": "code",
   "execution_count": 60,
   "id": "343d4276",
   "metadata": {},
   "outputs": [
    {
     "data": {
      "text/plain": [
       "array([ 3,  7,  6,  5,  5,  5,  7,  8, 10, 10, 10, 10, 10])"
      ]
     },
     "execution_count": 60,
     "metadata": {},
     "output_type": "execute_result"
    }
   ],
   "source": [
    "arr1d"
   ]
  },
  {
   "cell_type": "code",
   "execution_count": 57,
   "id": "b17c3a5c",
   "metadata": {},
   "outputs": [
    {
     "data": {
      "text/plain": [
       "array([ 3,  7,  6,  5,  5,  5,  5,  7,  8, 10, 10, 10, 10, 10])"
      ]
     },
     "execution_count": 57,
     "metadata": {},
     "output_type": "execute_result"
    }
   ],
   "source": [
    "arr1d = np.insert(arr1d,3,5)"
   ]
  },
  {
   "cell_type": "code",
   "execution_count": null,
   "id": "034d64e9",
   "metadata": {},
   "outputs": [],
   "source": []
  },
  {
   "cell_type": "code",
   "execution_count": 61,
   "id": "412b61e6",
   "metadata": {},
   "outputs": [
    {
     "data": {
      "text/plain": [
       "array([ 3,  7,  6,  5,  5,  5,  7,  8, 10, 10, 10, 10, 10])"
      ]
     },
     "execution_count": 61,
     "metadata": {},
     "output_type": "execute_result"
    }
   ],
   "source": [
    "arr1d"
   ]
  },
  {
   "cell_type": "code",
   "execution_count": 66,
   "id": "fb7ea0e7",
   "metadata": {},
   "outputs": [],
   "source": [
    "arr1d = np.delete(arr1d,6)"
   ]
  },
  {
   "cell_type": "code",
   "execution_count": 67,
   "id": "45fab446",
   "metadata": {},
   "outputs": [
    {
     "data": {
      "text/plain": [
       "array([ 3,  7,  6,  5,  7,  8, 10, 10, 10, 10])"
      ]
     },
     "execution_count": 67,
     "metadata": {},
     "output_type": "execute_result"
    }
   ],
   "source": [
    "arr1d"
   ]
  },
  {
   "cell_type": "markdown",
   "id": "05f6bfbb",
   "metadata": {},
   "source": [
    "np.delete(array,index)\n",
    "\n",
    "This command is used to deletet particular element from the array."
   ]
  },
  {
   "cell_type": "code",
   "execution_count": 69,
   "id": "bedb9098",
   "metadata": {},
   "outputs": [],
   "source": [
    "list1 = [2,5,4,6]\n",
    "list2 = [3,9,8,1]"
   ]
  },
  {
   "cell_type": "code",
   "execution_count": 70,
   "id": "f7f3c739",
   "metadata": {},
   "outputs": [],
   "source": [
    "arr2d = np.array([list1,list2])"
   ]
  },
  {
   "cell_type": "code",
   "execution_count": 71,
   "id": "ee9422b5",
   "metadata": {},
   "outputs": [
    {
     "data": {
      "text/plain": [
       "array([[2, 5, 4, 6],\n",
       "       [3, 9, 8, 1]])"
      ]
     },
     "execution_count": 71,
     "metadata": {},
     "output_type": "execute_result"
    }
   ],
   "source": [
    "arr2d"
   ]
  },
  {
   "cell_type": "code",
   "execution_count": 72,
   "id": "55887847",
   "metadata": {},
   "outputs": [],
   "source": [
    "list3 = [4,8,7,2]"
   ]
  },
  {
   "cell_type": "code",
   "execution_count": 74,
   "id": "190309e0",
   "metadata": {},
   "outputs": [],
   "source": [
    "arr2d = np.array([list1,list2,list3])"
   ]
  },
  {
   "cell_type": "code",
   "execution_count": 75,
   "id": "34153197",
   "metadata": {},
   "outputs": [
    {
     "data": {
      "text/plain": [
       "array([[2, 5, 4, 6],\n",
       "       [3, 9, 8, 1],\n",
       "       [4, 8, 7, 2]])"
      ]
     },
     "execution_count": 75,
     "metadata": {},
     "output_type": "execute_result"
    }
   ],
   "source": [
    "arr2d"
   ]
  },
  {
   "cell_type": "code",
   "execution_count": 76,
   "id": "e8b22f03",
   "metadata": {},
   "outputs": [
    {
     "data": {
      "text/plain": [
       "array([3, 9, 8, 1])"
      ]
     },
     "execution_count": 76,
     "metadata": {},
     "output_type": "execute_result"
    }
   ],
   "source": [
    "arr2d[1]"
   ]
  },
  {
   "cell_type": "code",
   "execution_count": 77,
   "id": "6fd5a233",
   "metadata": {},
   "outputs": [
    {
     "data": {
      "text/plain": [
       "array([2, 5, 4, 6])"
      ]
     },
     "execution_count": 77,
     "metadata": {},
     "output_type": "execute_result"
    }
   ],
   "source": [
    "arr2d[0]"
   ]
  },
  {
   "cell_type": "code",
   "execution_count": 79,
   "id": "7c771063",
   "metadata": {},
   "outputs": [
    {
     "data": {
      "text/plain": [
       "array([4, 8, 7])"
      ]
     },
     "execution_count": 79,
     "metadata": {},
     "output_type": "execute_result"
    }
   ],
   "source": [
    "arr2d[:,2]"
   ]
  },
  {
   "cell_type": "code",
   "execution_count": 80,
   "id": "d42fc626",
   "metadata": {},
   "outputs": [],
   "source": [
    "arr2d[1][3] = 5"
   ]
  },
  {
   "cell_type": "markdown",
   "id": "102804aa",
   "metadata": {},
   "source": [
    "now we have updated one value."
   ]
  },
  {
   "cell_type": "code",
   "execution_count": 81,
   "id": "a90b4b8c",
   "metadata": {},
   "outputs": [
    {
     "data": {
      "text/plain": [
       "array([[2, 5, 4, 6],\n",
       "       [3, 9, 8, 5],\n",
       "       [4, 8, 7, 2]])"
      ]
     },
     "execution_count": 81,
     "metadata": {},
     "output_type": "execute_result"
    }
   ],
   "source": [
    "arr2d"
   ]
  },
  {
   "cell_type": "code",
   "execution_count": 82,
   "id": "678ab26e",
   "metadata": {},
   "outputs": [],
   "source": [
    "new_row = [3,7,1,4]"
   ]
  },
  {
   "cell_type": "code",
   "execution_count": 83,
   "id": "b7225bfb",
   "metadata": {},
   "outputs": [],
   "source": [
    "arr2d = np.vstack([arr2d,new_row])"
   ]
  },
  {
   "cell_type": "markdown",
   "id": "2172c556",
   "metadata": {},
   "source": [
    "np.vstack() - This command is used to add a row in 2 dimensional array.\n",
    "\n",
    "v stands for vertically."
   ]
  },
  {
   "cell_type": "code",
   "execution_count": 84,
   "id": "40c421a9",
   "metadata": {},
   "outputs": [
    {
     "data": {
      "text/plain": [
       "array([[2, 5, 4, 6],\n",
       "       [3, 9, 8, 5],\n",
       "       [4, 8, 7, 2],\n",
       "       [3, 7, 1, 4]])"
      ]
     },
     "execution_count": 84,
     "metadata": {},
     "output_type": "execute_result"
    }
   ],
   "source": [
    "arr2d"
   ]
  },
  {
   "cell_type": "code",
   "execution_count": 86,
   "id": "244c893b",
   "metadata": {},
   "outputs": [],
   "source": [
    "new_column = np.array([3,8,7,2])"
   ]
  },
  {
   "cell_type": "code",
   "execution_count": 87,
   "id": "0be0b643",
   "metadata": {},
   "outputs": [],
   "source": [
    "new_column = new_column.reshape(4,1)"
   ]
  },
  {
   "cell_type": "markdown",
   "id": "67e7f86a",
   "metadata": {},
   "source": [
    "new_column.reshape(4,1) is used to arrange elements in a proper column."
   ]
  },
  {
   "cell_type": "code",
   "execution_count": 94,
   "id": "e44a4ec3",
   "metadata": {},
   "outputs": [
    {
     "data": {
      "text/plain": [
       "array([[3],\n",
       "       [8],\n",
       "       [7],\n",
       "       [2]])"
      ]
     },
     "execution_count": 94,
     "metadata": {},
     "output_type": "execute_result"
    }
   ],
   "source": [
    "new_column"
   ]
  },
  {
   "cell_type": "code",
   "execution_count": 97,
   "id": "06aa3779",
   "metadata": {},
   "outputs": [],
   "source": [
    "arr2d = np.hstack([arr2d,new_column])"
   ]
  },
  {
   "cell_type": "markdown",
   "id": "fdd8eea8",
   "metadata": {},
   "source": [
    "np.hstack() - This command is used to add column in two dimensional array.\n",
    "\n",
    "h stands for horizontally."
   ]
  },
  {
   "cell_type": "code",
   "execution_count": 98,
   "id": "efda8c14",
   "metadata": {},
   "outputs": [
    {
     "data": {
      "text/plain": [
       "array([[2, 5, 4, 6, 3],\n",
       "       [3, 9, 8, 5, 8],\n",
       "       [4, 8, 7, 2, 7],\n",
       "       [3, 7, 1, 4, 2]])"
      ]
     },
     "execution_count": 98,
     "metadata": {},
     "output_type": "execute_result"
    }
   ],
   "source": [
    "arr2d"
   ]
  },
  {
   "cell_type": "code",
   "execution_count": 101,
   "id": "129b6fc8",
   "metadata": {},
   "outputs": [
    {
     "data": {
      "text/plain": [
       "array([[2, 5, 4, 6, 3],\n",
       "       [3, 9, 8, 5, 8],\n",
       "       [3, 7, 1, 4, 2]])"
      ]
     },
     "execution_count": 101,
     "metadata": {},
     "output_type": "execute_result"
    }
   ],
   "source": [
    "np.delete(arr2d,2,axis=0)"
   ]
  },
  {
   "cell_type": "markdown",
   "id": "69a722d0",
   "metadata": {},
   "source": [
    "np.delete(array,index,index=0) - This command is used to delete particular a row temperarily.\n",
    "\n",
    "Second argument is for the which row/column you have to delete.\n",
    "\n",
    "index 0 is for the row."
   ]
  },
  {
   "cell_type": "code",
   "execution_count": 102,
   "id": "8e7acb37",
   "metadata": {},
   "outputs": [
    {
     "data": {
      "text/plain": [
       "array([[2, 5, 4, 6, 3],\n",
       "       [3, 9, 8, 5, 8],\n",
       "       [4, 8, 7, 2, 7],\n",
       "       [3, 7, 1, 4, 2]])"
      ]
     },
     "execution_count": 102,
     "metadata": {},
     "output_type": "execute_result"
    }
   ],
   "source": [
    "arr2d"
   ]
  },
  {
   "cell_type": "code",
   "execution_count": 105,
   "id": "ad4a8dc2",
   "metadata": {},
   "outputs": [
    {
     "data": {
      "text/plain": [
       "array([[2, 5, 6, 3],\n",
       "       [3, 9, 5, 8],\n",
       "       [4, 8, 2, 7],\n",
       "       [3, 7, 4, 2]])"
      ]
     },
     "execution_count": 105,
     "metadata": {},
     "output_type": "execute_result"
    }
   ],
   "source": [
    "np.delete(arr2d,2,axis=1)"
   ]
  },
  {
   "cell_type": "markdown",
   "id": "3927666e",
   "metadata": {},
   "source": [
    "np.delete(array,index,index=1) - This command is used to delete particular a column temperarily.\n",
    "\n",
    "Second argument is for the which row/column you have to delete.\n",
    "\n",
    "index 1 is for the column."
   ]
  },
  {
   "cell_type": "code",
   "execution_count": 106,
   "id": "87ea555a",
   "metadata": {},
   "outputs": [
    {
     "data": {
      "text/plain": [
       "array([[2, 5, 4, 6, 3],\n",
       "       [3, 9, 8, 5, 8],\n",
       "       [4, 8, 7, 2, 7],\n",
       "       [3, 7, 1, 4, 2]])"
      ]
     },
     "execution_count": 106,
     "metadata": {},
     "output_type": "execute_result"
    }
   ],
   "source": [
    "arr2d"
   ]
  },
  {
   "cell_type": "code",
   "execution_count": 115,
   "id": "503713cc",
   "metadata": {},
   "outputs": [],
   "source": [
    "arr1d = np.array([3,6,5,2,7,6,9,1])"
   ]
  },
  {
   "cell_type": "code",
   "execution_count": 109,
   "id": "8f71b0c8",
   "metadata": {},
   "outputs": [
    {
     "data": {
      "text/plain": [
       "array([3, 6, 5, 2])"
      ]
     },
     "execution_count": 109,
     "metadata": {},
     "output_type": "execute_result"
    }
   ],
   "source": [
    "arr1d[:4]"
   ]
  },
  {
   "cell_type": "code",
   "execution_count": 110,
   "id": "ac90d92f",
   "metadata": {},
   "outputs": [
    {
     "data": {
      "text/plain": [
       "array([6, 9, 1])"
      ]
     },
     "execution_count": 110,
     "metadata": {},
     "output_type": "execute_result"
    }
   ],
   "source": [
    "arr1d[5:]"
   ]
  },
  {
   "cell_type": "code",
   "execution_count": 111,
   "id": "ccb38554",
   "metadata": {},
   "outputs": [
    {
     "data": {
      "text/plain": [
       "array([5, 2, 7, 6])"
      ]
     },
     "execution_count": 111,
     "metadata": {},
     "output_type": "execute_result"
    }
   ],
   "source": [
    "arr1d[2:6]"
   ]
  },
  {
   "cell_type": "markdown",
   "id": "b8b3a9c3",
   "metadata": {},
   "source": [
    "In list you cannot perform specific operation on all the elements of list.\n",
    "In array you can perform specific operation operation on all the elements of list."
   ]
  },
  {
   "cell_type": "code",
   "execution_count": 113,
   "id": "dd0dcba8",
   "metadata": {},
   "outputs": [
    {
     "data": {
      "text/plain": [
       "array([5, 6, 2])"
      ]
     },
     "execution_count": 113,
     "metadata": {},
     "output_type": "execute_result"
    }
   ],
   "source": [
    "arr1d[[2,5,3]]"
   ]
  },
  {
   "cell_type": "markdown",
   "id": "ae7533f7",
   "metadata": {},
   "source": [
    "Previous command has printed elements of array whichever we have pass the array indexes."
   ]
  },
  {
   "cell_type": "code",
   "execution_count": 117,
   "id": "851d0ae2",
   "metadata": {},
   "outputs": [],
   "source": [
    "sorted_arr1d = sorted(arr1d)"
   ]
  },
  {
   "cell_type": "code",
   "execution_count": 118,
   "id": "589962cd",
   "metadata": {},
   "outputs": [
    {
     "data": {
      "text/plain": [
       "[1, 2, 3, 5, 6, 6, 7, 9]"
      ]
     },
     "execution_count": 118,
     "metadata": {},
     "output_type": "execute_result"
    }
   ],
   "source": [
    "sorted_arr1d"
   ]
  },
  {
   "cell_type": "code",
   "execution_count": 120,
   "id": "f338c0b8",
   "metadata": {},
   "outputs": [
    {
     "data": {
      "text/plain": [
       "[9, 7, 6, 6, 5, 3, 2, 1]"
      ]
     },
     "execution_count": 120,
     "metadata": {},
     "output_type": "execute_result"
    }
   ],
   "source": [
    "sorted_arr1d = sorted(arr1d,reverse = True)\n",
    "sorted_arr1d"
   ]
  },
  {
   "cell_type": "code",
   "execution_count": 121,
   "id": "293f96ce",
   "metadata": {},
   "outputs": [
    {
     "data": {
      "text/plain": [
       "array([3, 6, 5, 2, 7, 6, 9, 1])"
      ]
     },
     "execution_count": 121,
     "metadata": {},
     "output_type": "execute_result"
    }
   ],
   "source": [
    "arr1d"
   ]
  },
  {
   "cell_type": "code",
   "execution_count": 165,
   "id": "9b85d710",
   "metadata": {},
   "outputs": [],
   "source": [
    "ind = np.where(arr1d>=4)"
   ]
  },
  {
   "cell_type": "markdown",
   "id": "9c4e3b7a",
   "metadata": {},
   "source": [
    "np.where() - This command is used to get the specified resultant array."
   ]
  },
  {
   "cell_type": "code",
   "execution_count": 166,
   "id": "5be0fb9f",
   "metadata": {},
   "outputs": [
    {
     "data": {
      "text/plain": [
       "(array([ 1,  2,  4,  5,  6,  9, 10, 13, 14], dtype=int64),)"
      ]
     },
     "execution_count": 166,
     "metadata": {},
     "output_type": "execute_result"
    }
   ],
   "source": [
    "ind"
   ]
  },
  {
   "cell_type": "markdown",
   "id": "efe59d9f",
   "metadata": {},
   "source": [
    "by printing this array you will get the indexes of elements which are satisfied with the condition.\n",
    "dtype=int64 is also a part of the array."
   ]
  },
  {
   "cell_type": "code",
   "execution_count": 167,
   "id": "48eaa014",
   "metadata": {},
   "outputs": [
    {
     "data": {
      "text/plain": [
       "1"
      ]
     },
     "execution_count": 167,
     "metadata": {},
     "output_type": "execute_result"
    }
   ],
   "source": [
    "len(ind)"
   ]
  },
  {
   "cell_type": "code",
   "execution_count": 169,
   "id": "70cd508f",
   "metadata": {},
   "outputs": [
    {
     "data": {
      "text/plain": [
       "9"
      ]
     },
     "execution_count": 169,
     "metadata": {},
     "output_type": "execute_result"
    }
   ],
   "source": [
    "len(ind[0])"
   ]
  },
  {
   "cell_type": "markdown",
   "id": "4216d7e2",
   "metadata": {},
   "source": [
    "len(ind[0]) - This command gives the count of values that are greater than or equals to 4. Because in line number 124 we have used 'greater than or equals to 4' condition."
   ]
  },
  {
   "cell_type": "code",
   "execution_count": 129,
   "id": "824f895e",
   "metadata": {},
   "outputs": [
    {
     "data": {
      "text/plain": [
       "5"
      ]
     },
     "execution_count": 129,
     "metadata": {},
     "output_type": "execute_result"
    }
   ],
   "source": [
    "(arr1d>=4).sum()"
   ]
  },
  {
   "cell_type": "markdown",
   "id": "7301b1ea",
   "metadata": {},
   "source": [
    "(arr1d>=4).sum() - This command gives the count of values that are greater than or equals to 4. Because in line number 124 we have used 'greater than or equals to 4' condition."
   ]
  },
  {
   "cell_type": "code",
   "execution_count": 130,
   "id": "a90bf8a8",
   "metadata": {},
   "outputs": [
    {
     "data": {
      "text/plain": [
       "tuple"
      ]
     },
     "execution_count": 130,
     "metadata": {},
     "output_type": "execute_result"
    }
   ],
   "source": [
    "type(ind)"
   ]
  },
  {
   "cell_type": "code",
   "execution_count": 168,
   "id": "93d71b56",
   "metadata": {},
   "outputs": [
    {
     "data": {
      "text/plain": [
       "array([6, 5, 7, 6, 9, 5, 7, 5, 9])"
      ]
     },
     "execution_count": 168,
     "metadata": {},
     "output_type": "execute_result"
    }
   ],
   "source": [
    "arr1d[ind]"
   ]
  },
  {
   "cell_type": "code",
   "execution_count": 132,
   "id": "8f809fbc",
   "metadata": {},
   "outputs": [
    {
     "data": {
      "text/plain": [
       "array([[2, 5, 4, 6, 3],\n",
       "       [3, 9, 8, 5, 8],\n",
       "       [4, 8, 7, 2, 7],\n",
       "       [3, 7, 1, 4, 2]])"
      ]
     },
     "execution_count": 132,
     "metadata": {},
     "output_type": "execute_result"
    }
   ],
   "source": [
    "arr2d"
   ]
  },
  {
   "cell_type": "code",
   "execution_count": 133,
   "id": "c1359851",
   "metadata": {},
   "outputs": [],
   "source": [
    "ind2 = np.where(arr2d>=4)"
   ]
  },
  {
   "cell_type": "code",
   "execution_count": 134,
   "id": "c6aef658",
   "metadata": {},
   "outputs": [
    {
     "data": {
      "text/plain": [
       "(array([0, 0, 0, 1, 1, 1, 1, 2, 2, 2, 2, 3, 3], dtype=int64),\n",
       " array([1, 2, 3, 1, 2, 3, 4, 0, 1, 2, 4, 1, 3], dtype=int64))"
      ]
     },
     "execution_count": 134,
     "metadata": {},
     "output_type": "execute_result"
    }
   ],
   "source": [
    "ind2"
   ]
  },
  {
   "cell_type": "code",
   "execution_count": 135,
   "id": "53eb24e6",
   "metadata": {},
   "outputs": [
    {
     "data": {
      "text/plain": [
       "2"
      ]
     },
     "execution_count": 135,
     "metadata": {},
     "output_type": "execute_result"
    }
   ],
   "source": [
    "len(ind2)"
   ]
  },
  {
   "cell_type": "code",
   "execution_count": 136,
   "id": "ecf29134",
   "metadata": {},
   "outputs": [
    {
     "data": {
      "text/plain": [
       "13"
      ]
     },
     "execution_count": 136,
     "metadata": {},
     "output_type": "execute_result"
    }
   ],
   "source": [
    "(arr2d>=4).sum()"
   ]
  },
  {
   "cell_type": "markdown",
   "id": "a65558ac",
   "metadata": {},
   "source": [
    "(arr2d>=4).sum() - This command gives the count of values that are greater than or equals to 4. Because in line number 124 we have used 'greater than or equals to 4' condition."
   ]
  },
  {
   "cell_type": "code",
   "execution_count": 139,
   "id": "3eb89d79",
   "metadata": {},
   "outputs": [
    {
     "data": {
      "text/plain": [
       "13"
      ]
     },
     "execution_count": 139,
     "metadata": {},
     "output_type": "execute_result"
    }
   ],
   "source": [
    "len(ind2[0])"
   ]
  },
  {
   "cell_type": "markdown",
   "id": "e9a9c4a7",
   "metadata": {},
   "source": [
    "len(ind2[0]) - This command gives the count of values that are greater than or equals to 4. Because in line number 124 we have used 'greater than or equals to 4' condition."
   ]
  },
  {
   "cell_type": "code",
   "execution_count": 142,
   "id": "56e86ca3",
   "metadata": {},
   "outputs": [
    {
     "data": {
      "text/plain": [
       "array([3, 6, 5, 2, 7, 6, 9, 1])"
      ]
     },
     "execution_count": 142,
     "metadata": {},
     "output_type": "execute_result"
    }
   ],
   "source": [
    "arr1d"
   ]
  },
  {
   "cell_type": "code",
   "execution_count": 143,
   "id": "3d49c229",
   "metadata": {},
   "outputs": [],
   "source": [
    "x = np.array([3,5,7,3,3,5,9,1,3])"
   ]
  },
  {
   "cell_type": "code",
   "execution_count": 144,
   "id": "a8d4546f",
   "metadata": {},
   "outputs": [],
   "source": [
    "arr1d = np.concatenate((arr1d,x))"
   ]
  },
  {
   "cell_type": "code",
   "execution_count": 145,
   "id": "4f042c03",
   "metadata": {},
   "outputs": [
    {
     "data": {
      "text/plain": [
       "array([3, 6, 5, 2, 7, 6, 9, 1, 3, 5, 7, 3, 3, 5, 9, 1, 3])"
      ]
     },
     "execution_count": 145,
     "metadata": {},
     "output_type": "execute_result"
    }
   ],
   "source": [
    "arr1d"
   ]
  },
  {
   "cell_type": "code",
   "execution_count": 146,
   "id": "f2aae1fb",
   "metadata": {},
   "outputs": [
    {
     "data": {
      "text/plain": [
       "array([1, 2, 3, 5, 6, 7, 9])"
      ]
     },
     "execution_count": 146,
     "metadata": {},
     "output_type": "execute_result"
    }
   ],
   "source": [
    "np.unique(arr1d)"
   ]
  },
  {
   "cell_type": "markdown",
   "id": "b9a38b99",
   "metadata": {},
   "source": [
    "np.unique(arr1d) - This command will print unique numbers from the given array."
   ]
  },
  {
   "cell_type": "code",
   "execution_count": 148,
   "id": "2dd8e574",
   "metadata": {},
   "outputs": [
    {
     "data": {
      "text/plain": [
       "True"
      ]
     },
     "execution_count": 148,
     "metadata": {},
     "output_type": "execute_result"
    }
   ],
   "source": [
    "5 in np.unique(arr1d)"
   ]
  },
  {
   "cell_type": "markdown",
   "id": "e09a7c80",
   "metadata": {},
   "source": [
    "5 in np.unique(arr1d) - This command is used to check weather the given value is there or not. If it is there it will return True else it will return False.\n",
    "\n",
    "syntax - value in np.where(array)"
   ]
  },
  {
   "cell_type": "code",
   "execution_count": 152,
   "id": "fe9e5078",
   "metadata": {},
   "outputs": [
    {
     "data": {
      "text/plain": [
       "array([False, False, False,  True,  True, False, False, False, False,\n",
       "       False,  True, False, False, False, False, False, False])"
      ]
     },
     "execution_count": 152,
     "metadata": {},
     "output_type": "execute_result"
    }
   ],
   "source": [
    "np.in1d(arr1d,[2,7])"
   ]
  },
  {
   "cell_type": "markdown",
   "id": "c9e651e9",
   "metadata": {},
   "source": [
    "np.in1d(arr1d,[2,7]) - This command will check the given values into the specified array.\n",
    "\n",
    "If the value is there in the array it will return True else it will return False.\n",
    "\n",
    "syntax - np.in1d(array,[value,value])"
   ]
  },
  {
   "cell_type": "code",
   "execution_count": 153,
   "id": "96547e3d",
   "metadata": {},
   "outputs": [
    {
     "data": {
      "text/plain": [
       "(array([ 3,  4, 10], dtype=int64),)"
      ]
     },
     "execution_count": 153,
     "metadata": {},
     "output_type": "execute_result"
    }
   ],
   "source": [
    "np.where(np.in1d(arr1d,[2,7]))"
   ]
  },
  {
   "cell_type": "markdown",
   "id": "5fb26cd3",
   "metadata": {},
   "source": [
    "Note - Input of the np.where() is condition and output of the np.where() command is indexes of resultant / where the condition is True."
   ]
  },
  {
   "cell_type": "code",
   "execution_count": 158,
   "id": "e339b5fb",
   "metadata": {},
   "outputs": [],
   "source": [
    "ind3 = np.where(np.in1d(arr1d,[2,7]))"
   ]
  },
  {
   "cell_type": "code",
   "execution_count": 159,
   "id": "b4bf131f",
   "metadata": {},
   "outputs": [
    {
     "data": {
      "text/plain": [
       "3"
      ]
     },
     "execution_count": 159,
     "metadata": {},
     "output_type": "execute_result"
    }
   ],
   "source": [
    "len(ind3[0])"
   ]
  },
  {
   "cell_type": "code",
   "execution_count": 173,
   "id": "77597012",
   "metadata": {},
   "outputs": [],
   "source": [
    "x = np.array([4,7,6,3,9])"
   ]
  },
  {
   "cell_type": "code",
   "execution_count": 174,
   "id": "9a887f3d",
   "metadata": {},
   "outputs": [],
   "source": [
    "y = np.array([1,4,5,7,8])"
   ]
  },
  {
   "cell_type": "code",
   "execution_count": 175,
   "id": "971dbbbb",
   "metadata": {},
   "outputs": [
    {
     "data": {
      "text/plain": [
       "array([1, 3, 4, 5, 6, 7, 8, 9])"
      ]
     },
     "execution_count": 175,
     "metadata": {},
     "output_type": "execute_result"
    }
   ],
   "source": [
    "np.union1d(x,y)"
   ]
  },
  {
   "cell_type": "markdown",
   "id": "183659f8",
   "metadata": {},
   "source": [
    "np.union1d(x,y) - It will return the union(either x or in y) of the mentioned array.\n",
    "\n",
    "syntax - np.union1d(array,array)"
   ]
  },
  {
   "cell_type": "code",
   "execution_count": 178,
   "id": "7c60b483",
   "metadata": {},
   "outputs": [
    {
     "data": {
      "text/plain": [
       "array([4, 7])"
      ]
     },
     "execution_count": 178,
     "metadata": {},
     "output_type": "execute_result"
    }
   ],
   "source": [
    "np.intersect1d(x,y)"
   ]
  },
  {
   "cell_type": "code",
   "execution_count": 180,
   "id": "ed2b0218",
   "metadata": {},
   "outputs": [
    {
     "data": {
      "text/plain": [
       "array([4, 7])"
      ]
     },
     "execution_count": 180,
     "metadata": {},
     "output_type": "execute_result"
    }
   ],
   "source": [
    "np.intersect1d(y,x)"
   ]
  },
  {
   "cell_type": "markdown",
   "id": "dabd08a0",
   "metadata": {},
   "source": [
    "np.intersect1d(x,y) , np.intersect1d(y,x) - It will return the intersection(common values) of the mentioned array.\n",
    "\n",
    "np.intersect1d(array,array)"
   ]
  },
  {
   "cell_type": "code",
   "execution_count": 181,
   "id": "25d4b0e5",
   "metadata": {},
   "outputs": [
    {
     "data": {
      "text/plain": [
       "array([ True,  True, False, False, False])"
      ]
     },
     "execution_count": 181,
     "metadata": {},
     "output_type": "execute_result"
    }
   ],
   "source": [
    "np.in1d(x,y)"
   ]
  },
  {
   "cell_type": "markdown",
   "id": "1ac8cfb3",
   "metadata": {},
   "source": [
    "np.in1d(x,y) - This command will check the values of array x in the array of y. If value is there it will return True else it will return False."
   ]
  },
  {
   "cell_type": "code",
   "execution_count": 182,
   "id": "c650bfcd",
   "metadata": {},
   "outputs": [
    {
     "data": {
      "text/plain": [
       "array([False,  True, False,  True, False])"
      ]
     },
     "execution_count": 182,
     "metadata": {},
     "output_type": "execute_result"
    }
   ],
   "source": [
    "np.in1d(y,x)"
   ]
  },
  {
   "cell_type": "code",
   "execution_count": 185,
   "id": "2b2ba764",
   "metadata": {},
   "outputs": [
    {
     "data": {
      "text/plain": [
       "array([4, 7, 6, 3, 9])"
      ]
     },
     "execution_count": 185,
     "metadata": {},
     "output_type": "execute_result"
    }
   ],
   "source": [
    "x"
   ]
  },
  {
   "cell_type": "code",
   "execution_count": 186,
   "id": "b7e607f6",
   "metadata": {},
   "outputs": [
    {
     "data": {
      "text/plain": [
       "array([1, 4, 5, 7, 8])"
      ]
     },
     "execution_count": 186,
     "metadata": {},
     "output_type": "execute_result"
    }
   ],
   "source": [
    "y"
   ]
  },
  {
   "cell_type": "markdown",
   "id": "88f344e6",
   "metadata": {},
   "source": [
    "np.in1d(y,x) - This command will check the values of array y in the array of x. If value is there it will return True else it will return False."
   ]
  },
  {
   "cell_type": "code",
   "execution_count": 183,
   "id": "cb7e83e9",
   "metadata": {},
   "outputs": [
    {
     "data": {
      "text/plain": [
       "array([3, 6, 9])"
      ]
     },
     "execution_count": 183,
     "metadata": {},
     "output_type": "execute_result"
    }
   ],
   "source": [
    "np.setdiff1d(x,y)"
   ]
  },
  {
   "cell_type": "markdown",
   "id": "e6b77fea",
   "metadata": {},
   "source": [
    "np.setdiff1d(x,y) - It will return the "
   ]
  },
  {
   "cell_type": "code",
   "execution_count": 184,
   "id": "0a9f56c5",
   "metadata": {},
   "outputs": [
    {
     "data": {
      "text/plain": [
       "array([1, 5, 8])"
      ]
     },
     "execution_count": 184,
     "metadata": {},
     "output_type": "execute_result"
    }
   ],
   "source": [
    "np.setdiff1d(y,x)"
   ]
  },
  {
   "cell_type": "markdown",
   "id": "73d4167b",
   "metadata": {},
   "source": [
    "np.setdiff1d(y,x)"
   ]
  },
  {
   "cell_type": "code",
   "execution_count": null,
   "id": "4178d7ab",
   "metadata": {},
   "outputs": [],
   "source": []
  }
 ],
 "metadata": {
  "kernelspec": {
   "display_name": "Python 3 (ipykernel)",
   "language": "python",
   "name": "python3"
  },
  "language_info": {
   "codemirror_mode": {
    "name": "ipython",
    "version": 3
   },
   "file_extension": ".py",
   "mimetype": "text/x-python",
   "name": "python",
   "nbconvert_exporter": "python",
   "pygments_lexer": "ipython3",
   "version": "3.11.2"
  }
 },
 "nbformat": 4,
 "nbformat_minor": 5
}
