{
 "cells": [
  {
   "cell_type": "markdown",
   "id": "97ffbd13",
   "metadata": {},
   "source": [
    "# shape\n",
    "→ skewness and kurtosis\n",
    "\n",
    "# skewness\n",
    "→ symmetry of the distribution"
   ]
  },
  {
   "cell_type": "code",
   "execution_count": 2,
   "id": "2317c8e3",
   "metadata": {},
   "outputs": [
    {
     "name": "stdout",
     "output_type": "stream",
     "text": [
      "Requirement already satisfied: scipy in c:\\users\\vaibh\\appdata\\local\\programs\\python\\python311\\lib\\site-packages (1.10.1)\n",
      "Requirement already satisfied: numpy<1.27.0,>=1.19.5 in c:\\users\\vaibh\\appdata\\local\\programs\\python\\python311\\lib\\site-packages (from scipy) (1.24.2)\n",
      "Note: you may need to restart the kernel to use updated packages.\n"
     ]
    }
   ],
   "source": [
    "pip install scipy"
   ]
  },
  {
   "cell_type": "code",
   "execution_count": 3,
   "id": "232af4fb",
   "metadata": {},
   "outputs": [],
   "source": [
    "import scipy \n",
    "from scipy import stats"
   ]
  },
  {
   "cell_type": "code",
   "execution_count": 7,
   "id": "aaa1aee0",
   "metadata": {},
   "outputs": [],
   "source": [
    "x = [1,1,1,2,2,2,2,3,3,3,3,4,4,4,4]\n",
    "y = [1,1,1,1,2,2,2,2,2,2,3,3,3,3,3,3,4,4,4,5,5,5,6,6,6,7]\n",
    "z = [1,1,1,1,2,2,2,2,2,3,3,3,3,4,4,4,4,5,5,5,5,6,6,6,6,7,7,7,8,8,8,9,9,9]"
   ]
  },
  {
   "cell_type": "code",
   "execution_count": 8,
   "id": "c72ad193",
   "metadata": {},
   "outputs": [
    {
     "data": {
      "text/plain": [
       "-0.10071121989218153"
      ]
     },
     "execution_count": 8,
     "metadata": {},
     "output_type": "execute_result"
    }
   ],
   "source": [
    "scipy.stats.skew(x)"
   ]
  },
  {
   "cell_type": "code",
   "execution_count": 9,
   "id": "2ac3690e",
   "metadata": {},
   "outputs": [
    {
     "data": {
      "text/plain": [
       "0.46054839008123166"
      ]
     },
     "execution_count": 9,
     "metadata": {},
     "output_type": "execute_result"
    }
   ],
   "source": [
    "scipy.stats.skew(y)"
   ]
  },
  {
   "cell_type": "code",
   "execution_count": 10,
   "id": "cc929bbf",
   "metadata": {},
   "outputs": [
    {
     "data": {
      "text/plain": [
       "0.1912492977406469"
      ]
     },
     "execution_count": 10,
     "metadata": {},
     "output_type": "execute_result"
    }
   ],
   "source": [
    "scipy.stats.skew(z)"
   ]
  },
  {
   "cell_type": "markdown",
   "id": "dc03a7d3",
   "metadata": {},
   "source": [
    "# Kurtosis\n",
    "\n",
    "Sharpness of the peak"
   ]
  },
  {
   "cell_type": "code",
   "execution_count": 11,
   "id": "b75bc03c",
   "metadata": {},
   "outputs": [],
   "source": [
    "x = [1,1,1,2,2,2,3,3,3,3,4,4,4,4,4,4,4,5,5,5,5,6,6,6,7,7,7,7]\n",
    "y = [1,1,1,1,1,1,1,2,2,2,2,2,3,3,3,3,3,3,3,3,4,4,4,4,4,5,5,5,5,5,5,6,6,6,6,7,7,7,7,7,7]"
   ]
  },
  {
   "cell_type": "code",
   "execution_count": 12,
   "id": "194221c2",
   "metadata": {},
   "outputs": [
    {
     "data": {
      "text/plain": [
       "-0.9198083440325067"
      ]
     },
     "execution_count": 12,
     "metadata": {},
     "output_type": "execute_result"
    }
   ],
   "source": [
    "scipy.stats.kurtosis(x)"
   ]
  },
  {
   "cell_type": "code",
   "execution_count": 13,
   "id": "bfbed555",
   "metadata": {},
   "outputs": [
    {
     "data": {
      "text/plain": [
       "-1.188215759424596"
      ]
     },
     "execution_count": 13,
     "metadata": {},
     "output_type": "execute_result"
    }
   ],
   "source": [
    "scipy.stats.kurtosis(y)"
   ]
  },
  {
   "cell_type": "markdown",
   "id": "fbed11d8",
   "metadata": {},
   "source": [
    "# Probability Distribution\n",
    "\n",
    "- discrete - binomial, poisson, hypergeometric\n",
    "- continuous - exponential, normal, student's distribution\n",
    "\n",
    "# Binomial Distribution\n",
    "\n",
    "- there are maximum of two possibilities.\n",
    "- the probability of the occurance should be known to us."
   ]
  },
  {
   "cell_type": "markdown",
   "id": "07115661",
   "metadata": {},
   "source": [
    "# Probability of rains in June on any given day is 0.4\n",
    "\n",
    "If I'm in mumbai for 20 days, what are the chances that \n",
    "- It rains for exactly 12 days - \n",
    "- It rains for maximum of 12 days - 0 to 12\n",
    "- It rains for minimum of 12 days - 12 to 20"
   ]
  },
  {
   "cell_type": "code",
   "execution_count": 14,
   "id": "806bfc9c",
   "metadata": {},
   "outputs": [],
   "source": [
    "from scipy.stats import binom"
   ]
  },
  {
   "cell_type": "code",
   "execution_count": 15,
   "id": "c5b811f0",
   "metadata": {},
   "outputs": [
    {
     "data": {
      "text/plain": [
       "0.035497439556481776"
      ]
     },
     "execution_count": 15,
     "metadata": {},
     "output_type": "execute_result"
    }
   ],
   "source": [
    "#1 probability of rain for exactly 12 days\n",
    "binom.pmf(12,20,0.4)"
   ]
  },
  {
   "cell_type": "markdown",
   "id": "20441358",
   "metadata": {},
   "source": [
    "# pmf() function\n",
    "\n",
    "- stands for probability mass function\n",
    "- used to calculate probability of a single day."
   ]
  },
  {
   "cell_type": "code",
   "execution_count": 16,
   "id": "dc4b165d",
   "metadata": {},
   "outputs": [
    {
     "data": {
      "text/plain": [
       "0.9789710725222288"
      ]
     },
     "execution_count": 16,
     "metadata": {},
     "output_type": "execute_result"
    }
   ],
   "source": [
    "#2 probability of rain for maximum of 12 days\n",
    "binom.cdf(12,20,0.4)"
   ]
  },
  {
   "cell_type": "markdown",
   "id": "b50e6394",
   "metadata": {},
   "source": [
    "# cdf() function\n",
    "\n",
    "- stands cummulative distribution function\n",
    "- It is used to calculate probability for more than one day / multiple day.\n",
    "- It is used to calculate the probability of a event of maximum days."
   ]
  },
  {
   "cell_type": "markdown",
   "id": "9223f0ba",
   "metadata": {},
   "source": [
    "# Probability that it rains for max 4 days"
   ]
  },
  {
   "cell_type": "code",
   "execution_count": 17,
   "id": "5dabfd5c",
   "metadata": {},
   "outputs": [
    {
     "data": {
      "text/plain": [
       "0.050951953194166524"
      ]
     },
     "execution_count": 17,
     "metadata": {},
     "output_type": "execute_result"
    }
   ],
   "source": [
    "binom.cdf(4,20,0.4)"
   ]
  },
  {
   "cell_type": "code",
   "execution_count": 18,
   "id": "83467a60",
   "metadata": {},
   "outputs": [
    {
     "data": {
      "text/plain": [
       "0.05095195319416651"
      ]
     },
     "execution_count": 18,
     "metadata": {},
     "output_type": "execute_result"
    }
   ],
   "source": [
    "binom.pmf(0,20,0.4)+binom.pmf(1,20,0.4)+binom.pmf(2,20,0.4)+binom.pmf(3,20,0.4)+binom.pmf(4,20,0.4)"
   ]
  },
  {
   "cell_type": "code",
   "execution_count": 19,
   "id": "9aea2ded",
   "metadata": {},
   "outputs": [
    {
     "data": {
      "text/plain": [
       "0.021028927477771187"
      ]
     },
     "execution_count": 19,
     "metadata": {},
     "output_type": "execute_result"
    }
   ],
   "source": [
    "#3 probability of rain for minimum of 12 days\n",
    "1 - binom.cdf(12,20,0.4) #wrong probability"
   ]
  },
  {
   "cell_type": "code",
   "execution_count": 20,
   "id": "4653b29f",
   "metadata": {},
   "outputs": [
    {
     "data": {
      "text/plain": [
       "0.05652636703425307"
      ]
     },
     "execution_count": 20,
     "metadata": {},
     "output_type": "execute_result"
    }
   ],
   "source": [
    "#3 probability of rain for minimum of 12 days\n",
    "1 - binom.cdf(11,20,0.4) #accurate probability"
   ]
  },
  {
   "cell_type": "markdown",
   "id": "94ae0298",
   "metadata": {},
   "source": [
    "# sf() function\n",
    "\n",
    "- It is stands for survival function."
   ]
  },
  {
   "cell_type": "code",
   "execution_count": 21,
   "id": "5710b9c5",
   "metadata": {},
   "outputs": [
    {
     "data": {
      "text/plain": [
       "0.05652636703425309"
      ]
     },
     "execution_count": 21,
     "metadata": {},
     "output_type": "execute_result"
    }
   ],
   "source": [
    "#3 this function is used to get probability of minimum days\n",
    "binom.sf(11,20,0.4)"
   ]
  },
  {
   "cell_type": "markdown",
   "id": "f75691ac",
   "metadata": {},
   "source": [
    "# poisson distribution\n",
    "\n",
    "- Probability of event is too low or cannot be calculated.\n",
    "- We work with 'average number of occurences'\n"
   ]
  },
  {
   "cell_type": "markdown",
   "id": "a9fbcaf3",
   "metadata": {},
   "source": [
    "# Average number of accidents in an area are 30 days per day\n",
    "\n",
    "- exactly 27 accidents take place\n",
    "- maximum 27 accidents take place\n",
    "- minimum 27 accidents take place"
   ]
  },
  {
   "cell_type": "code",
   "execution_count": 22,
   "id": "d1801630",
   "metadata": {},
   "outputs": [],
   "source": [
    "from scipy.stats import poisson"
   ]
  },
  {
   "cell_type": "code",
   "execution_count": 23,
   "id": "57f0f53e",
   "metadata": {},
   "outputs": [
    {
     "data": {
      "text/plain": [
       "0.06553248388325897"
      ]
     },
     "execution_count": 23,
     "metadata": {},
     "output_type": "execute_result"
    }
   ],
   "source": [
    "#1 probabilty for exactly 27 accidents take place\n",
    "poisson.pmf(27,30)"
   ]
  },
  {
   "cell_type": "code",
   "execution_count": 24,
   "id": "e00f9ce2",
   "metadata": {},
   "outputs": [
    {
     "data": {
      "text/plain": [
       "0.3328690840455234"
      ]
     },
     "execution_count": 24,
     "metadata": {},
     "output_type": "execute_result"
    }
   ],
   "source": [
    "#2 probabilty for maximum 27 accidents place (includes all numbers from 0 to 27)\n",
    "poisson.cdf(27,30)"
   ]
  },
  {
   "cell_type": "code",
   "execution_count": 25,
   "id": "c6f995ad",
   "metadata": {},
   "outputs": [
    {
     "data": {
      "text/plain": [
       "0.6671309159544766"
      ]
     },
     "execution_count": 25,
     "metadata": {},
     "output_type": "execute_result"
    }
   ],
   "source": [
    "#3 probability for minimum 28 accidents\n",
    "1 - poisson.cdf(27,30)"
   ]
  },
  {
   "cell_type": "code",
   "execution_count": 26,
   "id": "579ef0ec",
   "metadata": {},
   "outputs": [
    {
     "data": {
      "text/plain": [
       "0.6671309159544766"
      ]
     },
     "execution_count": 26,
     "metadata": {},
     "output_type": "execute_result"
    }
   ],
   "source": [
    "#3 probability for minimum 28 accidents\n",
    "poisson.sf(27,30)"
   ]
  },
  {
   "cell_type": "code",
   "execution_count": 27,
   "id": "b7d70178",
   "metadata": {},
   "outputs": [
    {
     "data": {
      "text/plain": [
       "0.7326633998377348"
      ]
     },
     "execution_count": 27,
     "metadata": {},
     "output_type": "execute_result"
    }
   ],
   "source": [
    "#3 - minimum 27 accidents\n",
    "1 - poisson.cdf(26,30)"
   ]
  },
  {
   "cell_type": "code",
   "execution_count": 28,
   "id": "25171275",
   "metadata": {},
   "outputs": [
    {
     "data": {
      "text/plain": [
       "0.7326633998377348"
      ]
     },
     "execution_count": 28,
     "metadata": {},
     "output_type": "execute_result"
    }
   ],
   "source": [
    "poisson.sf(26,30)"
   ]
  },
  {
   "cell_type": "markdown",
   "id": "96a52821",
   "metadata": {},
   "source": [
    "# Hypergeometric\n",
    "\n",
    "- used when the sampling is done without replacements.\n",
    "- Probability is always changing after every iteration of without replacements"
   ]
  },
  {
   "cell_type": "markdown",
   "id": "55cb6ca9",
   "metadata": {},
   "source": [
    "# 70 LEDs from manufacturer, out of which upto 7 can be defective\n",
    "\n",
    "- we take a sample of 20, out of which upto 2 can be allowed to be defective and we still accept the lot.\n",
    "- "
   ]
  },
  {
   "cell_type": "code",
   "execution_count": 30,
   "id": "d8e6c81e",
   "metadata": {},
   "outputs": [],
   "source": [
    "from scipy.stats import hypergeom"
   ]
  },
  {
   "cell_type": "code",
   "execution_count": 31,
   "id": "95448597",
   "metadata": {},
   "outputs": [
    {
     "data": {
      "text/plain": [
       "0.6842509992202706"
      ]
     },
     "execution_count": 31,
     "metadata": {},
     "output_type": "execute_result"
    }
   ],
   "source": [
    "hypergeom.cdf(2,70,7,20)\n",
    "\n",
    "#first input -> the count which is allow in our sample\n",
    "#second input -> population size\n",
    "#third input -> total number of faulty events in population\n",
    "#forth input -> sample size "
   ]
  },
  {
   "cell_type": "markdown",
   "id": "c6918706",
   "metadata": {},
   "source": [
    "upto - cdf\n",
    "minimum - (1-cdf)"
   ]
  },
  {
   "cell_type": "markdown",
   "id": "c85cb128",
   "metadata": {},
   "source": [
    "# Exponential Distribution\n",
    "\n",
    "- It is used when we wish to model the time gap between 2 succesive events."
   ]
  },
  {
   "cell_type": "markdown",
   "id": "96af3e71",
   "metadata": {},
   "source": [
    "# On an average there are 200 server trips in one year\n",
    "\n",
    "a client is visiting the office for 60 hours. What are the chances that he sees the server trip\n",
    "\n",
    "# MTBF \n",
    "\n",
    "- mean time between failures\n"
   ]
  },
  {
   "cell_type": "code",
   "execution_count": 32,
   "id": "1855bf01",
   "metadata": {},
   "outputs": [
    {
     "data": {
      "text/plain": [
       "8760"
      ]
     },
     "execution_count": 32,
     "metadata": {},
     "output_type": "execute_result"
    }
   ],
   "source": [
    "365*24"
   ]
  },
  {
   "cell_type": "code",
   "execution_count": 33,
   "id": "cfe26be6",
   "metadata": {},
   "outputs": [
    {
     "data": {
      "text/plain": [
       "43.8"
      ]
     },
     "execution_count": 33,
     "metadata": {},
     "output_type": "execute_result"
    }
   ],
   "source": [
    "8760/200 #MTBF"
   ]
  },
  {
   "cell_type": "code",
   "execution_count": 35,
   "id": "4ce2a64b",
   "metadata": {},
   "outputs": [],
   "source": [
    "#standard value of e - exponential\n",
    "e = 2.7182"
   ]
  },
  {
   "cell_type": "code",
   "execution_count": 36,
   "id": "e8000a64",
   "metadata": {},
   "outputs": [
    {
     "data": {
      "text/plain": [
       "0.2541522515269206"
      ]
     },
     "execution_count": 36,
     "metadata": {},
     "output_type": "execute_result"
    }
   ],
   "source": [
    "e**(-60/43.8)\n",
    "\n",
    "#(no of hours / mtbf)"
   ]
  },
  {
   "cell_type": "code",
   "execution_count": 37,
   "id": "661a259e",
   "metadata": {},
   "outputs": [
    {
     "data": {
      "text/plain": [
       "0.7458477484730794"
      ]
     },
     "execution_count": 37,
     "metadata": {},
     "output_type": "execute_result"
    }
   ],
   "source": [
    "#probability that the client will see the breakdown\n",
    "1 - e**(-60/43.8)"
   ]
  },
  {
   "cell_type": "markdown",
   "id": "1e88abb7",
   "metadata": {},
   "source": [
    "- Normal distribution will be used when the sample size above 30.\n",
    "- Normal distribution cannnot be used sample size is below 30.\n",
    "\n",
    "- Student t distribution used when the sample size less than or equl to 30 \n",
    "\n",
    "standard deviation - consistent / variation\n"
   ]
  },
  {
   "cell_type": "markdown",
   "id": "38b8f97a",
   "metadata": {},
   "source": [
    "# Normal Distribution\n",
    "\n",
    "- Normal distribution also known as the Gaussian distribution\n",
    "- 68.3% of the observation will fall between the mean and plus minus std deviation.\n",
    "- 95% of the observation will fall between mean and plus minus second standard deviation.\n",
    "- 99.73% of the observation will fall between mean and plus minus 3rd standard deviation."
   ]
  },
  {
   "cell_type": "markdown",
   "id": "85258cd4",
   "metadata": {},
   "source": [
    "# avg travel time - 70 min with sd = 2 min\n",
    "\n",
    "- what is the probability of reaching CSMT in less than 67 and more than 67"
   ]
  },
  {
   "cell_type": "code",
   "execution_count": 3,
   "id": "752d617b",
   "metadata": {},
   "outputs": [],
   "source": [
    "from scipy.stats import norm"
   ]
  },
  {
   "cell_type": "code",
   "execution_count": 39,
   "id": "eb917331",
   "metadata": {},
   "outputs": [
    {
     "data": {
      "text/plain": [
       "0.06680720126885806"
      ]
     },
     "execution_count": 39,
     "metadata": {},
     "output_type": "execute_result"
    }
   ],
   "source": [
    "#probability of less than 67\n",
    "norm.cdf(67,70,2)"
   ]
  },
  {
   "cell_type": "code",
   "execution_count": 4,
   "id": "f17b2a17",
   "metadata": {},
   "outputs": [
    {
     "data": {
      "text/plain": [
       "0.9772498680518208"
      ]
     },
     "execution_count": 4,
     "metadata": {},
     "output_type": "execute_result"
    }
   ],
   "source": [
    "#probability of more than 67\n",
    "1 - norm.cdf(66,70,2)"
   ]
  },
  {
   "cell_type": "code",
   "execution_count": 5,
   "id": "52237e6e",
   "metadata": {},
   "outputs": [
    {
     "data": {
      "text/plain": [
       "0.9331927987311419"
      ]
     },
     "execution_count": 5,
     "metadata": {},
     "output_type": "execute_result"
    }
   ],
   "source": [
    "#probability of more than 67\n",
    "norm.sf(67,70,2)"
   ]
  },
  {
   "cell_type": "markdown",
   "id": "c051eff9",
   "metadata": {},
   "source": [
    "# Standard Normal Curve\n",
    "\n",
    "- Mean = 0\n",
    "- Standard deviation = 1"
   ]
  },
  {
   "cell_type": "code",
   "execution_count": 42,
   "id": "4297e695",
   "metadata": {},
   "outputs": [
    {
     "data": {
      "text/plain": [
       "0.06680720126885806"
      ]
     },
     "execution_count": 42,
     "metadata": {},
     "output_type": "execute_result"
    }
   ],
   "source": [
    "norm.cdf(-1.5) #z value"
   ]
  },
  {
   "cell_type": "markdown",
   "id": "7a317bbe",
   "metadata": {},
   "source": [
    "# Student's t distribution\n",
    "\n",
    "- above data is based on 20 trips (trips<30), so we need to use the Student's t distribution.\n",
    "- stand deviation - 2\n",
    "- x => 67\n",
    "- mean - 70"
   ]
  },
  {
   "cell_type": "code",
   "execution_count": 43,
   "id": "4d6dd773",
   "metadata": {},
   "outputs": [],
   "source": [
    "from scipy.stats import t"
   ]
  },
  {
   "cell_type": "code",
   "execution_count": 44,
   "id": "e393d9ad",
   "metadata": {},
   "outputs": [
    {
     "data": {
      "text/plain": [
       "0.07502426537113577"
      ]
     },
     "execution_count": 44,
     "metadata": {},
     "output_type": "execute_result"
    }
   ],
   "source": [
    "t.cdf(-1.5,20-1)"
   ]
  },
  {
   "cell_type": "code",
   "execution_count": null,
   "id": "b2293859",
   "metadata": {},
   "outputs": [],
   "source": []
  },
  {
   "cell_type": "markdown",
   "id": "69c2531b",
   "metadata": {},
   "source": []
  },
  {
   "cell_type": "code",
   "execution_count": null,
   "id": "e7e29b05",
   "metadata": {},
   "outputs": [],
   "source": []
  },
  {
   "cell_type": "markdown",
   "id": "ad95ed3e",
   "metadata": {},
   "source": [
    "# Central Limit Theorem\n",
    "\n",
    "- It says, as the number of sample size increases, the distance of the sample mean's will get closer and closer to the normal.\n",
    "- If you increase samples then it will get closer to the sample mean."
   ]
  },
  {
   "cell_type": "code",
   "execution_count": 45,
   "id": "c941278e",
   "metadata": {},
   "outputs": [
    {
     "data": {
      "text/plain": [
       "0.15865525393145707"
      ]
     },
     "execution_count": 45,
     "metadata": {},
     "output_type": "execute_result"
    }
   ],
   "source": [
    "norm.cdf(-1)"
   ]
  },
  {
   "cell_type": "code",
   "execution_count": 46,
   "id": "62910ca2",
   "metadata": {},
   "outputs": [
    {
     "data": {
      "text/plain": [
       "0.31731050786291415"
      ]
     },
     "execution_count": 46,
     "metadata": {},
     "output_type": "execute_result"
    }
   ],
   "source": [
    "norm.cdf(-1)*2"
   ]
  },
  {
   "cell_type": "code",
   "execution_count": 47,
   "id": "56a3357e",
   "metadata": {},
   "outputs": [
    {
     "data": {
      "text/plain": [
       "0.6826894921370859"
      ]
     },
     "execution_count": 47,
     "metadata": {},
     "output_type": "execute_result"
    }
   ],
   "source": [
    "1 - norm.cdf(-1)*2"
   ]
  },
  {
   "cell_type": "code",
   "execution_count": 3,
   "id": "5a5b7f1e",
   "metadata": {},
   "outputs": [
    {
     "data": {
      "text/plain": [
       "0.8413447460685429"
      ]
     },
     "execution_count": 3,
     "metadata": {},
     "output_type": "execute_result"
    }
   ],
   "source": [
    "norm.cdf(1)"
   ]
  },
  {
   "cell_type": "code",
   "execution_count": 69,
   "id": "02a4762d",
   "metadata": {},
   "outputs": [
    {
     "data": {
      "text/plain": [
       "0.6826894921370859"
      ]
     },
     "execution_count": 69,
     "metadata": {},
     "output_type": "execute_result"
    }
   ],
   "source": [
    "norm.cdf(1) - norm.cdf(-1)"
   ]
  },
  {
   "cell_type": "code",
   "execution_count": 48,
   "id": "73da97f2",
   "metadata": {},
   "outputs": [
    {
     "data": {
      "text/plain": [
       "0.9544997361036416"
      ]
     },
     "execution_count": 48,
     "metadata": {},
     "output_type": "execute_result"
    }
   ],
   "source": [
    "1 - norm.cdf(-2)*2"
   ]
  },
  {
   "cell_type": "code",
   "execution_count": 49,
   "id": "c85b8d8b",
   "metadata": {},
   "outputs": [
    {
     "data": {
      "text/plain": [
       "0.9973002039367398"
      ]
     },
     "execution_count": 49,
     "metadata": {},
     "output_type": "execute_result"
    }
   ],
   "source": [
    "1 - norm.cdf(-3)*2"
   ]
  },
  {
   "cell_type": "markdown",
   "id": "2eee3248",
   "metadata": {},
   "source": [
    "# Syntax\n",
    "\n",
    "- stats.t.interval(confidence level,degree of freedom,sample mean,standard error of the mean)\n",
    "\n",
    "- standard error of the mean = standard deviation / square root(sample size)"
   ]
  },
  {
   "cell_type": "code",
   "execution_count": 53,
   "id": "3b2cb906",
   "metadata": {},
   "outputs": [
    {
     "data": {
      "text/plain": [
       "(26780.73660551642, 27219.26339448358)"
      ]
     },
     "execution_count": 53,
     "metadata": {},
     "output_type": "execute_result"
    }
   ],
   "source": [
    "stats.t.interval(0.95,2000-1,27000,5000/2000**0.5)"
   ]
  },
  {
   "cell_type": "code",
   "execution_count": 54,
   "id": "7cc8dfab",
   "metadata": {},
   "outputs": [],
   "source": [
    "x = stats.t.interval(0.95,2000-1,27000,5000/2000**0.5)"
   ]
  },
  {
   "cell_type": "code",
   "execution_count": 55,
   "id": "46535f81",
   "metadata": {},
   "outputs": [
    {
     "data": {
      "text/plain": [
       "438.5267889671595"
      ]
     },
     "execution_count": 55,
     "metadata": {},
     "output_type": "execute_result"
    }
   ],
   "source": [
    "base_interval = x[1] - x[0]\n",
    "base_interval"
   ]
  },
  {
   "cell_type": "code",
   "execution_count": 58,
   "id": "f112298c",
   "metadata": {},
   "outputs": [],
   "source": [
    "y = stats.t.interval(0.999,2000-1,27000,5000/2000**0.5)"
   ]
  },
  {
   "cell_type": "code",
   "execution_count": 59,
   "id": "973fa71a",
   "metadata": {},
   "outputs": [
    {
     "data": {
      "text/plain": [
       "736.8739703101637"
      ]
     },
     "execution_count": 59,
     "metadata": {},
     "output_type": "execute_result"
    }
   ],
   "source": [
    "cl_interval = y[1] - y[0]\n",
    "cl_interval"
   ]
  },
  {
   "cell_type": "code",
   "execution_count": 60,
   "id": "b8fe1402",
   "metadata": {},
   "outputs": [],
   "source": [
    "z = stats.t.interval(0.95,2000-1,27000,1000/2000**0.5)"
   ]
  },
  {
   "cell_type": "code",
   "execution_count": 61,
   "id": "90c4ae6f",
   "metadata": {},
   "outputs": [
    {
     "data": {
      "text/plain": [
       "87.70535779343481"
      ]
     },
     "execution_count": 61,
     "metadata": {},
     "output_type": "execute_result"
    }
   ],
   "source": [
    "sigma_interval = z[1] - z[0]\n",
    "sigma_interval"
   ]
  },
  {
   "cell_type": "code",
   "execution_count": 63,
   "id": "a9bede64",
   "metadata": {},
   "outputs": [],
   "source": [
    "a = stats.t.interval(0.95,2000-1,27000,1000/2000000**0.5)"
   ]
  },
  {
   "cell_type": "code",
   "execution_count": 64,
   "id": "a6d5699f",
   "metadata": {},
   "outputs": [],
   "source": [
    "a = stats.t.interval(0.95,2000000-1,27000,1000/2000000**0.5)"
   ]
  },
  {
   "cell_type": "code",
   "execution_count": 65,
   "id": "28e5585b",
   "metadata": {},
   "outputs": [],
   "source": [
    "ss_interval = a[1] - a[0]"
   ]
  },
  {
   "cell_type": "code",
   "execution_count": 66,
   "id": "1d33a92b",
   "metadata": {},
   "outputs": [
    {
     "data": {
      "text/plain": [
       "2.7718093261501053"
      ]
     },
     "execution_count": 66,
     "metadata": {},
     "output_type": "execute_result"
    }
   ],
   "source": [
    "ss_interval"
   ]
  },
  {
   "cell_type": "code",
   "execution_count": 67,
   "id": "0b1eb9b6",
   "metadata": {},
   "outputs": [],
   "source": [
    "b = stats.t.interval(0.95,2000000-1,27000,5000/2000000**0.5)"
   ]
  },
  {
   "cell_type": "code",
   "execution_count": 68,
   "id": "39e30f3b",
   "metadata": {},
   "outputs": [
    {
     "data": {
      "text/plain": [
       "13.859046630750527"
      ]
     },
     "execution_count": 68,
     "metadata": {},
     "output_type": "execute_result"
    }
   ],
   "source": [
    "ss_interval = b[1] - b[0]\n",
    "ss_interval"
   ]
  },
  {
   "cell_type": "code",
   "execution_count": null,
   "id": "46525a2a",
   "metadata": {},
   "outputs": [],
   "source": []
  }
 ],
 "metadata": {
  "kernelspec": {
   "display_name": "Python 3 (ipykernel)",
   "language": "python",
   "name": "python3"
  },
  "language_info": {
   "codemirror_mode": {
    "name": "ipython",
    "version": 3
   },
   "file_extension": ".py",
   "mimetype": "text/x-python",
   "name": "python",
   "nbconvert_exporter": "python",
   "pygments_lexer": "ipython3",
   "version": "3.11.2"
  }
 },
 "nbformat": 4,
 "nbformat_minor": 5
}
