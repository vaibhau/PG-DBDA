{
  "nbformat": 4,
  "nbformat_minor": 0,
  "metadata": {
    "colab": {
      "provenance": []
    },
    "kernelspec": {
      "name": "python3",
      "display_name": "Python 3"
    },
    "language_info": {
      "name": "python"
    }
  },
  "cells": [
    {
      "cell_type": "markdown",
      "source": [
        "# Numpy"
      ],
      "metadata": {
        "id": "QZUTHgEA3x7j"
      }
    },
    {
      "cell_type": "code",
      "execution_count": 1,
      "metadata": {
        "id": "Swib9O1f3xEw"
      },
      "outputs": [],
      "source": [
        "import numpy as np"
      ]
    },
    {
      "cell_type": "code",
      "source": [
        "my_list = [1,2,3,4]\n",
        "my_list"
      ],
      "metadata": {
        "colab": {
          "base_uri": "https://localhost:8080/"
        },
        "id": "sCqkpc4G4WZA",
        "outputId": "b1ef8d9c-3d18-4aee-a06c-3931f7ae10b5"
      },
      "execution_count": 2,
      "outputs": [
        {
          "output_type": "execute_result",
          "data": {
            "text/plain": [
              "[1, 2, 3, 4]"
            ]
          },
          "metadata": {},
          "execution_count": 2
        }
      ]
    },
    {
      "cell_type": "code",
      "source": [
        "#convert list into array\n",
        "list1 = np.array(my_list)\n",
        "list1"
      ],
      "metadata": {
        "colab": {
          "base_uri": "https://localhost:8080/"
        },
        "id": "W214oR194Ze8",
        "outputId": "46a3df6d-3a00-4b5e-a4a1-50d92e193d28"
      },
      "execution_count": 3,
      "outputs": [
        {
          "output_type": "execute_result",
          "data": {
            "text/plain": [
              "array([1, 2, 3, 4])"
            ]
          },
          "metadata": {},
          "execution_count": 3
        }
      ]
    },
    {
      "cell_type": "code",
      "source": [
        "my_list2 = np.array(range(1,5))\n",
        "my_list2"
      ],
      "metadata": {
        "colab": {
          "base_uri": "https://localhost:8080/"
        },
        "id": "dCMdCuLh4dsM",
        "outputId": "c8c590bb-8292-41c2-a10e-431a757188e1"
      },
      "execution_count": 4,
      "outputs": [
        {
          "output_type": "execute_result",
          "data": {
            "text/plain": [
              "array([1, 2, 3, 4])"
            ]
          },
          "metadata": {},
          "execution_count": 4
        }
      ]
    },
    {
      "cell_type": "code",
      "source": [
        "#printing the dimensions of the array\n"
      ],
      "metadata": {
        "id": "BHbdnHUo4jKR"
      },
      "execution_count": 5,
      "outputs": []
    },
    {
      "cell_type": "code",
      "source": [
        "# 1D array\n",
        "a = np.array([1,2,3])\n",
        "a"
      ],
      "metadata": {
        "colab": {
          "base_uri": "https://localhost:8080/"
        },
        "id": "ogMkDe-04lfK",
        "outputId": "8b063be6-4153-4c02-e701-97a6e008a692"
      },
      "execution_count": 6,
      "outputs": [
        {
          "output_type": "execute_result",
          "data": {
            "text/plain": [
              "array([1, 2, 3])"
            ]
          },
          "metadata": {},
          "execution_count": 6
        }
      ]
    },
    {
      "cell_type": "code",
      "source": [
        "# 2D array\n",
        "b = np.array([[9,8,7],[6,5,4]])\n",
        "b"
      ],
      "metadata": {
        "colab": {
          "base_uri": "https://localhost:8080/"
        },
        "id": "Sv5vqyC94m3Z",
        "outputId": "9680eb0c-21a4-4842-c9e1-a819eeb80898"
      },
      "execution_count": 7,
      "outputs": [
        {
          "output_type": "execute_result",
          "data": {
            "text/plain": [
              "array([[9, 8, 7],\n",
              "       [6, 5, 4]])"
            ]
          },
          "metadata": {},
          "execution_count": 7
        }
      ]
    },
    {
      "cell_type": "code",
      "source": [
        "#float array\n",
        "c = np.array([[9.1,3.4,3.2],[6.7,9.6,5.8]])\n",
        "c"
      ],
      "metadata": {
        "colab": {
          "base_uri": "https://localhost:8080/"
        },
        "id": "k47YBamw4ohp",
        "outputId": "eed337d1-080b-424e-e991-dd11282b1b5e"
      },
      "execution_count": 8,
      "outputs": [
        {
          "output_type": "execute_result",
          "data": {
            "text/plain": [
              "array([[9.1, 3.4, 3.2],\n",
              "       [6.7, 9.6, 5.8]])"
            ]
          },
          "metadata": {},
          "execution_count": 8
        }
      ]
    },
    {
      "cell_type": "code",
      "source": [
        "matrix = [[1,2,3],[4,5,6],[7,8,9]]\n",
        "matrix #list of list"
      ],
      "metadata": {
        "colab": {
          "base_uri": "https://localhost:8080/"
        },
        "id": "KWZJdipe4pxY",
        "outputId": "b3ccb8f0-fb52-46a0-f84f-8799842ff337"
      },
      "execution_count": 9,
      "outputs": [
        {
          "output_type": "execute_result",
          "data": {
            "text/plain": [
              "[[1, 2, 3], [4, 5, 6], [7, 8, 9]]"
            ]
          },
          "metadata": {},
          "execution_count": 9
        }
      ]
    },
    {
      "cell_type": "code",
      "source": [
        "a.shape"
      ],
      "metadata": {
        "colab": {
          "base_uri": "https://localhost:8080/"
        },
        "id": "j3ZLkv_g4rVv",
        "outputId": "a81d26ab-1a19-43ab-dd5d-7195a40b11e6"
      },
      "execution_count": 10,
      "outputs": [
        {
          "output_type": "execute_result",
          "data": {
            "text/plain": [
              "(3,)"
            ]
          },
          "metadata": {},
          "execution_count": 10
        }
      ]
    },
    {
      "cell_type": "code",
      "source": [
        "#to check the size of the array in bytes\n",
        "a.nbytes"
      ],
      "metadata": {
        "colab": {
          "base_uri": "https://localhost:8080/"
        },
        "id": "H81LJsrj4sjN",
        "outputId": "2177586a-926f-45c5-a87e-03116d94548e"
      },
      "execution_count": 11,
      "outputs": [
        {
          "output_type": "execute_result",
          "data": {
            "text/plain": [
              "24"
            ]
          },
          "metadata": {},
          "execution_count": 11
        }
      ]
    },
    {
      "cell_type": "code",
      "source": [
        "np.array([[True,False],[False,True]])"
      ],
      "metadata": {
        "colab": {
          "base_uri": "https://localhost:8080/"
        },
        "id": "G7tJW0nf4t4H",
        "outputId": "efc40abc-416f-48e3-b50f-bade502b4108"
      },
      "execution_count": 12,
      "outputs": [
        {
          "output_type": "execute_result",
          "data": {
            "text/plain": [
              "array([[ True, False],\n",
              "       [False,  True]])"
            ]
          },
          "metadata": {},
          "execution_count": 12
        }
      ]
    },
    {
      "cell_type": "code",
      "source": [
        "x = np.array([1,2,3], dtype = 'int32')\n",
        "x"
      ],
      "metadata": {
        "colab": {
          "base_uri": "https://localhost:8080/"
        },
        "id": "iPL4fidv4vKv",
        "outputId": "22331ca5-25a7-463e-9b8a-b588e7188296"
      },
      "execution_count": 13,
      "outputs": [
        {
          "output_type": "execute_result",
          "data": {
            "text/plain": [
              "array([1, 2, 3], dtype=int32)"
            ]
          },
          "metadata": {},
          "execution_count": 13
        }
      ]
    },
    {
      "cell_type": "code",
      "source": [
        "type(x)"
      ],
      "metadata": {
        "colab": {
          "base_uri": "https://localhost:8080/"
        },
        "id": "n-uUt9Pk4wmr",
        "outputId": "66983bb5-35c6-4ea2-b0a1-cf7e6c2bd37e"
      },
      "execution_count": 14,
      "outputs": [
        {
          "output_type": "execute_result",
          "data": {
            "text/plain": [
              "numpy.ndarray"
            ]
          },
          "metadata": {},
          "execution_count": 14
        }
      ]
    },
    {
      "cell_type": "code",
      "source": [
        "x.dtype"
      ],
      "metadata": {
        "colab": {
          "base_uri": "https://localhost:8080/"
        },
        "id": "kTcYNldn4x-o",
        "outputId": "ca4a982d-5aab-4bfe-cb27-4c688803b0b2"
      },
      "execution_count": 15,
      "outputs": [
        {
          "output_type": "execute_result",
          "data": {
            "text/plain": [
              "dtype('int32')"
            ]
          },
          "metadata": {},
          "execution_count": 15
        }
      ]
    },
    {
      "cell_type": "code",
      "source": [
        "#Random number\n",
        "np.random.rand(4,2)"
      ],
      "metadata": {
        "colab": {
          "base_uri": "https://localhost:8080/"
        },
        "id": "Yn5GhKCr4z0W",
        "outputId": "821942fe-56b1-4b0a-ba9f-4bb0bd135f73"
      },
      "execution_count": 16,
      "outputs": [
        {
          "output_type": "execute_result",
          "data": {
            "text/plain": [
              "array([[0.98932827, 0.98916903],\n",
              "       [0.25120361, 0.35067577],\n",
              "       [0.17790079, 0.30893899],\n",
              "       [0.52658381, 0.21974016]])"
            ]
          },
          "metadata": {},
          "execution_count": 16
        }
      ]
    },
    {
      "cell_type": "code",
      "source": [
        "np.random.randn(3)"
      ],
      "metadata": {
        "colab": {
          "base_uri": "https://localhost:8080/"
        },
        "id": "SnxAPWln41SL",
        "outputId": "67727aa7-da2a-4a20-fb18-65d7af375545"
      },
      "execution_count": 17,
      "outputs": [
        {
          "output_type": "execute_result",
          "data": {
            "text/plain": [
              "array([-0.78393755, -0.28506896,  0.66262574])"
            ]
          },
          "metadata": {},
          "execution_count": 17
        }
      ]
    },
    {
      "cell_type": "code",
      "source": [
        "r = np.random.randint(1,200,10)\n",
        "r\n",
        "#generates random integer between the range"
      ],
      "metadata": {
        "colab": {
          "base_uri": "https://localhost:8080/"
        },
        "id": "cc0GDmdZ42qm",
        "outputId": "d913ad77-4c3e-4f44-b441-640e4b4c0d53"
      },
      "execution_count": 18,
      "outputs": [
        {
          "output_type": "execute_result",
          "data": {
            "text/plain": [
              "array([101, 103,  56, 105,  76, 125,  60, 117,  24,  82])"
            ]
          },
          "metadata": {},
          "execution_count": 18
        }
      ]
    },
    {
      "cell_type": "code",
      "source": [
        "r.max()"
      ],
      "metadata": {
        "colab": {
          "base_uri": "https://localhost:8080/"
        },
        "id": "AOaShMNW44Dn",
        "outputId": "4d4d66d6-25b6-48ec-a255-10d9bc6a9b1e"
      },
      "execution_count": 19,
      "outputs": [
        {
          "output_type": "execute_result",
          "data": {
            "text/plain": [
              "125"
            ]
          },
          "metadata": {},
          "execution_count": 19
        }
      ]
    },
    {
      "cell_type": "code",
      "source": [
        "np.identity(1)"
      ],
      "metadata": {
        "colab": {
          "base_uri": "https://localhost:8080/"
        },
        "id": "EQEwiIpx45q6",
        "outputId": "235e8dab-94d8-4ecd-f98b-4cd220aae179"
      },
      "execution_count": 20,
      "outputs": [
        {
          "output_type": "execute_result",
          "data": {
            "text/plain": [
              "array([[1.]])"
            ]
          },
          "metadata": {},
          "execution_count": 20
        }
      ]
    },
    {
      "cell_type": "code",
      "source": [
        "np.identity(2)"
      ],
      "metadata": {
        "colab": {
          "base_uri": "https://localhost:8080/"
        },
        "id": "atLgzNQZ460-",
        "outputId": "65e5fc07-a9c0-42f8-8d8f-064d6093aa1a"
      },
      "execution_count": 21,
      "outputs": [
        {
          "output_type": "execute_result",
          "data": {
            "text/plain": [
              "array([[1., 0.],\n",
              "       [0., 1.]])"
            ]
          },
          "metadata": {},
          "execution_count": 21
        }
      ]
    },
    {
      "cell_type": "code",
      "source": [
        "m = np.array([1,2,3])\n",
        "m"
      ],
      "metadata": {
        "colab": {
          "base_uri": "https://localhost:8080/"
        },
        "id": "UAf4r7qF48Aj",
        "outputId": "f6f4d9ff-97ea-4377-c47d-79dcf9014d77"
      },
      "execution_count": 22,
      "outputs": [
        {
          "output_type": "execute_result",
          "data": {
            "text/plain": [
              "array([1, 2, 3])"
            ]
          },
          "metadata": {},
          "execution_count": 22
        }
      ]
    },
    {
      "cell_type": "code",
      "source": [
        "m+2"
      ],
      "metadata": {
        "colab": {
          "base_uri": "https://localhost:8080/"
        },
        "id": "NX7kKT_V49p3",
        "outputId": "690ab84f-97b7-4338-82d8-4c89e24c04eb"
      },
      "execution_count": 23,
      "outputs": [
        {
          "output_type": "execute_result",
          "data": {
            "text/plain": [
              "array([3, 4, 5])"
            ]
          },
          "metadata": {},
          "execution_count": 23
        }
      ]
    },
    {
      "cell_type": "code",
      "source": [
        "m*2"
      ],
      "metadata": {
        "colab": {
          "base_uri": "https://localhost:8080/"
        },
        "id": "lpIxSF7q5DvB",
        "outputId": "784ada3b-e113-424a-e82d-8230992abf25"
      },
      "execution_count": 24,
      "outputs": [
        {
          "output_type": "execute_result",
          "data": {
            "text/plain": [
              "array([2, 4, 6])"
            ]
          },
          "metadata": {},
          "execution_count": 24
        }
      ]
    },
    {
      "cell_type": "code",
      "source": [
        "m+m"
      ],
      "metadata": {
        "colab": {
          "base_uri": "https://localhost:8080/"
        },
        "id": "wcVWRc455JzV",
        "outputId": "db848fef-84bd-47d5-ad81-cae6d1c00844"
      },
      "execution_count": 25,
      "outputs": [
        {
          "output_type": "execute_result",
          "data": {
            "text/plain": [
              "array([2, 4, 6])"
            ]
          },
          "metadata": {},
          "execution_count": 25
        }
      ]
    },
    {
      "cell_type": "code",
      "source": [
        "m**3"
      ],
      "metadata": {
        "colab": {
          "base_uri": "https://localhost:8080/"
        },
        "id": "B6deQOYc5LoD",
        "outputId": "e2854cc0-e757-4661-e0a5-428cf6d47739"
      },
      "execution_count": 26,
      "outputs": [
        {
          "output_type": "execute_result",
          "data": {
            "text/plain": [
              "array([ 1,  8, 27])"
            ]
          },
          "metadata": {},
          "execution_count": 26
        }
      ]
    },
    {
      "cell_type": "code",
      "source": [
        "#sqaure root\n",
        "m**0.5"
      ],
      "metadata": {
        "colab": {
          "base_uri": "https://localhost:8080/"
        },
        "id": "AN2qEctE5M8M",
        "outputId": "079e0c2d-21f2-4418-de70-f4b7e7803b99"
      },
      "execution_count": 27,
      "outputs": [
        {
          "output_type": "execute_result",
          "data": {
            "text/plain": [
              "array([1.        , 1.41421356, 1.73205081])"
            ]
          },
          "metadata": {},
          "execution_count": 27
        }
      ]
    },
    {
      "cell_type": "code",
      "source": [
        "np.sqrt(m)"
      ],
      "metadata": {
        "colab": {
          "base_uri": "https://localhost:8080/"
        },
        "id": "rlLhvGy55QUp",
        "outputId": "37b1bd35-aa90-45ae-ee59-9371e131c2c7"
      },
      "execution_count": 28,
      "outputs": [
        {
          "output_type": "execute_result",
          "data": {
            "text/plain": [
              "array([1.        , 1.41421356, 1.73205081])"
            ]
          },
          "metadata": {},
          "execution_count": 28
        }
      ]
    },
    {
      "cell_type": "code",
      "source": [
        "np.exp(m)"
      ],
      "metadata": {
        "colab": {
          "base_uri": "https://localhost:8080/"
        },
        "id": "ULaPeC0e5RrQ",
        "outputId": "b2678169-597a-48a0-ef42-9db78c787092"
      },
      "execution_count": 29,
      "outputs": [
        {
          "output_type": "execute_result",
          "data": {
            "text/plain": [
              "array([ 2.71828183,  7.3890561 , 20.08553692])"
            ]
          },
          "metadata": {},
          "execution_count": 29
        }
      ]
    },
    {
      "cell_type": "markdown",
      "source": [
        "# Pandas"
      ],
      "metadata": {
        "id": "hYqId8pb5Tbi"
      }
    },
    {
      "cell_type": "code",
      "source": [
        "import pandas as pd\n",
        "#1. Series\n",
        "#2. Data Frame"
      ],
      "metadata": {
        "id": "UoFSvb1V5XSs"
      },
      "execution_count": 30,
      "outputs": []
    },
    {
      "cell_type": "code",
      "source": [
        "#creating series\n",
        "s = pd.Series([1,'vaibhav',2,'tejaa',3,'surya',4,'preeti',5,'yogi'])\n",
        "s"
      ],
      "metadata": {
        "colab": {
          "base_uri": "https://localhost:8080/"
        },
        "id": "lLzh4BlI5Y0D",
        "outputId": "9e2bbfc8-fa26-4366-bde2-304e87e3c674"
      },
      "execution_count": 31,
      "outputs": [
        {
          "output_type": "execute_result",
          "data": {
            "text/plain": [
              "0          1\n",
              "1    vaibhav\n",
              "2          2\n",
              "3      tejaa\n",
              "4          3\n",
              "5      surya\n",
              "6          4\n",
              "7     preeti\n",
              "8          5\n",
              "9       yogi\n",
              "dtype: object"
            ]
          },
          "metadata": {},
          "execution_count": 31
        }
      ]
    },
    {
      "cell_type": "code",
      "source": [
        "score = {'jane':90,'bill':80,'elon':85,'tom':75,'tim':95}\n",
        "names = pd.Series(score)\n",
        "names"
      ],
      "metadata": {
        "colab": {
          "base_uri": "https://localhost:8080/"
        },
        "id": "qj_cl4c45dlG",
        "outputId": "3d13a8fe-7959-43ea-c6b1-8d8836b263ee"
      },
      "execution_count": 32,
      "outputs": [
        {
          "output_type": "execute_result",
          "data": {
            "text/plain": [
              "jane    90\n",
              "bill    80\n",
              "elon    85\n",
              "tom     75\n",
              "tim     95\n",
              "dtype: int64"
            ]
          },
          "metadata": {},
          "execution_count": 32
        }
      ]
    },
    {
      "cell_type": "code",
      "source": [
        "names[names < 80]"
      ],
      "metadata": {
        "colab": {
          "base_uri": "https://localhost:8080/"
        },
        "id": "Mz_rviOt5n0I",
        "outputId": "b08ae914-6fa8-4ca6-cc5a-9fa83e3f5af7"
      },
      "execution_count": 33,
      "outputs": [
        {
          "output_type": "execute_result",
          "data": {
            "text/plain": [
              "tom    75\n",
              "dtype: int64"
            ]
          },
          "metadata": {},
          "execution_count": 33
        }
      ]
    },
    {
      "cell_type": "code",
      "source": [
        "names.isnull()"
      ],
      "metadata": {
        "colab": {
          "base_uri": "https://localhost:8080/"
        },
        "id": "lJVqCY165pN6",
        "outputId": "448e62e3-5b0e-4128-b935-d2e44eaf391c"
      },
      "execution_count": 34,
      "outputs": [
        {
          "output_type": "execute_result",
          "data": {
            "text/plain": [
              "jane    False\n",
              "bill    False\n",
              "elon    False\n",
              "tom     False\n",
              "tim     False\n",
              "dtype: bool"
            ]
          },
          "metadata": {},
          "execution_count": 34
        }
      ]
    },
    {
      "cell_type": "code",
      "source": [
        "df = pd.read_csv('nyc_weather.csv')"
      ],
      "metadata": {
        "id": "MGn2qT_i5qZB"
      },
      "execution_count": 36,
      "outputs": []
    },
    {
      "cell_type": "code",
      "source": [
        "df"
      ],
      "metadata": {
        "colab": {
          "base_uri": "https://localhost:8080/",
          "height": 1000
        },
        "id": "fYCA_Pi15xH5",
        "outputId": "6a9a928f-c2e7-41d9-ba3f-e8acc5131381"
      },
      "execution_count": 37,
      "outputs": [
        {
          "output_type": "execute_result",
          "data": {
            "text/plain": [
              "          EST  Temperature  DewPoint  Humidity  Sea Level PressureIn  \\\n",
              "0    1/1/2016           38        23        52                 30.03   \n",
              "1    1/2/2016           36        18        46                 30.02   \n",
              "2    1/3/2016           40        21        47                 29.86   \n",
              "3    1/4/2016           25         9        44                 30.05   \n",
              "4    1/5/2016           20        -3        41                 30.57   \n",
              "5    1/6/2016           33         4        35                 30.50   \n",
              "6    1/7/2016           39        11        33                 30.28   \n",
              "7    1/8/2016           39        29        64                 30.20   \n",
              "8    1/9/2016           44        38        77                 30.16   \n",
              "9   1/10/2016           50        46        71                 29.59   \n",
              "10  1/11/2016           33         8        37                 29.92   \n",
              "11  1/12/2016           35        15        53                 29.85   \n",
              "12  1/13/2016           26         4        42                 29.94   \n",
              "13  1/14/2016           30        12        47                 29.95   \n",
              "14  1/15/2016           43        31        62                 29.82   \n",
              "15  1/16/2016           47        37        70                 29.52   \n",
              "16  1/17/2016           36        23        66                 29.78   \n",
              "17  1/18/2016           25         6        53                 29.83   \n",
              "18  1/19/2016           22         3        42                 30.03   \n",
              "19  1/20/2016           32        15        49                 30.13   \n",
              "20  1/21/2016           31        11        45                 30.15   \n",
              "21  1/22/2016           26         6        41                 30.21   \n",
              "22  1/23/2016           26        21        78                 29.77   \n",
              "23  1/24/2016           28        11        53                 29.92   \n",
              "24  1/25/2016           34        18        54                 30.25   \n",
              "25  1/26/2016           43        29        56                 30.03   \n",
              "26  1/27/2016           41        22        45                 30.03   \n",
              "27  1/28/2016           37        20        51                 29.90   \n",
              "28  1/29/2016           36        21        50                 29.58   \n",
              "29  1/30/2016           34        16        46                 30.01   \n",
              "30  1/31/2016           46        28        52                 29.90   \n",
              "\n",
              "    VisibilityMiles  WindSpeedMPH PrecipitationIn  CloudCover    Events  \\\n",
              "0                10           8.0               0           5       NaN   \n",
              "1                10           7.0               0           3       NaN   \n",
              "2                10           8.0               0           1       NaN   \n",
              "3                10           9.0               0           3       NaN   \n",
              "4                10           5.0               0           0       NaN   \n",
              "5                10           4.0               0           0       NaN   \n",
              "6                10           2.0               0           3       NaN   \n",
              "7                10           4.0               0           8       NaN   \n",
              "8                 9           8.0               T           8      Rain   \n",
              "9                 4           NaN             1.8           7      Rain   \n",
              "10               10           NaN               0           1       NaN   \n",
              "11               10           6.0               T           4       NaN   \n",
              "12               10          10.0               0           0       NaN   \n",
              "13               10           5.0               T           7       NaN   \n",
              "14                9           5.0               T           2       NaN   \n",
              "15                8           7.0            0.24           7      Rain   \n",
              "16                8           6.0            0.05           6  Fog-Snow   \n",
              "17                9          12.0               T           2      Snow   \n",
              "18               10          11.0               0           1       NaN   \n",
              "19               10           6.0               0           2       NaN   \n",
              "20               10           6.0               0           1       NaN   \n",
              "21                9           NaN            0.01           3      Snow   \n",
              "22                1          16.0            2.31           8  Fog-Snow   \n",
              "23                8           6.0               T           3      Snow   \n",
              "24               10           3.0               0           2       NaN   \n",
              "25               10           7.0               0           2       NaN   \n",
              "26               10           7.0               T           3      Rain   \n",
              "27               10           5.0               0           1       NaN   \n",
              "28               10           8.0               0           4       NaN   \n",
              "29               10           7.0               0           0       NaN   \n",
              "30               10           5.0               0           0       NaN   \n",
              "\n",
              "    WindDirDegrees  \n",
              "0              281  \n",
              "1              275  \n",
              "2              277  \n",
              "3              345  \n",
              "4              333  \n",
              "5              259  \n",
              "6              293  \n",
              "7               79  \n",
              "8               76  \n",
              "9              109  \n",
              "10             289  \n",
              "11             235  \n",
              "12             284  \n",
              "13             266  \n",
              "14             101  \n",
              "15             340  \n",
              "16             345  \n",
              "17             293  \n",
              "18             293  \n",
              "19             302  \n",
              "20             312  \n",
              "21              34  \n",
              "22              42  \n",
              "23             327  \n",
              "24             286  \n",
              "25             244  \n",
              "26             311  \n",
              "27             234  \n",
              "28             298  \n",
              "29             257  \n",
              "30             241  "
            ],
            "text/html": [
              "\n",
              "\n",
              "  <div id=\"df-9630dbe5-4810-4dc4-ba4e-5e8a56bbacd8\">\n",
              "    <div class=\"colab-df-container\">\n",
              "      <div>\n",
              "<style scoped>\n",
              "    .dataframe tbody tr th:only-of-type {\n",
              "        vertical-align: middle;\n",
              "    }\n",
              "\n",
              "    .dataframe tbody tr th {\n",
              "        vertical-align: top;\n",
              "    }\n",
              "\n",
              "    .dataframe thead th {\n",
              "        text-align: right;\n",
              "    }\n",
              "</style>\n",
              "<table border=\"1\" class=\"dataframe\">\n",
              "  <thead>\n",
              "    <tr style=\"text-align: right;\">\n",
              "      <th></th>\n",
              "      <th>EST</th>\n",
              "      <th>Temperature</th>\n",
              "      <th>DewPoint</th>\n",
              "      <th>Humidity</th>\n",
              "      <th>Sea Level PressureIn</th>\n",
              "      <th>VisibilityMiles</th>\n",
              "      <th>WindSpeedMPH</th>\n",
              "      <th>PrecipitationIn</th>\n",
              "      <th>CloudCover</th>\n",
              "      <th>Events</th>\n",
              "      <th>WindDirDegrees</th>\n",
              "    </tr>\n",
              "  </thead>\n",
              "  <tbody>\n",
              "    <tr>\n",
              "      <th>0</th>\n",
              "      <td>1/1/2016</td>\n",
              "      <td>38</td>\n",
              "      <td>23</td>\n",
              "      <td>52</td>\n",
              "      <td>30.03</td>\n",
              "      <td>10</td>\n",
              "      <td>8.0</td>\n",
              "      <td>0</td>\n",
              "      <td>5</td>\n",
              "      <td>NaN</td>\n",
              "      <td>281</td>\n",
              "    </tr>\n",
              "    <tr>\n",
              "      <th>1</th>\n",
              "      <td>1/2/2016</td>\n",
              "      <td>36</td>\n",
              "      <td>18</td>\n",
              "      <td>46</td>\n",
              "      <td>30.02</td>\n",
              "      <td>10</td>\n",
              "      <td>7.0</td>\n",
              "      <td>0</td>\n",
              "      <td>3</td>\n",
              "      <td>NaN</td>\n",
              "      <td>275</td>\n",
              "    </tr>\n",
              "    <tr>\n",
              "      <th>2</th>\n",
              "      <td>1/3/2016</td>\n",
              "      <td>40</td>\n",
              "      <td>21</td>\n",
              "      <td>47</td>\n",
              "      <td>29.86</td>\n",
              "      <td>10</td>\n",
              "      <td>8.0</td>\n",
              "      <td>0</td>\n",
              "      <td>1</td>\n",
              "      <td>NaN</td>\n",
              "      <td>277</td>\n",
              "    </tr>\n",
              "    <tr>\n",
              "      <th>3</th>\n",
              "      <td>1/4/2016</td>\n",
              "      <td>25</td>\n",
              "      <td>9</td>\n",
              "      <td>44</td>\n",
              "      <td>30.05</td>\n",
              "      <td>10</td>\n",
              "      <td>9.0</td>\n",
              "      <td>0</td>\n",
              "      <td>3</td>\n",
              "      <td>NaN</td>\n",
              "      <td>345</td>\n",
              "    </tr>\n",
              "    <tr>\n",
              "      <th>4</th>\n",
              "      <td>1/5/2016</td>\n",
              "      <td>20</td>\n",
              "      <td>-3</td>\n",
              "      <td>41</td>\n",
              "      <td>30.57</td>\n",
              "      <td>10</td>\n",
              "      <td>5.0</td>\n",
              "      <td>0</td>\n",
              "      <td>0</td>\n",
              "      <td>NaN</td>\n",
              "      <td>333</td>\n",
              "    </tr>\n",
              "    <tr>\n",
              "      <th>5</th>\n",
              "      <td>1/6/2016</td>\n",
              "      <td>33</td>\n",
              "      <td>4</td>\n",
              "      <td>35</td>\n",
              "      <td>30.50</td>\n",
              "      <td>10</td>\n",
              "      <td>4.0</td>\n",
              "      <td>0</td>\n",
              "      <td>0</td>\n",
              "      <td>NaN</td>\n",
              "      <td>259</td>\n",
              "    </tr>\n",
              "    <tr>\n",
              "      <th>6</th>\n",
              "      <td>1/7/2016</td>\n",
              "      <td>39</td>\n",
              "      <td>11</td>\n",
              "      <td>33</td>\n",
              "      <td>30.28</td>\n",
              "      <td>10</td>\n",
              "      <td>2.0</td>\n",
              "      <td>0</td>\n",
              "      <td>3</td>\n",
              "      <td>NaN</td>\n",
              "      <td>293</td>\n",
              "    </tr>\n",
              "    <tr>\n",
              "      <th>7</th>\n",
              "      <td>1/8/2016</td>\n",
              "      <td>39</td>\n",
              "      <td>29</td>\n",
              "      <td>64</td>\n",
              "      <td>30.20</td>\n",
              "      <td>10</td>\n",
              "      <td>4.0</td>\n",
              "      <td>0</td>\n",
              "      <td>8</td>\n",
              "      <td>NaN</td>\n",
              "      <td>79</td>\n",
              "    </tr>\n",
              "    <tr>\n",
              "      <th>8</th>\n",
              "      <td>1/9/2016</td>\n",
              "      <td>44</td>\n",
              "      <td>38</td>\n",
              "      <td>77</td>\n",
              "      <td>30.16</td>\n",
              "      <td>9</td>\n",
              "      <td>8.0</td>\n",
              "      <td>T</td>\n",
              "      <td>8</td>\n",
              "      <td>Rain</td>\n",
              "      <td>76</td>\n",
              "    </tr>\n",
              "    <tr>\n",
              "      <th>9</th>\n",
              "      <td>1/10/2016</td>\n",
              "      <td>50</td>\n",
              "      <td>46</td>\n",
              "      <td>71</td>\n",
              "      <td>29.59</td>\n",
              "      <td>4</td>\n",
              "      <td>NaN</td>\n",
              "      <td>1.8</td>\n",
              "      <td>7</td>\n",
              "      <td>Rain</td>\n",
              "      <td>109</td>\n",
              "    </tr>\n",
              "    <tr>\n",
              "      <th>10</th>\n",
              "      <td>1/11/2016</td>\n",
              "      <td>33</td>\n",
              "      <td>8</td>\n",
              "      <td>37</td>\n",
              "      <td>29.92</td>\n",
              "      <td>10</td>\n",
              "      <td>NaN</td>\n",
              "      <td>0</td>\n",
              "      <td>1</td>\n",
              "      <td>NaN</td>\n",
              "      <td>289</td>\n",
              "    </tr>\n",
              "    <tr>\n",
              "      <th>11</th>\n",
              "      <td>1/12/2016</td>\n",
              "      <td>35</td>\n",
              "      <td>15</td>\n",
              "      <td>53</td>\n",
              "      <td>29.85</td>\n",
              "      <td>10</td>\n",
              "      <td>6.0</td>\n",
              "      <td>T</td>\n",
              "      <td>4</td>\n",
              "      <td>NaN</td>\n",
              "      <td>235</td>\n",
              "    </tr>\n",
              "    <tr>\n",
              "      <th>12</th>\n",
              "      <td>1/13/2016</td>\n",
              "      <td>26</td>\n",
              "      <td>4</td>\n",
              "      <td>42</td>\n",
              "      <td>29.94</td>\n",
              "      <td>10</td>\n",
              "      <td>10.0</td>\n",
              "      <td>0</td>\n",
              "      <td>0</td>\n",
              "      <td>NaN</td>\n",
              "      <td>284</td>\n",
              "    </tr>\n",
              "    <tr>\n",
              "      <th>13</th>\n",
              "      <td>1/14/2016</td>\n",
              "      <td>30</td>\n",
              "      <td>12</td>\n",
              "      <td>47</td>\n",
              "      <td>29.95</td>\n",
              "      <td>10</td>\n",
              "      <td>5.0</td>\n",
              "      <td>T</td>\n",
              "      <td>7</td>\n",
              "      <td>NaN</td>\n",
              "      <td>266</td>\n",
              "    </tr>\n",
              "    <tr>\n",
              "      <th>14</th>\n",
              "      <td>1/15/2016</td>\n",
              "      <td>43</td>\n",
              "      <td>31</td>\n",
              "      <td>62</td>\n",
              "      <td>29.82</td>\n",
              "      <td>9</td>\n",
              "      <td>5.0</td>\n",
              "      <td>T</td>\n",
              "      <td>2</td>\n",
              "      <td>NaN</td>\n",
              "      <td>101</td>\n",
              "    </tr>\n",
              "    <tr>\n",
              "      <th>15</th>\n",
              "      <td>1/16/2016</td>\n",
              "      <td>47</td>\n",
              "      <td>37</td>\n",
              "      <td>70</td>\n",
              "      <td>29.52</td>\n",
              "      <td>8</td>\n",
              "      <td>7.0</td>\n",
              "      <td>0.24</td>\n",
              "      <td>7</td>\n",
              "      <td>Rain</td>\n",
              "      <td>340</td>\n",
              "    </tr>\n",
              "    <tr>\n",
              "      <th>16</th>\n",
              "      <td>1/17/2016</td>\n",
              "      <td>36</td>\n",
              "      <td>23</td>\n",
              "      <td>66</td>\n",
              "      <td>29.78</td>\n",
              "      <td>8</td>\n",
              "      <td>6.0</td>\n",
              "      <td>0.05</td>\n",
              "      <td>6</td>\n",
              "      <td>Fog-Snow</td>\n",
              "      <td>345</td>\n",
              "    </tr>\n",
              "    <tr>\n",
              "      <th>17</th>\n",
              "      <td>1/18/2016</td>\n",
              "      <td>25</td>\n",
              "      <td>6</td>\n",
              "      <td>53</td>\n",
              "      <td>29.83</td>\n",
              "      <td>9</td>\n",
              "      <td>12.0</td>\n",
              "      <td>T</td>\n",
              "      <td>2</td>\n",
              "      <td>Snow</td>\n",
              "      <td>293</td>\n",
              "    </tr>\n",
              "    <tr>\n",
              "      <th>18</th>\n",
              "      <td>1/19/2016</td>\n",
              "      <td>22</td>\n",
              "      <td>3</td>\n",
              "      <td>42</td>\n",
              "      <td>30.03</td>\n",
              "      <td>10</td>\n",
              "      <td>11.0</td>\n",
              "      <td>0</td>\n",
              "      <td>1</td>\n",
              "      <td>NaN</td>\n",
              "      <td>293</td>\n",
              "    </tr>\n",
              "    <tr>\n",
              "      <th>19</th>\n",
              "      <td>1/20/2016</td>\n",
              "      <td>32</td>\n",
              "      <td>15</td>\n",
              "      <td>49</td>\n",
              "      <td>30.13</td>\n",
              "      <td>10</td>\n",
              "      <td>6.0</td>\n",
              "      <td>0</td>\n",
              "      <td>2</td>\n",
              "      <td>NaN</td>\n",
              "      <td>302</td>\n",
              "    </tr>\n",
              "    <tr>\n",
              "      <th>20</th>\n",
              "      <td>1/21/2016</td>\n",
              "      <td>31</td>\n",
              "      <td>11</td>\n",
              "      <td>45</td>\n",
              "      <td>30.15</td>\n",
              "      <td>10</td>\n",
              "      <td>6.0</td>\n",
              "      <td>0</td>\n",
              "      <td>1</td>\n",
              "      <td>NaN</td>\n",
              "      <td>312</td>\n",
              "    </tr>\n",
              "    <tr>\n",
              "      <th>21</th>\n",
              "      <td>1/22/2016</td>\n",
              "      <td>26</td>\n",
              "      <td>6</td>\n",
              "      <td>41</td>\n",
              "      <td>30.21</td>\n",
              "      <td>9</td>\n",
              "      <td>NaN</td>\n",
              "      <td>0.01</td>\n",
              "      <td>3</td>\n",
              "      <td>Snow</td>\n",
              "      <td>34</td>\n",
              "    </tr>\n",
              "    <tr>\n",
              "      <th>22</th>\n",
              "      <td>1/23/2016</td>\n",
              "      <td>26</td>\n",
              "      <td>21</td>\n",
              "      <td>78</td>\n",
              "      <td>29.77</td>\n",
              "      <td>1</td>\n",
              "      <td>16.0</td>\n",
              "      <td>2.31</td>\n",
              "      <td>8</td>\n",
              "      <td>Fog-Snow</td>\n",
              "      <td>42</td>\n",
              "    </tr>\n",
              "    <tr>\n",
              "      <th>23</th>\n",
              "      <td>1/24/2016</td>\n",
              "      <td>28</td>\n",
              "      <td>11</td>\n",
              "      <td>53</td>\n",
              "      <td>29.92</td>\n",
              "      <td>8</td>\n",
              "      <td>6.0</td>\n",
              "      <td>T</td>\n",
              "      <td>3</td>\n",
              "      <td>Snow</td>\n",
              "      <td>327</td>\n",
              "    </tr>\n",
              "    <tr>\n",
              "      <th>24</th>\n",
              "      <td>1/25/2016</td>\n",
              "      <td>34</td>\n",
              "      <td>18</td>\n",
              "      <td>54</td>\n",
              "      <td>30.25</td>\n",
              "      <td>10</td>\n",
              "      <td>3.0</td>\n",
              "      <td>0</td>\n",
              "      <td>2</td>\n",
              "      <td>NaN</td>\n",
              "      <td>286</td>\n",
              "    </tr>\n",
              "    <tr>\n",
              "      <th>25</th>\n",
              "      <td>1/26/2016</td>\n",
              "      <td>43</td>\n",
              "      <td>29</td>\n",
              "      <td>56</td>\n",
              "      <td>30.03</td>\n",
              "      <td>10</td>\n",
              "      <td>7.0</td>\n",
              "      <td>0</td>\n",
              "      <td>2</td>\n",
              "      <td>NaN</td>\n",
              "      <td>244</td>\n",
              "    </tr>\n",
              "    <tr>\n",
              "      <th>26</th>\n",
              "      <td>1/27/2016</td>\n",
              "      <td>41</td>\n",
              "      <td>22</td>\n",
              "      <td>45</td>\n",
              "      <td>30.03</td>\n",
              "      <td>10</td>\n",
              "      <td>7.0</td>\n",
              "      <td>T</td>\n",
              "      <td>3</td>\n",
              "      <td>Rain</td>\n",
              "      <td>311</td>\n",
              "    </tr>\n",
              "    <tr>\n",
              "      <th>27</th>\n",
              "      <td>1/28/2016</td>\n",
              "      <td>37</td>\n",
              "      <td>20</td>\n",
              "      <td>51</td>\n",
              "      <td>29.90</td>\n",
              "      <td>10</td>\n",
              "      <td>5.0</td>\n",
              "      <td>0</td>\n",
              "      <td>1</td>\n",
              "      <td>NaN</td>\n",
              "      <td>234</td>\n",
              "    </tr>\n",
              "    <tr>\n",
              "      <th>28</th>\n",
              "      <td>1/29/2016</td>\n",
              "      <td>36</td>\n",
              "      <td>21</td>\n",
              "      <td>50</td>\n",
              "      <td>29.58</td>\n",
              "      <td>10</td>\n",
              "      <td>8.0</td>\n",
              "      <td>0</td>\n",
              "      <td>4</td>\n",
              "      <td>NaN</td>\n",
              "      <td>298</td>\n",
              "    </tr>\n",
              "    <tr>\n",
              "      <th>29</th>\n",
              "      <td>1/30/2016</td>\n",
              "      <td>34</td>\n",
              "      <td>16</td>\n",
              "      <td>46</td>\n",
              "      <td>30.01</td>\n",
              "      <td>10</td>\n",
              "      <td>7.0</td>\n",
              "      <td>0</td>\n",
              "      <td>0</td>\n",
              "      <td>NaN</td>\n",
              "      <td>257</td>\n",
              "    </tr>\n",
              "    <tr>\n",
              "      <th>30</th>\n",
              "      <td>1/31/2016</td>\n",
              "      <td>46</td>\n",
              "      <td>28</td>\n",
              "      <td>52</td>\n",
              "      <td>29.90</td>\n",
              "      <td>10</td>\n",
              "      <td>5.0</td>\n",
              "      <td>0</td>\n",
              "      <td>0</td>\n",
              "      <td>NaN</td>\n",
              "      <td>241</td>\n",
              "    </tr>\n",
              "  </tbody>\n",
              "</table>\n",
              "</div>\n",
              "      <button class=\"colab-df-convert\" onclick=\"convertToInteractive('df-9630dbe5-4810-4dc4-ba4e-5e8a56bbacd8')\"\n",
              "              title=\"Convert this dataframe to an interactive table.\"\n",
              "              style=\"display:none;\">\n",
              "\n",
              "  <svg xmlns=\"http://www.w3.org/2000/svg\" height=\"24px\"viewBox=\"0 0 24 24\"\n",
              "       width=\"24px\">\n",
              "    <path d=\"M0 0h24v24H0V0z\" fill=\"none\"/>\n",
              "    <path d=\"M18.56 5.44l.94 2.06.94-2.06 2.06-.94-2.06-.94-.94-2.06-.94 2.06-2.06.94zm-11 1L8.5 8.5l.94-2.06 2.06-.94-2.06-.94L8.5 2.5l-.94 2.06-2.06.94zm10 10l.94 2.06.94-2.06 2.06-.94-2.06-.94-.94-2.06-.94 2.06-2.06.94z\"/><path d=\"M17.41 7.96l-1.37-1.37c-.4-.4-.92-.59-1.43-.59-.52 0-1.04.2-1.43.59L10.3 9.45l-7.72 7.72c-.78.78-.78 2.05 0 2.83L4 21.41c.39.39.9.59 1.41.59.51 0 1.02-.2 1.41-.59l7.78-7.78 2.81-2.81c.8-.78.8-2.07 0-2.86zM5.41 20L4 18.59l7.72-7.72 1.47 1.35L5.41 20z\"/>\n",
              "  </svg>\n",
              "      </button>\n",
              "\n",
              "\n",
              "\n",
              "    <div id=\"df-c0c5d285-b6ee-4fc8-9f14-45a577a5dbec\">\n",
              "      <button class=\"colab-df-quickchart\" onclick=\"quickchart('df-c0c5d285-b6ee-4fc8-9f14-45a577a5dbec')\"\n",
              "              title=\"Suggest charts.\"\n",
              "              style=\"display:none;\">\n",
              "\n",
              "<svg xmlns=\"http://www.w3.org/2000/svg\" height=\"24px\"viewBox=\"0 0 24 24\"\n",
              "     width=\"24px\">\n",
              "    <g>\n",
              "        <path d=\"M19 3H5c-1.1 0-2 .9-2 2v14c0 1.1.9 2 2 2h14c1.1 0 2-.9 2-2V5c0-1.1-.9-2-2-2zM9 17H7v-7h2v7zm4 0h-2V7h2v10zm4 0h-2v-4h2v4z\"/>\n",
              "    </g>\n",
              "</svg>\n",
              "      </button>\n",
              "    </div>\n",
              "\n",
              "<style>\n",
              "  .colab-df-quickchart {\n",
              "    background-color: #E8F0FE;\n",
              "    border: none;\n",
              "    border-radius: 50%;\n",
              "    cursor: pointer;\n",
              "    display: none;\n",
              "    fill: #1967D2;\n",
              "    height: 32px;\n",
              "    padding: 0 0 0 0;\n",
              "    width: 32px;\n",
              "  }\n",
              "\n",
              "  .colab-df-quickchart:hover {\n",
              "    background-color: #E2EBFA;\n",
              "    box-shadow: 0px 1px 2px rgba(60, 64, 67, 0.3), 0px 1px 3px 1px rgba(60, 64, 67, 0.15);\n",
              "    fill: #174EA6;\n",
              "  }\n",
              "\n",
              "  [theme=dark] .colab-df-quickchart {\n",
              "    background-color: #3B4455;\n",
              "    fill: #D2E3FC;\n",
              "  }\n",
              "\n",
              "  [theme=dark] .colab-df-quickchart:hover {\n",
              "    background-color: #434B5C;\n",
              "    box-shadow: 0px 1px 3px 1px rgba(0, 0, 0, 0.15);\n",
              "    filter: drop-shadow(0px 1px 2px rgba(0, 0, 0, 0.3));\n",
              "    fill: #FFFFFF;\n",
              "  }\n",
              "</style>\n",
              "\n",
              "    <script>\n",
              "      async function quickchart(key) {\n",
              "        const containerElement = document.querySelector('#' + key);\n",
              "        const charts = await google.colab.kernel.invokeFunction(\n",
              "            'suggestCharts', [key], {});\n",
              "      }\n",
              "    </script>\n",
              "\n",
              "      <script>\n",
              "\n",
              "function displayQuickchartButton(domScope) {\n",
              "  let quickchartButtonEl =\n",
              "    domScope.querySelector('#df-c0c5d285-b6ee-4fc8-9f14-45a577a5dbec button.colab-df-quickchart');\n",
              "  quickchartButtonEl.style.display =\n",
              "    google.colab.kernel.accessAllowed ? 'block' : 'none';\n",
              "}\n",
              "\n",
              "        displayQuickchartButton(document);\n",
              "      </script>\n",
              "      <style>\n",
              "    .colab-df-container {\n",
              "      display:flex;\n",
              "      flex-wrap:wrap;\n",
              "      gap: 12px;\n",
              "    }\n",
              "\n",
              "    .colab-df-convert {\n",
              "      background-color: #E8F0FE;\n",
              "      border: none;\n",
              "      border-radius: 50%;\n",
              "      cursor: pointer;\n",
              "      display: none;\n",
              "      fill: #1967D2;\n",
              "      height: 32px;\n",
              "      padding: 0 0 0 0;\n",
              "      width: 32px;\n",
              "    }\n",
              "\n",
              "    .colab-df-convert:hover {\n",
              "      background-color: #E2EBFA;\n",
              "      box-shadow: 0px 1px 2px rgba(60, 64, 67, 0.3), 0px 1px 3px 1px rgba(60, 64, 67, 0.15);\n",
              "      fill: #174EA6;\n",
              "    }\n",
              "\n",
              "    [theme=dark] .colab-df-convert {\n",
              "      background-color: #3B4455;\n",
              "      fill: #D2E3FC;\n",
              "    }\n",
              "\n",
              "    [theme=dark] .colab-df-convert:hover {\n",
              "      background-color: #434B5C;\n",
              "      box-shadow: 0px 1px 3px 1px rgba(0, 0, 0, 0.15);\n",
              "      filter: drop-shadow(0px 1px 2px rgba(0, 0, 0, 0.3));\n",
              "      fill: #FFFFFF;\n",
              "    }\n",
              "  </style>\n",
              "\n",
              "      <script>\n",
              "        const buttonEl =\n",
              "          document.querySelector('#df-9630dbe5-4810-4dc4-ba4e-5e8a56bbacd8 button.colab-df-convert');\n",
              "        buttonEl.style.display =\n",
              "          google.colab.kernel.accessAllowed ? 'block' : 'none';\n",
              "\n",
              "        async function convertToInteractive(key) {\n",
              "          const element = document.querySelector('#df-9630dbe5-4810-4dc4-ba4e-5e8a56bbacd8');\n",
              "          const dataTable =\n",
              "            await google.colab.kernel.invokeFunction('convertToInteractive',\n",
              "                                                     [key], {});\n",
              "          if (!dataTable) return;\n",
              "\n",
              "          const docLinkHtml = 'Like what you see? Visit the ' +\n",
              "            '<a target=\"_blank\" href=https://colab.research.google.com/notebooks/data_table.ipynb>data table notebook</a>'\n",
              "            + ' to learn more about interactive tables.';\n",
              "          element.innerHTML = '';\n",
              "          dataTable['output_type'] = 'display_data';\n",
              "          await google.colab.output.renderOutput(dataTable, element);\n",
              "          const docLink = document.createElement('div');\n",
              "          docLink.innerHTML = docLinkHtml;\n",
              "          element.appendChild(docLink);\n",
              "        }\n",
              "      </script>\n",
              "    </div>\n",
              "  </div>\n"
            ]
          },
          "metadata": {},
          "execution_count": 37
        }
      ]
    },
    {
      "cell_type": "code",
      "source": [
        "df['Temperature'].max()"
      ],
      "metadata": {
        "colab": {
          "base_uri": "https://localhost:8080/"
        },
        "id": "ePLwjOOg5zQi",
        "outputId": "532bac5e-268d-493b-afc5-bf8e993a849c"
      },
      "execution_count": 38,
      "outputs": [
        {
          "output_type": "execute_result",
          "data": {
            "text/plain": [
              "50"
            ]
          },
          "metadata": {},
          "execution_count": 38
        }
      ]
    },
    {
      "cell_type": "code",
      "source": [
        "#est, events, rain\n",
        "df['EST'][df['Events'] == 'Rain']"
      ],
      "metadata": {
        "colab": {
          "base_uri": "https://localhost:8080/"
        },
        "id": "YKVmUnmn50zU",
        "outputId": "8a5546ad-ff67-4119-df32-221fcb0d23d0"
      },
      "execution_count": 39,
      "outputs": [
        {
          "output_type": "execute_result",
          "data": {
            "text/plain": [
              "8      1/9/2016\n",
              "9     1/10/2016\n",
              "15    1/16/2016\n",
              "26    1/27/2016\n",
              "Name: EST, dtype: object"
            ]
          },
          "metadata": {},
          "execution_count": 39
        }
      ]
    },
    {
      "cell_type": "code",
      "source": [
        "#mean of WindSpeedMPH\n",
        "df['WindSpeedMPH'].mean()"
      ],
      "metadata": {
        "colab": {
          "base_uri": "https://localhost:8080/"
        },
        "id": "jpifDvW752Bp",
        "outputId": "0cd9c485-34f5-46de-fbed-4b3dacfd32c6"
      },
      "execution_count": 40,
      "outputs": [
        {
          "output_type": "execute_result",
          "data": {
            "text/plain": [
              "6.892857142857143"
            ]
          },
          "metadata": {},
          "execution_count": 40
        }
      ]
    }
  ]
}