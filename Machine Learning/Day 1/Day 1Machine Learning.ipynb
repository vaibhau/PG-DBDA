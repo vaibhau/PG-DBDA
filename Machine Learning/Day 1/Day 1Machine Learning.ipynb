{
  "nbformat": 4,
  "nbformat_minor": 0,
  "metadata": {
    "colab": {
      "provenance": []
    },
    "kernelspec": {
      "name": "python3",
      "display_name": "Python 3"
    },
    "language_info": {
      "name": "python"
    }
  },
  "cells": [
    {
      "cell_type": "markdown",
      "source": [
        "# Numpy"
      ],
      "metadata": {
        "id": "QZUTHgEA3x7j"
      }
    },
    {
      "cell_type": "code",
      "execution_count": 1,
      "metadata": {
        "id": "Swib9O1f3xEw"
      },
      "outputs": [],
      "source": [
        "import numpy as np"
      ]
    },
    {
      "cell_type": "code",
      "source": [
        "my_list = [1,2,3,4]\n",
        "my_list"
      ],
      "metadata": {
        "colab": {
          "base_uri": "https://localhost:8080/"
        },
        "id": "sCqkpc4G4WZA",
        "outputId": "dca3e4e6-a4f8-42b1-e82e-604988c5e67f"
      },
      "execution_count": 2,
      "outputs": [
        {
          "output_type": "execute_result",
          "data": {
            "text/plain": [
              "[1, 2, 3, 4]"
            ]
          },
          "metadata": {},
          "execution_count": 2
        }
      ]
    },
    {
      "cell_type": "code",
      "source": [
        "#convert list into array\n",
        "list1 = np.array(my_list)\n",
        "list1"
      ],
      "metadata": {
        "colab": {
          "base_uri": "https://localhost:8080/"
        },
        "id": "W214oR194Ze8",
        "outputId": "2b97c428-0dc2-4ae1-9ad0-b94d62ab1219"
      },
      "execution_count": 3,
      "outputs": [
        {
          "output_type": "execute_result",
          "data": {
            "text/plain": [
              "array([1, 2, 3, 4])"
            ]
          },
          "metadata": {},
          "execution_count": 3
        }
      ]
    },
    {
      "cell_type": "code",
      "source": [
        "my_list2 = np.array(range(1,5))\n",
        "my_list2"
      ],
      "metadata": {
        "colab": {
          "base_uri": "https://localhost:8080/"
        },
        "id": "dCMdCuLh4dsM",
        "outputId": "cb8716d9-4c99-44f3-b808-a96ddc8d3158"
      },
      "execution_count": 4,
      "outputs": [
        {
          "output_type": "execute_result",
          "data": {
            "text/plain": [
              "array([1, 2, 3, 4])"
            ]
          },
          "metadata": {},
          "execution_count": 4
        }
      ]
    },
    {
      "cell_type": "code",
      "source": [
        "#printing the dimensions of the array\n"
      ],
      "metadata": {
        "id": "BHbdnHUo4jKR"
      },
      "execution_count": null,
      "outputs": []
    },
    {
      "cell_type": "code",
      "source": [
        "# 1D array\n",
        "a = np.array([1,2,3])\n",
        "a"
      ],
      "metadata": {
        "colab": {
          "base_uri": "https://localhost:8080/"
        },
        "id": "ogMkDe-04lfK",
        "outputId": "b2b8c9ea-9979-4bbf-d331-3e9dc6df176a"
      },
      "execution_count": 5,
      "outputs": [
        {
          "output_type": "execute_result",
          "data": {
            "text/plain": [
              "array([1, 2, 3])"
            ]
          },
          "metadata": {},
          "execution_count": 5
        }
      ]
    },
    {
      "cell_type": "code",
      "source": [
        "# 2D array\n",
        "b = np.array([[9,8,7],[6,5,4]])\n",
        "b"
      ],
      "metadata": {
        "colab": {
          "base_uri": "https://localhost:8080/"
        },
        "id": "Sv5vqyC94m3Z",
        "outputId": "421d73cc-e8fa-41fb-8ae3-4a2aad0d7557"
      },
      "execution_count": 6,
      "outputs": [
        {
          "output_type": "execute_result",
          "data": {
            "text/plain": [
              "array([[9, 8, 7],\n",
              "       [6, 5, 4]])"
            ]
          },
          "metadata": {},
          "execution_count": 6
        }
      ]
    },
    {
      "cell_type": "code",
      "source": [
        "#float array\n",
        "c = np.array([[9.1,3.4,3.2],[6.7,9.6,5.8]])\n",
        "c"
      ],
      "metadata": {
        "colab": {
          "base_uri": "https://localhost:8080/"
        },
        "id": "k47YBamw4ohp",
        "outputId": "8d78948f-3649-422a-ed9b-d74f5fae2553"
      },
      "execution_count": 7,
      "outputs": [
        {
          "output_type": "execute_result",
          "data": {
            "text/plain": [
              "array([[9.1, 3.4, 3.2],\n",
              "       [6.7, 9.6, 5.8]])"
            ]
          },
          "metadata": {},
          "execution_count": 7
        }
      ]
    },
    {
      "cell_type": "code",
      "source": [
        "matrix = [[1,2,3],[4,5,6],[7,8,9]]\n",
        "matrix #list of list"
      ],
      "metadata": {
        "colab": {
          "base_uri": "https://localhost:8080/"
        },
        "id": "KWZJdipe4pxY",
        "outputId": "5d7ed730-fbad-4e47-e842-28faed2e1b42"
      },
      "execution_count": 8,
      "outputs": [
        {
          "output_type": "execute_result",
          "data": {
            "text/plain": [
              "[[1, 2, 3], [4, 5, 6], [7, 8, 9]]"
            ]
          },
          "metadata": {},
          "execution_count": 8
        }
      ]
    },
    {
      "cell_type": "code",
      "source": [
        "a.shape"
      ],
      "metadata": {
        "colab": {
          "base_uri": "https://localhost:8080/"
        },
        "id": "j3ZLkv_g4rVv",
        "outputId": "35153b8e-2b9f-4817-e59e-264dbb8068e7"
      },
      "execution_count": 9,
      "outputs": [
        {
          "output_type": "execute_result",
          "data": {
            "text/plain": [
              "(3,)"
            ]
          },
          "metadata": {},
          "execution_count": 9
        }
      ]
    },
    {
      "cell_type": "code",
      "source": [
        "#to check the size of the array in bytes\n",
        "a.nbytes"
      ],
      "metadata": {
        "colab": {
          "base_uri": "https://localhost:8080/"
        },
        "id": "H81LJsrj4sjN",
        "outputId": "5fa5b7db-3c14-44ea-c990-96a1a68235c6"
      },
      "execution_count": 10,
      "outputs": [
        {
          "output_type": "execute_result",
          "data": {
            "text/plain": [
              "24"
            ]
          },
          "metadata": {},
          "execution_count": 10
        }
      ]
    },
    {
      "cell_type": "code",
      "source": [
        "np.array([[True,False],[False,True]])"
      ],
      "metadata": {
        "colab": {
          "base_uri": "https://localhost:8080/"
        },
        "id": "G7tJW0nf4t4H",
        "outputId": "9adfb086-0066-437d-f106-b23c339063ae"
      },
      "execution_count": 11,
      "outputs": [
        {
          "output_type": "execute_result",
          "data": {
            "text/plain": [
              "array([[ True, False],\n",
              "       [False,  True]])"
            ]
          },
          "metadata": {},
          "execution_count": 11
        }
      ]
    },
    {
      "cell_type": "code",
      "source": [
        "x = np.array([1,2,3], dtype = 'int32')\n",
        "x"
      ],
      "metadata": {
        "colab": {
          "base_uri": "https://localhost:8080/"
        },
        "id": "iPL4fidv4vKv",
        "outputId": "ef09f453-4e33-4b16-a13b-c04c211b9303"
      },
      "execution_count": 12,
      "outputs": [
        {
          "output_type": "execute_result",
          "data": {
            "text/plain": [
              "array([1, 2, 3], dtype=int32)"
            ]
          },
          "metadata": {},
          "execution_count": 12
        }
      ]
    },
    {
      "cell_type": "code",
      "source": [
        "type(x)"
      ],
      "metadata": {
        "colab": {
          "base_uri": "https://localhost:8080/"
        },
        "id": "n-uUt9Pk4wmr",
        "outputId": "08addee0-6e56-4c8b-b934-be02f9d09486"
      },
      "execution_count": 13,
      "outputs": [
        {
          "output_type": "execute_result",
          "data": {
            "text/plain": [
              "numpy.ndarray"
            ]
          },
          "metadata": {},
          "execution_count": 13
        }
      ]
    },
    {
      "cell_type": "code",
      "source": [
        "x.dtype"
      ],
      "metadata": {
        "colab": {
          "base_uri": "https://localhost:8080/"
        },
        "id": "kTcYNldn4x-o",
        "outputId": "67014635-bd11-4f19-964a-a9987d0e9406"
      },
      "execution_count": 14,
      "outputs": [
        {
          "output_type": "execute_result",
          "data": {
            "text/plain": [
              "dtype('int32')"
            ]
          },
          "metadata": {},
          "execution_count": 14
        }
      ]
    },
    {
      "cell_type": "code",
      "source": [
        "#Random number\n",
        "np.random.rand(4,2)"
      ],
      "metadata": {
        "colab": {
          "base_uri": "https://localhost:8080/"
        },
        "id": "Yn5GhKCr4z0W",
        "outputId": "dea7d689-8f5c-4ed2-a9c7-024ac79a45d9"
      },
      "execution_count": 15,
      "outputs": [
        {
          "output_type": "execute_result",
          "data": {
            "text/plain": [
              "array([[0.61591244, 0.50450981],\n",
              "       [0.97103876, 0.66095156],\n",
              "       [0.37414641, 0.0903339 ],\n",
              "       [0.42311529, 0.60553594]])"
            ]
          },
          "metadata": {},
          "execution_count": 15
        }
      ]
    },
    {
      "cell_type": "code",
      "source": [
        "np.random.randn(3)"
      ],
      "metadata": {
        "colab": {
          "base_uri": "https://localhost:8080/"
        },
        "id": "SnxAPWln41SL",
        "outputId": "53353cf4-fe02-4009-df96-1ab910322d62"
      },
      "execution_count": 16,
      "outputs": [
        {
          "output_type": "execute_result",
          "data": {
            "text/plain": [
              "array([-0.53263014,  1.19984109,  0.88009391])"
            ]
          },
          "metadata": {},
          "execution_count": 16
        }
      ]
    },
    {
      "cell_type": "code",
      "source": [
        "r = np.random.randint(1,200,10)\n",
        "r\n",
        "#generates random integer between the range"
      ],
      "metadata": {
        "colab": {
          "base_uri": "https://localhost:8080/"
        },
        "id": "cc0GDmdZ42qm",
        "outputId": "d15076b0-4474-4f93-c292-9b044643d08c"
      },
      "execution_count": 17,
      "outputs": [
        {
          "output_type": "execute_result",
          "data": {
            "text/plain": [
              "array([136, 117, 115,  66,  78,  90, 168,  92,  20,  70])"
            ]
          },
          "metadata": {},
          "execution_count": 17
        }
      ]
    },
    {
      "cell_type": "code",
      "source": [
        "r.max()"
      ],
      "metadata": {
        "colab": {
          "base_uri": "https://localhost:8080/"
        },
        "id": "AOaShMNW44Dn",
        "outputId": "fc29cd5b-8123-4e2c-edc7-da96e83c0412"
      },
      "execution_count": 18,
      "outputs": [
        {
          "output_type": "execute_result",
          "data": {
            "text/plain": [
              "168"
            ]
          },
          "metadata": {},
          "execution_count": 18
        }
      ]
    },
    {
      "cell_type": "code",
      "source": [
        "np.identity(1)"
      ],
      "metadata": {
        "colab": {
          "base_uri": "https://localhost:8080/"
        },
        "id": "EQEwiIpx45q6",
        "outputId": "7f2ab389-7f09-4d96-d13b-d5e9565268b7"
      },
      "execution_count": 19,
      "outputs": [
        {
          "output_type": "execute_result",
          "data": {
            "text/plain": [
              "array([[1.]])"
            ]
          },
          "metadata": {},
          "execution_count": 19
        }
      ]
    },
    {
      "cell_type": "code",
      "source": [
        "np.identity(2)"
      ],
      "metadata": {
        "colab": {
          "base_uri": "https://localhost:8080/"
        },
        "id": "atLgzNQZ460-",
        "outputId": "84d4e46b-09c4-49f7-e00e-32a6b30b9a28"
      },
      "execution_count": 20,
      "outputs": [
        {
          "output_type": "execute_result",
          "data": {
            "text/plain": [
              "array([[1., 0.],\n",
              "       [0., 1.]])"
            ]
          },
          "metadata": {},
          "execution_count": 20
        }
      ]
    },
    {
      "cell_type": "code",
      "source": [
        "m = np.array([1,2,3])\n",
        "m"
      ],
      "metadata": {
        "colab": {
          "base_uri": "https://localhost:8080/"
        },
        "id": "UAf4r7qF48Aj",
        "outputId": "43a18af6-f98d-498b-840b-1dc2eee06dda"
      },
      "execution_count": 21,
      "outputs": [
        {
          "output_type": "execute_result",
          "data": {
            "text/plain": [
              "array([1, 2, 3])"
            ]
          },
          "metadata": {},
          "execution_count": 21
        }
      ]
    },
    {
      "cell_type": "code",
      "source": [
        "m+2"
      ],
      "metadata": {
        "colab": {
          "base_uri": "https://localhost:8080/"
        },
        "id": "NX7kKT_V49p3",
        "outputId": "0c4e2621-6de0-4841-b658-e0ccac79252c"
      },
      "execution_count": 22,
      "outputs": [
        {
          "output_type": "execute_result",
          "data": {
            "text/plain": [
              "array([3, 4, 5])"
            ]
          },
          "metadata": {},
          "execution_count": 22
        }
      ]
    },
    {
      "cell_type": "code",
      "source": [
        "m*2"
      ],
      "metadata": {
        "colab": {
          "base_uri": "https://localhost:8080/"
        },
        "id": "lpIxSF7q5DvB",
        "outputId": "3be18919-0963-4ce2-a772-fad19acea750"
      },
      "execution_count": 23,
      "outputs": [
        {
          "output_type": "execute_result",
          "data": {
            "text/plain": [
              "array([2, 4, 6])"
            ]
          },
          "metadata": {},
          "execution_count": 23
        }
      ]
    },
    {
      "cell_type": "code",
      "source": [
        "m+m"
      ],
      "metadata": {
        "colab": {
          "base_uri": "https://localhost:8080/"
        },
        "id": "wcVWRc455JzV",
        "outputId": "f7f3076c-d516-44c6-87cd-9e8df879947f"
      },
      "execution_count": 24,
      "outputs": [
        {
          "output_type": "execute_result",
          "data": {
            "text/plain": [
              "array([2, 4, 6])"
            ]
          },
          "metadata": {},
          "execution_count": 24
        }
      ]
    },
    {
      "cell_type": "code",
      "source": [
        "m**3"
      ],
      "metadata": {
        "colab": {
          "base_uri": "https://localhost:8080/"
        },
        "id": "B6deQOYc5LoD",
        "outputId": "c1933f38-d7f1-4746-8419-467eab6ad6e9"
      },
      "execution_count": 25,
      "outputs": [
        {
          "output_type": "execute_result",
          "data": {
            "text/plain": [
              "array([ 1,  8, 27])"
            ]
          },
          "metadata": {},
          "execution_count": 25
        }
      ]
    },
    {
      "cell_type": "code",
      "source": [
        "#sqaure root\n",
        "m**0.5"
      ],
      "metadata": {
        "colab": {
          "base_uri": "https://localhost:8080/"
        },
        "id": "AN2qEctE5M8M",
        "outputId": "3b4a9716-7daa-4c56-b5f5-1298ab59a500"
      },
      "execution_count": 26,
      "outputs": [
        {
          "output_type": "execute_result",
          "data": {
            "text/plain": [
              "array([1.        , 1.41421356, 1.73205081])"
            ]
          },
          "metadata": {},
          "execution_count": 26
        }
      ]
    },
    {
      "cell_type": "code",
      "source": [
        "np.sqrt(m)"
      ],
      "metadata": {
        "colab": {
          "base_uri": "https://localhost:8080/"
        },
        "id": "rlLhvGy55QUp",
        "outputId": "730a3ee3-17e1-4ff1-a136-d6769894771e"
      },
      "execution_count": 27,
      "outputs": [
        {
          "output_type": "execute_result",
          "data": {
            "text/plain": [
              "array([1.        , 1.41421356, 1.73205081])"
            ]
          },
          "metadata": {},
          "execution_count": 27
        }
      ]
    },
    {
      "cell_type": "code",
      "source": [
        "np.exp(m)"
      ],
      "metadata": {
        "colab": {
          "base_uri": "https://localhost:8080/"
        },
        "id": "ULaPeC0e5RrQ",
        "outputId": "c6ff7312-36ca-482e-927d-d5d69a3a6d35"
      },
      "execution_count": 28,
      "outputs": [
        {
          "output_type": "execute_result",
          "data": {
            "text/plain": [
              "array([ 2.71828183,  7.3890561 , 20.08553692])"
            ]
          },
          "metadata": {},
          "execution_count": 28
        }
      ]
    },
    {
      "cell_type": "markdown",
      "source": [
        "# Pandas"
      ],
      "metadata": {
        "id": "hYqId8pb5Tbi"
      }
    },
    {
      "cell_type": "code",
      "source": [
        "import pandas as pd\n",
        "#1. Series\n",
        "#2. Data Frame"
      ],
      "metadata": {
        "id": "UoFSvb1V5XSs"
      },
      "execution_count": 29,
      "outputs": []
    },
    {
      "cell_type": "code",
      "source": [
        "#creating series\n",
        "s = pd.Series([1,'vaibhav',2,'tejaa',3,'surya',4,'preeti',5,'yogi'])\n",
        "s"
      ],
      "metadata": {
        "colab": {
          "base_uri": "https://localhost:8080/"
        },
        "id": "lLzh4BlI5Y0D",
        "outputId": "a2b15fea-60d1-48cf-c027-b3bcf5b01a8b"
      },
      "execution_count": 30,
      "outputs": [
        {
          "output_type": "execute_result",
          "data": {
            "text/plain": [
              "0          1\n",
              "1    vaibhav\n",
              "2          2\n",
              "3      tejaa\n",
              "4          3\n",
              "5      surya\n",
              "6          4\n",
              "7     preeti\n",
              "8          5\n",
              "9       yogi\n",
              "dtype: object"
            ]
          },
          "metadata": {},
          "execution_count": 30
        }
      ]
    },
    {
      "cell_type": "code",
      "source": [
        "s('b')"
      ],
      "metadata": {
        "colab": {
          "base_uri": "https://localhost:8080/",
          "height": 166
        },
        "id": "9wTnlFj25aNc",
        "outputId": "58187c21-5b87-429d-ffc4-9e19d57098cb"
      },
      "execution_count": 31,
      "outputs": [
        {
          "output_type": "error",
          "ename": "TypeError",
          "evalue": "ignored",
          "traceback": [
            "\u001b[0;31m---------------------------------------------------------------------------\u001b[0m",
            "\u001b[0;31mTypeError\u001b[0m                                 Traceback (most recent call last)",
            "\u001b[0;32m<ipython-input-31-20188f7c1704>\u001b[0m in \u001b[0;36m<cell line: 1>\u001b[0;34m()\u001b[0m\n\u001b[0;32m----> 1\u001b[0;31m \u001b[0ms\u001b[0m\u001b[0;34m(\u001b[0m\u001b[0;34m'b'\u001b[0m\u001b[0;34m)\u001b[0m\u001b[0;34m\u001b[0m\u001b[0;34m\u001b[0m\u001b[0m\n\u001b[0m",
            "\u001b[0;31mTypeError\u001b[0m: 'Series' object is not callable"
          ]
        }
      ]
    },
    {
      "cell_type": "code",
      "source": [
        "obj1.index"
      ],
      "metadata": {
        "colab": {
          "base_uri": "https://localhost:8080/",
          "height": 166
        },
        "id": "E4vS_AXb5cV9",
        "outputId": "040ab63d-ac8a-458a-aa3c-4a36c6be7865"
      },
      "execution_count": 32,
      "outputs": [
        {
          "output_type": "error",
          "ename": "NameError",
          "evalue": "ignored",
          "traceback": [
            "\u001b[0;31m---------------------------------------------------------------------------\u001b[0m",
            "\u001b[0;31mNameError\u001b[0m                                 Traceback (most recent call last)",
            "\u001b[0;32m<ipython-input-32-c1c6a92ac6c6>\u001b[0m in \u001b[0;36m<cell line: 1>\u001b[0;34m()\u001b[0m\n\u001b[0;32m----> 1\u001b[0;31m \u001b[0mobj1\u001b[0m\u001b[0;34m.\u001b[0m\u001b[0mindex\u001b[0m\u001b[0;34m\u001b[0m\u001b[0;34m\u001b[0m\u001b[0m\n\u001b[0m",
            "\u001b[0;31mNameError\u001b[0m: name 'obj1' is not defined"
          ]
        }
      ]
    },
    {
      "cell_type": "code",
      "source": [
        "score = {'jane':90,'bill':80,'elon':85,'tom':75,'tim':95}\n",
        "names = pd.Series(score)\n",
        "names"
      ],
      "metadata": {
        "colab": {
          "base_uri": "https://localhost:8080/"
        },
        "id": "qj_cl4c45dlG",
        "outputId": "4e476b75-ceea-4efa-df02-6c653878a97d"
      },
      "execution_count": 33,
      "outputs": [
        {
          "output_type": "execute_result",
          "data": {
            "text/plain": [
              "jane    90\n",
              "bill    80\n",
              "elon    85\n",
              "tom     75\n",
              "tim     95\n",
              "dtype: int64"
            ]
          },
          "metadata": {},
          "execution_count": 33
        }
      ]
    },
    {
      "cell_type": "code",
      "source": [
        "names[names < 80]"
      ],
      "metadata": {
        "colab": {
          "base_uri": "https://localhost:8080/"
        },
        "id": "Mz_rviOt5n0I",
        "outputId": "63e6f8b6-8520-4d65-8079-da77614a0a79"
      },
      "execution_count": 34,
      "outputs": [
        {
          "output_type": "execute_result",
          "data": {
            "text/plain": [
              "tom    75\n",
              "dtype: int64"
            ]
          },
          "metadata": {},
          "execution_count": 34
        }
      ]
    },
    {
      "cell_type": "code",
      "source": [
        "names.isnull()"
      ],
      "metadata": {
        "colab": {
          "base_uri": "https://localhost:8080/"
        },
        "id": "lJVqCY165pN6",
        "outputId": "03803862-65e5-4468-a658-a0a0805f580b"
      },
      "execution_count": 35,
      "outputs": [
        {
          "output_type": "execute_result",
          "data": {
            "text/plain": [
              "jane    False\n",
              "bill    False\n",
              "elon    False\n",
              "tom     False\n",
              "tim     False\n",
              "dtype: bool"
            ]
          },
          "metadata": {},
          "execution_count": 35
        }
      ]
    },
    {
      "cell_type": "code",
      "source": [
        "df = pd.read_csv('nyc_weather.csv')"
      ],
      "metadata": {
        "id": "MGn2qT_i5qZB"
      },
      "execution_count": 36,
      "outputs": []
    },
    {
      "cell_type": "code",
      "source": [
        "df"
      ],
      "metadata": {
        "colab": {
          "base_uri": "https://localhost:8080/",
          "height": 1000
        },
        "id": "fYCA_Pi15xH5",
        "outputId": "953e6141-208d-4ea6-a3a6-78028492f07a"
      },
      "execution_count": 37,
      "outputs": [
        {
          "output_type": "execute_result",
          "data": {
            "text/plain": [
              "          EST  Temperature  DewPoint  Humidity  Sea Level PressureIn  \\\n",
              "0    1/1/2016           38        23        52                 30.03   \n",
              "1    1/2/2016           36        18        46                 30.02   \n",
              "2    1/3/2016           40        21        47                 29.86   \n",
              "3    1/4/2016           25         9        44                 30.05   \n",
              "4    1/5/2016           20        -3        41                 30.57   \n",
              "5    1/6/2016           33         4        35                 30.50   \n",
              "6    1/7/2016           39        11        33                 30.28   \n",
              "7    1/8/2016           39        29        64                 30.20   \n",
              "8    1/9/2016           44        38        77                 30.16   \n",
              "9   1/10/2016           50        46        71                 29.59   \n",
              "10  1/11/2016           33         8        37                 29.92   \n",
              "11  1/12/2016           35        15        53                 29.85   \n",
              "12  1/13/2016           26         4        42                 29.94   \n",
              "13  1/14/2016           30        12        47                 29.95   \n",
              "14  1/15/2016           43        31        62                 29.82   \n",
              "15  1/16/2016           47        37        70                 29.52   \n",
              "16  1/17/2016           36        23        66                 29.78   \n",
              "17  1/18/2016           25         6        53                 29.83   \n",
              "18  1/19/2016           22         3        42                 30.03   \n",
              "19  1/20/2016           32        15        49                 30.13   \n",
              "20  1/21/2016           31        11        45                 30.15   \n",
              "21  1/22/2016           26         6        41                 30.21   \n",
              "22  1/23/2016           26        21        78                 29.77   \n",
              "23  1/24/2016           28        11        53                 29.92   \n",
              "24  1/25/2016           34        18        54                 30.25   \n",
              "25  1/26/2016           43        29        56                 30.03   \n",
              "26  1/27/2016           41        22        45                 30.03   \n",
              "27  1/28/2016           37        20        51                 29.90   \n",
              "28  1/29/2016           36        21        50                 29.58   \n",
              "29  1/30/2016           34        16        46                 30.01   \n",
              "30  1/31/2016           46        28        52                 29.90   \n",
              "\n",
              "    VisibilityMiles  WindSpeedMPH PrecipitationIn  CloudCover    Events  \\\n",
              "0                10           8.0               0           5       NaN   \n",
              "1                10           7.0               0           3       NaN   \n",
              "2                10           8.0               0           1       NaN   \n",
              "3                10           9.0               0           3       NaN   \n",
              "4                10           5.0               0           0       NaN   \n",
              "5                10           4.0               0           0       NaN   \n",
              "6                10           2.0               0           3       NaN   \n",
              "7                10           4.0               0           8       NaN   \n",
              "8                 9           8.0               T           8      Rain   \n",
              "9                 4           NaN             1.8           7      Rain   \n",
              "10               10           NaN               0           1       NaN   \n",
              "11               10           6.0               T           4       NaN   \n",
              "12               10          10.0               0           0       NaN   \n",
              "13               10           5.0               T           7       NaN   \n",
              "14                9           5.0               T           2       NaN   \n",
              "15                8           7.0            0.24           7      Rain   \n",
              "16                8           6.0            0.05           6  Fog-Snow   \n",
              "17                9          12.0               T           2      Snow   \n",
              "18               10          11.0               0           1       NaN   \n",
              "19               10           6.0               0           2       NaN   \n",
              "20               10           6.0               0           1       NaN   \n",
              "21                9           NaN            0.01           3      Snow   \n",
              "22                1          16.0            2.31           8  Fog-Snow   \n",
              "23                8           6.0               T           3      Snow   \n",
              "24               10           3.0               0           2       NaN   \n",
              "25               10           7.0               0           2       NaN   \n",
              "26               10           7.0               T           3      Rain   \n",
              "27               10           5.0               0           1       NaN   \n",
              "28               10           8.0               0           4       NaN   \n",
              "29               10           7.0               0           0       NaN   \n",
              "30               10           5.0               0           0       NaN   \n",
              "\n",
              "    WindDirDegrees  \n",
              "0              281  \n",
              "1              275  \n",
              "2              277  \n",
              "3              345  \n",
              "4              333  \n",
              "5              259  \n",
              "6              293  \n",
              "7               79  \n",
              "8               76  \n",
              "9              109  \n",
              "10             289  \n",
              "11             235  \n",
              "12             284  \n",
              "13             266  \n",
              "14             101  \n",
              "15             340  \n",
              "16             345  \n",
              "17             293  \n",
              "18             293  \n",
              "19             302  \n",
              "20             312  \n",
              "21              34  \n",
              "22              42  \n",
              "23             327  \n",
              "24             286  \n",
              "25             244  \n",
              "26             311  \n",
              "27             234  \n",
              "28             298  \n",
              "29             257  \n",
              "30             241  "
            ],
            "text/html": [
              "\n",
              "  <div id=\"df-5060e0a0-18c8-422c-a0a5-a7a013cf3d09\">\n",
              "    <div class=\"colab-df-container\">\n",
              "      <div>\n",
              "<style scoped>\n",
              "    .dataframe tbody tr th:only-of-type {\n",
              "        vertical-align: middle;\n",
              "    }\n",
              "\n",
              "    .dataframe tbody tr th {\n",
              "        vertical-align: top;\n",
              "    }\n",
              "\n",
              "    .dataframe thead th {\n",
              "        text-align: right;\n",
              "    }\n",
              "</style>\n",
              "<table border=\"1\" class=\"dataframe\">\n",
              "  <thead>\n",
              "    <tr style=\"text-align: right;\">\n",
              "      <th></th>\n",
              "      <th>EST</th>\n",
              "      <th>Temperature</th>\n",
              "      <th>DewPoint</th>\n",
              "      <th>Humidity</th>\n",
              "      <th>Sea Level PressureIn</th>\n",
              "      <th>VisibilityMiles</th>\n",
              "      <th>WindSpeedMPH</th>\n",
              "      <th>PrecipitationIn</th>\n",
              "      <th>CloudCover</th>\n",
              "      <th>Events</th>\n",
              "      <th>WindDirDegrees</th>\n",
              "    </tr>\n",
              "  </thead>\n",
              "  <tbody>\n",
              "    <tr>\n",
              "      <th>0</th>\n",
              "      <td>1/1/2016</td>\n",
              "      <td>38</td>\n",
              "      <td>23</td>\n",
              "      <td>52</td>\n",
              "      <td>30.03</td>\n",
              "      <td>10</td>\n",
              "      <td>8.0</td>\n",
              "      <td>0</td>\n",
              "      <td>5</td>\n",
              "      <td>NaN</td>\n",
              "      <td>281</td>\n",
              "    </tr>\n",
              "    <tr>\n",
              "      <th>1</th>\n",
              "      <td>1/2/2016</td>\n",
              "      <td>36</td>\n",
              "      <td>18</td>\n",
              "      <td>46</td>\n",
              "      <td>30.02</td>\n",
              "      <td>10</td>\n",
              "      <td>7.0</td>\n",
              "      <td>0</td>\n",
              "      <td>3</td>\n",
              "      <td>NaN</td>\n",
              "      <td>275</td>\n",
              "    </tr>\n",
              "    <tr>\n",
              "      <th>2</th>\n",
              "      <td>1/3/2016</td>\n",
              "      <td>40</td>\n",
              "      <td>21</td>\n",
              "      <td>47</td>\n",
              "      <td>29.86</td>\n",
              "      <td>10</td>\n",
              "      <td>8.0</td>\n",
              "      <td>0</td>\n",
              "      <td>1</td>\n",
              "      <td>NaN</td>\n",
              "      <td>277</td>\n",
              "    </tr>\n",
              "    <tr>\n",
              "      <th>3</th>\n",
              "      <td>1/4/2016</td>\n",
              "      <td>25</td>\n",
              "      <td>9</td>\n",
              "      <td>44</td>\n",
              "      <td>30.05</td>\n",
              "      <td>10</td>\n",
              "      <td>9.0</td>\n",
              "      <td>0</td>\n",
              "      <td>3</td>\n",
              "      <td>NaN</td>\n",
              "      <td>345</td>\n",
              "    </tr>\n",
              "    <tr>\n",
              "      <th>4</th>\n",
              "      <td>1/5/2016</td>\n",
              "      <td>20</td>\n",
              "      <td>-3</td>\n",
              "      <td>41</td>\n",
              "      <td>30.57</td>\n",
              "      <td>10</td>\n",
              "      <td>5.0</td>\n",
              "      <td>0</td>\n",
              "      <td>0</td>\n",
              "      <td>NaN</td>\n",
              "      <td>333</td>\n",
              "    </tr>\n",
              "    <tr>\n",
              "      <th>5</th>\n",
              "      <td>1/6/2016</td>\n",
              "      <td>33</td>\n",
              "      <td>4</td>\n",
              "      <td>35</td>\n",
              "      <td>30.50</td>\n",
              "      <td>10</td>\n",
              "      <td>4.0</td>\n",
              "      <td>0</td>\n",
              "      <td>0</td>\n",
              "      <td>NaN</td>\n",
              "      <td>259</td>\n",
              "    </tr>\n",
              "    <tr>\n",
              "      <th>6</th>\n",
              "      <td>1/7/2016</td>\n",
              "      <td>39</td>\n",
              "      <td>11</td>\n",
              "      <td>33</td>\n",
              "      <td>30.28</td>\n",
              "      <td>10</td>\n",
              "      <td>2.0</td>\n",
              "      <td>0</td>\n",
              "      <td>3</td>\n",
              "      <td>NaN</td>\n",
              "      <td>293</td>\n",
              "    </tr>\n",
              "    <tr>\n",
              "      <th>7</th>\n",
              "      <td>1/8/2016</td>\n",
              "      <td>39</td>\n",
              "      <td>29</td>\n",
              "      <td>64</td>\n",
              "      <td>30.20</td>\n",
              "      <td>10</td>\n",
              "      <td>4.0</td>\n",
              "      <td>0</td>\n",
              "      <td>8</td>\n",
              "      <td>NaN</td>\n",
              "      <td>79</td>\n",
              "    </tr>\n",
              "    <tr>\n",
              "      <th>8</th>\n",
              "      <td>1/9/2016</td>\n",
              "      <td>44</td>\n",
              "      <td>38</td>\n",
              "      <td>77</td>\n",
              "      <td>30.16</td>\n",
              "      <td>9</td>\n",
              "      <td>8.0</td>\n",
              "      <td>T</td>\n",
              "      <td>8</td>\n",
              "      <td>Rain</td>\n",
              "      <td>76</td>\n",
              "    </tr>\n",
              "    <tr>\n",
              "      <th>9</th>\n",
              "      <td>1/10/2016</td>\n",
              "      <td>50</td>\n",
              "      <td>46</td>\n",
              "      <td>71</td>\n",
              "      <td>29.59</td>\n",
              "      <td>4</td>\n",
              "      <td>NaN</td>\n",
              "      <td>1.8</td>\n",
              "      <td>7</td>\n",
              "      <td>Rain</td>\n",
              "      <td>109</td>\n",
              "    </tr>\n",
              "    <tr>\n",
              "      <th>10</th>\n",
              "      <td>1/11/2016</td>\n",
              "      <td>33</td>\n",
              "      <td>8</td>\n",
              "      <td>37</td>\n",
              "      <td>29.92</td>\n",
              "      <td>10</td>\n",
              "      <td>NaN</td>\n",
              "      <td>0</td>\n",
              "      <td>1</td>\n",
              "      <td>NaN</td>\n",
              "      <td>289</td>\n",
              "    </tr>\n",
              "    <tr>\n",
              "      <th>11</th>\n",
              "      <td>1/12/2016</td>\n",
              "      <td>35</td>\n",
              "      <td>15</td>\n",
              "      <td>53</td>\n",
              "      <td>29.85</td>\n",
              "      <td>10</td>\n",
              "      <td>6.0</td>\n",
              "      <td>T</td>\n",
              "      <td>4</td>\n",
              "      <td>NaN</td>\n",
              "      <td>235</td>\n",
              "    </tr>\n",
              "    <tr>\n",
              "      <th>12</th>\n",
              "      <td>1/13/2016</td>\n",
              "      <td>26</td>\n",
              "      <td>4</td>\n",
              "      <td>42</td>\n",
              "      <td>29.94</td>\n",
              "      <td>10</td>\n",
              "      <td>10.0</td>\n",
              "      <td>0</td>\n",
              "      <td>0</td>\n",
              "      <td>NaN</td>\n",
              "      <td>284</td>\n",
              "    </tr>\n",
              "    <tr>\n",
              "      <th>13</th>\n",
              "      <td>1/14/2016</td>\n",
              "      <td>30</td>\n",
              "      <td>12</td>\n",
              "      <td>47</td>\n",
              "      <td>29.95</td>\n",
              "      <td>10</td>\n",
              "      <td>5.0</td>\n",
              "      <td>T</td>\n",
              "      <td>7</td>\n",
              "      <td>NaN</td>\n",
              "      <td>266</td>\n",
              "    </tr>\n",
              "    <tr>\n",
              "      <th>14</th>\n",
              "      <td>1/15/2016</td>\n",
              "      <td>43</td>\n",
              "      <td>31</td>\n",
              "      <td>62</td>\n",
              "      <td>29.82</td>\n",
              "      <td>9</td>\n",
              "      <td>5.0</td>\n",
              "      <td>T</td>\n",
              "      <td>2</td>\n",
              "      <td>NaN</td>\n",
              "      <td>101</td>\n",
              "    </tr>\n",
              "    <tr>\n",
              "      <th>15</th>\n",
              "      <td>1/16/2016</td>\n",
              "      <td>47</td>\n",
              "      <td>37</td>\n",
              "      <td>70</td>\n",
              "      <td>29.52</td>\n",
              "      <td>8</td>\n",
              "      <td>7.0</td>\n",
              "      <td>0.24</td>\n",
              "      <td>7</td>\n",
              "      <td>Rain</td>\n",
              "      <td>340</td>\n",
              "    </tr>\n",
              "    <tr>\n",
              "      <th>16</th>\n",
              "      <td>1/17/2016</td>\n",
              "      <td>36</td>\n",
              "      <td>23</td>\n",
              "      <td>66</td>\n",
              "      <td>29.78</td>\n",
              "      <td>8</td>\n",
              "      <td>6.0</td>\n",
              "      <td>0.05</td>\n",
              "      <td>6</td>\n",
              "      <td>Fog-Snow</td>\n",
              "      <td>345</td>\n",
              "    </tr>\n",
              "    <tr>\n",
              "      <th>17</th>\n",
              "      <td>1/18/2016</td>\n",
              "      <td>25</td>\n",
              "      <td>6</td>\n",
              "      <td>53</td>\n",
              "      <td>29.83</td>\n",
              "      <td>9</td>\n",
              "      <td>12.0</td>\n",
              "      <td>T</td>\n",
              "      <td>2</td>\n",
              "      <td>Snow</td>\n",
              "      <td>293</td>\n",
              "    </tr>\n",
              "    <tr>\n",
              "      <th>18</th>\n",
              "      <td>1/19/2016</td>\n",
              "      <td>22</td>\n",
              "      <td>3</td>\n",
              "      <td>42</td>\n",
              "      <td>30.03</td>\n",
              "      <td>10</td>\n",
              "      <td>11.0</td>\n",
              "      <td>0</td>\n",
              "      <td>1</td>\n",
              "      <td>NaN</td>\n",
              "      <td>293</td>\n",
              "    </tr>\n",
              "    <tr>\n",
              "      <th>19</th>\n",
              "      <td>1/20/2016</td>\n",
              "      <td>32</td>\n",
              "      <td>15</td>\n",
              "      <td>49</td>\n",
              "      <td>30.13</td>\n",
              "      <td>10</td>\n",
              "      <td>6.0</td>\n",
              "      <td>0</td>\n",
              "      <td>2</td>\n",
              "      <td>NaN</td>\n",
              "      <td>302</td>\n",
              "    </tr>\n",
              "    <tr>\n",
              "      <th>20</th>\n",
              "      <td>1/21/2016</td>\n",
              "      <td>31</td>\n",
              "      <td>11</td>\n",
              "      <td>45</td>\n",
              "      <td>30.15</td>\n",
              "      <td>10</td>\n",
              "      <td>6.0</td>\n",
              "      <td>0</td>\n",
              "      <td>1</td>\n",
              "      <td>NaN</td>\n",
              "      <td>312</td>\n",
              "    </tr>\n",
              "    <tr>\n",
              "      <th>21</th>\n",
              "      <td>1/22/2016</td>\n",
              "      <td>26</td>\n",
              "      <td>6</td>\n",
              "      <td>41</td>\n",
              "      <td>30.21</td>\n",
              "      <td>9</td>\n",
              "      <td>NaN</td>\n",
              "      <td>0.01</td>\n",
              "      <td>3</td>\n",
              "      <td>Snow</td>\n",
              "      <td>34</td>\n",
              "    </tr>\n",
              "    <tr>\n",
              "      <th>22</th>\n",
              "      <td>1/23/2016</td>\n",
              "      <td>26</td>\n",
              "      <td>21</td>\n",
              "      <td>78</td>\n",
              "      <td>29.77</td>\n",
              "      <td>1</td>\n",
              "      <td>16.0</td>\n",
              "      <td>2.31</td>\n",
              "      <td>8</td>\n",
              "      <td>Fog-Snow</td>\n",
              "      <td>42</td>\n",
              "    </tr>\n",
              "    <tr>\n",
              "      <th>23</th>\n",
              "      <td>1/24/2016</td>\n",
              "      <td>28</td>\n",
              "      <td>11</td>\n",
              "      <td>53</td>\n",
              "      <td>29.92</td>\n",
              "      <td>8</td>\n",
              "      <td>6.0</td>\n",
              "      <td>T</td>\n",
              "      <td>3</td>\n",
              "      <td>Snow</td>\n",
              "      <td>327</td>\n",
              "    </tr>\n",
              "    <tr>\n",
              "      <th>24</th>\n",
              "      <td>1/25/2016</td>\n",
              "      <td>34</td>\n",
              "      <td>18</td>\n",
              "      <td>54</td>\n",
              "      <td>30.25</td>\n",
              "      <td>10</td>\n",
              "      <td>3.0</td>\n",
              "      <td>0</td>\n",
              "      <td>2</td>\n",
              "      <td>NaN</td>\n",
              "      <td>286</td>\n",
              "    </tr>\n",
              "    <tr>\n",
              "      <th>25</th>\n",
              "      <td>1/26/2016</td>\n",
              "      <td>43</td>\n",
              "      <td>29</td>\n",
              "      <td>56</td>\n",
              "      <td>30.03</td>\n",
              "      <td>10</td>\n",
              "      <td>7.0</td>\n",
              "      <td>0</td>\n",
              "      <td>2</td>\n",
              "      <td>NaN</td>\n",
              "      <td>244</td>\n",
              "    </tr>\n",
              "    <tr>\n",
              "      <th>26</th>\n",
              "      <td>1/27/2016</td>\n",
              "      <td>41</td>\n",
              "      <td>22</td>\n",
              "      <td>45</td>\n",
              "      <td>30.03</td>\n",
              "      <td>10</td>\n",
              "      <td>7.0</td>\n",
              "      <td>T</td>\n",
              "      <td>3</td>\n",
              "      <td>Rain</td>\n",
              "      <td>311</td>\n",
              "    </tr>\n",
              "    <tr>\n",
              "      <th>27</th>\n",
              "      <td>1/28/2016</td>\n",
              "      <td>37</td>\n",
              "      <td>20</td>\n",
              "      <td>51</td>\n",
              "      <td>29.90</td>\n",
              "      <td>10</td>\n",
              "      <td>5.0</td>\n",
              "      <td>0</td>\n",
              "      <td>1</td>\n",
              "      <td>NaN</td>\n",
              "      <td>234</td>\n",
              "    </tr>\n",
              "    <tr>\n",
              "      <th>28</th>\n",
              "      <td>1/29/2016</td>\n",
              "      <td>36</td>\n",
              "      <td>21</td>\n",
              "      <td>50</td>\n",
              "      <td>29.58</td>\n",
              "      <td>10</td>\n",
              "      <td>8.0</td>\n",
              "      <td>0</td>\n",
              "      <td>4</td>\n",
              "      <td>NaN</td>\n",
              "      <td>298</td>\n",
              "    </tr>\n",
              "    <tr>\n",
              "      <th>29</th>\n",
              "      <td>1/30/2016</td>\n",
              "      <td>34</td>\n",
              "      <td>16</td>\n",
              "      <td>46</td>\n",
              "      <td>30.01</td>\n",
              "      <td>10</td>\n",
              "      <td>7.0</td>\n",
              "      <td>0</td>\n",
              "      <td>0</td>\n",
              "      <td>NaN</td>\n",
              "      <td>257</td>\n",
              "    </tr>\n",
              "    <tr>\n",
              "      <th>30</th>\n",
              "      <td>1/31/2016</td>\n",
              "      <td>46</td>\n",
              "      <td>28</td>\n",
              "      <td>52</td>\n",
              "      <td>29.90</td>\n",
              "      <td>10</td>\n",
              "      <td>5.0</td>\n",
              "      <td>0</td>\n",
              "      <td>0</td>\n",
              "      <td>NaN</td>\n",
              "      <td>241</td>\n",
              "    </tr>\n",
              "  </tbody>\n",
              "</table>\n",
              "</div>\n",
              "      <button class=\"colab-df-convert\" onclick=\"convertToInteractive('df-5060e0a0-18c8-422c-a0a5-a7a013cf3d09')\"\n",
              "              title=\"Convert this dataframe to an interactive table.\"\n",
              "              style=\"display:none;\">\n",
              "        \n",
              "  <svg xmlns=\"http://www.w3.org/2000/svg\" height=\"24px\"viewBox=\"0 0 24 24\"\n",
              "       width=\"24px\">\n",
              "    <path d=\"M0 0h24v24H0V0z\" fill=\"none\"/>\n",
              "    <path d=\"M18.56 5.44l.94 2.06.94-2.06 2.06-.94-2.06-.94-.94-2.06-.94 2.06-2.06.94zm-11 1L8.5 8.5l.94-2.06 2.06-.94-2.06-.94L8.5 2.5l-.94 2.06-2.06.94zm10 10l.94 2.06.94-2.06 2.06-.94-2.06-.94-.94-2.06-.94 2.06-2.06.94z\"/><path d=\"M17.41 7.96l-1.37-1.37c-.4-.4-.92-.59-1.43-.59-.52 0-1.04.2-1.43.59L10.3 9.45l-7.72 7.72c-.78.78-.78 2.05 0 2.83L4 21.41c.39.39.9.59 1.41.59.51 0 1.02-.2 1.41-.59l7.78-7.78 2.81-2.81c.8-.78.8-2.07 0-2.86zM5.41 20L4 18.59l7.72-7.72 1.47 1.35L5.41 20z\"/>\n",
              "  </svg>\n",
              "      </button>\n",
              "      \n",
              "  <style>\n",
              "    .colab-df-container {\n",
              "      display:flex;\n",
              "      flex-wrap:wrap;\n",
              "      gap: 12px;\n",
              "    }\n",
              "\n",
              "    .colab-df-convert {\n",
              "      background-color: #E8F0FE;\n",
              "      border: none;\n",
              "      border-radius: 50%;\n",
              "      cursor: pointer;\n",
              "      display: none;\n",
              "      fill: #1967D2;\n",
              "      height: 32px;\n",
              "      padding: 0 0 0 0;\n",
              "      width: 32px;\n",
              "    }\n",
              "\n",
              "    .colab-df-convert:hover {\n",
              "      background-color: #E2EBFA;\n",
              "      box-shadow: 0px 1px 2px rgba(60, 64, 67, 0.3), 0px 1px 3px 1px rgba(60, 64, 67, 0.15);\n",
              "      fill: #174EA6;\n",
              "    }\n",
              "\n",
              "    [theme=dark] .colab-df-convert {\n",
              "      background-color: #3B4455;\n",
              "      fill: #D2E3FC;\n",
              "    }\n",
              "\n",
              "    [theme=dark] .colab-df-convert:hover {\n",
              "      background-color: #434B5C;\n",
              "      box-shadow: 0px 1px 3px 1px rgba(0, 0, 0, 0.15);\n",
              "      filter: drop-shadow(0px 1px 2px rgba(0, 0, 0, 0.3));\n",
              "      fill: #FFFFFF;\n",
              "    }\n",
              "  </style>\n",
              "\n",
              "      <script>\n",
              "        const buttonEl =\n",
              "          document.querySelector('#df-5060e0a0-18c8-422c-a0a5-a7a013cf3d09 button.colab-df-convert');\n",
              "        buttonEl.style.display =\n",
              "          google.colab.kernel.accessAllowed ? 'block' : 'none';\n",
              "\n",
              "        async function convertToInteractive(key) {\n",
              "          const element = document.querySelector('#df-5060e0a0-18c8-422c-a0a5-a7a013cf3d09');\n",
              "          const dataTable =\n",
              "            await google.colab.kernel.invokeFunction('convertToInteractive',\n",
              "                                                     [key], {});\n",
              "          if (!dataTable) return;\n",
              "\n",
              "          const docLinkHtml = 'Like what you see? Visit the ' +\n",
              "            '<a target=\"_blank\" href=https://colab.research.google.com/notebooks/data_table.ipynb>data table notebook</a>'\n",
              "            + ' to learn more about interactive tables.';\n",
              "          element.innerHTML = '';\n",
              "          dataTable['output_type'] = 'display_data';\n",
              "          await google.colab.output.renderOutput(dataTable, element);\n",
              "          const docLink = document.createElement('div');\n",
              "          docLink.innerHTML = docLinkHtml;\n",
              "          element.appendChild(docLink);\n",
              "        }\n",
              "      </script>\n",
              "    </div>\n",
              "  </div>\n",
              "  "
            ]
          },
          "metadata": {},
          "execution_count": 37
        }
      ]
    },
    {
      "cell_type": "code",
      "source": [
        "df['Temperature'].max()"
      ],
      "metadata": {
        "colab": {
          "base_uri": "https://localhost:8080/"
        },
        "id": "ePLwjOOg5zQi",
        "outputId": "b26178c4-5b70-459d-b38c-a8444fe8570d"
      },
      "execution_count": 38,
      "outputs": [
        {
          "output_type": "execute_result",
          "data": {
            "text/plain": [
              "50"
            ]
          },
          "metadata": {},
          "execution_count": 38
        }
      ]
    },
    {
      "cell_type": "code",
      "source": [
        "#est, events, rain\n",
        "df['EST'][df['Events'] == 'Rain']"
      ],
      "metadata": {
        "colab": {
          "base_uri": "https://localhost:8080/"
        },
        "id": "YKVmUnmn50zU",
        "outputId": "36d8ff5e-7e47-48d4-a4b6-4a2d3bc87fde"
      },
      "execution_count": 39,
      "outputs": [
        {
          "output_type": "execute_result",
          "data": {
            "text/plain": [
              "8      1/9/2016\n",
              "9     1/10/2016\n",
              "15    1/16/2016\n",
              "26    1/27/2016\n",
              "Name: EST, dtype: object"
            ]
          },
          "metadata": {},
          "execution_count": 39
        }
      ]
    },
    {
      "cell_type": "code",
      "source": [
        "#mean of WindSpeedMPH\n",
        "df['WindSpeedMPH'].mean()"
      ],
      "metadata": {
        "colab": {
          "base_uri": "https://localhost:8080/"
        },
        "id": "jpifDvW752Bp",
        "outputId": "e6a027b4-cf58-4381-bd9c-bc66990f4a71"
      },
      "execution_count": 40,
      "outputs": [
        {
          "output_type": "execute_result",
          "data": {
            "text/plain": [
              "6.892857142857143"
            ]
          },
          "metadata": {},
          "execution_count": 40
        }
      ]
    },
    {
      "cell_type": "code",
      "source": [],
      "metadata": {
        "id": "fs5JAF1M53XZ"
      },
      "execution_count": null,
      "outputs": []
    }
  ]
}