{
  "nbformat": 4,
  "nbformat_minor": 0,
  "metadata": {
    "colab": {
      "provenance": [],
      "toc_visible": true
    },
    "kernelspec": {
      "name": "python3",
      "display_name": "Python 3"
    },
    "language_info": {
      "name": "python"
    }
  },
  "cells": [
    {
      "cell_type": "markdown",
      "source": [
        "# SVM Application"
      ],
      "metadata": {
        "id": "MqxkM4mIptDp"
      }
    },
    {
      "cell_type": "markdown",
      "source": [
        "## Importing packages"
      ],
      "metadata": {
        "id": "MhTR9FxNqmwK"
      }
    },
    {
      "cell_type": "code",
      "execution_count": 1,
      "metadata": {
        "id": "3p3BZZNXpKEY"
      },
      "outputs": [],
      "source": [
        "import pandas as pd\n",
        "import numpy as np\n",
        "import seaborn as sb\n",
        "import matplotlib.pyplot as plt"
      ]
    },
    {
      "cell_type": "markdown",
      "source": [
        "## Loading dataset"
      ],
      "metadata": {
        "id": "pkYtaUT_qqIU"
      }
    },
    {
      "cell_type": "code",
      "source": [
        "df = pd.read_csv('D13data1.csv')\n",
        "df"
      ],
      "metadata": {
        "colab": {
          "base_uri": "https://localhost:8080/",
          "height": 557
        },
        "id": "ylFAXUUSpwH0",
        "outputId": "b51d301d-3de9-401b-dccd-62aabbf7273a"
      },
      "execution_count": 2,
      "outputs": [
        {
          "output_type": "execute_result",
          "data": {
            "text/plain": [
              "        Mean of the integrated profile  \\\n",
              "0                           140.562500   \n",
              "1                           102.507812   \n",
              "2                           103.015625   \n",
              "3                           136.750000   \n",
              "4                            88.726562   \n",
              "...                                ...   \n",
              "17893                       136.429688   \n",
              "17894                       122.554688   \n",
              "17895                       119.335938   \n",
              "17896                       114.507812   \n",
              "17897                        57.062500   \n",
              "\n",
              "        Standard deviation of the integrated profile  \\\n",
              "0                                          55.683782   \n",
              "1                                          58.882430   \n",
              "2                                          39.341649   \n",
              "3                                          57.178449   \n",
              "4                                          40.672225   \n",
              "...                                              ...   \n",
              "17893                                      59.847421   \n",
              "17894                                      49.485605   \n",
              "17895                                      59.935939   \n",
              "17896                                      53.902400   \n",
              "17897                                      85.797340   \n",
              "\n",
              "        Excess kurtosis of the integrated profile  \\\n",
              "0                                       -0.234571   \n",
              "1                                        0.465318   \n",
              "2                                        0.323328   \n",
              "3                                       -0.068415   \n",
              "4                                        0.600866   \n",
              "...                                           ...   \n",
              "17893                                   -0.187846   \n",
              "17894                                    0.127978   \n",
              "17895                                    0.159363   \n",
              "17896                                    0.201161   \n",
              "17897                                    1.406391   \n",
              "\n",
              "        Skewness of the integrated profile   Mean of the DM-SNR curve  \\\n",
              "0                                -0.699648                   3.199833   \n",
              "1                                -0.515088                   1.677258   \n",
              "2                                 1.051164                   3.121237   \n",
              "3                                -0.636238                   3.642977   \n",
              "4                                 1.123492                   1.178930   \n",
              "...                                    ...                        ...   \n",
              "17893                            -0.738123                   1.296823   \n",
              "17894                             0.323061                  16.409699   \n",
              "17895                            -0.743025                  21.430602   \n",
              "17896                            -0.024789                   1.946488   \n",
              "17897                             0.089520                 188.306020   \n",
              "\n",
              "        Standard deviation of the DM-SNR curve  \\\n",
              "0                                    19.110426   \n",
              "1                                    14.860146   \n",
              "2                                    21.744669   \n",
              "3                                    20.959280   \n",
              "4                                    11.468720   \n",
              "...                                        ...   \n",
              "17893                                12.166062   \n",
              "17894                                44.626893   \n",
              "17895                                58.872000   \n",
              "17896                                13.381731   \n",
              "17897                                64.712562   \n",
              "\n",
              "        Excess kurtosis of the DM-SNR curve   Skewness of the DM-SNR curve  \\\n",
              "0                                  7.975532                      74.242225   \n",
              "1                                 10.576487                     127.393580   \n",
              "2                                  7.735822                      63.171909   \n",
              "3                                  6.896499                      53.593661   \n",
              "4                                 14.269573                     252.567306   \n",
              "...                                     ...                            ...   \n",
              "17893                             15.450260                     285.931022   \n",
              "17894                              2.945244                       8.297092   \n",
              "17895                              2.499517                       4.595173   \n",
              "17896                             10.007967                     134.238910   \n",
              "17897                             -1.597527                       1.429475   \n",
              "\n",
              "       target_class  \n",
              "0                 0  \n",
              "1                 0  \n",
              "2                 0  \n",
              "3                 0  \n",
              "4                 0  \n",
              "...             ...  \n",
              "17893             0  \n",
              "17894             0  \n",
              "17895             0  \n",
              "17896             0  \n",
              "17897             0  \n",
              "\n",
              "[17898 rows x 9 columns]"
            ],
            "text/html": [
              "\n",
              "\n",
              "  <div id=\"df-7286399b-e45a-4fde-8466-4c23674e4bb9\">\n",
              "    <div class=\"colab-df-container\">\n",
              "      <div>\n",
              "<style scoped>\n",
              "    .dataframe tbody tr th:only-of-type {\n",
              "        vertical-align: middle;\n",
              "    }\n",
              "\n",
              "    .dataframe tbody tr th {\n",
              "        vertical-align: top;\n",
              "    }\n",
              "\n",
              "    .dataframe thead th {\n",
              "        text-align: right;\n",
              "    }\n",
              "</style>\n",
              "<table border=\"1\" class=\"dataframe\">\n",
              "  <thead>\n",
              "    <tr style=\"text-align: right;\">\n",
              "      <th></th>\n",
              "      <th>Mean of the integrated profile</th>\n",
              "      <th>Standard deviation of the integrated profile</th>\n",
              "      <th>Excess kurtosis of the integrated profile</th>\n",
              "      <th>Skewness of the integrated profile</th>\n",
              "      <th>Mean of the DM-SNR curve</th>\n",
              "      <th>Standard deviation of the DM-SNR curve</th>\n",
              "      <th>Excess kurtosis of the DM-SNR curve</th>\n",
              "      <th>Skewness of the DM-SNR curve</th>\n",
              "      <th>target_class</th>\n",
              "    </tr>\n",
              "  </thead>\n",
              "  <tbody>\n",
              "    <tr>\n",
              "      <th>0</th>\n",
              "      <td>140.562500</td>\n",
              "      <td>55.683782</td>\n",
              "      <td>-0.234571</td>\n",
              "      <td>-0.699648</td>\n",
              "      <td>3.199833</td>\n",
              "      <td>19.110426</td>\n",
              "      <td>7.975532</td>\n",
              "      <td>74.242225</td>\n",
              "      <td>0</td>\n",
              "    </tr>\n",
              "    <tr>\n",
              "      <th>1</th>\n",
              "      <td>102.507812</td>\n",
              "      <td>58.882430</td>\n",
              "      <td>0.465318</td>\n",
              "      <td>-0.515088</td>\n",
              "      <td>1.677258</td>\n",
              "      <td>14.860146</td>\n",
              "      <td>10.576487</td>\n",
              "      <td>127.393580</td>\n",
              "      <td>0</td>\n",
              "    </tr>\n",
              "    <tr>\n",
              "      <th>2</th>\n",
              "      <td>103.015625</td>\n",
              "      <td>39.341649</td>\n",
              "      <td>0.323328</td>\n",
              "      <td>1.051164</td>\n",
              "      <td>3.121237</td>\n",
              "      <td>21.744669</td>\n",
              "      <td>7.735822</td>\n",
              "      <td>63.171909</td>\n",
              "      <td>0</td>\n",
              "    </tr>\n",
              "    <tr>\n",
              "      <th>3</th>\n",
              "      <td>136.750000</td>\n",
              "      <td>57.178449</td>\n",
              "      <td>-0.068415</td>\n",
              "      <td>-0.636238</td>\n",
              "      <td>3.642977</td>\n",
              "      <td>20.959280</td>\n",
              "      <td>6.896499</td>\n",
              "      <td>53.593661</td>\n",
              "      <td>0</td>\n",
              "    </tr>\n",
              "    <tr>\n",
              "      <th>4</th>\n",
              "      <td>88.726562</td>\n",
              "      <td>40.672225</td>\n",
              "      <td>0.600866</td>\n",
              "      <td>1.123492</td>\n",
              "      <td>1.178930</td>\n",
              "      <td>11.468720</td>\n",
              "      <td>14.269573</td>\n",
              "      <td>252.567306</td>\n",
              "      <td>0</td>\n",
              "    </tr>\n",
              "    <tr>\n",
              "      <th>...</th>\n",
              "      <td>...</td>\n",
              "      <td>...</td>\n",
              "      <td>...</td>\n",
              "      <td>...</td>\n",
              "      <td>...</td>\n",
              "      <td>...</td>\n",
              "      <td>...</td>\n",
              "      <td>...</td>\n",
              "      <td>...</td>\n",
              "    </tr>\n",
              "    <tr>\n",
              "      <th>17893</th>\n",
              "      <td>136.429688</td>\n",
              "      <td>59.847421</td>\n",
              "      <td>-0.187846</td>\n",
              "      <td>-0.738123</td>\n",
              "      <td>1.296823</td>\n",
              "      <td>12.166062</td>\n",
              "      <td>15.450260</td>\n",
              "      <td>285.931022</td>\n",
              "      <td>0</td>\n",
              "    </tr>\n",
              "    <tr>\n",
              "      <th>17894</th>\n",
              "      <td>122.554688</td>\n",
              "      <td>49.485605</td>\n",
              "      <td>0.127978</td>\n",
              "      <td>0.323061</td>\n",
              "      <td>16.409699</td>\n",
              "      <td>44.626893</td>\n",
              "      <td>2.945244</td>\n",
              "      <td>8.297092</td>\n",
              "      <td>0</td>\n",
              "    </tr>\n",
              "    <tr>\n",
              "      <th>17895</th>\n",
              "      <td>119.335938</td>\n",
              "      <td>59.935939</td>\n",
              "      <td>0.159363</td>\n",
              "      <td>-0.743025</td>\n",
              "      <td>21.430602</td>\n",
              "      <td>58.872000</td>\n",
              "      <td>2.499517</td>\n",
              "      <td>4.595173</td>\n",
              "      <td>0</td>\n",
              "    </tr>\n",
              "    <tr>\n",
              "      <th>17896</th>\n",
              "      <td>114.507812</td>\n",
              "      <td>53.902400</td>\n",
              "      <td>0.201161</td>\n",
              "      <td>-0.024789</td>\n",
              "      <td>1.946488</td>\n",
              "      <td>13.381731</td>\n",
              "      <td>10.007967</td>\n",
              "      <td>134.238910</td>\n",
              "      <td>0</td>\n",
              "    </tr>\n",
              "    <tr>\n",
              "      <th>17897</th>\n",
              "      <td>57.062500</td>\n",
              "      <td>85.797340</td>\n",
              "      <td>1.406391</td>\n",
              "      <td>0.089520</td>\n",
              "      <td>188.306020</td>\n",
              "      <td>64.712562</td>\n",
              "      <td>-1.597527</td>\n",
              "      <td>1.429475</td>\n",
              "      <td>0</td>\n",
              "    </tr>\n",
              "  </tbody>\n",
              "</table>\n",
              "<p>17898 rows × 9 columns</p>\n",
              "</div>\n",
              "      <button class=\"colab-df-convert\" onclick=\"convertToInteractive('df-7286399b-e45a-4fde-8466-4c23674e4bb9')\"\n",
              "              title=\"Convert this dataframe to an interactive table.\"\n",
              "              style=\"display:none;\">\n",
              "\n",
              "  <svg xmlns=\"http://www.w3.org/2000/svg\" height=\"24px\"viewBox=\"0 0 24 24\"\n",
              "       width=\"24px\">\n",
              "    <path d=\"M0 0h24v24H0V0z\" fill=\"none\"/>\n",
              "    <path d=\"M18.56 5.44l.94 2.06.94-2.06 2.06-.94-2.06-.94-.94-2.06-.94 2.06-2.06.94zm-11 1L8.5 8.5l.94-2.06 2.06-.94-2.06-.94L8.5 2.5l-.94 2.06-2.06.94zm10 10l.94 2.06.94-2.06 2.06-.94-2.06-.94-.94-2.06-.94 2.06-2.06.94z\"/><path d=\"M17.41 7.96l-1.37-1.37c-.4-.4-.92-.59-1.43-.59-.52 0-1.04.2-1.43.59L10.3 9.45l-7.72 7.72c-.78.78-.78 2.05 0 2.83L4 21.41c.39.39.9.59 1.41.59.51 0 1.02-.2 1.41-.59l7.78-7.78 2.81-2.81c.8-.78.8-2.07 0-2.86zM5.41 20L4 18.59l7.72-7.72 1.47 1.35L5.41 20z\"/>\n",
              "  </svg>\n",
              "      </button>\n",
              "\n",
              "\n",
              "\n",
              "    <div id=\"df-15fd7aaa-bb1c-44f8-82d2-e328655472b4\">\n",
              "      <button class=\"colab-df-quickchart\" onclick=\"quickchart('df-15fd7aaa-bb1c-44f8-82d2-e328655472b4')\"\n",
              "              title=\"Suggest charts.\"\n",
              "              style=\"display:none;\">\n",
              "\n",
              "<svg xmlns=\"http://www.w3.org/2000/svg\" height=\"24px\"viewBox=\"0 0 24 24\"\n",
              "     width=\"24px\">\n",
              "    <g>\n",
              "        <path d=\"M19 3H5c-1.1 0-2 .9-2 2v14c0 1.1.9 2 2 2h14c1.1 0 2-.9 2-2V5c0-1.1-.9-2-2-2zM9 17H7v-7h2v7zm4 0h-2V7h2v10zm4 0h-2v-4h2v4z\"/>\n",
              "    </g>\n",
              "</svg>\n",
              "      </button>\n",
              "    </div>\n",
              "\n",
              "<style>\n",
              "  .colab-df-quickchart {\n",
              "    background-color: #E8F0FE;\n",
              "    border: none;\n",
              "    border-radius: 50%;\n",
              "    cursor: pointer;\n",
              "    display: none;\n",
              "    fill: #1967D2;\n",
              "    height: 32px;\n",
              "    padding: 0 0 0 0;\n",
              "    width: 32px;\n",
              "  }\n",
              "\n",
              "  .colab-df-quickchart:hover {\n",
              "    background-color: #E2EBFA;\n",
              "    box-shadow: 0px 1px 2px rgba(60, 64, 67, 0.3), 0px 1px 3px 1px rgba(60, 64, 67, 0.15);\n",
              "    fill: #174EA6;\n",
              "  }\n",
              "\n",
              "  [theme=dark] .colab-df-quickchart {\n",
              "    background-color: #3B4455;\n",
              "    fill: #D2E3FC;\n",
              "  }\n",
              "\n",
              "  [theme=dark] .colab-df-quickchart:hover {\n",
              "    background-color: #434B5C;\n",
              "    box-shadow: 0px 1px 3px 1px rgba(0, 0, 0, 0.15);\n",
              "    filter: drop-shadow(0px 1px 2px rgba(0, 0, 0, 0.3));\n",
              "    fill: #FFFFFF;\n",
              "  }\n",
              "</style>\n",
              "\n",
              "    <script>\n",
              "      async function quickchart(key) {\n",
              "        const containerElement = document.querySelector('#' + key);\n",
              "        const charts = await google.colab.kernel.invokeFunction(\n",
              "            'suggestCharts', [key], {});\n",
              "      }\n",
              "    </script>\n",
              "\n",
              "      <script>\n",
              "\n",
              "function displayQuickchartButton(domScope) {\n",
              "  let quickchartButtonEl =\n",
              "    domScope.querySelector('#df-15fd7aaa-bb1c-44f8-82d2-e328655472b4 button.colab-df-quickchart');\n",
              "  quickchartButtonEl.style.display =\n",
              "    google.colab.kernel.accessAllowed ? 'block' : 'none';\n",
              "}\n",
              "\n",
              "        displayQuickchartButton(document);\n",
              "      </script>\n",
              "      <style>\n",
              "    .colab-df-container {\n",
              "      display:flex;\n",
              "      flex-wrap:wrap;\n",
              "      gap: 12px;\n",
              "    }\n",
              "\n",
              "    .colab-df-convert {\n",
              "      background-color: #E8F0FE;\n",
              "      border: none;\n",
              "      border-radius: 50%;\n",
              "      cursor: pointer;\n",
              "      display: none;\n",
              "      fill: #1967D2;\n",
              "      height: 32px;\n",
              "      padding: 0 0 0 0;\n",
              "      width: 32px;\n",
              "    }\n",
              "\n",
              "    .colab-df-convert:hover {\n",
              "      background-color: #E2EBFA;\n",
              "      box-shadow: 0px 1px 2px rgba(60, 64, 67, 0.3), 0px 1px 3px 1px rgba(60, 64, 67, 0.15);\n",
              "      fill: #174EA6;\n",
              "    }\n",
              "\n",
              "    [theme=dark] .colab-df-convert {\n",
              "      background-color: #3B4455;\n",
              "      fill: #D2E3FC;\n",
              "    }\n",
              "\n",
              "    [theme=dark] .colab-df-convert:hover {\n",
              "      background-color: #434B5C;\n",
              "      box-shadow: 0px 1px 3px 1px rgba(0, 0, 0, 0.15);\n",
              "      filter: drop-shadow(0px 1px 2px rgba(0, 0, 0, 0.3));\n",
              "      fill: #FFFFFF;\n",
              "    }\n",
              "  </style>\n",
              "\n",
              "      <script>\n",
              "        const buttonEl =\n",
              "          document.querySelector('#df-7286399b-e45a-4fde-8466-4c23674e4bb9 button.colab-df-convert');\n",
              "        buttonEl.style.display =\n",
              "          google.colab.kernel.accessAllowed ? 'block' : 'none';\n",
              "\n",
              "        async function convertToInteractive(key) {\n",
              "          const element = document.querySelector('#df-7286399b-e45a-4fde-8466-4c23674e4bb9');\n",
              "          const dataTable =\n",
              "            await google.colab.kernel.invokeFunction('convertToInteractive',\n",
              "                                                     [key], {});\n",
              "          if (!dataTable) return;\n",
              "\n",
              "          const docLinkHtml = 'Like what you see? Visit the ' +\n",
              "            '<a target=\"_blank\" href=https://colab.research.google.com/notebooks/data_table.ipynb>data table notebook</a>'\n",
              "            + ' to learn more about interactive tables.';\n",
              "          element.innerHTML = '';\n",
              "          dataTable['output_type'] = 'display_data';\n",
              "          await google.colab.output.renderOutput(dataTable, element);\n",
              "          const docLink = document.createElement('div');\n",
              "          docLink.innerHTML = docLinkHtml;\n",
              "          element.appendChild(docLink);\n",
              "        }\n",
              "      </script>\n",
              "    </div>\n",
              "  </div>\n"
            ]
          },
          "metadata": {},
          "execution_count": 2
        }
      ]
    },
    {
      "cell_type": "code",
      "source": [
        "df.info()"
      ],
      "metadata": {
        "colab": {
          "base_uri": "https://localhost:8080/"
        },
        "id": "rDS8XjFjqT0h",
        "outputId": "e357d7e9-d590-44f2-ca43-90619fba7b69"
      },
      "execution_count": 3,
      "outputs": [
        {
          "output_type": "stream",
          "name": "stdout",
          "text": [
            "<class 'pandas.core.frame.DataFrame'>\n",
            "RangeIndex: 17898 entries, 0 to 17897\n",
            "Data columns (total 9 columns):\n",
            " #   Column                                         Non-Null Count  Dtype  \n",
            "---  ------                                         --------------  -----  \n",
            " 0    Mean of the integrated profile                17898 non-null  float64\n",
            " 1    Standard deviation of the integrated profile  17898 non-null  float64\n",
            " 2    Excess kurtosis of the integrated profile     17898 non-null  float64\n",
            " 3    Skewness of the integrated profile            17898 non-null  float64\n",
            " 4    Mean of the DM-SNR curve                      17898 non-null  float64\n",
            " 5    Standard deviation of the DM-SNR curve        17898 non-null  float64\n",
            " 6    Excess kurtosis of the DM-SNR curve           17898 non-null  float64\n",
            " 7    Skewness of the DM-SNR curve                  17898 non-null  float64\n",
            " 8   target_class                                   17898 non-null  int64  \n",
            "dtypes: float64(8), int64(1)\n",
            "memory usage: 1.2 MB\n"
          ]
        }
      ]
    },
    {
      "cell_type": "code",
      "source": [
        "df.describe()"
      ],
      "metadata": {
        "colab": {
          "base_uri": "https://localhost:8080/",
          "height": 433
        },
        "id": "hwrhd2xJqWmL",
        "outputId": "5eef5db8-d451-4c63-b07b-c63e97d17482"
      },
      "execution_count": 4,
      "outputs": [
        {
          "output_type": "execute_result",
          "data": {
            "text/plain": [
              "        Mean of the integrated profile  \\\n",
              "count                     17898.000000   \n",
              "mean                        111.079968   \n",
              "std                          25.652935   \n",
              "min                           5.812500   \n",
              "25%                         100.929688   \n",
              "50%                         115.078125   \n",
              "75%                         127.085938   \n",
              "max                         192.617188   \n",
              "\n",
              "        Standard deviation of the integrated profile  \\\n",
              "count                                   17898.000000   \n",
              "mean                                       46.549532   \n",
              "std                                         6.843189   \n",
              "min                                        24.772042   \n",
              "25%                                        42.376018   \n",
              "50%                                        46.947479   \n",
              "75%                                        51.023202   \n",
              "max                                        98.778911   \n",
              "\n",
              "        Excess kurtosis of the integrated profile  \\\n",
              "count                                17898.000000   \n",
              "mean                                     0.477857   \n",
              "std                                      1.064040   \n",
              "min                                     -1.876011   \n",
              "25%                                      0.027098   \n",
              "50%                                      0.223240   \n",
              "75%                                      0.473325   \n",
              "max                                      8.069522   \n",
              "\n",
              "        Skewness of the integrated profile   Mean of the DM-SNR curve  \\\n",
              "count                         17898.000000               17898.000000   \n",
              "mean                              1.770279                  12.614400   \n",
              "std                               6.167913                  29.472897   \n",
              "min                              -1.791886                   0.213211   \n",
              "25%                              -0.188572                   1.923077   \n",
              "50%                               0.198710                   2.801839   \n",
              "75%                               0.927783                   5.464256   \n",
              "max                              68.101622                 223.392141   \n",
              "\n",
              "        Standard deviation of the DM-SNR curve  \\\n",
              "count                             17898.000000   \n",
              "mean                                 26.326515   \n",
              "std                                  19.470572   \n",
              "min                                   7.370432   \n",
              "25%                                  14.437332   \n",
              "50%                                  18.461316   \n",
              "75%                                  28.428104   \n",
              "max                                 110.642211   \n",
              "\n",
              "        Excess kurtosis of the DM-SNR curve   Skewness of the DM-SNR curve  \\\n",
              "count                          17898.000000                   17898.000000   \n",
              "mean                               8.303556                     104.857709   \n",
              "std                                4.506092                     106.514540   \n",
              "min                               -3.139270                      -1.976976   \n",
              "25%                                5.781506                      34.960504   \n",
              "50%                                8.433515                      83.064556   \n",
              "75%                               10.702959                     139.309330   \n",
              "max                               34.539844                    1191.000837   \n",
              "\n",
              "       target_class  \n",
              "count  17898.000000  \n",
              "mean       0.091574  \n",
              "std        0.288432  \n",
              "min        0.000000  \n",
              "25%        0.000000  \n",
              "50%        0.000000  \n",
              "75%        0.000000  \n",
              "max        1.000000  "
            ],
            "text/html": [
              "\n",
              "\n",
              "  <div id=\"df-17e915fa-4d70-4b90-b0ad-587373dd297b\">\n",
              "    <div class=\"colab-df-container\">\n",
              "      <div>\n",
              "<style scoped>\n",
              "    .dataframe tbody tr th:only-of-type {\n",
              "        vertical-align: middle;\n",
              "    }\n",
              "\n",
              "    .dataframe tbody tr th {\n",
              "        vertical-align: top;\n",
              "    }\n",
              "\n",
              "    .dataframe thead th {\n",
              "        text-align: right;\n",
              "    }\n",
              "</style>\n",
              "<table border=\"1\" class=\"dataframe\">\n",
              "  <thead>\n",
              "    <tr style=\"text-align: right;\">\n",
              "      <th></th>\n",
              "      <th>Mean of the integrated profile</th>\n",
              "      <th>Standard deviation of the integrated profile</th>\n",
              "      <th>Excess kurtosis of the integrated profile</th>\n",
              "      <th>Skewness of the integrated profile</th>\n",
              "      <th>Mean of the DM-SNR curve</th>\n",
              "      <th>Standard deviation of the DM-SNR curve</th>\n",
              "      <th>Excess kurtosis of the DM-SNR curve</th>\n",
              "      <th>Skewness of the DM-SNR curve</th>\n",
              "      <th>target_class</th>\n",
              "    </tr>\n",
              "  </thead>\n",
              "  <tbody>\n",
              "    <tr>\n",
              "      <th>count</th>\n",
              "      <td>17898.000000</td>\n",
              "      <td>17898.000000</td>\n",
              "      <td>17898.000000</td>\n",
              "      <td>17898.000000</td>\n",
              "      <td>17898.000000</td>\n",
              "      <td>17898.000000</td>\n",
              "      <td>17898.000000</td>\n",
              "      <td>17898.000000</td>\n",
              "      <td>17898.000000</td>\n",
              "    </tr>\n",
              "    <tr>\n",
              "      <th>mean</th>\n",
              "      <td>111.079968</td>\n",
              "      <td>46.549532</td>\n",
              "      <td>0.477857</td>\n",
              "      <td>1.770279</td>\n",
              "      <td>12.614400</td>\n",
              "      <td>26.326515</td>\n",
              "      <td>8.303556</td>\n",
              "      <td>104.857709</td>\n",
              "      <td>0.091574</td>\n",
              "    </tr>\n",
              "    <tr>\n",
              "      <th>std</th>\n",
              "      <td>25.652935</td>\n",
              "      <td>6.843189</td>\n",
              "      <td>1.064040</td>\n",
              "      <td>6.167913</td>\n",
              "      <td>29.472897</td>\n",
              "      <td>19.470572</td>\n",
              "      <td>4.506092</td>\n",
              "      <td>106.514540</td>\n",
              "      <td>0.288432</td>\n",
              "    </tr>\n",
              "    <tr>\n",
              "      <th>min</th>\n",
              "      <td>5.812500</td>\n",
              "      <td>24.772042</td>\n",
              "      <td>-1.876011</td>\n",
              "      <td>-1.791886</td>\n",
              "      <td>0.213211</td>\n",
              "      <td>7.370432</td>\n",
              "      <td>-3.139270</td>\n",
              "      <td>-1.976976</td>\n",
              "      <td>0.000000</td>\n",
              "    </tr>\n",
              "    <tr>\n",
              "      <th>25%</th>\n",
              "      <td>100.929688</td>\n",
              "      <td>42.376018</td>\n",
              "      <td>0.027098</td>\n",
              "      <td>-0.188572</td>\n",
              "      <td>1.923077</td>\n",
              "      <td>14.437332</td>\n",
              "      <td>5.781506</td>\n",
              "      <td>34.960504</td>\n",
              "      <td>0.000000</td>\n",
              "    </tr>\n",
              "    <tr>\n",
              "      <th>50%</th>\n",
              "      <td>115.078125</td>\n",
              "      <td>46.947479</td>\n",
              "      <td>0.223240</td>\n",
              "      <td>0.198710</td>\n",
              "      <td>2.801839</td>\n",
              "      <td>18.461316</td>\n",
              "      <td>8.433515</td>\n",
              "      <td>83.064556</td>\n",
              "      <td>0.000000</td>\n",
              "    </tr>\n",
              "    <tr>\n",
              "      <th>75%</th>\n",
              "      <td>127.085938</td>\n",
              "      <td>51.023202</td>\n",
              "      <td>0.473325</td>\n",
              "      <td>0.927783</td>\n",
              "      <td>5.464256</td>\n",
              "      <td>28.428104</td>\n",
              "      <td>10.702959</td>\n",
              "      <td>139.309330</td>\n",
              "      <td>0.000000</td>\n",
              "    </tr>\n",
              "    <tr>\n",
              "      <th>max</th>\n",
              "      <td>192.617188</td>\n",
              "      <td>98.778911</td>\n",
              "      <td>8.069522</td>\n",
              "      <td>68.101622</td>\n",
              "      <td>223.392141</td>\n",
              "      <td>110.642211</td>\n",
              "      <td>34.539844</td>\n",
              "      <td>1191.000837</td>\n",
              "      <td>1.000000</td>\n",
              "    </tr>\n",
              "  </tbody>\n",
              "</table>\n",
              "</div>\n",
              "      <button class=\"colab-df-convert\" onclick=\"convertToInteractive('df-17e915fa-4d70-4b90-b0ad-587373dd297b')\"\n",
              "              title=\"Convert this dataframe to an interactive table.\"\n",
              "              style=\"display:none;\">\n",
              "\n",
              "  <svg xmlns=\"http://www.w3.org/2000/svg\" height=\"24px\"viewBox=\"0 0 24 24\"\n",
              "       width=\"24px\">\n",
              "    <path d=\"M0 0h24v24H0V0z\" fill=\"none\"/>\n",
              "    <path d=\"M18.56 5.44l.94 2.06.94-2.06 2.06-.94-2.06-.94-.94-2.06-.94 2.06-2.06.94zm-11 1L8.5 8.5l.94-2.06 2.06-.94-2.06-.94L8.5 2.5l-.94 2.06-2.06.94zm10 10l.94 2.06.94-2.06 2.06-.94-2.06-.94-.94-2.06-.94 2.06-2.06.94z\"/><path d=\"M17.41 7.96l-1.37-1.37c-.4-.4-.92-.59-1.43-.59-.52 0-1.04.2-1.43.59L10.3 9.45l-7.72 7.72c-.78.78-.78 2.05 0 2.83L4 21.41c.39.39.9.59 1.41.59.51 0 1.02-.2 1.41-.59l7.78-7.78 2.81-2.81c.8-.78.8-2.07 0-2.86zM5.41 20L4 18.59l7.72-7.72 1.47 1.35L5.41 20z\"/>\n",
              "  </svg>\n",
              "      </button>\n",
              "\n",
              "\n",
              "\n",
              "    <div id=\"df-483581f9-b49f-4e62-a0be-b6b7a29381a7\">\n",
              "      <button class=\"colab-df-quickchart\" onclick=\"quickchart('df-483581f9-b49f-4e62-a0be-b6b7a29381a7')\"\n",
              "              title=\"Suggest charts.\"\n",
              "              style=\"display:none;\">\n",
              "\n",
              "<svg xmlns=\"http://www.w3.org/2000/svg\" height=\"24px\"viewBox=\"0 0 24 24\"\n",
              "     width=\"24px\">\n",
              "    <g>\n",
              "        <path d=\"M19 3H5c-1.1 0-2 .9-2 2v14c0 1.1.9 2 2 2h14c1.1 0 2-.9 2-2V5c0-1.1-.9-2-2-2zM9 17H7v-7h2v7zm4 0h-2V7h2v10zm4 0h-2v-4h2v4z\"/>\n",
              "    </g>\n",
              "</svg>\n",
              "      </button>\n",
              "    </div>\n",
              "\n",
              "<style>\n",
              "  .colab-df-quickchart {\n",
              "    background-color: #E8F0FE;\n",
              "    border: none;\n",
              "    border-radius: 50%;\n",
              "    cursor: pointer;\n",
              "    display: none;\n",
              "    fill: #1967D2;\n",
              "    height: 32px;\n",
              "    padding: 0 0 0 0;\n",
              "    width: 32px;\n",
              "  }\n",
              "\n",
              "  .colab-df-quickchart:hover {\n",
              "    background-color: #E2EBFA;\n",
              "    box-shadow: 0px 1px 2px rgba(60, 64, 67, 0.3), 0px 1px 3px 1px rgba(60, 64, 67, 0.15);\n",
              "    fill: #174EA6;\n",
              "  }\n",
              "\n",
              "  [theme=dark] .colab-df-quickchart {\n",
              "    background-color: #3B4455;\n",
              "    fill: #D2E3FC;\n",
              "  }\n",
              "\n",
              "  [theme=dark] .colab-df-quickchart:hover {\n",
              "    background-color: #434B5C;\n",
              "    box-shadow: 0px 1px 3px 1px rgba(0, 0, 0, 0.15);\n",
              "    filter: drop-shadow(0px 1px 2px rgba(0, 0, 0, 0.3));\n",
              "    fill: #FFFFFF;\n",
              "  }\n",
              "</style>\n",
              "\n",
              "    <script>\n",
              "      async function quickchart(key) {\n",
              "        const containerElement = document.querySelector('#' + key);\n",
              "        const charts = await google.colab.kernel.invokeFunction(\n",
              "            'suggestCharts', [key], {});\n",
              "      }\n",
              "    </script>\n",
              "\n",
              "      <script>\n",
              "\n",
              "function displayQuickchartButton(domScope) {\n",
              "  let quickchartButtonEl =\n",
              "    domScope.querySelector('#df-483581f9-b49f-4e62-a0be-b6b7a29381a7 button.colab-df-quickchart');\n",
              "  quickchartButtonEl.style.display =\n",
              "    google.colab.kernel.accessAllowed ? 'block' : 'none';\n",
              "}\n",
              "\n",
              "        displayQuickchartButton(document);\n",
              "      </script>\n",
              "      <style>\n",
              "    .colab-df-container {\n",
              "      display:flex;\n",
              "      flex-wrap:wrap;\n",
              "      gap: 12px;\n",
              "    }\n",
              "\n",
              "    .colab-df-convert {\n",
              "      background-color: #E8F0FE;\n",
              "      border: none;\n",
              "      border-radius: 50%;\n",
              "      cursor: pointer;\n",
              "      display: none;\n",
              "      fill: #1967D2;\n",
              "      height: 32px;\n",
              "      padding: 0 0 0 0;\n",
              "      width: 32px;\n",
              "    }\n",
              "\n",
              "    .colab-df-convert:hover {\n",
              "      background-color: #E2EBFA;\n",
              "      box-shadow: 0px 1px 2px rgba(60, 64, 67, 0.3), 0px 1px 3px 1px rgba(60, 64, 67, 0.15);\n",
              "      fill: #174EA6;\n",
              "    }\n",
              "\n",
              "    [theme=dark] .colab-df-convert {\n",
              "      background-color: #3B4455;\n",
              "      fill: #D2E3FC;\n",
              "    }\n",
              "\n",
              "    [theme=dark] .colab-df-convert:hover {\n",
              "      background-color: #434B5C;\n",
              "      box-shadow: 0px 1px 3px 1px rgba(0, 0, 0, 0.15);\n",
              "      filter: drop-shadow(0px 1px 2px rgba(0, 0, 0, 0.3));\n",
              "      fill: #FFFFFF;\n",
              "    }\n",
              "  </style>\n",
              "\n",
              "      <script>\n",
              "        const buttonEl =\n",
              "          document.querySelector('#df-17e915fa-4d70-4b90-b0ad-587373dd297b button.colab-df-convert');\n",
              "        buttonEl.style.display =\n",
              "          google.colab.kernel.accessAllowed ? 'block' : 'none';\n",
              "\n",
              "        async function convertToInteractive(key) {\n",
              "          const element = document.querySelector('#df-17e915fa-4d70-4b90-b0ad-587373dd297b');\n",
              "          const dataTable =\n",
              "            await google.colab.kernel.invokeFunction('convertToInteractive',\n",
              "                                                     [key], {});\n",
              "          if (!dataTable) return;\n",
              "\n",
              "          const docLinkHtml = 'Like what you see? Visit the ' +\n",
              "            '<a target=\"_blank\" href=https://colab.research.google.com/notebooks/data_table.ipynb>data table notebook</a>'\n",
              "            + ' to learn more about interactive tables.';\n",
              "          element.innerHTML = '';\n",
              "          dataTable['output_type'] = 'display_data';\n",
              "          await google.colab.output.renderOutput(dataTable, element);\n",
              "          const docLink = document.createElement('div');\n",
              "          docLink.innerHTML = docLinkHtml;\n",
              "          element.appendChild(docLink);\n",
              "        }\n",
              "      </script>\n",
              "    </div>\n",
              "  </div>\n"
            ]
          },
          "metadata": {},
          "execution_count": 4
        }
      ]
    },
    {
      "cell_type": "code",
      "source": [
        "df.columns"
      ],
      "metadata": {
        "colab": {
          "base_uri": "https://localhost:8080/"
        },
        "id": "ii1LF3HPqYB6",
        "outputId": "2ca87da4-b3c6-41f5-e894-079024b35287"
      },
      "execution_count": 5,
      "outputs": [
        {
          "output_type": "execute_result",
          "data": {
            "text/plain": [
              "Index([' Mean of the integrated profile',\n",
              "       ' Standard deviation of the integrated profile',\n",
              "       ' Excess kurtosis of the integrated profile',\n",
              "       ' Skewness of the integrated profile', ' Mean of the DM-SNR curve',\n",
              "       ' Standard deviation of the DM-SNR curve',\n",
              "       ' Excess kurtosis of the DM-SNR curve', ' Skewness of the DM-SNR curve',\n",
              "       'target_class'],\n",
              "      dtype='object')"
            ]
          },
          "metadata": {},
          "execution_count": 5
        }
      ]
    },
    {
      "cell_type": "markdown",
      "source": [
        "## Removing blank spaces from the column names"
      ],
      "metadata": {
        "id": "aCRxMopwtxtl"
      }
    },
    {
      "cell_type": "code",
      "source": [
        "df.columns = df.columns.str.strip()\n",
        "df.columns"
      ],
      "metadata": {
        "colab": {
          "base_uri": "https://localhost:8080/"
        },
        "id": "TYkj7Im0qaIB",
        "outputId": "d85e8cff-701d-4242-8625-487be8264326"
      },
      "execution_count": 6,
      "outputs": [
        {
          "output_type": "execute_result",
          "data": {
            "text/plain": [
              "Index(['Mean of the integrated profile',\n",
              "       'Standard deviation of the integrated profile',\n",
              "       'Excess kurtosis of the integrated profile',\n",
              "       'Skewness of the integrated profile', 'Mean of the DM-SNR curve',\n",
              "       'Standard deviation of the DM-SNR curve',\n",
              "       'Excess kurtosis of the DM-SNR curve', 'Skewness of the DM-SNR curve',\n",
              "       'target_class'],\n",
              "      dtype='object')"
            ]
          },
          "metadata": {},
          "execution_count": 6
        }
      ]
    },
    {
      "cell_type": "code",
      "source": [
        "df.columns = ['Mean','SD','Kurtosis','Skewness','Mean_DM_SNR','SD_DM-SNR','Kurtosis_DM-SNR','Skewness_DM-SNR','target_class']"
      ],
      "metadata": {
        "id": "R1MBNk6srDgE"
      },
      "execution_count": 8,
      "outputs": []
    },
    {
      "cell_type": "code",
      "source": [
        "df.head()"
      ],
      "metadata": {
        "colab": {
          "base_uri": "https://localhost:8080/",
          "height": 267
        },
        "id": "_3j1iOiErvDI",
        "outputId": "765de169-db54-442d-a543-8586bc936bd3"
      },
      "execution_count": 9,
      "outputs": [
        {
          "output_type": "execute_result",
          "data": {
            "text/plain": [
              "         Mean         SD  Kurtosis  Skewness  Mean_DM_SNR  SD_DM-SNR  \\\n",
              "0  140.562500  55.683782 -0.234571 -0.699648     3.199833  19.110426   \n",
              "1  102.507812  58.882430  0.465318 -0.515088     1.677258  14.860146   \n",
              "2  103.015625  39.341649  0.323328  1.051164     3.121237  21.744669   \n",
              "3  136.750000  57.178449 -0.068415 -0.636238     3.642977  20.959280   \n",
              "4   88.726562  40.672225  0.600866  1.123492     1.178930  11.468720   \n",
              "\n",
              "   Kurtosis_DM-SNR  Skewness_DM-SNR  target_class  \n",
              "0         7.975532        74.242225             0  \n",
              "1        10.576487       127.393580             0  \n",
              "2         7.735822        63.171909             0  \n",
              "3         6.896499        53.593661             0  \n",
              "4        14.269573       252.567306             0  "
            ],
            "text/html": [
              "\n",
              "\n",
              "  <div id=\"df-2e760efa-1420-4e78-ae69-8a04ebea5f04\">\n",
              "    <div class=\"colab-df-container\">\n",
              "      <div>\n",
              "<style scoped>\n",
              "    .dataframe tbody tr th:only-of-type {\n",
              "        vertical-align: middle;\n",
              "    }\n",
              "\n",
              "    .dataframe tbody tr th {\n",
              "        vertical-align: top;\n",
              "    }\n",
              "\n",
              "    .dataframe thead th {\n",
              "        text-align: right;\n",
              "    }\n",
              "</style>\n",
              "<table border=\"1\" class=\"dataframe\">\n",
              "  <thead>\n",
              "    <tr style=\"text-align: right;\">\n",
              "      <th></th>\n",
              "      <th>Mean</th>\n",
              "      <th>SD</th>\n",
              "      <th>Kurtosis</th>\n",
              "      <th>Skewness</th>\n",
              "      <th>Mean_DM_SNR</th>\n",
              "      <th>SD_DM-SNR</th>\n",
              "      <th>Kurtosis_DM-SNR</th>\n",
              "      <th>Skewness_DM-SNR</th>\n",
              "      <th>target_class</th>\n",
              "    </tr>\n",
              "  </thead>\n",
              "  <tbody>\n",
              "    <tr>\n",
              "      <th>0</th>\n",
              "      <td>140.562500</td>\n",
              "      <td>55.683782</td>\n",
              "      <td>-0.234571</td>\n",
              "      <td>-0.699648</td>\n",
              "      <td>3.199833</td>\n",
              "      <td>19.110426</td>\n",
              "      <td>7.975532</td>\n",
              "      <td>74.242225</td>\n",
              "      <td>0</td>\n",
              "    </tr>\n",
              "    <tr>\n",
              "      <th>1</th>\n",
              "      <td>102.507812</td>\n",
              "      <td>58.882430</td>\n",
              "      <td>0.465318</td>\n",
              "      <td>-0.515088</td>\n",
              "      <td>1.677258</td>\n",
              "      <td>14.860146</td>\n",
              "      <td>10.576487</td>\n",
              "      <td>127.393580</td>\n",
              "      <td>0</td>\n",
              "    </tr>\n",
              "    <tr>\n",
              "      <th>2</th>\n",
              "      <td>103.015625</td>\n",
              "      <td>39.341649</td>\n",
              "      <td>0.323328</td>\n",
              "      <td>1.051164</td>\n",
              "      <td>3.121237</td>\n",
              "      <td>21.744669</td>\n",
              "      <td>7.735822</td>\n",
              "      <td>63.171909</td>\n",
              "      <td>0</td>\n",
              "    </tr>\n",
              "    <tr>\n",
              "      <th>3</th>\n",
              "      <td>136.750000</td>\n",
              "      <td>57.178449</td>\n",
              "      <td>-0.068415</td>\n",
              "      <td>-0.636238</td>\n",
              "      <td>3.642977</td>\n",
              "      <td>20.959280</td>\n",
              "      <td>6.896499</td>\n",
              "      <td>53.593661</td>\n",
              "      <td>0</td>\n",
              "    </tr>\n",
              "    <tr>\n",
              "      <th>4</th>\n",
              "      <td>88.726562</td>\n",
              "      <td>40.672225</td>\n",
              "      <td>0.600866</td>\n",
              "      <td>1.123492</td>\n",
              "      <td>1.178930</td>\n",
              "      <td>11.468720</td>\n",
              "      <td>14.269573</td>\n",
              "      <td>252.567306</td>\n",
              "      <td>0</td>\n",
              "    </tr>\n",
              "  </tbody>\n",
              "</table>\n",
              "</div>\n",
              "      <button class=\"colab-df-convert\" onclick=\"convertToInteractive('df-2e760efa-1420-4e78-ae69-8a04ebea5f04')\"\n",
              "              title=\"Convert this dataframe to an interactive table.\"\n",
              "              style=\"display:none;\">\n",
              "\n",
              "  <svg xmlns=\"http://www.w3.org/2000/svg\" height=\"24px\"viewBox=\"0 0 24 24\"\n",
              "       width=\"24px\">\n",
              "    <path d=\"M0 0h24v24H0V0z\" fill=\"none\"/>\n",
              "    <path d=\"M18.56 5.44l.94 2.06.94-2.06 2.06-.94-2.06-.94-.94-2.06-.94 2.06-2.06.94zm-11 1L8.5 8.5l.94-2.06 2.06-.94-2.06-.94L8.5 2.5l-.94 2.06-2.06.94zm10 10l.94 2.06.94-2.06 2.06-.94-2.06-.94-.94-2.06-.94 2.06-2.06.94z\"/><path d=\"M17.41 7.96l-1.37-1.37c-.4-.4-.92-.59-1.43-.59-.52 0-1.04.2-1.43.59L10.3 9.45l-7.72 7.72c-.78.78-.78 2.05 0 2.83L4 21.41c.39.39.9.59 1.41.59.51 0 1.02-.2 1.41-.59l7.78-7.78 2.81-2.81c.8-.78.8-2.07 0-2.86zM5.41 20L4 18.59l7.72-7.72 1.47 1.35L5.41 20z\"/>\n",
              "  </svg>\n",
              "      </button>\n",
              "\n",
              "\n",
              "\n",
              "    <div id=\"df-b61ae6d6-66e9-4931-b3a8-599f2357b5c4\">\n",
              "      <button class=\"colab-df-quickchart\" onclick=\"quickchart('df-b61ae6d6-66e9-4931-b3a8-599f2357b5c4')\"\n",
              "              title=\"Suggest charts.\"\n",
              "              style=\"display:none;\">\n",
              "\n",
              "<svg xmlns=\"http://www.w3.org/2000/svg\" height=\"24px\"viewBox=\"0 0 24 24\"\n",
              "     width=\"24px\">\n",
              "    <g>\n",
              "        <path d=\"M19 3H5c-1.1 0-2 .9-2 2v14c0 1.1.9 2 2 2h14c1.1 0 2-.9 2-2V5c0-1.1-.9-2-2-2zM9 17H7v-7h2v7zm4 0h-2V7h2v10zm4 0h-2v-4h2v4z\"/>\n",
              "    </g>\n",
              "</svg>\n",
              "      </button>\n",
              "    </div>\n",
              "\n",
              "<style>\n",
              "  .colab-df-quickchart {\n",
              "    background-color: #E8F0FE;\n",
              "    border: none;\n",
              "    border-radius: 50%;\n",
              "    cursor: pointer;\n",
              "    display: none;\n",
              "    fill: #1967D2;\n",
              "    height: 32px;\n",
              "    padding: 0 0 0 0;\n",
              "    width: 32px;\n",
              "  }\n",
              "\n",
              "  .colab-df-quickchart:hover {\n",
              "    background-color: #E2EBFA;\n",
              "    box-shadow: 0px 1px 2px rgba(60, 64, 67, 0.3), 0px 1px 3px 1px rgba(60, 64, 67, 0.15);\n",
              "    fill: #174EA6;\n",
              "  }\n",
              "\n",
              "  [theme=dark] .colab-df-quickchart {\n",
              "    background-color: #3B4455;\n",
              "    fill: #D2E3FC;\n",
              "  }\n",
              "\n",
              "  [theme=dark] .colab-df-quickchart:hover {\n",
              "    background-color: #434B5C;\n",
              "    box-shadow: 0px 1px 3px 1px rgba(0, 0, 0, 0.15);\n",
              "    filter: drop-shadow(0px 1px 2px rgba(0, 0, 0, 0.3));\n",
              "    fill: #FFFFFF;\n",
              "  }\n",
              "</style>\n",
              "\n",
              "    <script>\n",
              "      async function quickchart(key) {\n",
              "        const containerElement = document.querySelector('#' + key);\n",
              "        const charts = await google.colab.kernel.invokeFunction(\n",
              "            'suggestCharts', [key], {});\n",
              "      }\n",
              "    </script>\n",
              "\n",
              "      <script>\n",
              "\n",
              "function displayQuickchartButton(domScope) {\n",
              "  let quickchartButtonEl =\n",
              "    domScope.querySelector('#df-b61ae6d6-66e9-4931-b3a8-599f2357b5c4 button.colab-df-quickchart');\n",
              "  quickchartButtonEl.style.display =\n",
              "    google.colab.kernel.accessAllowed ? 'block' : 'none';\n",
              "}\n",
              "\n",
              "        displayQuickchartButton(document);\n",
              "      </script>\n",
              "      <style>\n",
              "    .colab-df-container {\n",
              "      display:flex;\n",
              "      flex-wrap:wrap;\n",
              "      gap: 12px;\n",
              "    }\n",
              "\n",
              "    .colab-df-convert {\n",
              "      background-color: #E8F0FE;\n",
              "      border: none;\n",
              "      border-radius: 50%;\n",
              "      cursor: pointer;\n",
              "      display: none;\n",
              "      fill: #1967D2;\n",
              "      height: 32px;\n",
              "      padding: 0 0 0 0;\n",
              "      width: 32px;\n",
              "    }\n",
              "\n",
              "    .colab-df-convert:hover {\n",
              "      background-color: #E2EBFA;\n",
              "      box-shadow: 0px 1px 2px rgba(60, 64, 67, 0.3), 0px 1px 3px 1px rgba(60, 64, 67, 0.15);\n",
              "      fill: #174EA6;\n",
              "    }\n",
              "\n",
              "    [theme=dark] .colab-df-convert {\n",
              "      background-color: #3B4455;\n",
              "      fill: #D2E3FC;\n",
              "    }\n",
              "\n",
              "    [theme=dark] .colab-df-convert:hover {\n",
              "      background-color: #434B5C;\n",
              "      box-shadow: 0px 1px 3px 1px rgba(0, 0, 0, 0.15);\n",
              "      filter: drop-shadow(0px 1px 2px rgba(0, 0, 0, 0.3));\n",
              "      fill: #FFFFFF;\n",
              "    }\n",
              "  </style>\n",
              "\n",
              "      <script>\n",
              "        const buttonEl =\n",
              "          document.querySelector('#df-2e760efa-1420-4e78-ae69-8a04ebea5f04 button.colab-df-convert');\n",
              "        buttonEl.style.display =\n",
              "          google.colab.kernel.accessAllowed ? 'block' : 'none';\n",
              "\n",
              "        async function convertToInteractive(key) {\n",
              "          const element = document.querySelector('#df-2e760efa-1420-4e78-ae69-8a04ebea5f04');\n",
              "          const dataTable =\n",
              "            await google.colab.kernel.invokeFunction('convertToInteractive',\n",
              "                                                     [key], {});\n",
              "          if (!dataTable) return;\n",
              "\n",
              "          const docLinkHtml = 'Like what you see? Visit the ' +\n",
              "            '<a target=\"_blank\" href=https://colab.research.google.com/notebooks/data_table.ipynb>data table notebook</a>'\n",
              "            + ' to learn more about interactive tables.';\n",
              "          element.innerHTML = '';\n",
              "          dataTable['output_type'] = 'display_data';\n",
              "          await google.colab.output.renderOutput(dataTable, element);\n",
              "          const docLink = document.createElement('div');\n",
              "          docLink.innerHTML = docLinkHtml;\n",
              "          element.appendChild(docLink);\n",
              "        }\n",
              "      </script>\n",
              "    </div>\n",
              "  </div>\n"
            ]
          },
          "metadata": {},
          "execution_count": 9
        }
      ]
    },
    {
      "cell_type": "code",
      "source": [
        "df['target_class'].value_counts()"
      ],
      "metadata": {
        "colab": {
          "base_uri": "https://localhost:8080/"
        },
        "id": "B5QmJzsbr-6v",
        "outputId": "5eacffb4-a134-4f56-c672-ac43a8395d3e"
      },
      "execution_count": 12,
      "outputs": [
        {
          "output_type": "execute_result",
          "data": {
            "text/plain": [
              "0    16259\n",
              "1     1639\n",
              "Name: target_class, dtype: int64"
            ]
          },
          "metadata": {},
          "execution_count": 12
        }
      ]
    },
    {
      "cell_type": "markdown",
      "source": [
        "## EDA"
      ],
      "metadata": {
        "id": "Jq6ESBzkspvu"
      }
    },
    {
      "cell_type": "markdown",
      "source": [
        "### 1. Histogram for target class"
      ],
      "metadata": {
        "id": "VHND_Xk3A5_a"
      }
    },
    {
      "cell_type": "code",
      "source": [
        "sb.histplot(df[['target_class']])"
      ],
      "metadata": {
        "colab": {
          "base_uri": "https://localhost:8080/",
          "height": 447
        },
        "id": "9Do9UWavt_4o",
        "outputId": "9561e592-a1db-445f-ced2-2fa4717b5c63"
      },
      "execution_count": 17,
      "outputs": [
        {
          "output_type": "execute_result",
          "data": {
            "text/plain": [
              "<Axes: ylabel='Count'>"
            ]
          },
          "metadata": {},
          "execution_count": 17
        },
        {
          "output_type": "display_data",
          "data": {
            "text/plain": [
              "<Figure size 640x480 with 1 Axes>"
            ],
            "image/png": "[encoded data removed]"
          },
          "metadata": {}
        }
      ]
    },
    {
      "cell_type": "markdown",
      "source": [
        "### 2. Distribution plots for features"
      ],
      "metadata": {
        "id": "yLcx5lCdBFUY"
      }
    },
    {
      "cell_type": "markdown",
      "source": [
        "#### Distribution plot for 'Mean'"
      ],
      "metadata": {
        "id": "-nA_wB9vCzK5"
      }
    },
    {
      "cell_type": "code",
      "source": [
        "sb.distplot(x = df.Mean ,kde=True)"
      ],
      "metadata": {
        "colab": {
          "base_uri": "https://localhost:8080/",
          "height": 638
        },
        "id": "0KJ2tBvOASmO",
        "outputId": "66e5fea3-7b03-42ae-9b3b-29db6e1351d3"
      },
      "execution_count": 35,
      "outputs": [
        {
          "output_type": "stream",
          "name": "stderr",
          "text": [
            "<ipython-input-35-0905fd1b34ea>:1: UserWarning: \n",
            "\n",
            "`distplot` is a deprecated function and will be removed in seaborn v0.14.0.\n",
            "\n",
            "Please adapt your code to use either `displot` (a figure-level function with\n",
            "similar flexibility) or `histplot` (an axes-level function for histograms).\n",
            "\n",
            "For a guide to updating your code to use the new functions, please see\n",
            "https://gist.github.com/mwaskom/de44147ed2974457ad6372750bbe5751\n",
            "\n",
            "  sb.distplot(x = df.Mean ,kde=True)\n"
          ]
        },
        {
          "output_type": "execute_result",
          "data": {
            "text/plain": [
              "<Axes: ylabel='Density'>"
            ]
          },
          "metadata": {},
          "execution_count": 35
        },
        {
          "output_type": "display_data",
          "data": {
            "text/plain": [
              "<Figure size 640x480 with 1 Axes>"
            ],
            "image/png": "[encoded data removed]"
          },
          "metadata": {}
        }
      ]
    },
    {
      "cell_type": "markdown",
      "source": [
        "#### Distribution plot for 'SD'"
      ],
      "metadata": {
        "id": "fhvtLbDEC7KE"
      }
    },
    {
      "cell_type": "code",
      "source": [
        "sb.distplot(x = df.SD ,kde=True)"
      ],
      "metadata": {
        "colab": {
          "base_uri": "https://localhost:8080/",
          "height": 638
        },
        "id": "6Pii7UgCBOCV",
        "outputId": "4eb27e19-8b53-43e6-a653-2697ee5e605f"
      },
      "execution_count": 36,
      "outputs": [
        {
          "output_type": "stream",
          "name": "stderr",
          "text": [
            "<ipython-input-36-80b71bec54ba>:1: UserWarning: \n",
            "\n",
            "`distplot` is a deprecated function and will be removed in seaborn v0.14.0.\n",
            "\n",
            "Please adapt your code to use either `displot` (a figure-level function with\n",
            "similar flexibility) or `histplot` (an axes-level function for histograms).\n",
            "\n",
            "For a guide to updating your code to use the new functions, please see\n",
            "https://gist.github.com/mwaskom/de44147ed2974457ad6372750bbe5751\n",
            "\n",
            "  sb.distplot(x = df.SD ,kde=True)\n"
          ]
        },
        {
          "output_type": "execute_result",
          "data": {
            "text/plain": [
              "<Axes: ylabel='Density'>"
            ]
          },
          "metadata": {},
          "execution_count": 36
        },
        {
          "output_type": "display_data",
          "data": {
            "text/plain": [
              "<Figure size 640x480 with 1 Axes>"
            ],
            "image/png": "[encoded data removed]"
          },
          "metadata": {}
        }
      ]
    },
    {
      "cell_type": "markdown",
      "source": [
        "#### Distribution plot for 'Kurtosis'"
      ],
      "metadata": {
        "id": "Fv5AHl_cC98s"
      }
    },
    {
      "cell_type": "code",
      "source": [
        "sb.distplot(x = df.Kurtosis ,kde=True)"
      ],
      "metadata": {
        "colab": {
          "base_uri": "https://localhost:8080/",
          "height": 638
        },
        "id": "sDuKyFObBMPx",
        "outputId": "85fd2d67-4641-4b3a-bfcb-281595529949"
      },
      "execution_count": 37,
      "outputs": [
        {
          "output_type": "stream",
          "name": "stderr",
          "text": [
            "<ipython-input-37-dfeced9d4d16>:1: UserWarning: \n",
            "\n",
            "`distplot` is a deprecated function and will be removed in seaborn v0.14.0.\n",
            "\n",
            "Please adapt your code to use either `displot` (a figure-level function with\n",
            "similar flexibility) or `histplot` (an axes-level function for histograms).\n",
            "\n",
            "For a guide to updating your code to use the new functions, please see\n",
            "https://gist.github.com/mwaskom/de44147ed2974457ad6372750bbe5751\n",
            "\n",
            "  sb.distplot(x = df.Kurtosis ,kde=True)\n"
          ]
        },
        {
          "output_type": "execute_result",
          "data": {
            "text/plain": [
              "<Axes: ylabel='Density'>"
            ]
          },
          "metadata": {},
          "execution_count": 37
        },
        {
          "output_type": "display_data",
          "data": {
            "text/plain": [
              "<Figure size 640x480 with 1 Axes>"
            ],
            "image/png": "[encoded data removed]"
          },
          "metadata": {}
        }
      ]
    },
    {
      "cell_type": "markdown",
      "source": [
        "#### Distribution plot for 'Skewness'"
      ],
      "metadata": {
        "id": "fwB9uhmfDA3X"
      }
    },
    {
      "cell_type": "code",
      "source": [
        "sb.distplot(x = df.Skewness ,kde=True)"
      ],
      "metadata": {
        "colab": {
          "base_uri": "https://localhost:8080/",
          "height": 638
        },
        "id": "Y6p4_Wo8BMI-",
        "outputId": "c16a9d66-206c-49dc-e58a-7462b192e7fc"
      },
      "execution_count": 38,
      "outputs": [
        {
          "output_type": "stream",
          "name": "stderr",
          "text": [
            "<ipython-input-38-567d7ce30752>:1: UserWarning: \n",
            "\n",
            "`distplot` is a deprecated function and will be removed in seaborn v0.14.0.\n",
            "\n",
            "Please adapt your code to use either `displot` (a figure-level function with\n",
            "similar flexibility) or `histplot` (an axes-level function for histograms).\n",
            "\n",
            "For a guide to updating your code to use the new functions, please see\n",
            "https://gist.github.com/mwaskom/de44147ed2974457ad6372750bbe5751\n",
            "\n",
            "  sb.distplot(x = df.Skewness ,kde=True)\n"
          ]
        },
        {
          "output_type": "execute_result",
          "data": {
            "text/plain": [
              "<Axes: ylabel='Density'>"
            ]
          },
          "metadata": {},
          "execution_count": 38
        },
        {
          "output_type": "display_data",
          "data": {
            "text/plain": [
              "<Figure size 640x480 with 1 Axes>"
            ],
            "image/png": "[encoded data removed]"
          },
          "metadata": {}
        }
      ]
    },
    {
      "cell_type": "markdown",
      "source": [
        "#### Distribution plot for 'Mean_DM_SNR'"
      ],
      "metadata": {
        "id": "QAKMJ-aaDEnN"
      }
    },
    {
      "cell_type": "code",
      "source": [
        "sb.distplot(x = df.Mean_DM_SNR ,kde=True)"
      ],
      "metadata": {
        "colab": {
          "base_uri": "https://localhost:8080/",
          "height": 638
        },
        "id": "JiUHn8K3BMDt",
        "outputId": "5f84d039-cba7-46f8-cade-57c20e3a0240"
      },
      "execution_count": 39,
      "outputs": [
        {
          "output_type": "stream",
          "name": "stderr",
          "text": [
            "<ipython-input-39-daa1ec49df7e>:1: UserWarning: \n",
            "\n",
            "`distplot` is a deprecated function and will be removed in seaborn v0.14.0.\n",
            "\n",
            "Please adapt your code to use either `displot` (a figure-level function with\n",
            "similar flexibility) or `histplot` (an axes-level function for histograms).\n",
            "\n",
            "For a guide to updating your code to use the new functions, please see\n",
            "https://gist.github.com/mwaskom/de44147ed2974457ad6372750bbe5751\n",
            "\n",
            "  sb.distplot(x = df.Mean_DM_SNR ,kde=True)\n"
          ]
        },
        {
          "output_type": "execute_result",
          "data": {
            "text/plain": [
              "<Axes: ylabel='Density'>"
            ]
          },
          "metadata": {},
          "execution_count": 39
        },
        {
          "output_type": "display_data",
          "data": {
            "text/plain": [
              "<Figure size 640x480 with 1 Axes>"
            ],
            "image/png": "[encoded data removed]"
          },
          "metadata": {}
        }
      ]
    },
    {
      "cell_type": "markdown",
      "source": [
        "#### Distribution plot for 'SD_DM-SNR'"
      ],
      "metadata": {
        "id": "dKKmJBEEDJMC"
      }
    },
    {
      "cell_type": "code",
      "source": [
        "sb.distplot(x = df[['SD_DM-SNR']] ,kde=True)"
      ],
      "metadata": {
        "colab": {
          "base_uri": "https://localhost:8080/",
          "height": 638
        },
        "id": "vt2XZeMPBL8G",
        "outputId": "d14af9b6-3ba7-4879-c655-2c3a11932aaf"
      },
      "execution_count": 42,
      "outputs": [
        {
          "output_type": "stream",
          "name": "stderr",
          "text": [
            "<ipython-input-42-b5ada83dc0bb>:1: UserWarning: \n",
            "\n",
            "`distplot` is a deprecated function and will be removed in seaborn v0.14.0.\n",
            "\n",
            "Please adapt your code to use either `displot` (a figure-level function with\n",
            "similar flexibility) or `histplot` (an axes-level function for histograms).\n",
            "\n",
            "For a guide to updating your code to use the new functions, please see\n",
            "https://gist.github.com/mwaskom/de44147ed2974457ad6372750bbe5751\n",
            "\n",
            "  sb.distplot(x = df[['SD_DM-SNR']] ,kde=True)\n"
          ]
        },
        {
          "output_type": "execute_result",
          "data": {
            "text/plain": [
              "<Axes: ylabel='Density'>"
            ]
          },
          "metadata": {},
          "execution_count": 42
        },
        {
          "output_type": "display_data",
          "data": {
            "text/plain": [
              "<Figure size 640x480 with 1 Axes>"
            ],
            "image/png": "[encoded data removed]"
          },
          "metadata": {}
        }
      ]
    },
    {
      "cell_type": "markdown",
      "source": [
        "#### Distribution plot for 'Kurtosis_DM-SNR'"
      ],
      "metadata": {
        "id": "p2dtNSZiDNKh"
      }
    },
    {
      "cell_type": "code",
      "source": [
        "sb.distplot(x = df[['Kurtosis_DM-SNR']] ,kde=True)"
      ],
      "metadata": {
        "colab": {
          "base_uri": "https://localhost:8080/",
          "height": 638
        },
        "id": "PwBqQUXYCibC",
        "outputId": "c4e6eb60-0079-4d17-b714-0fc0570c7903"
      },
      "execution_count": 43,
      "outputs": [
        {
          "output_type": "stream",
          "name": "stderr",
          "text": [
            "<ipython-input-43-54a5a4c5487d>:1: UserWarning: \n",
            "\n",
            "`distplot` is a deprecated function and will be removed in seaborn v0.14.0.\n",
            "\n",
            "Please adapt your code to use either `displot` (a figure-level function with\n",
            "similar flexibility) or `histplot` (an axes-level function for histograms).\n",
            "\n",
            "For a guide to updating your code to use the new functions, please see\n",
            "https://gist.github.com/mwaskom/de44147ed2974457ad6372750bbe5751\n",
            "\n",
            "  sb.distplot(x = df[['Kurtosis_DM-SNR']] ,kde=True)\n"
          ]
        },
        {
          "output_type": "execute_result",
          "data": {
            "text/plain": [
              "<Axes: ylabel='Density'>"
            ]
          },
          "metadata": {},
          "execution_count": 43
        },
        {
          "output_type": "display_data",
          "data": {
            "text/plain": [
              "<Figure size 640x480 with 1 Axes>"
            ],
            "image/png": "[encoded data removed]"
          },
          "metadata": {}
        }
      ]
    },
    {
      "cell_type": "markdown",
      "source": [
        "#### Distribution plot for 'Skewness_DM-SNR'"
      ],
      "metadata": {
        "id": "bPm3mljTDUIf"
      }
    },
    {
      "cell_type": "code",
      "source": [
        "sb.distplot(x = df[['Skewness_DM-SNR']] ,kde=True)"
      ],
      "metadata": {
        "colab": {
          "base_uri": "https://localhost:8080/",
          "height": 638
        },
        "id": "7effLgaSBL14",
        "outputId": "72c8e241-7912-4981-e456-8339ca526570"
      },
      "execution_count": 44,
      "outputs": [
        {
          "output_type": "stream",
          "name": "stderr",
          "text": [
            "<ipython-input-44-a60c059c7c86>:1: UserWarning: \n",
            "\n",
            "`distplot` is a deprecated function and will be removed in seaborn v0.14.0.\n",
            "\n",
            "Please adapt your code to use either `displot` (a figure-level function with\n",
            "similar flexibility) or `histplot` (an axes-level function for histograms).\n",
            "\n",
            "For a guide to updating your code to use the new functions, please see\n",
            "https://gist.github.com/mwaskom/de44147ed2974457ad6372750bbe5751\n",
            "\n",
            "  sb.distplot(x = df[['Skewness_DM-SNR']] ,kde=True)\n"
          ]
        },
        {
          "output_type": "execute_result",
          "data": {
            "text/plain": [
              "<Axes: ylabel='Density'>"
            ]
          },
          "metadata": {},
          "execution_count": 44
        },
        {
          "output_type": "display_data",
          "data": {
            "text/plain": [
              "<Figure size 640x480 with 1 Axes>"
            ],
            "image/png": "[encoded data removed]"
          },
          "metadata": {}
        }
      ]
    },
    {
      "cell_type": "markdown",
      "source": [
        "### 3. Boxplot : outliers"
      ],
      "metadata": {
        "id": "nrWh_j4OBAOT"
      }
    },
    {
      "cell_type": "code",
      "source": [
        "#sb.set_style()\n",
        "plt.figure(figsize = (10,10))\n",
        "\n",
        "plt.subplot(4,2,1)\n",
        "f1 = df.boxplot(column = 'Mean')\n",
        "\n",
        "plt.subplot(4,2,2)\n",
        "f2 = df.boxplot(column = 'SD')\n",
        "\n",
        "plt.subplot(4,2,3)\n",
        "f3 = df.boxplot(column = 'Skewness')\n",
        "\n",
        "plt.subplot(4,2,4)\n",
        "f4 = df.boxplot(column = 'Kurtosis')\n",
        "\n",
        "plt.subplot(4,2,5)\n",
        "f5 = df.boxplot(column = 'Mean_DM_SNR')\n",
        "\n",
        "plt.subplot(4,2,6)\n",
        "f6 = df.boxplot(column = 'SD_DM-SNR')\n",
        "\n",
        "plt.subplot(4,2,7)\n",
        "f7 = df.boxplot(column = 'Kurtosis_DM-SNR')\n",
        "\n",
        "plt.subplot(4,2,8)\n",
        "f8 = df.boxplot(column = 'Skewness_DM-SNR')\n",
        "\n",
        "plt.show()"
      ],
      "metadata": {
        "colab": {
          "base_uri": "https://localhost:8080/",
          "height": 834
        },
        "id": "CiUf_1RZsLh8",
        "outputId": "0fca3c28-acdd-4de3-a27d-7878e3cbd890"
      },
      "execution_count": 20,
      "outputs": [
        {
          "output_type": "display_data",
          "data": {
            "text/plain": [
              "<Figure size 1000x1000 with 8 Axes>"
            ],
            "image/png": "[encoded data removed]"
          },
          "metadata": {}
        }
      ]
    },
    {
      "cell_type": "markdown",
      "source": [
        "## Corelation"
      ],
      "metadata": {
        "id": "wURntRREDqfL"
      }
    },
    {
      "cell_type": "code",
      "source": [
        "df.corr()"
      ],
      "metadata": {
        "colab": {
          "base_uri": "https://localhost:8080/",
          "height": 984
        },
        "id": "z6b9cg1ftl-b",
        "outputId": "2f38cd1f-07d7-417f-ee4b-a848692851e9"
      },
      "execution_count": 21,
      "outputs": [
        {
          "output_type": "execute_result",
          "data": {
            "text/plain": [
              "                     Mean        SD  Kurtosis  Skewness  Mean_DM_SNR  \\\n",
              "Mean             1.000000  0.547137 -0.873898 -0.738775    -0.298841   \n",
              "SD               0.547137  1.000000 -0.521435 -0.539793     0.006869   \n",
              "Kurtosis        -0.873898 -0.521435  1.000000  0.945729     0.414368   \n",
              "Skewness        -0.738775 -0.539793  0.945729  1.000000     0.412056   \n",
              "Mean_DM_SNR     -0.298841  0.006869  0.414368  0.412056     1.000000   \n",
              "SD_DM-SNR       -0.307016 -0.047632  0.432880  0.415140     0.796555   \n",
              "Kurtosis_DM-SNR  0.234331  0.029429 -0.341209 -0.328843    -0.615971   \n",
              "Skewness_DM-SNR  0.144033  0.027691 -0.214491 -0.204782    -0.354269   \n",
              "target_class    -0.673181 -0.363708  0.791591  0.709528     0.400876   \n",
              "\n",
              "                 SD_DM-SNR  Kurtosis_DM-SNR  Skewness_DM-SNR  target_class  \n",
              "Mean             -0.307016         0.234331         0.144033     -0.673181  \n",
              "SD               -0.047632         0.029429         0.027691     -0.363708  \n",
              "Kurtosis          0.432880        -0.341209        -0.214491      0.791591  \n",
              "Skewness          0.415140        -0.328843        -0.204782      0.709528  \n",
              "Mean_DM_SNR       0.796555        -0.615971        -0.354269      0.400876  \n",
              "SD_DM-SNR         1.000000        -0.809786        -0.575800      0.491535  \n",
              "Kurtosis_DM-SNR  -0.809786         1.000000         0.923743     -0.390816  \n",
              "Skewness_DM-SNR  -0.575800         0.923743         1.000000     -0.259117  \n",
              "target_class      0.491535        -0.390816        -0.259117      1.000000  "
            ],
            "text/html": [
              "\n",
              "\n",
              "  <div id=\"df-67871bbd-3282-465e-b983-9c91148c6c15\">\n",
              "    <div class=\"colab-df-container\">\n",
              "      <div>\n",
              "<style scoped>\n",
              "    .dataframe tbody tr th:only-of-type {\n",
              "        vertical-align: middle;\n",
              "    }\n",
              "\n",
              "    .dataframe tbody tr th {\n",
              "        vertical-align: top;\n",
              "    }\n",
              "\n",
              "    .dataframe thead th {\n",
              "        text-align: right;\n",
              "    }\n",
              "</style>\n",
              "<table border=\"1\" class=\"dataframe\">\n",
              "  <thead>\n",
              "    <tr style=\"text-align: right;\">\n",
              "      <th></th>\n",
              "      <th>Mean</th>\n",
              "      <th>SD</th>\n",
              "      <th>Kurtosis</th>\n",
              "      <th>Skewness</th>\n",
              "      <th>Mean_DM_SNR</th>\n",
              "      <th>SD_DM-SNR</th>\n",
              "      <th>Kurtosis_DM-SNR</th>\n",
              "      <th>Skewness_DM-SNR</th>\n",
              "      <th>target_class</th>\n",
              "    </tr>\n",
              "  </thead>\n",
              "  <tbody>\n",
              "    <tr>\n",
              "      <th>Mean</th>\n",
              "      <td>1.000000</td>\n",
              "      <td>0.547137</td>\n",
              "      <td>-0.873898</td>\n",
              "      <td>-0.738775</td>\n",
              "      <td>-0.298841</td>\n",
              "      <td>-0.307016</td>\n",
              "      <td>0.234331</td>\n",
              "      <td>0.144033</td>\n",
              "      <td>-0.673181</td>\n",
              "    </tr>\n",
              "    <tr>\n",
              "      <th>SD</th>\n",
              "      <td>0.547137</td>\n",
              "      <td>1.000000</td>\n",
              "      <td>-0.521435</td>\n",
              "      <td>-0.539793</td>\n",
              "      <td>0.006869</td>\n",
              "      <td>-0.047632</td>\n",
              "      <td>0.029429</td>\n",
              "      <td>0.027691</td>\n",
              "      <td>-0.363708</td>\n",
              "    </tr>\n",
              "    <tr>\n",
              "      <th>Kurtosis</th>\n",
              "      <td>-0.873898</td>\n",
              "      <td>-0.521435</td>\n",
              "      <td>1.000000</td>\n",
              "      <td>0.945729</td>\n",
              "      <td>0.414368</td>\n",
              "      <td>0.432880</td>\n",
              "      <td>-0.341209</td>\n",
              "      <td>-0.214491</td>\n",
              "      <td>0.791591</td>\n",
              "    </tr>\n",
              "    <tr>\n",
              "      <th>Skewness</th>\n",
              "      <td>-0.738775</td>\n",
              "      <td>-0.539793</td>\n",
              "      <td>0.945729</td>\n",
              "      <td>1.000000</td>\n",
              "      <td>0.412056</td>\n",
              "      <td>0.415140</td>\n",
              "      <td>-0.328843</td>\n",
              "      <td>-0.204782</td>\n",
              "      <td>0.709528</td>\n",
              "    </tr>\n",
              "    <tr>\n",
              "      <th>Mean_DM_SNR</th>\n",
              "      <td>-0.298841</td>\n",
              "      <td>0.006869</td>\n",
              "      <td>0.414368</td>\n",
              "      <td>0.412056</td>\n",
              "      <td>1.000000</td>\n",
              "      <td>0.796555</td>\n",
              "      <td>-0.615971</td>\n",
              "      <td>-0.354269</td>\n",
              "      <td>0.400876</td>\n",
              "    </tr>\n",
              "    <tr>\n",
              "      <th>SD_DM-SNR</th>\n",
              "      <td>-0.307016</td>\n",
              "      <td>-0.047632</td>\n",
              "      <td>0.432880</td>\n",
              "      <td>0.415140</td>\n",
              "      <td>0.796555</td>\n",
              "      <td>1.000000</td>\n",
              "      <td>-0.809786</td>\n",
              "      <td>-0.575800</td>\n",
              "      <td>0.491535</td>\n",
              "    </tr>\n",
              "    <tr>\n",
              "      <th>Kurtosis_DM-SNR</th>\n",
              "      <td>0.234331</td>\n",
              "      <td>0.029429</td>\n",
              "      <td>-0.341209</td>\n",
              "      <td>-0.328843</td>\n",
              "      <td>-0.615971</td>\n",
              "      <td>-0.809786</td>\n",
              "      <td>1.000000</td>\n",
              "      <td>0.923743</td>\n",
              "      <td>-0.390816</td>\n",
              "    </tr>\n",
              "    <tr>\n",
              "      <th>Skewness_DM-SNR</th>\n",
              "      <td>0.144033</td>\n",
              "      <td>0.027691</td>\n",
              "      <td>-0.214491</td>\n",
              "      <td>-0.204782</td>\n",
              "      <td>-0.354269</td>\n",
              "      <td>-0.575800</td>\n",
              "      <td>0.923743</td>\n",
              "      <td>1.000000</td>\n",
              "      <td>-0.259117</td>\n",
              "    </tr>\n",
              "    <tr>\n",
              "      <th>target_class</th>\n",
              "      <td>-0.673181</td>\n",
              "      <td>-0.363708</td>\n",
              "      <td>0.791591</td>\n",
              "      <td>0.709528</td>\n",
              "      <td>0.400876</td>\n",
              "      <td>0.491535</td>\n",
              "      <td>-0.390816</td>\n",
              "      <td>-0.259117</td>\n",
              "      <td>1.000000</td>\n",
              "    </tr>\n",
              "  </tbody>\n",
              "</table>\n",
              "</div>\n",
              "      <button class=\"colab-df-convert\" onclick=\"convertToInteractive('df-67871bbd-3282-465e-b983-9c91148c6c15')\"\n",
              "              title=\"Convert this dataframe to an interactive table.\"\n",
              "              style=\"display:none;\">\n",
              "\n",
              "  <svg xmlns=\"http://www.w3.org/2000/svg\" height=\"24px\"viewBox=\"0 0 24 24\"\n",
              "       width=\"24px\">\n",
              "    <path d=\"M0 0h24v24H0V0z\" fill=\"none\"/>\n",
              "    <path d=\"M18.56 5.44l.94 2.06.94-2.06 2.06-.94-2.06-.94-.94-2.06-.94 2.06-2.06.94zm-11 1L8.5 8.5l.94-2.06 2.06-.94-2.06-.94L8.5 2.5l-.94 2.06-2.06.94zm10 10l.94 2.06.94-2.06 2.06-.94-2.06-.94-.94-2.06-.94 2.06-2.06.94z\"/><path d=\"M17.41 7.96l-1.37-1.37c-.4-.4-.92-.59-1.43-.59-.52 0-1.04.2-1.43.59L10.3 9.45l-7.72 7.72c-.78.78-.78 2.05 0 2.83L4 21.41c.39.39.9.59 1.41.59.51 0 1.02-.2 1.41-.59l7.78-7.78 2.81-2.81c.8-.78.8-2.07 0-2.86zM5.41 20L4 18.59l7.72-7.72 1.47 1.35L5.41 20z\"/>\n",
              "  </svg>\n",
              "      </button>\n",
              "\n",
              "\n",
              "\n",
              "    <div id=\"df-602aef9c-ff46-44ec-b7c6-cfc3af45e9d8\">\n",
              "      <button class=\"colab-df-quickchart\" onclick=\"quickchart('df-602aef9c-ff46-44ec-b7c6-cfc3af45e9d8')\"\n",
              "              title=\"Suggest charts.\"\n",
              "              style=\"display:none;\">\n",
              "\n",
              "<svg xmlns=\"http://www.w3.org/2000/svg\" height=\"24px\"viewBox=\"0 0 24 24\"\n",
              "     width=\"24px\">\n",
              "    <g>\n",
              "        <path d=\"M19 3H5c-1.1 0-2 .9-2 2v14c0 1.1.9 2 2 2h14c1.1 0 2-.9 2-2V5c0-1.1-.9-2-2-2zM9 17H7v-7h2v7zm4 0h-2V7h2v10zm4 0h-2v-4h2v4z\"/>\n",
              "    </g>\n",
              "</svg>\n",
              "      </button>\n",
              "    </div>\n",
              "\n",
              "<style>\n",
              "  .colab-df-quickchart {\n",
              "    background-color: #E8F0FE;\n",
              "    border: none;\n",
              "    border-radius: 50%;\n",
              "    cursor: pointer;\n",
              "    display: none;\n",
              "    fill: #1967D2;\n",
              "    height: 32px;\n",
              "    padding: 0 0 0 0;\n",
              "    width: 32px;\n",
              "  }\n",
              "\n",
              "  .colab-df-quickchart:hover {\n",
              "    background-color: #E2EBFA;\n",
              "    box-shadow: 0px 1px 2px rgba(60, 64, 67, 0.3), 0px 1px 3px 1px rgba(60, 64, 67, 0.15);\n",
              "    fill: #174EA6;\n",
              "  }\n",
              "\n",
              "  [theme=dark] .colab-df-quickchart {\n",
              "    background-color: #3B4455;\n",
              "    fill: #D2E3FC;\n",
              "  }\n",
              "\n",
              "  [theme=dark] .colab-df-quickchart:hover {\n",
              "    background-color: #434B5C;\n",
              "    box-shadow: 0px 1px 3px 1px rgba(0, 0, 0, 0.15);\n",
              "    filter: drop-shadow(0px 1px 2px rgba(0, 0, 0, 0.3));\n",
              "    fill: #FFFFFF;\n",
              "  }\n",
              "</style>\n",
              "\n",
              "    <script>\n",
              "      async function quickchart(key) {\n",
              "        const containerElement = document.querySelector('#' + key);\n",
              "        const charts = await google.colab.kernel.invokeFunction(\n",
              "            'suggestCharts', [key], {});\n",
              "      }\n",
              "    </script>\n",
              "\n",
              "      <script>\n",
              "\n",
              "function displayQuickchartButton(domScope) {\n",
              "  let quickchartButtonEl =\n",
              "    domScope.querySelector('#df-602aef9c-ff46-44ec-b7c6-cfc3af45e9d8 button.colab-df-quickchart');\n",
              "  quickchartButtonEl.style.display =\n",
              "    google.colab.kernel.accessAllowed ? 'block' : 'none';\n",
              "}\n",
              "\n",
              "        displayQuickchartButton(document);\n",
              "      </script>\n",
              "      <style>\n",
              "    .colab-df-container {\n",
              "      display:flex;\n",
              "      flex-wrap:wrap;\n",
              "      gap: 12px;\n",
              "    }\n",
              "\n",
              "    .colab-df-convert {\n",
              "      background-color: #E8F0FE;\n",
              "      border: none;\n",
              "      border-radius: 50%;\n",
              "      cursor: pointer;\n",
              "      display: none;\n",
              "      fill: #1967D2;\n",
              "      height: 32px;\n",
              "      padding: 0 0 0 0;\n",
              "      width: 32px;\n",
              "    }\n",
              "\n",
              "    .colab-df-convert:hover {\n",
              "      background-color: #E2EBFA;\n",
              "      box-shadow: 0px 1px 2px rgba(60, 64, 67, 0.3), 0px 1px 3px 1px rgba(60, 64, 67, 0.15);\n",
              "      fill: #174EA6;\n",
              "    }\n",
              "\n",
              "    [theme=dark] .colab-df-convert {\n",
              "      background-color: #3B4455;\n",
              "      fill: #D2E3FC;\n",
              "    }\n",
              "\n",
              "    [theme=dark] .colab-df-convert:hover {\n",
              "      background-color: #434B5C;\n",
              "      box-shadow: 0px 1px 3px 1px rgba(0, 0, 0, 0.15);\n",
              "      filter: drop-shadow(0px 1px 2px rgba(0, 0, 0, 0.3));\n",
              "      fill: #FFFFFF;\n",
              "    }\n",
              "  </style>\n",
              "\n",
              "      <script>\n",
              "        const buttonEl =\n",
              "          document.querySelector('#df-67871bbd-3282-465e-b983-9c91148c6c15 button.colab-df-convert');\n",
              "        buttonEl.style.display =\n",
              "          google.colab.kernel.accessAllowed ? 'block' : 'none';\n",
              "\n",
              "        async function convertToInteractive(key) {\n",
              "          const element = document.querySelector('#df-67871bbd-3282-465e-b983-9c91148c6c15');\n",
              "          const dataTable =\n",
              "            await google.colab.kernel.invokeFunction('convertToInteractive',\n",
              "                                                     [key], {});\n",
              "          if (!dataTable) return;\n",
              "\n",
              "          const docLinkHtml = 'Like what you see? Visit the ' +\n",
              "            '<a target=\"_blank\" href=https://colab.research.google.com/notebooks/data_table.ipynb>data table notebook</a>'\n",
              "            + ' to learn more about interactive tables.';\n",
              "          element.innerHTML = '';\n",
              "          dataTable['output_type'] = 'display_data';\n",
              "          await google.colab.output.renderOutput(dataTable, element);\n",
              "          const docLink = document.createElement('div');\n",
              "          docLink.innerHTML = docLinkHtml;\n",
              "          element.appendChild(docLink);\n",
              "        }\n",
              "      </script>\n",
              "    </div>\n",
              "  </div>\n"
            ]
          },
          "metadata": {},
          "execution_count": 21
        },
        {
          "output_type": "display_data",
          "data": {
            "text/plain": [
              "<google.colab._quickchart_helpers.SectionTitle at 0x793c75d73e50>"
            ],
            "text/html": [
              "<h4 class=\"colab-quickchart-section-title\">Values</h4>\n",
              "<style>\n",
              "  .colab-quickchart-section-title {\n",
              "      clear: both;\n",
              "  }\n",
              "</style>"
            ]
          },
          "metadata": {}
        },
        {
          "output_type": "display_data",
          "data": {
            "text/plain": [
              "import numpy as np\n",
              "from google.colab import autoviz\n",
              "df_92971902169911561 = autoviz.get_registered_df('df_92971902169911561')\n",
              "\n",
              "def value_plot(df, y, sort_ascending=False, figsize=(2, 1)):\n",
              "  from matplotlib import pyplot as plt\n",
              "  if sort_ascending:\n",
              "    df = df.sort_values(y).reset_index(drop=True)\n",
              "  _, ax = plt.subplots(figsize=figsize)\n",
              "  df[y].plot(kind='line')\n",
              "  plt.title(y)\n",
              "  ax.spines[['top', 'right',]].set_visible(False)\n",
              "  plt.tight_layout()\n",
              "  return autoviz.MplChart.from_current_mpl_state()\n",
              "\n",
              "chart = value_plot(df_92971902169911561, *['Mean'], **{})\n",
              "chart"
            ],
            "text/html": [
              "      <div class=\"colab-quickchart-chart-with-code\" id=\"chart-d86b8da3-2d5a-4077-a463-7db17069bcdf\">\n",
              "        <img src=\"data:image/png;base64,iVBORw0KGgoAAAANSUhEUgAAAMQAAABgCAYAAABCK92TAAAAOXRFWHRTb2Z0d2FyZQBNYXRwbG90\n",
              "bGliIHZlcnNpb24zLjcuMSwgaHR0cHM6Ly9tYXRwbG90bGliLm9yZy/bCgiHAAAACXBIWXMAAA9h\n",
              "AAAPYQGoP6dpAAAUZ0lEQVR4nO3deVQUV77A8W81q+wCogLSIKCMijQqYgQD4iTGyYuK0cS4BNQo\n",
              "GWeivpg3eXlJRicLxiUuGRM1mrie6Jy4kKhZRg2JaIwahQQTRVCQTdk3F9a+7w+0bQaMQelm8X7O\n",
              "6UPXrapbv6L611V161a1IoQQSJIEgKq1A5CktkQmhCTpkQkhSXpkQkiSHpkQkqRHJoQk6ZEJIUl6\n",
              "ZEJIkh6ZEJKkRyaEJOmRCWEE4eHhKIrCunXrGpRXVFRga2uLoiikpaW1UnSSPpkQRtKnT59GCbF1\n",
              "61bUanUrRSQ1RSaEkTzxxBPk5eVx/PhxXdmaNWuIiYlpMN3x48cJDw/HyckJtVrN66+/Tm1trW78\n",
              "rFmz8PT0xMbGBi8vLxYsWIBWq9WNDw8PZ+7cuUyaNAl7e3t69OjBmjVrDL+CHYWQDC4sLEy8+uqr\n",
              "4u9//7uIjo4WQgiRkJAgPDw8xIULFwQgUlNTxblz54S1tbXYvn27qKmpERkZGaJ///7irbfe0tW1\n",
              "fv16ceXKFaHVasWxY8eEo6OjWLt2bYNl2dnZiUOHDom6ujqxc+dOoVKpRGpqqtHXuz2SCWEEtxIi\n",
              "KytL2NraipKSEjFp0iTx5ptvivT0dF1CvPDCC2LixIkN5t22bZvw9va+Y91z5swR48aNa7CsadOm\n",
              "NZjG2dlZ7Nixo2VXqoMybe091IPE3d2d4cOHs2zZMj777DOWLVtGVVWVbnxqairx8fE4ODjoyrRa\n",
              "re6QSAhBbGwsn3zyCbm5uQghqKysJCgoqMFyXF1dGwxbW1tTUVFhuBXrQOQ5hJH9+c9/JjY2llGj\n",
              "RtG9e/cG47p168akSZMoLS3VvcrLy7l69SoAO3bsYOXKlWzZsoXCwkJKS0uJiYlByHu8WoxMCCMb\n",
              "OXIkBw4cYMWKFY3GzZ49m507d/Lpp59SXV1NXV0daWlpfPXVVwCUlZVhamqKi4sLiqIQHx/Ptm3b\n",
              "jL0KHZpMCCNTFIURI0bg7u7eaFxQUBAHDhxg/fr1uLm54eTkxPjx47l06RIA0dHRjBgxAn9/f5yd\n",
              "nVm7di1Tpkwx9ip0aIqQ+1tJ0pF7CEnSIxNCkvTIhJAkPTIhJEmPTAhJ0tOshJgzZw6enp4oikJS\n",
              "UpKBQpKk1tOshBg/fjxHjhyRXZalDqtZCfHwww83eUHp91q1alWT5al5FdTWaZscJ0nGZLDOfVVV\n",
              "VQ06rgFcvHix0XSVNXU8/eEPWJmbMD3Ei6eCemBjIfscSq3DYCfVixYtwt7evsHrxIkTjaZLzavv\n",
              "uJZdcoM39v3KQ4sOsejLs1wuu2Go0CTpju6p64anpydxcXFoNJo7TtPUHuL1119v8rCpsqaO3adz\n",
              "2JBwkYuF1wAwVSk8EeDKc8O86Otq39wQJemeGOzYxMLCAgsLiwZlJiYmTU5raWbCpGAPJgb14Jtz\n",
              "+axPuMjx9GL2JOawJzGHod5OzBzWk7BeXVCpFEOFLEnNS4iYmBj279/PlStXGDlyJLa2ti36tAiV\n",
              "SuGPfbryxz5d+Tm7lA0J6exPvsz3F4r4/kIRPi42PBfqxdhANyzNmk4uSbofRu3t+uKLL7J8+fJm\n",
              "zZNTeoNNR9PZfiKLq1X1N9s725gzdYgnUx9S42htbohQpQdUm0+IW8ora/jXiSw2Hk0nt6wSAAtT\n",
              "FU8OdGdGqBfeXWxaMlTpAdVuEuKWmjotXyRfZkNCOsk5ZQAoCozw68pzw7wI9nJEUeR5hnRv2l2D\n",
              "v5mJijEaN0YHuHI8vZgNCRc5eDafg2fzOHg2j4d6OvFxdBCdzOU5htR87bZzn6IoDOnpxIaoIA7N\n",
              "D2NSsAcWpiqOXSwi9ouzrR2e1E6124TQ593FhthIfzZEDQJg6w+XOHQ2r5WjktqjDpEQtwzz7cKM\n",
              "UC8A/rbzZwoqqu4yhyQ11KESAuB/RvbGr5stRdeq+dvOn+Qzi6Rm6XAJYWlmwqqJgZibqohPKWDr\n",
              "D5daO6QOp04rSMws4UxOGXnlldR0oJ7K7a6V6ffo3c2WV0b58Y+9v/L2/rM81NMJ3662rR1WuyeE\n",
              "4MCveSz9OoXU/KsNxnW2MsPZxqL+ZWuBs405zjYWdLGxwNnWXDfOycYcC9O22wLY7IRITU0lKiqK\n",
              "wsJC7O3t2bRpE3379jVEbPcleqgn36YU8N35AubsSCLuL0Pb9IZo605mFPPOl+c4dakEABsLUyzN\n",
              "TCi+VoVWQMn1Gkqu1zRKlKbYWprWJ4qNBS52Fkwa7MFQH2dDr8Lv0uyEiImJYdasWURHR7Nz506i\n",
              "o6M5efKkIWK7L4qisHRCfx5bmcDZy+Us+zqFVx/v09phtTvn8ypY8tU5Dp7NB8DSTMX0EC9iwryx\n",
              "72RGnVZQer2awqvVFF6tovBqFQUVVQ2GC69WUVhRTdG1KmrqBBWVtVRU1up6Nn+RfJn/HeXHzGE9\n",
              "W/2iarOuVOfn5+Pj40NxcTGmpqYIIejevTtHjhzBx8fnrvO3xJXq5jrwax4zt/wIwLYZwYT6to1v\n",
              "orYut/QGKw6cZ9fpbLQCTFQKTw3qwbw/+tLVzvKe6hRCUHaj5mbS1CdM/Ll8difmADBW48o7T/Zv\n",
              "1Y6bzdpDZGVl0b17d0xN62dTFAUPDw8yMzMbJURT90PU1dXdZ7jN90ifrkwK9uCT45nM/zSJr+Y+\n",
              "TGfZIfCOSq9X88G3F9j0fQbVtfUny6P6deOlkb3vu7+Yoig4WJnjYGWOj0t92X/1705ADwfe2Pcr\n",
              "cUm5XCi4xrqpA3F16HS/q3JPWv2OOWN47fE/0LOLNXnlVfzfnmTZFNuEG9V1fPBtGsOWxPPh4YtU\n",
              "12oJ9nJk9+yhrJky0GCdJxVFIWqoJ1tnDKazlRnJOWWMXn2EHzOKDbK8u8ZjqEOm5twxZwzJ2WVE\n",
              "fnCUWq1gyZP9eSqoR6vE0dbU1mn59FQ2Kw+eJ6+8fnv5dbPl5VF+hPfqYtRj+qzi68zc8iPnrlRg\n",
              "ZqLwxph+PDPYw2jLh2buIVxcXBgwYIDuNwl27dqFu7t7k+cPFhYW2NnZNXjd6Y45Y/B3t2f+o70B\n",
              "WLj3FzJuntA9qIQQfHXmMo+uPMwru5PJK6/CzaETK54O4Is5wxje28XoJ7g9HK3YPXsoj/t3p6ZO\n",
              "8MruZF6PO2PU6xzN7v6dkpJCdHQ0RUVF2NnZsXHjRvz9/X/XvK1xUq2vTiuYtP4HjqcXE9DDgZ3P\n",
              "P4SZSYe7NnlXP1ws4p0vz5GUVQrUX0N4IcKXyUM82kTTtBCCD769wLJ/pyAEDPZy5IPJA3C2sbj7\n",
              "zPep3d0Pcb9yS2/w2MrDlFfWMifChxdv7jXaquvVtew+ncPRtEK0QqBSFFSKgqJw8z03h2+/V6n0\n",
              "3ivcHFf/PjX/Kt+dLwCgk5kJM4d5MfPhnthamrXymjZ26Gwec3ckcbWqFjeHTqybOpB+boZ94MQD\n",
              "lxAAe3/K5YXtiagU+FfMQwR5OrZ2SI3klt5gy7FLbD+RSdmNmhat21SlMHFwD+aM8MXF9t6aUI0l\n",
              "Lb+CmVtOkV54DUszFUvGBzA6wPXuM96jDtl1426eCHAlPiWf3adz+O9/JfHF3GHYtYFvSCEEpzNL\n",
              "+fhoOl+duUKdtv67Su1kxVODeuBgZYZWK9AK0Ir6v0II3XutEAhBg2mE3rg6IbAwURE5wB0vZ+tW\n",
              "Xtvfx8fFlri/hDBne2J9r4PtiZy9XM5Lj/bGxABPYHkgEwLgH6P7cjKjmKziGyz47BdWPK1ptViq\n",
              "a7V8eeYyHx9J56fsMl35UG8npod4MdzPxSAbv72w72TGx9FBLPn6HOu+u8iaby9w7nI5q54JbPEv\n",
              "sgc2IWwtzVj5tIYJa4+xJzGH4X4uBt0VN6X4WjXbT2Sy5ViGrsnT3FTFWI0r00K8+EN3O6PG05aZ\n",
              "qBReGfUH+nS34287fyY+pYCxq4/y4bOD8HFpuWskD2xCAAxUO/LXCF/eO5TKq3uSGajujJsRrpCm\n",
              "XKlg49F09iTmUHXzanAXWwumDlEzKdjDKK0p7dUYjRveXWyYteVHLhZeI/L9o6x6RkOEX9cWqf+B\n",
              "PKnWV1unZcK6YyRmljLYy5HtM4cY5PBEqxXEp+Sz8WgGR9IKdeX93OyYEerF4/6umJs+eE3A96rw\n",
              "ahWzt53mREYxigIvPdqb2eHe933t5IHfAqYmKlY+rcHa3IQT6cWsO3yhReu/VlXL5u8zGLH8O2Zs\n",
              "/pEjaYWolPr+QZ8+/xB7/xpKZKC7TIZmcraxYNtzwUwO9kAIWPp1Ci9sT6Sy5v76yz3Qh0y3qJ2s\n",
              "WTi6L/+z82eW//s8oT7O9Hd3aFYdlTV1ZJfcIKv4OpeKrpFZfIPM4uscTy+iorL+iYO2lqY8M9iD\n",
              "qUPU9HC0MsCaPFjMTVW8HelPH1c7Fnz2C4VXq+577y4T4qbxA92JT8nni+QrzNuRxL45oViZ3/73\n",
              "CCEovlbNpeLrZBVfJ7PoOpeKr5N5c/hKeSV3Ovjs6WxNdIgnTw5wx1r+9kWLmxyspndXW3p2sbnv\n",
              "ngdy69ykKAqxkf6cvlTKxcJrzNmeiJezNZnF17lUVP+hv1b927tja3MTPJys8XDshIejFR5O1vi6\n",
              "2DDY01E+tdzABrXQxVWZEHocrMxZ/lQAkz86rrtDTJ+iQDc7S3o4WqF2tLr5ob/519EKR2vzVr/j\n",
              "S7o/MiH+w1AfZ94a24/D5wtw73z7w+7hZIWbQyf5GP4OzqjNruPGjcPT07NReV1dHSdOnGDw4MGt\n",
              "2kW8OWTMxtMScavVaubOnXvX6YyaEHdSXl6Ovb09ZWVl2Nm1j6uzMmbjMWbcsvFbkvTIhJAkPTIh\n",
              "JElPm0gICwsLFixY0OhXS9syGbPxGDPuNnFSLUltRZvYQ0hSWyETQpL0yISQJD0tnhCenp64uLhQ\n",
              "U3P7SRHx8fEoisK8efNaenGS1KIMsofw8PDg888/1w1/9NFHDBo0yBCLapd2797NwIED0Wg0+Pn5\n",
              "ERERgVarJTw8HC8vLzQaDT4+PjzyyCPs37//rvVFR0fj5uZGYGAgvr6+hIaGsnXrVt34jIwMFEVh\n",
              "zJgxDeZbsGABiqIQFxfXZL1ZWVmMHj0af39//P390Wg0fPPNNwBs2rQJRVEaLGffvn2Eh4frhhVF\n",
              "wd/fn4CAAPr06cPGjRub8V9qJaKFqdVqsXr1avGnP/1JCCFEaWmp8Pb2Fq+99pqYO3euEEKIpUuX\n",
              "iqCgIBEYGChGjhwpMjIyhBBCHDx4UAwZMkRoNBrRp08fsWHDBl29UVFRYtasWSIiIkL4+vqKyMhI\n",
              "UVVV1dLhG1xubq5wcnLSrbMQQpw6dUpotVoRFhYm9uzZoyuPj48XXbt2Fbt27frNOqOiosSKFSt0\n",
              "w4mJiaJXr17i3XffFUIIkZ6eLuzt7YWfn5+4cuWKEEKIuro64evrK/z9/RssU9/jjz8uli9frhsu\n",
              "KCgQly5dEkIIsXHjRqFWq4Wnp6duO+zdu1eEhYXppgdESUmJEEKIpKQkYWZmJnJzc39zXVqbQfYQ\n",
              "ISEhZGRkkJuby/bt25kwYYKuU9Ynn3xCSkoKx44d4/Tp00yePJnZs2cDMGDAAI4cOUJiYiIJCQm8\n",
              "8cYbZGdn6+pNSkpi7969nD17lry8PHbt2mWI8A0qLy8PExMTHB1v998fMGBAk93Gw8PDWbhwIYsW\n",
              "LWrWMjQaDatWrWLx4sUNnnQ+ZcoUtmzZAsDBgwcJDAxsEMd/ys7Oxs3NTTfs7OyMh8fthw9rNBoG\n",
              "DBjA+++/f9eYAgIC6Ny5c4Pt2RYZ7KR66tSpbNq0iY8//pjp06fryuPi4jh48KDukGHJkiVkZmYC\n",
              "UFRUxIQJE+jXrx8REREUFRVx5swZ3byRkZFYWVlhYmLC4MGDuXChZe9/Nob+/fsTGhqKWq0mMjKS\n",
              "pUuXkpOTc8fpg4OD+eWXX5q9nODgYPLz8ykoKNCVRUVFsXnzZoBG26UpL7/8MjNmzCAkJIT58+dz\n",
              "+PDhRtPExsayePFiysvLf7Ou7777DmdnZwICApq9LsZksIR49tlnee+997C0tMTX11dXLoTglVde\n",
              "ISkpiaSkJJKTk0lOTgbg+eefJzQ0lOTkZJKSkujVqxeVlZW6eS0tbz920cTEhNraWkOFbzAqlYpd\n",
              "u3bx/fff89hjj3H06FH69u1LWlpak9OLe7xu2tR87u7uuLu7s2/fPk6dOsUjjzzym3U888wzZGZm\n",
              "Mn/+fADGjBnD0qVLG0zTu3dvRo8ezeLFi5usY9iwYfj4+BAREcFbb72FuXnb/rEagyWEq6srixYt\n",
              "avSPGjt2LGvXrqW4uP4HMWpqakhMTASgpKQEtVqNoigcPnyYn376yVDhtTo/Pz9iYmKIi4tjyJAh\n",
              "DRoh9J08eZJ+/fo1u/6TJ0/i4uKCi4tLg/Jp06Yxbdo0Jk6ciEp1e/OXlpai0WjQaDRERkbqyjt3\n",
              "7sy4ceN49913WbNmTYOT6FsWLlzIhx9+yOXLlxuNS0hIIC0tjY8++ojo6Gjy8vKavS7GZNA75qZN\n",
              "m9aobPLkyRQVFTF8+HAAamtrmT59OoGBgbzzzjvMnj2bN998E41GQ3BwsCHDaxU5OTlkZGQQEhIC\n",
              "1H8JpKen4+3t3WjahIQEFi5cyOrVq5u1jJ9//pl58+bx8ssvNxo3duxYMjIymDJlSoNyBwcHkpKS\n",
              "GpTt27ePiIgIrKysEEKQmJjYZJyurq4899xzxMbGolarm4wpOjqazz//nNjY2Fb70ZzfpVVP6R9A\n",
              "GRkZ4tFHHxW+vr4iICBA9O3bV7z99ttCCCHCwsKEp6enCAgIED4+PmLEiBFi7969d60zKipKuLq6\n",
              "ioCAAOHr6ytCQkLE5s2bdeNvtTI15T9btvS99NJLws/PT/Tr10/07dtXjBs3TmRnZwsh6luZxowZ\n",
              "o5u2tLRUODo63rGVSQghzp8/L2xtbXV1tEWyc58k6ZFdNyRJj3zqRjuxYcOGJs8l/vnPfzJs2LBW\n",
              "iKhjkodMkqRHHjJJkh6ZEJKkRyaEJOmRCSFJemRCSJIemRCSpEcmhCTpkQkhSXr+H82CAbABlfnS\n",
              "AAAAAElFTkSuQmCC\n",
              "\">\n",
              "        \n",
              "      </div>\n",
              "      <script></script>\n",
              "      <script type=\"text/javascript\">\n",
              "        (() => {\n",
              "          const chartElement = document.getElementById(\"chart-d86b8da3-2d5a-4077-a463-7db17069bcdf\");\n",
              "          async function getCodeForChartHandler(event) {\n",
              "            const chartCodeResponse =  await google.colab.kernel.invokeFunction(\n",
              "                'getCodeForChart', [\"chart-d86b8da3-2d5a-4077-a463-7db17069bcdf\"], {});\n",
              "            const responseJson = chartCodeResponse.data['application/json'];\n",
              "            await google.colab.notebook.addCell(responseJson.code, 'code');\n",
              "          }\n",
              "          chartElement.onclick = getCodeForChartHandler;\n",
              "        })();\n",
              "      </script>\n",
              "      <style>\n",
              "        .colab-quickchart-chart-with-code  {\n",
              "            display: block;\n",
              "            float: left;\n",
              "            border: 1px solid transparent;\n",
              "        }\n",
              "\n",
              "        .colab-quickchart-chart-with-code:hover {\n",
              "            cursor: pointer;\n",
              "            border: 1px solid #aaa;\n",
              "        }\n",
              "      </style>"
            ]
          },
          "metadata": {}
        },
        {
          "output_type": "display_data",
          "data": {
            "text/plain": [
              "import numpy as np\n",
              "from google.colab import autoviz\n",
              "df_92971902169911561 = autoviz.get_registered_df('df_92971902169911561')\n",
              "\n",
              "def value_plot(df, y, sort_ascending=False, figsize=(2, 1)):\n",
              "  from matplotlib import pyplot as plt\n",
              "  if sort_ascending:\n",
              "    df = df.sort_values(y).reset_index(drop=True)\n",
              "  _, ax = plt.subplots(figsize=figsize)\n",
              "  df[y].plot(kind='line')\n",
              "  plt.title(y)\n",
              "  ax.spines[['top', 'right',]].set_visible(False)\n",
              "  plt.tight_layout()\n",
              "  return autoviz.MplChart.from_current_mpl_state()\n",
              "\n",
              "chart = value_plot(df_92971902169911561, *['SD'], **{})\n",
              "chart"
            ],
            "text/html": [
              "      <div class=\"colab-quickchart-chart-with-code\" id=\"chart-1572580f-a460-48e0-aae1-17a9c01589df\">\n",
              "        <img src=\"data:image/png;base64,iVBORw0KGgoAAAANSUhEUgAAAMQAAABgCAYAAABCK92TAAAAOXRFWHRTb2Z0d2FyZQBNYXRwbG90\n",
              "bGliIHZlcnNpb24zLjcuMSwgaHR0cHM6Ly9tYXRwbG90bGliLm9yZy/bCgiHAAAACXBIWXMAAA9h\n",
              "AAAPYQGoP6dpAAASrElEQVR4nO3deVQU157A8W91Aw3IooIYkLDIIi7YSBRJQEEiMeobdydx1IDG\n",
              "EWOc6KgzaiYZfSZPYjjqJPE9s2jQJCfJWzSuWZ4oKsYkqEAU44aCiCg7ghvrnT/QthFcUHoJ3s85\n",
              "fbqruureX9H9o6pu37qlCCEEkiQBoDJ1AJJkTmRCSJIemRCSpEcmhCTpkQkhSXpkQkiSHpkQkqRH\n",
              "JoQk6ZEJIUl6ZEJIkh6ZEGYkOzubCRMm4Obmhp2dHW5ubgwbNoyLFy+yZ88eFEXBzs4Oe3t7OnTo\n",
              "QHBwMK+//jrFxcWmDr3NkAlhRoYNG4a9vT2ZmZlcuXKF9PR0XnjhBRRF0S1TXl5OZWUlRUVFrFmz\n",
              "hrS0NLRaLefOnTNh5G2HIjv3mYeSkhKcnZ05fPgwwcHBTd7fs2cPgwYNoqamBgsLC93869evo9Vq\n",
              "CQ0N5bPPPjNmyG2S3EOYCScnJwIDA4mLiyMxMZEjR45QX19/3/VsbGwYO3YsO3fuNEKUbZ9MCDOS\n",
              "nJzM0KFDWbNmDSEhITg7OzN//nyqqqruuZ6HhwclJSVGirJts7j/IpKxODk5sXTpUpYuXUpVVRXf\n",
              "ffcdMTEx2NnZERkZedf1cnNzcXJyMl6gbZjcQ5gpjUbDqFGjGDx4MGlpaXdd7saNG2zatIno6Ggj\n",
              "Rtd2yYQwE2VlZSxcuJAjR45QVVVFXV0du3btIjk5mYEDBzZZvra2loMHDzJ27FgqKipYunSpCaJu\n",
              "e+Qhk5mwsrKiuLiY8ePHk5+fj1qtxt3dnQULFjBv3jz27t0LQPv27VEUBbVajbe3N0OGDCExMREX\n",
              "FxcTb0HbIJtdJUmPPGSSJD0yISRJj0wISdIjE0KS9MiEkCQ9LUqI1157DS8vLxRFISMjw0AhSZLp\n",
              "tCghxo0bx/79+/H09DRUPJJkUi1KiIEDB+Lu7v7Qlb333nsPva4kGYPBfqmuqqpq0kvz7NmzBqlL\n",
              "CMEPxy6xaudpVCqFv8WFYm9taZC6pLbNYCfV8fHxODo6Nnqkpqa2ej2HckoZu+YAM75I42RBJccv\n",
              "VvDJPsMkntT2GSwhFi1axOXLlxs9QkJCWq38M0VXiPv8EOM+/Im03HJsLNUMD3QF4JOUbAorbrRa\n",
              "XdLjw2CHTBqNBo1G02ieWq1+5HKLKqt4f9dpvkzNpa5eoFLghX5PMmewPy72GvLXXCc9t5xVSaeJ\n",
              "HxP4yPVJj5cW7SHi4uJwd3cnLy+PIUOG4Ovra6i4mrhWXcv7u04TmZDM5z+fo65eMLi7Cz/MGUj8\n",
              "mN50drBGURReH9YdgL8dOk9WYaXR4pPahhbtIT766CNDxXFXtXX1/P1wHit3nqKosuEkXevuyKJh\n",
              "3Qnt2vQqsX5eHRncvTNJxwtY/v1JPnmpr7FDln7HzPZ6CCEEu44X8s73J8gqvAKAR0db/vv5bgwP\n",
              "dG00NMudFg7txu4TBez8rYBDOaX09eporLCl3zmzTIiM8+Us+/Y4qdmlAHSwteQ/ovyYGOqBxuL+\n",
              "5yG+Lva80O9Jvko9z7Jvj7PxlWfumUCSdItZJcS5kqsk/HCS7UcuAqCxUDE13JsZET442rTsd4U5\n",
              "g/35Jv0Cabnl/HCsgOd7PWGIkKU2xiwSovRqNR/sPs0XP5+jpk6gKDA22J250f64tbd5qDI7O1gz\n",
              "Lbwrq5OzePf7Ezzb3QVLtezLKN2byRMiPbeMl9alUllVC0CEfycWDg2gu6vDI5cdF9GVL1NzOVt8\n",
              "lb8ePM+kUNkHS7o3k//L7O7qgIONJT3dHPji5f5smBrSKskAYG9tyWtRDU3D/5d0mqs3k06S7sbk\n",
              "CWFtqebr6aFsmxVOuJ9zq5f/b/098XSypfhKFZ+kyC4d0r2ZPCEAnuxoi0plmFYgKwsV85/rBsDH\n",
              "+87qfsuQpOaYRUIY2vBAV7TujlyrruP9XadNHY5kxh6LhFCpFBYObejS8VVqLmeLrpg4IslcPRYJ\n",
              "AfC0jxODunWitl6Q8MNJU4cjmanHJiEAFg7tjkqB7zIvkZZbZupwJDP0WCVEtyfsGRvccAnsO9+e\n",
              "QI7iKd2pxQlx+vRpnnnmGfz9/enXrx/Hjh0zRFwGM/c5fzQWKlJzSkk6XmjqcCQz0+KEiIuLY/r0\n",
              "6Zw6dYoFCxYQGxtrgLAMx9XRhilh3gAs//4EtXX3v22V9PhoUdeNwsJCDh06xD//+U8Axo4dy6xZ\n",
              "s8jKyjLqxUKP6pVIH74+mEtW4RX+cTiPF0M8TB3SPV2pqiXtXBnWlmocbSx1D2tLlUF68QohqKyq\n",
              "pbiyiqLKKoqu3HzWmy67Wk3dzUNOhYYYFAV00dyMS2k8qTfdsJZKpTDQz5nJT3u1uAOnIbQoIc6f\n",
              "P4+rq6vuLpiKouDh4UFubm6ThGhu1I26urpHDLd1ONpYMmuQL2/vOM6qpFOMCHLD1srk3bqatftE\n",
              "Aa9vyuRSM9eIW6lVONhY4mBj0ShR9B8O1pY46E3bWqkpvVZNUWUVxc180W+9rqo13p4zNbuUD/ee\n",
              "ZWKoBy+He+Nib220uu9ksG9BfHw8f/zjHxvNCw0NNVR1LTb5aU/WH8ghr+w6n+7PZlaUn6lDaqT8\n",
              "WjVLt/3GpvQLAHSy12CnseDy9RouX6+hrl5QXVdP8ZWGL7Yh2Gss6GSvwdlOQyd7vYedho7trLBQ\n",
              "K+iaJQSIm1O32ip0z7cWEULvdcNz6dVqNhzI4WRBJR/tPUvijzmMf8qduIE+eDjZGmS77qVFN0wp\n",
              "LCzE19eX0tJSLCwsEELg6urK/v37H2gP8eabb5rVYGVbMi4w++sM7DQW7P2vSJzsNPdfyQh+OHaJ\n",
              "NzZnUlRZhaLAtHBv5kZ3w8aq4eIoIQRXq+sakuNaDRU3anSJUnH99uum07Vcq66lg61Voy+47gt/\n",
              "89nl5rxb9Rlafb1g94lC/rIni7TccgDUKoU/9HbllUgfAp5onc6eD6JFewgXFxeCg4P54osviI2N\n",
              "ZePGjbi7uzd7/mCoUTda07/0duOTlLNkXqjgg91ZLBnR06TxlF6tZvHWY2z7NR8An07teHeclqc8\n",
              "OzRaTlEU7DQW2Gks6PKQ14uYE5VKYXCPzjzb3YVfskv5y54z7DtVxJaMfLZk5PNsgAszB/nwlKfh\n",
              "LwVu8S21Tp48SWxsLCUlJTg4OJCYmEhg4IMN9zJ37lxWrlz5UIEayv7TxUxa9wuWaoWkuRF4OrUz\n",
              "SRzfHr3Im5szKblajUqB6QN9mDPYD2tL8/onYiyZFy6zZs8Zvs28qDu8CvHuyKuDfBno52ywS4KN\n",
              "eo85c0wIgMnrfiHldDF/6O3K6n8LNmrdxVeq+N8tmXx79BIA/p3tSBinRftke6PGYa7OFl3ho71n\n",
              "2ZSeR01dw1e1p5sDr0T6MLSXK+pW7iUtEwI4ln+ZP3ywHyFgy6thRvkyCiHY+ms+S7Yeo+xaDWqV\n",
              "wsxIH2ZF+T7QQAqPm4uXr7M2JZsvf8nlek1Da6W3cztmRHRldB93rCxap9OFTIib5v41g03pFwjt\n",
              "2pGv/j3UoKN0FFbc4H82Z7LztwKg4arBhHG96dXF0WB1thW3WqXWH8jh8vUaAJ5wsGbaAG8mhHjQ\n",
              "TvNoDaePVV+me5n7nD9WahU/ny1lz8kig9QhhGBTWh7Rq/ax87cCLFQKcwb7seXVMJkMD6hjOyv+\n",
              "M9qfAwujeGN4dzo7aLhUcYO3dxwnasUebtQ82m9d5vlrlAm4d7AlNsyLj/ed5Z3vTjDQv1OrHp9e\n",
              "unyD1785yu4TDf2nenVxIGGcttWuH3/ctNNYMG1AVyY/7cmmtAt8tPcMT/s4P3IjhEwIPTMjffg6\n",
              "NZeTBZVsSstjfN8nH7lMIQR/P5THWzt+o/JGLVZqFbMH+zF9YFc5LE4r0FiomRDiwb/2fZJr1Y8+\n",
              "iIRMCD3tba14dZAv8d+d4O0dx9mSkY+lWsFSrcLSQoWl6gFeq1W6dSxUCtuOXGTfqYZDMO2T7UkY\n",
              "1xv/zvYm3tK2R61SWuUmOTIh7hDzjBef/3yOvLLr7M8qbpUyrSxUzIv25+VwbyzkXsGsyYS4g7Wl\n",
              "mn/MeIbD58qoqaunuq6emrp6auvE7elaQW1949c1dfVUN/Pa0aZhXFpfFztTb5r0AIza7DpmzBi8\n",
              "vLyazK+rqyM1NZWQkBCz695xNzJm42mNuD09PZk9e/Z9lzNqQtxNRUUFjo6OXL58GQeH30eri4zZ\n",
              "eIwZtzyglSQ9MiEkSY9MCEnSYxYJodFoWLx4cZPrJ8yZjNl4jBm3WZxUS5K5MIs9hCSZC5kQkqRH\n",
              "JoQk6Wn1hPDy8sLFxYWamhrdvOTkZBRFYc6cOa1dnSS1KoPsITw8PNi6datuet26dfTt29cQVf0u\n",
              "bdq0iaeeeoqgoCACAgKIioqivr6eyMhIvL29CQoKwtfXl+joaHbs2HHf8mJjY+nSpQt9+vTBz8+P\n",
              "8PBwPv/8c937OTk5KIrCyJEjG623ePFiFEVh8+bNzZZ7/vx5RowYQWBgIIGBgQQFBbF7924A1q9f\n",
              "j6IojerZvn07kZGRumlFUQgMDESr1dKjRw8SExNb8FcyEdHKPD09xerVq8WwYcOEEEKUl5cLHx8f\n",
              "8cYbb4jZs2cLIYRISEgQ/fr1E3369BFDhgwROTk5QgghkpKSRGhoqAgKChI9evQQa9eu1ZUbExMj\n",
              "pk+fLqKiooSfn58YPXq0qKqqau3wDS4/P184OTnptlkIIQ4fPizq6+tFRESE+Oabb3Tzk5OTRefO\n",
              "ncXGjRvvWWZMTIxYtWqVbjo9PV34+/uLFStWCCGEyM7OFo6OjiIgIEBcunRJCCFEXV2d8PPzE4GB\n",
              "gY3q1Dd8+HCxcuVK3XRRUZE4d+6cEEKIxMRE4enpKby8vHSfw7Zt20RERIRueUCUlZUJIYTIyMgQ\n",
              "lpaWIj8//57bYmoG2UOEhYWRk5NDfn4+X331FePHj9d1yvryyy85efIkP/30E2lpaUycOJGZM2cC\n",
              "EBwczP79+0lPTyclJYWlS5eSl5enKzcjI4Nt27Zx/PhxCgoK2LhxoyHCN6iCggLUajUdO94eYyg4\n",
              "OLjZa7gjIyNZsmQJ8fHxLaojKCiI9957j+XLlzca8n/SpEl89tlnACQlJdGnT59GcdwpLy+PLl26\n",
              "6KadnZ3x8Lg9Dm5QUBDBwcH8+c9/vm9MWq2WDh06NPo8zZHBTqonT57M+vXr+fTTT5k6dapu/ubN\n",
              "m0lKStIdMrz77rvk5uYCUFJSwvjx4+nVqxdRUVGUlJSQmZmpW3f06NHY2tqiVqsJCQnhzJkzhgrf\n",
              "YHr37k14eDienp6MHj2ahIQELly4cNfl+/fv/1C3HOjfvz+FhYUUFd2+PjwmJoYNGzYANPlcmrNg\n",
              "wQJefvllwsLCmDdvHvv27WuyzLJly1i+fDkVFRX3LGvv3r04Ozuj1WpbvC3GZLCEeOmll3j//fex\n",
              "trbGz+/2uKlCCBYtWkRGRgYZGRkcPXqUo0ePAjBjxgzCw8M5evQoGRkZ+Pv7c+PG7UF+ra1vD4Kr\n",
              "Vquprf393XdapVKxceNGDhw4wPPPP8+PP/5Iz549ycrKanZ58ZC/mza3nru7O+7u7mzfvp3Dhw8T\n",
              "HR19zzImTJhAbm4u8+bNA2DkyJEkJCQ0WqZbt26MGDGC5cuXN1vGgAED8PX1JSoqirfffhsrK6uH\n",
              "2h5jMVhCuLm5ER8f3+QPNWrUKD788ENKS0sBqKmpIT09HYCysjI8PT1RFIV9+/bx66+/Gio8kwsI\n",
              "CCAuLo7NmzcTGhraqBFC38GDB+nVq1eLyz948CAuLi64uLg0mj9lyhSmTJnCiy++iEp1++MvLy8n\n",
              "KCiIoKAgRo8erZvfoUMHxowZw4oVK1izZk2jk+hblixZwscff8zFixebvJeSkkJWVhbr1q0jNjaW\n",
              "goKCFm+LMRn0irkpU6Y0mTdx4kRKSkoYNGgQALW1tUydOpU+ffrwzjvvMHPmTN566y2CgoLo37+/\n",
              "IcMziQsXLpCTk0NYWBjQ8E8gOzsbHx+fJsumpKSwZMkSVq9e3aI6jhw5wpw5c1iwYEGT90aNGkVO\n",
              "Tg6TJk1qNL99+/ZkZGQ0mrd9+3aioqKwtbVFCEF6enqzcbq5uTFt2jSWLVuGp6dnszHFxsaydetW\n",
              "li1bZlYDXjdh0lP6x1BOTo547rnnhJ+fn9BqtaJnz57iT3/6kxBCiIiICOHl5SW0Wq3w9fUVzz77\n",
              "rNi2bdt9y4yJiRFubm5Cq9UKPz8/ERYWJjZs2KB7/1YrU3PubNnSN3/+fBEQECB69eolevbsKcaM\n",
              "GSPy8vKEEA2tTCNHjtQtW15eLjp27HjXViYhhDh16pSwt7fXlWGOZOc+SdIju25Ikh456sbvxNq1\n",
              "a5s9l/jggw8YMGCACSJqm+QhkyTpkYdMkqRHJoQk6ZEJIUl6ZEJIkh6ZEJKkRyaEJOmRCSFJemRC\n",
              "SJKe/wchm7Nk2dWbiQAAAABJRU5ErkJggg==\n",
              "\">\n",
              "        \n",
              "      </div>\n",
              "      <script></script>\n",
              "      <script type=\"text/javascript\">\n",
              "        (() => {\n",
              "          const chartElement = document.getElementById(\"chart-1572580f-a460-48e0-aae1-17a9c01589df\");\n",
              "          async function getCodeForChartHandler(event) {\n",
              "            const chartCodeResponse =  await google.colab.kernel.invokeFunction(\n",
              "                'getCodeForChart', [\"chart-1572580f-a460-48e0-aae1-17a9c01589df\"], {});\n",
              "            const responseJson = chartCodeResponse.data['application/json'];\n",
              "            await google.colab.notebook.addCell(responseJson.code, 'code');\n",
              "          }\n",
              "          chartElement.onclick = getCodeForChartHandler;\n",
              "        })();\n",
              "      </script>\n",
              "      <style>\n",
              "        .colab-quickchart-chart-with-code  {\n",
              "            display: block;\n",
              "            float: left;\n",
              "            border: 1px solid transparent;\n",
              "        }\n",
              "\n",
              "        .colab-quickchart-chart-with-code:hover {\n",
              "            cursor: pointer;\n",
              "            border: 1px solid #aaa;\n",
              "        }\n",
              "      </style>"
            ]
          },
          "metadata": {}
        },
        {
          "output_type": "display_data",
          "data": {
            "text/plain": [
              "import numpy as np\n",
              "from google.colab import autoviz\n",
              "df_92971902169911561 = autoviz.get_registered_df('df_92971902169911561')\n",
              "\n",
              "def value_plot(df, y, sort_ascending=False, figsize=(2, 1)):\n",
              "  from matplotlib import pyplot as plt\n",
              "  if sort_ascending:\n",
              "    df = df.sort_values(y).reset_index(drop=True)\n",
              "  _, ax = plt.subplots(figsize=figsize)\n",
              "  df[y].plot(kind='line')\n",
              "  plt.title(y)\n",
              "  ax.spines[['top', 'right',]].set_visible(False)\n",
              "  plt.tight_layout()\n",
              "  return autoviz.MplChart.from_current_mpl_state()\n",
              "\n",
              "chart = value_plot(df_92971902169911561, *['Kurtosis'], **{})\n",
              "chart"
            ],
            "text/html": [
              "      <div class=\"colab-quickchart-chart-with-code\" id=\"chart-29e6a483-085d-456b-8081-92556ec96949\">\n",
              "        <img src=\"data:image/png;base64,iVBORw0KGgoAAAANSUhEUgAAAMQAAABgCAYAAABCK92TAAAAOXRFWHRTb2Z0d2FyZQBNYXRwbG90\n",
              "bGliIHZlcnNpb24zLjcuMSwgaHR0cHM6Ly9tYXRwbG90bGliLm9yZy/bCgiHAAAACXBIWXMAAA9h\n",
              "AAAPYQGoP6dpAAAUzElEQVR4nO3deVxU9f7H8dcsLCK7CIooKIsoIgMYaqggqZTdIEh75HVD60ph\n",
              "V70/9Vr3Vz+9VqCh3et2U6Ob3myxJM2l20LuWyoBgpoLiWwKboi4AAPf3x/aOCRm4AwM+H0+HvMY\n",
              "5sw53/M5M/PmnDNzzvcohBACSZIAUDZ3AZJkSmQgJEmPDIQk6ZGBkCQ9MhCSpEcGQpL0yEBIkh4Z\n",
              "CEnSIwMhSXpkIB4S+fn5WFtb8/PPPzd3KSZNBsIAwsPDee2113SPKysrGTVqFJ6enhw/frxRbcbF\n",
              "xTFmzBhDlUiXLl2oqKigW7duBmuzNVI3dwGtzaVLl4iOjkar1bJ//37at2/foOlrampQKBRGqk66\n",
              "H7mGMKDc3Fz69++Pi4sLW7dupX379nh4eJCSklJnPIVCQVpaGgDbt29HoVDw6aef4uPjg5WVFfPm\n",
              "zeOjjz5i7dq1WFtbY21tTX5+PgBbtmwhODgYOzs7fHx8WLBgAbW1tQBUVVWRkJBAhw4dsLGxwcPD\n",
              "gyVLlgCQl5eHQqHg1KlTAGRlZREWFoa9vT0ODg4EBwc3em3Wmsg1hIGkp6ezcuVKxo4dy4IFCxr8\n",
              "X37t2rXs27cPa2tr1Go1J06cQKvVsmbNGt04Bw8eJCYmhjVr1hAbG0tWVhZPPfUUarWaadOmsXr1\n",
              "avbt20dOTg5OTk6cO3eO4uLieueXkJBAZGQk33//PQA5OTnY29s3evlbC7mGMJC9e/dSWVnJxIkT\n",
              "G7XJM2/ePNq1a4eFhQUqlarecVJSUnjyySd59tlnUavVBAcHM3PmTJYvXw6Aubk5FRUVHD16lOrq\n",
              "ajp06EBQUFC9bZmbm5Ofn8+ZM2dQq9VoNBpcXFwaXHdrIwNhIJMnT2bMmDEMGjSI/fv3N3j6rl27\n",
              "3necgoICPD096wzz8vLSbU6NGTOG+Ph4Zs6ciZOTE0888QTp6en1trVq1SoUCgURERG4ubkxbdo0\n",
              "KioqGlx3ayMDYSBKpZJly5YxefJkhgwZwrfffguAjY0N165d0413r00YpVL5m48BOnfuTG5ubp1h\n",
              "ubm5dOnSBQCVSsWMGTP44YcfKCoqokePHkRHR9c7P3d3d9577z3OnDnD9u3b+e6770hKSvr9C9xK\n",
              "yUAY2Ny5c0lMTCQqKorPPvuMPn368Mknn1BWVkZ5eTmvvPLK72qnQ4cO5ObmUlNToxs2ceJEtmzZ\n",
              "QmpqKjU1NWRkZJCcnMykSZMA2Lp1K4cOHaKqqgpLS0usra3vufm1atUqCgsLEUJga2uLWq1GrZa7\n",
              "lDIQRjBlyhRSUlIYN24cHh4e2Nra0rlzZ4KDg4mJifldbfzyIXdycsLe3p78/Hz69u3LunXreOut\n",
              "t3BwcGDkyJFMmTKFqVOnAlBaWkpcXByOjo60b9+eHTt2sG7dunrb37ZtGyEhIVhbWxMQEED//v2Z\n",
              "NWuWYV6AFkwhz6mWpDvkGkKS9MhASJIeGQhJ0iMDIUl6ZCAkSU+DAjFlyhQ8PDxQKBRkZmYaqSRJ\n",
              "aj4NCsSIESPYvXs37u7uxqpHkppVgwIxaNAg3NzcGj2zRYsWNXraplZbK3+eeRgZ7bf6yspKKisr\n",
              "6wxrCacv1tYK4tek893REtqYqbC2VGNjocbaUk1bc3Wdx9YWatpaqLG5/be1xS/Pm9HW4ta09m3M\n",
              "MVfLXbWWwmiBSEpK4u9//3udYf369TPW7AzmowP5fHe0BIAb1TXcqK7h/NXK+0x1b23MVIx71J2X\n",
              "wjyxtzI3VJmSkTTq0A0PDw82bNiARqO55zj1rSFef/11k95sKrh0nch/7uR6VQ1/G+7L434dqajU\n",
              "3r5Vc/Xmrb+vVWqpuKnl6u37a1Va3XMVv9zfvv3y6tpYqokf1I0JoV1payEPojNVRntnLCwssLCw\n",
              "qDPsXkdemgIhBK98cZjrVTWEeDjywoBuKJUPdm5zba1g2/FSkr85zk/nrrLg2xOs2pvHy4O9GNW3\n",
              "CxZq0309WpqPf8gnvHt7XO3bPFA7Ddq4jY+Px83NjcLCQiIjI/Hy8nqgmZuSTw4UsOfURSzNlMwf\n",
              "0fuBwwCgVCp4rIcLX00ZyKLnNLi3s+JCRRVzNh3lsYU7WJdeSI3ceX9gK3bk8rf12Ty3cj9Xb1Y/\n",
              "UFsNWkOsWLHigWZmqorKbpD41TEAZgzrTlentgZtX6lUEK3pxHD/jqw9WMDi709SePkGMz7PYsWO\n",
              "XKYP606kn4vsbaMRVuzIJem/PwEQG9QJG0uzB2rvof/6QwjBK6mHqajUEuzuwITQ+5/K2VhmKiVj\n",
              "+rmzY+ZgXnnCF7s2ZpwsreDFNek8/a+97Dl1wWjzbo2W64Vh2hBvpg3xeeA2H/pAfH6okF0nL2Ch\n",
              "VvL2iN6oDLCpdD9tzFW8GObJzr8O5uXBXrQxU5FVUMbolB8YnbKfrIIyo9fQ0i3fkcu822H4yxAf\n",
              "g4QBHvJAnL1ygzc2HwVg+jAfPNtbN+n87dqYMSOyOzv/Opi4Rz0wUynYc+oi0cv2EP/hIU6WXG3S\n",
              "elqKX4dh6hBvg7X90AZCCMHfvsjmaqUWTWd7nh/QfF08trexYE6UH1unh/NMkBsKBXxzpITIf+5k\n",
              "xudZFFy63my1mZp3txsvDPAQd1SW+mMR246fx1ytZMHIptlUup/OjlYsfDaA+LBuLPjmON8eLWFd\n",
              "eiFfZhYRG+iGo7U52ppatLUCbY1AW1tLdY2gplZQXVN7e9it4dqaW8NqagXVtQLt7b8tzFRMDvdk\n",
              "mF+H5l7cBnt3ey7zvzZeGOAhDURJ+U3mbjoC3NoZ83K2aeaK6vJxsWHluD5k5F8m+Zvj7M29yNpD\n",
              "BQZrf9KH6cQP6sbMyO6oVS1jI0E/DP8z1Icpjxk+DPAQBkIIwf+uz6b8ppbebnZMGmi6vWEHdnHg\n",
              "4z/1Y8+pC6Qdu3U4iZlKiVqpQK27V2CmVKJWKeoMN1MpUSkVmKkUqJVKVLfH23a8lPd3n2bFzp/J\n",
              "KChj6ahAnG0tm3lJf9u/tp/i7a9v9TtrzDDAQxiILzOLSTtWiplKQfKIgBbxHzLUy4lQLyeDtDXA\n",
              "24lHPByY8flhDpy+xPDFu1kyKpD+nu0M0r6hNWUY4CHbqS69epM5tzeVpj7mTfcOprWp1FQe79WR\n",
              "TX8egG8HGy5UVDI6ZT/vbs81uUPe9cMwvQnCAI0IxMmTJ3n00Ufx8fHhkUce4ciRI8aoy+CEELy+\n",
              "IYey69X4udoSH+Z5/4lasa5ObVmfEMozQW7UCpj/9U9M+jCdK9cf7NAHQ1m2rW4Y/twEYYBGBCI+\n",
              "Pp5JkyZx4sQJZs2aRVxcnBHKMrzNh8/yzZES1EoFC0YGYNYCNpWMrY25igUje5MU64+5WknasRL+\n",
              "sHQXOUVXmrWuZdtOkfxN04cBGhiI0tJSDh06pLvU0zPPPENBQYHuIhym6kJFJf/3ZQ4AL0d40aOj\n",
              "bTNXZDoUCgWjQrrwxUuP0tmxDQWXbhD77l4+PZBPc3TqqB+GGcOaNgzQwEAUFBTQsWNHXae4CoWC\n",
              "Ll266Lpj11dZWUl5eXmdm37HvU1p9pdHuHy9mh4dbUkIbz1H6BpSr052bH55IEN6OFOlreWVL7KZ\n",
              "ue4wN6qa7j37dRhejmjaMIARd6qTkpKws7Orcztw4ICxZndPX2WfZUv2WdRKBckjesvTOX+DnZUZ\n",
              "K8f2YdbjvigVsC69kJh/7eH0hWv3n/gBmUIYoIGB6Ny5M2fPnkWr1QK3dlTz8/N11yfQ9+qrr3Ll\n",
              "ypU6t5CQEMNU/TtdulbF6xtubSolhHvSq5Ndk86/JVIqFbwU7slHL/TDydqCn85dJWrJbr7OOWu0\n",
              "eeqHYWZk92YLAzQwEM7OzgQFBemue5aamoqbm1u9JwpZWFhga2tb59bUZ8zN3niEi9eq6O5i06wv\n",
              "ckvU37MdX00ZQIiHI1crtby45kfe3HyU6ppag7QvhODK9WoWf3+yThgmD27eTdoG/zC3YsUK4uLi\n",
              "SExMxNbWlg8++MAYdT2wr3POsSmrGJVSQfJIuanUGM62lnz8p74kf3OcFTt/JmX3abIKy1j6xyBc\n",
              "fsev2+U3qym8dIOCy9cpvHyDQt39DQovXedqpVY3rimEARoRiO7du7Nv3z5j1GIwl69V8drtTaX4\n",
              "Qd3o7WbfvAW1YGqVkleH9yDI3YEZn2VxMO8yTy7exeJRgfh3srvzAb/9YS+4dOfDX35Te9/229tY\n",
              "8FKYJxMHGO/ErIZolYduzN18lAsVlXg5WzfJr5sPg0i/DnT/sw0vffQjx86W88f3fvhd07Vra46b\n",
              "oxVuDm1u36zofPu+k30b2pibVkcLrS4QaUdLWJ9RhFIBySN6Y2lmWi94S+bh1Jb1CY/yf1/m8Nmh\n",
              "QgAc25rX+2F3c2hDJ4c2WJm3rI9Yy6r2Pq5cr+Zv67MB+NPAbgR2cWjmilofSzMVb48IYNbjvliY\n",
              "qbBuZX1MtYqlEUKQXXSFd747QenVSrq1b8tfhhrmHFupfu2sLe4/UgvUogNxqrSCjVnFbMwsIu/i\n",
              "rdMs5aaS9CBaXCCKy26wKauYjVnFHCku1w23NFMypIcLY/u5E+zu2IwVSi1ZiwjEpWtVfJV9lo2Z\n",
              "xRzIu6QbrlYqGOTTnqgAV4b2dJF9pkoPzGQ/QdcqtXx3tIQvM4vYdfICWr2TV0K6OhIV4Mpw/444\n",
              "tpU9akuGY1KBqNTWsOP4eTZmFZN2rISb1XcOE/BztSVa48ofers+cIe2knQvzR6ImlrBDz9f5MvM\n",
              "Yv6bc7bOr5tdndryVIArUQGueDk3bSdi0sOp2QORU3SFP6bc+dXTxdaCp3q7EqVxxb+TnewAWGpS\n",
              "zR6I3m52BLjZ0dPVlqiAToR0dTSJTsOkh1OjriDUWLGxsXh4eNw1vKamhgMHDhASEmLSF1XRJ2tu\n",
              "Ooao293dnalTp953vCYNxL2Ul5djZ2fHlStXsLVtGec7y5qbTlPWLU8SkCQ9MhCSpEcGQpL0mEQg\n",
              "LCwsmD179l1XLTVlsuam05R1m8ROtSSZCpNYQ0iSqZCBkCQ9MhCSpMfggfDw8MDZ2Znq6jvdqm/b\n",
              "tg2FQsG0adMMPTtJMiijrCG6dOnCxo0bdY/ff/99+vTpY4xZtUhffPEFwcHBaDQafH19iYiIoLa2\n",
              "lvDwcLp27YpGo8HLy4uhQ4eyZcuW+7YXFxdHp06dCAwMxNvbmwEDBvDhhx/qns/Ly0OhUBAdHV1n\n",
              "utmzZ6NQKNiwYUO97RYUFBAVFYW/vz/+/v5oNBq2bt0KwKpVq1AoFHXms3nzZsLDw3WPFQoF/v7+\n",
              "BAQE0LNnT5Pt1K4OYWDu7u5i6dKlYvjw4UIIIcrKyoSnp6d47bXXxNSpU4UQQiQnJ4tHHnlEBAYG\n",
              "isjISJGXlyeEECItLU3069dPaDQa0bNnT5GSkqJrd/z48WLSpEkiIiJCeHt7i5iYGFFZWWno8o2u\n",
              "uLhYtGvXTrfMQgiRnp4uamtrRVhYmFi/fr1u+LZt24SLi4tITU39zTbHjx8v/vGPf+geZ2RkCB8f\n",
              "H7Fw4UIhhBCnT58WdnZ2wtfXV5w7d04IIURNTY3w9vYW/v7+deap78knnxTvvPOO7vH58+fFmTNn\n",
              "hBBCfPDBB8Ld3V14eHjo3odNmzaJsLAw3fiAuHz5shBCiMzMTGFmZiaKi4t/c1mam1HWEKGhoeTl\n",
              "5VFcXMwnn3zCyJEjdQdlffzxxxw/fpx9+/bx448/Mnr0aBISEgAICgpi9+7dZGRksGvXLubOnUth\n",
              "YaGu3czMTDZt2sSxY8coKSkhNTXVGOUbVUlJCSqVCkfHO+d9BwUF1XuYe3h4OHPmzCEpKalB89Bo\n",
              "NCxatIj58+fXucbDmDFj+M9//gNAWloagYGBder4tcLCQjp16qR77OTkVKdja41GQ1BQEMuWLbtv\n",
              "TQEBATg4ONR5P02R0Xaqx44dy6pVq/j3v//NxIkTdcM3bNhAWlqabpPh7bff1l1f4uLFi4wcOZJe\n",
              "vXoRERHBxYsXycnJ0U0bExODlZUVKpWKkJAQcnNzjVW+0fTu3ZsBAwbg7u5OTEwMycnJFBUV3XP8\n",
              "vn37NuqyZX379qW0tJTz58/rho0fP57Vq1cD3PW+1GfWrFk8//zzhIaGMn36dHbu3HnXOImJicyf\n",
              "P5/y8vJ6Wrhjx44dODk5ERAQ0OBlaUpGC8S4ceNYvHgxlpaWeHvf6U5SCMGrr75KZmYmmZmZZGdn\n",
              "k519q3OxF198kQEDBpCdnU1mZiY+Pj7cvHlTN62l5Z0OdlUqla5b/pZEqVSSmprK3r17efzxx9mz\n",
              "Zw9+fn73vAqTaOTvpvVN5+bmhpubG5s3byY9PZ2hQ4f+ZhujRo0iPz+f6dOnAxAdHU1ycnKdcbp3\n",
              "705UVBTz58+vt42BAwfi5eVFREQEb775Jubmpn0OvNEC4erqSlJS0l0v1NNPP83y5cu5dOlW7xnV\n",
              "1dVkZGQAcPnyZdzd3VEoFOzcuZOsrCxjldfsfH19iY+PZ8OGDfTr16/OlxD6Dh48SK9evRrc/sGD\n",
              "B3F2dsbZ2bnO8AkTJjBhwgSee+45lMo7b39ZWRkajQaNRkNMTIxuuIODA7GxsSxcuJB33323zk70\n",
              "L+bMmcPKlSs5e/bua0js2rWLU6dO8f777xMXF0dJSUmDl6UpGfWMuQkTJtw1bPTo0Vy8eJHBgwcD\n",
              "oNVqmThxIoGBgcybN4+EhATeeOMNNBoNffv2NWZ5zaKoqIi8vDxCQ0OBW/8ETp8+jafn3VdF3bVr\n",
              "F3PmzGHp0qUNmsfhw4eZNm0as2bNuuu5p59+mry8PN11An9hb29PZmZmnWGbN28mIiICKysrhBBk\n",
              "ZGTUW6erqysvvPACiYmJuLu711tTXFwcGzduJDExkUWLFjVoeZpUs+7SP4Ty8vLEsGHDhLe3twgI\n",
              "CBB+fn7irbfeEkIIERYWJjw8PERAQIDw8vISjz32mNi0adN92xw/frxwdXUVAQEBwtvbW4SGhorV\n",
              "q1frnv/lW6b6/PqbLX0zZswQvr6+olevXsLPz0/ExsaKwsJCIcStb5mio6N145aVlQlHR8d7fssk\n",
              "hBAnTpwQNjY2ujZMkTy4T5L0yEM3JElPs/e6If0+KSkp9e5LLFmyhIEDBzZDRa2T3GSSJD1yk0mS\n",
              "9MhASJIeGQhJ0iMDIUl6ZCAkSY8MhCTpkYGQJD0yEJKk5/8BP9JoS/fyIYgAAAAASUVORK5CYII=\n",
              "\">\n",
              "        \n",
              "      </div>\n",
              "      <script></script>\n",
              "      <script type=\"text/javascript\">\n",
              "        (() => {\n",
              "          const chartElement = document.getElementById(\"chart-29e6a483-085d-456b-8081-92556ec96949\");\n",
              "          async function getCodeForChartHandler(event) {\n",
              "            const chartCodeResponse =  await google.colab.kernel.invokeFunction(\n",
              "                'getCodeForChart', [\"chart-29e6a483-085d-456b-8081-92556ec96949\"], {});\n",
              "            const responseJson = chartCodeResponse.data['application/json'];\n",
              "            await google.colab.notebook.addCell(responseJson.code, 'code');\n",
              "          }\n",
              "          chartElement.onclick = getCodeForChartHandler;\n",
              "        })();\n",
              "      </script>\n",
              "      <style>\n",
              "        .colab-quickchart-chart-with-code  {\n",
              "            display: block;\n",
              "            float: left;\n",
              "            border: 1px solid transparent;\n",
              "        }\n",
              "\n",
              "        .colab-quickchart-chart-with-code:hover {\n",
              "            cursor: pointer;\n",
              "            border: 1px solid #aaa;\n",
              "        }\n",
              "      </style>"
            ]
          },
          "metadata": {}
        },
        {
          "output_type": "display_data",
          "data": {
            "text/plain": [
              "import numpy as np\n",
              "from google.colab import autoviz\n",
              "df_92971902169911561 = autoviz.get_registered_df('df_92971902169911561')\n",
              "\n",
              "def value_plot(df, y, sort_ascending=False, figsize=(2, 1)):\n",
              "  from matplotlib import pyplot as plt\n",
              "  if sort_ascending:\n",
              "    df = df.sort_values(y).reset_index(drop=True)\n",
              "  _, ax = plt.subplots(figsize=figsize)\n",
              "  df[y].plot(kind='line')\n",
              "  plt.title(y)\n",
              "  ax.spines[['top', 'right',]].set_visible(False)\n",
              "  plt.tight_layout()\n",
              "  return autoviz.MplChart.from_current_mpl_state()\n",
              "\n",
              "chart = value_plot(df_92971902169911561, *['Skewness'], **{})\n",
              "chart"
            ],
            "text/html": [
              "      <div class=\"colab-quickchart-chart-with-code\" id=\"chart-207703b4-5214-4097-9513-548dcaaa5aa7\">\n",
              "        <img src=\"data:image/png;base64,iVBORw0KGgoAAAANSUhEUgAAAMQAAABgCAYAAABCK92TAAAAOXRFWHRTb2Z0d2FyZQBNYXRwbG90\n",
              "bGliIHZlcnNpb24zLjcuMSwgaHR0cHM6Ly9tYXRwbG90bGliLm9yZy/bCgiHAAAACXBIWXMAAA9h\n",
              "AAAPYQGoP6dpAAAXMklEQVR4nO3de1zT9f4H8NeXwTaRjauAgDATEARkICIJIqKiP7JAO540NdA8\n",
              "Xsiyn1hmZdpNNH96MvVkhGlZWacQUrscJREh78gQTVNL5CogchU22Pb+/YHO7WApurGhn+fj8X2w\n",
              "72Wfz3tf9t739vl+vhwRERiGAQCYGTsAhjElLCEYRgtLCIbRwhKCYbSwhGAYLSwhGEYLSwiG0cIS\n",
              "gmG0sIRgGC0sIfTkwIED4DgOSqXS2KEw94ElRBdcunQJU6dOhYuLC6ysrODi4oLY2FhUVlYaOzRG\n",
              "T1hCdEFsbCxEIhFOnz6N5uZmFBQU4KmnngLHccYOjdETlhB3qba2FufOncO8efNgZ2cHAHByckJC\n",
              "QgKcnZ07LX/x4kX4+vripZdeglqtRn19PebPnw8PDw/Y29sjNjYWf/zxBwCgqKgIfD4fzc3NAICc\n",
              "nBxwHIf169dryvP19cX27dsBAImJiZgyZQoWLFgAe3t7ODk5YdmyZTr1nzt3DhMmTICTkxNcXV2R\n",
              "lJSE69evAwCICG+88Qbc3NwgEong5uaGV199FQDQ1taGpKQkODs7QyQSQSKRYMOGDXpemyaMmLsW\n",
              "EBBAISEh9Mknn1BhYSGpVCrNvOzsbAJA7e3tlJ2dTU5OTpSWlkZERGq1mqKioujpp5+m2tpaksvl\n",
              "9PLLL5Ovry+1tbUREZGzszPt2rWLiIiWLl1KXl5eFBsbS0REpaWlxHEcVVZWEhFRQkIC8fl82rFj\n",
              "BymVSjp06BCZm5vT/v37iYiopqaGHBwcaN26dSSXy6mmpoZGjx5Ns2fPJiKivXv3kqurK12+fJmI\n",
              "iGpra+nQoUNERJSamkpSqZRqamqIiKiyspLy8/MNul5NCUuILrh69SotW7aMhg4dSgKBgGxtbSk5\n",
              "OZnkcrkmIT788ENydHTUfDmJiPLz88nCwoKampo005RKJQmFQsrNzSUiohkzZtCCBQuIiGjIkCH0\n",
              "zTffkJWVFcnlctqyZQsNHjxY896EhAQaNWqUTmwhISG0atUqIiJau3YthYWF6czPy8sjPp9PSqWS\n",
              "Dhw4QPb29vTDDz9QS0uLznLbtm0jT09PysnJ0STrw4QlxD2Sy+WUkZFBYrGYli9frkkIZ2dnmjdv\n",
              "ns6yX331FXEcR9bW1jqDUCikL7/8koiItm/fTt7e3nT16lUSi8WkUCgoJCSEsrKyaMqUKbR48WJN\n",
              "eQkJCTRt2jSdOkaOHEmvvfYaERHNmzePLCwsdOoSi8UkEAiorKyMiIi2bNlCkZGRJBKJaMSIEbR3\n",
              "714i6kjUNWvWUGhoKInFYho/fjydOHHCYOvR1LBjiHskEAgQHx+PMWPG4OTJk5rpubm5yMrKwvPP\n",
              "Pw+6ce+Vs7Mz+Hw+ampqUF9frxlaW1sxdepUAMCYMWNw4cIFfPzxx4iMjASfz8e4cePw448/Iisr\n",
              "C2PHjr3r2JydnREREaFTV0NDA+RyOVxdXQEAs2bNQk5ODmpqahAfH4/HH38cTU1N4PF4WLx4MY4e\n",
              "PYry8nL4+voiLi5Oj2vOtLGEuEt1dXV45ZVXcOrUKSgUCqhUKvz888/Izs5GZGSkZjmJRIK8vDzk\n",
              "5eVh+vTpaG9vR0REBPz9/TF//nxUV1dryktPT0dLSwuAji9xQEAAVq1ahZiYGABATEwM0tLS0Nzc\n",
              "rFPHncycORMFBQX417/+hZaWFhARSktLkZmZCQA4duwYDh48iNbWVvD5fIhEInAcBx6Ph/379+PE\n",
              "iRNoa2uDUCiElZUVeDyentai6WMJcZf4fD6uXr2KyZMnw8HBAfb29li4cCGWLFmC5ORknWWdnJyQ\n",
              "k5OD8vJyxMXFQaFQYN++fbC0tMSwYcMgEokQGBiIjIwMnVO2MTExaGho0CTEo48+CrVajREjRkAo\n",
              "FN51rO7u7jh8+DD27duHAQMGwMbGBuPGjUNRUREAoLm5GYsWLYKjoyNsbGyQmpqKjIwMWFpaorq6\n",
              "GomJibCzs0OfPn2Qk5ODb7/9Vg9rsGfgiNg91QxzE9tCMIwWlhAMo4UlBMNoYQnBMFpYQjCMli4l\n",
              "xAsvvACJRAKO4yCTyQwUEsMYT5cS4m9/+xvy8vLg4eFhqHgYxqi6lBCRkZFwc3O758q0mzM/DIgI\n",
              "ajW7zNOTmBuqYIVCAYVCoTPtZvv/nkCtJjS3KdEkV6JZrkSTvB1NciUab/xt0prWrOh43Xib6VYC\n",
              "c7ww2guJwyXgmbEbiUydwRIiJSUFb775ps60sLAwQ1WnN0SE5H8XIkNWDn1cw29obcfbe35FZkE5\n",
              "UiYFwN/V+v4LZQzmnppuSCQSZGZmQiqV/ukyt9tCLFu2zOR3m3YVVuCFHQWacQseB5HQAiKheccg\n",
              "uPlaa5rOeMdf8Y3X+89VY+UPZ9EkV8KMA2aF98f/jvVGb4HBfouY+2Cw/4pAIIBAINCZZuqtJhta\n",
              "2vHW7jMAgBeiPZE0yhMCc7P7umd6aqg7Rvs64q3dv2LPqUqk5V3Cj6ev4O14P0T7OOkrdEZPunRQ\n",
              "PXfuXLi5uaGsrAzjxo2Dp6enoeIyilU/ncXV5jYM6NMbz0V7QmjB00sHAo4iITY+HYytM4fC1aYX\n",
              "yutbMWvbCTz3xUlUN8r1EDmjL11KiI8++ghlZWVQKpWoqqrCxYsXDRVXtzt26Rp2HCsFAKRMGgyB\n",
              "uf63ZqMGOmLfokjMiXwEPDMO3xdVYvS6HHx+5DI7G3UfiAj/95/fcLay8b7LYleqASiUKizdeQoA\n",
              "MGVoP4T2tzNYXZZ8c7wa64tdC8Ix2M0aTXIlXs88jckfHcb5qiaD1fugUqsJy747jY3ZFzFjy1E0\n",
              "ytvvqzyWEAA2H/gDv9dch4MVH0v/x7db6vRzsUZGUjjemDAIvfk85F+uw2Mf5OL//vMb5O2qbomh\n",
              "p1OrCa9mFOHzIyXgOODlcT4QCy3uq8yHPiF+r2nGpuyOXb9lEwbB2vL+VmhX8Mw4zIroj32LRmKM\n",
              "rxPaVYSN2Rcx/v2D+OXi1W6LoydSqQkvfXsKXx0vhRkHrPt7IP4+tN99l/tQJwQR4bWMIrSp1Ij0\n",
              "7oMnAl2MEoeLTS98/MwQbJ4eDCexAMW1LZiWdhSL/i3DtettRonJlClVaiz6twzpJ8vAM+Pw/pQg\n",
              "TAy69xYU2h7qhPgmvwxH/rgGoYUZ3o33N2qXlBzHYbx/X+xbNBLPPOoBjgN2nizH6LUH8G1+Gdid\n",
              "vh3aVWos/FqG72QVMDfjsGFqkF5/yB7aq0O1zQqs/OEsAODFMd7oZ2dp5Ig6iIUWeCvOH/FBrnh1\n",
              "ZxHOXWnC4m8K8cXRy+hn2xEjoWPrRjdGCKS5qk5a43Rj/MYcEAG9BeaYE/lIj7xi3qZU4/kdJ/Gf\n",
              "M1Ww4HHY9HQwYvw6dyN6Px7ahHjn+7Oob2mHb18xno3ob+xwOgl2t8Xu5yOQlnsJ72edR0FJPQpK\n",
              "6vVS9k9nriBlYgCeHKKf3YzuoFCq8NwXJ5F1thp8nhk2zwg2yIXNhzIhci/UIKOgHBwHpEwKgAXP\n",
              "NPccLXhmmB81ABMG98XPZ6ugVBM4jgMH4ObeXcdrDhzX8frmjJvLcLg1j+OAn05fQfZvNUj+phBF\n",
              "5Q147TFfk/38N8nbVZi7PR8552sgMDdD6jMhGOndxyB1PXQJIW9X4fXM0wCAhEclkPazMW5Ad6Gf\n",
              "nSUSw/WzFZs8pB/e//kCPvj5ArYdKsavFY3YNC0YfUSCO7/ZCFrbVPjHZyeQd/EqelnwsCUhBMM9\n",
              "HQxWn2n/NBjABz9fwOXaFjiLhUiO8TZ2ON3OzIzDorHeSJ0xBFYCcxwrvobHN+RBVlpv7NA6ua5Q\n",
              "Yua2Y8i7eBWWfB62zRxq0GQA7iEhLly4gOHDh8Pb2xtDhw7FmTNnDBGXQZy70ojUgx33ZLwZ5wfR\n",
              "fV7E6cli/JyR+Vw4BvTpjSuNcvx982F8fbzE2GFpNCuUSNx6DEf+uAYrgTk+mxWKYY/YG7zeLifE\n",
              "3LlzMWfOHJw/fx5LlixBYmKiAcLSP7WasHRnEZRqQswgJ4zT89mJnsjT0QqZz4UjZpAT2lRqLEkv\n",
              "6rguo1QbNa5GeTtmbDmK48V1EAnNsf3ZUIRIDNecRluXEqK6uhonTpzA9OnTAQBPPvkkSktLe0Qj\n",
              "vy+OXkZBST2sBOZ4M87P2OGYDJHQApunD0HyWG9wHPDF0RJM/fgIqozUCrehpR3T046ioKQe1r0s\n",
              "8MXsYQhyt+22+ruUEKWlpejbty/MzTuOxTmOg7u7O0pKOm9qFQoFGhsbdQaVyjhtdKoa5Xjvp98A\n",
              "AItjvNHXupdR4jBVZmYcnh/thU8ShkIkNEf+5TpM2JCH/MvXujWOuuttmPrxEZwqa4CtpQW+/Mcw\n",
              "DHaz6dYYDHZQnZKSAmtra53h2LFjhqruL63YdQZNCiUC+9lgxqMSo8TQE4zyccSuBRHwdrJCTZMC\n",
              "U1KP4PMjl7vlKvnVZgWmfnwEv1Y2wr43HzvmhMHPpfsvHnYpIfr164fKykrNs5iJCCUlJXB3d++0\n",
              "7NKlS9HQ0KAzhIaG6ifqLsj6tQo/nr4CnhmHlIkB7Eb/O+jv0BsZSeGIDXBGu4rweuZpvJJeZNAW\n",
              "uNVNckxNPYJzV5rQRyTAV3PC4OMsNlh9f6VLCeHo6Ijg4GB8/vnnAID09HS4ubnd9s45gUAAsVis\n",
              "M3T3LaTXFUq88V3HNYfZEf0xyMU4K7mn6S0wx6ang7FkvA/MOODrE6V4KvUIKhta9V5XVaMcU1KP\n",
              "4EJ1M5zFQnw9JwxeTiK913O3unxh7qOPPkJiYiJWrlwJsViMrVu3GiIuvVi79zwqGuRws+2FhWO8\n",
              "jB1Oj8JxHOZHDYCfixjP7yhAYWk9Ht+Qh01PB9/z6U95uwrl9a0oudaC0mstKKltwU9nrqCsrhUu\n",
              "1kLsmBMGD/veev4kXdPlhBg4cCAOHz5siFj0qqisAdsOXQIAvBPvD0v+Q3dRXi8ivftg94IIzNl+\n",
              "AueuNGFa2lG8/pgvEoZLOrUOJiJcbW679YXXGkqvteBKo/y2Xfu42fbCjn+EmUQDywfyW6JUqfHK\n",
              "zlNQE/B4oAuiBjoaO6Qezd3eEjuThuOV9CLsKqzAit2/orCsAYFu1ii51qqTAK13ONbozeehn50l\n",
              "3G8MHvaWeGywC+x687vp0/y1BzIhth0qxpmKRoiF5nhjwiBjh/NAsOSbY/0UKQa7WWPlD2eRUVCO\n",
              "jILyTsuZcUBf616aL7y7vaVOAthaWhj1vpM7eeASoqyuBWv3ngcALI31NdlGaz0Rx3GYPeIRDOor\n",
              "RmruH+hlwYO7ne4X3sWmF/jmPbeJ3AOVEESEN747g9Z2FYZKbPFUyP3fY8t0NtzTweCN7Iyl56by\n",
              "fyEi7CqswP5z1bDgcUiZFAAzds2B6aIeu4VolLejqKwBstJ6zVDT1NGX7PwoT3g6Gu9cNtNz9YiE\n",
              "aFepca6yCbKyeshK6lFYVo/fa5o7ncLjmXEY7eOIpKgBxgmU6fFMLiGICKXXWlFQWofC0gbISutw\n",
              "pqIRits0SXaz7QVpPxvN4OdijV580+5QmTFtRk+I1jYVjl6qhay0HoWl9Sgsa7htX0RioTkC+9kg\n",
              "qJ8NAm8MDlbsDBKjX0ZPiCuNciRuPa4zjc8zg6+L+MaX3xqBbjbo79DbpM9fMw8GoyeExN4SgW7W\n",
              "eKSPFaQ3fvl9+4oM0vs2w9zJPT1B6F5NmjQJEomk03SVSoVjx44hNDTU5B+qchOLufvoI24PDw8s\n",
              "XLjwjst1a0L8mcbGRlhbW6OhoQFicc9oos1i7j7dGfcDc2GOYfSBJQTDaGEJwTBaTCIhBAIBli9f\n",
              "3umppaaMxdx9ujNukzioZhhTYRJbCIYxFSwhGEYLSwiG0aL3hJBIJHB0dER7+63nBWdnZ4PjOLz4\n",
              "4ov6ro5h9MogWwh3d3fs2rVLM75lyxaEhIQYoqoeaefOnRgyZAikUil8fHwQHR0NtVqNqKgo9O/f\n",
              "H1KpFJ6enhg7diy+//77O5aXmJgIV1dXBAUFwcvLCxEREdi+fbtmfnFxMTiOQ1xcnM77li9fDo7j\n",
              "kJmZedtyS0tL8cQTTyAgIAABAQGQSqXYv38/AGDbtm3gOE6nnj179iAqKkozznEcAgICEBgYiEGD\n",
              "Bpl0H14apGceHh60ceNGio2NJSKi+vp6GjBgAL3++uu0cOFCIiJas2YNDR06lIKCgmjcuHFUXFxM\n",
              "RERZWVkUFhZGUqmUBg0aRGlpaZpyExISaM6cORQdHU1eXl40ceJEUigU+g7f4CoqKsje3l7zmYmI\n",
              "8vPzSa1W08iRIykjI0MzPTs7m5ycnCg9Pf0vy0xISKB//vOfmvGCggLy9vamtWvXEhHRpUuXyNra\n",
              "mnx8fOjKlStERKRSqcjLy4sCAgJ06tT22GOP0bp16zTjNTU1dPnyZSIi2rp1K3l4eJBEItH8H3bv\n",
              "3k0jR47ULA+A6urqiIhIJpORhYUFVVRU/OVnMTaDbCHCw8NRXFyMiooK7NixA5MnT9Y0yvryyy/x\n",
              "22+/4fDhwzh58iSmTZuGpKQkAEBwcDDy8vJQUFCA3NxcvPXWWygrK9OUK5PJsHv3bpw9exZVVVVI\n",
              "T083RPgGVVVVBR6PBzu7W887CA4Ovm3T9qioKKxYsQIpKSldqkMqlWL9+vVYvXq1TkfF06dPx2ef\n",
              "fQYAyMrKQlBQkE4c/62srAyurq6acQcHB51+fKVSKYKDg7Fp06Y7xhQYGAhbW1ud/6cpMthB9YwZ\n",
              "M7Bt2zZ88sknmDVrlmZ6ZmYmsrKyNLsM7733nqY7/draWkyePBn+/v6Ijo5GbW0tTp8+rXnvxIkT\n",
              "YWlpCR6Ph9DQUPz++++GCt9gBg8ejIiICHh4eGDixIlYs2YNyss7929007Bhw+7pKU3Dhg1DdXU1\n",
              "ampqNNMSEhLw6aefAkCn/8vtLFmyBM8++yzCw8ORnJyMgwcPdlpm5cqVWL16NRobG/+yrJycHDg4\n",
              "OCAwMLDLn6U7GSwhnnnmGXzwwQcQCoXw8rrVryoRYenSpZDJZJDJZCgqKkJRUREAYN68eYiIiEBR\n",
              "URFkMhm8vb0hl996cIdQKNS85vF4ml7IexIzMzOkp6fj0KFDGD9+PH755Rf4+fn96UNn6B6vm97u\n",
              "fW5ubnBzc8OePXuQn5+PsWPH/mUZU6dORUlJCZKTkwEAcXFxWLNmjc4yAwcOxBNPPIHVq1fftowR\n",
              "I0bA09MT0dHReOedd8Dnm0YPfX/GYAnh4uKClJSUTisqPj4emzdvxrVrHQ/jaG9vR0FBAQCgrq4O\n",
              "Hh4e4DgOBw8eRGFhoaHCMzofHx/MnTsXmZmZCAsL0zkJoe348ePw9/fvcvnHjx+Ho6MjHB11u/Gc\n",
              "OXMmZs6ciSlTpsDM7Na/v76+HlKpFFKpFBMnTtRMt7W1xaRJk7B27Vp8+OGHOgfRN61YsQKpqamo\n",
              "rKzsNC83NxcXL17Eli1bkJiYiKqqqi5/lu5k0DvmZs6c2WnatGnTUFtbi1GjRgEAlEolZs2ahaCg\n",
              "IKxatQpJSUl4++23IZVKMWzYMEOGZxTl5eUoLi5GeHg4gI4fgUuXLmHAgM49heTm5mLFihXYuHFj\n",
              "l+o4deoUXnzxRSxZsqTTvPj4eBQXF2sei3aTjY0NZDKZzrQ9e/YgOjoalpaWICIUFBTcNk4XFxfM\n",
              "nj0bK1euhIeHx21jSkxMxK5du7By5UqsX7++S5+nWxn1kP4hVFxcTDExMeTl5UWBgYHk5+dH7777\n",
              "LhERjRw5kiQSCQUGBpKnpyeNHj2adu/efccyExISyMXFhQIDA8nLy4vCw8Pp008/1cy/eZbpdv77\n",
              "zJa2xYsXk4+PD/n7+5Ofnx9NmjSJysrKiKjjLFNcXJxm2fr6erKzs/vTs0xEROfPnyeRSKQpwxSx\n",
              "xn0Mo4U13WAYLUbvdYO5O2lpabc9ltiwYQNGjBhhhIgeTGyXiWG0sF0mhtHCEoJhtLCEYBgtLCEY\n",
              "RgtLCIbRwhKCYbSwhGAYLSwhGEbL/wOVwt95VYjVmwAAAABJRU5ErkJggg==\n",
              "\">\n",
              "        \n",
              "      </div>\n",
              "      <script></script>\n",
              "      <script type=\"text/javascript\">\n",
              "        (() => {\n",
              "          const chartElement = document.getElementById(\"chart-207703b4-5214-4097-9513-548dcaaa5aa7\");\n",
              "          async function getCodeForChartHandler(event) {\n",
              "            const chartCodeResponse =  await google.colab.kernel.invokeFunction(\n",
              "                'getCodeForChart', [\"chart-207703b4-5214-4097-9513-548dcaaa5aa7\"], {});\n",
              "            const responseJson = chartCodeResponse.data['application/json'];\n",
              "            await google.colab.notebook.addCell(responseJson.code, 'code');\n",
              "          }\n",
              "          chartElement.onclick = getCodeForChartHandler;\n",
              "        })();\n",
              "      </script>\n",
              "      <style>\n",
              "        .colab-quickchart-chart-with-code  {\n",
              "            display: block;\n",
              "            float: left;\n",
              "            border: 1px solid transparent;\n",
              "        }\n",
              "\n",
              "        .colab-quickchart-chart-with-code:hover {\n",
              "            cursor: pointer;\n",
              "            border: 1px solid #aaa;\n",
              "        }\n",
              "      </style>"
            ]
          },
          "metadata": {}
        },
        {
          "output_type": "display_data",
          "data": {
            "text/plain": [
              "<google.colab._quickchart_helpers.SectionTitle at 0x793c36f22ad0>"
            ],
            "text/html": [
              "<h4 class=\"colab-quickchart-section-title\">Distributions</h4>\n",
              "<style>\n",
              "  .colab-quickchart-section-title {\n",
              "      clear: both;\n",
              "  }\n",
              "</style>"
            ]
          },
          "metadata": {}
        },
        {
          "output_type": "display_data",
          "data": {
            "text/plain": [
              "import numpy as np\n",
              "from google.colab import autoviz\n",
              "df_92971902169911561 = autoviz.get_registered_df('df_92971902169911561')\n",
              "\n",
              "def histogram(df, colname, num_bins=20, figsize=(2, 1)):\n",
              "  from matplotlib import pyplot as plt\n",
              "  _, ax = plt.subplots(figsize=figsize)\n",
              "  plt.hist(df[colname], bins=num_bins, histtype='stepfilled')\n",
              "  plt.ylabel('count')\n",
              "  plt.title(colname)\n",
              "  ax.spines[['top', 'right',]].set_visible(False)\n",
              "  plt.tight_layout()\n",
              "  return autoviz.MplChart.from_current_mpl_state()\n",
              "\n",
              "chart = histogram(df_92971902169911561, *['Mean'], **{})\n",
              "chart"
            ],
            "text/html": [
              "      <div class=\"colab-quickchart-chart-with-code\" id=\"chart-83df588a-6d33-4d47-8b2c-e204d822afb2\">\n",
              "        <img src=\"data:image/png;base64,iVBORw0KGgoAAAANSUhEUgAAAMQAAABgCAYAAABCK92TAAAAOXRFWHRTb2Z0d2FyZQBNYXRwbG90\n",
              "bGliIHZlcnNpb24zLjcuMSwgaHR0cHM6Ly9tYXRwbG90bGliLm9yZy/bCgiHAAAACXBIWXMAAA9h\n",
              "AAAPYQGoP6dpAAAI+ElEQVR4nO3dW0gUbx8H8O+YYaS7/k0zrW3XSCwqKwJPdZEVEfrS2YtYgjYI\n",
              "l4KUjOoN2awMi5CyuqjoojLJoLXDRRSUdJGdD3QgytbKNGxdrFw7qJX7vBfRvrP/tBrd2XW37wcG\n",
              "3JnZmd8MfnlmZp+ZkYQQAkQEAAjxdwFE/QkDQSTDQBDJMBBEMgwEkQwDQSTDQBDJMBBEMgwEkQwD\n",
              "QSTDQPhRZmYmJEnCwYMHPcZ/+PABGo0GkiShrq7OT9X9nRgIPxs3btxPgTh27BgMBoOfKvq7MRB+\n",
              "NnfuXDQ3N+PmzZvucfv374fZbPaY7+bNm8jMzER0dDQMBgMsFgu+ffvmnp6bm4uEhARERERg1KhR\n",
              "KCoqgsvlck/PzMxEfn4+jEYjIiMjMXLkSOzfv1/9DQw0gvxm+vTporCwUGzatEmYTCYhhBBXrlwR\n",
              "er1ePH/+XAAQNptNPH36VISHh4vKykrx9etXUV9fLyZOnCi2bdvmXtahQ4eE3W4XLpdLXL9+XQwZ\n",
              "MkQcOHDAY11arVZUV1eLrq4uYbVaRUhIiLDZbD7f7v6MgfCjH4FobGwUGo1GvH//XhiNRlFcXCxe\n",
              "vnzpDsTq1avFkiVLPL5bUVEhRo8e3eOy8/LyxKJFizzWtXz5co95YmJixIkTJ7y7UQEu1N8tFAE6\n",
              "nQ4zZsxAaWkpzp49i9LSUnR2drqn22w2XL58Gf/88497nMvlch8SCSFQUlKC48ePo6mpCUIIdHR0\n",
              "ICUlxWM9w4cP9/gcHh6ODx8+qLdhAYjnEP3EypUrUVJSgqysLMTHx3tMi4uLg9FoRGtrq3toa2vD\n",
              "x48fAQAnTpxAWVkZysvL0dLSgtbWVpjNZgje+6UYA9FPzJkzBxcvXsTu3bt/mrZq1SpYrVacPHkS\n",
              "X758QVdXF+rq6nDhwgUAgNPpRGhoKGJjYyFJEi5fvoyKigpfb0JQYCD6CUmSMGvWLOh0up+mpaSk\n",
              "4OLFizh06BBGjBiB6Oho5OTk4NWrVwAAk8mEWbNmITk5GTExMThw4ACWLl3q600ICpJgu0rkxhaC\n",
              "SIaBIJJhIIhkGAgiGQaCSEa1QHR0dGDBggVISkrCpEmTMHv2bHZlpn5P1RYiNzcXtbW1ePDgAebP\n",
              "n48VK1aouTqiPlMtEIMGDUJ2djYkSQIApKeno76+/o+/v2fPHpUqI+qZzzr37dmzB/Pnz+92Wmdn\n",
              "p0dnNgB48eKFL8oi8uCTQJSUlKCurg7V1dXdTt++fTu2bNniMS49Pd0Xpaki4b/nepxWv+M/PqyE\n",
              "lFL9KlNpaSlOnTqF8+fPY/Dgwd3Os3HjRjidTo8hNTVV7dKIfqJqC7Fr1y5UVlbi0qVLHn35/y0s\n",
              "LAxhYWEe4wYMGKBmaUTdUtxCPHz48I/GvX79GmvXrkVraytmzJiByZMnIy0trXdVEvmI4hbCZDLh\n",
              "3r17vx2n0+l4gwoFnD8OhMPhgN1uR3t7Ox49euT+Z3c6nfj06ZNqBRL50h8HorKyEmVlZWhqasK8\n",
              "efPc4yMjI7F+/XpViiPytT8ORH5+PvLz81FcXAyLxaJmTUR+o/gcwmKxwOVywW63ezwoS6/Xe7Uw\n",
              "In9QHIijR49i9erVGDhwIEJCvl+kkiQJDofD68UR+ZriQGzduhW3b9/GmDFj1KiHyK8U/w4RExPD\n",
              "MFDQUhyIBQsWoKysDA6HA21tbe6BKBgoPmQqLCwEABQUFECSJAghIEkSurq6vF4cka8pDoT8EetE\n",
              "wYb3VBPJKG4hQkJC3HfByfGQiYKB4kDIH5/e3t6O8vJyhoGChuJAhIeHe/xdUFCAtLQ0rFu3zquF\n",
              "/cqv7kjrjUC+i623+8Lb29xTHWrsWzXX1edziKdPn6KlpaXPhRD1B4pbiKioKPc5xI++TPv27fNu\n",
              "VUR+ojgQ9+/f//+XQ0MRFxfH2z0paCgOhMFgwOfPn93BiIqK6vHhAUSBRnEgrl27hsWLFyMuLg4A\n",
              "0NzcjKqqKmRkZHi9OCJfUxyIgoICWK1WTJs2DcD3gKxZswY3btzwenFEvqb4KlN7e7s7DAAwdepU\n",
              "dHR0eLUoIn9RHIiIiAhcunTJ/bm6utrjtwmiQKb4kGnv3r1YtGiR+8qSy+XCqVOnvF4YkT8oDkRT\n",
              "UxPu3LmD5uZmAMCwYcNw69YtrxdG5A+KD5ksFguGDh2KCRMmYMKECYiJieFTOCho9LnrBm8OomCi\n",
              "OBAajQbXrl1zf7569So0Go1XiyLyF8XnEDt37sTChQsxduxYAIDNZsPp06e7nddms2HZsmVoaWlB\n",
              "ZGQkjhw5gvHjx/etYiIVKQ5ERkYGnjx5guvXrwP4/jtET4+6N5vNyM3NhclkgtVqhclkwu3bt/tU\n",
              "MJGaenUOERUVhezsbGRnZ/cYBofDgTt37mDp0qUAgMWLF6OxsZFvIqV+TbUXpjQ2NiI+Ph6hod9X\n",
              "IUkS9Ho9GhoakJiY6DFvd++Y44k6+YMkVHqJw927d2E0GlFbW+sel5qaih07dmDmzJke827evPmn\n",
              "d8yNHTsWWVlZapQWsLq6unDr1i2kpqayy/2//G7fGAwG5Ofn/3Y5qgXC4XAgMTER7969Q2hoKIQQ\n",
              "iI+PR01NzR+1EN29Zutv19bWhsjISDidTmi1Wn+X0694a9+o9hia2NhYTJkyBRUVFQCAqqoq6HS6\n",
              "n8IAfP/n12q1HgPDQP6gWgsBALW1tTCZTHj79i20Wi0OHz6M5ORktVYX9NhC9Mxb+0bVt5COGTPG\n",
              "fXmWKBDwyX0BJCwsDEVFRTyc7Ia39o2qh0xEgYYtBJEMA0Ekw0AQyTAQAcJms2Hq1KlISkpCSkoK\n",
              "Hj9+7O+S+o28vDwkJCRAkiSPB+n1BgMRIH70HH727Bk2bNgAk8nk75L6jZycHNTU1MBgMPR5WbzK\n",
              "FACUdIP5myUkJODMmTOYPHlyr5fBFiIA/KrnMHkXA0Ekw0AEgJEjR+LNmzfu1w8IIdDQ0AC9Xu/n\n",
              "yoIPAxEAlPQcpr7hSXWAYM/hnpnNZpw7dw52ux3R0dHQaDS9vlWZgSCS4SETkQwDQSTDQBDJMBBE\n",
              "MgwEkQwDQSTDQBDJMBBEMgwEkQwDQSTDQBDJ/A9y6puJ5zHEzQAAAABJRU5ErkJggg==\n",
              "\">\n",
              "        \n",
              "      </div>\n",
              "      <script></script>\n",
              "      <script type=\"text/javascript\">\n",
              "        (() => {\n",
              "          const chartElement = document.getElementById(\"chart-83df588a-6d33-4d47-8b2c-e204d822afb2\");\n",
              "          async function getCodeForChartHandler(event) {\n",
              "            const chartCodeResponse =  await google.colab.kernel.invokeFunction(\n",
              "                'getCodeForChart', [\"chart-83df588a-6d33-4d47-8b2c-e204d822afb2\"], {});\n",
              "            const responseJson = chartCodeResponse.data['application/json'];\n",
              "            await google.colab.notebook.addCell(responseJson.code, 'code');\n",
              "          }\n",
              "          chartElement.onclick = getCodeForChartHandler;\n",
              "        })();\n",
              "      </script>\n",
              "      <style>\n",
              "        .colab-quickchart-chart-with-code  {\n",
              "            display: block;\n",
              "            float: left;\n",
              "            border: 1px solid transparent;\n",
              "        }\n",
              "\n",
              "        .colab-quickchart-chart-with-code:hover {\n",
              "            cursor: pointer;\n",
              "            border: 1px solid #aaa;\n",
              "        }\n",
              "      </style>"
            ]
          },
          "metadata": {}
        },
        {
          "output_type": "display_data",
          "data": {
            "text/plain": [
              "import numpy as np\n",
              "from google.colab import autoviz\n",
              "df_92971902169911561 = autoviz.get_registered_df('df_92971902169911561')\n",
              "\n",
              "def histogram(df, colname, num_bins=20, figsize=(2, 1)):\n",
              "  from matplotlib import pyplot as plt\n",
              "  _, ax = plt.subplots(figsize=figsize)\n",
              "  plt.hist(df[colname], bins=num_bins, histtype='stepfilled')\n",
              "  plt.ylabel('count')\n",
              "  plt.title(colname)\n",
              "  ax.spines[['top', 'right',]].set_visible(False)\n",
              "  plt.tight_layout()\n",
              "  return autoviz.MplChart.from_current_mpl_state()\n",
              "\n",
              "chart = histogram(df_92971902169911561, *['SD'], **{})\n",
              "chart"
            ],
            "text/html": [
              "      <div class=\"colab-quickchart-chart-with-code\" id=\"chart-d420cbca-e4cc-4ae8-bcba-56a805e63c6a\">\n",
              "        <img src=\"data:image/png;base64,iVBORw0KGgoAAAANSUhEUgAAAM8AAABgCAYAAAC6yyZkAAAAOXRFWHRTb2Z0d2FyZQBNYXRwbG90\n",
              "bGliIHZlcnNpb24zLjcuMSwgaHR0cHM6Ly9tYXRwbG90bGliLm9yZy/bCgiHAAAACXBIWXMAAA9h\n",
              "AAAPYQGoP6dpAAALsUlEQVR4nO3df0wTdx8H8PdZWHVSsaEiMFawRVwMjNoNApIsYGaW9cmQQJS5\n",
              "LHMZDswS96NuaMaqkT3ZjNkMTjOny0I0y6pRSXTT/TEJODe3OSeOaeYGDCyMX4qzMtZ2tP0+fxjv\n",
              "Edsid971F59X0oS232vfd/i21/LtHccYYyCECDYt1AEIiVRUHkJEovIQIhKVhxCRqDyEiETlIUQk\n",
              "Kg8hIlF5CBGJykOISFQeQkSi8kSJrq4urFy5EikpKYiLi0NKSgpMJhP6+/vR0tICjuMQFxcHlUoF\n",
              "tVoNo9GIN998E1evXg119IhF5YkSJpMJKpUKFy5cwN9//43W1lZUVFSA4zh+zPXr1zEyMoIrV65g\n",
              "165dOHfuHHJycnD58uUQJo9cHE0MjXzDw8PQaDT46aefYDQafe5vaWlBcXExxsbGEBMTw9/ucDiQ\n",
              "k5OD/Px87Nu3L5iRowK98kSBhIQEZGdno7q6Gg0NDWhra4PX673rcjNmzEB5eTm++uqrIKSMPlSe\n",
              "KNHc3Iwnn3wSu3btQl5eHjQaDV5//XW4XK4Jl9NqtRgeHg5SyugSc/chJBIkJCSgrq4OdXV1cLlc\n",
              "+PLLL7Fq1SrExcWhqKgo4HI2mw0JCQnBCxpF6JUnCimVSpSWluLxxx/HuXPnAo5zOp1obGzE0qVL\n",
              "g5guelB5osBff/2FDRs2oK2tDS6XCx6PB01NTWhubsZjjz3mM97tduPHH39EeXk5bty4gbq6uhCk\n",
              "jny02xYF7rvvPly9ehXLly9HX18fFAoFUlNTsX79eqxbtw4nT54EAMyePRscx0GhUGDevHl44okn\n",
              "0NDQgMTExBCvQWSij6oJEYl22wgRicpDiEhUHkJEovIQIhKVhxCRqDyEiETlIUSkqCjP9u3bQx2B\n",
              "TEFRUR76MhcJBZqeE6bSNxwLeF/3lv8EMQkJJCpeeQgJBdnK43Q6UVpaiszMTOTk5GDp0qXo6Ojw\n",
              "Gdfd3Q2FQgGDwcBfOjs75YpFiGQEl6etrW1StwFAVVUVfvvtN/z8889YtmwZVq9e7XecSqXC+fPn\n",
              "+Yterxcai5CgE1ye559/flK3TZ8+HSaTiT96S35+Prq7u4U+HSFha9IfGAwNDWFgYAAOhwO//PIL\n",
              "bn2TwW63Y3R09K7Lb9++HcuWLfN73+joKHJzc+HxeFBaWora2looFAq/Y10ul8/38j0ez2RXgxDJ\n",
              "TLo8VqsV9fX16OvrQ0lJCX97fHw8ampqJlz2nXfeQUdHB5qamnzuS05Oxp9//onExERcu3YNFRUV\n",
              "eP/99wM+5rvvvovNmzePuy0/P3+yq0GIZAR/Ge7tt9+GxWKZ9Pj33nsP+/fvx4kTJzB79uy7jrda\n",
              "rfjss8/w+eef+73f3yuPxWKJuj+U0kfV4U/w33ksFgu8Xi8GBgbgdrv527Varc/Ybdu2wWq1Tlic\n",
              "oaEhqNVqxMbGwuVyobGxEYsWLQr4/EqlEkqlctxtgXbxCJGT4PLs3bsXa9euRWxsLKZNu/l5A8dx\n",
              "GBoaGjeut7cX69atg06nQ3FxMYCb//B/+OEHbNy4ESkpKVizZg2++eYbbNy4EQqFAm63G0uWLEFt\n",
              "ba0Eq0aIvATvtun1ehw/fhwLFiyQK5NgZrMZ27ZtC3UMSdFuW/gT/FG1RqMJq+IQEiqCd9tKS0tR\n",
              "X1+PZ555BtOnT+dvnzVrlqTBpED/exM5CS7PrfcjZrMZHMeBMQaO4+hvLWTKEVyeyRx9n5CpgGZV\n",
              "EyKS4FeeadOmjTvb2C2020amGsHlGRkZ4X92OBzYt28fFYdMSYJ322bOnMlfNBoNzGYzDh06JEc2\n",
              "QsLaPb/nuXTpEp1RmUxJgnfb1Go1/57n1ty2HTt2SJuKkAgguDznz5///8IxMUhKSqKJmWRKElye\n",
              "tLQ0/PPPP3yJ1Go17r//fqlzERL2BJfn9OnTKC8vR1JSEgBgcHAQhw8fRkFBgeThCAlngstz69O1\n",
              "wsJCADfL9Nprr+H777+XPFyoBJoTJ/V8uInm3kWqcJlPGIzfoeBP2xwOB18cAFi8eDGcTqdkgQiJ\n",
              "FILLExcXhxMnTvDXm5qaMHPmTElDERIJBO+2ffDBBygrK+M/YfN6vWhsbJQ8GCHhTnB5+vr6cPbs\n",
              "WQwODgIA5s6dizNnzkgejJBwJ3i3zWKxYM6cOcjKykJWVhY0Go2go+kQEi3ueXoOfRGOTFWCy6NS\n",
              "qXD69Gn++rfffguVSiVpKEIigeDybN26FWVlZSgqKkJRURFWrFgR8Mg17e3tWLx4MTIzM5Gbm4uL\n",
              "Fy/6HffJJ59g/vz50Ov1ePHFFzE2NiY0FiFBJ7g8BQUF+PXXX1FTU4OamhpcvHgReXl5fsdWV1ej\n",
              "qqoKv//+O9avX+/3gPBdXV2wWCw4deoUOjo6MDg4iD179gheEUKCTdR7HrVaDZPJBJPJNOGRQM+e\n",
              "PYtnn30WAFBeXo6enh6fc/QcOnQIJSUlSEpKAsdxWLNmDaxWq5hYhASVbKdV7OnpQXJyMmJibj4F\n",
              "x3HQarWw2WzIyMjgx9lsNqSlpfHX09PTYbPZAj4unSWBhIuIOyepv7MkPPTQQzCbzT5jy2772ePx\n",
              "4MyZM8jLy4NCoYDZ7HvGBn/L3W6iZcQI9Dx3ZpU7x724M2ugdQKCm9tfDo/Hg4KC/wbcrmlpaXjl\n",
              "lVcm/yRMJoODg0ylUrGxsTHGGGNer5fNnTuXtbe3jxu3detWVl1dzV8/duwYKywsDPi4TqeT2e32\n",
              "cRen03nXPHa7nQFgdrtd5BoFD2WVh9RZZTv0VGJiIoxGIz799FMAwOHDh5Gamjpulw24+V7o6NGj\n",
              "GBgYAGMMH330EZ5++umAj6tUKjFr1qxxlzvPmkBIMMh63Lbdu3dj9+7dyMzMxJYtW9DQ0AAAWL16\n",
              "NY4ePQoA0Ol02Lx5MwoLC5GRkYE5c+agurpazliESELwWRIi1Y0bNxAfHw+73R6Wx9W+HWWVh9RZ\n",
              "p8wRQ5VKJTZt2hQRu3iUVR5SZ50yrzyESG3KvPIQIjUqDyEiUXkIESmqy+P1erF27Vro9XpkZGRg\n",
              "586dAcemp6djwYIFMBgMMBgMOHDggOz5ImnW+WSytrS0YMaMGfw2NBgMcDgcQc/68ssvIz09HRzH\n",
              "jTtI553uebtK8qfWMLV37162ZMkS5na72fDwMNNqtezChQt+x6alpbHW1tag5isuLmYNDQ2MMcYO\n",
              "HjzIHn30UZ8xf/zxB0tOTmb9/f3M6/Wyp556iu3cuTOoORmbXNbm5maWk5MT3GB+nDx5kvX09Ez4\n",
              "O5Viu0Z1eUwmE7Narfz1N954g9XW1vodG+zyyDV9KZRZw6U8t0z0O5Viu0b1bpvQGdvPPfccsrOz\n",
              "UVlZiStXrsiabaJZ57cTug6hzAoAnZ2dMBqNyM3NxYcffhjUnEJIsV0jblb17QoKCtDe3u73vtbW\n",
              "VkGP9fXXX0Or1WJsbAxvvfUWVq1ahePHj0sRc8owGo3o7e1FfHw8ent7YTKZoNFosGLFilBHk0VE\n",
              "l+e7776b8H6tVovLly/zx9Hu7u6GVqsNOBYAYmNj8eqrryIzM1PasHd48MEH0d/fD7fbjZiYGDDG\n",
              "YLPZfPJptVp0dnby1ydah1BnvX3KS2pqKlauXIlTp06FZXmk2K5Rvdu2fPlyfPzxx/B4PLh27RoO\n",
              "HDiAiooKn3Gjo6O4fv06f91qtWLRokWyZpNr1nkos/b39/NnSx8ZGcEXX3wh+3YUS5LtKvbNWCRw\n",
              "u93spZdeYvPmzWM6nY7V19fz9x05coRVVlYyxhjr7OxkBoOBZWdns6ysLFZSUsK6urpkz3fp0iWW\n",
              "n5/P5s+fzx555BHW1tbGGGOssrKSHTlyhB+3Z88eptPpmE6nYy+88AL7999/Zc8mJuuOHTvYwoUL\n",
              "2cMPP8wWLlzINm3axLxeb9CzVlVVsQceeIApFAqWmJjI9Hq9T1bG7n270tw2QkSK6t02QuRE5SFE\n",
              "JCoPISJReQgRicpDiEhUHkJEovIQIhKVhxCRqDyEiETlIUQkKg8hIv0P847NoeKEDAAAAAAASUVO\n",
              "RK5CYII=\n",
              "\">\n",
              "        \n",
              "      </div>\n",
              "      <script></script>\n",
              "      <script type=\"text/javascript\">\n",
              "        (() => {\n",
              "          const chartElement = document.getElementById(\"chart-d420cbca-e4cc-4ae8-bcba-56a805e63c6a\");\n",
              "          async function getCodeForChartHandler(event) {\n",
              "            const chartCodeResponse =  await google.colab.kernel.invokeFunction(\n",
              "                'getCodeForChart', [\"chart-d420cbca-e4cc-4ae8-bcba-56a805e63c6a\"], {});\n",
              "            const responseJson = chartCodeResponse.data['application/json'];\n",
              "            await google.colab.notebook.addCell(responseJson.code, 'code');\n",
              "          }\n",
              "          chartElement.onclick = getCodeForChartHandler;\n",
              "        })();\n",
              "      </script>\n",
              "      <style>\n",
              "        .colab-quickchart-chart-with-code  {\n",
              "            display: block;\n",
              "            float: left;\n",
              "            border: 1px solid transparent;\n",
              "        }\n",
              "\n",
              "        .colab-quickchart-chart-with-code:hover {\n",
              "            cursor: pointer;\n",
              "            border: 1px solid #aaa;\n",
              "        }\n",
              "      </style>"
            ]
          },
          "metadata": {}
        },
        {
          "output_type": "display_data",
          "data": {
            "text/plain": [
              "import numpy as np\n",
              "from google.colab import autoviz\n",
              "df_92971902169911561 = autoviz.get_registered_df('df_92971902169911561')\n",
              "\n",
              "def histogram(df, colname, num_bins=20, figsize=(2, 1)):\n",
              "  from matplotlib import pyplot as plt\n",
              "  _, ax = plt.subplots(figsize=figsize)\n",
              "  plt.hist(df[colname], bins=num_bins, histtype='stepfilled')\n",
              "  plt.ylabel('count')\n",
              "  plt.title(colname)\n",
              "  ax.spines[['top', 'right',]].set_visible(False)\n",
              "  plt.tight_layout()\n",
              "  return autoviz.MplChart.from_current_mpl_state()\n",
              "\n",
              "chart = histogram(df_92971902169911561, *['Kurtosis'], **{})\n",
              "chart"
            ],
            "text/html": [
              "      <div class=\"colab-quickchart-chart-with-code\" id=\"chart-eeb9a565-46e8-4fbd-a6a6-9dc5ea4ec35a\">\n",
              "        <img src=\"data:image/png;base64,iVBORw0KGgoAAAANSUhEUgAAAMQAAABgCAYAAABCK92TAAAAOXRFWHRTb2Z0d2FyZQBNYXRwbG90\n",
              "bGliIHZlcnNpb24zLjcuMSwgaHR0cHM6Ly9tYXRwbG90bGliLm9yZy/bCgiHAAAACXBIWXMAAA9h\n",
              "AAAPYQGoP6dpAAAKEklEQVR4nO3df0zUdRzH8ecXv4mzu4PLI86NH1cy1KWTSYHYVuZqTVwiWm05\n",
              "yptrsOkCo0hbscqWMmNNa22t2EKHIxuo/7C2QrNNQQUySitEGh5GeDMnRCEGXH84ru8Vp3zhvhxf\n",
              "fD+227iv3/vcm+94+fl87z6f71fx+Xw+hBAARIS7ACEmEwmEEBoSCCE0JBBCaEgghNCQQAihIYEQ\n",
              "QkMCIYSGBEIIDQnEbc7j8WCxWPjll1/CXcqkIIEw0LJly3j99df9z/v7+3nmmWeYM2cOLS0tY2rT\n",
              "7XaTk5MTqhJJSEigt7eXe++9N2Rtmpka7gJuF1euXCErK4uBgQFOnDhBTEyMrtcPDg6iKIpB1Ylh\n",
              "0kNMgLa2NjIyMoiNjeXIkSPExMTgcrkoKysL2E9RFGprawE4evQoiqLw2WefkZyczMyZMykpKWHf\n",
              "vn3s378fi8WCxWLB4/EAUFNTQ2pqKlFRUSQnJ1NaWsrQ0BAA169fZ+PGjTidTqxWKy6Xiw8++ACA\n",
              "9vZ2FEXh/PnzADQ3N/Pwww8THR2N3W4nNTV1zL2ZGUkPYbCmpiY+/vhjnn32WUpLS3X/L79//37q\n",
              "6+uxWCyoqsq5c+cYGBigoqLCv09DQwPZ2dlUVFSwZs0ampubeeKJJ1BVlc2bN7Nnzx7q6+s5c+YM\n",
              "DoeDrq4uOjs7R3y/jRs38vjjj3P48GEAzpw5Q3R09Jh/f7ORHsJgdXV19Pf3s2HDhjENeUpKSpg1\n",
              "axaRkZFMmzZtxH3KyspYuXIlTz/9NKqqkpqaSlFRER999BEA06dPp7e3lx9//JG///4bp9PJ4sWL\n",
              "R2xr+vTpeDweLly4gKqqpKSkEBsbq7tus5JAGGzTpk3k5OTw0EMPceLECd2vv+eee265T0dHB3Pm\n",
              "zAnYlpSU5B9O5eTkkJeXR1FREQ6HgxUrVtDU1DRiW+Xl5SiKwvLly4mLi2Pz5s309vbqrtusJBAG\n",
              "i4iI4MMPP2TTpk08+uijfPnllwBYrVb+/PNP/37BhjARERE3fQ4QHx9PW1tbwLa2tjYSEhIAmDZt\n",
              "Gi+//DInT57k119/Zf78+WRlZY34fomJiXzyySdcuHCBo0eP8tVXX7Fjx47R/8ImJ4GYINu2bWP7\n",
              "9u2sWrWKzz//nPvvv5/KykquXr1KT08PW7duHVU7TqeTtrY2BgcH/ds2bNhATU0N1dXVDA4Ocvr0\n",
              "ad59911yc3MBOHLkCI2NjVy/fp0ZM2ZgsViCDr/Ky8u5ePEiPp8Pm82Gqqqo6u1zqimBmED5+fmU\n",
              "lZXx3HPP4XK5sNlsxMfHk5qaSnZ29qjaGP4jdzgcREdH4/F4SE9Pp6qqinfeeQe73c5TTz1Ffn4+\n",
              "BQUFAHi9XtxuN3fddRcxMTF88803VFVVjdj+119/TVpaGhaLhUWLFpGRkcGWLVtCcwBMQJE11UL8\n",
              "S3oIITQkEEJoSCCE0JBACKEhgRBCw7BAXLt2jdWrV5OcnMyiRYt47LHH/BPIhJisDO0hcnNzaWlp\n",
              "obm5maysLJ5//nkj306IcTMsEDNmzCAzM9M/oW3JkiW0t7eP+vW7d+82qDIhgpuw7+R3794ddP5M\n",
              "f38//f39AdtkSaMIhwkJxPbt2zl//rx/jv1/7dixg7feeitg25IlSyaiNPEfrq01Qf+tvWTlBFYS\n",
              "XLAaQ1Gf4Z8ylZaWcuDAAb744gtmzpw54j6vvvoq3d3dAY+0tDSjSxPifwztId577z0qKyupra29\n",
              "6aqryMhIIiMjA7YFm40phJF09xDff//9qLZdvHiRl156iatXr/LII4+QkpJCenr62KoUYoLo7iHc\n",
              "bjfffvvtLbfFxcUhE2mF2Yw6EF6vl66uLvr6+vjhhx/8f+zd3d0BK7+EMLNRB6KyspJdu3bR2dnJ\n",
              "qlWr/NujoqJ45ZVXDClOiIk26kAUFBRQUFDA22+/TXFxsZE1CRE2us8hiouLGRoaoquri4GBAf/2\n",
              "4QXtQpiZ7kDs2bOHF154gTvuuMN/BQhFUfB6vSEvToiJpjsQ27Zto6Ghgblz5xpRjxBhpft7CIfD\n",
              "IWEQU5buQKxevZpdu3bh9Xrp6enxP4SYCnQPmV577TUACgsLURQFn8+HoigBF84Swqx0B2L4EutC\n",
              "TEWyploIDd09RERExIiXdZchk5gKdAfijz/+8P/c19fH3r17JQxiytAdiDvvvDPg58LCQtLT0ykq\n",
              "KgppYTcT6lVdY21vLCu3zLAibaJMxmMx7nOIn3/+mcuXL4eiFiHCTncPYbfb/ecQw3OZhm/gJ4TZ\n",
              "6Q7Ed9999++LVRWn0ynLPcWUoTsQiYmJ/PXXX/5g2O32oBcPEMJsdAeirq6OtWvX4nQ6Abh06RLV\n",
              "1dVkZGSEvDghJpruQBQWFlJVVcWDDz4I3AjIiy++OKY7bAox2ej+lKmvr88fBoClS5dy7dq1kBYl\n",
              "RLjoDoTFYqG2ttb//PDhwwHfTQhhZrqHTO+//z5r1qzxf7I0NDTEgQMHQl6YEOGgOxCdnZ00NjZy\n",
              "6dIlAGJjYzl16lTICxMiHHQPmYqLi4mJiWHBggUsWLAAh8MhV+EQU8a4p27I4iAxlegOhNVqpa6u\n",
              "zv/8+PHjWK3WkBYlRLjoPofYuXMn2dnZzJs3D4DW1lYOHjw44r6tra2sX7+ey5cvExUVRXl5Offd\n",
              "d9/4KhbCQLoDkZGRwU8//UR9fT1w43uIYJe6z8vLIzc3F7fbTVVVFW63m4aGhnEVLISRxnQOYbfb\n",
              "yczMJDMzM2gYvF4vjY2N5OTkALB27Vo6OjrkTqRiUjPshikdHR3Mnj0bVb3xFoqikJCQgMfjISkp\n",
              "KWDfke4xJyfqIhwUn0E3cWhqamLdunW0tLT4t6WlpVFSUsLy5csD9n3zzTf/d4+5efPmsWLFCiNK\n",
              "M63BwUFOnTpFWlqaTLn/j1sdm8TERAoKCm7ZjmGB8Hq9JCUlceXKFVRVxefzMXv2bI4dOzaqHmKk\n",
              "22zd7np6eoiKiqK7uxubzRbuciaVUB0bwy5Dc/fdd7N48WIqKioAqK6uJi4u7n9hgBt//DabLeAh\n",
              "YRDhYFgPAdDS0oLb7eb333/HZrPx6aefsnDhQqPebsqTHiK4UB0bQ+9COnfuXP/Hs0KYgVy5z0Qi\n",
              "IyN54403ZDg5glAdG0OHTEKYjfQQQmhIIITQkEAIoSGBMInW1laWLl1KcnIyDzzwAGfPng13SZNG\n",
              "fn4+LpcLRVECLqQ3FhIIkxieOXzu3Dm2bNmC2+0Od0mTxpNPPsmxY8dITEwcd1vyKZMJ6JkGcztz\n",
              "uVwcOnSIlJSUMbchPYQJ3GzmsAgtCYQQGhIIE4iPj+e3337z337A5/Ph8XhISEgIc2VTjwTCBPTM\n",
              "HBbjIyfVJiEzh4PLy8ujpqaGrq4uZs2ahdVqHfNSZQmEEBoyZBJCQwIhhIYEQggNCYQQGhIIITQk\n",
              "EEJoSCCE0JBACKEhgRBCQwIhhIYEQgiNfwCrh2ZOBAfhNwAAAABJRU5ErkJggg==\n",
              "\">\n",
              "        \n",
              "      </div>\n",
              "      <script></script>\n",
              "      <script type=\"text/javascript\">\n",
              "        (() => {\n",
              "          const chartElement = document.getElementById(\"chart-eeb9a565-46e8-4fbd-a6a6-9dc5ea4ec35a\");\n",
              "          async function getCodeForChartHandler(event) {\n",
              "            const chartCodeResponse =  await google.colab.kernel.invokeFunction(\n",
              "                'getCodeForChart', [\"chart-eeb9a565-46e8-4fbd-a6a6-9dc5ea4ec35a\"], {});\n",
              "            const responseJson = chartCodeResponse.data['application/json'];\n",
              "            await google.colab.notebook.addCell(responseJson.code, 'code');\n",
              "          }\n",
              "          chartElement.onclick = getCodeForChartHandler;\n",
              "        })();\n",
              "      </script>\n",
              "      <style>\n",
              "        .colab-quickchart-chart-with-code  {\n",
              "            display: block;\n",
              "            float: left;\n",
              "            border: 1px solid transparent;\n",
              "        }\n",
              "\n",
              "        .colab-quickchart-chart-with-code:hover {\n",
              "            cursor: pointer;\n",
              "            border: 1px solid #aaa;\n",
              "        }\n",
              "      </style>"
            ]
          },
          "metadata": {}
        },
        {
          "output_type": "display_data",
          "data": {
            "text/plain": [
              "import numpy as np\n",
              "from google.colab import autoviz\n",
              "df_92971902169911561 = autoviz.get_registered_df('df_92971902169911561')\n",
              "\n",
              "def histogram(df, colname, num_bins=20, figsize=(2, 1)):\n",
              "  from matplotlib import pyplot as plt\n",
              "  _, ax = plt.subplots(figsize=figsize)\n",
              "  plt.hist(df[colname], bins=num_bins, histtype='stepfilled')\n",
              "  plt.ylabel('count')\n",
              "  plt.title(colname)\n",
              "  ax.spines[['top', 'right',]].set_visible(False)\n",
              "  plt.tight_layout()\n",
              "  return autoviz.MplChart.from_current_mpl_state()\n",
              "\n",
              "chart = histogram(df_92971902169911561, *['Skewness'], **{})\n",
              "chart"
            ],
            "text/html": [
              "      <div class=\"colab-quickchart-chart-with-code\" id=\"chart-b33a806e-c4da-4412-9bfd-1c5d38e30f01\">\n",
              "        <img src=\"data:image/png;base64,iVBORw0KGgoAAAANSUhEUgAAAMQAAABgCAYAAABCK92TAAAAOXRFWHRTb2Z0d2FyZQBNYXRwbG90\n",
              "bGliIHZlcnNpb24zLjcuMSwgaHR0cHM6Ly9tYXRwbG90bGliLm9yZy/bCgiHAAAACXBIWXMAAA9h\n",
              "AAAPYQGoP6dpAAAOR0lEQVR4nO3de1BUdf8H8PcKLETsAoKwCi0ECGIghMjFW2GKtb8UijHBLEjM\n",
              "22gUqGVGdpkxxsrBdKy8pGYTOYKkUzqjICCEhRCJNuGAN0BRLgaCsMCyn98fPp1n9wGMhV1A+Lxm\n",
              "doY9+9097znse86e3XMRERGBMQYAGDXYARgbSrgQjGngQjCmgQvBmAYuBGMauBCMaeBCMKaBC8GY\n",
              "Bi4EYxq4EAaUnZ0NkUgElUo12FFYL3Eh+unq1auIiorCuHHjYGFhgXHjxkGhUKC6unqwo7E+4EL0\n",
              "k0KhgEQiwcWLF9Hc3Izi4mIsXLgQIpFosKOxPuBC9EN9fT1KS0uxYsUKjB49GgBgb2+P6OhoyGSy\n",
              "LuPLy8vh6emJdevWQa1Wo6GhAStXroSTkxNsbGygUChw5coVAMCFCxcgFovR3NwMAMjJyYFIJMK2\n",
              "bduE1/P09MTBgwcBADExMYiMjMTq1athY2MDe3t7JCYmas2/tLQUzz//POzt7eHg4IBVq1bh3r17\n",
              "AAAiwvvvvw9HR0dIJBI4Ojri3XffBQC0t7dj1apVkMlkkEgkcHZ2xvbt2/W8NIcIYv3i7e1N/v7+\n",
              "9M0339D58+eps7NTeCwrK4sAUEdHB2VlZZG9vT3t2bOHiIjUajU9/fTTtGjRIqqvryelUknr168n\n",
              "T09Pam9vJyIimUxGx44dIyKiDRs20Pjx40mhUBARUWVlJYlEIqquriYioujoaBKLxZSSkkIqlYry\n",
              "8/PJ2NiYTp8+TUREtbW1ZGtrS1u3biWlUkm1tbX0zDPP0NKlS4mI6OTJk+Tg4EDXr18nIqL6+nrK\n",
              "z88nIqJdu3aRr68v1dbWEhFRdXU1FRUVGXS5DhYuRD/V1dVRYmIiTZkyhUxNTcna2poSEhJIqVQK\n",
              "hfjyyy/Jzs5OeHMSERUVFZGJiQk1NTUJ01QqFZmZmVFubi4REb3yyiu0evVqIiKaPHkyHT58mCws\n",
              "LEipVNLevXtp0qRJwnOjo6MpJCREK5u/vz8lJSUREdHnn39OQUFBWo/n5eWRWCwmlUpF2dnZZGNj\n",
              "Q8ePH6eWlhatcfv37yc3NzfKyckRyjpccSH0SKlUUnp6OkmlUtq0aZNQCJlMRitWrNAa+8MPP5BI\n",
              "JCJLS0utm5mZGX3//fdERHTw4EFyd3enuro6kkql1NbWRv7+/pSRkUGRkZG0du1a4fWio6Pp5Zdf\n",
              "1prHU089RRs3biQiohUrVpCJiYnWvKRSKZmamlJVVRUREe3du5dmzpxJEomEZsyYQSdPniSi+0X9\n",
              "9NNPKSAggKRSKT377LNUWFhosOU4mHgbQo9MTU0RHh6O2bNn4/fffxem5+bmIiMjA2vWrAH953gs\n",
              "mUwGsViM2tpaNDQ0CLfW1lZERUUBAGbPno2ysjLs3r0bM2fOhFgsxty5c3HixAlkZGRgzpw5vc4m\n",
              "k8kwffp0rXk1NjZCqVTCwcEBALBkyRLk5OSgtrYW4eHhmDdvHpqammBkZIS1a9fit99+w40bN+Dp\n",
              "6YmwsDA9LrmhgwvRD3///TfeeecdlJSUoK2tDZ2dncjMzERWVhZmzpwpjHN2dkZeXh7y8vKwePFi\n",
              "dHR0YPr06fDy8sLKlStRU1MjvF5aWhpaWloA3H8Te3t7IykpCaGhoQCA0NBQ7NmzB83NzVrz+Dev\n",
              "vfYaiouLsXPnTrS0tICIUFlZiR9//BEAUFBQgDNnzqC1tRVisRgSiQQikQhGRkY4ffo0CgsL0d7e\n",
              "DjMzM1hYWMDIyEhPS3Fo4UL0g1gsRl1dHRYsWABbW1vY2NggLi4Ob7/9NhISErTG2tvbIycnBzdu\n",
              "3EBYWBja2tpw6tQpmJubIzAwEBKJBD4+PkhPT9f6yjY0NBSNjY1CIYKDg6FWqzFjxgyYmZn1Oqtc\n",
              "LsfZs2dx6tQpuLq6wsrKCnPnzsWFCxcAAM3NzYiPj4ednR2srKywa9cupKenw9zcHDU1NYiJicHo\n",
              "0aMxZswY5OTkIDU1VQ9LcOgREfEx1Yz9g9cQjGngQjCmgQvBmAYuBGMauBCMaTBYIZRKJcLDw+Hu\n",
              "7g4fHx/MmTMH5eXlhpodY3ph0DXEsmXLcOnSJZw/fx5hYWFYunSpIWfHWL8ZrBBmZmZQKBTCj0xB\n",
              "QUG4du1ar5+vuZszYwPFeKBmtG3bth73f2lra0NbW5vWtH+OC2BsIA1IITZv3ozy8nJkZmZ2+/gn\n",
              "n3yCDz/8UGtaUFDQQERjGpzf+bnHx64l/d8AJuneQOQz+LdMn332GY4cOYITJ07A3Ny82zEbNmxA\n",
              "Y2Oj1i0gIMDQ0RjrwqBriK1btyIlJQUZGRmwsrLqcZypqSlMTU21pg3XvSnZ0KbzGqKkpKRX06qq\n",
              "qpCQkICGhgaEhITA19cXgYGBfUvJ2ADReQ0RExOjdfBLT9McHR3BO9Kyh02vC1FTU4Nbt26htbUV\n",
              "Fy5cEN7sjY2NwpkbGHvY9boQKSkpSE5Oxs2bNzF//nxhuqWlJdavX2+QcIwNtF4XIi4uDnFxcfj4\n",
              "44+7nO+HseFC522IxMREqNVq3Lp1S+ucpXK5XK/BGBsMOhfiwIEDWLNmDUxMTDBq1P0vqUQikXCg\n",
              "PGMPM50L8dFHH+HcuXPw8PAwRB7GBpXOv0PY2tpyGdiwpXMhwsPDkZycjJqaGty9e1e4MTYc6PyR\n",
              "aePGjQCA+Ph4iEQiEBFEIhE6Ozv1Ho6xgaZzIdRqtSFyMDYk8DHVjGnQeQ0xatSobq+Owx+Z2HCg\n",
              "cyGampqEv1tbW/Htt99yGdiwoXMhHn30Ua2/4+PjERgYiHXr1uk12IP05cipgXrOg543FI46G0hD\n",
              "/Qi87vR7G6K0tBR1dXX6yMLYoNN5DWFtbS1sQ/yzL9OwvQAfG3F0LsQff/zx3ycbG0Mmk/HhnmzY\n",
              "0LkQTk5OaGlpEYphbW3d48kDGHvY6FyI/Px8RERECNdhvn37NtLS0hAcHKz3cIwNNJ0LER8fj9TU\n",
              "VEybNg3A/YK89dZb+PXXX/UejrGBpvO3TK2trUIZAGDq1KlQKpV6DcXYYNG5EBYWFsjIyBDuZ2Zm\n",
              "av02wdjDTOePTF988QVefPFF4ZsltVqNI0eO6D0YY4NB50LcvHkThYWFuH37NoD7l5stKCjQezDG\n",
              "BoPOH5kSExMxZswYeHl5wcvLC7a2tnwWDjZs9HvXDT44iA0nOhdCIpEgPz9fuP/LL79AIpHoNRRj\n",
              "g0XnbYgtW7bghRdewIQJEwAAZWVlSE9P73ZsWVkZoqOjUVdXB0tLS+zfvx9PPPFE/xIzZkA6FyI4\n",
              "OBh//fUXzp49C+D+7xA9nep++fLlWLZsGWJiYpCamoqYmBicO3euX4EZM6Q+bUNYW1tDoVBAoVD0\n",
              "WIaamhoUFhZi8eLFAICIiAhUVlbylUjZkGawC6ZUVlZi7NixMDa+PwuRSAS5XI6Kigq4ublpje3u\n",
              "GnO8oc4Gg4gMdBGHoqIiLFq0CJcuXRKmBQQEICkpCbNmzdIa+8EHH3S5xtyECRPw3HPPGSIagPuF\n",
              "KygoQEBAwJDafZ1z6e5B2ZycnBAXF9fr1zJYIWpqauDm5oY7d+7A2NgYRISxY8ciLy+vV2uI7i6z\n",
              "pU93796FpaUlGhsbIZVKDTYfXXEu3ekzm8FOQ2NnZwc/Pz989913AIC0tDQ4Ojp2KQNw/80vlUq1\n",
              "boYsA2M9MehFF7/++mvExMRg8+bNkEql2LdvnyFnx1i/GbQQHh4ewtezjD0MRuyZ+0xNTbFp06Yh\n",
              "99GMc+lOn9kMtlHN2MNoxK4hGOsOF4IxDVwIxjSMqEKo1WqsWbMGrq6ucHNzw44dO3oc6+zsDA8P\n",
              "D/j6+sLX1xeHDh3Sa5aysjJMnToV7u7umDJlCv78889ux+3duxfjx4+Hq6srXn/9dXR0dOg1R19y\n",
              "ZWdn45FHHhGWja+vL1pbWw2a64033oCzszNEIpHWyfL+V7+XF40gBw4coFmzZpFKpaL6+nqSy+V0\n",
              "8eLFbsc6OTlRcXGxwbKEhITQvn37iIjo8OHD5O/v32XMlStXaOzYsVRdXU1qtZrmzZtHO3bsMFim\n",
              "3ubKysoiHx8fg+b4Xzk5OVRZWfnA/4s+lteIKoRCoaCUlBTh/rp162jjxo3djjVkIW7fvk0SiYQ6\n",
              "OjqIiEitVpO9vT2VlZVpjduyZQstX75cuP/zzz/TtGnTDJJJl1yDUYh/POj/oo/lNaI+MlVUVMDJ\n",
              "yUm47+zsjIqKih7Hv/rqq/D29kZsbCxqa2v1luNBewL3J+9A5QKAy5cvw8/PD1OmTMHOnTsNlkkX\n",
              "+lheBv2leqAFBwejrKys28eKi4t1eq0zZ85ALpejo6MD7733HqKjo3H8+HF9xHzo+fn5oaqqCpaW\n",
              "lqiqqoJCoYCtrS1eeumlwY7Wb8OqEP+2m4hcLsf169eF89Beu3YNcrm8x7EAYGJigjfffBPu7u56\n",
              "y/nYY4+huroaKpVK2BO4oqKiSxa5XI7Lly8L9x+UdyBzae5R6ujoiKioKOTm5g56IfSxvEbUR6YF\n",
              "CxZg9+7d6OzsxJ07d3Do0CEsXLiwy7h79+6hoaFBuJ+SkoInn3xSbzl6uydwREQEjh07hlu3boGI\n",
              "8NVXXyEyMlJvOfqaq7q6WrgabVNTE3766Se9Lp++0svy6uvGzcNIpVLRqlWr6PHHHycXFxdKTk4W\n",
              "Hjt69CjFxsYSEdHly5fJ19eXvL29ycvLi+bPn09Xr17Va5bS0lIKCgqi8ePH0+TJk6mkpISIiGJj\n",
              "Y+no0aPCuF27dpGLiwu5uLjQkiVLqL29Xa85+pJr+/btNHHiRJo0aRJNnDiRNm3aRGq12qC5li1b\n",
              "Rg4ODmRkZER2dnbk6uraJRdR/5cX78vEmIYR9ZGJsX/DhWBMAxeCMQ1cCMY0cCEY08CFYEwDF4Ix\n",
              "DVwIxjRwIRjTwIVgTAMXgjEN/w9X/rtiX8i8aQAAAABJRU5ErkJggg==\n",
              "\">\n",
              "        \n",
              "      </div>\n",
              "      <script></script>\n",
              "      <script type=\"text/javascript\">\n",
              "        (() => {\n",
              "          const chartElement = document.getElementById(\"chart-b33a806e-c4da-4412-9bfd-1c5d38e30f01\");\n",
              "          async function getCodeForChartHandler(event) {\n",
              "            const chartCodeResponse =  await google.colab.kernel.invokeFunction(\n",
              "                'getCodeForChart', [\"chart-b33a806e-c4da-4412-9bfd-1c5d38e30f01\"], {});\n",
              "            const responseJson = chartCodeResponse.data['application/json'];\n",
              "            await google.colab.notebook.addCell(responseJson.code, 'code');\n",
              "          }\n",
              "          chartElement.onclick = getCodeForChartHandler;\n",
              "        })();\n",
              "      </script>\n",
              "      <style>\n",
              "        .colab-quickchart-chart-with-code  {\n",
              "            display: block;\n",
              "            float: left;\n",
              "            border: 1px solid transparent;\n",
              "        }\n",
              "\n",
              "        .colab-quickchart-chart-with-code:hover {\n",
              "            cursor: pointer;\n",
              "            border: 1px solid #aaa;\n",
              "        }\n",
              "      </style>"
            ]
          },
          "metadata": {}
        },
        {
          "output_type": "display_data",
          "data": {
            "text/plain": [
              "<google.colab._quickchart_helpers.SectionTitle at 0x793c3547afe0>"
            ],
            "text/html": [
              "<h4 class=\"colab-quickchart-section-title\">2-d distributions</h4>\n",
              "<style>\n",
              "  .colab-quickchart-section-title {\n",
              "      clear: both;\n",
              "  }\n",
              "</style>"
            ]
          },
          "metadata": {}
        },
        {
          "output_type": "display_data",
          "data": {
            "text/plain": [
              "import numpy as np\n",
              "from google.colab import autoviz\n",
              "df_92971902169911561 = autoviz.get_registered_df('df_92971902169911561')\n",
              "\n",
              "def scatter_plots(df, colname_pairs, scatter_plot_size=2.5, size=8, alpha=.6):\n",
              "  from matplotlib import pyplot as plt\n",
              "  plt.figure(figsize=(len(colname_pairs) * scatter_plot_size, scatter_plot_size))\n",
              "  for plot_i, (x_colname, y_colname) in enumerate(colname_pairs, start=1):\n",
              "    ax = plt.subplot(1, len(colname_pairs), plot_i)\n",
              "    ax.scatter(df[x_colname], df[y_colname], s=size, alpha=alpha)\n",
              "    plt.xlabel(x_colname)\n",
              "    plt.ylabel(y_colname)\n",
              "    ax.spines[['top', 'right',]].set_visible(False)\n",
              "  plt.tight_layout()\n",
              "  return autoviz.MplChart.from_current_mpl_state()\n",
              "\n",
              "chart = scatter_plots(df_92971902169911561, *[[['Mean', 'SD'], ['SD', 'Kurtosis'], ['Kurtosis', 'Skewness'], ['Skewness', 'Mean_DM_SNR']]], **{})\n",
              "chart"
            ],
            "text/html": [
              "      <div class=\"colab-quickchart-chart-with-code\" id=\"chart-4a623d60-5e94-434e-a5aa-ae7b323b1dfa\">\n",
              "        <img src=\"data:image/png;base64,iVBORw0KGgoAAAANSUhEUgAAA+MAAAD2CAYAAAC9d1ZlAAAAOXRFWHRTb2Z0d2FyZQBNYXRwbG90\n",
              "bGliIHZlcnNpb24zLjcuMSwgaHR0cHM6Ly9tYXRwbG90bGliLm9yZy/bCgiHAAAACXBIWXMAAA9h\n",
              "AAAPYQGoP6dpAABPRElEQVR4nO3de1xUZf4H8M8w0IByUdNRCwbippugAxuklimmu2aGpBG2aeJl\n",
              "wFxaTc201NXWFWtNa9dMRLLNC1FSRnb5mamJSSopmZoi18FCQE0uFiMznN8f/JifI7cBhjlz+bxf\n",
              "r/N6Mec88/A9A88581zO80gEQRBARERERERERGbjIHYARERERERERPaGlXEiIiIiIiIiM2NlnIiI\n",
              "iIiIiMjMWBknIiIiIiIiMjNWxomIiIiIiIjMjJVxIiIiIiIiIjNjZZyIiIiIiIjIzFgZJyIiIiIi\n",
              "IjIzVsaJiIiIiIiIzIyVcQBvvvmm2CEQURdg2SayXSzfRLaJZZvsCSvjAIqLi8UOgYi6AMs2ke1i\n",
              "+SayTSzbZE9YGSciIiIiIiIyM1bGiYiIiIiIiMyMlXEiIiIiIiIiMxO9Mv63v/0NPj4+kEgkyMnJ\n",
              "aTFdSkoKAgIC4OfnB5VKhbq6OqOOEZHlMUW5JyLx8N5NZJtYtonMS/TK+BNPPIEjR47A29u7xTSF\n",
              "hYVYvnw5MjMzkZeXh7KyMmzZsqXNY0TtUaerx7UbN1Gnqxc7FJvX2XJvSvy7E7Uf791EhmzlXsKy\n",
              "TaZiK2Wiq4leGX/ooYfg6enZaprdu3cjMjIS/fr1g0QiwZw5c5CamtrmMSJj5ZXXYNnHZ7Dowx+w\n",
              "bM8Z5JXXiB2STetsuTcV/t2JOob3bqL/Z0v3EpZtMgVbKhNdTfTKuDHUarVBC52Pjw/UanWbx5qj\n",
              "0WhQVVVlsOl0uq4Lnixena4eyYcLkF9RA2cnKfLLa5CcWcCWPJF1ddnm352oa/HeTfbAHu8lLNvU\n",
              "GnssE51hFZVxU0pMTISHh4fBdvz4cbHDIhFV12pRUaOB3N0ZHi5OkLs7o6Jag+pardihUTu0t2zz\n",
              "705kPXjvJkvFe0nnsGzbHpaJ9rGKyrhCoUBxcbH+dVFRERQKRZvHmrN06VJUVlYabOHh4V0XPFk8\n",
              "N2dH9HGTobyqFpW/16G8qhZ93GRwc3YUOzS71tVlm393oq7FezfZA3u8l7BsU2vssUx0hlVUxidP\n",
              "noyMjAxcvnwZgiBg8+bNmDJlSpvHmiOTyeDu7m6wSaVSc50KWSAnqQNUI3zhJ3dFbZ0OfnJXqEb4\n",
              "wklqFcXDZnV12XaSOmDGcB949nTBbze1/LsTmRjv3WQPWvsOYasTWLFsU2v4vbqdBJHFxcUJd999\n",
              "tyCVSgW5XC74+fkJgiAIs2bNEj755BN9ui1btgi+vr6Cr6+vMHPmTOHmzZtGHTPG888/b5qTIat2\n",
              "U6sTrtZohJtandih2DxTlHtjtFa2L5ZVC4s//EGIfeeYMC/1pPBTaWXHTobIDvHeTWTo9u8QjfeY\n",
              "GduOC4t3/yBcLKsWOULjsGyTqfB7tXEkgiAIYjcIiG3BggVYv3692GEQkYm1VLbrdPVY9vEZ5FfU\n",
              "QO7ujPKqWvjJXbE6Kogtt0RWgvduslS8x3QOyzbZEw7eJyK7c/vkIgD0k4v06n6HyNEREZE14z2G\n",
              "iIzF5jkisjucXISIiLoK7zFEZCxWxonI7nByESIi6iq8xxCRsdhER0R2yf//nt+rrtXCzdmRX5KI\n",
              "iMhkeI8hImOwMk5EdstJ6sDn94iIqEvwHkNEbWEzHREREREREZGZsTJOREREREREZGasjBMRERER\n",
              "ERGZGSvjRERERERERGbGyjgRERERERGRmbEyTkRERERERGRmrIwTERERERERmRkr40REnVSnq8e1\n",
              "GzdRp6sXOxQiIiIishKOYgdARGTN8sprkHy4ABU1GvRxk0E1whf+clexwyIiIiIiC8eecSKiDqrT\n",
              "1SP5cAHyK2rg7CRFfnkNkjML2ENOREREdo2jBo3DnnEiog6qrtWiokYDubszPFycAAAV1RpU12rR\n",
              "q/sdIkdHREREZH4cNWg89owTEXWQm7Mj+rjJUF5Vi8rf61BeVYs+bjK4ObOdk2zbxYsXMXz4cAQG\n",
              "BiIsLAxnz55tkmbbtm1QKpX6rXfv3pg0aRIAoKioCFKp1OB4fn6+uU+DiIhMjKMG24ffGImIOshJ\n",
              "6gDVCF8kZxagoloDP7krVCN84SRlOyfZtvj4eMTFxSE2Nha7d+9GbGwsTpw4YZBmxowZmDFjhv51\n",
              "UFAQnn76af1rNzc35OTkmCtkIiIyA44abB9+YyQi6gR/uStWRwVhXfQQrI4K4jAssnnl5eXIzs7G\n",
              "1KlTAQCTJ09GSUkJ8vLyWnzPsWPHUF5ejsjISHOFSUQdwFEv1FkcNdg+/FSIiDrJSerA1l6yGyUl\n",
              "Jejfvz8cHRu+QkgkEigUCqjVavj7+zf7npSUFEybNg1OTk76fTdu3EBYWBh0Oh2ioqLw8ssvQyqV\n",
              "Nvt+jUYDjUZjsE+n05nojIioEUe9UGdx1GD7WMSnwlY4IiIi23Tjxg28//77mDVrln5f//798fPP\n",
              "P+PEiRPYv38/MjMz8frrr7eYR2JiIjw8PAy248ePmyN8IrvBUS9kKhw1aDyLqIw3tsLl5ubixRdf\n",
              "RGxsbJM0M2bMQE5Ojn7r169fs61wjZufn58Zz4CIiMg+eHl5obS0FFqtFgAgCALUajUUCkWz6T/8\n",
              "8EMMGjQI9957r36fTCaDXC4HAPTq1QszZ85EZmZmi79z6dKlqKysNNjCw8NNeFZE/89el2RqbdRL\n",
              "S1ob9RIaGopXXnml1VEsGo0GVVVVBhtHvdiGxlGD7BFvneifDlvhiIiIrIdcLkdoaCh27NgBAEhP\n",
              "T4enp2erQ9Rv7RUHGu79dXV1ABq+jH/00UcICQlp8XfKZDK4u7sbbC0NaSfqjLzyGiz7+AwWffgD\n",
              "lu05g7zyGrFDslgc9ULUeaJXxs3dCscWOCIios5JSkpCUlISAgMDsXbtWmzbtg0AMHv2bGRkZOjT\n",
              "XbhwATk5OYiJiTF4/5EjRxASEoIhQ4YgNDQU/fr1w8svv2zWcyC6nb0vycRRL0TmZ3UTuDW2wn33\n",
              "3Xf6fY2tcHK5HNeuXUNMTAxef/11LF68uMn7ExMTsWrVKoN9Q4cO7fK4iYiIbMWAAQOQlZXVZP/W\n",
              "rVubpKuurm6SbtKkSfp5X4gshb0vyXTrqJfY2NgOj3rp2bMnnJycjB71IpPJDPZx1AvZE9F7xs3d\n",
              "CscWOCIiIiK6HZdk4qgXInMT/epi7lY4tsARERER0e24JBNHvRCZm+iVcaChFS42NhZr1qyBu7u7\n",
              "QStcZGSkfqK2xla4zz//3OD9R44cwYoVKyCVSqHVajF69Gi2whERERFRuzQuyVRdq4Wbs6NdVcSJ\n",
              "yPwsojLOVjgiIiIisgSNSzIREXU1NvcRERERERERmRkr40RERERERERmxso4ERERERERkZmxMk5E\n",
              "RERERERkZqyMExEREREREZkZK+NEREREREREZsbKOBEREREREZGZsTJOREREREREZGasjBMRERER\n",
              "ERGZGSvjRCSKixcvYvjw4QgMDERYWBjOnj3bJM2hQ4fg4uICpVKp337//XcRoiUiIiIiMi1HsQMg\n",
              "IvsUHx+PuLg4xMbGYvfu3YiNjcWJEyeapBswYABycnLMHyARERERURdizzgRmV15eTmys7MxdepU\n",
              "AMDkyZNRUlKCvLw8kSMjIiIiIjIPVsaJyOxKSkrQv39/ODo2DM6RSCRQKBRQq9VN0ubn5yM0NBRh\n",
              "YWHYtGlTi3lqNBpUVVUZbDqdrsvOgYiIiIioM1gZJyKLFRoaikuXLuHkyZP4+OOPsXnzZnzwwQfN\n",
              "pk1MTISHh4fBdvz4cTNHTGQfTDHnQ0pKCgICAuDn5weVSoW6ujpzngIREZHoWBknIrPz8vJCaWkp\n",
              "tFotAEAQBKjVaigUCoN07u7u8PDwAAB4enriqaeeQmZmZrN5Ll26FJWVlQZbeHh4154IkZ1qnPMh\n",
              "NzcXL774ImJjY5tN1zjnQ+Pm4uICACgsLMTy5cuRmZmJvLw8lJWVYcuWLWY8AyIiIvGxMk5kBep0\n",
              "9bh24ybqdPVih2IScrkcoaGh2LFjBwAgPT0dnp6e8Pf3N0hXWlqK+vqGc66ursbevXsREhLSbJ4y\n",
              "mQzu7u4Gm1Qq7doTIbJDppjzYffu3YiMjES/fv0gkUgwZ84cpKamdlXIREREFomVcSILl1deg2Uf\n",
              "n8GiD3/Asj1nkFdeI3ZIJpGUlISkpCQEBgZi7dq12LZtGwBg9uzZyMjIANBQSQ8ODsaQIUMwdOhQ\n",
              "jB07FjNmzBAzbItlaw02ZLlMMeeDWq2Gt7e3/rWPj0+z72/EOSGIjFNWVoZ58+aJHQYRGYmVcSIL\n",
              "VqerR/LhAuRX1MDZSYr88hokZxbYRIVrwIAByMrKQm5uLrKzsxEcHAwA2Lp1KyIjIwEACQkJOHv2\n",
              "LH744QecPXsWK1euhEQiETNsi2SrDTZk3doz50NbOCcEkaGKigokJCTgsccew86dO3Hz5k0sWbIE\n",
              "AQEBqKnp+D2A80EQmRcr40QWrLpWi4oaDeTuzvBwcYLc3RkV1RpU12rFDo0sRFsNNuwxJ1MzxZwP\n",
              "CoUCxcXF+rRFRUVN3n8rzglBZEilUqGiogKPPvooUlNTMXr0aOzfvx+HDx9GSkpKh/PlfBBE5mUR\n",
              "lXG2whE1z83ZEX3cZCivqkXl73Uor6pFHzcZ3JwdxQ6NLERrDTbsMaeuYIo5HyZPnoyMjAxcvnwZ\n",
              "giBg8+bNmDJlSou/k3NCEBnKzc1FWloa5syZg/T0dJw+fRr79++HUqnscJ6cD4LI/CyiMs5WOKLm\n",
              "OUkdoBrhCz+5K2rrdPCTu0I1whdOUosoumQBWmqwcXZysNlHHEh8nZ3zwdfXF6tWrcIDDzwAf39/\n",
              "9OnTB/Hx8aKdD5G1cXZ21v8sk8ng7++PHj16dCpPzgdBZH6id681tsLt27cPQEMrXEJCAvLy8pq0\n",
              "srfk1lY4AJgzZw7WrFmDv/71r10WN5G5+MtdsToqCNW1Wrg5O7IiTgYaG2ySMwtQUa3RN9jU1tUb\n",
              "9JgD0PeY9+p+h8hRk7VrnPPhdlu3btX/nJCQgISEhBbzUKlUUKlUXRIfka27dOkSFixY0OLr9evX\n",
              "d9nvbpwPwsPDA5cuXcL48ePRu3dvPPnkk+3OKzExEatWrTLYN3ToUFOFSmTxRK+Mt9YKd3tlvLEV\n",
              "TiqVYsaMGZg7dy6A9rXCaTQaaDQag31sgSNL5yR1YAWKWtRcg02drh593GTI/7+h6eVVtfCTu/IR\n",
              "ByKyCnW6ejZCt+L2DidTdEDdOh+Eo6Njq/NBNLp1Pognn3wSCoUC+fn5+uPGzAdxayMCACxfvrzT\n",
              "50JkLazmW5mpWuHYAkdEtuj2BpuWesz5pZaILFmdrh6nL1Xi/eNqXL1xE33cZFCN8IW/3FXs0CzK\n",
              "3//+d5Pneet8ELGxsa3OB9G3b184ODjo54OYNWsWgIYRrg8++CBWrlyJvn37GjUfhEwmM9jH+SDI\n",
              "noheGTd3Kxxb4IjIXvARByKyJnnlNUg6lI8j+VdQp6vHvf3d9fNdrI4K4jXsFocPH271+EMPPdSh\n",
              "fJOSkhAbG4s1a9bA3d3dYD6IyMhIREZGIj09HW+//TYcHR2h1WoRHR3d7HwQADBq1CjOB0HUCtEr\n",
              "4+ZuhWMLHBHZEz7iQETWoHGZxtzyamjrBWjrBVy6/jsC+7pxvotmLFy4sMk+iUSCX375BaWlpR1+\n",
              "BJPzQRCZl+iVcYCtcERERET2rHGZxv49XFCt0eLajZuorq1DaeXvGNjPnfNd3ObEiRMGr69du4bV\n",
              "q1djx44dTR7HJCLLZRFXNrbCEREREdmvxmUa88tr4NmjG6p+q4OjgwMC5W6c76IVtbW12LBhA958\n",
              "80385S9/wU8//YQ777xT7LCIbEZzk0macoJJi6iMExEREZH9un3SyYiBckwJV2Cwpwcr4s2or6/H\n",
              "1q1b8Y9//AOjR4/GsWPHDFYWIqLOyyuvQfLhAlTUaPSTSQJosq8zE0yyMk5ERGQnKisrUVJSgqCg\n",
              "ILFDIWqCk04aLygoCBqNBmvWrMGQIUNQWVmJ06dP648PHjxYxOiIzM/UyyE2zmORX1EDubsz8str\n",
              "kPRNw4ThhVdu6Pd1doJJVsaJiIhs2Lhx4/D+++/D0dERQ4YMAQA888wzeOWVV0SOjKgpTjppnN9+\n",
              "+w0SiQQrVqxockwikaCgoECEqIjE0VwPdmeXQ2ycx0Lu7gwPFycAQGllLSSAwb7OTjDJJkciIiIb\n",
              "VlZWhh49euDzzz/HxIkTcfHiRXz88cdih0VEnVBUVITCwsJmN1bEyZ7c2oPt7CTV91bX6eo7lW/j\n",
              "PBblVbWo/L0O5VW16O/hjH4ezgb7+rjJOjXBJCvjRERENqyurg5Aw7rEY8eOhZOTExwdOTCOyJZc\n",
              "v34de/bswY8//ih2KERmdXsPttzdWd9b3RmN81j4yV1RW6eDn9wV8SP9ED/Sz2BfZyeY5N2YiIjI\n",
              "hgUFBeGRRx7BTz/9hNdeew2//fab2CERUSdNmzYNCxcuhFKpxPXr1zFkyBB0794dV65cwauvvqpf\n",
              "/pfI1t26EgMAlFfVwk/uapLlEFuax8KUc1uwZ5yIiMiGvfvuu4iPj8fBgwfRrVs3/Prrr0hMTBQ7\n",
              "LCLqhO+//x5KpRIAsHPnTvj7++PcuXPIzs7Gv//9b3GDIzKj5nqwTbkcYuM8Frfm19y+jmLPOBER\n",
              "kQ2rqKjA+PHjcccdd+Dbb7/FqVOnMH36dLHDIqJOcHZ21v+cmZmJxx9/HACgUCjEColINNa8EoP1\n",
              "REpEovn0009RVVUFAFi3bh2eeOIJnDlzRuSoiMgYEydORH19PX7++WdMmTIF3377LWbOnCl2WETU\n",
              "CTqdDpWVldBqtcjMzMSIESP0x2pra0WMjEgcpuytNifripaIRPHyyy/D3d0dP/zwA3bs2IGxY8fi\n",
              "2WefFTssIjKSs7MzPvvsM8THxyM1NRW5ublih0REnfDss88iNDQUYWFh8PX11S9b+OOPP6Jv374i\n",
              "R0dExmJlnIja1Djz8r59+xAXF4f4+HjcuHFD5KiIyBgajQYajQZfffUVIiIiTJLnxYsXMXz4cAQG\n",
              "BiIsLAxnz55tkubAgQMIDw/Hvffei0GDBmHx4sWor29YaqaoqAhSqRRKpVK/5efnmyQ2InswZ84c\n",
              "fPDBB1i5ciX27dun33/HHXdgw4YNIkZGRO3ByjgRtUmn0+HYsWNIT0/Xf5lvXC6JiCzbU089hX79\n",
              "+kGtVmP48OEoLS1Ft27dOpVnfHw84uLikJubixdffBGxsbFN0vTs2RPvv/8+zp07h++//x5Hjx7F\n",
              "e++9pz/u5uaGnJwc/ebn59epmIjszR//+EdMnDgRLi4u+n0DBgxASEiI/vXDDz8sRmhEZCRWxomo\n",
              "TatXr0Z8fDweeOAB/OEPf8CFCxcQGBgodlhEZIRly5ahsLAQWVlZkEgkcHNzw+7duzucX3l5ObKz\n",
              "szF16lQAwOTJk1FSUoK8vDyDdCEhIfD19QXQMExeqVSiqKiow7+XiNrv2rVrYodARK3gbOpE1KbH\n",
              "HnsMjz32mP71gAEDkJ6eLmJERGQsrVaLlJQU5OfnY9OmTSgrK0NxcTHuvvvuDuVXUlKC/v376x9f\n",
              "kUgkUCgUUKvV8Pf3b/Y9ly9fxu7du7F37179vhs3biAsLAw6nQ5RUVF4+eWXIZVKm31/41D7W+l0\n",
              "ug7FT2RPJBKJ2CEQUStYGSeiFqWmpuKpp55qcc3Sv/3tb2aOiIjaKyEhATqdDkeOHAEA3HnnnYiJ\n",
              "iUF2drZZfn9VVRUee+wxLF68GPfddx8AoH///vj5558hl8tx7do1xMTE4PXXX8fixYubzSMxMRGr\n",
              "Vq0y2Dd06NAuj52IiKgrcZg6EbXo/PnzAIBTp0412XJycsQNjoiM8t133yE5OVm/LnGPHj06NeeD\n",
              "l5cXSktLodVqAQCCIECtVje7vnF1dTXGjRuHiRMnYsGCBfr9MpkMcrkcANCrVy/MnDkTmZmZLf7O\n",
              "pUuXorKy0mALDw/v8DkQERFZAvaME1GLGnuitm3bJnIkRNRRjZXwRjqdTj+reUfI5XKEhoZix44d\n",
              "iI2NRXp6Ojw9PZsMUa+pqcG4ceMwbtw4LFu2zOBYeXk5evbsCScnJ2g0Gnz00UcGk07dTiaTQSaT\n",
              "GexraUg7Ef0/Ly+vdqW/ePEipk+fjitXrsDDwwPvvvsuBg0aZJDmwIEDWLJkCWpqaiCRSPDoo49i\n",
              "7dq1cHBwQFFREfz8/BAcHKxPn56ezgkaiVrAnnEialNSUhIqKysBNAx5ve+++3D48GGRoyIiYwwe\n",
              "PBg7duxAfX098vLyMGfOHIwaNapTeSYlJSEpKQmBgYFYu3atvsFu9uzZyMjIAAC8+eabOH78OD76\n",
              "6CP98mX//Oc/AQBHjhxBSEgIhgwZgtDQUPTr1w8vv/xyp2IisienT59udWv0ySeftCtfrpRAZF7s\n",
              "GSeiNr311luIj4/Ht99+ix9//BH//Oc/sWjRIhw/flzs0IioDevXr8fChQtx+fJlPPDAA4iKisLa\n",
              "tWs7leeAAQOQlZXVZP/WrVv1P7/88sstVrAnTZqESZMmdSoGInumVCrh6ekJR0dHCIJgcEwikaCg\n",
              "oKDdeTaulNC4bvnkyZORkJCAvLw8g5Evt45i4UoJRJ3DnnEialPjrMkHDhzAM888gz//+c/650WJ\n",
              "yLK5uroiKSkJZWVlKCsrQ1JSErp37y52WETUCdOmTYNMJkNMTAz27duHwsJC/daRijjQ+koJLWlc\n",
              "KWHChAn6fY0rJYSGhuKVV15pdeUDjUaDqqoqg40rJZA9sYjK+MWLFzF8+HAEBgYiLCwMZ8+ebZLm\n",
              "wIEDCA8Px7333otBgwZh8eLF+mfeioqKIJVK9cPglEol8vPzzX0aRDbLwcEBaWlpSEtLw5gxYwAA\n",
              "N2/eFDkqIjLWsWPHsGvXLrz33nv6jYis13//+1+cPHkSvr6+mD59Oh566CG8++67+O2338wWQ2sr\n",
              "JZw4cQL79+9HZmYmXn/99RbzSExMhIeHh8HGUXdkT9pVGd+zZw/Cw8Ph6uoKV1dXDB06FHv27Ol0\n",
              "EHw+hciyvfXWW0hNTYVKpYK3tzdyc3MxevRoscMiIiM8++yzeOqpp7B79258+umn+PTTTw3W+yYi\n",
              "6+Tm5gaVSoWjR49i2bJlWLx4MTZu3Njh/LhSApH5Gf3M+Oeff45nn30WK1euxP333w9BEHD8+HHM\n",
              "nTsXMpkMjzzySIcC4PMpRJbv/vvvx549eyAIAgRBQGBgYItrjxORZdm/fz/OnTvXZFZ1IrJuWq0W\n",
              "n3zyCVJSUlBSUoJFixZhxowZHc6PKyUQmZ/RPeNvvvkm3n//fcTHx0OpVCIkJATx8fFIS0vDhg0b\n",
              "OhyAuZ9P4bMpRO1XWlqK8ePHo1u3bujWrRsmTJiA0tJSscMiIiP079+/yZddIrJuzz//PAYOHIh9\n",
              "+/ZhxYoV+PHHH7F48WL06dOnU/lypQQi8zK6Z7ywsBAjR45ssn/EiBEoLi42aVCtae35FLlcjmvX\n",
              "riEmJgavv/46Fi9e3OT9iYmJ+rWTGw0dOtQssRNZq7i4ODz44IPYtWsXAGDz5s2Ii4vDp59+KnJk\n",
              "RNSW+++/H0888QRiYmIMescjIyNFjIqIOuPNN99EQEAAjh8/jhMnTjQ5fvLkyQ7ly5USiMzL6Mq4\n",
              "q6tri8c6Myvrrc+nNC7PYIrnU3bt2tVsZXzp0qUG7wWA5cuXdzh+IntQUlJiUPFesmQJlEqleAER\n",
              "kdGys7MBAG+//bZ+n0QiYWWcyIodPHhQ7BCIyASMroxfv34dn376aZO1DAGgsrKywwGY+/kUPptC\n",
              "1H6CIODy5cvo168fgIZHRZq7FhCR5eGXdiLb09xoVSKyPkZXxhUKBdavX2+wTyKRQBCEZnux2yMp\n",
              "KQmxsbFYs2YN3N3dDZ5PiYyMRGRkpP75lBs3buCjjz4CAERHR+Pll1/GkSNHsGLFCkilUmi1Wowe\n",
              "PZrPpxCZ0KJFixASEqKfqPHLL7/Ev/71L5GjIiJjzJ49G2PGjMHo0aP1o8iIyPrt2bMHa9aswblz\n",
              "5wAAQUFBWLJkCaKiosQNjIiMZnRl/ODBg5BIJPrX+fn5yMjIgL+/Px577LFOBcHnU4gs27Rp0xAa\n",
              "GqrvYVu4cCEGDRrUqTwvXryI6dOn48qVK/Dw8MC7777bbJ4pKSlYu3Yt6uvrMXr0aGzatAlOTk6d\n",
              "+t1E9mTkyJH4/PPPsWjRIvTq1QtjxozBmDFjMH78eLFDI6IO6qpVjojIvIyeTX3s2LHIyckBAPzy\n",
              "yy8ICwvDvn37sHjxYrz66qtdFR8RWYDVq1dj0KBBSEhIQEJCAgYNGoTVq1d3Ks/4+HjExcUhNzcX\n",
              "L774ImJjY5ukKSwsxPLly5GZmYm8vDyUlZVhy5Ytnfq9RPZm2rRpeO+991BSUoIXXngBH3/8cacb\n",
              "0YlIXF21yhERmZfRlfGff/5ZP2HTrl27MHLkSHzxxRc4evQodu7c2VXxEZEFaHw0pK19xiovL0d2\n",
              "djamTp0KAJg8eTJKSkqQl5dnkG737t2IjIxEv379IJFIMGfOHKSmpnb49xLZo61bt2LKlCkYMGAA\n",
              "9uzZgxdeeAHnz58XOywi6gRLWeWIiDrH6GHqLi4u+p+PHj2qH97Ws2dP/RrhRGRb/ud//gdffvkl\n",
              "fv75Z4NVCDozaSPQMDt7//799dcOiUQChUIBtVptMHmjWq2Gt7e3/rWPjw/UanWzeWo0Gmg0GoN9\n",
              "Op2uU3ES2YK5c+ciPDwc69evx8MPP2xwPyci69RVqxwRkXkZXYt2cHDApUuX0KNHD3zzzTdYu3at\n",
              "/thvv/3WJcERkbicnZ3Ro0cPODg4wMPDQ7/fy8vL4pYETExMxKpVqwz2DR06VKRoiCzH1atXcfDg\n",
              "Qezbtw/Lly9Hjx49MGbMGE50SmTFumqVIyIyL6Mr4y+99BJCQkLg6OiIiIgIBAYGAmjoJffx8emq\n",
              "+IhIRCNHjsSDDz6IHj16YN68eSbL18vLC6WlpdBqtXB0dIQgCFCr1U1WZlAoFMjPz9e/LioqanH1\n",
              "hqVLlxr03gOwuAYDIjG4ubnhkUcegZubG9zc3LBr1y6sX7+elXEiK9bcKke3HiMi62B0ZXzSpEkY\n",
              "Pnw4ysrKMHjwYP1+Hx8fTqhEZMOkUim2b99u0sq4XC5HaGgoduzYgdjYWKSnp8PT09NgiDrQ8Cz5\n",
              "gw8+iJUrV6Jv377YvHkzpkyZ0myeMpkMMpmsSexE9u7Pf/4zvv/+eyiVSowZMwYffPAB7rvvPrHD\n",
              "IqJOOHTokFHpCgsLcc8993RtMETUYe162Ltfv37o16+fwb677rrLpAERkeUZM2YMdu7ciaefftpk\n",
              "eSYlJSE2NhZr1qyBu7s7tm3bBqBhTeTIyEhERkbC19cXq1atwgMPPAAAGDVqFOLj400WA5E9WLRo\n",
              "EUaMGAFnZ2exQyEiM5s8eTJOnjwpdhhE1AKjZ1MnIvuVlJSEadOmwdnZGb169ULPnj3Rq1evTuU5\n",
              "YMAAZGVlITc3F9nZ2QgODgbQMPNzZGSkPp1KpUJ+fj7y8/ORkpLCNcaJ2mns2LH47LPPsGbNGgAN\n",
              "q6P8+OOPncrz4sWLGD58OAIDAxEWFoazZ882my4lJQUBAQHw8/ODSqVCXV2dUceIyDSae6aciCwH\n",
              "K+NE1KacnBwUFhbiwoULOHXqFHJycnDq1CmxwyIiI6xYsQJbt27Fu+++C6BhQtbOjjCJj49HXFwc\n",
              "cnNz8eKLLyI2NrZJmsLCQixfvhyZmZnIy8tDWVmZ/rG21o4RkelIJBKxQyCiVrAyTkRt8vb2bnYj\n",
              "Isv3ySefYO/evfrljvr374+ampoO51deXo7s7GxMnToVQMMw2JKSEuTl5Rmk2717NyIjI9GvXz9I\n",
              "JBLMmTMHqampbR4jIiKyF1wgnIjadM899zTbul5QUCBCNETUHi4uLk0mM+zM0NWSkhL0798fjo4N\n",
              "XyEkEgkUCgXUarXBJIxqtdqg0c7HxwdqtbrNY83RaDTQaDQG+3Q6XYfPgchecJg6kWVjZZyI2rR3\n",
              "7179z7W1tdi+fTvuvPNOESMiImN5e3sjMzMTEokEdXV1WLNmDZRKpdhhtUtiYiJWrVplsG/o0KEi\n",
              "RUNkPSZNmiR2CETUClbGiahNgwYNMnj9xz/+EcOHD+c63kRW4N///jemT5+OH3/8Ed27d0dERAR2\n",
              "7tzZ4fy8vLxQWloKrVYLR0dHCIIAtVrdZG1jhUKB/Px8/euioiJ9mtaONWfp0qVYsGCBwT5ef4gA\n",
              "rVaL9PR05OfnQ6vV6vevWLECAMsJkaXjM+NE1G5Xr17F5cuXxQ6DiIzg6OiIL7/8EpWVlfj111/x\n",
              "P//zP7h27VqH85PL5QgNDcWOHTsAAOnp6fD09DQYog40PEuekZGBy5cvQxAEbN68GVOmTGnzWHNk\n",
              "Mhnc3d0NttuH3hPZoylTpuA///kPrly5gurqav1GRNaBPeNE1KLGnq+QkBD9M+M6nQ7FxcV44YUX\n",
              "RI6OiIwRFRWFr7/+Gt26dQMAFBcX47HHHsOFCxc6nGdSUhJiY2OxZs0auLu7Y9u2bQCA2bNnIzIy\n",
              "EpGRkfD19cWqVavwwAMPAABGjRqln8W9tWNEZLwff/wR58+fN9ms6RcvXsT06dNx5coVeHh44N13\n",
              "320yOg5oWJpw7dq1qK+vx+jRo7Fp0yb90qOtHSMiQ6yME1GLnn76aaSlpeGNN97Q73N0dISXlxdG\n",
              "jRqFl19+WbzgiMgoTz75JJ566imkp6ejtLQU48aNw4YNGzqV54ABA5CVldVk/9atWw1eq1QqqFSq\n",
              "ZvNo7RgRGcfLyws3b96ETCYzSX6NyxbGxsZi9+7diI2NxYkTJwzSNC5NePLkSfTt2xcTJ07Eli1b\n",
              "8Ne//rXVY5amTleP6lot3Jwd4STlYGESByvjRNQijUaDZ599Fm+//bZ+X0lJCSIiIpo8v0lElum5\n",
              "555DUVER4uPjcezYMaxevRrjx48XOywiMgF/f3+MGjUKjz/+OJydnfX7//a3v7U7r8ZlC/ft2weg\n",
              "4XGShIQE5OXlGTyGcuvShAAwZ84crFmzBn/9619bPWZJ8sprkHy4ABU1GvRxk0E1whf+clexwyI7\n",
              "xGYgImpRWloaLly4oO8Bv3TpEkaPHo3nnnsOCQkJIkdHRK05ffq0fps6dSpOnjyJsWPHIiAgAKdP\n",
              "nxY7PCIyAY1Gg4EDB+Knn37CqVOncOrUKeTk5HQor9aWLbyVqZctrKqqMti6etnCOl09kg8XIL+i\n",
              "Bs5OUuSX1yA5swB1uvou/b1EzWHPOImqrSFCHEIkLplMhk8++QQPP/wwgIbW8Llz52LevHkiR0ZE\n",
              "bZk4cWKTfenp6di9ezckEgkKCgpEiIqITKlxvgZrJcayhdW1WlTUaCB3d4aHS8Oz7BXVGlTXatGr\n",
              "+x1d+ruJbsfKOImmrSFCHEIkvsbes7Vr1yImJgYTJkzAww8/rN8/ePBgMcMjolYUFBQYTOqUn5+P\n",
              "jIwM+Pv747HHHhMxMiIypV9++QVnzpxBbW2tfl9kZGS787GXZQvdnB3Rx02G/PIaAEB5VS385K5w\n",
              "c2a1iMzPIroaL168iOHDhyMwMBBhYWE4e/Zss+lSUlIQEBAAPz8/qFQq1NXVGXWMGnqYr924aTFD\n",
              "cNoaIsQhRJZh4sSJmDhxImbNmgVXV1ccOnRIvy8qKkrs8IioFWPHjtUPV/3ll18QFhaGffv2YfHi\n",
              "xXj11VfFDY6ITOKdd97B8OHD8cQTT2DVqlWYNGkSXnvttQ7lZS/LFjpJHaAa4Qs/uStq63Twk7tC\n",
              "NcKXIzBJFBbxX9c4c2Nubi5efPFFxMbGNknTODtjZmYm8vLyUFZWhi1btrR5jBp6mJd9fAaLPvwB\n",
              "y/acQd7/tQSK6fYhQnJ3Z/0QIWOOk3kUFha2uHGIq3WxtAY56no///wzlEolAGDXrl0YOXIkvvji\n",
              "Cxw9ehQ7d+4UNzgiMokNGzbg1KlT8PPzw/fff48DBw4gMDCww/klJSUhKSkJgYGBWLt2rcGyhRkZ\n",
              "GQAMlyb09/dHnz59ml228PZjlsRf7orVUUFYFz0Eq6OCOPKSRCN6Zbxx5sapU6cCaGhRKykpQV5e\n",
              "nkG6W2dnlEgkmDNnDlJTU9s8Zu8stYe5cYhQeVUtKn+vQ3lVLfq4yfRDhNo6TkTGs8QGOep6Li4u\n",
              "+p+PHj2qn0G9Z8+e+gmaiMi63XHHHejZsye02obOioceeqjDE7gB/79sYW5uLrKzsxEcHAygYdnC\n",
              "W4e+q1Qq5OfnIz8/HykpKQbriLd2zJI4SR3Qq/sd7BEnUYn+32fumRvFmLVRTJbaw9zWECEOISIy\n",
              "DUttkKOu5+DggEuXLqGmpgbffPMNRo4cqT/222+/iRgZEZmKTCaDIAgIDAzEG2+8gY8//hg1NWxw\n",
              "JbIWdtc0LsasjWKy5EkqGocItTRbelvHiahtnDXWfr300ksICQmBo6MjIiIi9ENXjx49Ch8fH3GD\n",
              "IyKTWL16NaqqqvDaa69hzpw5uH79OjZt2iR2WERkJNFrZOaeuVGMWRvF1NjDnJxZgIpqjcX1MDcO\n",
              "EerocSJqnSU3yFHXmjRpEoYPH46ysjKDlQ98fHw4rwqRjRg9ejQAwMPDA1999ZXI0RBRe4leIzP3\n",
              "zI1izNooNu87u2HB2EAkTgrmJBVEdoaPfNi3fv36YciQIQZLnN11112tLjVERNajpKQEEyZM0E/W\n",
              "mJOTgw0bNogbFBEZzSK+jdnLzI1iaJy4aelHP2L9V7kovsrnBInsDWeNJSKyTfHx8ZgyZQoEQQAA\n",
              "BAUF4Z133hE5KiIylkWMU2ycufF2W7duNXitUqmgUqmazaO1Y/bq1omb5O7O+ombVkcFsVeMyM7w\n",
              "kQ8iIttTXl6OqVOn4vXXXwcAODo6crUEIivCGpkNs9SZ1ImIiKhz6nT1uHbjJldGsHON8y01+vXX\n",
              "Xw1eE5FlY9OZDePETURERLYnr7wGyYcLUFGjQR83GVQjfPn4iZ2Kjo5GfHw8qqqqsHXrVmzevBmz\n",
              "Zs0SOywiMhJ7xm0YJ24iIiKyLbc+gubsJNU/gsYecvu0cOFCRERE4L777sNXX32FhQsX4rnnnhM7\n",
              "LCIyErtIbRzX6iYiIlOpr6/HvHnz8Pnnn0MikWD+/PlISEhokq62thZTpkzBuXPn4OLiArlcjrff\n",
              "flu/UsqoUaNQXFwMDw8PAMD06dPx/PPPm/VcrNXtj6AB0D+Cxnkh7Mfty/TeddddAIATJ07gxIkT\n",
              "WL9+vRhhEVE7sTJuBzhxExHV6erZKEedtmPHDpw7dw65ubmorKxESEgIIiIiMGjQoCZp4+Li8Mgj\n",
              "j0AikWDjxo2YPXs2Dh06pD++YcMGREVFmS94G8FH0AgA3njjDYSFhWHcuHFwcOA1ncha8cpNRGTj\n",
              "+HwpmUpaWhpUKhWkUil69eqFmJgYpKamYvXq1QbpnJ2dMX78eP3roUOHYt26deYO1yY1PoKWnFmA\n",
              "imoNH0GzU19//TXeeecd7Nq1C08++SRmzpwJPz8/scMionbilZuIyIbx+VIyJbVaDW9vb/1rHx8f\n",
              "qNXqNt/35ptvYuLEiQb7lixZguDgYMTExKCgoKDV92s0GlRVVRlsOp2uYydhAxofQVsXPQSro4LY\n",
              "uGaHIiIisH37dnz//fdQKBR4+umnERERgWPHjokdGhG1AyvjREQ2jEscUnsMGzYMvXv3bnYrKSnp\n",
              "UJ5r1qxBXl4eEhMT9fu2b9+O8+fP4/Tp0xgxYgQmTJjQah6JiYnw8PAw2I4fP96heGxF4yNo7BG3\n",
              "b+7u7pg4cSImTpyI8+fP4/z582KHRETtwCs4EZENa3y+tLyqFpW/16G8qhZ93GR8vpSalZWVhStX\n",
              "rjS7eXl5QaFQoLi4WJ++qKgICoWixfzWrVuHjz76CF988QW6deum3+/l5QUAkEgkSEhIQEFBAa5e\n",
              "vdpiPkuXLkVlZaXBFh4eboIzJrJOOp0OH3/8MSZMmICxY8dCKpXi5MmTmD59utihEVE78NsYEZEN\n",
              "4/OlZErR0dFITk5GdHQ0KisrkZaWhr179zabdv369UhNTcX+/fvRo0cP/X6tVourV6+ib9++AID0\n",
              "9HT07dsXd955Z4u/VyaTQSaTGeyTSqWdPyEiK3X33XdDoVBgxowZeOCBBwAAFRUVqKioAAAMHjxY\n",
              "zPCIyEisjBMR2TgucUimMm3aNJw4cQIBAQGQSCRYsGABgoODAQAZGRnIyMjA1q1bcenSJSxcuBC+\n",
              "vr6IiIgA0FChPnbsGDQaDR599FFoNBo4ODigd+/eyMjIEPO0iKyOs7MzKioq8Nprr0EikUAQBP0x\n",
              "iUTS5jwMRGQZWBknIrIDXOKQTEEqleKtt95q9lhkZCQiIyMBAJ6engaVg1t1794d2dnZXRYjkT0o\n",
              "KioSOwQiMgF2jxARERFZgDpdPa7duMnVDoiI7AQr40REREQiyyuvwbKPz2DRhz9g2Z4zyCuvETsk\n",
              "siP19fV47rnn4OfnB39/f2zcuLHZdLW1tYiKikJgYCCGDBmCsWPHIi8vT3981KhRuOeee6BUKqFU\n",
              "KrFhwwZznQKRVWJlnIiIiEhEdbp6JB8uQH5FDZydpMgvr0FyZgF7yMlsduzYgXPnziE3NxfHjx/H\n",
              "v/71L5w9e7bZtHFxcbhw4QJ++OEHTJw4EbNnzzY4vmHDBuTk5CAnJwfPP/+8OcInslqsjBMRERGJ\n",
              "qLpWi4oaDeTuzvBwcYLc3RkV1RpU12rFDo3sRFpaGlQqFaRSKXr16oWYmBikpqY2Sefs7Izx48dD\n",
              "IpEAAIYOHcrn14k6gZVxIiIiIhG5OTuij5sM5VW1qPy9DuVVtejjJoObM+fZJfNQq9Xw9vbWv/bx\n",
              "8YFarW7zfW+++SYmTpxosG/JkiUIDg5GTExMm7O6azQaVFVVGWw6na5jJ0FkhVgZJyIiIhKRk9QB\n",
              "qhG+8JO7orZOBz+5K1QjfLkMIZnMsGHD0Lt372a3kpKSDuW5Zs0a5OXlITExUb9v+/btOH/+PE6f\n",
              "Po0RI0ZgwoQJreaRmJgIDw8Pg+348eMdiofIGvEqT0RmZewkMUBDy/yAAQP0E8GkpaWZMVIiIvPx\n",
              "l7tidVQQ1kUPweqoIPjLXcUOiWxIVlYWrly50uzm5eUFhUKB4uJiffqioiIoFIoW81u3bh0++ugj\n",
              "fPHFF+jWrZt+v5eXF4CGtc4TEhJQUFCAq1evtpjP0qVLUVlZabCFh4eb4IyJrAPHPxGRWd06SUxl\n",
              "ZSVCQkIQERGBQYMGNZs+LS0NSqXSvEESEYnASeqAXt3vEDsMskPR0dFITk5GdHQ0KisrkZaWhr17\n",
              "9zabdv369UhNTcX+/fvRo0cP/X6tVourV6+ib9++AID09HT07dsXd955Z4u/VyaTQSaTGeyTSqUt\n",
              "pq/T1aO6Vgs3Z0eOHCGbIOp/MZdRILI/xk4SQ0REROYxbdo0DBw4EAEBAQgLC8OCBQsQHBwMAMjI\n",
              "yNDPmH7p0iUsXLgQ169fR0REBJRKJe6//34ADc9/P/roowgODsaQIUOwadMmZGRkmCxGLv9HtkjU\n",
              "nvH29JDFxcXhkUcegUQiwcaNGzF79mwcOnRIf3zDhg2IiooyX/BE1CHNTRLz3XfftZj+mWeegSAI\n",
              "CA8Px9q1a9GnT59m02k0Gmg0GoN9nASGLB17eYjIEkilUrz11lvNHouMjERkZCQAwNPTE4IgNJuu\n",
              "e/fuyM7O7pL4bl3+T+7urF/+b3VUEK+dZNVE/e/lMgpEtseUk8QcPnwYp0+fxsmTJ9G7d29Mnz69\n",
              "xbScBIasDXt5iIiMw+X/yFaJWhkXYxkFLqFA1LVMOUlM434nJyfMnz8fmZmZLf5eTgJD1uTWXh5n\n",
              "J6m+l6dOVy92aEREFofL/5Gt6tLKuCUuo8DeMyJxNU4So9PpcO3aNaSlpSEmJqZJuhs3buD69ev6\n",
              "16mpqQgJCWkxX5lMBnd3d4OttUlgiMTEXh4iIuNx+T+yVV3anJSVldXq8cYesmHDhgEwfhmF/fv3\n",
              "t7qMwqJFi3D16tVmZ29cunQpFixYYLBv+fLlRp8TEXXOtGnTcOLECQQEBEAikTSZJCYjIwNbt25F\n",
              "WVkZJk+eDJ1OB0EQ4Ovri/fee0/k6IlMo7GXJ///hqaXV9XCT+7KXh4iohY0Lv9nC/NscL4QaiTq\n",
              "XV+MZRTau4QCEZmWsZPE+Pr64tSpU+YMjchsGnt5kjMLUFGtYS8PEZERbGH5v7zyGiQfLkBFjQZ9\n",
              "3GRQjfCFv9xV7LBIJKJWxo3tIWtcRsHX1xcREREAGirVx44d0y+joNFo4ODggN69e5t0GQUiIqKu\n",
              "YEu9PERE1DbOCk+3E7UybunLKBAREXUlW+jlISIi49w+XwgA/XwhvBfYJzbBEBERkVHq6+vx3HPP\n",
              "wc/PD/7+/ti4cWOLaX18fDBgwAAolUoolUqkpaXpj128eBHDhw9HYGAgwsLCcPbsWXOET0QkKs4K\n",
              "T7fjX56IiIiMsmPHDpw7dw65ubmorKxESEgIIiIiMGjQoGbTp6WlQalUNtkfHx+PuLg4xMbGYvfu\n",
              "3YiNjcWJEye6OHoiInFxvhC6Hf/yREREZJS0tDSoVCpIpVL06tULMTExSE1NbVce5eXlyM7OxtSp\n",
              "UwEAkydPRklJCfLy8roiZCIii9I4X8i66CFYHRXEydvsHCvjREREZBS1Wg1vb2/9ax8fH6jV6hbT\n",
              "P/PMMwgODsasWbNQUVEBACgpKUH//v3h6NgwOE8ikUChULSaj0ajQVVVlcGm0+lMdFZERObVOF8I\n",
              "e8SJ/wFEREQEABg2bBh69+7d7FZSUtKuvA4fPozTp0/j5MmT6N27N6ZPn97huBITE+Hh4WGwHT9+\n",
              "vMP5ERERWQJWxs2kTlePazduok5XL3YoREREzcrKysKVK1ea3by8vKBQKFBcXKxPX1RUBIVC0Wxe\n",
              "jfudnJwwf/58ZGZmAgC8vLxQWloKrVYLABAEAWq1usV8AGDp0qWorKw02MLDw0112ibDez0REbUH\n",
              "J3Azg7zyGiQfLkBFjQZ93GRQjfDl8yFERGR1oqOjkZycjOjoaFRWViItLQ179+5tku7GjRuoq6tD\n",
              "jx49AACpqakICQkBAMjlcoSGhmLHjh2IjY1Feno6PD094e/v3+LvlclkkMlkBvukUqnpTswEeK8n\n",
              "IqL2Ys94F6vT1SP5cAHyK2rg7CRFfnkNkjML2GpORERWZ9q0aRg4cCACAgIQFhaGBQsWIDg4GACQ\n",
              "kZGB2bNnAwDKysoQERGBwYMHIzg4GN988w3ee+89fT5JSUlISkpCYGAg1q5di23btolyPqbCez0R\n",
              "EXUEe8a7WHWtFhU1GsjdneHh4gQAqKjWoLpWi17d7xA5OiIiIuNJpVK89dZbzR6LjIxEZGQkAMDX\n",
              "1xenTp1qMZ8BAwYgKyurS2IUA+/1RETUEewZ72Juzo7o4yZDeVUtKn+vQ3lVLfq4yeDmzHYQIiIi\n",
              "W8B7PRERdQQr413MSeoA1Qhf+MldUVung5/cFaoRvlzKgIiIyEbwXk9ERB3BJlsz8Je7YnVUEKpr\n",
              "tXBzduTNmYiIyMbwXk/WrL6+HvPmzcPnn38OiUSC+fPnIyEhodm0Pj4+kMlkcHFxAdCw2kFMTAwA\n",
              "4OLFi5g+fTquXLkCDw8PvPvuuxg0aJDZzoPI2rAybiZOUgc+N0ZERGTDeK8na7Vjxw6cO3cOubm5\n",
              "qKysREhICCIiIlqsSKelpUGpVDbZHx8fj7i4OMTGxmL37t2IjY3FiRMnujh6IuvFZlsiIiIiIjuW\n",
              "lpYGlUoFqVSKXr16ISYmBqmpqe3Ko7y8HNnZ2Zg6dSoAYPLkySgpKUFeXl5XhExkE1gZJyIiIiKy\n",
              "Y2q1Gt7e3vrXPj4+UKvVLaZ/5plnEBwcjFmzZqGiogIAUFJSgv79+8PRsWHgrUQigUKhaDUfjUaD\n",
              "qqoqg02n05norIgsHyvjREREREQ2bNiwYejdu3ezW0lJSbvyOnz4ME6fPo2TJ0+id+/emD59eofj\n",
              "SkxMhIeHh8F2/PjxDudHZG1YGSciIiIismFZWVm4cuVKs5uXlxcUCgWKi4v16YuKiqBQKJrNq3G/\n",
              "k5MT5s+fj8zMTACAl5cXSktLodVqAQCCIECtVreYD9Aw+VtlZaXBFh4ebqrTJrJ4rIwTEREREdmx\n",
              "6OhoJCcnQ6fT4dq1a0hLS9PPkH6rGzdu4Pr16/rXqampCAkJAQDI5XKEhoZix44dAID09HR4enrC\n",
              "39+/xd8rk8ng7u5usEmlUtOeHJEF42zqRERERER2bNq0aThx4gQCAgIgkUiwYMECBAcHAwAyMjKQ\n",
              "kZGBrVu3oqysDJMnT4ZOp4MgCPD19cV7772nzycpKQmxsbFYs2YN3N3dsW3bNrFOicgqiFoZ55qG\n",
              "RERERETikkqleOutt5o9FhkZicjISACAr68vTp061WI+AwYMQFZWVpfESGSLRK2Mc01DIiIiIiIi\n",
              "skeiPjPONQ2JiIiIiIjIHolaGRdjTUOuZ0hERERERERi69LKuCWuadje9QzrdPW4duMm6nT1Hfp9\n",
              "RERERERERLfr0mfG25rAoXFNw2HDhgFo35qGgYGBAAzXNHR0dGxzTcOlS5diwYIFBvuWL1/ebNq8\n",
              "8hokHy5ARY0GfdxkUI3whb/ctdVzIiIiIiIiImqLqMPUxVjT0Nj1DOt09Ug+XID8iho4O0mRX16D\n",
              "5MyCNnvI2ZNORGRevO6aT319PZ577jn4+fnB398fGzdubDbd1atXoVQq9VtgYCAcHR1x7do1AMCo\n",
              "UaNwzz336I9v2LDBpHHyf4KIzInXHOooUWdTt+Q1Datrtaio0UDu7gwPFycAQEW1BtW1WvTqfkez\n",
              "72FPOhGRefG6a17GroJy5513IicnR/963bp1+Oabb9CrVy/9vg0bNiAqKsrkMfJ/gojMidcc6gxR\n",
              "K+OWvKahm7Mj+rjJkF9eAwAor6qFn9wVbs7Nf2S39qTL3Z31Pemro4LgJBV1AAIRkU3iddf8WloF\n",
              "ZfXq1a2+LyUlBYmJiV0eH/8niMiceM2hzuJ/SQucpA5QjfCFn9wVtXU6+MldoRrh22LBur0nXe7u\n",
              "rO9JJyIi0+N11/zauwoKABw9ehS//vorJkyYYLB/yZIlCA4ORkxMDAoKClrNw9iVUPg/QUTmxGsO\n",
              "dZaoPeOWzl/uitVRQaiu1cLN2bHVFq729qQTEVHn8LpresOGDcPFixebPdbaCLXWpKSk4JlnntEv\n",
              "QQoA27dvh5eXFwRBwFtvvYUJEybg3LlzLeaRmJiIVatWGewbOnRok3T8nyAic+I1hzqLPeNtcJI6\n",
              "oFf3O9ocatLennQiIuocXndNLysrC1euXGl28/Ly0q+C0qi1VVAAoKamBh988AFmzpxpsN/LywsA\n",
              "IJFIkJCQgIKCAly9erXFfJYuXYrKykqDLTw8vEk6/k8QkTnxmkOdxWYbE2pPTzoREXUer7vm1bgK\n",
              "SnR0NCorK5GWloa9e/e2mD4tLQ1DhgzBwIED9fu0Wi2uXr2Kvn37AmhYBaVv37648847W8xHJpNB\n",
              "JpMZ7GtuJRSA/xNEZF685lBnsDJuYo096UREZB687pqPsaugNEpJSYFKpTLIQ6PR4NFHH4VGo4GD\n",
              "gwN69+6NjIwMk8bJ/wkiMidec6ijWBknIiIioxi7Ckqjo0ePNknXvXt3ZGdnd0l8RERE1oTjKIiI\n",
              "iIiIiIjMjJVxIiIiIiIiIjNjZZyIiIiIiIjIzCSCIAhiByG2SZMmwcfHR+wwWqTT6XD8+HGEh4e3\n",
              "OHuspWCsXcOYWL29vTFv3jwzR2bZ2lu2rel/whi2dj6A7Z0Ty3bHWfK925r+Txlr12H57hgxyra1\n",
              "/W/dylpjt9a4AdOWbVbGrUBVVRU8PDxQWVkJd3d3scNpFWPtGtYUqzWztc/Z1s4HsL1zsrXzoQbW\n",
              "9HdlrF3H2uK1Z9b8t7LW2K01bsC0sXOYOhEREREREZGZsTJOREREREREZGasjBMRERERERGZGSvj\n",
              "VkAmk+Hvf/87ZDKZ2KG0ibF2DWuK1ZrZ2udsa+cD2N452dr5UANr+rsy1q5jbfHaM2v+W1lr7NYa\n",
              "N2Da2DmBGxEREREREZGZsWeciIiIiIiIyMxYGSciIiIiIiIyM1bGiYiIiIiIiMyMlXELVF9fj+ee\n",
              "ew5+fn7w9/fHxo0bW0zr4+ODAQMGQKlUQqlUIi0tzSwxXrx4EcOHD0dgYCDCwsJw9uzZZtOlpKQg\n",
              "ICAAfn5+UKlUqKurM0t8tzIm1kOHDsHFxUX/OSqVSvz+++9mjfNvf/sbfHx8IJFIkJOT02I6S/hM\n",
              "bYU1lDVjWFN5NJa1lFtjsXzbPku/nljTdcKayj/LtvWy9DJ7O2sqw7eypvJ8K7OVbYEszn//+19h\n",
              "9OjRglarFa5evSooFArhzJkzzab19vYWTp06Zd4ABUGIiIgQtm3bJgiCIHz44YfCfffd1yRNQUGB\n",
              "0L9/f6G0tFSor68XHnvsMWHjxo1mjtS4WA8ePCgMGTLEvIHd5ptvvhFKSkpa/ZtaymdqK6yhrBnD\n",
              "msqjsayl3BqL5dv2Wfr1xJquE9ZU/lm2rZell9nbWVMZvpU1ledbmatss2fcAqWlpUGlUkEqlaJX\n",
              "r16IiYlBamqq2GHplZeXIzs7G1OnTgUATJ48GSUlJcjLyzNIt3v3bkRGRqJfv36QSCSYM2eO2c/D\n",
              "2FgtwUMPPQRPT89W01jCZ2pLLL2sGcOayqOxrKncGovl2/ZZ8vXEmq4T1lb+WbatlyWX2dtZUxm+\n",
              "lbWV51uZq2yzMm6B1Go1vL299a99fHygVqtbTP/MM88gODgYs2bNQkVFRZfHV1JSgv79+8PR0REA\n",
              "IJFIoFAomsTY3vMQM1YAyM/PR2hoKMLCwrBp0yazxmksS/hMbYmllzVjWFN5NJatlVtjWdPfiJqy\n",
              "5OuJNV0nbLH8W8LnSk1Zcpm9nTWV4VvZYnm+lSk+b0dTB0VtGzZsGC5evNjssVOnTrUrr8OHD0Oh\n",
              "UKCurg7Lli3D9OnT8fnnn5siTLsSGhqKS5cuwcPDA5cuXcL48ePRu3dvPPnkk2KHRp3AsmbbWG7J\n",
              "nHg9sSws/9QWllnrYc/lmZVxEWRlZbV6XKFQoLi4GMOGDQMAFBUVQaFQtJgWAJycnDB//nwEBgaa\n",
              "NthmeHl5obS0FFqtFo6OjhAEAWq1ukmMCoUC+fn5+tetnYfYsbq7u+t/9vT0xFNPPYXMzEyLuwhY\n",
              "wmdqTay9rBnDmsqjsWyt3BrLmv5G9siaryfWdJ2wxfJvCZ+rPbLmMns7ayrDt7LF8nwrU3zeHKZu\n",
              "gaKjo5GcnAydTodr164hLS0NMTExTdLduHED169f179OTU1FSEhIl8cnl8sRGhqKHTt2AADS09Ph\n",
              "6ekJf39/g3STJ09GRkYGLl++DEEQsHnzZkyZMqXL4+tIrKWlpaivrwcAVFdXY+/evWb5LNvLEj5T\n",
              "W2LpZc0Y1lQejWVr5dZY1vQ3oqYs+XpiTdcJWyz/lvC5UlOWXGZvZ01l+Fa2WJ5vZZLPuwOTy1EX\n",
              "02q1wty5c4V77rlH8PX1Fd544w39sU8++USYNWuWIAiCkJ+fLyiVSiE4OFgICgoSIiMjhcLCQrPE\n",
              "eP78eWHo0KFCQECA8Mc//lE4ffq0IAiCMGvWLOGTTz7Rp9uyZYvg6+sr+Pr6CjNnzhRu3rxplvja\n",
              "G+t//vMf4d577xUGDx4s3HvvvcLf//53ob6+3qxxxsXFCXfffbcglUoFuVwu+Pn5NYlTECzjM7UV\n",
              "1lDWjGFN5dFY1lJujcXybfss/XpiTdcJayr/LNvWy9LL7O2sqQzfyprK863MVbYlgiAIXdNWQERE\n",
              "RERERETN4TB1IiIiIiIiIjNjZZyIiIiIiIjIzFgZp3bx8fGBXC5HXV2dft/BgwchkUgwf/588QIj\n",
              "oi710Ucf4Y9//COUSiUGDhyI0aNHo76+HqNGjcI999wDpVIJf39/jB07Fp999pnY4RLZHR8fH+Tk\n",
              "5AAAamtrMXHiRERHR+PmzZtG53Ho0CF8+eWXnYpjxYoV2LlzZ6fyILJXLd1rby3fZFu4tBm1m0Kh\n",
              "QEZGBiZPngwASElJwX333SdyVETUVUpLSxEXF4fvv/8e3t7eAICTJ09CIpEAADZs2ICoqCgADV/m\n",
              "p0yZgk2bNmHSpElihUxkt6qrqxEZGYmAgABs3rwZDg7G9btotVocOnQI169fx7hx4zr8+1955ZUO\n",
              "v5fInrV1ryXbxJ5xarcZM2bgnXfeAQBUVlbiu+++M7hxr1u3DuHh4QgNDcW4ceNQXFwMAPj6668x\n",
              "bNgwhISEYNCgQUhJSdG/JzY2FvHx8Xj44YcRGBiISZMmtas1n4i6TllZGaRSKXr16qXfFxoa2uwX\n",
              "hFGjRmHlypVITEw0Z4hEBODq1asYPXo07r//fmzZsgWHDx+GUqnUHz9z5gx8fHwANKyH26NHD7z4\n",
              "4osIDQ3Fxo0bsXnzZuzcuRNKpVJfqd6+fTsGDx6MwYMH49FHH8XPP/8MAPjuu+/0PXhBQUF4++23\n",
              "ATTcz9944w0AwKefforBgwfr03zyySdm+yyIrI2x99r//Oc/eOCBB1BRUYHLly/jySefRHh4OIKD\n",
              "g7Fs2TIAwL59+/CnP/0JAFBVVQUnJyds2bIFAPDee+9h5syZABru2YsWLcKIESPg5+eHOXPm6H9P\n",
              "dXU1VCoVwsPDMXjwYMTFxem/m69evRp/+MMfoFQqoVQqUVxcjN9//x0xMTG49957MWTIEP3vp9ax\n",
              "Z5za7YEHHsCmTZvwyy+/ICMjA9HR0ZBKpQCAXbt24cKFC8jKyoJUKsX27dsxd+5cfPbZZwgNDcWR\n",
              "I0cglUpx7do1hISE4M9//jM8PT0BADk5OTh48CBkMhkeeughpKen46mnnhLzVIkIwODBg/Hggw/C\n",
              "29sbI0eOxPDhw/GXv/wFd999d7Pp77//fixYsMDMURJRTEwMVCqV0Y1hlZWVGDRoEF599VUAwPXr\n",
              "13H9+nV9ZfrMmTN44YUX8P333+Puu+/GP//5T8yePRtffPEFEhMTsWjRIv19+tdff22S/7Jly5CU\n",
              "lIRhw4ahvr4eVVVVpjlRIhvU1r22vr4eCxYsQGFhIfbv3w8XFxf8+c9/xksvvYSRI0dCq9ViwoQJ\n",
              "+PDDDzFhwgRMmTIFGo0GBw8eRFhYGPbv34+4uDh89dVXeOSRR/S/Nz8/HwcPHkRdXR3uvfdeZGVl\n",
              "YdiwYVi4cCFGjBiB5ORkCIIAlUqFN998E7Nnz8a6detQWloKFxcX/Pbbb3BwcMAXX3yB69ev49y5\n",
              "cwCAa9euifI5Whv2jFOHTJs2De+++y7eeecdfesaAOzZswf79+/Xt5a/9tprUKvVABpa7KOjoxEU\n",
              "FITRo0fj6tWrOHPmjP69jz/+OLp16wapVIrw8HDk5+eb/byIqCkHBwekp6fj6NGjGDduHL799lsM\n",
              "GjQIeXl5zabniplE4nj00Uexe/dulJSUGJXeyckJU6dObfH4wYMHMW7cOH1lYO7cuThw4AB0Oh0i\n",
              "IiLwj3/8A6+88gqOHDmCnj17Nnn/ww8/jHnz5uG1117D6dOn0aNHjw6dF5E9aOteGxcXh+rqaqSn\n",
              "p8PFxQU3btzA119/jXnz5kGpVOK+++5DXl4eLly4ABcXFyiVSnz77bfYv38/lixZgpMnT6K+vh4H\n",
              "DhzA6NGj9b83JiYGjo6O+vc0fv/es2cP/vWvf0GpVCIkJASZmZnIy8uDu7s7AgICMHXqVCQlJeHa\n",
              "tWtwdnbGkCFD8NNPP2Hu3LlIS0uDk5OTKJ+jtWHPOHXIM888g9DQUAQGBiIgIEC/XxAELF26FHFx\n",
              "cU3eM2fOHIwfPx7p6emQSCQIDQ1FbW2t/rizs7P+Z6lUCq1W27UnQUTtMnDgQAwcOBDx8fEYN24c\n",
              "MjIymk134sQJBAUFmTk6Inr++ecxZMgQjBo1CgcPHoSjoyN0Op3++K33XADo1q2b0c+UAzAYLjt/\n",
              "/nxMnDgR+/fvx0svvYSgoCBs2rTJIP369etx9uxZHDx4ENOnT8fTTz+NxYsXd/DsiOxDS/fakSNH\n",
              "4quvvsLly5dx11136Ru+v/vuO4Pv0I3GjBmD/fv34/Dhw1i7di2Cg4OxY8cO9OzZE/369dOna+n7\n",
              "tyAISE9PR2BgYJO8v/vuOxw9ehSHDh3C0KFDkZqaihEjRuDcuXM4cOAA9u/fj8WLFyMnJ6fZhjr6\n",
              "f+wZpw656667kJiYqB/a1igqKgqbN2/WD02pq6vDqVOnADQMYfP29oZEIsHhw4fxww8/mD1uImq/\n",
              "n3/+Gd9++63+9a+//orCwkL4+fk1SZuZmYmVK1fixRdfNGeIRPR/FixYgOeeew6jRo2Cl5cXiouL\n",
              "UVFRAaDh+e/WuLu7o7KyUv86IiICX375JX755RcAwObNm/Hwww9DKpXiwoULuOeee6BSqfDSSy/h\n",
              "u+++a5Lf+fPnMWjQICQkJODZZ59tNg0RNWjrXjtt2jSsWLECo0ePRmFhIVxdXREREYG1a9fq3/PL\n",
              "L7/g0qVLABoq47t27UKPHj3QvXt3jBkzBitWrMCYMWOMiicqKgqvvvqqvnL+66+/Ii8vD9XV1Sgr\n",
              "K8OIESOwfPlyPPjggzh16hQuXboEiUSCyMhIrFu3DoIgGD1Kx56xZ5w6bMaMGU32Pf3007h69Soi\n",
              "IiIANMzOOnPmTISEhGDt2rWYO3cu/vGPf0CpVOL+++83d8hE1AFarRavvPIKCgsL0a1bN2i1Wkyf\n",
              "Ph0TJ07Ehg0b8Pzzz2PlypW4ceMGvL29kZycjAkTJogdNpHdmj9/PhwcHDBy5Ei88MILCA8PR9++\n",
              "fQ2eE23O448/ju3bt0OpVGLSpElYsWIF/vWvf+knafXy8kJycjIAYOPGjThw4ADuuOMOSKVSvP76\n",
              "603ye+mll3DhwgXccccd6Natm36SNyJqqrV77bx58wAATzzxBFxcXPCnP/0Jn376KXbu3IkFCxYg\n",
              "KCgIEokE3bt3R1JSEjw9PXHfffehsrISDz/8MABg7NixSEhI0L9uy4YNG7BkyRIolUo4ODjA0dER\n",
              "r732GpydnfHEE0/gxo0bkEgkCAgIwPTp03H06FEsXboUgiBAq9Vi2rRpGDx4cJd9XrZCIvDhPiIi\n",
              "IiIiIiKz4jB1IiIiIiIiIjNjZZyIiIiIiIjIzFgZJyIiIiIiIjIzVsaJiIiIiIiIzIyVcSIiIiIi\n",
              "IiIzY2WciIiIiIiIyMxYGSciIiIiIiIyM1bGiYiIiIiIiMyMlXEiIiIiIiIiM2NlnIiIiIiIiMjM\n",
              "WBknIiIiIiIiMrP/BSvEtU7x1oSQAAAAAElFTkSuQmCC\n",
              "\">\n",
              "        \n",
              "      </div>\n",
              "      <script></script>\n",
              "      <script type=\"text/javascript\">\n",
              "        (() => {\n",
              "          const chartElement = document.getElementById(\"chart-4a623d60-5e94-434e-a5aa-ae7b323b1dfa\");\n",
              "          async function getCodeForChartHandler(event) {\n",
              "            const chartCodeResponse =  await google.colab.kernel.invokeFunction(\n",
              "                'getCodeForChart', [\"chart-4a623d60-5e94-434e-a5aa-ae7b323b1dfa\"], {});\n",
              "            const responseJson = chartCodeResponse.data['application/json'];\n",
              "            await google.colab.notebook.addCell(responseJson.code, 'code');\n",
              "          }\n",
              "          chartElement.onclick = getCodeForChartHandler;\n",
              "        })();\n",
              "      </script>\n",
              "      <style>\n",
              "        .colab-quickchart-chart-with-code  {\n",
              "            display: block;\n",
              "            float: left;\n",
              "            border: 1px solid transparent;\n",
              "        }\n",
              "\n",
              "        .colab-quickchart-chart-with-code:hover {\n",
              "            cursor: pointer;\n",
              "            border: 1px solid #aaa;\n",
              "        }\n",
              "      </style>"
            ]
          },
          "metadata": {}
        }
      ]
    },
    {
      "cell_type": "markdown",
      "source": [
        "## Heatmap for co-relation"
      ],
      "metadata": {
        "id": "IR8g7FldDvHk"
      }
    },
    {
      "cell_type": "code",
      "source": [
        "sb.heatmap(df.corr(), annot = True)"
      ],
      "metadata": {
        "colab": {
          "base_uri": "https://localhost:8080/",
          "height": 569
        },
        "id": "R2yGavP7wddS",
        "outputId": "a4d7aad9-2b7a-4815-f5cb-3dbd3067f17b"
      },
      "execution_count": 22,
      "outputs": [
        {
          "output_type": "execute_result",
          "data": {
            "text/plain": [
              "<Axes: >"
            ]
          },
          "metadata": {},
          "execution_count": 22
        },
        {
          "output_type": "display_data",
          "data": {
            "text/plain": [
              "<Figure size 640x480 with 2 Axes>"
            ],
            "image/png": "[encoded data removed]"
          },
          "metadata": {}
        }
      ]
    },
    {
      "cell_type": "code",
      "source": [],
      "metadata": {
        "id": "Pc-GGhPZwkXn"
      },
      "execution_count": null,
      "outputs": []
    },
    {
      "cell_type": "markdown",
      "source": [
        "## Identify x and y"
      ],
      "metadata": {
        "id": "muSC6PVIwoHy"
      }
    },
    {
      "cell_type": "code",
      "source": [
        "x = df.iloc[:,:-1].values\n",
        "x"
      ],
      "metadata": {
        "colab": {
          "base_uri": "https://localhost:8080/"
        },
        "id": "SfuNCcVCwpb1",
        "outputId": "b6882c76-448a-41eb-ff6b-e77aba936123"
      },
      "execution_count": 23,
      "outputs": [
        {
          "output_type": "execute_result",
          "data": {
            "text/plain": [
              "array([[140.5625    ,  55.68378214,  -0.23457141, ...,  19.11042633,\n",
              "          7.97553179,  74.24222492],\n",
              "       [102.5078125 ,  58.88243001,   0.46531815, ...,  14.86014572,\n",
              "         10.57648674, 127.3935796 ],\n",
              "       [103.015625  ,  39.34164944,   0.32332837, ...,  21.74466875,\n",
              "          7.73582202,  63.17190911],\n",
              "       ...,\n",
              "       [119.3359375 ,  59.93593941,   0.1593631 , ...,  58.8720002 ,\n",
              "          2.49951714,   4.59517265],\n",
              "       [114.5078125 ,  53.90239966,   0.20116138, ...,  13.38173065,\n",
              "         10.00796731, 134.2389095 ],\n",
              "       [ 57.0625    ,  85.79734025,   1.40639105, ...,  64.71256228,\n",
              "         -1.59752658,   1.42947536]])"
            ]
          },
          "metadata": {},
          "execution_count": 23
        }
      ]
    },
    {
      "cell_type": "code",
      "source": [
        "y = df.iloc[:,-1].values\n",
        "y"
      ],
      "metadata": {
        "colab": {
          "base_uri": "https://localhost:8080/"
        },
        "id": "PyPhycSCww9V",
        "outputId": "b466b2e7-0a0c-4173-9416-3eb4af07ebd2"
      },
      "execution_count": 24,
      "outputs": [
        {
          "output_type": "execute_result",
          "data": {
            "text/plain": [
              "array([0, 0, 0, ..., 0, 0, 0])"
            ]
          },
          "metadata": {},
          "execution_count": 24
        }
      ]
    },
    {
      "cell_type": "markdown",
      "source": [
        "## Splitting data into trainig and testing"
      ],
      "metadata": {
        "id": "vufS78hiELL0"
      }
    },
    {
      "cell_type": "code",
      "source": [
        "from sklearn.model_selection import train_test_split\n",
        "x_train,x_test,y_train,y_test = train_test_split(x,y, test_size = 0.2, random_state = 0)"
      ],
      "metadata": {
        "id": "7R6iW4hRw6T0"
      },
      "execution_count": 25,
      "outputs": []
    },
    {
      "cell_type": "markdown",
      "source": [
        "## Feature Scaling"
      ],
      "metadata": {
        "id": "TnUDkkTxEPOk"
      }
    },
    {
      "cell_type": "code",
      "source": [
        "from sklearn.preprocessing import StandardScaler\n",
        "sc = StandardScaler()\n",
        "x_train = sc.fit_transform(x_train)\n",
        "x_test = sc.fit_transform(x_test)"
      ],
      "metadata": {
        "id": "QZnvfaqXxTPg"
      },
      "execution_count": 26,
      "outputs": []
    },
    {
      "cell_type": "markdown",
      "source": [
        "## SVM Model Building - Linear"
      ],
      "metadata": {
        "id": "JCEV6BavEeKq"
      }
    },
    {
      "cell_type": "code",
      "source": [
        "from sklearn.svm import SVC\n",
        "classifier = SVC(kernel = 'linear')\n",
        "classifier.fit(x_train,y_train)"
      ],
      "metadata": {
        "colab": {
          "base_uri": "https://localhost:8080/",
          "height": 74
        },
        "id": "vhb-nwfpxnsC",
        "outputId": "6be0344e-f3d6-4aa4-e63c-817ca51550d2"
      },
      "execution_count": 27,
      "outputs": [
        {
          "output_type": "execute_result",
          "data": {
            "text/plain": [
              "SVC(kernel='linear')"
            ],
            "text/html": [
              "<style>#sk-container-id-1 {color: black;background-color: white;}#sk-container-id-1 pre{padding: 0;}#sk-container-id-1 div.sk-toggleable {background-color: white;}#sk-container-id-1 label.sk-toggleable__label {cursor: pointer;display: block;width: 100%;margin-bottom: 0;padding: 0.3em;box-sizing: border-box;text-align: center;}#sk-container-id-1 label.sk-toggleable__label-arrow:before {content: \"▸\";float: left;margin-right: 0.25em;color: #696969;}#sk-container-id-1 label.sk-toggleable__label-arrow:hover:before {color: black;}#sk-container-id-1 div.sk-estimator:hover label.sk-toggleable__label-arrow:before {color: black;}#sk-container-id-1 div.sk-toggleable__content {max-height: 0;max-width: 0;overflow: hidden;text-align: left;background-color: #f0f8ff;}#sk-container-id-1 div.sk-toggleable__content pre {margin: 0.2em;color: black;border-radius: 0.25em;background-color: #f0f8ff;}#sk-container-id-1 input.sk-toggleable__control:checked~div.sk-toggleable__content {max-height: 200px;max-width: 100%;overflow: auto;}#sk-container-id-1 input.sk-toggleable__control:checked~label.sk-toggleable__label-arrow:before {content: \"▾\";}#sk-container-id-1 div.sk-estimator input.sk-toggleable__control:checked~label.sk-toggleable__label {background-color: #d4ebff;}#sk-container-id-1 div.sk-label input.sk-toggleable__control:checked~label.sk-toggleable__label {background-color: #d4ebff;}#sk-container-id-1 input.sk-hidden--visually {border: 0;clip: rect(1px 1px 1px 1px);clip: rect(1px, 1px, 1px, 1px);height: 1px;margin: -1px;overflow: hidden;padding: 0;position: absolute;width: 1px;}#sk-container-id-1 div.sk-estimator {font-family: monospace;background-color: #f0f8ff;border: 1px dotted black;border-radius: 0.25em;box-sizing: border-box;margin-bottom: 0.5em;}#sk-container-id-1 div.sk-estimator:hover {background-color: #d4ebff;}#sk-container-id-1 div.sk-parallel-item::after {content: \"\";width: 100%;border-bottom: 1px solid gray;flex-grow: 1;}#sk-container-id-1 div.sk-label:hover label.sk-toggleable__label {background-color: #d4ebff;}#sk-container-id-1 div.sk-serial::before {content: \"\";position: absolute;border-left: 1px solid gray;box-sizing: border-box;top: 0;bottom: 0;left: 50%;z-index: 0;}#sk-container-id-1 div.sk-serial {display: flex;flex-direction: column;align-items: center;background-color: white;padding-right: 0.2em;padding-left: 0.2em;position: relative;}#sk-container-id-1 div.sk-item {position: relative;z-index: 1;}#sk-container-id-1 div.sk-parallel {display: flex;align-items: stretch;justify-content: center;background-color: white;position: relative;}#sk-container-id-1 div.sk-item::before, #sk-container-id-1 div.sk-parallel-item::before {content: \"\";position: absolute;border-left: 1px solid gray;box-sizing: border-box;top: 0;bottom: 0;left: 50%;z-index: -1;}#sk-container-id-1 div.sk-parallel-item {display: flex;flex-direction: column;z-index: 1;position: relative;background-color: white;}#sk-container-id-1 div.sk-parallel-item:first-child::after {align-self: flex-end;width: 50%;}#sk-container-id-1 div.sk-parallel-item:last-child::after {align-self: flex-start;width: 50%;}#sk-container-id-1 div.sk-parallel-item:only-child::after {width: 0;}#sk-container-id-1 div.sk-dashed-wrapped {border: 1px dashed gray;margin: 0 0.4em 0.5em 0.4em;box-sizing: border-box;padding-bottom: 0.4em;background-color: white;}#sk-container-id-1 div.sk-label label {font-family: monospace;font-weight: bold;display: inline-block;line-height: 1.2em;}#sk-container-id-1 div.sk-label-container {text-align: center;}#sk-container-id-1 div.sk-container {/* jupyter's `normalize.less` sets `[hidden] { display: none; }` but bootstrap.min.css set `[hidden] { display: none !important; }` so we also need the `!important` here to be able to override the default hidden behavior on the sphinx rendered scikit-learn.org. See: https://github.com/scikit-learn/scikit-learn/issues/21755 */display: inline-block !important;position: relative;}#sk-container-id-1 div.sk-text-repr-fallback {display: none;}</style><div id=\"sk-container-id-1\" class=\"sk-top-container\"><div class=\"sk-text-repr-fallback\"><pre>SVC(kernel=&#x27;linear&#x27;)</pre><b>In a Jupyter environment, please rerun this cell to show the HTML representation or trust the notebook. <br />On GitHub, the HTML representation is unable to render, please try loading this page with nbviewer.org.</b></div><div class=\"sk-container\" hidden><div class=\"sk-item\"><div class=\"sk-estimator sk-toggleable\"><input class=\"sk-toggleable__control sk-hidden--visually\" id=\"sk-estimator-id-1\" type=\"checkbox\" checked><label for=\"sk-estimator-id-1\" class=\"sk-toggleable__label sk-toggleable__label-arrow\">SVC</label><div class=\"sk-toggleable__content\"><pre>SVC(kernel=&#x27;linear&#x27;)</pre></div></div></div></div></div>"
            ]
          },
          "metadata": {},
          "execution_count": 27
        }
      ]
    },
    {
      "cell_type": "markdown",
      "source": [
        "## Prediction"
      ],
      "metadata": {
        "id": "eyNuEdKuyWRU"
      }
    },
    {
      "cell_type": "code",
      "source": [
        "y_pred = classifier.predict(x_test)"
      ],
      "metadata": {
        "id": "Sfbnx_k1yAkC"
      },
      "execution_count": 29,
      "outputs": []
    },
    {
      "cell_type": "markdown",
      "source": [
        "## Evaluation"
      ],
      "metadata": {
        "id": "_k9G3vyyE1fY"
      }
    },
    {
      "cell_type": "code",
      "source": [
        "from sklearn.metrics import classification_report, confusion_matrix, accuracy_score"
      ],
      "metadata": {
        "id": "0zWs66xyygdl"
      },
      "execution_count": 30,
      "outputs": []
    },
    {
      "cell_type": "markdown",
      "source": [
        "### Confusion Matrix"
      ],
      "metadata": {
        "id": "usXYXQFvFd5-"
      }
    },
    {
      "cell_type": "code",
      "source": [
        "confusion_matrix(y_test,y_pred)"
      ],
      "metadata": {
        "colab": {
          "base_uri": "https://localhost:8080/"
        },
        "id": "Hs9pk1TDywVx",
        "outputId": "4c4c1f0f-19da-4e98-ad91-7cd9dabec4ab"
      },
      "execution_count": 31,
      "outputs": [
        {
          "output_type": "execute_result",
          "data": {
            "text/plain": [
              "array([[3289,   17],\n",
              "       [  37,  237]])"
            ]
          },
          "metadata": {},
          "execution_count": 31
        }
      ]
    },
    {
      "cell_type": "markdown",
      "source": [
        "### Classification Report"
      ],
      "metadata": {
        "id": "ppZephJoFkOx"
      }
    },
    {
      "cell_type": "code",
      "source": [
        "print(classification_report(y_test,y_pred))"
      ],
      "metadata": {
        "colab": {
          "base_uri": "https://localhost:8080/"
        },
        "id": "n7lgkoTDy0f9",
        "outputId": "509f200e-6810-4487-da85-02b61b548ea8"
      },
      "execution_count": 32,
      "outputs": [
        {
          "output_type": "stream",
          "name": "stdout",
          "text": [
            "              precision    recall  f1-score   support\n",
            "\n",
            "           0       0.99      0.99      0.99      3306\n",
            "           1       0.93      0.86      0.90       274\n",
            "\n",
            "    accuracy                           0.98      3580\n",
            "   macro avg       0.96      0.93      0.94      3580\n",
            "weighted avg       0.98      0.98      0.98      3580\n",
            "\n"
          ]
        }
      ]
    },
    {
      "cell_type": "markdown",
      "source": [
        "### Accuracy Score"
      ],
      "metadata": {
        "id": "ImA05qLbFuXR"
      }
    },
    {
      "cell_type": "code",
      "source": [
        "accuracy_score(y_test,y_pred)"
      ],
      "metadata": {
        "colab": {
          "base_uri": "https://localhost:8080/"
        },
        "id": "ne1RLKRQy5yN",
        "outputId": "95ef4392-20be-41a1-c997-73b066490f84"
      },
      "execution_count": 33,
      "outputs": [
        {
          "output_type": "execute_result",
          "data": {
            "text/plain": [
              "0.9849162011173185"
            ]
          },
          "metadata": {},
          "execution_count": 33
        }
      ]
    },
    {
      "cell_type": "markdown",
      "source": [
        "# Model Building : Polynomial"
      ],
      "metadata": {
        "id": "NYxJ7SB1FyWk"
      }
    },
    {
      "cell_type": "code",
      "source": [
        "from sklearn.svm import SVC\n",
        "classifier = SVC(kernel = 'poly',C=100)\n",
        "classifier.fit(x_train,y_train)"
      ],
      "metadata": {
        "colab": {
          "base_uri": "https://localhost:8080/",
          "height": 74
        },
        "id": "GPULE7zhy-qt",
        "outputId": "a30ff3fa-d238-41f0-fedf-e0090abe8897"
      },
      "execution_count": 46,
      "outputs": [
        {
          "output_type": "execute_result",
          "data": {
            "text/plain": [
              "SVC(C=100, kernel='poly')"
            ],
            "text/html": [
              "<style>#sk-container-id-3 {color: black;background-color: white;}#sk-container-id-3 pre{padding: 0;}#sk-container-id-3 div.sk-toggleable {background-color: white;}#sk-container-id-3 label.sk-toggleable__label {cursor: pointer;display: block;width: 100%;margin-bottom: 0;padding: 0.3em;box-sizing: border-box;text-align: center;}#sk-container-id-3 label.sk-toggleable__label-arrow:before {content: \"▸\";float: left;margin-right: 0.25em;color: #696969;}#sk-container-id-3 label.sk-toggleable__label-arrow:hover:before {color: black;}#sk-container-id-3 div.sk-estimator:hover label.sk-toggleable__label-arrow:before {color: black;}#sk-container-id-3 div.sk-toggleable__content {max-height: 0;max-width: 0;overflow: hidden;text-align: left;background-color: #f0f8ff;}#sk-container-id-3 div.sk-toggleable__content pre {margin: 0.2em;color: black;border-radius: 0.25em;background-color: #f0f8ff;}#sk-container-id-3 input.sk-toggleable__control:checked~div.sk-toggleable__content {max-height: 200px;max-width: 100%;overflow: auto;}#sk-container-id-3 input.sk-toggleable__control:checked~label.sk-toggleable__label-arrow:before {content: \"▾\";}#sk-container-id-3 div.sk-estimator input.sk-toggleable__control:checked~label.sk-toggleable__label {background-color: #d4ebff;}#sk-container-id-3 div.sk-label input.sk-toggleable__control:checked~label.sk-toggleable__label {background-color: #d4ebff;}#sk-container-id-3 input.sk-hidden--visually {border: 0;clip: rect(1px 1px 1px 1px);clip: rect(1px, 1px, 1px, 1px);height: 1px;margin: -1px;overflow: hidden;padding: 0;position: absolute;width: 1px;}#sk-container-id-3 div.sk-estimator {font-family: monospace;background-color: #f0f8ff;border: 1px dotted black;border-radius: 0.25em;box-sizing: border-box;margin-bottom: 0.5em;}#sk-container-id-3 div.sk-estimator:hover {background-color: #d4ebff;}#sk-container-id-3 div.sk-parallel-item::after {content: \"\";width: 100%;border-bottom: 1px solid gray;flex-grow: 1;}#sk-container-id-3 div.sk-label:hover label.sk-toggleable__label {background-color: #d4ebff;}#sk-container-id-3 div.sk-serial::before {content: \"\";position: absolute;border-left: 1px solid gray;box-sizing: border-box;top: 0;bottom: 0;left: 50%;z-index: 0;}#sk-container-id-3 div.sk-serial {display: flex;flex-direction: column;align-items: center;background-color: white;padding-right: 0.2em;padding-left: 0.2em;position: relative;}#sk-container-id-3 div.sk-item {position: relative;z-index: 1;}#sk-container-id-3 div.sk-parallel {display: flex;align-items: stretch;justify-content: center;background-color: white;position: relative;}#sk-container-id-3 div.sk-item::before, #sk-container-id-3 div.sk-parallel-item::before {content: \"\";position: absolute;border-left: 1px solid gray;box-sizing: border-box;top: 0;bottom: 0;left: 50%;z-index: -1;}#sk-container-id-3 div.sk-parallel-item {display: flex;flex-direction: column;z-index: 1;position: relative;background-color: white;}#sk-container-id-3 div.sk-parallel-item:first-child::after {align-self: flex-end;width: 50%;}#sk-container-id-3 div.sk-parallel-item:last-child::after {align-self: flex-start;width: 50%;}#sk-container-id-3 div.sk-parallel-item:only-child::after {width: 0;}#sk-container-id-3 div.sk-dashed-wrapped {border: 1px dashed gray;margin: 0 0.4em 0.5em 0.4em;box-sizing: border-box;padding-bottom: 0.4em;background-color: white;}#sk-container-id-3 div.sk-label label {font-family: monospace;font-weight: bold;display: inline-block;line-height: 1.2em;}#sk-container-id-3 div.sk-label-container {text-align: center;}#sk-container-id-3 div.sk-container {/* jupyter's `normalize.less` sets `[hidden] { display: none; }` but bootstrap.min.css set `[hidden] { display: none !important; }` so we also need the `!important` here to be able to override the default hidden behavior on the sphinx rendered scikit-learn.org. See: https://github.com/scikit-learn/scikit-learn/issues/21755 */display: inline-block !important;position: relative;}#sk-container-id-3 div.sk-text-repr-fallback {display: none;}</style><div id=\"sk-container-id-3\" class=\"sk-top-container\"><div class=\"sk-text-repr-fallback\"><pre>SVC(C=100, kernel=&#x27;poly&#x27;)</pre><b>In a Jupyter environment, please rerun this cell to show the HTML representation or trust the notebook. <br />On GitHub, the HTML representation is unable to render, please try loading this page with nbviewer.org.</b></div><div class=\"sk-container\" hidden><div class=\"sk-item\"><div class=\"sk-estimator sk-toggleable\"><input class=\"sk-toggleable__control sk-hidden--visually\" id=\"sk-estimator-id-3\" type=\"checkbox\" checked><label for=\"sk-estimator-id-3\" class=\"sk-toggleable__label sk-toggleable__label-arrow\">SVC</label><div class=\"sk-toggleable__content\"><pre>SVC(C=100, kernel=&#x27;poly&#x27;)</pre></div></div></div></div></div>"
            ]
          },
          "metadata": {},
          "execution_count": 46
        }
      ]
    },
    {
      "cell_type": "markdown",
      "source": [
        "## Prediction"
      ],
      "metadata": {
        "id": "dJ3RDe-JGY-_"
      }
    },
    {
      "cell_type": "code",
      "source": [
        "y_pred = classifier.predict(x_test)"
      ],
      "metadata": {
        "id": "vJoCwBr-zuTR"
      },
      "execution_count": 47,
      "outputs": []
    },
    {
      "cell_type": "markdown",
      "source": [
        "## Evaluation"
      ],
      "metadata": {
        "id": "-f0daT8iGeHo"
      }
    },
    {
      "cell_type": "code",
      "source": [
        "from sklearn.metrics import classification_report, confusion_matrix, accuracy_score"
      ],
      "metadata": {
        "id": "nZDdWztp0qQW"
      },
      "execution_count": 48,
      "outputs": []
    },
    {
      "cell_type": "markdown",
      "source": [
        "### Confusion Matrix"
      ],
      "metadata": {
        "id": "-2TQaQHAGkSn"
      }
    },
    {
      "cell_type": "code",
      "source": [
        "confusion_matrix(y_test,y_pred)"
      ],
      "metadata": {
        "colab": {
          "base_uri": "https://localhost:8080/"
        },
        "id": "Q9bhUoj90qK4",
        "outputId": "eae9c33b-df03-473a-9fb1-3728894ca686"
      },
      "execution_count": 49,
      "outputs": [
        {
          "output_type": "execute_result",
          "data": {
            "text/plain": [
              "array([[3283,   23],\n",
              "       [  37,  237]])"
            ]
          },
          "metadata": {},
          "execution_count": 49
        }
      ]
    },
    {
      "cell_type": "markdown",
      "source": [
        "### Classification Report"
      ],
      "metadata": {
        "id": "eLbb6sh-GqIG"
      }
    },
    {
      "cell_type": "code",
      "source": [
        "print(classification_report(y_test,y_pred))"
      ],
      "metadata": {
        "colab": {
          "base_uri": "https://localhost:8080/"
        },
        "id": "t4aCb8Ng0qHv",
        "outputId": "cca80877-1ee0-4491-8bf1-ea5440d42c17"
      },
      "execution_count": 50,
      "outputs": [
        {
          "output_type": "stream",
          "name": "stdout",
          "text": [
            "              precision    recall  f1-score   support\n",
            "\n",
            "           0       0.99      0.99      0.99      3306\n",
            "           1       0.91      0.86      0.89       274\n",
            "\n",
            "    accuracy                           0.98      3580\n",
            "   macro avg       0.95      0.93      0.94      3580\n",
            "weighted avg       0.98      0.98      0.98      3580\n",
            "\n"
          ]
        }
      ]
    },
    {
      "cell_type": "markdown",
      "source": [
        "### Accuracy Score"
      ],
      "metadata": {
        "id": "ACh3DIYtGzbT"
      }
    },
    {
      "cell_type": "code",
      "source": [
        "accuracy_score(y_test,y_pred)"
      ],
      "metadata": {
        "colab": {
          "base_uri": "https://localhost:8080/"
        },
        "id": "iDT0L_PN0qEc",
        "outputId": "251928b8-2cb1-4e20-ebe7-5abfb0f40522"
      },
      "execution_count": 51,
      "outputs": [
        {
          "output_type": "execute_result",
          "data": {
            "text/plain": [
              "0.9832402234636871"
            ]
          },
          "metadata": {},
          "execution_count": 51
        }
      ]
    },
    {
      "cell_type": "markdown",
      "source": [
        "# Model Building : Sigmoid"
      ],
      "metadata": {
        "id": "rCE1vtiiG9ts"
      }
    },
    {
      "cell_type": "code",
      "source": [
        "from sklearn.svm import SVC\n",
        "classifier = SVC(kernel = 'sigmoid',C=100)\n",
        "classifier.fit(x_train,y_train)"
      ],
      "metadata": {
        "colab": {
          "base_uri": "https://localhost:8080/",
          "height": 74
        },
        "id": "R2X4Bx-Q1Mxk",
        "outputId": "34c104ce-3dca-42ce-afff-b5d715038d12"
      },
      "execution_count": 52,
      "outputs": [
        {
          "output_type": "execute_result",
          "data": {
            "text/plain": [
              "SVC(C=100, kernel='sigmoid')"
            ],
            "text/html": [
              "<style>#sk-container-id-4 {color: black;background-color: white;}#sk-container-id-4 pre{padding: 0;}#sk-container-id-4 div.sk-toggleable {background-color: white;}#sk-container-id-4 label.sk-toggleable__label {cursor: pointer;display: block;width: 100%;margin-bottom: 0;padding: 0.3em;box-sizing: border-box;text-align: center;}#sk-container-id-4 label.sk-toggleable__label-arrow:before {content: \"▸\";float: left;margin-right: 0.25em;color: #696969;}#sk-container-id-4 label.sk-toggleable__label-arrow:hover:before {color: black;}#sk-container-id-4 div.sk-estimator:hover label.sk-toggleable__label-arrow:before {color: black;}#sk-container-id-4 div.sk-toggleable__content {max-height: 0;max-width: 0;overflow: hidden;text-align: left;background-color: #f0f8ff;}#sk-container-id-4 div.sk-toggleable__content pre {margin: 0.2em;color: black;border-radius: 0.25em;background-color: #f0f8ff;}#sk-container-id-4 input.sk-toggleable__control:checked~div.sk-toggleable__content {max-height: 200px;max-width: 100%;overflow: auto;}#sk-container-id-4 input.sk-toggleable__control:checked~label.sk-toggleable__label-arrow:before {content: \"▾\";}#sk-container-id-4 div.sk-estimator input.sk-toggleable__control:checked~label.sk-toggleable__label {background-color: #d4ebff;}#sk-container-id-4 div.sk-label input.sk-toggleable__control:checked~label.sk-toggleable__label {background-color: #d4ebff;}#sk-container-id-4 input.sk-hidden--visually {border: 0;clip: rect(1px 1px 1px 1px);clip: rect(1px, 1px, 1px, 1px);height: 1px;margin: -1px;overflow: hidden;padding: 0;position: absolute;width: 1px;}#sk-container-id-4 div.sk-estimator {font-family: monospace;background-color: #f0f8ff;border: 1px dotted black;border-radius: 0.25em;box-sizing: border-box;margin-bottom: 0.5em;}#sk-container-id-4 div.sk-estimator:hover {background-color: #d4ebff;}#sk-container-id-4 div.sk-parallel-item::after {content: \"\";width: 100%;border-bottom: 1px solid gray;flex-grow: 1;}#sk-container-id-4 div.sk-label:hover label.sk-toggleable__label {background-color: #d4ebff;}#sk-container-id-4 div.sk-serial::before {content: \"\";position: absolute;border-left: 1px solid gray;box-sizing: border-box;top: 0;bottom: 0;left: 50%;z-index: 0;}#sk-container-id-4 div.sk-serial {display: flex;flex-direction: column;align-items: center;background-color: white;padding-right: 0.2em;padding-left: 0.2em;position: relative;}#sk-container-id-4 div.sk-item {position: relative;z-index: 1;}#sk-container-id-4 div.sk-parallel {display: flex;align-items: stretch;justify-content: center;background-color: white;position: relative;}#sk-container-id-4 div.sk-item::before, #sk-container-id-4 div.sk-parallel-item::before {content: \"\";position: absolute;border-left: 1px solid gray;box-sizing: border-box;top: 0;bottom: 0;left: 50%;z-index: -1;}#sk-container-id-4 div.sk-parallel-item {display: flex;flex-direction: column;z-index: 1;position: relative;background-color: white;}#sk-container-id-4 div.sk-parallel-item:first-child::after {align-self: flex-end;width: 50%;}#sk-container-id-4 div.sk-parallel-item:last-child::after {align-self: flex-start;width: 50%;}#sk-container-id-4 div.sk-parallel-item:only-child::after {width: 0;}#sk-container-id-4 div.sk-dashed-wrapped {border: 1px dashed gray;margin: 0 0.4em 0.5em 0.4em;box-sizing: border-box;padding-bottom: 0.4em;background-color: white;}#sk-container-id-4 div.sk-label label {font-family: monospace;font-weight: bold;display: inline-block;line-height: 1.2em;}#sk-container-id-4 div.sk-label-container {text-align: center;}#sk-container-id-4 div.sk-container {/* jupyter's `normalize.less` sets `[hidden] { display: none; }` but bootstrap.min.css set `[hidden] { display: none !important; }` so we also need the `!important` here to be able to override the default hidden behavior on the sphinx rendered scikit-learn.org. See: https://github.com/scikit-learn/scikit-learn/issues/21755 */display: inline-block !important;position: relative;}#sk-container-id-4 div.sk-text-repr-fallback {display: none;}</style><div id=\"sk-container-id-4\" class=\"sk-top-container\"><div class=\"sk-text-repr-fallback\"><pre>SVC(C=100, kernel=&#x27;sigmoid&#x27;)</pre><b>In a Jupyter environment, please rerun this cell to show the HTML representation or trust the notebook. <br />On GitHub, the HTML representation is unable to render, please try loading this page with nbviewer.org.</b></div><div class=\"sk-container\" hidden><div class=\"sk-item\"><div class=\"sk-estimator sk-toggleable\"><input class=\"sk-toggleable__control sk-hidden--visually\" id=\"sk-estimator-id-4\" type=\"checkbox\" checked><label for=\"sk-estimator-id-4\" class=\"sk-toggleable__label sk-toggleable__label-arrow\">SVC</label><div class=\"sk-toggleable__content\"><pre>SVC(C=100, kernel=&#x27;sigmoid&#x27;)</pre></div></div></div></div></div>"
            ]
          },
          "metadata": {},
          "execution_count": 52
        }
      ]
    },
    {
      "cell_type": "markdown",
      "source": [
        "## Prediction"
      ],
      "metadata": {
        "id": "ZvA2JmHqHEc2"
      }
    },
    {
      "cell_type": "code",
      "source": [
        "y_pred = classifier.predict(x_test)"
      ],
      "metadata": {
        "id": "ocKOv-KP1Mte"
      },
      "execution_count": 53,
      "outputs": []
    },
    {
      "cell_type": "markdown",
      "source": [
        "## Evaluation"
      ],
      "metadata": {
        "id": "XCp2QJYmHM4Q"
      }
    },
    {
      "cell_type": "markdown",
      "source": [],
      "metadata": {
        "id": "FC-uYfjMHPvO"
      }
    },
    {
      "cell_type": "code",
      "source": [
        "from sklearn.metrics import roc_curve, classification_report, confusion_matrix, accuracy_score"
      ],
      "metadata": {
        "id": "N8u8VS3uzuQg"
      },
      "execution_count": 55,
      "outputs": []
    },
    {
      "cell_type": "code",
      "source": [
        "confusion_matrix(y_test,y_pred)"
      ],
      "metadata": {
        "colab": {
          "base_uri": "https://localhost:8080/"
        },
        "id": "9sLwFuKUzuNL",
        "outputId": "938c3e05-8803-4093-bec5-736892fe2b0c"
      },
      "execution_count": 56,
      "outputs": [
        {
          "output_type": "execute_result",
          "data": {
            "text/plain": [
              "array([[3013,  293],\n",
              "       [ 188,   86]])"
            ]
          },
          "metadata": {},
          "execution_count": 56
        }
      ]
    },
    {
      "cell_type": "code",
      "source": [
        "print(classification_report(y_test,y_pred))"
      ],
      "metadata": {
        "colab": {
          "base_uri": "https://localhost:8080/"
        },
        "id": "LucKrLDizuKh",
        "outputId": "74ffe527-4296-4c9c-d210-179a217d0da7"
      },
      "execution_count": 57,
      "outputs": [
        {
          "output_type": "stream",
          "name": "stdout",
          "text": [
            "              precision    recall  f1-score   support\n",
            "\n",
            "           0       0.94      0.91      0.93      3306\n",
            "           1       0.23      0.31      0.26       274\n",
            "\n",
            "    accuracy                           0.87      3580\n",
            "   macro avg       0.58      0.61      0.59      3580\n",
            "weighted avg       0.89      0.87      0.88      3580\n",
            "\n"
          ]
        }
      ]
    },
    {
      "cell_type": "code",
      "source": [
        "accuracy_score(y_test,y_pred)"
      ],
      "metadata": {
        "colab": {
          "base_uri": "https://localhost:8080/"
        },
        "id": "z1Aft5xgKFhi",
        "outputId": "cc6ac45f-e809-4fe2-c86f-a0dbec951f7a"
      },
      "execution_count": 58,
      "outputs": [
        {
          "output_type": "execute_result",
          "data": {
            "text/plain": [
              "0.8656424581005586"
            ]
          },
          "metadata": {},
          "execution_count": 58
        }
      ]
    },
    {
      "cell_type": "code",
      "source": [
        "roc_curve(y_test,y_pred)"
      ],
      "metadata": {
        "colab": {
          "base_uri": "https://localhost:8080/"
        },
        "id": "-wctCXktKOru",
        "outputId": "eebb1e02-6373-44bb-8586-58510f200ce3"
      },
      "execution_count": 59,
      "outputs": [
        {
          "output_type": "execute_result",
          "data": {
            "text/plain": [
              "(array([0.        , 0.08862674, 1.        ]),\n",
              " array([0.        , 0.31386861, 1.        ]),\n",
              " array([2, 1, 0]))"
            ]
          },
          "metadata": {},
          "execution_count": 59
        }
      ]
    }
  ]
}